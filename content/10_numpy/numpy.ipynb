{
 "cells": [
  {
   "cell_type": "raw",
   "id": "100e62b2-820b-4f51-9877-cda269a8d3e4",
   "metadata": {},
   "source": [
    "block: content\n",
    "label: numpy"
   ]
  },
  {
   "cell_type": "markdown",
   "id": "ffa0a978-a2f1-4e08-b374-ee9edc829474",
   "metadata": {},
   "source": [
    "# Managing Big Arrays with Numpy\n",
    "Numpy is a package that provides a special array datatype. Numpy arrays are compact, fast, and are often preferable to Python lists.\n",
    "\n",
    "Don't misunderstand me - Python lists are a great tool. They can hold any datatype and are easily resize-able. You can also use the list comprehension syntax to make new lists. Analysts shouldn't hesitate to use lists for reasonably-sized datasets. Do you have hundreds of items? Thousands? Maybe even tens of thousands? A list is probably fine for these situations If your calculations are not too complex.\n",
    "\n",
    "But what if you have millions of items in your data structure? Or more? You might be happier if you use a Numpy array for such large amounts of data. Here's why:\n",
    "* Operations with large datasets are faster with Numpy.\n",
    "* Pandas uses Numpy under the hood to store data, so a good understanding of Numpy will help you get more out of Pandas.\n",
    "* Numpy operations are *element-wise* operations, which allows you to accomplish more with less code. This notebook will explain what *element-wise* means.\n",
    "* Numpy is used in many Python programs, so understanding Numpy will help you understand other people's code.\n",
    "* Understanding Numpy will help you understand how your computer's memory works."
   ]
  },
  {
   "cell_type": "markdown",
   "id": "e5b79cf7-fc22-43df-9ba1-b60d7793f88e",
   "metadata": {
    "tags": []
   },
   "source": [
    "## Notebook Setup\n",
    "### If Running this Notebook on Google Colab\n",
    "Un-comment and run the next cell to download data files into the local folder on Google Colab."
   ]
  },
  {
   "cell_type": "code",
   "execution_count": null,
   "id": "e8235300-3153-46bc-bcac-6f430699cff5",
   "metadata": {
    "tags": []
   },
   "outputs": [],
   "source": [
    "# !wget -nv https://raw.githubusercontent.com/irs1318dev/python2023/main/output/10_numpy/get_files.sh\n",
    "# !bash get_files.sh"
   ]
  },
  {
   "cell_type": "markdown",
   "id": "89053471-7087-4ee8-aa43-cf731e89cbfd",
   "metadata": {},
   "source": [
    "## Importing Numpy\n",
    "Numpy is always imported as `np`.\n",
    "\n",
    "{% index: Numpy %}"
   ]
  },
  {
   "cell_type": "code",
   "execution_count": null,
   "id": "b36385b4-fe31-456d-9f80-daae7b8fd2c0",
   "metadata": {
    "tags": []
   },
   "outputs": [],
   "source": [
    "# Importing Numpy\n",
    "import numpy as np\n",
    "\n",
    "# Other Packages\n",
    "import math\n",
    "import sys\n",
    "\n",
    "import random\n",
    "import pandas as pd\n",
    "import plotly.express as px"
   ]
  },
  {
   "cell_type": "markdown",
   "id": "92d9af16-2429-4c60-8a8e-3543354cf943",
   "metadata": {},
   "source": [
    "## Getting Started\n",
    "In this section we'll learn how to create Numpy arrays and access their contents.\n",
    "\n",
    "### Ranges with Numpy\n",
    "Remember Python's `range` function? You can use it to create a list of sequential numbers."
   ]
  },
  {
   "cell_type": "code",
   "execution_count": null,
   "id": "a7ee9273-7b0b-4a56-b310-31caa78b081d",
   "metadata": {
    "tags": []
   },
   "outputs": [],
   "source": [
    "range_list = list(range(10))\n",
    "range_list"
   ]
  },
  {
   "cell_type": "markdown",
   "id": "fba37667-8d0a-4504-8600-0aa073042f67",
   "metadata": {},
   "source": [
    "Numpy has an `arange` function that works similarly.\n",
    "\n",
    "{% index:\n",
    "    - numpy.arange: code %}"
   ]
  },
  {
   "cell_type": "code",
   "execution_count": null,
   "id": "d498e553-97d1-45d7-8f1e-752154da3d19",
   "metadata": {
    "tags": []
   },
   "outputs": [],
   "source": [
    "range_array = np.arange(10)\n",
    "range_array"
   ]
  },
  {
   "cell_type": "markdown",
   "id": "3e7ed285-a02f-415c-90a8-e9604e30a6b2",
   "metadata": {},
   "source": [
    "### Introduction to Indexing\n",
    "Extracting a portion of a list or array is called indexing. Python lists and Numpy arrays are indexed in a similar manner.\n",
    "{% index: Numpy, Indexing %}"
   ]
  },
  {
   "cell_type": "code",
   "execution_count": null,
   "id": "0e6896e8-16d4-4a3a-af2b-b4d74f25691b",
   "metadata": {
    "tags": []
   },
   "outputs": [],
   "source": [
    "print(\"Indexing Single Values\")\n",
    "print(range_list[5])\n",
    "print(range_array[5])\n",
    "print(\"Indexing Ranges\")\n",
    "print(range_list[2:6])\n",
    "print(range_array[2:6])\n",
    "print(\"Indexing with Negative Numbers\")\n",
    "print(range_list[-1:-5:-1])\n",
    "print(range_array[-1:-5:-1])"
   ]
  },
  {
   "cell_type": "markdown",
   "id": "31d7853e-dbd1-4fa4-8aa3-0373162a41b4",
   "metadata": {},
   "source": [
    "It's easy to change Python list elements. It's also easy to change Numpy array elements."
   ]
  },
  {
   "cell_type": "code",
   "execution_count": null,
   "id": "efdf018f-4002-4eb9-817f-c1f03fd05f03",
   "metadata": {
    "tags": []
   },
   "outputs": [],
   "source": [
    "range_list[0] = 99\n",
    "print(range_list)\n",
    "range_array[0] = 99\n",
    "print(range_array)"
   ]
  },
  {
   "cell_type": "markdown",
   "id": "b43e3449-0730-464d-bc92-74c73b84f9d7",
   "metadata": {},
   "source": [
    "### Array Datatypes\n",
    "Here is where lists and arrays start behaving differently. We can insert any value into a list.\n",
    "{% index: Numpy, Datatypes %}"
   ]
  },
  {
   "cell_type": "code",
   "execution_count": null,
   "id": "6c6e3ec1-ca14-406b-b1b6-a6228af4d507",
   "metadata": {
    "tags": []
   },
   "outputs": [],
   "source": [
    "range_list[1] = \"This is a string!\"\n",
    "range_list"
   ]
  },
  {
   "cell_type": "markdown",
   "id": "e3c18098-0f8f-4a28-80a5-2a69f83868cb",
   "metadata": {},
   "source": [
    "We get an error if we try to do the same thing with a Numpy array."
   ]
  },
  {
   "cell_type": "code",
   "execution_count": null,
   "id": "f03eb20a-8fa4-481a-a812-f5dda9bef6a9",
   "metadata": {
    "tags": []
   },
   "outputs": [],
   "source": [
    "# range_array[1] = \"This is a string!\"\n",
    "# range_array"
   ]
  },
  {
   "cell_type": "markdown",
   "id": "d7c0452b-f10b-4dbf-88ca-27d0e3f8ef39",
   "metadata": {},
   "source": [
    "All elements in a Numpy array must be the same data type. You can see the data type of any Numpy array by calling its `dtype` property."
   ]
  },
  {
   "cell_type": "code",
   "execution_count": null,
   "id": "ca39fc29-e5c2-479e-91cd-a115c1e33c53",
   "metadata": {
    "tags": []
   },
   "outputs": [],
   "source": [
    "range_array.dtype"
   ]
  },
  {
   "cell_type": "markdown",
   "id": "b192e0fd-19eb-420b-bab1-d36741305138",
   "metadata": {},
   "source": [
    "Each element in `range_array` is a 32-byte integer. Thirty-two byte signed integers have the following minimum and maximum values."
   ]
  },
  {
   "cell_type": "code",
   "execution_count": null,
   "id": "c625da95-2f15-4ac9-86c5-237e4ac8e984",
   "metadata": {
    "tags": []
   },
   "outputs": [],
   "source": [
    "print(f\"Minimum value: {-2**31:,}\")\n",
    "print(f\"Maximum value: {2**31 - 1:,}\")"
   ]
  },
  {
   "cell_type": "markdown",
   "id": "9fb588a2-df46-49fc-aae9-9ce597ca5c18",
   "metadata": {},
   "source": [
    "We could have specified a different datatype when we used `numpy.arange`. For example, if we wanted floating point values:"
   ]
  },
  {
   "cell_type": "code",
   "execution_count": null,
   "id": "064c034c-8f8d-4514-b92d-d5e89c29a2ac",
   "metadata": {
    "tags": []
   },
   "outputs": [],
   "source": [
    "float_array = np.arange(10, dtype=np.float32)\n",
    "float_array"
   ]
  },
  {
   "cell_type": "markdown",
   "id": "67394bef-14bc-43f0-8529-7930feaefb99",
   "metadata": {},
   "source": [
    "See [Numpy's documentation](https://numpy.org/devdocs/reference/arrays.dtypes.html#arrays-dtypes) for a list of datatypes that can be stored in Numpy arrays."
   ]
  },
  {
   "cell_type": "markdown",
   "id": "69c751d5-a7e3-45c9-aab2-46d924125f10",
   "metadata": {},
   "source": [
    "## Creating Numpy Arrays\n",
    "Read this [article from Numpy's documentation on creating arrays](https://numpy.org/doc/stable/user/quickstart.html#array-creation)."
   ]
  },
  {
   "cell_type": "markdown",
   "id": "e9e48b8c-3ca2-4049-a1e4-83e9c93b3278",
   "metadata": {},
   "source": [
    "### Exercises\n",
    "#### Array from List\n",
    "Create a Numpy array from the list provided below. {% index: Numpy, Creating Arrays %}"
   ]
  },
  {
   "cell_type": "code",
   "execution_count": null,
   "id": "23184b1a-a57d-47fa-82dd-fabcd54f5852",
   "metadata": {
    "tags": []
   },
   "outputs": [],
   "source": [
    "# Create Numpy array from a list\n",
    "the_list = [0, 1, 3, 6, 2, 7, 13, 20, 12, 21, 11, 22, 10, 23, 9, 24]\n"
   ]
  },
  {
   "cell_type": "markdown",
   "id": "011eafdb-7768-4f63-ab30-a0af427d7ae5",
   "metadata": {},
   "source": [
    "#### Array of Zeros\n",
    "Use the `zeros` function to create a 3 x 3 array of 32-bit floating point values.\n",
    "{% index:\n",
    "    - numpy.zeros: code %}"
   ]
  },
  {
   "cell_type": "code",
   "execution_count": null,
   "id": "e205a0e3-1114-4c1d-b7e0-9af668d9ed17",
   "metadata": {},
   "outputs": [],
   "source": [
    "# Array of Zeros\n",
    "\n"
   ]
  },
  {
   "cell_type": "markdown",
   "id": "034ffcee-560c-4e18-9dba-33941cb684de",
   "metadata": {},
   "source": [
    "#### Array from a Range\n",
    "Use the `arange` function to create an array of the even integers 0 through 18."
   ]
  },
  {
   "cell_type": "code",
   "execution_count": null,
   "id": "106efcda-f786-44a4-9c85-7a73ac8054bc",
   "metadata": {
    "tags": []
   },
   "outputs": [],
   "source": [
    "# Range Array\n",
    "\n"
   ]
  },
  {
   "cell_type": "markdown",
   "id": "e8e30679-7cf0-4d51-8f88-101c1e895d07",
   "metadata": {},
   "source": [
    "#### Linear Array\n",
    "Use the `linspace` function to create an array of 31 floating point values equally distributed between 0 and 3.\n",
    "{% index:\n",
    "    - numpy.linspace: code %}"
   ]
  },
  {
   "cell_type": "code",
   "execution_count": null,
   "id": "a5e94083-790b-4318-995a-0e030b99364f",
   "metadata": {
    "tags": []
   },
   "outputs": [],
   "source": [
    "# Linspace Array\n",
    "\n"
   ]
  },
  {
   "cell_type": "markdown",
   "id": "16ce576c-b3f2-4180-8c55-1d4f0cbfd41c",
   "metadata": {
    "tags": []
   },
   "source": [
    "## Why Use Numpy?\n",
    "Let's do an experiment to compare processing speeds for Python lists and Numpy arrays. The comparison code is from an [article on Medium by someone named Veyak](https://medium.com/@vakgul/numpy-vs-traditional-python-lists-a-performance-showdown-1e8bebc55933).\n",
    "\n",
    "### Prerequisites\n",
    "By the way, there are two new techniques used in this example.\n",
    "* Python's built-in [zip function](https://docs.python.org/3/library/functions.html#zip)\n",
    "* Numpy *elementwise* operations\n",
    "\n",
    "#### The Zip Function\n",
    "\n",
    "The [zip function](https://docs.python.org/3/library/functions.html#zip) takes two or more lists and returns a list of tuples. The tuples contain the elements from the lists that were passed to `zip`. Here is an example that shows how the `zip` function works.\n",
    "{% index:\n",
    "    zip: code %}"
   ]
  },
  {
   "cell_type": "code",
   "execution_count": null,
   "id": "e563c025-1387-4fcb-b440-bf650761aab6",
   "metadata": {},
   "outputs": [],
   "source": [
    "# Zip Function Example\n",
    "pos_list = list(range(1, 10))\n",
    "neg_list = list(range(-1, -10, -1))\n",
    "print(\"pos_list:\", pos_list)\n",
    "print(\"neg_list:\", neg_list)\n",
    "\n",
    "zip_list = list(zip(pos_list, neg_list))\n",
    "print(\"Zipped list:\", zip_list)"
   ]
  },
  {
   "cell_type": "markdown",
   "id": "c7f07d9d-d6ac-4e55-89a3-fd7b4465a42c",
   "metadata": {},
   "source": [
    " #### Element-wise Operations\n",
    " Numpy arrays support *element-wise* operations. It's easier to show you element-wise operations than explain them.\n",
    " {% index: Numpy, Element-wise Behavior %}"
   ]
  },
  {
   "cell_type": "code",
   "execution_count": null,
   "id": "b9b833e6-1981-405b-a1db-a8cd1c7e1761",
   "metadata": {
    "tags": []
   },
   "outputs": [],
   "source": [
    "array_a = np.array([1, 2, 3, 4])\n",
    "array_b = np.array([10, 20, 30, 40])\n",
    "\n",
    "# Elementwise addition\n",
    "array_a + array_b"
   ]
  },
  {
   "cell_type": "markdown",
   "id": "13b0576f-cc34-469f-9185-1347b0a325c1",
   "metadata": {},
   "source": [
    "Adding two Numpy arrays together resulted in another array where the first element is the sum of the\n",
    "first elements of the two input arrays, the second element is the sum of the second input elements, etc. Numpy behaves like this with all basic math operations. Numpy has [many mathematical functions](https://numpy.org/doc/stable/reference/routines.math.html) and they all have element-wise behavior.\n",
    "\n",
    "### Speed Comparison\n",
    "Let's get back to our speed comparison. We'll make two Python lists and two Numpy arrays, each with 20 million elements. FYI, Python numbers can contain underscores, which makes them easier to read.\n",
    "{% index: Numpy, Speed Comparison %}"
   ]
  },
  {
   "cell_type": "code",
   "execution_count": null,
   "id": "1144ed07-7b11-4a79-abf2-7db21905f4dc",
   "metadata": {},
   "outputs": [],
   "source": [
    "# size of arrays and lists\n",
    "size = 20_000_000  \n",
    " \n",
    "# declaring lists\n",
    "list1 = range(size)\n",
    "list2 = range(size)\n",
    " \n",
    "# declaring arrays\n",
    "array1 = np.arange(size, dtype=np.int32)  \n",
    "array2 = np.arange(size, dtype=np.int32)\n",
    "range_array = np.arange(size)"
   ]
  },
  {
   "cell_type": "markdown",
   "id": "5edf615c-1866-436d-8290-9266b1d40826",
   "metadata": {},
   "source": [
    "We'll use the [time module](https://docs.python.org/3/library/time.html) from the Python Standard Library to time the array and list operations. Let's see how fast we can multiply the 20 million numbers in `list1` by the 20 million numbers in `list2`.\n",
    "{% index:\n",
    "    - time: code %}"
   ]
  },
  {
   "cell_type": "code",
   "execution_count": null,
   "id": "c9631b9f-2d72-4c5a-9c15-49279d0b6bee",
   "metadata": {},
   "outputs": [],
   "source": [
    "# List operations\n",
    "\n",
    "import time\n",
    "initialTime = time.time()\n",
    "\n",
    "# Multiply lists with a list comprehension\n",
    "resultantList = [(a * b) for a, b in zip(list1, list2)]\n",
    "\n",
    "# Calculate execution time\n",
    "list_time = time.time() - initialTime\n",
    "print(f\"Time taken by Lists : {list_time:.4f} seconds\")"
   ]
  },
  {
   "cell_type": "markdown",
   "id": "320c1fd4-9143-43bf-a418-5900d3185475",
   "metadata": {},
   "source": [
    "The time required to multiply the lists by each other will be different on different computers. It took a couple seconds on the mentor's four-year old Surface tablet.\n",
    "\n",
    "Now let's multiply the two Numpy arrays together."
   ]
  },
  {
   "cell_type": "code",
   "execution_count": null,
   "id": "d58e1690-784d-4298-ae53-745a782e660b",
   "metadata": {},
   "outputs": [],
   "source": [
    "# NumPy Array Operations\n",
    "initialTime = time.time()\n",
    "\n",
    "# Elementwise multiplcation of Numpy Arrays\n",
    "resultantArray = array1 * array2\n",
    " \n",
    "# calculating execution time\n",
    "numpy_time = time.time() - initialTime\n",
    "print(f\"Time taken by NumPy Arrays : {numpy_time:.4f} seconds\\n\")"
   ]
  },
  {
   "cell_type": "markdown",
   "id": "a672cfed-f07c-4973-bb46-e6780a92c334",
   "metadata": {},
   "source": [
    "Multiplication of the Numpy arrays took just a fraction of a second. How much faster are the Numpy arrays exactly?"
   ]
  },
  {
   "cell_type": "code",
   "execution_count": null,
   "id": "d3427299-5055-40e7-95c2-df3971cddf77",
   "metadata": {},
   "outputs": [],
   "source": [
    "# Calculating execution time\n",
    "print(f\"Time taken by NumPy Arrays : {numpy_time:.4f} seconds\\n\")\n",
    "\n",
    "msg = (f\"Numpy arrays are {list_time / numpy_time:.0f} \"\n",
    "       \"times faster than Python lists\")\n",
    "print(msg)"
   ]
  },
  {
   "cell_type": "markdown",
   "id": "763134c6-879c-47fa-8d13-2b1ccf5a28ef",
   "metadata": {},
   "source": [
    "Multiplication of the Numpy arrays is typically between 50 and 100 times faster than multiplication with Python lists. A calculation that takes an hour with Python lists will usually take less than a minute with Numpy. Analysts and data scientists don't like waiting several hours for their caclulations to finish, which is why Numpy is a popular Python package.\n",
    "\n",
    "There are two reasons why calculations with Numpy are so much faster than calculations with native Python datatypes.\n",
    "1. Numpy operations are completed by fast, low-level machine code.\n",
    "2. Numpy uses simple datatypes, which allows it to use memory more efficiently.\n",
    "\n",
    "See the optional appendix at the end of this list for more information on why Numpy is faster."
   ]
  },
  {
   "cell_type": "markdown",
   "id": "004240b8-b743-4c85-a458-71c6d2c6eb34",
   "metadata": {},
   "source": [
    "### How to Choose?\n",
    "Numpy arrays are fast and efficient, but they are not always the best choice. There are tasks for which Python lists or Pandas dataframes are more suitable than Numpy arrays.\n",
    "#### When Python Lists are Better\n",
    "\n",
    "1. Use a list when you must store varying or complex data types. \n",
    "    * Numpy arrays work great for primitive data types like integers and floating point values.\n",
    "    * Use a Python list if you need to store different data types in the same list, or if you need to store custom or complex objects.\n",
    "2. Use a list when the number of elements will increase over time.\n",
    "    * Python lists always reserve more memory than they need, just in case programmers want to make the list longer. Operations that increase the size of a list are efficient.\n",
    "    * Increasing the length of a Numpy array, on the other hand, is EXTREMELY INEFFICIENT! It's best to figure out how big your Numpy array needs to be before you create it, then intialize the Numpy array all at once. For example, if you need a 1000 x 1000 element 2D Numpy array, you can initialize it to contain all zeros and then change the elements later.\n",
    "{% index: Numpy vs Lists %}"
   ]
  },
  {
   "cell_type": "markdown",
   "id": "a0aa1c09-be67-4e61-876b-508197b81b45",
   "metadata": {},
   "source": [
    "#### When Pandas is Better\n",
    "Numpy excels with numeric data that all has the same data type. Consider using Pandas for tabular data where different columns have different data types, or if your data contains strings or categorical data. {% index: Numpy vs Pandas %}"
   ]
  },
  {
   "cell_type": "markdown",
   "id": "92cf3e87-162f-4063-ba79-1646f30278aa",
   "metadata": {
    "tags": []
   },
   "source": [
    "## Datasets\n",
    "We'll learn to work with Numpy arrays by exploring two well-known datasets.\n",
    "\n",
    "{% index:\n",
    "    - MNIST Dataset\n",
    "    - Radiological Dataset %}\n",
    "\n",
    "### MNIST Dataset\n",
    "The MNIST dataset was created in 1994 and contains thousands of images of hand-written digits. Many machine learning algorithms have been tested on this dataset. MNIST stands for *modified National Institute of Standards and Technology* (NIST) database. The dataset's digits were hand-written by high-school students and U.S. Census Bureau employees. Most of the exercises will use the MNIST dataset.\n",
    "\n",
    "### Topcoder Radiological Threat Dataset\n",
    "The second dataset is from the [2019 TopCoder competition on detecting radiological threats in urban areas](https://www.topcoder.com/lp/detect-radiation). This competition was sponsored by the United States Department of Energy and NASA. Participants submitted machine learning algorithms to analyze radiation spectra and identify radiological threats. A few of the examples will use the radiation dataset. There is an optional section at the end of this notebook that explains the dataset in greater detail."
   ]
  },
  {
   "cell_type": "markdown",
   "id": "f711a8d9-3a03-4237-9a8d-2acd1fafbff2",
   "metadata": {},
   "source": [
    "## Creating Arrays from Files\n",
    "We already learned how to create Numpy arrays from scratch. In this section, we'll learn how to create Numpy arrays from data stored in a computer file.\n",
    "{% index:\n",
    "    - Numpy, Load Array from File\n",
    "    - numpy.genfromtxt: code %}\n",
    "\n",
    "### Text Files\n",
    "The *digits.csv* file in the *mnist* folder contains data for 5,000 images. This is a subset of the full MNIST dataset, which contains 70,000 images. Open the *digits.csv* folder in a text editor and take a look at it.\n",
    "* Each row contains data for one image.\n",
    "* The values are integers ranging from 0 to 255.\n",
    "\n",
    "We can load the data using [Numpy's genfromtxt function](https://numpy.org/doc/stable/reference/generated/numpy.genfromtxt.html#numpy-genfromtxt)."
   ]
  },
  {
   "cell_type": "code",
   "execution_count": null,
   "id": "1f77956a-70e3-4fd2-a6aa-c1b3006172ca",
   "metadata": {
    "tags": []
   },
   "outputs": [],
   "source": [
    "digit_data = np.genfromtxt(r\"mnist/digits.csv\", delimiter=\",\")\n",
    "digit_data"
   ]
  },
  {
   "cell_type": "markdown",
   "id": "55554ad7-a668-4083-82d1-efcc8f25b1db",
   "metadata": {
    "tags": []
   },
   "source": [
    "By default, `genfromtxt` assumes that the values in a text file are separated by whitespace like spaces or tabs. The values in *digits.csv* are separated by commas, so we had to pass a comma character to the `delimiter` parameter for `genfromtxt` to correctly read the file.\n",
    "\n",
    "When we print large Numpy arrays, Numpy minimizes the required display space by skipping the middle rows and columns. The end result is that we can see the four corners of the digits array. We can still learn something about our array even though we're only seeing a small fraction of its contents. For example, the period after each digit tells us that Numpy loaded the data as floating point values. Numpy arrays have a `dtype` property that will tell us what the array's datatype is."
   ]
  },
  {
   "cell_type": "code",
   "execution_count": null,
   "id": "52c82ec3-499f-455d-95c2-aee0a004cd46",
   "metadata": {
    "tags": []
   },
   "outputs": [],
   "source": [
    "digit_data.dtype"
   ]
  },
  {
   "cell_type": "markdown",
   "id": "095dae10-34dc-4041-9f29-b1918829f777",
   "metadata": {},
   "source": [
    "Numpy interpreted the CSV file's contents as 64-bit (8-byte) floating point values. We know that the dataset contains only integers ranging from 0 to 255. A single byte is sufficient to store numbers in this range, so using an 8-byte floating point data type is overkill.\n",
    "\n",
    "Let's reload the array as unsigned 8-bit integers. We'll display the number of bytes required to store the array in memory, both as a floating point array and as an integer array."
   ]
  },
  {
   "cell_type": "code",
   "execution_count": null,
   "id": "2c0344b5-3954-4196-a57f-cec0f4ab3b36",
   "metadata": {
    "tags": []
   },
   "outputs": [],
   "source": [
    "print(f\"Size of floating point array in bytes: {sys.getsizeof(digit_data):,}\")\n",
    "\n",
    "# Reload array as unsigned 8-bit integers\n",
    "digit_data = np.genfromtxt(r\"mnist/digits.csv\", delimiter=\",\", dtype=np.uint8)\n",
    "\n",
    "print(f\"Size of 8-bit integer array in bytes: {sys.getsizeof(digit_data):,}\")"
   ]
  },
  {
   "cell_type": "markdown",
   "id": "339767c6-38c4-430f-ac27-4cf5b5abe50b",
   "metadata": {},
   "source": [
    "Unsurprisingly, the integer array requires eight times less space in memory than the floating point array, about 4 Mb instead of 31 Mb. This is advantageous. Operations on arrays with smaller datatypes are faster and there is less chance of running low on memory. Pay attention to data types when using Numpy, and use a smaller datatype if practical. Review the [Numpy User Guide article on data types](https://numpy.org/doc/stable/user/basics.types.html) to see a list of Numpy's basic data types."
   ]
  },
  {
   "cell_type": "markdown",
   "id": "fc38ce1a-81de-425e-8b59-18ec12c6b525",
   "metadata": {},
   "source": [
    "### Numpy Files\n",
    "The Numpy package has its own file format for writing Numpy arrays to disk. Numpy files usually end in *.npy* or *.npz* and they can be loaded into an array with `numpy.load`.\n",
    "\n",
    "Let's use `numpy.load` to load one of the files from the radiation dataset.\n",
    "{% index:\n",
    "    - numpy.load: code %}"
   ]
  },
  {
   "cell_type": "code",
   "execution_count": null,
   "id": "abae60cf-55a0-430f-97ba-23435b5fb48f",
   "metadata": {
    "tags": []
   },
   "outputs": [],
   "source": [
    "gammas = np.load(r\"rad/spectrum-107702.npy\")\n",
    "print(gammas)\n",
    "print(\"Datatype:\", gammas.dtype)"
   ]
  },
  {
   "cell_type": "markdown",
   "id": "5c631417-4006-44b1-b104-1926af3f0fb3",
   "metadata": {
    "tags": []
   },
   "source": [
    "Numpy files are easy to load because the datatype is specified in the file. In addition, they are compact and load fast. The Numpy format is better for storing large arrays than text formats like CSV."
   ]
  },
  {
   "cell_type": "markdown",
   "id": "0a4ae5bb-b8da-4fc3-821f-0d773fbac063",
   "metadata": {},
   "source": [
    "## Array Properties\n",
    "We already used the `dtype` property to see an array's data type. Numpy arrays have several other properties that provide information about arrays: `ndim`, `shape`, `size`, and `itemsize`. Read about them in the [Numpy Quickstart Guide](https://numpy.org/doc/stable/user/quickstart.html#the-basics). Read up to the *Array Creation* section (you already read that section)."
   ]
  },
  {
   "cell_type": "markdown",
   "id": "f7d7d4f6-08a6-4036-9016-c9efc948392c",
   "metadata": {},
   "source": [
    "### Exercises\n",
    "#### MNIST Digits Properties\n",
    "Display the values of the  `dtype`, `ndim`, `shape`, `size`, and `itemsize` properties for the `digit_data` array that was defined earlier."
   ]
  },
  {
   "cell_type": "code",
   "execution_count": null,
   "id": "92609cd4-ad21-4285-8052-6ef8d0b4f16d",
   "metadata": {},
   "outputs": [],
   "source": [
    "# digits array properties\n",
    "\n"
   ]
  },
  {
   "cell_type": "markdown",
   "id": "827a4484-33d3-41f8-b682-24368fa79c3c",
   "metadata": {},
   "source": [
    "#### Spectrum Properties\n",
    "Repeat the previous exercise with the `spectrum` array defined earlier."
   ]
  },
  {
   "cell_type": "code",
   "execution_count": null,
   "id": "d71018ba-2d45-4463-89cf-0f0efb6e4cd8",
   "metadata": {},
   "outputs": [],
   "source": [
    "# spectrum array properties\n",
    "\n"
   ]
  },
  {
   "cell_type": "markdown",
   "id": "da065cc7-4c49-4d9c-a63d-004f36c9d49d",
   "metadata": {},
   "source": [
    "#### Calculate Memory Requirements\n",
    "\n",
    "1. Use the Numpy array properties to *calculate* the memory required to store the `digits` and `spectrum` arrays. Which array requires more memory to store?\n",
    "\n",
    "HINT: Calculate the required memory by multiplying two of the array properties together.\n",
    "\n",
    "2. For both the `digit_data` and `spectrum` arrays, compare the calculated memory to the actual memory used as reported by the `sys.getsizeof` function. How close is the calculated memory to the actual memory? Is the difference the same for both arrays?"
   ]
  },
  {
   "cell_type": "code",
   "execution_count": null,
   "id": "7c16b68c-6d3e-4715-a515-3a9ac5868f82",
   "metadata": {
    "tags": []
   },
   "outputs": [],
   "source": [
    "# Calculate array memory requirements\n",
    "\n",
    "\n",
    "# Compare calculated memory to actual memory used with sys.getsizeof()\n",
    "\n"
   ]
  },
  {
   "cell_type": "code",
   "execution_count": null,
   "id": "f28beef6-cfce-4dcb-a0de-89aa090c2e69",
   "metadata": {},
   "outputs": [],
   "source": [
    "# What's the difference between calculated and actual memory?\n",
    "\n"
   ]
  },
  {
   "cell_type": "markdown",
   "id": "7022a0be-a542-4813-b539-2d0ff568b630",
   "metadata": {},
   "source": [
    "## Indexing Arrays\n",
    "Indexing an array refers to the process of extracting a portion of an array. The name *indexing* comes from the practice of using numeric indices to access array elements. there are many ways to index Numpy arrays.\n",
    "\n",
    "### The Digits Array\n",
    "The digits array is a two-dimensional array, with 5,000 rows and 785 columns. Each row contains the information required to construct a 28 x 28 pixel grey-scale image of the digit.\n",
    "* The first number in each row (at index 0) ranges from 0 to 9 and identifies the hand-written digit.\n",
    "* The remaining 784 numbers in each row (indexes 1 - 784) specify the color of an individual pixel within the image. Zero corresponds to white and 255 corresponds to black. Numbers between 0 and 255 represent grey pixels, with higher numbers corresponding to darker shades.\n",
    "* The top row of the image is represented by the numbers at indexes 1 - 28, the second row is represented by the numbers at indexes 29 - 56, and so on. (Note that 28 times 28 is 784.)\n",
    "\n",
    "It will be easier to work with the digit data if we separate the image labels from the image data. First, let's extract the image data."
   ]
  },
  {
   "cell_type": "code",
   "execution_count": null,
   "id": "4cd1ee1a-3dae-4733-bc6d-f5f42275c5af",
   "metadata": {
    "tags": []
   },
   "outputs": [],
   "source": [
    "# Extract all rows and all columns AFTER (not including) the first column\n",
    "digits = digit_data[:, 1:]\n",
    "digits.shape"
   ]
  },
  {
   "cell_type": "markdown",
   "id": "d662d6a6-491a-4186-a313-0f5def990392",
   "metadata": {
    "tags": []
   },
   "source": [
    "We can extract portions of a Numpy array by placing row or column numbers in square brackets, similar to how we extract portions of a Python list or Pandas dataframe. Extracting data in this manner is called indexing, because we're using row and column indexes to identify the data that we want.\n",
    "\n",
    "The `digit_data` array has two dimensions, so we need to include two different indexing objects within the square brackets, one for each dimension. Use commas to separate the dimensions if there is more than one dimension. The indexing objects can be either an integer or a slice object. Integers are used to select a single row or column. Slice objects are used to select a range of indexes or columns."
   ]
  },
  {
   "cell_type": "markdown",
   "id": "0c911b47-54f8-44d6-ad5b-b48526713011",
   "metadata": {},
   "source": [
    "### Slice Objects\n",
    "Slice objects are constructed by combining integers and colons.\n",
    "```python\n",
    "# Slice Object Syntax\n",
    "start:stop:step\n",
    "```\n",
    "{% index: Numpy, Slice Objects %}\n",
    "In a slice object, everything except for the first colon is optional.\n",
    "* **start**: The index of the first column or row to be selected.\n",
    "* **stop**: The index of the column *immediately after* the last column or row to be selected.\n",
    "* **step**: Controls which columns between *start* and *stop* are selected, and in which order.\n",
    "\n",
    "If *start* is omitted, the slice object starts at the first row or column. If *stop* is omitted, the slice object selects up to the last row or column.\n",
    "\n",
    "The expression `digit_data[:, 1:]` contains two slice objects. The first slice object controls which rows are selected, and the second slice object controls which columns are selected.\n",
    "* The first slice object is `:`, a single colon. Since both start and stop are omitted, this slice object will select all rows.\n",
    "* The second slice object is `1:`. It will select all columns except for the first column (column 0).\n",
    "\n",
    "Here are some more facts about slice objects:\n",
    "* A negative index for *start* or *stop* counts backwards from the last row or column. E.g., the slice `-3:` would select the final three rows or columns.\n",
    "* A *step* value of 2 selects every other row or column. A *step* of three would select every third row or column, and so on.\n",
    "* Negative *step* values cause rows or columns to be selected in reverse order."
   ]
  },
  {
   "cell_type": "markdown",
   "id": "596b6b3d-f8b3-4d22-829c-9e833f7d09fb",
   "metadata": {},
   "source": [
    "## Digit Dataset Exercises - Part 1\n",
    "### Digit Labels\n",
    "Use a slice object and an integer to select the first column of the `digit_data` array. Name the column `digit_labels`."
   ]
  },
  {
   "cell_type": "code",
   "execution_count": null,
   "id": "c23ab64d-9802-48b3-b4bc-839fb2afef69",
   "metadata": {
    "tags": []
   },
   "outputs": [],
   "source": [
    "# Digit Labels Exercise\n",
    "\n",
    "\n",
    "# Evaluates to True if your arrays is the correct shape.\n",
    "print(digit_labels)\n",
    "digit_labels.shape == (5000,)"
   ]
  },
  {
   "cell_type": "code",
   "execution_count": null,
   "id": "6c2011f5-a13f-41a5-8d93-3daf6979b4bc",
   "metadata": {
    "tags": []
   },
   "outputs": [],
   "source": [
    "########### DELETE BEFORE PUBLISHING ####################\n",
    "digit_labels = digit_data [:, 0]"
   ]
  },
  {
   "cell_type": "markdown",
   "id": "750e43ee-acbb-4d19-bedd-768da6c30ec7",
   "metadata": {},
   "source": [
    "### Check the Labels\n",
    "Verify the `digit_labels` array contains only the numbers 0 through 9.\n",
    "\n",
    "HINT: Use the [numpy.unique](https://numpy.org/doc/stable/reference/generated/numpy.unique.html#numpy-unique) function."
   ]
  },
  {
   "cell_type": "code",
   "execution_count": null,
   "id": "5e1c156d-af12-4b2e-a135-628e2cb68e3a",
   "metadata": {},
   "outputs": [],
   "source": [
    "# Verify digit_labels contains only numbers 0 through 9."
   ]
  },
  {
   "cell_type": "markdown",
   "id": "54c233c2-b747-407c-9841-593f0bc23a2f",
   "metadata": {},
   "source": [
    "### Digit Counts\n",
    "How many times does the digit 9 occur in the dataset?\n",
    "\n",
    "HINT: Use the digit_labels array and the [Numpy bincount function](https://numpy.org/doc/stable/reference/generated/numpy.bincount.html#numpy-bincount) to figure this out."
   ]
  },
  {
   "cell_type": "code",
   "execution_count": null,
   "id": "cf24ad93-df43-448e-a5b2-503969d254e8",
   "metadata": {},
   "outputs": [],
   "source": [
    "# How Many 9s?\n",
    "\n"
   ]
  },
  {
   "cell_type": "markdown",
   "id": "78a7b14c-3df4-46ed-88e0-c578b35469d4",
   "metadata": {},
   "source": [
    "### Top Rows\n",
    "Create an array that contains the top image row for all 5,000 images. Name the array `top_rows`."
   ]
  },
  {
   "cell_type": "code",
   "execution_count": null,
   "id": "3c607e33-e35d-429f-abd0-ae6d7ec1d2b6",
   "metadata": {
    "tags": []
   },
   "outputs": [],
   "source": [
    "\n",
    "\n",
    "# Evaluates to True if your arrays is the correct shape.\n",
    "top_rows.shape == (5000, 28)"
   ]
  },
  {
   "cell_type": "markdown",
   "id": "0e37fd20-fcaf-4064-8f9f-74b88f5601f2",
   "metadata": {
    "tags": []
   },
   "source": [
    "## More Element-wise Operations\n",
    "We already mentioned that one of the cool things about Numpy is its support for  operations. We'll use the radiation dataset to demonstrate another element-wise operations. This dataset is interesting because it's used by machine learning engineers and scientists who study radiation detection algorithms.\n",
    "\n",
    "First, let's take a look at one of the files. Earlier we loaded the file *rad/spectrum-107702.npy* into the `gammas` array"
   ]
  },
  {
   "cell_type": "code",
   "execution_count": null,
   "id": "2fcfb1c2-30a1-46f8-a1ca-6690c8f886b9",
   "metadata": {
    "tags": []
   },
   "outputs": [],
   "source": [
    "print(\"Array Shape:\", gammas.shape)\n",
    "gammas[:10, :]"
   ]
  },
  {
   "cell_type": "markdown",
   "id": "a1d94635-48be-4ddd-a77b-c1381cbe1ab6",
   "metadata": {},
   "source": [
    "The `gammas` array consists over 80,000 rows, with each row representing a single gamma ray that reaches the radiation detector. Gamma rays are high-energy photons that are emitted by atomic nuclei when they decay. There are two columns:\n",
    "* The first column is the **elapsed time in microsecends** since the last gamma ray was detected. The elapsed time for the first gamma ray is zero.\n",
    "* The second column is the **energy of the gamma ray in kilo-electron-volts (kev)**. FYI, a gamma ray's energy is proportional to its frequency. The relationship is described by the equation $E = h\\nu$ where $E$ is energy, $\\nu$ ([the Greek letter nu](https://en.wikipedia.org/wiki/Nu_(letter)), pronounced like \"new\") is the photon's frequency, and $h$ is Planck's constant (4.136E-12 kev / Hz). This equation is the source of the dumbest joke in all of physics. Seriously, never ask a physicist \"What's new?\".\n",
    "\n",
    "### Converting from Elapsed to Cumulative Times\n",
    "The array would be more useful if the first column contained the elapsed time since the beginning of the run. We can calculate this with Numpy's [cumsum method](https://numpy.org/doc/stable/reference/generated/numpy.ndarray.cumsum.html#numpy.ndarray.cumsum), which calculates cumulative sums from an input array."
   ]
  },
  {
   "cell_type": "code",
   "execution_count": null,
   "id": "9ae09ce9-a74d-4322-878a-3c027faca757",
   "metadata": {
    "tags": []
   },
   "outputs": [],
   "source": [
    "elapsed_time = gammas[:, 0].cumsum()\n",
    "elapsed_time[:10]"
   ]
  },
  {
   "cell_type": "code",
   "execution_count": null,
   "id": "e6c6991e-7373-470a-88f0-14a99a0e436d",
   "metadata": {
    "tags": []
   },
   "outputs": [],
   "source": [
    "elapsed_time[-1] / 1_000_000"
   ]
  },
  {
   "cell_type": "markdown",
   "id": "9ad08460-1d2f-4223-8430-094d3d3e7705",
   "metadata": {},
   "source": [
    "It's easy to verify that the `cumsum` method worked as expected by comparing the original and cumulative time sequences.\n",
    "\n",
    "### Converting from Microseconds to Seconds\n",
    "Microseconds are not an intuitive unit of time, so let's convert them to seconds and save the results into a new array. The new array will need a floating point datatype."
   ]
  },
  {
   "cell_type": "code",
   "execution_count": null,
   "id": "29284b82-b62c-4985-b431-77e647e5dc24",
   "metadata": {
    "tags": []
   },
   "outputs": [],
   "source": [
    "# Create a new, empty array full of zeros.\n",
    "elapsed_gammas = np.zeros(gammas.shape, dtype=np.float32)\n",
    "elapsed_gammas"
   ]
  },
  {
   "cell_type": "code",
   "execution_count": null,
   "id": "12ba7e5e-6141-42de-9cfd-407fac1172c2",
   "metadata": {
    "tags": []
   },
   "outputs": [],
   "source": [
    "# Calculate the times in seconds and write to the first column of the new array.\n",
    "elapsed_gammas[:, 0] = elapsed_time / 1_000_000\n",
    "# Write the gamma ray energies to the second column of the new array.\n",
    "elapsed_gammas[:, 1] = gammas[:, 1]\n",
    "# Display the first 10 rows of the new array.\n",
    "elapsed_gammas[:10, :]"
   ]
  },
  {
   "cell_type": "markdown",
   "id": "51a8f662-d763-4a06-825b-7df1b81defb2",
   "metadata": {},
   "source": [
    "Let's review what we just did.\n",
    "1. We used the [zeros function](https://numpy.org/doc/stable/reference/generated/numpy.zeros.html#numpy.zeros) to create an empty array of floating point values with the same shape as the original spectrum array.\n",
    "2. We converted the time from microseconds to seconds.\n",
    "3. We saved the converted times and gamma ray energies into the new array.\n",
    "\n",
    "Step **#2** contains an element-wise operation. The expression `elsapsed_time / 1_000_000` generated a new array where every element in the original array, *elapsed_time*, was divided by 1,000,000. FYI, element-wise operations are sometimes called *vectorized* operations. All mathematical operations (e.g., `+`, `-`, `*`, `%`, etc.) on Numpy arrays are *element-wise*, with the operation being conducted on each individual element.\n",
    "\n",
    "Python lists don't have element-wise operations. for example, attempting to divide a Python list by a number causes an error."
   ]
  },
  {
   "cell_type": "code",
   "execution_count": null,
   "id": "1fa0dae5-cbda-4d60-8b3e-a105d03d8e7f",
   "metadata": {
    "tags": []
   },
   "outputs": [],
   "source": [
    "plist = range(100)\n",
    "plist / 1000"
   ]
  },
  {
   "cell_type": "markdown",
   "id": "27b564b8-f3a9-46dc-9f6d-c26dad2ca7a7",
   "metadata": {},
   "source": [
    "We could have converted microseconds to seconds by creating a `for` loop that iterated over every row of the array and divided each element by 1,000,000, but that would have been incredibly slow. When a `for` loop is used, the division operation is conducted by the Python interpreter. When we use a element-wise Numpy operation, the division is conducted by the CPU using fast machine-level code. Machine-level code is orders of magnitude faster than the Python interpreter. In general, when working in Python, you should use element-wise operations if they are available."
   ]
  },
  {
   "cell_type": "markdown",
   "id": "d4fd94b5-e680-4e75-9b3f-f44412292d21",
   "metadata": {},
   "source": [
    "## Searching Numpy Arrays\n",
    "\n",
    "### Boolean Indexing\n",
    "Now back to the digits dataset. Suppose we wanted to know how many pixels in the dataset have value 255? Or how many pixels have a value of 10 or less? Or between 1 and 10? This is easy to calculate.\n",
    "{% index: Numpy, Boolean Indexing %}"
   ]
  },
  {
   "cell_type": "code",
   "execution_count": null,
   "id": "c4e8092e-3fe1-4198-8cb1-7168ec8234ce",
   "metadata": {
    "tags": []
   },
   "outputs": [],
   "source": [
    "num_digits_255 = digits[digits == 0].size\n",
    "print(f\"Pixels with Value == 255: {num_digits_255:,}\")\n",
    "\n",
    "num_digits_lt_10 = len(digits[digits <= 10])\n",
    "print(f\"Pixels with Value <= 10: {num_digits_lt_10:,}\")\n",
    "\n",
    "num_digits_1_to_10 = (\n",
    "    digits[\n",
    "        np.logical_and(\n",
    "            digits > 0,\n",
    "            digits <= 10)\n",
    "    ]\n",
    "    .size\n",
    ")\n",
    "print(f\"Pixels with value > 0 but <= 10: {num_digits_1_to_10:,}\")"
   ]
  },
  {
   "cell_type": "markdown",
   "id": "ea828ee4-b033-4066-80b3-72b245e5a534",
   "metadata": {},
   "source": [
    "There are two things you need to know to understand why this works: element-wise comparison operations and indexing with Boolean arrays.\n",
    "\n",
    "#### Element-wise Comparison Operations\n",
    "Remember how operations on Numpy arrays are element-wise? This applies to comparison operations. so when we use a comparison operator like `==` or `<` with a Numpy array, we get another Numpy array of Boolean values. Here's an example: {% index: Numpy, Array Comparisons %}"
   ]
  },
  {
   "cell_type": "code",
   "execution_count": null,
   "id": "c0f08984-561d-45e9-9e72-40ff77b19964",
   "metadata": {
    "tags": []
   },
   "outputs": [],
   "source": [
    "grid = np.arange(16).reshape((4,4))\n",
    "print(grid)\n",
    "div_by_3 = grid % 3 == 0\n",
    "print(div_by_3)"
   ]
  },
  {
   "cell_type": "markdown",
   "id": "75af879c-b4bd-4393-83fc-935eb071f77e",
   "metadata": {},
   "source": [
    "#### Indexing with Boolean Arrays\n",
    "If we index an array with a Boolean array that has the same shape as the array being indexed, we get an array that contains only the values corresponding to the Boolean array's true values. For example:"
   ]
  },
  {
   "cell_type": "code",
   "execution_count": null,
   "id": "26b68b6c-40ae-4a36-927e-fdd7c763b395",
   "metadata": {
    "tags": []
   },
   "outputs": [],
   "source": [
    "grid[div_by_3]"
   ]
  },
  {
   "cell_type": "markdown",
   "id": "ed777491-2de2-4ada-911a-74963112089f",
   "metadata": {},
   "source": [
    "### Finding Items with Argmax\n",
    "\n",
    "Now suppose we want to find the digit that has the most, darkest pixels. We could sum the pixels for each digit and then use a `for` loop to search through the sums for the highest value, but there is an easier way to do this."
   ]
  },
  {
   "cell_type": "code",
   "execution_count": null,
   "id": "b03482ac-4fc1-4913-94b2-829c24095480",
   "metadata": {
    "tags": []
   },
   "outputs": [],
   "source": [
    "digits.sum(axis=1).argmax()"
   ]
  },
  {
   "cell_type": "markdown",
   "id": "9ea9374e-d7ff-47e5-bb28-631a0b5a039b",
   "metadata": {},
   "source": [
    "Why did this work?\n",
    "* First, we used the [Numpy's sum method](https://numpy.org/doc/stable/reference/generated/numpy.ndarray.sum.html#numpy.ndarray.sum) to calculate the sum of values for each row in the array. We used the `axis` parameter to tell Numpy to sum along the rows. If we had passed `axis=0`, Numpy would have calculated a sum for each column.\n",
    "* Next, we used [Numpy's argmax function](https://numpy.org/doc/stable/reference/generated/numpy.argmax.html#numpy-argmax) to get the index of the array item with the highest value.\n",
    "{% index:\n",
    "    - numpy.argmax: code %}\n",
    "\n",
    "#### Understanding the Axis Parameter\n",
    "Many Numpy methods and functions accept an `axis` parameter. The `axis` parameter specifies which array dimension should be operated on. It accepts an integer ranging from 0 to the number of array dimensions minus one. So operations on a 2D array will accept values of 0 or 1 for the axis parameter, 3D arrays will accept 0, 1, or 2, and so on.\n",
    "{% index: Numpy, axis parameter %}\n",
    "\n",
    "The `axis` parameter sometimes seems counter-intuitive. If dimension 0 corresponds to the array's rows, and dimension 1 corresponds to the array's columns, then it seems like we should pass 0 to the `axis` parameter to calculate a sum for each row, not 1. Here's the key: Pass the number of the dimension *whose length will be changed* to the `axis` parameter. When we calculate a sum for each row, the resulting array has length 5,000, or a value for each row. But the 784 columns have been collapsed to a single value, the sum. So the number of rows stayed the same, but the number of columns changed. So to get this behavior, we have to pass the dimension number for the columns, 1, to the `axis` parameter.\n",
    "\n",
    "This behavior makes more sense if you consider arrays of three or more dimensions. If we want to calculate sums along one dimension of a 3D array, we pass in the number of the single dimension that we want to sum. The alternative would be to pass in all the dimensions that *we don't want to sum*, which would be onerous. [Here is a good article that explains this concept.](https://towardsdatascience.com/a-visual-guide-to-multidimensional-numpy-array-aggregation-97a8960b3c59)"
   ]
  },
  {
   "cell_type": "markdown",
   "id": "84b5e9b5-52ac-4506-a4a9-990b51fadb9c",
   "metadata": {},
   "source": [
    "### Finding Specific Digits\n",
    "We can use Boolean indexing to find all arrays for a specific digit. Let's find all the fours."
   ]
  },
  {
   "cell_type": "code",
   "execution_count": null,
   "id": "40eb8828-b3d3-4b22-a3d6-ba4ac7200ca4",
   "metadata": {
    "tags": []
   },
   "outputs": [],
   "source": [
    "fours = digit_data[digit_data[:, 0] == 4]\n",
    "fours.shape"
   ]
  },
  {
   "cell_type": "markdown",
   "id": "c148aff0-c0d5-4417-9608-46127dfe0c1d",
   "metadata": {},
   "source": [
    "We used Boolean indexing to filter the dataset to only the rows where the first column (the digit label) is equal to four."
   ]
  },
  {
   "cell_type": "markdown",
   "id": "0296497e-27c3-48b2-a48e-110d052eb33c",
   "metadata": {},
   "source": [
    "## Reshaping the Digits Array\n",
    "It would be helpful to view the images that are contained in the digits array. We could use Plotly's [imshow](https://plotly.com/python/imshow/) to plot the array data and reveal the image, but the array dimensions are wrong. Plotly would generate a plot with one long row of pixels.\n",
    "\n",
    "Numpy's [reshape method](https://numpy.org/doc/stable/reference/generated/numpy.reshape.html#numpy-reshape) can get us out of this predicament."
   ]
  },
  {
   "cell_type": "code",
   "execution_count": null,
   "id": "e3ad0dae-2792-4cd4-b445-846b8beab89f",
   "metadata": {
    "tags": []
   },
   "outputs": [],
   "source": [
    "digits3d = digits.reshape((5000, 28, 28), order=\"C\")\n",
    "digits3d.shape"
   ]
  },
  {
   "cell_type": "markdown",
   "id": "9ac50a7e-af41-4a1d-ae75-30387f19f315",
   "metadata": {},
   "source": [
    "The [reshape](https://numpy.org/doc/stable/reference/generated/numpy.reshape.html#numpy-reshape) method takes a tuple with the size of each array dimension. The new shape must result in an array with the same number of elements as the original array."
   ]
  },
  {
   "cell_type": "code",
   "execution_count": null,
   "id": "c63a3b2c-4991-474e-a6bf-223f714f45ea",
   "metadata": {
    "tags": []
   },
   "outputs": [],
   "source": [
    "# Verify both arrays have the same size\n",
    "print(\"2D Array Size:\", digits.size)\n",
    "print(\"3D Array Size:\", digits3d.size)"
   ]
  },
  {
   "cell_type": "markdown",
   "id": "30d28455-4d49-4712-a2b3-b1eee497e2f9",
   "metadata": {},
   "source": [
    "The `order` parameter controls the order in which the array elements are placed into the new array. The choices are \"C\" (row-major order), \"F\" (column-major order), and \"A\" (Auto - Numpy tries to figure out the order on it's own). The mentor figured out that \"C\" was the right choice for through trial and error. Read the [Wikipedia article on row and column-major order](https://en.wikipedia.org/wiki/Row-_and_column-major_order) if you would like to have a better understanding of this topic.\n",
    "\n",
    "We are finally ready to visualize the data."
   ]
  },
  {
   "cell_type": "markdown",
   "id": "60ff32ff-0dc6-4d13-8ebc-f849fe349937",
   "metadata": {},
   "source": [
    "Let's visualize this data. The next cell randomly chooses a digit, plots the digit, and displays the underlying array. It will display a different digit every time you hit CTRL+ENTER.\n",
    "{% index:\n",
    "    - plotly.express.imshow: code %}"
   ]
  },
  {
   "cell_type": "code",
   "execution_count": null,
   "id": "f62f8b21-0bdc-4537-8393-b9cf5678a915",
   "metadata": {
    "tags": []
   },
   "outputs": [],
   "source": [
    "# Run this cell with CTRL+ENTER. It randomly chooses a different digit\n",
    "#   every time you run it.\n",
    "def show_digit(idx):\n",
    "    # Show the Plot\n",
    "    fig = px.imshow(\n",
    "        digits3d[idx],\n",
    "        title=f\"Index: {idx}\",\n",
    "        color_continuous_scale=\"greys\"\n",
    "    )\n",
    "    fig.show()\n",
    "    # Show the Array\n",
    "    with pd.option_context(\"display.max_columns\", None):\n",
    "        display(pd.DataFrame(digits3d[idx]))\n",
    "\n",
    "idx = random.randrange(5000)\n",
    "show_digit(idx)"
   ]
  },
  {
   "cell_type": "markdown",
   "id": "5fc91608-2adb-4ddf-8910-9752644f9b99",
   "metadata": {},
   "source": [
    "### Equivalent Methods\n",
    "Look at the documentation for the [Numpy reshape function](https://numpy.org/doc/stable/reference/generated/numpy.reshape.html#numpy-reshape). The documentation says there is an equivalent function called `ndarray.reshape`. Numpy's documentation refers to Numpy arrays as `ndarray` objects, so the existance of `ndarray.reshape` indicates that `reshape` can be called as a method of an existing Numpy array."
   ]
  },
  {
   "cell_type": "code",
   "execution_count": null,
   "id": "ff8370f0-2508-418b-b102-c9f0285b576a",
   "metadata": {
    "tags": []
   },
   "outputs": [],
   "source": [
    "# Create a Flat array\n",
    "flat_array = np.arange(9)\n",
    "\n",
    "# Reshape the Array\n",
    "## Option 1: Numpy function\n",
    "array_2d = np.reshape(flat_array, (3,3))\n",
    "                         \n",
    "## Option 2: ndarray method\n",
    "array_2d.reshape((3,3))"
   ]
  },
  {
   "cell_type": "markdown",
   "id": "e0e1b4f5-df77-46eb-bd6d-b198b44a160e",
   "metadata": {},
   "source": [
    "Many Numpy functions have similar equivalent methods that allow users to either use `numpy` module functions or methods of Numpy arrays. Which syntax you use is a matter of personal choice."
   ]
  },
  {
   "cell_type": "markdown",
   "id": "d809c776-2108-4e53-afd8-5e47d39c06b0",
   "metadata": {},
   "source": [
    "## Digit Dataset Exercises - Part 2\n",
    "\n",
    "### Plot the Label\n",
    "Modify the `show_digit` function so it includes the corresponding digit label in the plot title."
   ]
  },
  {
   "cell_type": "code",
   "execution_count": null,
   "id": "a5b086a5-3b62-476b-b6b6-4717712a07ae",
   "metadata": {},
   "outputs": [],
   "source": [
    "# Modify show_digit function below to show the digit label in the title.\n",
    "def show_digit(idx):\n",
    "    fig = px.imshow(\n",
    "        digits3d[idx],\n",
    "        title=f\"Index: {idx}\",\n",
    "        color_continuous_scale=\"greys\"\n",
    "    )\n",
    "    fig.show()\n",
    "    \n",
    "idx = random.randrange(5000)\n",
    "show_digit(idx)"
   ]
  },
  {
   "cell_type": "markdown",
   "id": "f35d0c2e-138c-46c0-9dc5-dabd06418590",
   "metadata": {},
   "source": [
    "### Change the Array Order\n",
    "Rerun the cell that reshaped the digits data, except set the order parameter to \"F\". Then rerun the plotting cell.\n",
    "\n",
    "Answer these questions.\n",
    "1. How did the digit image change?\n",
    "2. Why did it change?"
   ]
  },
  {
   "cell_type": "code",
   "execution_count": null,
   "id": "6acaabd6-d708-4afd-918e-2e96b3131827",
   "metadata": {},
   "outputs": [],
   "source": [
    "# Array order exercise\n",
    "# Insert answer as Python comments.\n",
    "#\n",
    "#\n",
    "#"
   ]
  },
  {
   "cell_type": "markdown",
   "id": "c8b0a65e-07d8-4fe7-8317-2bcfeaf05aee",
   "metadata": {},
   "source": [
    "### Boolean Indexing\n",
    "Use the `np.arange` operator and Boolean Indexing to find all numbers between 1 and 10,000 that are multiple of 1318."
   ]
  },
  {
   "cell_type": "code",
   "execution_count": null,
   "id": "4c1cf673-229f-4253-a220-711dc4abc80d",
   "metadata": {
    "tags": []
   },
   "outputs": [],
   "source": [
    "# Boolean Indexing\n",
    "\n"
   ]
  },
  {
   "cell_type": "markdown",
   "id": "9ed92369-9fb9-439c-9900-2d0ad8916a5a",
   "metadata": {},
   "source": [
    "### Column with Most Ink\n",
    "Which digit column has the most pixels with value 255 on average?\n",
    "\n",
    "This exercise is tricky. Break it down into small steps, and check the array shape between each step.\n",
    "\n",
    "HINT: Start with a boolean array that has the same shape as `digits3d`, then apply successive `sum` operations followed by an `argmax`."
   ]
  },
  {
   "cell_type": "code",
   "execution_count": null,
   "id": "b45d9609-12de-4f1e-b9c7-eecd07a3f50e",
   "metadata": {
    "tags": []
   },
   "outputs": [],
   "source": [
    "# Digit column with the most value 255 pixels\n",
    "\n",
    "\n"
   ]
  },
  {
   "cell_type": "markdown",
   "id": "9c3684ef-435d-4317-b29a-4d5199e375b3",
   "metadata": {},
   "source": [
    "### Rows with Most Ink\n",
    "Create two 3D arrays, one should contain the sevens, and the other should contain the twos.\n",
    "\n",
    "Which row has the most nonzero values for the sevens? For the twos?"
   ]
  },
  {
   "cell_type": "code",
   "execution_count": null,
   "id": "0760513c-98aa-4ff2-9146-4f06b58b381b",
   "metadata": {
    "tags": []
   },
   "outputs": [],
   "source": [
    "# Rows with most ink\n",
    "\n",
    "\n"
   ]
  },
  {
   "cell_type": "markdown",
   "id": "c5ed1537-a98a-4af6-86c6-c942e2caa6e9",
   "metadata": {},
   "source": [
    "### The Average Digit\n",
    "Use a function to create ten 3-D arrays, with each array containing the data for a single digit. \n",
    "\n",
    "1. Create an *average* array for each digit. The *average* array will have a shape of 28 x 28 and each pixel will contain the average across all pixels at that location for that digit.\n",
    "2. Plot each average digit."
   ]
  },
  {
   "cell_type": "code",
   "execution_count": null,
   "id": "7dd90938-509b-49b9-8a03-00a46e0efc86",
   "metadata": {
    "tags": []
   },
   "outputs": [],
   "source": [
    "# Average Digits"
   ]
  },
  {
   "cell_type": "markdown",
   "id": "e9c7b6e0-88f9-4100-815a-2724f163b03d",
   "metadata": {},
   "source": [
    "## Quiz\n",
    "\n",
    "#### Question #1\n",
    "You need a list or array-like data structure that you can append new elements to over time. What is a good data structure to use in this situation?"
   ]
  },
  {
   "cell_type": "code",
   "execution_count": null,
   "id": "830d583c-df45-4a99-9261-10a23054086b",
   "metadata": {},
   "outputs": [],
   "source": [
    "# Question #1\n"
   ]
  },
  {
   "cell_type": "markdown",
   "id": "6a34d39d-5849-4b0c-ad4f-e2b9b55c4c43",
   "metadata": {},
   "source": [
    "#### Question #2\n",
    "You need to calculate square roots of all elements in a Numpy array. Search Numpy's documentation and find the function that will calculate square roots. Past the link to this function in the cell below."
   ]
  },
  {
   "cell_type": "code",
   "execution_count": null,
   "id": "40374d48-8f98-49b6-9c27-61da56434940",
   "metadata": {},
   "outputs": [],
   "source": [
    "# Question #2\n"
   ]
  },
  {
   "cell_type": "markdown",
   "id": "adbe552f-4300-4ec4-aa46-c0e2b44133fe",
   "metadata": {},
   "source": [
    "#### Question #3\n",
    "What is the difference between the `ndim`, `shape`, and `size` properties of a Numpy array?"
   ]
  },
  {
   "cell_type": "code",
   "execution_count": null,
   "id": "d59d778b-2f99-4ee7-91c5-aedac48833c0",
   "metadata": {},
   "outputs": [],
   "source": [
    "# Question #3"
   ]
  },
  {
   "cell_type": "markdown",
   "id": "fd557e64-65d1-489a-8de9-d4615f095f6b",
   "metadata": {},
   "source": [
    "#### Question #4\n",
    "What is the difference between the `np.int32` and `np.unit32` datatypes?"
   ]
  },
  {
   "cell_type": "code",
   "execution_count": null,
   "id": "f680aceb-c8fe-4ead-9e2c-1c95b4c061b5",
   "metadata": {},
   "outputs": [],
   "source": [
    "# Question #4"
   ]
  },
  {
   "cell_type": "markdown",
   "id": "6965cbad-f315-4d9a-bdcb-c3f5c860c966",
   "metadata": {},
   "source": [
    "#### Question #5\n",
    "The `digits3d` object is a 3-D array of digit image data. Individual pixel values can be retrieved with the syntax `digits3d[image_index][row_index][column_index]`. If we want to sum the columns for each image, what value to we pass to the [sum method's](https://numpy.org/doc/stable/reference/generated/numpy.ndarray.sum.html#numpy.ndarray.sum) `axis` parameter? Why?"
   ]
  },
  {
   "cell_type": "code",
   "execution_count": null,
   "id": "116d7c1b-e005-4ff4-8548-0ebf9313a852",
   "metadata": {},
   "outputs": [],
   "source": [
    "# Question #5\n"
   ]
  },
  {
   "cell_type": "markdown",
   "id": "584090d9-8370-4fcd-8f39-f7d851513014",
   "metadata": {},
   "source": [
    "#### Question #6\n",
    "Why are Numpy element-wise operations preferred over `for` loops?"
   ]
  },
  {
   "cell_type": "code",
   "execution_count": null,
   "id": "19af4af8-25d4-49fa-9cbd-d854c9c87245",
   "metadata": {},
   "outputs": [],
   "source": [
    "# Question #6\n"
   ]
  },
  {
   "cell_type": "markdown",
   "id": "c203b88e-49e0-4de5-8129-92e0b0716b66",
   "metadata": {},
   "source": [
    "## Save Your Work\n",
    "Once you have completed the exercises, save a copy of the notebook outside of the git repository (outside of the *pyclass_frc* folder). Include your name in the file name. Follow instructions from your instructor to get feedback on your work."
   ]
  },
  {
   "cell_type": "markdown",
   "id": "15731120-fd35-416c-8981-75bf89f68fb3",
   "metadata": {},
   "source": [
    "## Concept and Terminology Review\n",
    "You should be able to define the following terms or describe the concept.\n",
    "* "
   ]
  },
  {
   "cell_type": "markdown",
   "id": "68383eac-2e80-4187-93b8-c068ebd94fe8",
   "metadata": {},
   "source": [
    "## Optional Section: Why Numpy is Faster\n",
    "There are several reasons why Numpy operations are faster than operations with native Python datatypes. This section is just for background. Don't be concerned if you don't fully understand it.\n",
    "\n",
    "#### Reason 1: Low-Level Machine Language\n",
    "The Numpy package contains binary executable files written in the C programming language. Programs written in C are *fast* because they get compiled into low-level machine code that can be passed directly to your computer's CPU. The statement `resultantArray = array1 * array2` was passed to one of these executable files and all the calculations were executed by machine code.\n",
    "\n",
    "In comparison, the code for multiplying the Python lists has to be translated into machine code by the Python interpreter *as it's running*. This slows down the calculations."
   ]
  },
  {
   "cell_type": "markdown",
   "id": "87f1b6d8-0467-4f40-8555-626affb36989",
   "metadata": {},
   "source": [
    "#### Reason 2: Native Datatypes and Efficient Memory Use\n",
    "Numpy arrays are stored in a computer's random access memory (RAM). We can think of this memory as if it were a big array. This is a highly-simplified explanation, but it works. See figure 1 for a diagram of memory as an array. {% index: Memory %}\n",
    "\n",
    "##### Figure 1 - Computer Memory\n",
    "![comuter memory diagram](images/memory.png)\n",
    "\n",
    "Each byte of memory gets its own memory address. Memory addresses are usually displayed as hexadecimal numbers.\n",
    "\n",
    "When we create an array with Nummpy, Numpy stores the array in a single block of memory. This speeds up array operations. Our speed test used 4-byte (32-bit) integers, so we can imagine that the numpy array was stored in memory as pictured in figure 2 (except that the actual array took up 80 million bytes of space, not 16).\n",
    "\n",
    "##### Figure 2 - Array Storage\n",
    "![Array storage](images/array.png)"
   ]
  },
  {
   "cell_type": "markdown",
   "id": "9da73cd9-7d0d-4ee4-a197-427dc0358b1e",
   "metadata": {},
   "source": [
    "Python lists can't be stored in contiguous blocks of memory. Unlike the elements in Numpy arrays, the elements in a single Python list can have different sizes.  Let's make a Python list and use the `sys.getsizeof` function to get the number of bytes that are required to store each item."
   ]
  },
  {
   "cell_type": "code",
   "execution_count": null,
   "id": "683d4e9f-905c-49a1-9014-da5dc4ff361a",
   "metadata": {
    "tags": []
   },
   "outputs": [],
   "source": [
    "import sys\n",
    "int_list = [1, 1.0, \"1.0\", 1_000_000_000_000]\n",
    "for x in int_list:\n",
    "    print(f\"{x:<15} Size in bytes: {sys.getsizeof(x)}\")"
   ]
  },
  {
   "cell_type": "markdown",
   "id": "44a6f952-acf6-444a-876c-a490134b9ab1",
   "metadata": {},
   "source": [
    "First of all, Python objects take up way more space than Numpy counterparts. Numpy only requires four bytes to store an integer, but Python requires twenty-eight bytes!\n",
    "\n",
    "Suppose we decided to replace the second element in `int_list` with \"Issaquah Robotics Society\"."
   ]
  },
  {
   "cell_type": "code",
   "execution_count": null,
   "id": "70160420-86ce-42a7-977b-9d83ba846cd8",
   "metadata": {},
   "outputs": [],
   "source": [
    "int_list[1] = \"Issaquah Robotics Society\"\n",
    "for x in int_list:\n",
    "    print(f\"{x:<30} Size in bytes: {sys.getsizeof(x)}\")"
   ]
  },
  {
   "cell_type": "markdown",
   "id": "1e981c35-da50-4db0-999b-7b641b92c280",
   "metadata": {},
   "source": [
    "Changing the second element to a string increased its size to 50 bytes. If the list were stored in a contiguous block of memory, the program would have been required to shift the third and all subsequent elements by 50 bytes to make room for the enlarged second element. This would be excessively time consuming.\n",
    "\n",
    "You might be wondering why Python requires so much more memory to store the same objects. There are good reasons for this, but they are outside the scope of this notebook. In short, the things that make Python flexible and easy to use also make it less efficient. Python is fast enough for many data analysis tasks, so the ease of use more than compensates for the extra miliseconds of processing time."
   ]
  },
  {
   "cell_type": "markdown",
   "id": "6e736fda-3ccc-4fe0-aafd-a4315736ce8f",
   "metadata": {},
   "source": [
    "#### Reason 3: CPU Optimizations\n",
    "Numpy's use of low-level machine language and native data types allows Numpy enables it to optimize operations within the computer's central processing unit (CPU). For example, modern personal computers have 64-bit registers in their CPUs. (Registers are where CPUs store data that they are working on.) If a Numpy array contains 32-bit numbers, Numpy can fit two 32-bit numbers in one CPU and operate on both numbers simultaneously.\n"
   ]
  },
  {
   "cell_type": "markdown",
   "id": "2f205dec-0b20-491a-8813-57fb2153ec7d",
   "metadata": {},
   "source": [
    "## Optional Section: Advanced Analysis of Radiation Data\n",
    "The techniques in this section are interesting, but beyond what we need for analyzing FRC data. This section is optional."
   ]
  },
  {
   "cell_type": "code",
   "execution_count": null,
   "id": "252fdd49-2fe5-4938-bc50-f33b175823fa",
   "metadata": {
    "tags": []
   },
   "outputs": [],
   "source": [
    "print(\"Max time in secconds:\", elapsed_gammas[:, 0].max())\n",
    "print(\"Max energy in kev:\", elapsed_gammas[:, 1].max())"
   ]
  },
  {
   "cell_type": "markdown",
   "id": "8c91141d-5acd-4534-810e-c01bcf243535",
   "metadata": {},
   "source": [
    "### About the Dataset\n",
    "#### Radiation Sources\n",
    "The rad/sources.csv identifies the radiation sources that are simulated in this dataset."
   ]
  },
  {
   "cell_type": "code",
   "execution_count": null,
   "id": "62174e41-a5ae-4152-968f-4d7ec0f643a8",
   "metadata": {
    "tags": []
   },
   "outputs": [],
   "source": [
    "# Importing Radiation Data\n",
    "pd.read_csv(r\"rad/sources.csv\")"
   ]
  },
  {
   "cell_type": "markdown",
   "id": "1edf8137-7cba-4dc3-b501-f2b478dbbe07",
   "metadata": {},
   "source": [
    "There are five different human-made radiation sources in this dataset.\n",
    "* **I131:** Iodine 131, produced by nuclear fission.\n",
    "* **Co60:** Cobalt 60, produced in nuclear reactors.\n",
    "* **99mTc**: Technetium-99m, A radioactive isotope commonly used for medical purposes.\n",
    "* **HEU:** Uranium that has been enriched for use in nuclear weapons\n",
    "* **WGPu:** Weapons Grade Plutonium\n"
   ]
  },
  {
   "cell_type": "markdown",
   "id": "c5df5b82-d829-4913-afe4-ae2873ec8e97",
   "metadata": {
    "tags": []
   },
   "source": [
    "#### Detection Runs\n",
    "The dataset included with this notebook contains 34 scenarios, or runs. (The full Topcoder dataset contains about 25,000 runs.) The ID and source for each run are listed in the run_data.csv file."
   ]
  },
  {
   "cell_type": "code",
   "execution_count": null,
   "id": "4f42df7f-a7e1-4624-a167-74d143615738",
   "metadata": {
    "tags": []
   },
   "outputs": [],
   "source": [
    "pd.read_csv(r\"rad/run-data.csv\").head()"
   ]
  },
  {
   "cell_type": "markdown",
   "id": "5fe8d5bc-dd2c-4c35-a102-64cdab354b8d",
   "metadata": {
    "tags": []
   },
   "source": [
    "### Building a Spectrum with Histograms\n",
    "Even with the time column converted to cumulative seconds, the gamma ray data is still not in a useful format for analysis. Physicists generally use spectrum plots to analyze data from radiation detectors. A spectrum plot will plot gamma ray energy in KeV on the x-axis and the number of gamma rays detected at that energy on the y-axis. Before we can plot the data, we'll need to assign each gamma ray to an energy bin and a time bin. Each energy bin will have a minimum and maximum energy, and each time bin will have a minimum and maximum time.\n",
    "{% index: Numpy, Histograms %}\n",
    "\n",
    "#### Bin Edges\n",
    "It will be helpful to know the maximum time and maximum energy in the array. [Numpy's max method](https://numpy.org/doc/stable/reference/generated/numpy.ndarray.max.html#numpy.ndarray.max) will be helpful for this."
   ]
  },
  {
   "cell_type": "markdown",
   "id": "5886434f-959c-4126-b834-bc8d47ce0fda",
   "metadata": {},
   "source": [
    "Now we'll construct the bin edges. The time bins will each be one second wide, starting at zero and ending at the first integer time that is greater than the max time in the array."
   ]
  },
  {
   "cell_type": "code",
   "execution_count": null,
   "id": "da7b206a-d3a0-43c4-ac6d-d3a042122ea9",
   "metadata": {
    "tags": []
   },
   "outputs": [],
   "source": [
    "time_edges = list(\n",
    "    range(\n",
    "        math.ceil(elapsed_gammas[:, 0].max() + 1)\n",
    "))\n",
    "print(\"Starting edges:\", time_edges[:5])\n",
    "print(\"Ending edges:\", time_edges[-5:])"
   ]
  },
  {
   "cell_type": "markdown",
   "id": "901dc98c-7644-4d24-be08-57dcf093ebe9",
   "metadata": {},
   "source": [
    "The energy bins will be 10 kev wide and range from zero to 3,000 kev."
   ]
  },
  {
   "cell_type": "code",
   "execution_count": null,
   "id": "72738cd6-53be-48df-804b-77e2e448420b",
   "metadata": {
    "tags": []
   },
   "outputs": [],
   "source": [
    "energy_edges = np.linspace(0, 3000, 301)\n",
    "print(\"Starting edges:\", energy_edges[:5])\n",
    "print(\"Ending edges:\", energy_edges[-5:])"
   ]
  },
  {
   "cell_type": "markdown",
   "id": "ddd46715-2af8-447e-88f0-9307794177ac",
   "metadata": {},
   "source": [
    "### Build and Plot the Spectrum\n",
    "Next we'll pass the arrays and edges to [Numpy's histogram2d function](https://numpy.org/doc/stable/reference/generated/numpy.histogram2d.html#numpy-histogram2d).\n",
    "{% index:\n",
    "    - numpy.histogram2d: code %}"
   ]
  },
  {
   "cell_type": "code",
   "execution_count": null,
   "id": "30076030-6654-41d2-9d80-9a9317495577",
   "metadata": {
    "tags": []
   },
   "outputs": [],
   "source": [
    "spectrum, _, _ = np.histogram2d(\n",
    "    elapsed_gammas[:, 0], elapsed_gammas[:, 1],\n",
    "    bins=[time_edges, energy_edges]\n",
    ")\n",
    "print(\"Spectrum Shape:\", spectrum.shape)"
   ]
  },
  {
   "cell_type": "markdown",
   "id": "68e2304c-2bcc-4c2e-95ce-5cb7fc4d92a3",
   "metadata": {},
   "source": [
    "We'll use a heatmap to visualize the radiation data. Bright yellow marks energy levels and points in time where more gamma rays were detected.\n",
    "{% index:\n",
    "    - Heatmap\n",
    "    - plotly.express.imshow: code %}"
   ]
  },
  {
   "cell_type": "code",
   "execution_count": null,
   "id": "a9c02281-dbc9-402c-892f-2c4cc640e650",
   "metadata": {
    "tags": []
   },
   "outputs": [],
   "source": [
    "spectrum_fig = px.imshow(\n",
    "    spectrum,\n",
    "    zmax=30,\n",
    "    labels={\"x\": \"Energy (kev)\", \"y\": \"Seconds\"},\n",
    "    title=\"Gamma Ray Spectrum for run # 107702\"\n",
    ")\n",
    "spectrum_fig.show()"
   ]
  },
  {
   "cell_type": "markdown",
   "id": "a51e8fac-0bd7-41ad-aebc-f6252948159b",
   "metadata": {},
   "source": [
    "The bright yellow areas near the left side of the plot are all due to naturally occurring background radiation. For the TopCoder competition, radiation from human-made sources was added at a random time during the 90-second data collection period. Human-made sources of radiation often emit gamma rays at higher energies than naturally occurring sources of radiation."
   ]
  },
  {
   "cell_type": "markdown",
   "id": "feb952e6-83bf-44bc-af1e-a1257f593d3b",
   "metadata": {},
   "source": [
    "### Spectrum Exercises\n",
    "#### When Was the Human-Made Radiation Source Detected?\n",
    "Review the spectral heat map above. Guess at what time the human-made source of radiation was detected. Plot two line charts from the spectral data, one at time zero and one at the time when you think the human-made radiation source is detectable. Can you sell a difference in the line charts? At what energy levels?\n",
    "\n",
    "Hints:\n",
    "* Use the [plotly.express.line function](https://plotly.com/python/line-charts/).\n",
    "* Use indexes to plot a single row of the Numpy array at a time."
   ]
  },
  {
   "cell_type": "code",
   "execution_count": null,
   "id": "6d77f566-bc0f-4311-abb9-e7d350274954",
   "metadata": {
    "tags": []
   },
   "outputs": [],
   "source": [
    "# Spectrum Exercise - Time Zero\n",
    "\n",
    "\n"
   ]
  },
  {
   "cell_type": "code",
   "execution_count": null,
   "id": "cc2e80f3-2667-4e2d-abe6-691074a6242c",
   "metadata": {},
   "outputs": [],
   "source": [
    "# Spectrum Exercise - Plot the spectrum at the time the human-made radiation source was detectable\n",
    "\n",
    "\n"
   ]
  },
  {
   "cell_type": "code",
   "execution_count": null,
   "id": "c90a42ea-e291-4495-b990-b3cef54b8818",
   "metadata": {},
   "outputs": [],
   "source": [
    "# At what energy levels do you see a difference between the two spectra?\n",
    "\n"
   ]
  },
  {
   "cell_type": "markdown",
   "id": "b2472d4f-6b41-4af1-99c1-451b9ca8950e",
   "metadata": {},
   "source": [
    "#### Sum the Spectrum Data\n",
    "Pick a five second period where the human-made radiation source was most visible. Use [Numpy's sum method](https://numpy.org/doc/stable/reference/generated/numpy.sum.html#numpy.sum) to sum the gamma ray counts for each energy bin for that five second period. Display a line chart of the summed spectra.\n",
    "\n",
    "Hints:\n",
    "* Use the sum method's *axis* parameter to control whether the array is summed over the columns or the rows.\n",
    "* Check the shape of the summed array to make sure the results are correct. It should be a 1D array with 300 elements."
   ]
  },
  {
   "cell_type": "code",
   "execution_count": null,
   "id": "a077a712-91f3-4994-ab7d-7468cd387416",
   "metadata": {
    "tags": []
   },
   "outputs": [],
   "source": [
    "# Sum the Spectrum Data\n",
    "\n"
   ]
  },
  {
   "cell_type": "raw",
   "id": "a09a657b-99a4-47e3-904a-5cb83e69da80",
   "metadata": {},
   "source": [
    "endblock:"
   ]
  }
 ],
 "metadata": {
  "kernelspec": {
   "display_name": "Python 3 (ipykernel)",
   "language": "python",
   "name": "python3"
  },
  "language_info": {
   "codemirror_mode": {
    "name": "ipython",
    "version": 3
   },
   "file_extension": ".py",
   "mimetype": "text/x-python",
   "name": "python",
   "nbconvert_exporter": "python",
   "pygments_lexer": "ipython3",
   "version": "3.11.5"
  }
 },
 "nbformat": 4,
 "nbformat_minor": 5
}
