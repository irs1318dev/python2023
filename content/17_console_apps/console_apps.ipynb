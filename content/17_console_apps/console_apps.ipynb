{
 "cells": [
  {
   "cell_type": "raw",
   "id": "0e04d8f0-f9e2-4394-be89-3839eddde098",
   "metadata": {},
   "source": [
    "block: content\n",
    "label: classes_2"
   ]
  },
  {
   "cell_type": "markdown",
   "id": "4305356a-cad3-4e8e-a3cc-75c9c348b048",
   "metadata": {},
   "source": [
    "# Building a Command-Line program\n",
    "A command line program is a computer program that has a text-only user interface. The [Ten-thousand game]{{rel_link: classes_1}} and the `conda` command that we use to install python packages are examples of command line programs. Command line programs are sometimes called console applications.\n",
    "\n",
    "This notebook will show you how to build a command-line program that can be easily shared via the [Python Package Index](https://pypi.org/). We'll focus on two topics: command-line argument parsing and Python packaging. We'll learn by walking through the creation of a command-line FRC match schedule viewer.\n",
    "\n",
    "{% index:\n",
    "    - command line program\n",
    "    - Console Application %}"
   ]
  },
  {
   "cell_type": "markdown",
   "id": "6c3e7cd0-8d16-4c23-8f0a-c75fa8632061",
   "metadata": {},
   "source": [
    "## Example Program: Command-Line Schedule Viewer\n",
    "The command-line schedule viewer will be called fsched and will have the following capabilities:\n",
    "1. Read a match schedule from a CSV file or download a schedule from [The Blue Alliance](https://www.thebluealliance.com).\n",
    "2. Given a team number, display all matches in which that team plays.\n",
    "3. Given two team numbers, display all matches where the two teams play with each other or against each other."
   ]
  },
  {
   "cell_type": "markdown",
   "id": "6a595e23-fefa-4146-a8cc-cf90c7a5fcaf",
   "metadata": {},
   "source": [
    "## Python Packaging\n",
    "In computer programming, the term *packaging* refers to organizing the code and configuration files for a computer program to make it easy to share with others. While we could share code by sharing a Github repo or distributing a zip archive with all of our Python files, these methods are not considered *packaging*, because they require the user to complete several manual installation and configuration steps to get the program to run. Assembling code into a package allows users to automatically install and configure the program.\n",
    "\n",
    "There are two main repositories of Python packages:\n",
    "1. [The Python Package Index at pypi.org](https://pypi.org/)\n",
    "2. [The Anaconda Repository at repo.anaconda.com/](https://repo.anaconda.com/)\n",
    "\n",
    "The Python Package Index is the original package Python package repository. It is usually abbreviated as PyPi (pronounced Pie-Pee-Eye). Anyone can create an account on PyPi and upload their package. Once uploaded, the package can be installed by anyone by running `pip install <package-name>`. This notebook will show you how to package your program so it can be uploaded to PyPi.\n",
    "\n",
    "The Anaconda Repository is maintained by *Anaconda Inc.*, which is a private for-profit company. Users must be using the Anaconda Python distribution to use Anaconda packages. Anaconda packages are installed with the `conda` command-line tool. There are some advantages to using Anaconda, but the learning curve for building Anaconda packages is steep so we will not cover building Anaconda packages in this notebook."
   ]
  },
  {
   "cell_type": "markdown",
   "id": "76c116ce-4cd3-4bde-8adf-eb4f65c581fd",
   "metadata": {},
   "source": [
    "## Setting up the Project\n",
    "\n",
    "### Project Environment\n",
    "1. If using Windows, enable developer mode.\n",
    "   * Type *Developer* into the taskbar search box.\n",
    "   * Select *User Developer Features* from the search results.\n",
    "   * Turn *Developer Mode* on.\n",
    "3. Create and activate a new virtual environment for the project.\n",
    "   * If using Conda, enter `conda create -n <env-name> python`, then `conda activate <env_name>`.\n",
    "   * If using pip, enter `venv env_name` then `env_name\\Scripts\\activate.ps1` (Windows) or `source env_name/bin/activste` (Mac)\n",
    "5. Install the *flit* package, with either `pip install flit` or `conda install flit`. We'll use flit to build our Python package.\n",
    "6. Also install *pandas*."
   ]
  },
  {
   "cell_type": "markdown",
   "id": "fbc60c7f-8d07-4738-ba90-a72cbec23cc7",
   "metadata": {},
   "source": [
    "### Project Folder\n",
    "1. Create a folder named *fsched-project* that will contain all of our Python project files.\n",
    "2. Create a subfolder named *src*\n",
    "3. Create a subfolder of *src* named *fsched*.\n",
    "4. Create an empty *\\_\\_init\\_\\_.py* file in the *fsched* folder.\n",
    "\n",
    "Your project folder should look like this:\n",
    "```text\n",
    "fsched-project\n",
    "|\n",
    "|-- src\n",
    "    |\n",
    "    |-- fsched\n",
    "        |\n",
    "        |-- __init__.py    \n",
    "```"
   ]
  },
  {
   "cell_type": "markdown",
   "id": "539b7663-d8e2-47c1-a9c5-b425340a9dff",
   "metadata": {},
   "source": [
    "### The *fsched/\\_\\_init\\_\\_.py* File\n",
    "Add the following content to the *fsched/src/fsched/\\_\\_init\\_\\_.py* file.\n",
    "```python\n",
    "\"\"\"Download, view, and analyze FRC schedules with F-Sched!\"\"\"\n",
    "__version__ = \"0.0.1\"\n",
    "```"
   ]
  },
  {
   "cell_type": "markdown",
   "id": "59110135-00a5-4664-9483-f3ed557e5d8e",
   "metadata": {},
   "source": [
    "### Initialize the Project with Flit\n",
    "[Flit](https://flit.pypa.io/en/stable/) is a Python package that makes it easy to create Python packages. Run the following command from the top *fsched-project* folder to initialize a new Python project with flit:\n",
    "```bash\n",
    "flit init\n",
    "```\n",
    "\n",
    "Flit will ask you several questions. You can accept the default value for most of the questions.\n",
    "1. The first question asks you the package nmae. Based on the folder names, Flit guesses that the package name should be *fsched*. Hit ENTER to acccept this default.\n",
    "2. The second and third questions asks for the name and email address of the project author.\n",
    "3. The fourth question asks for a project URL. Hit ENTER to leave this blank.\n",
    "4. For the final question, select option 1 to choose the MIT license."
   ]
  },
  {
   "cell_type": "markdown",
   "id": "dd3a1f4c-cc7a-4380-a6aa-e8454f910f25",
   "metadata": {},
   "source": [
    "### Initialize a Git Repo\n",
    "From the *fsched-project* folder:\n",
    "1. Create a new Git repo by running `git init`\n",
    "2. Run `git status` to verify that your Git repo was created.\n",
    "3. From https://github.com/github/gitignore/blob/main/Python.gitignore, download the *Python.gitignore* file, rename it to *.gitignore*, and save it to your *fsched-project* folder.\n",
    "4. Commit your work to the git repo by running `git add --all` then `git commit -m \"Initial commit of fsched project\"`.\n"
   ]
  },
  {
   "cell_type": "markdown",
   "id": "f1271fac-994e-4d58-97d1-131b779d9d4f",
   "metadata": {},
   "source": [
    "### Explanation\n",
    "At this point, *fsched-project* should look like this:\n",
    "\n",
    "```text\n",
    "fsched-project\n",
    "|\n",
    "|-- LICENSE\n",
    "|-- pyproject.toml\n",
    "|-- .gitignore\n",
    "|-- src\n",
    "    |\n",
    "    |-- fsched\n",
    "        |\n",
    "        |-- __init__.py    \n",
    "```\n",
    "This is a common folder structure for a Python package. The *fsched-project* folder is the root folder for your project - the folder that would be created if you were to clone the repo with the `git clone` command. The *fsched* folder below the *src* folder is where all Python modules will be placed. Because of this structure, all fsched Python modules will be imported with an `import fsched` command. Placing the *fsched* folder underneath a *src* folder is a best practice because it prevents incorrect access to the Python code.\n"
   ]
  },
  {
   "cell_type": "code",
   "execution_count": null,
   "id": "aaa5c369-8c3c-4593-a4e5-7a251aeb2529",
   "metadata": {},
   "outputs": [],
   "source": []
  },
  {
   "cell_type": "code",
   "execution_count": null,
   "id": "32f7ea78-b06c-48f8-b622-33cf1f7f08c4",
   "metadata": {},
   "outputs": [],
   "source": []
  },
  {
   "cell_type": "code",
   "execution_count": null,
   "id": "f4cb7760-baa6-4437-83eb-2a6e310bb437",
   "metadata": {},
   "outputs": [],
   "source": []
  },
  {
   "cell_type": "raw",
   "id": "163fe7ae-2913-47e3-a43a-188931e5039a",
   "metadata": {},
   "source": [
    "endblock:"
   ]
  }
 ],
 "metadata": {
  "kernelspec": {
   "display_name": "Python 3 (ipykernel)",
   "language": "python",
   "name": "python3"
  },
  "language_info": {
   "codemirror_mode": {
    "name": "ipython",
    "version": 3
   },
   "file_extension": ".py",
   "mimetype": "text/x-python",
   "name": "python",
   "nbconvert_exporter": "python",
   "pygments_lexer": "ipython3",
   "version": "3.12.0"
  }
 },
 "nbformat": 4,
 "nbformat_minor": 5
}
