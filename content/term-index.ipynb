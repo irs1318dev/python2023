{
 "cells": [
  {
   "cell_type": "raw",
   "metadata": {},
   "source": [
    "label: term-index\n",
    "outline: None\n",
    "toc_exclude:"
   ]
  },
  {
   "cell_type": "raw",
   "metadata": {},
   "source": [
    "block: content"
   ]
  },
  {
   "cell_type": "markdown",
   "metadata": {},
   "source": [
    "# Index\n",
    "Key terms are listed below, with links to the portion of the FRC Python Tutorial that explains the term."
   ]
  },
  {
   "cell_type": "markdown",
   "metadata": {},
   "source": [
    "## Symbols\n",
    "{{ write_index_section: '*' }}"
   ]
  },
  {
   "cell_type": "markdown",
   "metadata": {},
   "source": [
    "## A - D\n",
    "{{ write_index_section: ABCD }}"
   ]
  },
  {
   "cell_type": "markdown",
   "metadata": {},
   "source": [
    "## E - H\n",
    "{{ write_index_section: EFGH }}"
   ]
  },
  {
   "cell_type": "markdown",
   "metadata": {},
   "source": [
    "## I - L\n",
    "{{ write_index_section: IJKL }}"
   ]
  },
  {
   "cell_type": "markdown",
   "metadata": {},
   "source": [
    "## M - P\n",
    "{{ write_index_section: MNOP }}"
   ]
  },
  {
   "cell_type": "markdown",
   "metadata": {},
   "source": [
    "## Q - S\n",
    "{{ write_index_section: QRS }}"
   ]
  },
  {
   "cell_type": "markdown",
   "metadata": {},
   "source": [
    "## T - V\n",
    "{{ write_index_section: TUV }}"
   ]
  },
  {
   "cell_type": "markdown",
   "metadata": {},
   "source": [
    "## X - Z\n",
    "{{ write_index_section: XYZ }}"
   ]
  },
  {
   "cell_type": "raw",
   "metadata": {},
   "source": [
    "endblock:"
   ]
  }
 ],
 "metadata": {
  "kernelspec": {
   "display_name": "Python 3 (ipykernel)",
   "language": "python",
   "name": "python3"
  },
  "language_info": {
   "codemirror_mode": {
    "name": "ipython",
    "version": 3
   },
   "file_extension": ".py",
   "mimetype": "text/x-python",
   "name": "python",
   "nbconvert_exporter": "python",
   "pygments_lexer": "ipython3",
   "version": "3.9.7"
  }
 },
 "nbformat": 4,
 "nbformat_minor": 4
}
