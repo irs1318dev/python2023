{
 "cells": [
  {
   "cell_type": "raw",
   "id": "7c9f7eab-11e6-4b44-a27b-b60642fcf030",
   "metadata": {},
   "source": [
    "block: content\n",
    "label: visualization\n",
    "outline: None"
   ]
  },
  {
   "cell_type": "markdown",
   "id": "3d252450-be6c-400d-81ca-b0aaabc4c8ad",
   "metadata": {},
   "source": [
    "# Data Analysis Project\n",
    "Let's put your new Python skills to work. For this lesson, you will find an interesting datset, analyze it with Pandas and create visualizations with Matplotlib or Bokeh. You will write a short report on your findings in a Google Colab or Jupyter notebook and share the report with other students.\n",
    "\n",
    "You will have two notebooks when you are finished with the project. The first notebook will contain the results of your exploratory data analysis (EDA) and the second will contain your report.\n",
    "\n",
    "{% index: Data Analysis %}"
   ]
  },
  {
   "cell_type": "markdown",
   "id": "2d748f3f-58cf-4aca-aec5-80dc55a44140",
   "metadata": {},
   "source": [
    "## Step 1: Get Some Interesting Data\n",
    "There are many datasets available on the Internet. Here are some sources:"
   ]
  },
  {
   "cell_type": "markdown",
   "id": "56a3c503-b3b4-48d6-a910-e1918c245c6f",
   "metadata": {},
   "source": [
    "### Kaggle\n",
    "[Kaggle](https://www.kaggle.com/)  \n",
    "Kaggle is a website that hosts machine learning competitions. I suspect you are wondering what a machine learning competition is. I'll provide an example.\n",
    "\n",
    "One Kaggle competition was called *Random Acts of Pizza*. *Random Acts of Pizza* is a subreddit (i.e., a channel on Reddit) where people talk about hardhips they've experienced in their life and ask strangers to send them a free pizza to help them feel better.\n",
    "* Competitors downloaded a training dataset from Kaggle that contained 5,671 requests for pizzas from Reddit.\n",
    "* The dataset was split into training and test datasets. The training dataset included information on whether the requester received a free pizza. The test dataset did not.\n",
    "* Competitors trained a machine learning alorithm on the test data, and then made predictions on the test data.\n",
    "* Competitors uploaded their predictions to Kaggle. The competitor with the most correct predictions won the competition.\n",
    "\n",
    "This class does not cover machine learning, so we will not be submitting predictions to Kaggle. But the datasets are interesting in their own right. Here is one of the 5,671 pizza reqests from the dataset:\n",
    "\n",
    "```json\n",
    "    {\n",
    "        \"giver_username_if_known\": \"N/A\", \n",
    "        \"number_of_downvotes_of_request_at_retrieval\": 0, \n",
    "        \"number_of_upvotes_of_request_at_retrieval\": 1, \n",
    "        \"post_was_edited\": false, \n",
    "        \"request_id\": \"t3_l25d7\", \n",
    "        \"request_number_of_comments_at_retrieval\": 0, \n",
    "        \"request_text\": \"Hi I am in need of food for my 4 children we are a military family that has really hit hard times and we have exahusted all means of help just to be able to feed my family and make it through another night is all i ask i know our blessing is coming so whatever u can find in your heart to give is greatly appreciated\", \n",
    "        \"request_text_edit_aware\": \"Hi I am in need of food for my 4 children we are a military family that has really hit hard times and we have exahusted all means of help just to be able to feed my family and make it through another night is all i ask i know our blessing is coming so whatever u can find in your heart to give is greatly appreciated\", \n",
    "        \"request_title\": \"Request Colorado Springs Help Us Please\", \n",
    "        \"requester_account_age_in_days_at_request\": 0.0, \n",
    "        \"requester_account_age_in_days_at_retrieval\": 792.4204050925925, \n",
    "        \"requester_days_since_first_post_on_raop_at_request\": 0.0, \n",
    "        \"requester_days_since_first_post_on_raop_at_retrieval\": 792.4204050925925, \n",
    "        \"requester_number_of_comments_at_request\": 0, \n",
    "        \"requester_number_of_comments_at_retrieval\": 0, \n",
    "        \"requester_number_of_comments_in_raop_at_request\": 0, \n",
    "        \"requester_number_of_comments_in_raop_at_retrieval\": 0, \n",
    "        \"requester_number_of_posts_at_request\": 0, \n",
    "        \"requester_number_of_posts_at_retrieval\": 1, \n",
    "        \"requester_number_of_posts_on_raop_at_request\": 0, \n",
    "        \"requester_number_of_posts_on_raop_at_retrieval\": 1, \n",
    "        \"requester_number_of_subreddits_at_request\": 0, \n",
    "        \"requester_received_pizza\": false, \n",
    "        \"requester_subreddits_at_request\": [], \n",
    "        \"requester_upvotes_minus_downvotes_at_request\": 0, \n",
    "        \"requester_upvotes_minus_downvotes_at_retrieval\": 1, \n",
    "        \"requester_upvotes_plus_downvotes_at_request\": 0, \n",
    "        \"requester_upvotes_plus_downvotes_at_retrieval\": 1, \n",
    "        \"requester_user_flair\": null, \n",
    "        \"requester_username\": \"nickylvst\", \n",
    "        \"unix_timestamp_of_request\": 1317852607.0, \n",
    "        \"unix_timestamp_of_request_utc\": 1317849007.0\n",
    "    },\n",
    "```\n",
    "\n",
    "This particular dataset is in JSON format. Many of the datasets are in CSV format. Other interesting Kaggle datasets include:\n",
    "* [Loan Default Prediction Dataset](https://www.kaggle.com/datasets/hemanthsai7/loandefault)\n",
    "* [Netflix Movies and TV Shows](https://www.kaggle.com/datasets/shivamb/netflix-shows)\n",
    "* [COVID-19](https://www.kaggle.com/kimjihoo/coronavirusdataset)\n",
    "* [Used Cars](https://www.kaggle.com/austinreese/craigslist-carstrucks-data)\n",
    "* [New York State Math Test Results](https://www.kaggle.com/new-york-city/new-york-state-math-test-results)\n",
    "* [League of Legends Ranked Games](https://www.kaggle.com/bobbyscience/league-of-legends-diamond-ranked-games-10-min)\n",
    "\n",
    "{% index:\n",
    "    - Datasets\n",
    "    - Kaggle %}"
   ]
  },
  {
   "cell_type": "markdown",
   "id": "c1922100-5b9c-4ec7-8840-12733603aa06",
   "metadata": {},
   "source": [
    "### Other Sources of Data\n",
    "* [Fivethirtyeight](https://data.fivethirtyeight.com/): Mostly politics and sports.\n",
    "* [UCI Machine Learning Repository](http://archive.ics.uci.edu/ml/index.php): Wide range of datsets used to evaluate machine learning algorithms\n",
    "* [Data.Gov](https://catalog.data.gov/dataset): Wide range of topics\n",
    "\n",
    "{% index:\n",
    "    - Fivethirtyeight\n",
    "    - UCI Machine Learning Repository: preserve_case\n",
    "    - Data.Gov: preserve_case %}"
   ]
  },
  {
   "cell_type": "markdown",
   "id": "166f91c7-b142-4ae7-80d0-34f6a14cea94",
   "metadata": {},
   "source": [
    "### What to Look for in a Dataset\n",
    "You are not limited to the sources listed on this page. Your dataset *must* meet these requirements:\n",
    "* Be publicly available\n",
    "* Be in either JSON or CSV format\n",
    "* Be appropriate for an educational environment\n",
    "\n",
    "Here are recommendations that will help you be successful:\n",
    "* Dataset should not be too big or too small. Specifically:\n",
    "  * If your data consists of just one table, try to have a dozen or more columns. It might be hard to make interesting observations if there are just a few columns. Also try to have 500 or more rows. If the dataset consists of more than one table, then each table can be smaller\n",
    "  * We have not yet covered joining and merging. So if your dataset is spread across more than two or three tables, that might be too much."
   ]
  },
  {
   "cell_type": "markdown",
   "id": "b06b95e7-9e7d-439f-89d0-5d4f20ffd113",
   "metadata": {},
   "source": [
    "## Step 2: Conduct Exploratory Data Analysis (EDA)\n",
    "Exploratory Data Analysis (EDA) is a process used by statisticians and data scientists to understand and summarize datasets. The technique has been promoted by [John Tukey, a famous statistician,](https://en.wikipedia.org/wiki/John_Tukey) since the 1970s. The goal of EDA is to gain a better understanding of the dataset, check your assumptions, and develop hypotheses.\n",
    "\n",
    "EDA does not adhere to a strict procedure. Nevertheless, here are some EDA steps you can follow. For each step, I've included links to helpful features from Pandas, Matplotlib, and Bokeh.\n",
    "\n",
    "1. Import the data into one or more Pandas Dataframes.\n",
    "    * [Pandas Input-Output Tools](https://pandas.pydata.org/pandas-docs/stable/user_guide/io.html)\n",
    "    * [pandas.read_csv()](https://pandas.pydata.org/pandas-docs/stable/reference/api/pandas.read_csv.html?highlight=read_csv#pandas.read_csv)\n",
    "    * [pandas.read_excel()](https://pandas.pydata.org/pandas-docs/stable/user_guide/io.html#io-ods)\n",
    "    * [pandas.read_json()](https://pandas.pydata.org/pandas-docs/stable/reference/api/pandas.read_json.html?highlight=read_json#pandas.read_json)\n",
    "    \n",
    "2. Evaluate each dataframe column. What is the column's datatype and what does it mean? Is the data numerica or categorical? Continuous or discrete? What are the minimum or maximum values? Is there any missing data?\n",
    "    * [Pandas Descriptive Statistics](https://pandas.pydata.org/pandas-docs/stable/user_guide/basics.html#descriptive-statistics)\n",
    "    * [pandas.DataFrame.dtypes](https://pandas.pydata.org/pandas-docs/stable/reference/api/pandas.DataFrame.dtypes.html?highlight=dtypes#pandas.DataFrame.dtypes)\n",
    "    * [pandas.DataFrame.describe()](https://pandas.pydata.org/pandas-docs/stable/reference/api/pandas.DataFrame.describe.html?highlight=describe#pandas.DataFrame.describe)\n",
    "    * [Pandas: Working with Missing Data](https://pandas.pydata.org/pandas-docs/stable/user_guide/missing_data.html)\n",
    "    \n",
    "3. If necessary, clean up the dataset. Convert string datatypes to numbers or dates. Replace empty strings (or other values that indicate missing data) with NaN values. Or convert NaN values to zero or other suitable value.\n",
    "    * [pandas.to_datetime()](https://pandas.pydata.org/pandas-docs/stable/reference/api/pandas.to_datetime.html?highlight=to_datetime#pandas.to_datetime)\n",
    "    * [pandas.Series.astype()](https://pandas.pydata.org/pandas-docs/stable/reference/api/pandas.Series.astype.html?highlight=astype#pandas.Series.astype)\n",
    "    * [pandas.Series.fillna()](https://pandas.pydata.org/pandas-docs/stable/reference/api/pandas.Series.fillna.html?highlight=fillna#pandas.Series.fillna)\n",
    "    * [pandas.Series.isna()](https://pandas.pydata.org/pandas-docs/stable/reference/api/pandas.Series.isna.html?highlight=isna#pandas.Series.isna)\n",
    "    \n",
    "4. Get a better understanding of each column's distribution by plotting it. Histrograms and box plots are useful plots for this step. Pandas provides its own methods for generating Matplotlib boxplots and histograms. The Pandas methods are often a good choice for EDA, but feel free to use straight Matplotlib or Bokeh.\n",
    "    * [Pandas Histograms](https://pandas.pydata.org/pandas-docs/stable/user_guide/visualization.html?highlight=histogram#visualization-hist)\n",
    "    * [Matplotlib Histogram](https://matplotlib.org/stable/gallery/pyplots/pyplot_text.html#sphx-glr-gallery-pyplots-pyplot-text-py)\n",
    "    * [Bokeh Histogram](https://docs.bokeh.org/en/3.0.3/docs/examples/topics/stats/histogram.html)\n",
    "    * [Pandas Boxplot](https://pandas.pydata.org/pandas-docs/stable/reference/api/pandas.DataFrame.boxplot.html?highlight=boxplot#pandas.DataFrame.boxplot)\n",
    "    * [Matplotlib Boxplot](https://matplotlib.org/stable/gallery/statistics/boxplot_color.html#sphx-glr-gallery-statistics-boxplot-color-py)\n",
    "    * [Bokeh Boxplot](https://docs.bokeh.org/en/latest/docs/examples/topics/stats/boxplot.html#index-0)\n",
    "\n",
    "5. Think of some questions about the data. Here's an example that uses the random-acts-of-pizza dataset. Is there any relation between the length of the request for pizza and the liklihood that the requester receives a pizza? Now for one or two of your questions, guess the answer. Congratulations! You just generated a hypothesis!\n",
    "\n",
    "$$ \\textrm{Hypothesis} = \\textrm{Question} + \\textrm{Guess} $$\n",
    "\n",
    "6. Start over if needed. Is your dataset not what you expected it would be? Is there not much infomration in the dataset? Do you just think it's boring? No worries, just find a new dataset and start over.\n",
    "\n",
    "7. Clean up your EDA Notebook. Your EDA notebook does not need to be highly edited like a formal essay. But do arrange your analysis into a logical order and add a few markdown cells that:\n",
    "    * Describe your dataset and explain where you got it\n",
    "    * Summarize your findings\n",
    "    * List your hypotheses\n",
    "    * Organize your EDA notebook with section headers (i.e., lines in markdown cells that start with '#', '##', etc.)\n",
    "    \n",
    "{% index:\n",
    "    - Exploratory Data Analysis (EDA): preserve_case\n",
    "    - Hypothesis %}    "
   ]
  },
  {
   "cell_type": "markdown",
   "id": "1ff0b004-e15e-4a26-af27-80db1abadfd9",
   "metadata": {},
   "source": [
    "## Step 3: Test Your Hypotheses\n",
    "Now try to use the data to answer your questions (i.e., test your hypotheses).\n",
    "\n",
    "A common way to test a hypothesis is to divide the data into groups and calculate statistics or plot results for each group. Suppose you are working with the Netflix TV Show and Movie dataset. You could group the data by whether it's a TV show or a movie, country of origin, release year, rating, etc. This process is often called *split-apply-combine*. The Pandas *User Guide* has a [thorough explanation of split-apply-combine techniques](https://pandas.pydata.org/pandas-docs/stable/user_guide/groupby.html).\n",
    "\n",
    "A scatter plot could be useful if your hypothesis involves a relationship between two numeric, continuous variables.\n",
    "\n",
    "  * [Pandas Scatter Plot](https://pandas.pydata.org/pandas-docs/stable/reference/api/pandas.DataFrame.plot.scatter.html?highlight=scatter#pandas.DataFrame.plot.scatter)\n",
    "  * [Matplotlib Scatter Plot](https://matplotlib.org/stable/gallery/lines_bars_and_markers/scatter_demo2.html#sphx-glr-gallery-lines-bars-and-markers-scatter-demo2-py)\n",
    "  * [Bokeh Scatter Plot](https://docs.bokeh.org/en/latest/docs/examples/basic/data/transform_markers.html)\n",
    "    \n",
    "If your hypothesis involves a relationship between a numeric and a categorical variable, a grouped or staked bar chart could be helpful.\n",
    "\n",
    "  * [Pandas Bar Charts](https://pandas.pydata.org/docs/reference/api/pandas.DataFrame.plot.bar.html)\n",
    "  * [Matplotlib Grouped Bar Chart](https://matplotlib.org/stable/gallery/lines_bars_and_markers/barchart.html#sphx-glr-gallery-lines-bars-and-markers-barchart-py)\n",
    "  * [Matplotlib Stacked Bar Chart](https://matplotlib.org/stable/gallery/lines_bars_and_markers/bar_stacked.html#sphx-glr-gallery-lines-bars-and-markers-bar-stacked-py)\n",
    "  * [Bokeh Grouped Bar Chart](https://docs.bokeh.org/en/latest/docs/examples/basic/bars/nested_colormapped.html)\n",
    "  * [Bokeh Stacked Bar Chart](https://docs.bokeh.org/en/latest/docs/examples/basic/bars/stacked.html)\n",
    "  \n",
    "For more inspiration, check out the Pandas, Matplotlib, and Bokeh chart galleries.\n",
    "  * [Matplotlib Examples](https://matplotlib.org/stable/gallery/index.html)\n",
    "  * [Bokeh Examples](https://docs.bokeh.org/en/latest/docs/gallery.html)\n",
    "  * [Pandas Visualization Page](https://pandas.pydata.org/pandas-docs/stable/user_guide/visualization.html?highlight=histogram#)\n",
    "\n",
    "It's quite possible that your analysis and visualizations won't answer your question. That's fine. If you don't think the data provides an answer, explain that in your report. Whatever you do,\n",
    "> DON'T MAKE UP AN ANSWER WHEN YOU HAVE AMBIGUOUS DATA! THAT'S NOT OK!\n",
    "\n",
    "Finally, professional statisticians and data scientists would be expected to run formal statistical tests on their data, like two-sample T-tests or linear regressions or confidence intervals or formal hypothesis tests. Such tests are great and useful, but beyond the scope of this class. So don't worry about conducting any formal tests."
   ]
  },
  {
   "cell_type": "markdown",
   "id": "d51be50b-b4c1-49b4-a490-c6f5fdbcec27",
   "metadata": {},
   "source": [
    "## Step 4: Write Your Report\n",
    "Your target audience is any teacher at your school. Explain your dateset, your hypothesis, and your results. Use visualizations and tables to illustrate your reasoning. Your report is a notebook that's separate from your EDA notebook, but you can copy chats and analysis from your EDA notebook if that makes sense.\n",
    "\n",
    "There is obviously no grade, but here are things that evaluators will look for.\n",
    "\n",
    "1. Don't just give us a code dump! Use markdown cells to include explanations of your dataset, analysis, and reasoning.\n",
    "2. Hypothesis and results are clearly articulated.\n",
    "3. The EDA notebook and report include several visualizations.\n",
    "4. Split-apply-combine techniques were used somewhere in the EDA or report.\n",
    "5. Both the EDA notebook and report run from beginning to end with no errors as long as the dataset files are in the same folder as the notebook. Make sure you restart the kernal before you test this.\n",
    "6. The report has a logical structure, with sections clearly labeled using markdown headers.\n",
    "7. The report (but not the EDA notebook) is free of extraneous analysis and visualizations that don't support the hypothesis and conclusion.\n",
    "\n",
    "And most importantly, try to have some fun with this!"
   ]
  },
  {
   "cell_type": "markdown",
   "id": "0a37d006-7bc9-4b78-8ad4-17899887c598",
   "metadata": {},
   "source": [
    "## Step 5: Share Your Report\n",
    "Save your dataset, EDA notebook, and report notebook to a folde on Google Drive or a similar cloud drive. Share the folder with other students and your mentors."
   ]
  },
  {
   "cell_type": "markdown",
   "id": "94e18808-643d-40db-9015-c87a4b5f52ee",
   "metadata": {},
   "source": [
    "## Step 6: Recieve and Provide Feedback\n",
    "Hopefully other students shared their projects with you. Give them some feedback. Tell them what they did well and provide a recommendation for improvement or additional analysis that they could do. Most importantly, exhibit *Gracous Professionalism* when you give and receive feedback."
   ]
  }
 ],
 "metadata": {
  "kernelspec": {
   "display_name": "Python 3 (ipykernel)",
   "language": "python",
   "name": "python3"
  },
  "language_info": {
   "codemirror_mode": {
    "name": "ipython",
    "version": 3
   },
   "file_extension": ".py",
   "mimetype": "text/x-python",
   "name": "python",
   "nbconvert_exporter": "python",
   "pygments_lexer": "ipython3",
   "version": "3.10.8"
  }
 },
 "nbformat": 4,
 "nbformat_minor": 5
}
