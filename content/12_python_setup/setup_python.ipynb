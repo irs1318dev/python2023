{
 "cells": [
  {
   "cell_type": "raw",
   "id": "06b000d8-8f91-4157-9201-80f095cdf15a",
   "metadata": {},
   "source": [
    "block: content\n",
    "label: setup_python"
   ]
  },
  {
   "cell_type": "markdown",
   "id": "12d26e29-4b77-4311-9d53-83e98faa7ca1",
   "metadata": {},
   "source": [
    "# Command Line Interfaces and Python Installation\n",
    "It's time to install Python on your local computer. But first we'll learn about command line interfaces (CLI). We'll need to use one to set up our Python environment.\n",
    "{% index: Command Line Interfaces %}"
   ]
  },
  {
   "cell_type": "markdown",
   "id": "f09882ed-102d-4038-a18e-460e393d9e65",
   "metadata": {},
   "source": [
    "## Command Line Interfaces\n",
    "A graphical user interfaces (GUI) is what you are using right now to read this notebook. GUIs are computer interfaces that allow users to control software using things like mouse cursors, touch screens, buttons, menus, and checkboxes. They are used on smartphones, in web browsers, and in consumer operating systems like Microsoft Windows and macOS. GUIs are great for common activities like accessing social media, playing games, and writing term papers. But when it comes to coding and data analysis, CLIs have several advantages. They are fast, flexible, and it's easy to automate processes that use CLIs. If you want to be a competent programmer or good at data analysis, then you need to know your way around CLIs.\n",
    "\n",
    "### Terminology: Terminals vs. Shells vs. CLIs\n",
    "The terms *terminal* and *shell* occur frequently in documents about CLIs.\n",
    "* **Terminal**: A terminal is a program that allows a user to interact with a CLI. Operating systems with graphical user interfaces typically include one or more terminal programs. Windows provides the Command Prompt and Powershell terminals. Ubuntu and macOS both named their default terminal applications \"Terminal\". If you want to change your CLI's font size or background color, you do that by changing settings within the terminal.\n",
    "* **Shell**: A shell is the program that reads and interprets the commands that a user enters into a CLI and passes them to the operating system to be carried out. There is often more than one shell for a given operating system. Linux and macOS have several shells, including bash, csh, ksh, zsh, etc. Windows has the Command Shell and Powershell. Terminal programs can usually be configured to run different shells.\n",
    "* **CLI**: A CLI incoporates both a terminal and a shell.\n",
    "\n",
    "During installation on Windows, Miniconda will create a customized Powershell terminal called *Anaconda Powershell Prompt.* It's just a powershell terminal that undrstands Miniconda commands.\n",
    "\n",
    "Here's the bottom line:\n",
    "1. You will frequently use CLIs.\n",
    "2. When you need to use a CLI, this tutorial will tell you to \"open a terminal.\" That means you should open Powershell on Windows or the Terminal program if you are using macOS or Linux.\n",
    "{% index:\n",
    "    - Terminals\n",
    "    - Shells\n",
    "    - CLIs: preserve-case\n",
    "    - Powershell\n",
    "    - Anaconda Powershell Prompt %}"
   ]
  },
  {
   "cell_type": "markdown",
   "id": "dfad82a0-ddaf-43f4-bb14-1a9394b93667",
   "metadata": {},
   "source": [
    "### CLI Basics\n",
    "We'll use Windows Powershell to demonstrate some of the frequently-used CLI commands. Unless stated, the commands are the same in the macOS terminal or on Ubuntu Linux (although the appearance of the output will vary).\n",
    "\n",
    "Here's what you see when you open Windows Powershell:  \n",
    "<img src=\"images/pwrsh.png\" alt=\"Windows Powershell\" width=750px/>\n",
    "\n",
    "The bottom line of text, `PS C:\\Users\\stacy>` is the prompt. The letters `PS` also indicate that this is a Powershell window, and `C:\\Users\\stacy` is the *current working directory* or *current location*. With some exceptions, commands you type into PowerShell will have different results depending on the current location. By default, the initial starting location is your user folder, `C:\\Users\\{your user name}`, or `\\Users\\{your user name|` on Mac (or `/home/{your user name}` on Linux).\n",
    "{% index:\n",
    "    - Current Working Directory %}"
   ]
  },
  {
   "cell_type": "markdown",
   "id": "26cd5395-b410-495d-bfc4-49c161ba9932",
   "metadata": {},
   "source": [
    "#### Listing Files with `ls`\n",
    "Let's enter our first command. Type `ls` and hit enter. `ls` works in both PowerShell and Terminal, but in Terminal, `ls -l` shows more detail.\n",
    "\n",
    "<img src=\"images/ls.png\" alt=\"ls\" width=\"750px\"/>\n",
    "\n",
    "The `ls` command causes the CLI to list the contents of the current working directory. Your output will look different ton your system because because your computer has different files.\n",
    "\n",
    "These columns are displayed in PowerShell:\n",
    "  * **Mode:** The mode section displays file attributes, such as whether the file is read-only or hidden. The `d` in the first column means the entry is a directory.\n",
    "  * **LastWriteTime:** The date and time that the file or directory was last modified.\n",
    "  * **Length:** The size of the file in *bytes* (will be blank for directories).\n",
    "  * **Name:** The name of the file or directory.\n",
    "Typing `ls -l` in the macOS or Ubuntu Terminal displays similar information.\n",
    "\n",
    "{% index:\n",
    "    - ls: code %}"
   ]
  },
  {
   "cell_type": "markdown",
   "id": "d58c37f2-6a0d-4898-a203-d07cb2bf2766",
   "metadata": {},
   "source": [
    "#### Changing Directories with `cd`\n",
    "Now type `cd downloads` and hit enter. Use the `ls` command to see a list of folders in your downloads folder. Here's what the mentor's downloads file looks like:\n",
    "\n",
    "<img src=\"images/downloads.png\" alt=\"downloads\" width=\"750px\"/>\n",
    "{% index:\n",
    "    - cd: code %}"
   ]
  },
  {
   "cell_type": "markdown",
   "id": "864bd883-a1cb-4cc0-8210-a2573e639bfa",
   "metadata": {},
   "source": [
    "#### Moving to a Parent Folder with `cd ..`\n",
    "Now type `cd ..` and hit enter. The current location moves back to your user directory, which is the parent directory of *Downloads*. The two periods are an abbreviation for the parent directory, so `cd ..` is the command for changing the current working directory to the parent directory. This syntax is not unique to Powershell. It works in Linux, on macOS, and in Windows Command Prompt. The `..` symbol also shows up in Python and other programming languages.\n",
    "\n",
    "Enter `cd ..` one more time to move up the the *C:\\Users* folder (*/home* folder on Mac) . List the contents of the folder.\n",
    "\n",
    "<img src=\"images/users.png\" alt=\"users\" width=\"750px\"/>\n",
    "{% index:\n",
    "    ..: code %}"
   ]
  },
  {
   "cell_type": "markdown",
   "id": "a89d9e10-abf9-4264-9fcb-2d10ab62d68f",
   "metadata": {},
   "source": [
    "#### Using Absolute Paths\n",
    "So far we've been passing relative paths to the `cd` command. Absolute paths can be used as well. Try entering `cd C:/Windows` on Windows, or `cd /System` on Mac."
   ]
  },
  {
   "cell_type": "markdown",
   "id": "d33c42d5-b416-46d6-8ac1-c87247d68274",
   "metadata": {},
   "source": [
    "#### Getting Help with `Get-Help`\n",
    "You can get help for any command by typing `Get-Help` (PowerShell) or `help` (Mac and Linux) and then the name of the command. Try `Get-Help cd` or `help cd`. You should see something like this:\n",
    "\n",
    "<img src=\"images/help.png\" alt=\"Help\" width=\"750px\"/>\n",
    "\n",
    "Note that the official name of the `cd` command in Powershell is *Set-Location*.\n",
    "{% index:\n",
    "    - Get-Help: code\n",
    "    - help: code %}"
   ]
  },
  {
   "cell_type": "markdown",
   "id": "7ae229e1-03a3-4aa5-bfd7-095d91790c4b",
   "metadata": {},
   "source": [
    "Clearing the Screen with `cls`\n",
    "Running the help command left a lot of text on the screen. Type `cls` (Windows) or `clear` (Mac and Linux) to clear the escreen.\n",
    "{% index:\n",
    "    cls: code\n",
    "    clear: code %}"
   ]
  },
  {
   "cell_type": "markdown",
   "id": "9890b2bd-b5cd-4738-8735-0d50acf7d27a",
   "metadata": {},
   "source": [
    "Other Userful Commands\n",
    "* `mkdir dir_name` creates a directory in the current folder named *dir_name*.\n",
    "* `rd dir_name` (Windows) or `rmdir dir_name` (Mac, Linux) deletes the directory named *dir_name* in the current folder.\n",
    "* `cp file.txt -Destination C:\\Users\\wall_e\\documents` copies the file *file.txt* in the current folder to WALL-E's documents folder.\n",
    "* `mv file.txt -Destination C:\\Users\\c3p0\\documents` moves the folder *file.txt* to someone's documents folder. `mv` can also be used to rename files.\n",
    "* `del file.txt` (Windows) or `rm file.txt` (Mac, Linux) deletes the folder *file.txt* from the current folder.\n",
    "\n",
    "{% index:\n",
    "    - mkdir: code\n",
    "    - rd: code\n",
    "    - cp: code\n",
    "    - mv: code\n",
    "    - del: code %}"
   ]
  },
  {
   "cell_type": "markdown",
   "id": "16b27cb2-e986-4ca9-8628-a46ef5c6464d",
   "metadata": {},
   "source": [
    "#### Opening Powershell in a Specific Folder.\n",
    "Here's a neat trick for Windows users. First, open the *Windows File Explorer*. You can do this by typing `File Exploer` in the task menu search bar or by finding `File Explorer` on the start menu (in the *Windows System* folder). But my favorite way is to press the *Windows* logo key and *E* at the same time. The *Windows* logo key is the one that looks like a window.\n",
    "\n",
    "Now go to any folder on your computer, type `powershell` in the address bar, and hit ENTER.\n",
    "\n",
    "<img src=\"images/exp_pwrshell.png\" alt=\"Opening Powershell from within File Explorer\" width=\"750px\"/>\n",
    "A powershell window should have opened to the folder that was selected in *Windows File Explorer*.\n",
    "\n",
    "Here's another trick. In *Windows File Explorer*, hold down the SHIFT key and right click on a folder, like so:\n",
    "\n",
    "<img src=\"images/shift_click.png\" alt=\"Opening Powershell with SHIFT+click\" width=\"750px\"/>\n",
    "\n",
    "There is an option on the context menu that will open Powershell in the folder that is currently selected within *Windows File Explorer*.\n",
    "\n",
    "Apple computers probably have similar shortcuts, but the author of this notebook doesn't own an Apple computer."
   ]
  },
  {
   "cell_type": "markdown",
   "id": "8521e656-d115-46f1-b8cd-ea481a4fb0d5",
   "metadata": {},
   "source": [
    "## Installing Python\n",
    "### Python Distributions\n",
    "Python can be downloaded from over a [dozen different websites](https://wiki.python.org/moin/PythonDistributions). Each website offers it's own flavor of Python, bundled with different tools and optional software packages. The different bundles are called *distributions*. In this course we will use the Minconda distribution.\n",
    "\n",
    "{% index:\n",
    "    - Installing Python\n",
    "    - Python Distributions %}"
   ]
  },
  {
   "cell_type": "markdown",
   "id": "07a4a9a1-ff41-4acf-a552-7a65b1172a94",
   "metadata": {},
   "source": [
    "### Preparing for Install\n",
    "#### Check Your User Folder Name\n",
    "Make sure there are no spaces in your user foldername. Spaces in folder names can cause problems. On Microsoft Windows systems, the user folders are in the `C:\\Users` folder. On macOS they are in the `/Users` folder, and on Ubuntu Linux they are in the `/home` folder.\n",
    "* BAD: `C:\\Users\\Don Bossi`\n",
    "* GOOD: `C:\\Users\\don`\n",
    "* Consider installing Python on a different user account if your account name contains a space."
   ]
  },
  {
   "cell_type": "markdown",
   "id": "35284e85-14b0-4143-b8e2-d514fe61e803",
   "metadata": {},
   "source": [
    "#### Uninstall Previous Versions of Python from Windows Machines\n",
    "It's possible to have multiple distributions of Python installed on a Windows computer -- if you know what you're doing. For new programmers, we recommend uninstalling all previously installed Python distributions from Windows machines.\n",
    "* Goto *Add or Remove Programs*.\n",
    "* Search the list of installed programs and uninstall anything with Python in the program name.\n",
    "* Restart your computer.\n",
    "\n",
    "Linux and macOS machines come with Python pre-installed. It's not the Miniconda distribution, but we can leave the earlier installations in place when we install Minconda."
   ]
  },
  {
   "cell_type": "markdown",
   "id": "d648393c-98df-4fe1-ac18-374c08df37bf",
   "metadata": {},
   "source": [
    "### Download Miniconda\n",
    "* Download Python here: https://docs.conda.io/en/latest/miniconda.html\n",
    "* Select the latest version of Python for your operating system.\n",
    "  * For Windows machines, unless your computer is many, many years old, you are probably using a 64-bit system, so download the 64-bit installer.\n",
    "  * For macOS, download one of the M1 or x86 \"pkg\" installers (instead of bash), depending on your computer's type of processor. Newer Apple computers use the M1 processor and pre-2020 computers use an Intel x86 processor. If you are not sure which processor your computer has, click on the Apple icon on the left side of the menu bar and select *About this Mac*. You'll see \"M1\" in the *Chip* section of the screen if your computer has an M1 processor.\n",
    "  * For Linux machines, you probably know what you're doing. If not, talk to a mentor.\n",
    "\n",
    "<img src=\"images/miniconda.png\" alt=\"Miniconda Download Page\" width=\"750\">\n",
    "{% index: Miniconda %}"
   ]
  },
  {
   "cell_type": "markdown",
   "id": "6286d580-3538-4991-9137-119d7bea5b12",
   "metadata": {},
   "source": [
    "### Run the Installer\n",
    "Run the installer that you just downloaded. Leave all installation options as-is and hit *Next*, *I Agree*, or *Install* on each screen. "
   ]
  },
  {
   "cell_type": "markdown",
   "id": "ce984e5a-b7b1-4e52-9665-a23f9cbd9e7a",
   "metadata": {
    "tags": []
   },
   "source": [
    "### Verify Installation\n",
    "#### Open a Command Line Interface\n",
    "##### Windows OS\n",
    "During installation, Miniconda created a modified version of Powershell called *Anaconda Powershell Prompt*. It's just a regular Powershell terminal that also accepts special Miniconda commands. Open *Anaconda Powershell Prompt* by first opening the *Start* menu. Next, if on Windows 11, go to the *All Apps* section if using Windows 11. Find the *Anaconda3 (64-bit)* folder in the *A*-section of the applications list, then find and open the *Anaconda Powershell Prompt* program.\n",
    "\n",
    "Wait, didn't we install the Miniconda distribution? Why aren't we using a *Miniconda Powershell Prompt*? The answer is that Miniconda and Anaconda are nearly identical Python distributions made by the same company. Miniconda is a stripped-down version of the Anaconda distribution and both distributions use the same tools and accessories. Anaconda includes several hundred optional Python packages that we don't need. It's a huge download. Miniconda can be downloaded and installed much faster. \n",
    "\n",
    "<img src=\"images/start-menu.png\" alt=\"Start Menu\" width=500px/>\n",
    "\n",
    "##### MacOS\n",
    "Open the *Terminal* program using *Finder* or *Spotlight*.\n",
    "\n",
    "<img src=\"images/macos-terminal.png\" width=500px/>\n",
    "\n",
    "##### Ubuntu Linux\n",
    "Open the *Terminal* program by clicking on it's icon on the dash menu.\n",
    "\n",
    "<img src=\"images/ubuntu-terminal.png\" width=500px/>\n",
    "\n",
    "#### Display the Python Version\n",
    "Type the command `python -V` into the Powershell prompt or terminal and hit ENTER (make sure the *V* is capitalized). You should see something like this:\n",
    "\n",
    "<img src=\"images/verify-python.png\" width=500px/>\n",
    "\n",
    "If you see the Python version, then the install worked correctly. If not, get help."
   ]
  },
  {
   "cell_type": "markdown",
   "id": "de472392-a33e-4125-8a7a-3cb29045566e",
   "metadata": {},
   "source": [
    "## Packages and Enviornments\n",
    "### Python Packages\n",
    "By itself, Python is a great programming langauge. But I think Python is the top language on Github becuase there are countless, powerful, and freely available Python extensions. These extensions are called *Packages.* Packages are Python programs that are developed by third parties and that provide additional features. There are packages for just about any problem or task that one can imagine. Here are a few of the excellent packages that are useful for scouting and data analysis:\n",
    "* *Numpy* for fast numeric analysis\n",
    "* *Pandas* for analyzing tabular data\n",
    "* *Scipy* for statistics and other high-level mathematical analysis\n",
    "* *Sympy* for symbolic mathematics\n",
    "* *Bokeh* and *Matplotlib* for data visualization\n",
    "* *Flask* and for running web servers\n",
    "\n",
    "Or if you feel like wasting time, check out *pyjoke* and *antigravity*.\n",
    "\n",
    "It's easy to see what package are included in the *base* environment. Just enter the command `conda list` (works on Windows, Mac, and Linux).\n",
    "\n",
    "<img src=\"images/conda_list.png\" alt=\"Conda list command\" width=750px/>\n",
    "\n",
    "{% index:\n",
    "    - Anaconda Environments\n",
    "    - Python Packages %}"
   ]
  },
  {
   "cell_type": "markdown",
   "id": "06b2f1c7-00a6-4d8c-9ae0-afe2e432d794",
   "metadata": {},
   "source": [
    "### Environments\n",
    "Python programmers typically use different sets of packages for different projects. They might even use *different versions of Python* for different projects. Miniconda makes it easy to bundle a set of packages with a specific version of Python. This bundle is called an *Environment*. Furthermore, Miniconda makes it easy to create multiple environments and quickly switch between them.\n",
    "\n",
    "Miniconda (and Anaconda) automatically creates an environment when it is installed. Open a terminal (Anaconda Powershell prompt in Windows, Terminal in Mac, etc.) and enter `conda info --envs`. You should see something like this:\n",
    "\n",
    "<img src=\"images/list-environments.png\" alt=\"Listing Conda Environments\" width=750px/>"
   ]
  },
  {
   "cell_type": "markdown",
   "id": "88f3333e-20db-4a3f-8690-071fe921d9e2",
   "metadata": {},
   "source": [
    "There are three environments in this example. The *base* environment was created automatically when Miniconda was installed. The *irs23* and *pyclass* environments were created later - on your system you'll probably only see the *base* environment. The asterisk indicates which environment is currently activated. On Windows the name of the currently activated environment also appears at the beginning of each prompt.\n",
    "\n",
    "In general, don't use the base environment for any work and don't install any packages in it. Always use an environment other than the base environment when working in Python.\n",
    "\n",
    "#### Creating an Environment\n",
    "Let's create a pyclass environment. Enter and run the following command:\n",
    "```bash\n",
    "conda create --name pyclass python=3.10\n",
    "```\n",
    "Enter 'Y' when asked for confirmation.\n",
    "\n",
    "This command creates an environment named *pyclass* and sets the Python version to 3.10. It will take a minute or so to create the environment. When it's done, you'll see something like this:\n",
    "```plaintext\n",
    "Preparing transaction: done\n",
    "Verifying transaction: done\n",
    "Executing transaction: done\n",
    "#\n",
    "# To activate this environment, use\n",
    "#\n",
    "#     $ conda activate pyclass\n",
    "#\n",
    "# To deactivate an active environment, use\n",
    "#\n",
    "#     $ conda deactivate\n",
    "\n",
    "(base) PS C:\\Users\\stacy>\n",
    "```\n",
    "{% index:\n",
    "    - conda create: code %}"
   ]
  },
  {
   "cell_type": "markdown",
   "id": "195b8317-4814-43ef-9002-989a4cf5d3f3",
   "metadata": {},
   "source": [
    "## Activating and Deactivating the Environment\n",
    "Even though we created the *pyclass* environment, it is not yet activated. The output from the `conda create` command told us how to activate it. Enter `conda activate pyclass` in your terminal. You can go back to the base environment by entering `conda deactivate`.\n",
    "\n",
    "{% index:\n",
    "    - conda activate: code\n",
    "    - conda deactivate: code %}"
   ]
  },
  {
   "cell_type": "markdown",
   "id": "39678a09-2dd8-4cf4-b6e1-2c7e7dc3a52d",
   "metadata": {},
   "source": [
    "### Installing Packages into the Pyclass Environment\n",
    "Let's install the Jupyterlab package so we can run Python notebooks on our local computer. First, make sure the *pyclass* environment is activated, then Run this command:\n",
    "```\n",
    "conda install jupyterlab\n",
    "```\n",
    "Enter 'Y' when conda asks for confirmation."
   ]
  },
  {
   "cell_type": "markdown",
   "id": "3d44b1c6-83aa-4139-8561-909f5dff3f15",
   "metadata": {},
   "source": [
    "### Further Reading\n",
    "Everything you want to know about using the Conda package manager to install packages and manage environments is probably available in [Conda's official documentation](https://conda.io/projects/conda/en/latest/index.html). The user guide sections on [environments](https://conda.io/projects/conda/en/latest/user-guide/tasks/manage-environments.html) and [packages](https://conda.io/projects/conda/en/latest/user-guide/tasks/manage-pkgs.html) are especially helpful.\n",
    "\n",
    "#### Reading Assignment\n",
    "Read [Getting Started with Conda.](https://conda.io/projects/conda/en/latest/user-guide/getting-started.html)"
   ]
  },
  {
   "cell_type": "markdown",
   "id": "aa6c2f47-939e-4a38-a375-2fd212dc87b5",
   "metadata": {},
   "source": [
    "## Running Jupyterlab\n",
    "Ensure your *pyclass* environment is activated and run this command: `jupyter lab`. You should see a browser window pop up on your screen.\n",
    "\n",
    "### Using the Launcher\n",
    "Use the launcher to create new notebooks and text files and to open terminal windows. Open the launcher by clicking on the rectangular \"+\" button thats right below the *Jupyter Lab* *File* and *Edit* menus (see below).\n",
    "\n",
    "<img src=\"images/jupyter_new_item.png\" alt=\"Jupyter Launcher Button\" width=500px/>\n",
    "{% index: Jupyterlab %}"
   ]
  },
  {
   "cell_type": "markdown",
   "id": "55911a47-dbba-4458-be4e-2b5098b07cbf",
   "metadata": {},
   "source": [
    "### Creating New Items\n",
    "\n",
    "You should see something like this after starting the launcher:\n",
    "\n",
    "<img src=\"images/jupyter-launcher.png\" alt=\"Jupyter Launcher Screen\" width=600px/>\n",
    "\n",
    "Here's a list of items you can create from the launcher:\n",
    "* **Python Notebook:** You already use notebooks. They're what Jupyter is all about.\n",
    "* **Python Console:** This button opens a Python prompt. We don't use this feature very often.\n",
    "* **Terminal:** Depending on the operating system, opens a Powershell, Terminal, or Bash command line interface.\n",
    "* **Markdown File:** Mardown files are cool. They're text files that can contain headers, hyperlinks, and other useful formatting. In fact, the cell you are reading now contains markdown text! A lot of different programs, like Jupyter and VS Code, are able to display the formatting in markdown files. [Learn more at markdownguide.org](https://www.markdownguide.org/getting-started/).\n",
    "* **Python File:** You can use Jupyter to create and edit regular Python files."
   ]
  },
  {
   "cell_type": "markdown",
   "id": "d506de13-556a-496f-8fdf-ac680273789a",
   "metadata": {},
   "source": [
    "### Jupyter Notebooks\n",
    "Jupyter is primarily used to run code in notebooks. Jupyter notebooks are very similar to the notebooks that you've already been using on Google Colab, so we won't spend much time reviewing them in this lesson. Instead, [watch the video on the Juypterlab overview page](https://jupyterlab.readthedocs.io/en/stable/getting_started/overview.html). There are more helpful vides on on the [Notebook User Guide page](https://jupyterlab.readthedocs.io/en/stable/user/notebook.html). The Real Python website also has a [good overview of Jupyter notebooks](https://realpython.com/jupyter-notebook-introduction/).\n",
    "\n",
    "Here are some keyboard shortcuts that are very helpful when working in Jupyter notebooks.\n",
    "* CRTL + ENTER runs the current cell.\n",
    "* SHIFT + ENTER runs the current cell and advances to the next cell.\n",
    "* ESC, A inserts a new, blank cell above the current cell.\n",
    "* ESC, B inserts a new, blank cell below the current cell.\n",
    "* ESC, M converts the current cell to a markdown cell.\n",
    "* ESC, Y converts the current cell to a code cell.\n",
    "\n",
    "The '+' sign means press both keys simultaneously. The ',' means first press the key on the left, then the key on the right."
   ]
  },
  {
   "cell_type": "markdown",
   "id": "04e6c164-e62f-4f36-baa2-efc0cece236a",
   "metadata": {},
   "source": [
    "## Visual Studio (VS) Code\n",
    "Next, we'll install a source-code editor called VS Code. Note that *VS Code* and *Visual Studio* are two different programs. Visual Studio is a massive development enviornment that is frequently used with compiled langauges like C#, Visual Basic .NET, C++, and F#. We could use Visual Studio to write Python programs, but it's way more than we need. VS Code is a smaller program that provides the features we need.\n",
    "\n",
    "1. Download the appropriate version of VS Code for your operating system [from this page](https://code.visualstudio.com/download).\n",
    "2. Run the installer and accept all of the default options.\n",
    "3. [Watch this video](https://code.visualstudio.com/docs/introvideos/basics) to start learning how to use VS Code. Follow the instructions in the video to install the Python extension for VS Code\n",
    "\n",
    "{% index:\n",
    "    - VS Code: preserve_case %}"
   ]
  },
  {
   "cell_type": "markdown",
   "id": "15306116-5930-409f-957f-b7f81b4a023f",
   "metadata": {},
   "source": [
    "## Git\n",
    "Now we'll install Git, which is a version control system and an essential tool for software developers.\n",
    "1. Download the appropriate version of Git for your operating system [from this link](https://git-scm.com/downloads).\n",
    "2. Run the Git installer. Run the installer. Accept all but two of the default installation options:\n",
    "    * The installer might ask if you want to change the default branch name from “master” to “main”. Select “main” as the default branch name.\n",
    "    * At some point the installer will ask which editor should be your default editor. The IRS recommends you select Microsoft VS Code.\n",
    "    \n",
    "{% index: Git %}"
   ]
  },
  {
   "cell_type": "markdown",
   "id": "03773315-6d55-4f76-a89c-49eba01e0184",
   "metadata": {},
   "source": [
    "## Cloning the Python Class Files\n",
    "Finally, we'll use Git to download our own copy of the Python course files.\n",
    "1. Decide where you want to store the Python course files on your computer.\n",
    "2. Start Powershell or Terminal and navigate to that folder.\n",
    "3. Run this command:\n",
    "```bash\n",
    "git clone https://github.com/irs1318dev/python2023.git\n",
    "```\n",
    "\n",
    "Git will create a subfolder named *python2023* and copy the course files into that folder. The lesson notebooks are in the *python2023/output* folder, but we don't want to work in that folder. Run the following commands to make a copy of the lesson notebooks.\n",
    "\n",
    "```bash\n",
    "mkdir pyclass\n",
    "cp -r python2023/output pyclass\n",
    "```\n",
    "\n",
    "{% index:\n",
    "    - git clone: code\n",
    "    - Download Python Class %}"
   ]
  },
  {
   "cell_type": "markdown",
   "id": "2db91f11-5668-4220-861f-cd631d0b3e27",
   "metadata": {},
   "source": [
    "## Opening the Python Class Files in Jupyer\n",
    "1. Change directories to *python2023/output*: `cd python2023/output`\n",
    "2. Run Jupyterlab: `jupyter lab`.\n",
    "\n",
    "You should now see the Python class files. Double-click on *toc.ipynb* to open the table of contents.\n",
    "\n",
    "![pyclass](images/pyclass.png)"
   ]
  },
  {
   "cell_type": "markdown",
   "id": "31e6dc74-e4f1-4586-b823-5ba1fc044a99",
   "metadata": {},
   "source": [
    "## Quiz\n",
    "Answer the following questions by typing the answers as comments in the code block below each question."
   ]
  },
  {
   "cell_type": "markdown",
   "id": "a1544ef4-d44d-4742-8259-15284f2cce8c",
   "metadata": {},
   "source": [
    "**#1.** What does the CLI command `cd ../../robofiles do?`"
   ]
  },
  {
   "cell_type": "code",
   "execution_count": null,
   "id": "a08c306f-d1cb-4fd2-9bef-44a8ce7a4afe",
   "metadata": {},
   "outputs": [],
   "source": [
    "# 1.\n"
   ]
  },
  {
   "cell_type": "markdown",
   "id": "5c738151-0c6c-4079-8062-b3147313f391",
   "metadata": {},
   "source": [
    "**#2.** What does the command `rm -r extra_files` do? Specifically, what is the purpose of `-r` in the command? You'll have to look this up. In Powershell try `Get-Help rm -detailed` and in Terminal try `rm --help`. **Note for Powershell users:** Powershell allows options to be abreviated, so `-r` is short for a longer parameter that starts with *R*. "
   ]
  },
  {
   "cell_type": "code",
   "execution_count": null,
   "id": "04b6e9d1-2b33-4927-8947-96bf0efd2153",
   "metadata": {},
   "outputs": [],
   "source": [
    "# 2.\n"
   ]
  },
  {
   "cell_type": "markdown",
   "id": "04231b0c-2272-490e-a5a7-dbf9b5df8b78",
   "metadata": {},
   "source": [
    "**#3.** What is the difference between these two paths:\n",
    "* `\\Users\\LillianGilbreath`\n",
    "* `Users\\LillianGilbreath`"
   ]
  },
  {
   "cell_type": "code",
   "execution_count": null,
   "id": "1dc8132d-4205-4976-b589-c64b22210008",
   "metadata": {},
   "outputs": [],
   "source": [
    "# 3. "
   ]
  },
  {
   "cell_type": "markdown",
   "id": "43703012-2e45-4a2b-9590-8507fb0592c9",
   "metadata": {},
   "source": [
    "**#4.** Convert the cell below to markdown and add an unordered list. Each item in the list should be a hyperlink. The hyperlinks should point to the IRS's website, FIRST's website, The Blue Alliance website, and FIRST Washington's website. The text for each hyperlink should be customized, i.e., the hyperlink text should NOT be the URL. **HINT:** Watch the Jupyterlab video. The link is in the *Jupyter Notebooks* section of this notebook."
   ]
  },
  {
   "cell_type": "code",
   "execution_count": null,
   "id": "3414892a-e9c6-41c5-bcbf-f9a0d03a68c5",
   "metadata": {},
   "outputs": [],
   "source": [
    "# 4.\n"
   ]
  },
  {
   "cell_type": "markdown",
   "id": "6c0d0616-6361-4e07-a493-d30db1d285bc",
   "metadata": {},
   "source": [
    "## Save Your Work -- NOT\n",
    "Don't worry about saving your work for this lesson."
   ]
  },
  {
   "cell_type": "raw",
   "id": "cbd00f20-c2fb-4d0f-bcea-adc9d58a2df6",
   "metadata": {},
   "source": [
    "endblock:"
   ]
  }
 ],
 "metadata": {
  "kernelspec": {
   "display_name": "Python 3 (ipykernel)",
   "language": "python",
   "name": "python3"
  },
  "language_info": {
   "codemirror_mode": {
    "name": "ipython",
    "version": 3
   },
   "file_extension": ".py",
   "mimetype": "text/x-python",
   "name": "python",
   "nbconvert_exporter": "python",
   "pygments_lexer": "ipython3",
   "version": "3.11.4"
  }
 },
 "nbformat": 4,
 "nbformat_minor": 5
}
