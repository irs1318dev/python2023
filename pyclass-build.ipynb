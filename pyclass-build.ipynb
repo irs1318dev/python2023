{
 "cells": [
  {
   "cell_type": "markdown",
   "id": "e032f541-2bf0-4bae-99f3-f10247b0bdf7",
   "metadata": {},
   "source": [
    "# Pyclass Tiedown Project"
   ]
  },
  {
   "cell_type": "code",
   "execution_count": 1,
   "id": "ed7dbd4b-fc27-4f93-a10a-c0f4f8d9ce94",
   "metadata": {},
   "outputs": [
    {
     "ename": "ModuleNotFoundError",
     "evalue": "No module named 'tiedown.project'",
     "output_type": "error",
     "traceback": [
      "\u001b[1;31m---------------------------------------------------------------------------\u001b[0m",
      "\u001b[1;31mModuleNotFoundError\u001b[0m                       Traceback (most recent call last)",
      "Cell \u001b[1;32mIn[1], line 6\u001b[0m\n\u001b[0;32m      2\u001b[0m \u001b[38;5;28;01mimport\u001b[39;00m \u001b[38;5;21;01msys\u001b[39;00m\n\u001b[0;32m      4\u001b[0m \u001b[38;5;28;01mimport\u001b[39;00m \u001b[38;5;21;01myaml\u001b[39;00m\n\u001b[1;32m----> 6\u001b[0m \u001b[38;5;28;01mimport\u001b[39;00m \u001b[38;5;21;01mtiedown\u001b[39;00m\u001b[38;5;21;01m.\u001b[39;00m\u001b[38;5;21;01mproject\u001b[39;00m \u001b[38;5;28;01mas\u001b[39;00m \u001b[38;5;21;01mproject\u001b[39;00m\n",
      "\u001b[1;31mModuleNotFoundError\u001b[0m: No module named 'tiedown.project'"
     ]
    }
   ],
   "source": [
    "import pathlib\n",
    "import sys\n",
    "\n",
    "import yaml\n",
    "\n",
    "import tiedown.project as project"
   ]
  },
  {
   "cell_type": "code",
   "execution_count": null,
   "id": "48e889b7-a4ed-449c-b381-3ad7aa860e49",
   "metadata": {},
   "outputs": [],
   "source": [
    "pyclass = project.Project(pathlib.Path().cwd(), colab=True, log=False)\n",
    "pyclass.build()"
   ]
  },
  {
   "cell_type": "code",
   "execution_count": null,
   "id": "00527394-27b5-453f-a77d-833c3442ac93",
   "metadata": {},
   "outputs": [],
   "source": [
    "# pyclass.ext[\"tiedown_toc\"].toc"
   ]
  },
  {
   "cell_type": "code",
   "execution_count": null,
   "id": "5cf738d5-ab0d-411e-b167-fd505092583b",
   "metadata": {},
   "outputs": [],
   "source": []
  }
 ],
 "metadata": {
  "kernelspec": {
   "display_name": "Python 3 (ipykernel)",
   "language": "python",
   "name": "python3"
  },
  "language_info": {
   "codemirror_mode": {
    "name": "ipython",
    "version": 3
   },
   "file_extension": ".py",
   "mimetype": "text/x-python",
   "name": "python",
   "nbconvert_exporter": "python",
   "pygments_lexer": "ipython3",
   "version": "3.11.5"
  }
 },
 "nbformat": 4,
 "nbformat_minor": 5
}
