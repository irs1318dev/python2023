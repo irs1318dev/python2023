{
 "cells": [
  {
   "cell_type": "markdown",
   "id": "e032f541-2bf0-4bae-99f3-f10247b0bdf7",
   "metadata": {},
   "source": [
    "# Pyclass Tiedown Project"
   ]
  },
  {
   "cell_type": "code",
   "execution_count": 1,
   "id": "ed7dbd4b-fc27-4f93-a10a-c0f4f8d9ce94",
   "metadata": {},
   "outputs": [],
   "source": [
    "import pathlib\n",
    "import sys\n",
    "\n",
    "import yaml\n",
    "\n",
    "import tiedown.project as project"
   ]
  },
  {
   "cell_type": "code",
   "execution_count": 2,
   "id": "48e889b7-a4ed-449c-b381-3ad7aa860e49",
   "metadata": {},
   "outputs": [
    {
     "name": "stderr",
     "output_type": "stream",
     "text": [
      "C:\\Users\\stacy\\miniconda3\\envs\\irs24\\Lib\\site-packages\\nbformat\\__init__.py:129: MissingIDFieldWarning: Code cell is missing an id field, this will become a hard error in future nbformat versions. You may want to use `normalize()` on your notebooks before validations (available since nbformat 5.1.4). Previous versions of nbformat are fixing this issue transparently, and will stop doing so in the future.\n",
      "  validate(nb)\n"
     ]
    }
   ],
   "source": [
    "pyclass = project.Project(pathlib.Path().cwd(), colab=True, log=False)\n",
    "pyclass.build()"
   ]
  },
  {
   "cell_type": "code",
   "execution_count": 3,
   "id": "00527394-27b5-453f-a77d-833c3442ac93",
   "metadata": {},
   "outputs": [],
   "source": [
    "# pyclass.ext[\"tiedown_toc\"].toc"
   ]
  },
  {
   "cell_type": "code",
   "execution_count": null,
   "id": "5cf738d5-ab0d-411e-b167-fd505092583b",
   "metadata": {},
   "outputs": [],
   "source": []
  }
 ],
 "metadata": {
  "kernelspec": {
   "display_name": "Python 3 (ipykernel)",
   "language": "python",
   "name": "python3"
  },
  "language_info": {
   "codemirror_mode": {
    "name": "ipython",
    "version": 3
   },
   "file_extension": ".py",
   "mimetype": "text/x-python",
   "name": "python",
   "nbconvert_exporter": "python",
   "pygments_lexer": "ipython3",
   "version": "3.11.7"
  }
 },
 "nbformat": 4,
 "nbformat_minor": 5
}
