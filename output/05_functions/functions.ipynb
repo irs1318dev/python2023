{
 "cells": [
  {
   "cell_type": "markdown",
   "id": "1783cff3-7acc-4f5a-b85b-a0f26b1c5b0e",
   "metadata": {
    "tiedown.cell_index": "cid1"
   },
   "source": [
    "[Table of Contents](../toc.ipynb)<span id=\"cid1\"/>"
   ]
  },
  {
   "cell_type": "markdown",
   "id": "cc64b3ce",
   "metadata": {
    "tiedown.cell_index": "cid2"
   },
   "source": [
    "# Functions<span id=\"cid2\"/>\n",
    "\n",
    "Functions are an essential part of programming. It is difficult to imagine writing a computer program of any consequence without them.\n",
    "\n",
    "Functions provide many benefits, such as keeping computer programs organized, allowing us to reuse code, and preventing software bugs. As new analysts, these concepts are difficult to understand. They will become clearer with more experience.\n",
    "\n",
    "Before considering functions, we need to understand a couple concepts: expressions and code blocks."
   ]
  },
  {
   "cell_type": "markdown",
   "id": "2b01d90c",
   "metadata": {
    "tiedown.cell_index": "cid3"
   },
   "source": [
    "## I. Expressions<span id=\"cid3\"/>\n",
    "We will frequently use the terms *expression* when discussing programming.\n",
    "\n",
    "\n",
    "\n",
    "### A. Definition\n",
    "Consider the following code."
   ]
  },
  {
   "cell_type": "code",
   "execution_count": null,
   "id": "cf80af49",
   "metadata": {},
   "outputs": [],
   "source": [
    "# Expression Example\n",
    "var4 = 4\n",
    "print(4)\n",
    "print(var4)\n",
    "print(2 + 2)"
   ]
  },
  {
   "cell_type": "markdown",
   "id": "3f2ea442",
   "metadata": {
    "tiedown.cell_index": "cid4"
   },
   "source": [
    "We passed three different things to the `print()` function, yet the `print()` function displayed the same result each time. (By the way, the technical term in computer programming for *thing* is *syntactic entity*. I'm going to stick with *thing*.) In each case, Python converted the thing to the integer 4.<span id=\"cid4\"/>\n",
    "\n",
    "All three things passed to `print()` are what we call expressions. This is a general programming concept that applies to most, if not all, programming languages. An expression is a syntactic entity (i.e., thing) that can be converted to a value. In our example above, all three expressions converted to the value 4. In programming, instead of saying *converted*, we say the expression was **evaluated**.\n",
    "\n",
    "### B. Literals\n",
    "Expressions can be very simple, like literal values, or **literals**. Literals are values that are not variables that are just written out. See below:"
   ]
  },
  {
   "cell_type": "code",
   "execution_count": null,
   "id": "64fbea11",
   "metadata": {},
   "outputs": [],
   "source": [
    "# Integer literals\n",
    "4\n",
    "9\n",
    "237\n",
    "\n",
    "# String Literals\n",
    "'this is a string'\n",
    "\"Coopertition\"\n",
    "\n",
    "# Floating Point Literals\n",
    "1.60217662E-19\n",
    "\n",
    "# List literal\n",
    "[1, 2, 6, 24, 120, 720]"
   ]
  },
  {
   "cell_type": "markdown",
   "id": "885b7acf",
   "metadata": {
    "tiedown.cell_index": "cid5"
   },
   "source": [
    "### C. Other Types of Expressions<span id=\"cid5\"/>\n",
    "We have already worked with arithmatic expressions."
   ]
  },
  {
   "cell_type": "code",
   "execution_count": null,
   "id": "1f4556da",
   "metadata": {},
   "outputs": [],
   "source": [
    "# Examples of arithmatic expressions\n",
    "47 - 19\n",
    "(12 + 17) / 2"
   ]
  },
  {
   "cell_type": "markdown",
   "id": "fcbabbbc",
   "metadata": {
    "tiedown.cell_index": "cid6"
   },
   "source": [
    "Conditional expressions include conditional operators and evaluate to Boolean objects.<span id=\"cid6\"/>"
   ]
  },
  {
   "cell_type": "code",
   "execution_count": null,
   "id": "e68907fd",
   "metadata": {},
   "outputs": [],
   "source": [
    "# Conditional Expressions\n",
    "5 > 10\n",
    "5 > var4\n",
    "6.2 == 6.1"
   ]
  },
  {
   "cell_type": "markdown",
   "id": "85ac2de9",
   "metadata": {
    "tiedown.cell_index": "cid7"
   },
   "source": [
    "Functions can also appear in expressions.<span id=\"cid7\"/>"
   ]
  },
  {
   "cell_type": "code",
   "execution_count": null,
   "id": "dd84e563",
   "metadata": {},
   "outputs": [],
   "source": [
    "len([1, 2, 3]) > 2"
   ]
  },
  {
   "cell_type": "markdown",
   "id": "7b9480fc",
   "metadata": {
    "tiedown.cell_index": "cid8"
   },
   "source": [
    "In short, anything that can be assigned to a variable or passed to a function is an expression.<span id=\"cid8\"/>"
   ]
  },
  {
   "cell_type": "markdown",
   "id": "09a18036",
   "metadata": {
    "tiedown.cell_index": "cid9"
   },
   "source": [
    "### D. Expressions Verses Statements<span id=\"cid9\"/>\n",
    "Every syntactically correct line of Python code is considered to be a statement. All expressions are statements, but not all statements are expressions.\n",
    "\n",
    "\n",
    "For example, assigning an expression to a variable requires an assignment statement. However assignment statements are not expressions because they cannot be assigned to a variable or passed to a function."
   ]
  },
  {
   "cell_type": "code",
   "execution_count": null,
   "id": "e3657ba8",
   "metadata": {},
   "outputs": [],
   "source": [
    "# Simple assignment statement\n",
    "var4 = 4\n",
    "\n",
    "# Assignment statements are not expressions - this causes an error\n",
    "print(var5 = 5)"
   ]
  },
  {
   "cell_type": "markdown",
   "id": "ac6f6f76",
   "metadata": {
    "tiedown.cell_index": "cid10"
   },
   "source": [
    "If you are using Python version 3.8 or later, there is a new type of assignment statement called an *assignment expression*. It uses the walrus operator: `:=`. <span id=\"cid10\"/>"
   ]
  },
  {
   "cell_type": "code",
   "execution_count": null,
   "id": "f86c95a8",
   "metadata": {},
   "outputs": [],
   "source": [
    "# Assignment expressions assign a value to a variable AND evaluate to a value\n",
    "print(var6 := 6)"
   ]
  },
  {
   "cell_type": "markdown",
   "id": "d0816f51",
   "metadata": {
    "tiedown.cell_index": "cid11"
   },
   "source": [
    "The walrus operator caused the integer 6 to be assigned to the variable `var6` AND evaluated to the integer 6. Assignment expressions evaluate to whatever expression is to the right of the walrus operator.<span id=\"cid11\"/>\n",
    "\n",
    "For loops, `while` loops and `if` statements are all statements, but not expressions."
   ]
  },
  {
   "cell_type": "markdown",
   "id": "d847cd1b",
   "metadata": {
    "tiedown.cell_index": "cid12"
   },
   "source": [
    "## II. Code Blocks<span id=\"cid12\"/>\n",
    "A **code block** is a group of statements that will be run together. We already used code blocks with our control statements in session 2. Consider the while loop for calculating a factorial:\n",
    "\n",
    "```Python\n",
    "num = 5\n",
    "step = 1\n",
    "fact = 1\n",
    "while step < num:\n",
    "    step = step + 1\n",
    "    fact = fact * step\n",
    "print(f'Factorial of {num}:', fact)\n",
    "```\n",
    "\n",
    "See how the two lines after the `while` statement are indented? Python uses indentation to define code blocks. The two indented lines will be executed several times because they are part of the `while` loop. The `print()` statement is not part of the `while` loop because it is not indented. It will only be executed once, at the very end of the program after the while loop is complete.\n",
    "\n",
    "Don't take my word for it - see for yourself. Run the cell below and note the output."
   ]
  },
  {
   "cell_type": "code",
   "execution_count": null,
   "id": "f7fccd33",
   "metadata": {},
   "outputs": [],
   "source": [
    "# Calculate the factorial of the number assigned to the variable num\n",
    "num = 5\n",
    "step = 1\n",
    "fact = 1\n",
    "while step < num:\n",
    "    step = step + 1\n",
    "    fact = fact * step\n",
    "print(f'Factorial of {num}:', fact)"
   ]
  },
  {
   "cell_type": "markdown",
   "id": "4219adf3",
   "metadata": {
    "tiedown.cell_index": "cid13"
   },
   "source": [
    "Now go back and make one change to the code. Put four spaces in front of the `print()` statement so that it is at the same indentation level as the preceding two lines. Run the cell again.<span id=\"cid13\"/>\n",
    "\n",
    "The code spit our four lines of output instead of one. There was one line of output for every time the `while` loop ran. By indenting the `print()` statement, we told Python that the `print()` statement should be part of the while loop.\n",
    "\n",
    "We also used code blocks in `if` statements and `for` loops. Did you notice that Python statements that start new code blocks end in colons? Forgetting to put a colon before starting a code block is a common error.\n",
    "\n",
    "```Python\n",
    "for idx in range(5):\n",
    "    print(idx)\n",
    "```\n",
    "\n",
    "```Python\n",
    "if num_cheetos_left == 0:\n",
    "    print('We need to buy more Cheetos!')\n",
    "```\n",
    "\n",
    "The two code blocks above each contain only a single statement, but they are still code blocks.\n",
    "\n",
    "As you will see in the next section, functions are basically named blocks of code."
   ]
  },
  {
   "cell_type": "markdown",
   "id": "24cc74df",
   "metadata": {
    "tiedown.cell_index": "cid14"
   },
   "source": [
    "## III. First Function<span id=\"cid14\"/>\n",
    "As shown below, functions are defined using the keyword `def`. Run the cell below to define the function."
   ]
  },
  {
   "cell_type": "code",
   "execution_count": null,
   "id": "f1b5bac2",
   "metadata": {},
   "outputs": [],
   "source": [
    "# First function definition\n",
    "def function_a():\n",
    "    msg = 'function_a is now running'\n",
    "    print(msg)"
   ]
  },
  {
   "cell_type": "markdown",
   "id": "666ec66c",
   "metadata": {
    "tiedown.cell_index": "cid15"
   },
   "source": [
    "It appears that nothing happened when you ran the cell. But something did happen. Python defined a function called `function_a`. We can run the function by writing a statement with the function's name followed by parentheses.<span id=\"cid15\"/>"
   ]
  },
  {
   "cell_type": "code",
   "execution_count": null,
   "id": "8b88612d",
   "metadata": {},
   "outputs": [],
   "source": [
    "# Calling a function\n",
    "function_a()"
   ]
  },
  {
   "cell_type": "markdown",
   "id": "f0aa1835",
   "metadata": {
    "tiedown.cell_index": "cid16"
   },
   "source": [
    "In programming, when we run a function, we say that we **call** the function.<span id=\"cid16\"/>"
   ]
  },
  {
   "cell_type": "markdown",
   "id": "2a0d2c2f",
   "metadata": {
    "tiedown.cell_index": "cid17"
   },
   "source": [
    "## IV. Arguments and Return Values<span id=\"cid17\"/>"
   ]
  },
  {
   "cell_type": "markdown",
   "id": "ef945b63",
   "metadata": {
    "tiedown.cell_index": "cid18"
   },
   "source": [
    "Run the two cells below to see an example of a simple function with arguments.<span id=\"cid18\"/>"
   ]
  },
  {
   "cell_type": "code",
   "execution_count": null,
   "id": "d9635907",
   "metadata": {},
   "outputs": [],
   "source": [
    "# Function with Arguments\n",
    "def add_two_numbers(x, y):\n",
    "    print('x =', x)\n",
    "    print('y =', y)\n",
    "    return x + y"
   ]
  },
  {
   "cell_type": "code",
   "execution_count": null,
   "id": "d9af2808",
   "metadata": {},
   "outputs": [],
   "source": [
    "add_two_numbers(93, 107)"
   ]
  },
  {
   "cell_type": "markdown",
   "id": "9972a3c4",
   "metadata": {
    "tiedown.cell_index": "cid19"
   },
   "source": [
    "Values that we pass into a function within parentheses are called arguments. In this example our arguments are the numbers 93 and 107. From examining the print statements we can see that 93 is assigned to `x` and 107 is assigned to `y`. It's not wrong to call `x` and `y` variables because they behave just like variables inside the function. But *parameter* is a more accurate term. A parameter is a special type of variable that gets its value from an argument that is passed into the function. This is a tricky distinction so we'll go over it again.<span id=\"cid19\"/>\n",
    "* **Argument:** A value that is passed into a function when it is called. In the example above, 93 and 107 are the arguments.\n",
    "* **Parameter:** A special variable inside a function that contains one of the function arguments. `x` and `y` are the parameters in the example above.\n",
    "\n",
    "Finally, note the `return` statement. The value to the right of the return statement is the output of the function. Jupyter notebooks will automatically display this value if the function is called in the last line of a code cell.\n",
    "\n",
    "We usually want to save a function's output and use it later. It's more common to assign the output, or **return value**, of a function to a variable like this:"
   ]
  },
  {
   "cell_type": "code",
   "execution_count": null,
   "id": "e9d05d2a",
   "metadata": {},
   "outputs": [],
   "source": [
    "# Assigning function's return value to a variable\n",
    "total = add_two_numbers(251, 164)"
   ]
  },
  {
   "cell_type": "markdown",
   "id": "19713564",
   "metadata": {
    "tiedown.cell_index": "cid20"
   },
   "source": [
    "The return value was not displayed because we assigned it to a variable instead. But it was not lost. Run the next cell to see the return value.<span id=\"cid20\"/>"
   ]
  },
  {
   "cell_type": "code",
   "execution_count": null,
   "id": "15460bdf",
   "metadata": {},
   "outputs": [],
   "source": [
    "# Value of sum variable\n",
    "total"
   ]
  },
  {
   "cell_type": "markdown",
   "id": "bc3fd5fa",
   "metadata": {
    "tiedown.cell_index": "cid21"
   },
   "source": [
    "Functions are not required to have a `return` statement. Run the cell below to define another example function.<span id=\"cid21\"/>"
   ]
  },
  {
   "cell_type": "code",
   "execution_count": null,
   "id": "74e73097",
   "metadata": {},
   "outputs": [],
   "source": [
    "def returns_nothing(a, b):\n",
    "    print('returns_nothing() is running now.')\n",
    "    a * b"
   ]
  },
  {
   "cell_type": "markdown",
   "id": "a4c6fb7f",
   "metadata": {
    "tiedown.cell_index": "cid22"
   },
   "source": [
    "Now run the next cell to run `returns_nothing()`.<span id=\"cid22\"/>"
   ]
  },
  {
   "cell_type": "code",
   "execution_count": null,
   "id": "cb236c9b",
   "metadata": {},
   "outputs": [],
   "source": [
    "returns_nothing(20, 21)"
   ]
  },
  {
   "cell_type": "markdown",
   "id": "2b3104a9",
   "metadata": {
    "tiedown.cell_index": "cid23"
   },
   "source": [
    "We know the function ran because we see the results of the print statement, but the product of a and b was not displayed because we didn't include a `return` statement.<span id=\"cid23\"/>"
   ]
  },
  {
   "cell_type": "markdown",
   "id": "76729e74",
   "metadata": {
    "tiedown.cell_index": "cid24"
   },
   "source": [
    "## V. First Function Exercise<span id=\"cid24\"/>\n",
    "Convert the code for calculating a factorial (in the beginning of section II of this notebook) to a function. Name the function `factorial()`. `factorial()` should take a single argument, the number for which we will calculate the factorial. Define `factorial()` in the cell below. Return the result instead of printing it."
   ]
  },
  {
   "cell_type": "code",
   "execution_count": null,
   "id": "f171a9ba",
   "metadata": {},
   "outputs": [],
   "source": [
    "# Define factorial() in this cell. Remember to run this cell!\n",
    "\n"
   ]
  },
  {
   "cell_type": "markdown",
   "id": "2a1272c1",
   "metadata": {
    "tiedown.cell_index": "cid25"
   },
   "source": [
    "Run the cell below. It will show the factorial of 10 if you defined the function correctly.<span id=\"cid25\"/>"
   ]
  },
  {
   "cell_type": "code",
   "execution_count": null,
   "id": "8b73d05f",
   "metadata": {},
   "outputs": [],
   "source": [
    "# Run the factorial function\n",
    "factorial(10)"
   ]
  },
  {
   "cell_type": "markdown",
   "id": "50372c4d",
   "metadata": {
    "tiedown.cell_index": "cid26"
   },
   "source": [
    "If you see `\"NameError: name 'factorial' is not defined\"`, that means you forgot to run the cell that defined the `factorial()` function. Pay attention to this next part - I've seen many FIRST students get confused about this and then spend a lot of time wondering why their code isn't doing anything:<span id=\"cid26\"/>\n",
    "* The first cell in this exercise *defines* the function. It says to Python \"Oh, by the way, if anyone tells you to run a function called `factorial()`, run this code here.\" Python responds by saying \"Noted\" (not really, Python creates a function object but doesn't otherwise appear to do anything).\n",
    "* The second cell *calls* the function. It says to Python \"Hey, remember that `factorial()` function we told you about earlier? Please run it now, with an argument of 10.\"\n",
    "\n",
    "Common mistakes are:\n",
    "1. Defining a function but then forgetting to call it.\n",
    "2. Defining a function, but never running the code cell or module that defines the function, so that when you try to call it, Python has no idea what you are talking about.\n",
    "\n",
    "Also note that you only have to run the code to *define* a function once. Once it's defined, you can call it as many times as you want."
   ]
  },
  {
   "cell_type": "markdown",
   "id": "ab2f2740",
   "metadata": {
    "tiedown.cell_index": "cid27"
   },
   "source": [
    "## VI. More Function Exercises<span id=\"cid27\"/>\n",
    "### A. Arguments\n",
    "Write a function that accepts two numbers as arguments. The function should return the larger of the two numbers.\n",
    "  * Use an `if` statement with a comparison operator."
   ]
  },
  {
   "cell_type": "code",
   "execution_count": null,
   "id": "7d4cdf56",
   "metadata": {},
   "outputs": [],
   "source": [
    "# Define max function here\n",
    "\n"
   ]
  },
  {
   "cell_type": "code",
   "execution_count": null,
   "id": "4ee65aa1",
   "metadata": {},
   "outputs": [],
   "source": [
    "# Call function here\n"
   ]
  },
  {
   "cell_type": "markdown",
   "id": "56956f4e",
   "metadata": {
    "tiedown.cell_index": "cid28"
   },
   "source": [
    "### B. Check Argument Data Types<span id=\"cid28\"/>\n",
    "Modify the function in exercise two to check the data type of it's arguments Use the `isinstance()` built-in function for this. For example, `isinstance(var1, str)` will evaluate to *True* if var1 is a string, *False* otherwise. The function should print an error message and return \"Error\" if either of the two arguments are strings."
   ]
  },
  {
   "cell_type": "code",
   "execution_count": null,
   "id": "72584ce5",
   "metadata": {},
   "outputs": [],
   "source": [
    "# Define modified max function here\n",
    "\n"
   ]
  },
  {
   "cell_type": "code",
   "execution_count": null,
   "id": "8f11bd7e",
   "metadata": {},
   "outputs": [],
   "source": [
    "# Call function here\n"
   ]
  },
  {
   "cell_type": "markdown",
   "id": "63e07483",
   "metadata": {
    "tiedown.cell_index": "cid29"
   },
   "source": [
    "### C. Powercell Points<span id=\"cid29\"/>\n",
    "Write a function that accepts the number of powercells scored in the lower port, outer port, and inner port for the FRC game *Infinite Recharge*. The function should return the total number of points scored, assuming the powercells were scored during teleop.\n",
    "\n",
    "Memory refresher: alliances score 1 point for each powercell in the lower port, 2 points for the outer port, and 3 points for the inner port. [Click here for more information on *Infinite Recharge*](https://firstfrc.blob.core.windows.net/frc2020/Manual/Sections/Section02.pdf) (downloads a PDF). The entire game manual is available [here](https://www.firstinspires.org/resource-library/frc/competition-manual-qa-system)."
   ]
  },
  {
   "cell_type": "code",
   "execution_count": null,
   "id": "2136d1c7",
   "metadata": {},
   "outputs": [],
   "source": [
    "# Define powercell function here\n",
    "\n"
   ]
  },
  {
   "cell_type": "code",
   "execution_count": null,
   "id": "a43d5dab",
   "metadata": {},
   "outputs": [],
   "source": [
    "# Call function here\n"
   ]
  },
  {
   "cell_type": "markdown",
   "id": "08833605",
   "metadata": {
    "tiedown.cell_index": "cid30"
   },
   "source": [
    "### D. Phase Argument<span id=\"cid30\"/>\n",
    "Modify the function from exercise #4 to accept a Boolean argument that specifies whether the powercells were scored in autonomous (True) or teleop (False). The scores should be doubled if the powercells were scored in autonomous."
   ]
  },
  {
   "cell_type": "code",
   "execution_count": null,
   "id": "31934c33",
   "metadata": {},
   "outputs": [],
   "source": [
    "# Define function with autonomous argument\n",
    "\n"
   ]
  },
  {
   "cell_type": "code",
   "execution_count": null,
   "id": "0b4f495e",
   "metadata": {},
   "outputs": [],
   "source": [
    "# Call function\n"
   ]
  },
  {
   "cell_type": "markdown",
   "id": "bbc4ff0a",
   "metadata": {
    "tiedown.cell_index": "cid31"
   },
   "source": [
    "## VII. Return Statement<span id=\"cid31\"/>\n",
    "So far all of the exercises have directed you to return a value form each function, using a `return` statement. Functions need not have a `return` statement. Run the following cell."
   ]
  },
  {
   "cell_type": "code",
   "execution_count": null,
   "id": "0242bb0c",
   "metadata": {},
   "outputs": [],
   "source": [
    "# Function without return statement\n",
    "def returns_None():\n",
    "    message = \"This function returns None.\"\n",
    "    \n",
    "returns_None()"
   ]
  },
  {
   "cell_type": "markdown",
   "id": "3b673be0",
   "metadata": {
    "tiedown.cell_index": "cid32"
   },
   "source": [
    "As you can see, there is no value displayed after the code cell, because the function `returns_None()` has no return statement. You may be thinking a function without a return statement in Python doesn't return anything, but that's not correct. It returns `None`, and in Python, `None` is something. Ok, I admit I'm just messing with you now. But it's true, `None` is something.<span id=\"cid32\"/>"
   ]
  },
  {
   "cell_type": "code",
   "execution_count": null,
   "id": "33e05f90",
   "metadata": {},
   "outputs": [],
   "source": [
    "# Type of object returned by \n",
    "return_value = returns_None()\n",
    "type(return_value)"
   ]
  },
  {
   "cell_type": "markdown",
   "id": "0f64360e",
   "metadata": {
    "tiedown.cell_index": "cid33"
   },
   "source": [
    "Functions without `return` statements return the `None` object. The `None` object's data type is *NoneType*. Jupyter code cells are programmed to not display any output if the output is the `None` object. We can check to see if variables or expressions evaluate to `None` with a special keyword.<span id=\"cid33\"/>"
   ]
  },
  {
   "cell_type": "code",
   "execution_count": null,
   "id": "9c25dc72",
   "metadata": {},
   "outputs": [],
   "source": [
    "# Checking for the None object.\n",
    "print(return_value is None)\n",
    "print(return_value is not None)"
   ]
  },
  {
   "cell_type": "markdown",
   "id": "9b423aa8",
   "metadata": {
    "tiedown.cell_index": "cid34"
   },
   "source": [
    "When we say \"*the* None object\", we are not just being dramatic. There is only one `None` object in Python. You could create a hundred different variables that all reference `None`, but they will all point to only a single `None` object in memory.<span id=\"cid34\"/>"
   ]
  },
  {
   "cell_type": "markdown",
   "id": "c69303bc",
   "metadata": {
    "tiedown.cell_index": "cid35"
   },
   "source": [
    "## VIII. Named Arguments<span id=\"cid35\"/>\n",
    "The powercell scoring function in exercise VI.5 now has four different parameters. It can be difficult to remember the order of the arguments (was the first argument lower_port or outer_port?). Python allows for calling functions with **named arguments**. These are also called **keyword arguments**.\n",
    "\n",
    "The example below is inspired by the 2019 FRC game, *Deep Space*. Information on the *Deep Space* game [can be found here.](https://www.firstinspires.org/resource-library/frc/archived-game-documentation)"
   ]
  },
  {
   "cell_type": "code",
   "execution_count": null,
   "id": "37e41a96",
   "metadata": {},
   "outputs": [],
   "source": [
    "# Calling a function with named arguments.\n",
    "def alliance_score(sandstorm_lvl1, sandstorm_lvl2, hatches, cargo,\n",
    "                   hab_lvl1, hab_lvl2, hab_lvl3):\n",
    "    score = sandstorm_lvl1 * 3\n",
    "    score += sandstorm_lvl2 * 6\n",
    "    score += hatches * 2 + cargo * 3\n",
    "    score += hab_lvl1 * 3\n",
    "    score += hab_lvl2 * 6\n",
    "    score += hab_lvl3 * 12\n",
    "    return score"
   ]
  },
  {
   "cell_type": "code",
   "execution_count": null,
   "id": "c41334f9",
   "metadata": {},
   "outputs": [],
   "source": [
    "# Calling with positional arguments\n",
    "alliance_score(2, 0, 4, 6, 2, 0, 1)"
   ]
  },
  {
   "cell_type": "code",
   "execution_count": null,
   "id": "2680e35b",
   "metadata": {},
   "outputs": [],
   "source": [
    "# Calling with named arguments\n",
    "alliance_score(hab_lvl3=1, hab_lvl2=0, hab_lvl1=2,\n",
    "               sandstorm_lvl1=2, sandstorm_lvl2=0,\n",
    "               cargo=6, hatches=4)"
   ]
  },
  {
   "cell_type": "markdown",
   "id": "e38e9793",
   "metadata": {
    "tiedown.cell_index": "cid36"
   },
   "source": [
    "In the example of calling `alliance_score()`, we relied on the order of the arguments within the parentheses to ensure the right argument was sent to the correct parameter. Arguments that depend on order are called positional arguments.<span id=\"cid36\"/>\n",
    "\n",
    "When we called `alliance_score()` with named arguments (also called keyword arguments), it was much easier to see exactly what each argument represented. Also note that with named arguments we can put the arguments in any order.\n",
    "\n",
    "Remember the `print([1, 2, 3], end=\" \")` version of the print statement? Now we can see that `end` is simply a named argument of the `print()` function."
   ]
  },
  {
   "cell_type": "markdown",
   "id": "61dc69d2",
   "metadata": {
    "tiedown.cell_index": "cid37"
   },
   "source": [
    "## IX. Default Argument Values<span id=\"cid37\"/>\n",
    "Consider the following function."
   ]
  },
  {
   "cell_type": "code",
   "execution_count": null,
   "id": "ea6b3949",
   "metadata": {},
   "outputs": [],
   "source": [
    "# Good Morning\n",
    "def morning(language=\"English\"):\n",
    "    if language.lower() == \"english\":\n",
    "        print(\"Good Morning.\")\n",
    "    elif language.lower() == \"french\":\n",
    "        print(\"Bonjour.\")\n",
    "    elif language.lower() == \"japanese\":\n",
    "        print(\"Ohayoo Gozaimasu!\")\n",
    "    elif language.lower() == \"robotics\":\n",
    "        print(\"Is the match schedule out yet?\")\n",
    "    else:\n",
    "        # Assume user is robot\n",
    "        print(\"Bloop-bleepity-blarp!\")\n",
    "        \n",
    "morning()"
   ]
  },
  {
   "cell_type": "markdown",
   "id": "ab913a8e",
   "metadata": {
    "tiedown.cell_index": "cid38"
   },
   "source": [
    "We defined the `morning()` function with one parameter, but we didn't pass any arguments into it when we called it. The function worked just fine because we defined a default value, \"English\", for the argument. If `morning()` is called with no arguments, the language parameter will be set to \"English\".<span id=\"cid38\"/>"
   ]
  },
  {
   "cell_type": "markdown",
   "id": "7cc9ec76",
   "metadata": {
    "tiedown.cell_index": "cid39"
   },
   "source": [
    "## X. Using Positional, Named and Default Arguments All at Once<span id=\"cid39\"/>\n",
    "Let's go back to our *deep space* example from section VIII. But this time. let's give each parameter a default value of zero."
   ]
  },
  {
   "cell_type": "code",
   "execution_count": null,
   "id": "2ca7007f",
   "metadata": {},
   "outputs": [],
   "source": [
    "# Adding default arguments\n",
    "def alliance_score_2(sandstorm_lvl1=0, sandstorm_lvl2=0,\n",
    "                     hatches=0, cargo=0,\n",
    "                     hab_lvl1=0, hab_lvl2=0, hab_lvl3=0):\n",
    "    score = sandstorm_lvl1 * 3\n",
    "    score += sandstorm_lvl2 * 6\n",
    "    score += hatches * 2 + cargo * 3\n",
    "    score += hab_lvl1 * 3\n",
    "    score += hab_lvl2 * 6\n",
    "    score += hab_lvl3 * 12\n",
    "    return score"
   ]
  },
  {
   "cell_type": "code",
   "execution_count": null,
   "id": "c522b620",
   "metadata": {},
   "outputs": [],
   "source": [
    "# Calling with both positional and named arguments.\n",
    "alliance_score_2(1, 1, hab_lvl1=3, hatches=2)"
   ]
  },
  {
   "cell_type": "markdown",
   "id": "eca63de2",
   "metadata": {
    "tiedown.cell_index": "cid40"
   },
   "source": [
    "Adding default values makes `alliance_score2()` much easier to use because we only need to specify arguments with non-zero values. Also, we were able to specify `sandstorm_lvl1` and `sandstorm_lvl2` positionally, and the other arguments by name.<span id=\"cid40\"/>\n",
    "\n",
    "Another way to think about this is that parameters with default values are **optional**, and parameters without default values are **required**.\n",
    "\n",
    "When using a combination of positional and named arguments, the named arguments must always come after all positional arguments. The following code will cause an error."
   ]
  },
  {
   "cell_type": "code",
   "execution_count": null,
   "id": "987a2ca6",
   "metadata": {},
   "outputs": [],
   "source": [
    "# Causes an error. Positional arguments must always come\n",
    "# before all named arguments.\n",
    "alliance_score_2(sandstorm_lvl1=2, 1)"
   ]
  },
  {
   "cell_type": "markdown",
   "id": "3689d97b",
   "metadata": {
    "tiedown.cell_index": "cid41"
   },
   "source": [
    "There's another thing that will cause an error -- when defining functions with both required and optional parameters, the required parameters (without default values) must come before the parameters with default values. For example, the following code will throw an error:<span id=\"cid41\"/>"
   ]
  },
  {
   "cell_type": "code",
   "execution_count": null,
   "id": "653ff872",
   "metadata": {},
   "outputs": [],
   "source": [
    "# This code causes an error\n",
    "def bad_function(x=5, y):\n",
    "    return x + y"
   ]
  },
  {
   "cell_type": "markdown",
   "id": "7c064720",
   "metadata": {
    "tiedown.cell_index": "cid42"
   },
   "source": [
    "## XI. Even More Exercises<span id=\"cid42\"/>\n",
    "### A. Named Arguments with Default Values\n",
    "Modify the function from exercise VI.4.\n",
    "* All parameters should have a default value of 0, except for `auto` which should default to *False*.\n",
    "* The function should be named `powercell_score`.\n",
    "* The arguments should be named `lower`, `inner`, `outer`, and `auto`."
   ]
  },
  {
   "cell_type": "code",
   "execution_count": null,
   "id": "2d43b86b",
   "metadata": {},
   "outputs": [],
   "source": [
    "# Ex XI.1: Define powercell_score function here\n",
    "\n"
   ]
  },
  {
   "cell_type": "markdown",
   "id": "4bf4ab47",
   "metadata": {
    "tiedown.cell_index": "cid43"
   },
   "source": [
    "If you defined the `powercell_score()` function correctly, the code cells below will evaluate to *True*.<span id=\"cid43\"/>"
   ]
  },
  {
   "cell_type": "code",
   "execution_count": null,
   "id": "bb398987",
   "metadata": {},
   "outputs": [],
   "source": [
    "powercell_score(outer=5) == 10"
   ]
  },
  {
   "cell_type": "code",
   "execution_count": null,
   "id": "ccce8b4f",
   "metadata": {},
   "outputs": [],
   "source": [
    "powercell_score(inner=3, auto=True) == 18"
   ]
  },
  {
   "cell_type": "code",
   "execution_count": null,
   "id": "ad0eba0c",
   "metadata": {},
   "outputs": [],
   "source": [
    "powercell_score(lower=4, outer=8) == 20"
   ]
  },
  {
   "cell_type": "markdown",
   "id": "f27264ea",
   "metadata": {
    "tiedown.cell_index": "cid44"
   },
   "source": [
    "## XII. Built-in Python Functions<span id=\"cid44\"/>\n",
    "Hopefully the function calls look familiar because we've already called several of Python's built-in functions.\n",
    "\n",
    "1. [The `print()` function displays it's arguments](https://docs.python.org/3/library/functions.html#print).\n",
    "2. [The `range()` function creates a seqence of numbers](https://docs.python.org/3/library/functions.html#func-range).\n",
    "3. [The `round()` function rounds a number to the nearest integer](https://docs.python.org/3/library/functions.html#round).\n",
    "4. [The `len()` function returns the length of a list or string](https://docs.python.org/3/library/functions.html#len).\n",
    "5. [The `type()` function determines an object's datatype](https://docs.python.org/3/library/functions.html#type).\n",
    "6. [`isinstance()` checks if an object is a certain type](https://docs.python.org/3/library/functions.html#isinstance).\n",
    "\n",
    "Click on each hyperlink to see the official documentation for each function. The complete list of built-in functions is here: https://docs.python.org/3/library/functions.html. The mentor refers to this page frequently for his own programming projects."
   ]
  },
  {
   "cell_type": "markdown",
   "id": "d2eb992c",
   "metadata": {
    "tiedown.cell_index": "cid45"
   },
   "source": [
    "## XIII. Python Tutorial on Functions<span id=\"cid45\"/>\n",
    "Now that you've leaned a bit about functions, work through [sections 4.6, 4.7.1, and 4.7.2 of the Python Tutorial on defining functions](https://docs.python.org/3/tutorial/controlflow.html#defining-functions).\n",
    "\n",
    "Practice with the examples of sections 4.6 and 4.7.1-2 below."
   ]
  },
  {
   "cell_type": "code",
   "execution_count": null,
   "id": "27b62b2b",
   "metadata": {},
   "outputs": [],
   "source": [
    "# Python Tutorial Function Examples\n",
    "\n",
    "\n"
   ]
  },
  {
   "cell_type": "markdown",
   "id": "2a0ed513",
   "metadata": {
    "tiedown.cell_index": "cid46"
   },
   "source": [
    "### A. Quiz<span id=\"cid46\"/>\n",
    "Write your answers as Python comments in the code cells provided."
   ]
  },
  {
   "cell_type": "markdown",
   "id": "856fe516",
   "metadata": {
    "tiedown.cell_index": "cid47"
   },
   "source": [
    "**#1.** What value will the following code block return? (Try to figure it out without running the code.)<span id=\"cid47\"/>\n",
    "```python\n",
    "def func1(x, y):\n",
    "    return x * y\n",
    "\n",
    "def func2(u, v):\n",
    "    return func1(u**2, v**2)\n",
    "\n",
    "func2(2, 3)\n",
    "```"
   ]
  },
  {
   "cell_type": "code",
   "execution_count": null,
   "id": "3721a53f",
   "metadata": {},
   "outputs": [],
   "source": [
    "# Quiz-1\n"
   ]
  },
  {
   "cell_type": "markdown",
   "id": "8f86d0da",
   "metadata": {
    "tiedown.cell_index": "cid48"
   },
   "source": [
    "**#2.** What type of object does a function without a `return` statement return?<span id=\"cid48\"/>"
   ]
  },
  {
   "cell_type": "code",
   "execution_count": null,
   "id": "4b8bc7b2",
   "metadata": {},
   "outputs": [],
   "source": [
    "# Quiz-2\n"
   ]
  },
  {
   "cell_type": "markdown",
   "id": "c19b4aa5",
   "metadata": {
    "tiedown.cell_index": "cid49"
   },
   "source": [
    "**#3.** True or False: when defining a function, parameters with default values must precede parameters without default values.<span id=\"cid49\"/>"
   ]
  },
  {
   "cell_type": "code",
   "execution_count": null,
   "id": "a238381d",
   "metadata": {},
   "outputs": [],
   "source": [
    "# Quiz-3\n"
   ]
  },
  {
   "cell_type": "markdown",
   "id": "d84d3e91",
   "metadata": {
    "tiedown.cell_index": "cid50"
   },
   "source": [
    "## XIV. Save Your Work<span id=\"cid50\"/>\n",
    "Save your completed notebook to your Google drive and share it with a mentor or another student for feedback. [See Lesson 1 for more guidance.](../01_intro_python/lesson01_intro_python.ipynb#cid70)"
   ]
  },
  {
   "cell_type": "markdown",
   "id": "ed432c61",
   "metadata": {
    "tiedown.cell_index": "cid51"
   },
   "source": [
    "## XV. Concept and Terminology Review<span id=\"cid51\"/>\n",
    "You should be able to define the following terms or describe the concept. Re-review this and prior sessions if any of the terms are unfamiliar.\n",
    "* Expressions\n",
    "* Literals\n",
    "* Code blocks\n",
    "* Function argument\n",
    "* Function parameter\n",
    "* Positional argument\n",
    "* Named (keyword) argument\n",
    "* Default argument value\n",
    "* Return statement\n",
    "* None object"
   ]
  },
  {
   "cell_type": "markdown",
   "id": "6d6e118c-eef8-4c5d-ae5f-482ab439dbc4",
   "metadata": {
    "tiedown.cell_index": "cid52"
   },
   "source": [
    "[Table of Contents](../toc.ipynb)<span id=\"cid52\"/>"
   ]
  },
  {
   "cell_type": "code",
   "execution_count": null,
   "id": "68a722af-b8bc-48f0-aed2-14ba2741428a",
   "metadata": {},
   "outputs": [],
   "source": []
  }
 ],
 "metadata": {
  "kernelspec": {
   "display_name": "Python 3 (ipykernel)",
   "language": "python",
   "name": "python3"
  },
  "tiedown.toc_index": 4
 },
 "nbformat": 4,
 "nbformat_minor": 5
}
