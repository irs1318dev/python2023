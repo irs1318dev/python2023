{
 "cells": [
  {
   "cell_type": "markdown",
   "id": "1783cff3-7acc-4f5a-b85b-a0f26b1c5b0e",
   "metadata": {
    "tiedown.cell_index": "cid1"
   },
   "source": [
    "[Table of Contents](../toc.ipynb)<span id=\"cid1\"/>"
   ]
  },
  {
   "cell_type": "markdown",
   "id": "2a85080b",
   "metadata": {
    "tags": [],
    "tiedown.cell_index": "cid2"
   },
   "source": [
    "# Introduction to Python<span id=\"cid2\"/>\n",
    "\n",
    "## I. About Python\n",
    "<img src=\"images/python.png\" width=\"400\" alt=\"XKCD Cartoon\">\n",
    "\n",
    "**Cartoon from xkcd.com. [Creative Commons License](https://creativecommons.org/licenses/by-nc/2.5/)**\n",
    "\n",
    "As of 2022, most rankings of programming languages put Python at the top. There are good reasons why Python is so popular.\n",
    "* Python is easy to learn compared to other programming languages.\n",
    "* Python programs can run on Windows, Linux, and iOS operating systems.\n",
    "* There are free Python extensions (i.e., packages) to do just about everything. Python can run web servers, connect to databases, create cool data visualizations, train neural nets, and more.\n",
    "\n",
    "### A. Why is it Named *Python*?\n",
    "It has nothing to do with snakes. The creator of Python, Guido van Rossum, is apparently a fan of *Monty Python's Flying Circus*, which was a British sketch comedy TV series that ran from 1969 to 1974. The name reflects one of the goals of Python's developers - Python should be fun to use. [Here is a link to the mentor's favorite Monty Python sketch](https://youtu.be/xpAvcGcEc0k).\n",
    "<img src=\"images/MontyPythonHolyGrail.jpg\" width=\"750\" alt=\"Monty Python and the Holy Grail image\">"
   ]
  },
  {
   "cell_type": "markdown",
   "id": "40280fa0",
   "metadata": {
    "tiedown.cell_index": "cid3"
   },
   "source": [
    "## II. Working in Google Colab<span id=\"cid3\"/>\n",
    "You are probably viewing this document on *Google Colab*. [Google Colab](https://colab.research.google.com/notebooks/intro.ipynb) is website that allows users to program in Python code within their web browser. In Colab, users write their code in special documents called *notebooks*. Notebooks can contain text, images, links, executable code, and more. In fact, the document you are reading right now is a Colab notebook.\n",
    "\n",
    "Note: There is a small chance that you have downloaded this course to your own computer, in which case you are using a Python program called Jupyter to view this notebook. If so, there is no need for concern. Colab notebooks and Jupyter notebooks work the same way.\n",
    "\n",
    "### A. Notebook Cells\n",
    "Notebooks are made of cells. Colab notebooks have two types of cells: code cells and text cells.\n",
    "\n",
    "#### 1. Text Cells\n",
    "The sentence you are reading right now is contained in a text cell.\n",
    "1. Double click on this sentence to see how text cells work. Double-clicking puts the text cell in edit mode. Do you see how the header text and hyperlinks are created? Notebooks use a special syntax called [Markdown](https://colab.research.google.com/notebooks/markdown_guide.ipynb) to format text cells.\n",
    "2. Now make sure the cursor is inside this cell and hit SHIFT + ENTER (both keys at the same time) to get out of edit mode.\n",
    "\n",
    "#### 2. Code Cells\n",
    "The box below this sentence is a code cell. Move the cursor to the cell by clicking on it, then hit CTRL + ENTER or SHIFT + ENTER to run the cell. You can also run a cell by hitting the play symbol (triangle) in the toolbar at the top of the notebook window."
   ]
  },
  {
   "cell_type": "code",
   "execution_count": null,
   "id": "4f4e1a6d",
   "metadata": {},
   "outputs": [],
   "source": [
    "# This is a code cell.\n",
    "num = 1737124\n",
    "f'The square root of {num} is {int(num**0.5)}!'"
   ]
  },
  {
   "cell_type": "markdown",
   "id": "3f3e9d9a",
   "metadata": {
    "tiedown.cell_index": "cid4"
   },
   "source": [
    "Cool! You just ran your first bit of Python code! Here is what you should understand about the code you just ran:<span id=\"cid4\"/>\n",
    "* The green text following the hash mark (#) is a comment and is ignored by the Python interpreter. \n",
    "* Everything else is Python code. Don't worry if you don't understand it.\n",
    "* When you run a code cell (by pressing *CTRL + ENTER*), Colab will print out the results of the computation below the cell. That's why you see the message appear below the cell.\n",
    "\n",
    "> *Whenever you come across a code cell in this course, you should run it.*"
   ]
  },
  {
   "cell_type": "markdown",
   "id": "c47db1b5",
   "metadata": {
    "tiedown.cell_index": "cid5"
   },
   "source": [
    "#### 3. Collapsed Cells<span id=\"cid5\"/>\n",
    "Colab sometimes collapses sections and hides cells. To expand the sections, click the triangle to the left of the section header, or click the message that states cells are hidden. You can also select *Expand Sections* from Colab's *View* menu.\n",
    "\n",
    "#### 4. Learning More About Colab\n",
    "* You can learn more at [Google Colab's main page.](https://colab.research.google.com/)\n",
    "* [This page explains how to work in Google Colab.](https://colab.research.google.com/notebooks/basic_features_overview.ipynb)"
   ]
  },
  {
   "cell_type": "markdown",
   "id": "a649eeae",
   "metadata": {
    "tiedown.cell_index": "cid6"
   },
   "source": [
    "## III. First Steps With Python<span id=\"cid6\"/>\n",
    "This section covers how to use Python for basic calculations. Work through the information, examples, and exercises in the rest of this notebook.\n",
    "\n",
    "By the way, *work through* does not mean the same thing as *read through* or *scan*. You won't successfully learn to code just by reading or scanning! *Work through* means that you carefully read each line of code and think about how or why it works. You should also experiment! Make changes to the example code and predict what will happen. Then run the modified code and see if you were right."
   ]
  },
  {
   "cell_type": "markdown",
   "id": "2ce9edf2",
   "metadata": {
    "tiedown.cell_index": "cid7"
   },
   "source": [
    "### A. Comments and Basic Operations<span id=\"cid7\"/>\n",
    "Let's analyze our first code cell. We'll start with *comments* and some basic math. Place the cursor in the cell below and hit CTRL+ENTER to run it."
   ]
  },
  {
   "cell_type": "code",
   "execution_count": null,
   "id": "ddd9e3e0",
   "metadata": {},
   "outputs": [],
   "source": [
    "# Text that starts with a `#` is a comment\n",
    "3 + 7  # Comments don't have to be placed at the beginning of a line."
   ]
  },
  {
   "cell_type": "markdown",
   "id": "c4eb7d8f",
   "metadata": {
    "tiedown.cell_index": "cid8"
   },
   "source": [
    "The first line of the cell is a comment. Comments start with the hash character (*#*). Comments explain code to human readers and are ignored by Python. It may not seem like it now, but *comments are extremely important.*<span id=\"cid8\"/>\n",
    "\n",
    "Surely you can guess what the second line of the code cell does. It adds the numbers 3 and 7. And if you ran the cell, you saw the sum immediately below the cell. (If you don't see '10' below the cell, please run it). The second line of code also contains a comment. While a comment can follow code on a line, code can never follow a comment.\n",
    "\n",
    "Besides addition, Python can also subtract using the dash symbol `-`, multiply using the asterisk `*`, and divide using the forward slash `/`. Yes, multiplication and division would be more intuitive if Python used $\\times$ and $\\div$, but I've never been able to find those keys on my keyboard. Here is an example of subtraction (run the cell):"
   ]
  },
  {
   "cell_type": "code",
   "execution_count": null,
   "id": "616c4e09",
   "metadata": {},
   "outputs": [],
   "source": [
    "# Subtraction Example\n",
    "25 - 36"
   ]
  },
  {
   "cell_type": "markdown",
   "id": "cceb7798",
   "metadata": {
    "tiedown.cell_index": "cid9"
   },
   "source": [
    "Now let's try multiplication and division. Run this cell:<span id=\"cid9\"/>"
   ]
  },
  {
   "cell_type": "code",
   "execution_count": null,
   "id": "21069916",
   "metadata": {},
   "outputs": [],
   "source": [
    "8 * 9\n",
    "75 / 5"
   ]
  },
  {
   "cell_type": "markdown",
   "id": "2f931901",
   "metadata": {
    "tiedown.cell_index": "cid10"
   },
   "source": [
    "That's weird. We're only seeing the results of the division (quotient), but not the results of the multiplication (product).<span id=\"cid10\"/>\n",
    "\n",
    "Actually it's not weird. Notebook code cells only display the result of the last line of code in the cell. If we swap the order of the operations we'll see the product instead of the quotient."
   ]
  },
  {
   "cell_type": "code",
   "execution_count": null,
   "id": "015b85e9",
   "metadata": {},
   "outputs": [],
   "source": [
    "75 / 5\n",
    "8 * 9"
   ]
  },
  {
   "cell_type": "markdown",
   "id": "54cb66be",
   "metadata": {
    "tiedown.cell_index": "cid11"
   },
   "source": [
    "Python provides a way to display multiple results from a single code cell: the `print()` function.<span id=\"cid11\"/>"
   ]
  },
  {
   "cell_type": "markdown",
   "id": "4a4a2902",
   "metadata": {
    "tiedown.cell_index": "cid12"
   },
   "source": [
    "### B. The `print()` Function<span id=\"cid12\"/>\n",
    "Run the next cell."
   ]
  },
  {
   "cell_type": "code",
   "execution_count": null,
   "id": "224faa77",
   "metadata": {
    "scrolled": true
   },
   "outputs": [],
   "source": [
    "# The print() function\n",
    "print(75 / 5)\n",
    "print(8 * 9)"
   ]
  },
  {
   "cell_type": "markdown",
   "id": "25cd3589",
   "metadata": {
    "tiedown.cell_index": "cid13"
   },
   "source": [
    "`print()` is a function that's built into Python. We'll discuss exactly what a function is in session 04. For now, just understand that the `print()` function will display whatever we put between the parentheses.<span id=\"cid13\"/>"
   ]
  },
  {
   "cell_type": "markdown",
   "id": "0e5bdfbc",
   "metadata": {
    "tiedown.cell_index": "cid14"
   },
   "source": [
    "### C. Operators and More Math<span id=\"cid14\"/>\n",
    "In Python and other programming languages, the symbols `+`, `-`, `*`, and `/` are called *operators*. An operator is a symbol that tells Python to do something. The `+` operator tells Python to add the numbers to the left and right of the `+` sign. The `-` operator tells Python to subtract the number on the right of the `-` sign from the number on the left. The `*` operator is for multiplication, the `/` operator is for division, and the `**` operator is for exponentiation.\n",
    "\n",
    "More specifically, `+`, `-`, `*`, and `/` are *binary* operators because they each operate on two numbers.\n",
    "\n",
    "The `-` operator can also be used as a unary operator, meaning it operates on only one number. Run the next cell."
   ]
  },
  {
   "cell_type": "code",
   "execution_count": null,
   "id": "0d06d12c",
   "metadata": {},
   "outputs": [],
   "source": [
    "# Using '-' as a unary operator\n",
    "print(5 + -10)\n",
    "print(5 - -10)"
   ]
  },
  {
   "cell_type": "markdown",
   "id": "230d600c",
   "metadata": {
    "tiedown.cell_index": "cid15"
   },
   "source": [
    "Python correctly determined that we wanted the `-` sign to negate the number 10. As a unary operator, the `-` symbol negates the number that follows it.<span id=\"cid15\"/>\n",
    "\n",
    "There are a few other mathematical operators. Run the next cell."
   ]
  },
  {
   "cell_type": "code",
   "execution_count": null,
   "id": "23355372",
   "metadata": {},
   "outputs": [],
   "source": [
    "print(23 // 5)  # Two slashes is floor division - answer is always an integer.\n",
    "print(24 / 5)   # Remember, one slash is regular division \n",
    "print(23 % 5)   # Percent sign gives us the remainder\n",
    "print(5 ** 3)   # Two asterisks is exponentiation."
   ]
  },
  {
   "cell_type": "markdown",
   "id": "0deb9383",
   "metadata": {
    "tiedown.cell_index": "cid16"
   },
   "source": [
    "Parentheses can be used to control order of operation. Without parentheses, Python follows standard rules for mathematical precedence.<span id=\"cid16\"/>"
   ]
  },
  {
   "cell_type": "code",
   "execution_count": null,
   "id": "05396c72",
   "metadata": {},
   "outputs": [],
   "source": [
    "# Operators within parentheses are executed first.\n",
    "print((10 + 5) * 2)\n",
    "print(10 + 5 * 2) # Without parentheses, multiplicaton is completed before addition"
   ]
  },
  {
   "cell_type": "markdown",
   "id": "a288db91",
   "metadata": {
    "tiedown.cell_index": "cid17"
   },
   "source": [
    "### D. Math Exercises<span id=\"cid17\"/>\n",
    "Complete the following exercises by writing code in the code cells and then running the cell.\n",
    "\n",
    "#### 1. Exponentiation Exercise\n",
    "What is 13 to the 18th power?"
   ]
  },
  {
   "cell_type": "code",
   "execution_count": null,
   "id": "fe6f012d",
   "metadata": {},
   "outputs": [],
   "source": [
    "# Answer:\n"
   ]
  },
  {
   "cell_type": "markdown",
   "id": "f1b22dd5",
   "metadata": {
    "tiedown.cell_index": "cid18"
   },
   "source": [
    "#### 2. Remainder Exercise<span id=\"cid18\"/>\n",
    "What is the remainder of 13 to the 18th power divided by 1318?"
   ]
  },
  {
   "cell_type": "code",
   "execution_count": null,
   "id": "3e864c85",
   "metadata": {},
   "outputs": [],
   "source": [
    "# Answer:\n"
   ]
  },
  {
   "cell_type": "markdown",
   "id": "7ba2bd7c",
   "metadata": {
    "tiedown.cell_index": "cid19"
   },
   "source": [
    "#### 3. Division Exercise<span id=\"cid19\"/>\n",
    "How are the expressions 5/2 and 5//2 different? Write your answers in a comment in the code cell. Predict the result of each expression and then try them out in the code cell to see if you are right.\n",
    "\n",
    "{% index:\n",
    "    - '//': code\n",
    "    - integer division &}"
   ]
  },
  {
   "cell_type": "code",
   "execution_count": null,
   "id": "adda6f52",
   "metadata": {},
   "outputs": [],
   "source": [
    "# Answer:\n"
   ]
  },
  {
   "cell_type": "markdown",
   "id": "ab78067f",
   "metadata": {
    "tiedown.cell_index": "cid20"
   },
   "source": [
    "## IV. Variables<span id=\"cid20\"/>\n",
    "### A. Storing Stuff with Variables\n",
    "In computer programming, we often need to save the results of calculations and use them later. And by often, I mean *all the time*. For this we use *variables*. Variables are named values. In Python we create a variable by typing the name of the variable followed by an `=` sign, followed by the value we want the variable to represent."
   ]
  },
  {
   "cell_type": "code",
   "execution_count": null,
   "id": "c73440ba",
   "metadata": {},
   "outputs": [],
   "source": [
    "# Using Variables\n",
    "radius = 2     # Assignment statement\n",
    "pi = 3.14      # Assignment statement\n",
    "height = 5     # Assignment statement\n",
    "\n",
    "# This line both reads variables and assigns the results of a mathematical expression to\n",
    "#   a new variable\n",
    "cylinder_volume = pi * radius**2 * height\n",
    "\n",
    "# Placing the variable on the final line of the code cell causes Jupyter to\n",
    "#   display it's value.\n",
    "cylinder_volume"
   ]
  },
  {
   "cell_type": "markdown",
   "id": "852e9deb",
   "metadata": {
    "tiedown.cell_index": "cid21"
   },
   "source": [
    "There are a few things to keep in mind regarding variables if you don't want errors.<span id=\"cid21\"/>"
   ]
  },
  {
   "cell_type": "code",
   "execution_count": null,
   "id": "b2c7d901",
   "metadata": {},
   "outputs": [],
   "source": [
    "# Trying to access a variable before it's defined causes an error.\n",
    "var1 = 5 + undefined_var"
   ]
  },
  {
   "cell_type": "code",
   "execution_count": null,
   "id": "eb6bda84",
   "metadata": {
    "tags": []
   },
   "outputs": [],
   "source": [
    "# Numbers on the left side of the `=` sign cause an error\n",
    "5 = height"
   ]
  },
  {
   "cell_type": "markdown",
   "id": "b4fe98cf",
   "metadata": {
    "tags": [],
    "tiedown.cell_index": "cid22"
   },
   "source": [
    "### B. Important! Python is Case Sensitive<span id=\"cid22\"/>\n",
    "Python, like many well-known programming languages (Java, C, C++, Ruby, R, Julia, JavaScript) is *case sensitive*. That means the variables `weight` and `Weight` are two different variables."
   ]
  },
  {
   "cell_type": "code",
   "execution_count": null,
   "id": "6987a7ea",
   "metadata": {},
   "outputs": [],
   "source": [
    "# Creating an error by using the wrong case\n",
    "weight = 125\n",
    "print(Weight)"
   ]
  },
  {
   "cell_type": "markdown",
   "id": "c456696e",
   "metadata": {
    "tiedown.cell_index": "cid23"
   },
   "source": [
    "You can use the `print()` function all day, but using `Print()` is problematic.<span id=\"cid23\"/>"
   ]
  },
  {
   "cell_type": "code",
   "execution_count": null,
   "id": "73b61eca",
   "metadata": {},
   "outputs": [],
   "source": [
    "# Using the wrong case with print() causes an error\n",
    "Print(2 + 2)"
   ]
  },
  {
   "cell_type": "markdown",
   "id": "8c5ea330",
   "metadata": {
    "tiedown.cell_index": "cid24"
   },
   "source": [
    "Options are a bit limited if you want to use a case-insensitive language. Visual Basic, most other versions of BASIC, Pascal, and Fortran are case-insensitive.<span id=\"cid24\"/>"
   ]
  },
  {
   "cell_type": "markdown",
   "id": "b78a8fd0",
   "metadata": {
    "tiedown.cell_index": "cid25"
   },
   "source": [
    "Variable names must start with either a letter or an underscore (\\_) character. Variable names can contain numbers, letters, or an underscore.<span id=\"cid25\"/>"
   ]
  },
  {
   "cell_type": "markdown",
   "id": "5fd7cca2",
   "metadata": {
    "tiedown.cell_index": "cid26"
   },
   "source": [
    "### C. Variable Exercises<span id=\"cid26\"/>\n",
    "The programming exercises in this course will frequently refer to FIRST robotics competitions (FRC). [Watch this video of an FRC match if you have never attended an FRC competition.](https://youtu.be/jT9xj5XoELw) The match is from the 2019 Pacific Northwest district championships. [Watch this video to learn more about the game rules.](https://youtu.be/Mew6G_og-PI)\n",
    "\n",
    "FRC competitions consist of both qualification matches and playoff matches. The next several exercises focus on qualification matches.\n",
    "\n",
    "#### 1. Variable Assignment Exercise Part I\n",
    "Six different teams compete in every FRC qualification match. Assign that number to a variable. Give the variable a descriptive name."
   ]
  },
  {
   "cell_type": "code",
   "execution_count": null,
   "id": "b939f692",
   "metadata": {},
   "outputs": [],
   "source": [
    "# Answer:\n"
   ]
  },
  {
   "cell_type": "markdown",
   "id": "3149e2c6",
   "metadata": {
    "tiedown.cell_index": "cid27"
   },
   "source": [
    "#### 2. Variable Assignment Exercise Part II<span id=\"cid27\"/>\n",
    "Suppose there are 37 teams competing at an FRC competition, and every team will play 12 qualification matches. Assign these two numbers to variables and give them both descriptive names."
   ]
  },
  {
   "cell_type": "code",
   "execution_count": null,
   "id": "0b0aa996",
   "metadata": {},
   "outputs": [],
   "source": [
    "# Answer:\n"
   ]
  },
  {
   "cell_type": "markdown",
   "id": "f2a25dbc",
   "metadata": {
    "tiedown.cell_index": "cid28"
   },
   "source": [
    "#### 3. Match Calculation Exercise<span id=\"cid28\"/>\n",
    "Use the variables you defined in exercises D.1 and D.2 to calculate the number of qualification matches required for 37 teams to play 12 matches each, when there are six teams competing in each match. The code to calculate the answer should not contain any integers, just the variable names you already created. If you get an error stating one of your variables is undefined, check that you ran the cells that defined the variables, and then check for spelling on uppercase-lowercase errors.\n",
    "\n",
    "If you are having trouble figuring out how to do this calculation:\n",
    "  1. First try calculating how many qualification matches would be required if only one team competed in each match.\n",
    "  2. Now think about how many matches would be required for every team to participate in 12 qualification matches if 37 teams competed in each match.\n",
    "  3. Now adjust your calculation to account for there being six teams in each match. The answer should be between the answers for items 1. and 2."
   ]
  },
  {
   "cell_type": "code",
   "execution_count": null,
   "id": "7119e506",
   "metadata": {},
   "outputs": [],
   "source": [
    "# Ex. D.3\n"
   ]
  },
  {
   "cell_type": "markdown",
   "id": "9f2bb626",
   "metadata": {
    "tiedown.cell_index": "cid29"
   },
   "source": [
    "### D. The `round()` Function<span id=\"cid29\"/>\n",
    "Now we'll try out another function: `round()`. It will round a decimal value to a specified number of digits."
   ]
  },
  {
   "cell_type": "code",
   "execution_count": null,
   "id": "8dda0bc4",
   "metadata": {},
   "outputs": [],
   "source": [
    "# round() function.\n",
    "third = 1/3\n",
    "round(third, 2)"
   ]
  },
  {
   "cell_type": "markdown",
   "id": "19bb5d17",
   "metadata": {
    "tiedown.cell_index": "cid30"
   },
   "source": [
    "For `round()` to work, we must give it two different values, separated by commas. Values that are passed to functions are called *arguments*. The first argument is the number that will be rounded, and the second argument is the number of digits to display after the decimal point. Here is an example that displays more digits:<span id=\"cid30\"/>"
   ]
  },
  {
   "cell_type": "code",
   "execution_count": null,
   "id": "0508987b",
   "metadata": {},
   "outputs": [],
   "source": [
    "round(third, 6)"
   ]
  },
  {
   "cell_type": "markdown",
   "id": "860245ee",
   "metadata": {
    "tiedown.cell_index": "cid31"
   },
   "source": [
    "We can specify zero digits:<span id=\"cid31\"/>"
   ]
  },
  {
   "cell_type": "code",
   "execution_count": null,
   "id": "b459f61f",
   "metadata": {},
   "outputs": [],
   "source": [
    "round(third, 0)"
   ]
  },
  {
   "cell_type": "markdown",
   "id": "c1561d09",
   "metadata": {
    "tiedown.cell_index": "cid32"
   },
   "source": [
    "So far, `round()` has been rounding down. But if the first digit to be truncated (i.e., cut off) is 5 or greater, `round()` will round up.<span id=\"cid32\"/>"
   ]
  },
  {
   "cell_type": "code",
   "execution_count": null,
   "id": "7b434508",
   "metadata": {},
   "outputs": [],
   "source": [
    "two_thirds = 2 * third\n",
    "print(two_thirds)\n",
    "round(two_thirds, 0)"
   ]
  },
  {
   "cell_type": "markdown",
   "id": "7945f098",
   "metadata": {
    "tiedown.cell_index": "cid33"
   },
   "source": [
    "When we specified zero digits, `round()` rounded the fraction up to the nearest integer, 1.0. The `round()` function will allow us to omit the second argument entirely, but it will behave a little differently.<span id=\"cid33\"/>"
   ]
  },
  {
   "cell_type": "code",
   "execution_count": null,
   "id": "75a34bf8",
   "metadata": {},
   "outputs": [],
   "source": [
    "round(two_thirds)"
   ]
  },
  {
   "cell_type": "markdown",
   "id": "59846116",
   "metadata": {
    "tiedown.cell_index": "cid34"
   },
   "source": [
    "Interesting. The code `round(two_thirds, 0)` gave us an output of *1.0*, but `round(two_thirds)` gave us *1*, without the decimal point and trailing zero. There is a reason for this, which we'll cover in the next section.<span id=\"cid34\"/>"
   ]
  },
  {
   "cell_type": "markdown",
   "id": "9c5d2154",
   "metadata": {
    "tiedown.cell_index": "cid35"
   },
   "source": [
    "### E. Exercises for the `round()` Function<span id=\"cid35\"/>\n",
    "#### 1. Averaging Exercise\n",
    "Suppose the sum of the weight of all 37 robots competing in the FRC competition is 4,579 pounds. Calculate the average robot weight and report the answer rounded to the nearest integer."
   ]
  },
  {
   "cell_type": "code",
   "execution_count": null,
   "id": "c89565d2",
   "metadata": {},
   "outputs": [],
   "source": [
    "# Answer:\n"
   ]
  },
  {
   "cell_type": "markdown",
   "id": "abb6f59b",
   "metadata": {
    "tiedown.cell_index": "cid36"
   },
   "source": [
    "#### 2. Rounding Exercise<span id=\"cid36\"/>\n",
    "Round the answer from exercise E.1 to two decimal places."
   ]
  },
  {
   "cell_type": "code",
   "execution_count": null,
   "id": "a2336d20",
   "metadata": {},
   "outputs": [],
   "source": [
    "# Answer:\n"
   ]
  },
  {
   "cell_type": "markdown",
   "id": "8abe764d",
   "metadata": {
    "tiedown.cell_index": "cid37"
   },
   "source": [
    "## V. Strings (i.e., Text)<span id=\"cid37\"/>\n",
    "\n",
    "### A. Variable assignments and Quotation Marks\n",
    "Variables can hold text as well as numbers. In computer programming, sequences of letters and other characters are called *strings*. Strings must be surrounded with either single or double *quotes*."
   ]
  },
  {
   "cell_type": "code",
   "execution_count": null,
   "id": "9bcad528",
   "metadata": {},
   "outputs": [],
   "source": [
    "# Example String Variables\n",
    "string1 = 'Keep calm and build robots.'\n",
    "\n",
    "# Can place single quote in string surrounded by double quotes.\n",
    "string2 = \"Sir, it's quite possible this asterioid is not entirely stable.\"\n",
    "\n",
    "# A backwards slash allows single quote in string surrounded by single quotes.\n",
    "string3 = 'Dean said \"If you\\'re going to fail, you might as well fail at the big ones.\"'\n",
    "\n",
    "# Let's see how these print out\n",
    "print(string1)\n",
    "print(string2)  \n",
    "print(string3)"
   ]
  },
  {
   "cell_type": "markdown",
   "id": "a217023b",
   "metadata": {
    "tiedown.cell_index": "cid38"
   },
   "source": [
    "The fact that Python allows strings to be enclosed in both single and double quotes comes in handy. If we need to have a single quote within our string we can enclose the string in double quotes (like in `string1`), and vice versa. We can also place a single or double quote inside a string if we precede it with a backwards slash (`\\`, like in `string3`).<span id=\"cid38\"/>\n",
    "\n",
    "If you want to place a backwards slash inside a string, use two backward slashes: `\"\\\\\"`."
   ]
  },
  {
   "cell_type": "code",
   "execution_count": null,
   "id": "f5d3f3f5",
   "metadata": {},
   "outputs": [],
   "source": [
    "back_slash = \"This is a backwards slash: \\\\\"\n",
    "print(back_slash)"
   ]
  },
  {
   "cell_type": "markdown",
   "id": "617ba25f",
   "metadata": {
    "tiedown.cell_index": "cid39"
   },
   "source": [
    "In computer programming, the backwards slash (\\\\) and the forward slash (/) *are not interchangeable*. The backwards slash won't divide squat, and the forward slash won't help you put a quotation mark inside a string. The mentor has spent more time than he would like to admit debugging his code because he mixed up his forward and backward slashes. <span id=\"cid39\"/>\n",
    "\n",
    "There are no special rules for placing a forward slash in a string."
   ]
  },
  {
   "cell_type": "markdown",
   "id": "e50550bf",
   "metadata": {
    "tiedown.cell_index": "cid40"
   },
   "source": [
    "### B. Concatenating (i.e., Joining) Strings<span id=\"cid40\"/>\n",
    "Strings can be concatenated (joined) with the `+` operator."
   ]
  },
  {
   "cell_type": "code",
   "execution_count": null,
   "id": "93bbc79c",
   "metadata": {},
   "outputs": [],
   "source": [
    "str1 = \"Space, \"\n",
    "str2 = \"The final frontier. \"\n",
    "str3 = \"These are the voyages of the starhip Enterprise. \"\n",
    "str4 = str1 + str2 + str3 + \"It's continuing mission: to explore strange new worlds. \"\n",
    "str5 = str4 + \"To seek out new life and new civilizations. \"\n",
    "star_trek = str5 + \"To boldly go where no one has gone before.\"\n",
    "star_trek"
   ]
  },
  {
   "cell_type": "markdown",
   "id": "06a07037",
   "metadata": {
    "tiedown.cell_index": "cid41"
   },
   "source": [
    "The `+` operator can join both string variables and literal strings. A literal string is text enclosed between quotation marks.<span id=\"cid41\"/>"
   ]
  },
  {
   "cell_type": "markdown",
   "id": "798bb5aa",
   "metadata": {
    "tags": [],
    "tiedown.cell_index": "cid42"
   },
   "source": [
    "### C. Getting the Length of a String<span id=\"cid42\"/>\n",
    "We'll introduce one more function in this section. The `len()` function can be used to get the number of characters in a string."
   ]
  },
  {
   "cell_type": "code",
   "execution_count": null,
   "id": "e902a2bd",
   "metadata": {},
   "outputs": [],
   "source": [
    "# Using the len() function.\n",
    "len(star_trek)"
   ]
  },
  {
   "cell_type": "code",
   "execution_count": null,
   "id": "bc0afa44",
   "metadata": {},
   "outputs": [],
   "source": [
    "# Another len() example\n",
    "# (Spaces count towards string length)\n",
    "print(str1)\n",
    "len(str1)"
   ]
  },
  {
   "cell_type": "markdown",
   "id": "fb393351",
   "metadata": {
    "tiedown.cell_index": "cid43"
   },
   "source": [
    "### D. <index>String Indexing</index> and <index>Slicing</index><span id=\"cid43\"/>\n",
    "We can use square brackets to extract individual characters or portions of a string."
   ]
  },
  {
   "cell_type": "code",
   "execution_count": null,
   "id": "4dc77a11",
   "metadata": {},
   "outputs": [],
   "source": [
    "# First character of str3\n",
    "print(str3)\n",
    "str3[0]"
   ]
  },
  {
   "cell_type": "code",
   "execution_count": null,
   "id": "5a11b9a0",
   "metadata": {},
   "outputs": [],
   "source": [
    "# Second character of str3\n",
    "str3[1]"
   ]
  },
  {
   "cell_type": "markdown",
   "id": "5669bebb",
   "metadata": {
    "tiedown.cell_index": "cid44"
   },
   "source": [
    "Note how we select the first character of the string stored in the `str3` variable by appending a `0` in square brackets to the end of the variable. Assigning the first item in a string or sequence to position zero (instead of position 1) is a common practice in many programming languages. The position of the character within the string can also be called the index. For example, the second character in the string is at index 1. Extracting a single character from the string is called indexing.<span id=\"cid44\"/>\n",
    "\n",
    "Extracting multiple characters from a string is called slicing."
   ]
  },
  {
   "cell_type": "code",
   "execution_count": null,
   "id": "58fd01ce",
   "metadata": {},
   "outputs": [],
   "source": [
    "# First 5 characters of str3\n",
    "str3[0:5]"
   ]
  },
  {
   "cell_type": "code",
   "execution_count": null,
   "id": "e6408133",
   "metadata": {},
   "outputs": [],
   "source": [
    "# First 5 characters of str3, alternate sytax\n",
    "str3[:5]"
   ]
  },
  {
   "cell_type": "markdown",
   "id": "d124d873",
   "metadata": {
    "tiedown.cell_index": "cid45"
   },
   "source": [
    "We can use a colon to slice the string (select a range of sequential characters). The index of the first character (0) is placed before the colon - this is the *start* value. The character at index 5 is the first character *that is not* returned - this is the *stop* value. In other words, placing `0:5` in the square brackets causes the characters at positions 0, 1, 2, 3, and 4 to be returned, but *not* the character at position 5. This practice seems counter-intuitive, but it has advantages. Note that when selecting characters starting at the beginning of a string, the start value, `0`, is optional.<span id=\"cid45\"/>\n",
    "\n",
    "Passing negative indices within square brackets tells Python to count backwards from the end of the string. So `str3[-1]` extracts the last character from `str3`. (From a mathematical perspective, passing `-0` wouldn't make any sense.)"
   ]
  },
  {
   "cell_type": "code",
   "execution_count": null,
   "id": "cfca6d9d",
   "metadata": {},
   "outputs": [],
   "source": [
    "# Last character of str3\n",
    "str3[-1]"
   ]
  },
  {
   "cell_type": "markdown",
   "id": "f949b948",
   "metadata": {
    "tiedown.cell_index": "cid46"
   },
   "source": [
    "The `5:10` construct within the square brackets is called a slice, and extracting portions of strings is often called *slicing* in Python.<span id=\"cid46\"/>"
   ]
  },
  {
   "cell_type": "code",
   "execution_count": null,
   "id": "07de546f",
   "metadata": {},
   "outputs": [],
   "source": [
    "# Using slicing to extract characters 6 through 10\n",
    "str3[5:10]"
   ]
  },
  {
   "cell_type": "markdown",
   "id": "c4a6b4fc",
   "metadata": {
    "tiedown.cell_index": "cid47"
   },
   "source": [
    "Negative numbers can be used in slices to extract characters from the end of the string. Note that the character at position -5 (`i`) is included in the results.<span id=\"cid47\"/>"
   ]
  },
  {
   "cell_type": "code",
   "execution_count": null,
   "id": "5a4d39b4",
   "metadata": {},
   "outputs": [],
   "source": [
    "# Last 5 characters of str3\n",
    "str3[-5:]"
   ]
  },
  {
   "cell_type": "markdown",
   "id": "d0d7dc37",
   "metadata": {
    "tiedown.cell_index": "cid48"
   },
   "source": [
    "Slice objects can contain a second colon and a third integer. The third integer is the *step* value. In the example above, the step value `2` instructs Python to return every other character. If the step value was changed to a `3`, Python would return every third character.<span id=\"cid48\"/>"
   ]
  },
  {
   "cell_type": "code",
   "execution_count": null,
   "id": "3a7e0463",
   "metadata": {},
   "outputs": [],
   "source": [
    "# Characters 10 through 20\n",
    "str3[10:20]"
   ]
  },
  {
   "cell_type": "code",
   "execution_count": null,
   "id": "25e6662a",
   "metadata": {},
   "outputs": [],
   "source": [
    "# Characters 10 through 20, but every other character\n",
    "str3[10:20:2]"
   ]
  },
  {
   "cell_type": "markdown",
   "id": "d66b05f8",
   "metadata": {
    "tiedown.cell_index": "cid49"
   },
   "source": [
    "Passing a negative step value causes Python to return characters in reverse order. Negative step values make it easy to reverse the order of character strings:<span id=\"cid49\"/>"
   ]
  },
  {
   "cell_type": "code",
   "execution_count": null,
   "id": "87cb0c8f",
   "metadata": {},
   "outputs": [],
   "source": [
    "str3[20:10:-1]"
   ]
  },
  {
   "cell_type": "code",
   "execution_count": null,
   "id": "51193f82",
   "metadata": {},
   "outputs": [],
   "source": [
    "str3[::-1]"
   ]
  },
  {
   "cell_type": "markdown",
   "id": "bb1cce2e",
   "metadata": {
    "tiedown.cell_index": "cid50"
   },
   "source": [
    "### E. String Exercises<span id=\"cid50\"/>\n",
    "#### 1. String Slicing\n",
    "Assign the phrase *Autonomous Period* to a variable. Use indexing (i.e., [] notation) to get the 13th character."
   ]
  },
  {
   "cell_type": "code",
   "execution_count": null,
   "id": "cfb53eec",
   "metadata": {},
   "outputs": [],
   "source": [
    "# Answer:\n"
   ]
  },
  {
   "cell_type": "markdown",
   "id": "dd28213e",
   "metadata": {
    "tiedown.cell_index": "cid51"
   },
   "source": [
    "#### 2. Retrieving the End of a String<span id=\"cid51\"/>\n",
    "Using the string variable created above, use indexing to retrieve the last three characters from the variable."
   ]
  },
  {
   "cell_type": "code",
   "execution_count": null,
   "id": "63fb099c",
   "metadata": {},
   "outputs": [],
   "source": [
    "# Answer:\n"
   ]
  },
  {
   "cell_type": "markdown",
   "id": "63e99a8f",
   "metadata": {
    "tiedown.cell_index": "cid52"
   },
   "source": [
    "#### 3. String Length<span id=\"cid52\"/>\n",
    "Use the len() function to get the number of characters in the variable `str_var`."
   ]
  },
  {
   "cell_type": "code",
   "execution_count": null,
   "id": "36957acf",
   "metadata": {},
   "outputs": [],
   "source": [
    "str_var = \"technical foul\"\n",
    "\n",
    "# Answer:\n"
   ]
  },
  {
   "cell_type": "markdown",
   "id": "d7e196bd",
   "metadata": {
    "tiedown.cell_index": "cid53"
   },
   "source": [
    "#### 4. String Manipulation<span id=\"cid53\"/>\n",
    "Use string concatenation to assemble the quote from Dean Kamen and display it in the correct order."
   ]
  },
  {
   "cell_type": "code",
   "execution_count": null,
   "id": "afc0eff8",
   "metadata": {},
   "outputs": [],
   "source": [
    "w1 = \"fail at the\"\n",
    "w2 = \"you might\"\n",
    "w3 = \"If you're\"\n",
    "w4 = \"big ones.\"\n",
    "w5 = \"going to\"\n",
    "w6 = \"as well\"\n",
    "w8 = \"fail,\"\n",
    "\n",
    "# Answer:"
   ]
  },
  {
   "cell_type": "markdown",
   "id": "cab343db",
   "metadata": {
    "tiedown.cell_index": "cid54"
   },
   "source": [
    "#### 5. String Concatenation<span id=\"cid54\"/>\n",
    "Use string slicing and concatenation to put the words below in the correct order (don't forget the space). [Watch this video if you are not familiar with this term.](https://youtu.be/cl6JkPtDki4) You might want to watch it even if you are familiar with the term."
   ]
  },
  {
   "cell_type": "code",
   "execution_count": null,
   "id": "577735ed",
   "metadata": {},
   "outputs": [],
   "source": [
    "pg = \"Professionalism Gracious\" # Leave this line alone\n",
    "\n",
    "# Answer:\n",
    "\n"
   ]
  },
  {
   "cell_type": "markdown",
   "id": "44f8436d",
   "metadata": {
    "tiedown.cell_index": "cid55"
   },
   "source": [
    "## VI. The Python Tutorial<span id=\"cid55\"/>\n",
    "The mentor doesn't know any programmers who've memorized everything about Python. All programmers look things up when they are programming. It's fine to use these notebooks fas a reference when you are programming. *But it's better to be able to find the information you need in the official Python documentation!* The Python Software Foundation maintains an official [**Python Tutorial**](https://docs.python.org/3/tutorial/index.html) that is an excellent resource. We will frequently refer to the Python Tutorial and other portions of Python's official documentation.\n",
    "\n",
    "Check out the sections of the Python Tutorial that cover basic math and strings. For extra practice, try out some of the examples in the tutorial.\n",
    "\n",
    "### A. Numbers Tutorial\n",
    "Numbers are covered in [section 3.1.1 of the Python Tutorial.](https://docs.python.org/3/tutorial/introduction.html)\n",
    "\n",
    "Read the beginning of section 3 and work through section 3.1.1. For extra practice, try out some of the tutorial examples in the code cell below."
   ]
  },
  {
   "cell_type": "code",
   "execution_count": null,
   "id": "525ad076",
   "metadata": {},
   "outputs": [],
   "source": [
    "# Numbers Tutorial Examples\n",
    "\n"
   ]
  },
  {
   "cell_type": "markdown",
   "id": "025a55fd",
   "metadata": {
    "tiedown.cell_index": "cid56"
   },
   "source": [
    "Now see if you can complete these calculations. Re-review the tutorial or earlier portions of this notebook if you have trouble.<span id=\"cid56\"/>"
   ]
  },
  {
   "cell_type": "markdown",
   "id": "9c96bd6c",
   "metadata": {
    "tiedown.cell_index": "cid57"
   },
   "source": [
    "### B. String Tutorial<span id=\"cid57\"/>\n",
    "Strings are covered in [section 3.1.2 of the Python Tutorial](https://docs.python.org/3/tutorial/introduction.html#strings). Try out some of the tutorial examples below."
   ]
  },
  {
   "cell_type": "code",
   "execution_count": null,
   "id": "6626b80a",
   "metadata": {},
   "outputs": [],
   "source": [
    "# String Tutorial Examples\n",
    "\n",
    "\n"
   ]
  },
  {
   "cell_type": "markdown",
   "id": "e06c0555",
   "metadata": {
    "tiedown.cell_index": "cid58"
   },
   "source": [
    "## VII. Quiz to Check Your Knowledge<span id=\"cid58\"/>\n",
    "Write the answers as Python comments in the code cell below each question."
   ]
  },
  {
   "cell_type": "markdown",
   "id": "0df43d21",
   "metadata": {
    "tiedown.cell_index": "cid59"
   },
   "source": [
    "**#1.** In the Monty Python sketch, what is the arguer's name?<span id=\"cid59\"/>"
   ]
  },
  {
   "cell_type": "code",
   "execution_count": null,
   "id": "2c5725e5",
   "metadata": {},
   "outputs": [],
   "source": [
    "# Answer:\n",
    "#"
   ]
  },
  {
   "cell_type": "markdown",
   "id": "c61adbb6",
   "metadata": {
    "tiedown.cell_index": "cid60"
   },
   "source": [
    "**#2.** How do you use put a hyperlink into a text cell in Colab? (Double-click on any text cell with a hyperlink to see an example.)<span id=\"cid60\"/>"
   ]
  },
  {
   "cell_type": "code",
   "execution_count": null,
   "id": "2796a862",
   "metadata": {},
   "outputs": [],
   "source": [
    "# Answer:\n",
    "#"
   ]
  },
  {
   "cell_type": "markdown",
   "id": "28cf163f",
   "metadata": {
    "tiedown.cell_index": "cid61"
   },
   "source": [
    "**#3.** This notebook instructed you to run code cells by pressing CTRL+ENTER. You can also run cells by pressing SHIFT+ENTER. Try running the two code cells below using CTRL+ENTER and SHIFT+ENTER.<span id=\"cid61\"/>"
   ]
  },
  {
   "cell_type": "code",
   "execution_count": null,
   "id": "69c1b7d6",
   "metadata": {},
   "outputs": [],
   "source": [
    "print(\"Run this cell by pressing SHIFT+ENTER.\")"
   ]
  },
  {
   "cell_type": "code",
   "execution_count": null,
   "id": "55ea3132",
   "metadata": {},
   "outputs": [],
   "source": [
    "print(\"Run this cell by pressing CTRL+ENTER.\")"
   ]
  },
  {
   "cell_type": "markdown",
   "id": "5c221c9e",
   "metadata": {
    "tiedown.cell_index": "cid62"
   },
   "source": [
    "What is the difference between using CTRL+ENTER and SHIFT+ENTER to run cells?<span id=\"cid62\"/>"
   ]
  },
  {
   "cell_type": "code",
   "execution_count": null,
   "id": "defd727f",
   "metadata": {},
   "outputs": [],
   "source": [
    "# Answer:\n",
    "#"
   ]
  },
  {
   "cell_type": "markdown",
   "id": "2c87f54b",
   "metadata": {
    "tiedown.cell_index": "cid63"
   },
   "source": [
    "**#4.** Go back and run the code cells in exercise #3 again, but use ALT+ENTER instead. How is ALT+ENTER different from CTRL+ENTER and SHIFT+ENTER? (By the way, you can delete cells by right-clicking on them and pressing *Delete Cells* or *Cut Cells*.<span id=\"cid63\"/>"
   ]
  },
  {
   "cell_type": "code",
   "execution_count": null,
   "id": "f946a93d",
   "metadata": {},
   "outputs": [],
   "source": [
    "# Answer:\n",
    "#"
   ]
  },
  {
   "cell_type": "markdown",
   "id": "6bd47d26",
   "metadata": {
    "tiedown.cell_index": "cid64"
   },
   "source": [
    "**#5.** What operator calculates a remainder?<span id=\"cid64\"/>"
   ]
  },
  {
   "cell_type": "code",
   "execution_count": null,
   "id": "cd2d1d2f",
   "metadata": {},
   "outputs": [],
   "source": [
    "# Answer:\n",
    "#"
   ]
  },
  {
   "cell_type": "markdown",
   "id": "24e9a905",
   "metadata": {
    "tiedown.cell_index": "cid65"
   },
   "source": [
    "**#6.** What function determines the length of a string?<span id=\"cid65\"/>"
   ]
  },
  {
   "cell_type": "code",
   "execution_count": null,
   "id": "d8060426",
   "metadata": {},
   "outputs": [],
   "source": [
    "# Answer:\n",
    "#"
   ]
  },
  {
   "cell_type": "markdown",
   "id": "c8a28331",
   "metadata": {
    "tiedown.cell_index": "cid66"
   },
   "source": [
    "**#7.** What are the values that we pass to a function called?<span id=\"cid66\"/>"
   ]
  },
  {
   "cell_type": "code",
   "execution_count": null,
   "id": "25cf6724",
   "metadata": {},
   "outputs": [],
   "source": [
    "# Answer:\n",
    "#"
   ]
  },
  {
   "cell_type": "markdown",
   "id": "cc1fc2ea",
   "metadata": {
    "tiedown.cell_index": "cid67"
   },
   "source": [
    "**#8.** What is the difference between an unary and binary operator? What unary operator was covered in this notebook?<span id=\"cid67\"/>"
   ]
  },
  {
   "cell_type": "code",
   "execution_count": null,
   "id": "0e925d55",
   "metadata": {},
   "outputs": [],
   "source": [
    "# Answer:\n",
    "#"
   ]
  },
  {
   "cell_type": "markdown",
   "id": "d0f150a9",
   "metadata": {
    "tiedown.cell_index": "cid68"
   },
   "source": [
    "**#9.** Will the following line of code cause an error? Why or why not?<span id=\"cid68\"/>\n",
    "```python\n",
    "Print(\"Will this line cause an error?\")\n",
    "```"
   ]
  },
  {
   "cell_type": "code",
   "execution_count": null,
   "id": "09074178",
   "metadata": {},
   "outputs": [],
   "source": [
    "# Answer:\n",
    "#"
   ]
  },
  {
   "cell_type": "markdown",
   "id": "35a2ec27",
   "metadata": {
    "tiedown.cell_index": "cid69"
   },
   "source": [
    "**#10.** What is a newline and How do you insert one into a string? (Hint: check the Python string tutorial.)<span id=\"cid69\"/>"
   ]
  },
  {
   "cell_type": "code",
   "execution_count": null,
   "id": "5449e96d",
   "metadata": {},
   "outputs": [],
   "source": [
    "# Answer:\n",
    "#"
   ]
  },
  {
   "cell_type": "markdown",
   "id": "a9006024",
   "metadata": {
    "tiedown.cell_index": "cid70"
   },
   "source": [
    "## VIII. Save and Share Your Work<span id=\"cid70\"/>\n",
    "Sharing your code with others and getting their feedback will make you a better programmer. Follow these instructions to save your completed notebook and share it with an instructor, another student, or a friend.\n",
    "\n",
    "\n",
    "\n",
    "### A. Saving a Notebook to Google Drive\n",
    "1. Create a Gmail account if you do not already have one.\n",
    "   * If you are 13 years old or younger, get a parent's or guardian's help before you create the account. Your parent should follow [these instructions](https://support.google.com/families/answer/7103338?hl=en#zippy=) to create the account.\n",
    "   * If you are under 18 years old, tell a parent or guardian that you are creating the account. [You can create the account here.](https://accounts.google.com/signup/v2/webcreateaccount?flowName=GlifWebSignIn&flowEntry=SignUp)\n",
    "2. Click the *Sign in* button in the top right corner of the Colab notebook to sign into your Gmail account.\n",
    "   * If you are having trouble finding the sign-in button, first make sure that the main menu is visible by clicking on the small down-arrow.\n",
    "   \n",
    "   <img src=\"images/expand-menu.jpg\" alt=\"Expand Main Menu\" width=\"400\">\n",
    "   \n",
    "   * Then click on the *Sign In* button. If you see your photo, avatar, or inititials, then you are already signed in.\n",
    "   \n",
    "   <img src=\"images/sign-in.jpg\" alt=\"Sign In\" width=\"400\">\n",
    "3. Click on *Save a Copy in Drive* in Colab's *File* menu.\n",
    "\n",
    "   <img src=\"images/save-copy.jpg\" alt=\"Save a Copy\" width=\"400\">\n",
    "   \n",
    "   * Colab will create a folder in your Google Drive called *Colab Notebooks* and save the notebook to that folder.\n",
    "   * To see where the notebook was saved in Google Drive, select *Locate in Drive* from Colab's *File* menu.\n",
    "  \n",
    "### B. Opening a Saved Colab Notebook\n",
    "To open a Colab notebook that you saved to Google Drive, go to [Google Drive](https://drive.google.com/drive/my-drive), find the notebook file (it should end in *.ipynb*) and double-click on it. The file will automatically open in Colab.\n",
    "\n",
    "### C. Sharing Your Notebook\n",
    "1. Click on the *Share* Button in the upper right corner of the Colab notebook.\n",
    "2. Enter the email address of the person (or persons) with whom you want to share the notebook.\n",
    "3. Select *Commenter* in the drop-down box to the left of the email box.\n",
    "4. Add a short message so the recipient knows who is sending the notebook.\n",
    "5. Hit *Send*.\n",
    "\n",
    "<img src=\"images/sharing.jpg\" width=\"500\">"
   ]
  },
  {
   "cell_type": "markdown",
   "id": "85fcf023",
   "metadata": {
    "tiedown.cell_index": "cid71"
   },
   "source": [
    "## IX. Concept and Terminology Review<span id=\"cid71\"/>\n",
    "You should be able to define the following terms or describe the concept. Review this notebook if any of these seem unfamiliar.\n",
    "* Google Colab\n",
    "* Notebook\n",
    "* Text and code cells\n",
    "* Code comment\n",
    "* Mathematical operators\n",
    "* `print()` function\n",
    "* `len()` function\n",
    "* `round()` function\n",
    "* Function arguments\n",
    "* Variables\n",
    "* Variable assignment\n",
    "* Difference between regular division and floor division\n",
    "* Strings\n",
    "* String indexing\n",
    "* String slicing\n",
    "* String concatenation\n",
    "* Determining string length"
   ]
  },
  {
   "cell_type": "markdown",
   "id": "6d6e118c-eef8-4c5d-ae5f-482ab439dbc4",
   "metadata": {
    "tiedown.cell_index": "cid72"
   },
   "source": [
    "[Table of Contents](../toc.ipynb)<span id=\"cid72\"/>"
   ]
  },
  {
   "cell_type": "code",
   "execution_count": null,
   "id": "68a722af-b8bc-48f0-aed2-14ba2741428a",
   "metadata": {},
   "outputs": [],
   "source": []
  }
 ],
 "metadata": {
  "kernelspec": {
   "display_name": "Python 3 (ipykernel)",
   "language": "python",
   "name": "python3"
  },
  "tiedown.toc_index": 0
 },
 "nbformat": 4,
 "nbformat_minor": 5
}
