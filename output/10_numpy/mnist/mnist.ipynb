{
 "cells": [
  {
   "cell_type": "markdown",
   "id": "71bd5f74-9a49-4938-bf0d-1be9997cc36f",
   "metadata": {},
   "source": [
    "# Extract Subset of MNIST Datase"
   ]
  },
  {
   "cell_type": "code",
   "execution_count": null,
   "id": "8302b6eb-8f0d-4696-96d6-51985d650d34",
   "metadata": {
    "tags": []
   },
   "outputs": [],
   "source": [
    "import numpy as np\n",
    "import plotly.express as px"
   ]
  },
  {
   "cell_type": "code",
   "execution_count": null,
   "id": "94d0cda7-46a6-448e-b784-3b9e4ce448ba",
   "metadata": {
    "tags": []
   },
   "outputs": [],
   "source": [
    "# Read Training Data\n",
    "digits = np.genfromtxt(\n",
    "    \"mnist_train.csv\",\n",
    "    skip_header=1,\n",
    "    delimiter=\",\",\n",
    "    dtype=np.uint8)\n",
    "\n",
    "digits.shape"
   ]
  },
  {
   "cell_type": "code",
   "execution_count": null,
   "id": "7c0bdaa6-6fa8-464a-9967-a414c47d881f",
   "metadata": {
    "tags": []
   },
   "outputs": [],
   "source": [
    "# Check Digit Distribution\n",
    "px.histogram(digits[:, 0])"
   ]
  },
  {
   "cell_type": "code",
   "execution_count": null,
   "id": "8b858e95-4dd3-4a32-8b7d-0d350e3a4aab",
   "metadata": {
    "tags": []
   },
   "outputs": [],
   "source": [
    "# Choose 5000 random digits\n",
    "rng = np.random.default_rng()\n",
    "d5000 = rng.choice(digits, 5000)"
   ]
  },
  {
   "cell_type": "code",
   "execution_count": null,
   "id": "b98d7fcf-1b83-4c51-bdaf-a7947c833f63",
   "metadata": {
    "tags": []
   },
   "outputs": [],
   "source": [
    "# Save as CSV File\n",
    "np.savetxt(\"d5000.csv\", d5000, delimiter=\",\", fmt=\"%d\")"
   ]
  },
  {
   "cell_type": "code",
   "execution_count": null,
   "id": "3d476755-3f61-4812-8a30-89ed039f7d7d",
   "metadata": {},
   "outputs": [],
   "source": []
  }
 ],
 "metadata": {
  "kernelspec": {
   "display_name": "Python 3 (ipykernel)",
   "language": "python",
   "name": "python3"
  },
  "language_info": {
   "codemirror_mode": {
    "name": "ipython",
    "version": 3
   },
   "file_extension": ".py",
   "mimetype": "text/x-python",
   "name": "python",
   "nbconvert_exporter": "python",
   "pygments_lexer": "ipython3",
   "version": "3.11.5"
  }
 },
 "nbformat": 4,
 "nbformat_minor": 5
}
