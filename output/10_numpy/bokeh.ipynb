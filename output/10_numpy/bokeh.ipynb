{
 "cells": [
  {
   "cell_type": "markdown",
   "id": "1783cff3-7acc-4f5a-b85b-a0f26b1c5b0e",
   "metadata": {
    "tiedown.cell_index": "cid1"
   },
   "source": [
    "<a name=\"cid1\"></a>\n",
    "Prev: [Data Visualization with Pandas, Matplotlib, and Plotly](../09_visualization/visualization.ipynb) | [Table of Contents](../toc.ipynb) | Next: [Data Visualization with Plotly](numpy.ipynb)"
   ]
  },
  {
   "cell_type": "markdown",
   "id": "2cf3878b-53aa-4342-a24c-96543bea6880",
   "metadata": {
    "tiedown.cell_index": "cid2"
   },
   "source": [
    "<a name=\"cid2\"></a>\n",
    "# Data Visualization with Bokeh\n",
    "## I. Introduction\n",
    "We covered basic plotting with the Matplotlib package in [lesson 10]numpy.ipynb. We used the Matplotlib package because it's the most commonly used plotting package for the Python language, it's similar to Matlab, it's used in many Internet code examples, and several other visualization packages are based on it (like Seaborn).\n",
    "\n",
    "Nevertheless, we use a different plotting package for the scouting system. We want to provide the drive team, strategists, and lead scout with *interactive* visualizations that allow them to drill down into the data. Users should be able to select whatever teams, matches, or game aspects that interest them. The Bokeh plotting package is superior to Matplotlib in this regard.\n",
    "\n",
    "The [Bokeh Gallary](https://docs.bokeh.org/en/latest/docs/gallery.html) has several examples of interactive plots. The [Ineractive Movie Explorer](https://demo.bokeh.org/movies) has data filtering features that could be useful in an FRC scouting system. The [Gapminder Visualization on Life Expectancy and Family Size](https://demo.bokeh.org/gapminder) shows how plot animation can show trends that would otherwise be difficult to understand.\n",
    "\n",
    "## II. Notebook Setup\n",
    "### A. If Running this Notebook on Google Colab\n",
    "Run the next cell to download data files into the local folder on Google Colab."
   ]
  },
  {
   "cell_type": "code",
   "execution_count": null,
   "id": "6c88c912-a1a6-455e-a1be-de60417c1a27",
   "metadata": {},
   "outputs": [],
   "source": [
    "!wget -nv https://raw.githubusercontent.com/irs1318dev/python2023/main/output/10_visualization_bokeh/get_files.sh\n",
    "!bash get_files.sh"
   ]
  },
  {
   "cell_type": "markdown",
   "id": "9769479a-9028-47bf-9fb0-a52ca69d4c88",
   "metadata": {
    "tiedown.cell_index": "cid3"
   },
   "source": [
    "<a name=\"cid3\"></a>\n",
    "### B. If Running Notebook Locally in Jupyter\n",
    "You don't need to run the `wget` and `bash` commands if you are using Google Colab because the Bokeh package is already installed.\n",
    "\n",
    "If you are using Jupyter Lab (as you should be), you will need to install both the bokeh and bokeh_jupyter packages to run this notebook. Run the following commands in your terminal:\n",
    "```bash\n",
    "conda install -c conda-forge bokeh\n",
    "conda install -c conda-forge jupyter_bokeh\n",
    "```"
   ]
  },
  {
   "cell_type": "markdown",
   "id": "6f7a2d17-586a-43c2-93ec-42ad22faa0c8",
   "metadata": {
    "tiedown.cell_index": "cid4"
   },
   "source": [
    "<a name=\"cid4\"></a>\n",
    "### C. Imports\n",
    "Bokeh requires that we import several different modules."
   ]
  },
  {
   "cell_type": "code",
   "execution_count": null,
   "id": "50aea07f-7ff7-416b-afc5-2fb629e10db6",
   "metadata": {},
   "outputs": [],
   "source": [
    "import bokeh.io as io\n",
    "import bokeh.models as models\n",
    "import bokeh.plotting as plotting\n",
    "import bokeh.resources as resources\n",
    "import pandas as pd"
   ]
  },
  {
   "cell_type": "markdown",
   "id": "39a65e49-a42e-4266-922c-867df11b8987",
   "metadata": {
    "tiedown.cell_index": "cid5"
   },
   "source": [
    "<a name=\"cid5\"></a>\n",
    "### D. Configuration\n",
    "Configure Bokeh to display plots in a Jupyter notebook with the `bokeh.io.output_notebook()` function."
   ]
  },
  {
   "cell_type": "code",
   "execution_count": null,
   "id": "28be3729-703e-411a-81f2-7fc50929e413",
   "metadata": {},
   "outputs": [],
   "source": [
    "# Configures notebook to display Bokeh Charts\n",
    "io.output_notebook()"
   ]
  },
  {
   "cell_type": "markdown",
   "id": "ab807dcc-b67e-4fce-8d02-a2d513bd46b3",
   "metadata": {
    "tiedown.cell_index": "cid6"
   },
   "source": [
    "<a name=\"cid6\"></a>\n",
    "Bokeh normally tries to load additional resources over the Internet. We'll go over the reason for that later. If you are trying to run this notebook without Internet access, replace the code in the previous cell with this code:\n",
    "```python\n",
    "res = resources.Resources(\"inline\")\n",
    "io.output_notebook(res)\n",
    "```"
   ]
  },
  {
   "cell_type": "markdown",
   "id": "4f709d89-5b55-4f4c-bc96-2f63baec8d43",
   "metadata": {
    "tiedown.cell_index": "cid7"
   },
   "source": [
    "<a name=\"cid7\"></a>\n",
    "II. First Plot\n",
    "For our first Bokeh plot, we'll load the housing data that we used for the Matplotlib session."
   ]
  },
  {
   "cell_type": "code",
   "execution_count": null,
   "id": "28508412-eeda-495f-b27b-135c821bd08e",
   "metadata": {},
   "outputs": [],
   "source": [
    "housing = pd.read_csv(\"housing.csv\")\n",
    "housing.head()"
   ]
  },
  {
   "cell_type": "markdown",
   "id": "4c60adad-3602-4c12-8ce5-0b90ad6cc7a5",
   "metadata": {
    "tiedown.cell_index": "cid8"
   },
   "source": [
    "<a name=\"cid8\"></a>\n",
    "The data is from 1990 census data for California. Each row represents housing data for a different census tract. There are over 20,000 rows in the dataframe."
   ]
  },
  {
   "cell_type": "code",
   "execution_count": null,
   "id": "e8588934-88df-4c8a-81f8-8c2051cb6ae8",
   "metadata": {},
   "outputs": [],
   "source": [
    "housing.shape"
   ]
  },
  {
   "cell_type": "markdown",
   "id": "743011d5-a5c4-4afa-9041-46831090043d",
   "metadata": {
    "tiedown.cell_index": "cid9"
   },
   "source": [
    "<a name=\"cid9\"></a>\n",
    "Let's look at the column names."
   ]
  },
  {
   "cell_type": "code",
   "execution_count": null,
   "id": "b604e6c9-cbbd-4e2c-a580-2a4b55be7e65",
   "metadata": {},
   "outputs": [],
   "source": [
    "housing.columns"
   ]
  },
  {
   "cell_type": "markdown",
   "id": "48281b4c-7913-453a-966f-4889a07ac3bf",
   "metadata": {
    "tiedown.cell_index": "cid10"
   },
   "source": [
    "<a name=\"cid10\"></a>\n",
    "Now let's display a plot of median house value by median income for each census tract."
   ]
  },
  {
   "cell_type": "code",
   "execution_count": null,
   "id": "798c0e51-98c8-4902-bd9e-48d2dc0877bf",
   "metadata": {},
   "outputs": [],
   "source": [
    "# First Bokeh Plot\n",
    "\n",
    "# Step 1: Create a Figure object.\n",
    "housing_plot = plotting.figure(\n",
    "    title=\"Median House Value\",\n",
    "    x_axis_label=\"Median Income\",\n",
    "    y_axis_label=\"Median Home Value\",\n",
    "    width=800, height=400)\n",
    "\n",
    "# Step 2: Plot the data (first 1000 rows)\n",
    "housing_plot.scatter(\"median_income\",\n",
    "                     \"median_house_value\",\n",
    "                     source=housing.iloc[0:1000, :])\n",
    "\n",
    "# Step 3: Tweak the plot to make it look nice.\n",
    "housing_plot.yaxis[0].formatter = (\n",
    "    models.NumeralTickFormatter(format=\"$0a\"))\n",
    "\n",
    "# Step 4: Display the plot\n",
    "plotting.show(housing_plot)"
   ]
  },
  {
   "cell_type": "markdown",
   "id": "e3ebb150-dd37-47f2-a7ff-5fb877d3efa9",
   "metadata": {
    "tiedown.cell_index": "cid11"
   },
   "source": [
    "<a name=\"cid11\"></a>\n",
    "### E. Interactive Features\n",
    "We didn't do anything special in our code to make our plot interactive, but it has interactive features anyway. By selecting different tools from the toolbar in the upper right corner of the plot, we can pan, zoom in, export the plot to an image file, and return to the original zoom settings.\n",
    "\n",
    "Let's break down this code.\n",
    "### F. Step 1: Creating a Figure Object\n",
    "The first step in creating a Bokeh chart is to create a `bokeh.plotting.figure.Figure` object. This object represents a Bokeh plot. In this step we were able to set the plot's size, title, and axes labels. There are other parameters that can be passed to the `figure()` function. See [the Bokeh reference for the Figure object](https://docs.bokeh.org/en/latest/docs/reference/plotting/figure.html#id2) for a complete list.\n",
    "\n",
    "### G. Step 2: Plotting the Data\n",
    "We plotted the data by calling our `Figure` objects `.dot()` method. Try replacing `dot()` with `scatter()`, or `square()`. These methods are called glyph methods and there are a lot of them. See [the Bokeh reference for the Figure object](https://docs.bokeh.org/en/latest/docs/reference/plotting/figure.html#id2) for a complete list.\n",
    "\n",
    "It was easy to get the data into the plot. Passing our dataframe to the `.dot()` function in the `source` parameter allowed us to control which columns were plotted by passing in column names.\n",
    "\n",
    "### H. Step 3: Tweaking the Plot\n",
    "Comment out the line for step 3 to see what it does. It formats the y axis to show home price in thousands of dollars. This is much easier to read than the scientific notation that was used by default. This is just one of the many ways that plot appearance can be customized.\n",
    "\n",
    "### I. Step 4: Show the Plot\n",
    "Unlike in MatplotLib, we have to call a function (`bokeh.io.show()`) to display our plot."
   ]
  },
  {
   "cell_type": "markdown",
   "id": "93b780ba-c2a4-4d59-8f50-98baed82c5f4",
   "metadata": {
    "tiedown.cell_index": "cid12"
   },
   "source": [
    "<a name=\"cid12\"></a>\n",
    "## III. How Bokeh Works\n",
    "Instead of displaying the plot in the notebook, use the `bokeh.output_file()` function to save the plot to a file."
   ]
  },
  {
   "cell_type": "code",
   "execution_count": null,
   "id": "697d4ef3-3ca2-4fd1-9215-f45682742632",
   "metadata": {
    "tags": []
   },
   "outputs": [],
   "source": [
    "io.save(housing_plot, \"housing.html\", resources.CDN, title=\"Bokeh Housing Plot\")"
   ]
  },
  {
   "cell_type": "markdown",
   "id": "f5fd877d-04a3-4092-be25-13bc6e9af6c3",
   "metadata": {
    "tiedown.cell_index": "cid13"
   },
   "source": [
    "<a name=\"cid13\"></a>\n",
    "With most plotting packages we would export plots to graphics files like *.png* or *.jpg*, but with Bokeh we are exporting the plot to an *HTML* file. The preceding cell created an HTML file called *housing.html*.\n",
    "* If you are working on Google Colab, click on the file viewer button (looks like a file folder) in the toolbar on the left. Then double click on *housing.html* to open it.\n",
    "* If you are working in Jupyter, find the file in Jupyter Lab's file browser, right click on it, and select *Open With->Editor*. A new Jupyter window will open up with the file's HTML source code.\n",
    "\n",
    "The beginning of *housing.html* looks like a regular HTML file, with `<html>`, `<head>`, and `<title>` elements. But nothing in this page looks like an image or plot. To understand how Bokeh works, we need to understnd three interesting elements in the webpage.\n",
    "\n",
    "### A. BokehJS JavaScript Module\n",
    "The page loads a JavaScript module from an external webpage. This is the BokehJS JavaScript module that contains the functions and objects needed to make the page interactive.\n",
    "\n",
    "```html\n",
    "<script type=\"text/javascript\"\n",
    "        src=\"https://cdn.bokeh.org/bokeh/release/bokeh-2.4.2.min.js\">\n",
    "</script>\n",
    "```\n",
    "\n",
    "### B. JSON Script Element\n",
    "The page contains a script element with a large section of JSON text. the first few lines are displayed below. Line breaks have been added to reduce horizontal scrolling.\n",
    "```html\n",
    "<script type=\"application/json\" id=\"2358\">\n",
    "{\"261f6d85-a94c-4648-879c-42ea33a0191c\":{\"defs\":[],\n",
    "\"roots\":{\"references\":[{\"attributes\":{\"below\":[{\"id\":\"2093\"}],\"center\":[{\"id\":\"2096\"},{\"id\":\"2100\"}],\"height\":400,\"left\":[{\"id\":\"2097\"}],\"renderers\":[{\"id\":\"2120\"}],\"title\":{\"id\":\"2083\"},\"toolbar\":{\"id\":\"2108\"},\"width\":800,\"x_range\":{\"id\":\"2085\"},\"x_scale\":{\"id\":\"2089\"},\"y_range\":{\"id\":\"2087\"},\"y_scale\":{\"id\":\"2091\"}},\"id\":\"2082\",\"subtype\":\"Figure\",\"type\":\"Plot\"},{\"attributes\":{},\"id\":\"2106\",\"type\":\"HelpTool\"},{\"attributes\":{},\"id\":\"2104\",\"type\":\"SaveTool\"},\n",
    "{\"attributes\":{},\"id\":\"2101\",\"type\":\"PanTool\"},\n",
    "{\"attributes\":{},\"id\":\"2105\",\"type\":\"ResetTool\"},\n",
    "{\"attributes\":{\"bottom_units\":\"screen\",\"coordinates\":null,\"fill_alpha\":0.5,\"fill_color\":\"lightgrey\",\n",
    "\"group\":null,\"left_units\":\"screen\",\"level\":\"overlay\",\"line_alpha\":1.0,\"line_color\":\n",
    "\"black\",\"line_dash\":[4,4],\"line_width\":2,\"right_units\":\"screen\",\"syncable\":false,\"top_units\":\"screen\"},\n",
    "\"id\":\"2107\",\"type\":\"BoxAnnotation\"},{\"attributes\":{\"coordinates\":null,\"data_source\":{\"id\":\"2115\"},\"glyph\":{\"id\":\"2117\"},\"group\":null,\"hover_glyph\":null,\"muted_glyph\":{\"id\":\"2119\"},\"nonselection_glyph\":{\"id\":\"2118\"},\"view\":{\"id\":\"2121\"}},\"id\":\"2120\",\"type\":\"GlyphRenderer\"},{\"attributes\":{\"source\":{\"id\":\"2115\"}},\"id\":\"2121\",\"type\":\"CDSView\"},{\"attributes\":{\"data\":{\"households\":{\"__ndarray__\":\"AAAAAACAX0AAAAAAAMiRQAAAAAAAIGZAAAAAAABga0AAAAAAADBwQAAAAAAAIG ...\n",
    "```\n",
    "\n",
    "### C. Final `<script>` Tag\n",
    "```html\n",
    "        <script type=\"text/javascript\">\n",
    "          (function() {\n",
    "            const fn = function() {\n",
    "              Bokeh.safely(function() {\n",
    "                (function(root) {\n",
    "         ...\n",
    "```"
   ]
  },
  {
   "cell_type": "markdown",
   "id": "cf11bdfa-347b-40f8-983c-cf505dcd8f3e",
   "metadata": {
    "tiedown.cell_index": "cid14"
   },
   "source": [
    "<a name=\"cid14\"></a>\n",
    "#### 1. Explanation\n",
    "1. The BokehJS JavaScript module (see III.A) contains functions that generate a plot from the large JSON string (see III.B).\n",
    "2. The JSON string contains all of the information needed to generate the plot, including the source data, axis labels, titles, and formatting. Much of the JSON is human readable. The long random alphanumeric strings following `\"__ndarray__\"` are textual encodings of binary arrays of floating point values.\n",
    "3. The final `<script>` element calls functions from the BokehJS module (see III.C) that convert the JSON data to a graphical plot.\n",
    "\n",
    "By default, Bokeh displays the plot using an [HTML5 `<canvas>` element](https://developer.mozilla.org/en-US/docs/Web/API/Canvas_API). Canvas elements allow web designers to draw lines and shapes in a webpage using JavaScript. Since the plot was drawn with JavaScript, it can be *modified* with JavaScript. This is where the interactivity comes from. When you use the plot's tools to pan or zoom, JavaScript is running within the webpage that updates the plot.\n",
    "\n",
    "Bokeh can also be configured to draw plots with [Scalable Vector Graphics (SVG)](https://developer.mozilla.org/en-US/docs/Web/SVG). SVG uses an XML-based markup language to draw graphic elements in a webpage. One big difference between SVG and canvas elements is that SVG graphics are vector-based and canvas graphics are raster-based. SVG will perform better in some situations and canvas elements will perform better in others.\n",
    "\n",
    "Bokeh provides a third option for drawing plots called WebGL. WebGL enables browsers to use hardware acceleration to render complex graphic objects. For example, if we were to plot all 26,000 rows in our housing dataset, we could used WebGL to get better performance.\n",
    "\n",
    "Bokeh refers to svg, canvas, and webgl as *backends*. Unless we run into problems, we'll stick with the default canvas backend for the scouting system. Search Bokeh's documentation for the term *backend* to learn how to change Bokeh's default behavior."
   ]
  },
  {
   "cell_type": "markdown",
   "id": "ba0a7024-59f9-4ed7-ad40-9063f7a94316",
   "metadata": {
    "tiedown.cell_index": "cid15"
   },
   "source": [
    "<a name=\"cid15\"></a>\n",
    "## IV. Reading Assignment\n",
    "\n",
    "### A. Bokeh Documentation: First Steps\n",
    "Now is a good time to read [Bokeh's First steps guide](https://docs.bokeh.org/en/latest/docs/first_steps.html). At a minimum, read [First steps 1: Creating a Line Chart](https://docs.bokeh.org/en/latest/docs/first_steps/first_steps_1.html) and [First Steps 2: Adding and Customizing Renderers](https://docs.bokeh.org/en/latest/docs/first_steps/first_steps_2.html). I encourage you to scan the other sections.\n",
    "\n",
    "### B. Bokeh Tutorial\n",
    "Alternatively, Bokeh provides an [interactive, online tutorial](https://mybinder.org/v2/gh/bokeh/bokeh-notebooks/master?filepath=tutorial%2F00%20-%20Introduction%20and%20Setup.ipynb). The Tutorial uses an older version of Bokeh (version 1.4), but it could still be helpful."
   ]
  },
  {
   "cell_type": "markdown",
   "id": "c2ef35af-ea83-4f68-a0cf-190e3a1e632c",
   "metadata": {
    "tiedown.cell_index": "cid16"
   },
   "source": [
    "<a name=\"cid16\"></a>\n",
    "## V. Bokeh Scouting Charts From Prior Years\n",
    "\n",
    "### A. 2019: Hosting Static Files on Github\n",
    "In 2019 we used Bokeh to embed charts in [static HTML pages that we hosted on Github](https://github.com/irs1318dev/scouting2019). Click on the links in the README page to view charts from our competitions. [This one is the points chart from the PNW championships](https://irs1318dev.github.io/scouting2019/pncmp/pointschart.html).\n",
    "\n",
    "Hosting our plots on Github was a big improvement. Anyone with a smart phone could view our scouting data, and we could update the charts with a `git push...` command. But it still had drawbacks. Consider the [one-team charts that we generated for each team](https://irs1318dev.github.io/scouting2019/pncmp/oneteam_index.html). We had to generate and upload a different HTML file for each chart. This was time-consuming and wasteful.\n",
    "\n",
    "[The code that generated the 2019 charts is here](https://github.com/irs1318dev/irsScouting2017/tree/master/server/season/s2019/view)."
   ]
  },
  {
   "cell_type": "markdown",
   "id": "276dfac2-7103-469b-a897-0e411087fd82",
   "metadata": {
    "tiedown.cell_index": "cid17"
   },
   "source": [
    "<a name=\"cid17\"></a>\n",
    "### B. 2020: Serving Interactive Charts with a Bokeh Server\n",
    "In 2020 we created an interactive visualization application and put it online. [Click here to try out the application.](https://irs1318-viewer.herokuapp.com/app) There are multiple tabs of data. Several of the charts have dropdown select boxes that allow users to change what data is displayed.\n",
    "\n",
    "Building interactive Bokeh applications is beyond the scope of this notebook. Learn more about building [Bokeh applications in the Bokeh User Guide](https://docs.bokeh.org/en/latest/docs/user_guide/server.html#building-bokeh-applications). The viewer_app uses the directory format for Bokeh applications.\n",
    "\n",
    "### C. Robot Path Viewer\n",
    "Go to http://pviewer.herokuapp.com/pviewer to see an interactive Bokeh application for viewing FRC robot path data. The [scource code for the path viewer is available on Github](https://github.com/irwinsnet/frc_path_viewer)."
   ]
  },
  {
   "cell_type": "markdown",
   "id": "e10b812f-85bd-4f7a-89e8-e9bd20878c27",
   "metadata": {
    "tiedown.cell_index": "cid18"
   },
   "source": [
    "<a name=\"cid18\"></a>\n",
    "## VI. Project: Play Around with Old Scouting Data\n",
    "\n",
    "### A. Load Some Scouting Data\n",
    "Let's load some scouting data from an FRC competition. The data is stored in a pickle file."
   ]
  },
  {
   "cell_type": "code",
   "execution_count": null,
   "id": "d9891677-624f-4d55-a209-9dd2942f808b",
   "metadata": {},
   "outputs": [],
   "source": [
    "import pickle\n",
    "\n",
    "# The vif.pickle file contains scouting data from the\n",
    "# 2020 Glacier Peak competition.\n",
    "with open(\"vif.pickle\", \"rb\") as sfile:\n",
    "    sdata = pickle.load(sfile)"
   ]
  },
  {
   "cell_type": "markdown",
   "id": "6ba046c4-0175-49af-8f92-99a763709e06",
   "metadata": {
    "tiedown.cell_index": "cid19"
   },
   "source": [
    "<a name=\"cid19\"></a>\n",
    "The `sdata` variable holds a dictionary with several keys."
   ]
  },
  {
   "cell_type": "code",
   "execution_count": null,
   "id": "d2558535-d5e4-4389-8e30-8a75ad28456e",
   "metadata": {},
   "outputs": [],
   "source": [
    "sdata.keys()"
   ]
  },
  {
   "cell_type": "markdown",
   "id": "a8843367-14db-40c7-9151-f1c4c67c76ed",
   "metadata": {
    "tiedown.cell_index": "cid20"
   },
   "source": [
    "<a name=\"cid20\"></a>\n",
    "For convenience, let's extract every key value into its own variable."
   ]
  },
  {
   "cell_type": "code",
   "execution_count": null,
   "id": "00f08fa0-69d8-4fd9-94f0-de5614d51cb8",
   "metadata": {},
   "outputs": [],
   "source": [
    "for key in sdata.keys():\n",
    "    locals()[key] = sdata[key]"
   ]
  },
  {
   "cell_type": "markdown",
   "id": "db9279a8-d398-4a85-8659-0db6d61d01dd",
   "metadata": {
    "tiedown.cell_index": "cid21"
   },
   "source": [
    "<a name=\"cid21\"></a>\n",
    "### B. Exploratory Data Analysis (EDA)\n",
    "The `measures` and `enum_measures` dataframes contain the actual scouting data and are almost exactly the same. The difference is in how each table treats enumerated measure types. In `measures`, the enumerated value is stored in the *capability* column. In `enum_measures`, the enumerated value is appended to the *task*. The difference is readily apparent in the first three rows of the table."
   ]
  },
  {
   "cell_type": "code",
   "execution_count": null,
   "id": "a5b69b43-c31b-4e61-8865-3f1c0ecf55e3",
   "metadata": {},
   "outputs": [],
   "source": [
    "measures.head()"
   ]
  },
  {
   "cell_type": "code",
   "execution_count": null,
   "id": "9c2fa491-e87e-4883-b35f-54ea97c23eae",
   "metadata": {},
   "outputs": [],
   "source": [
    "enum_measures.head()"
   ]
  },
  {
   "cell_type": "markdown",
   "id": "e28bde11-44c6-4c1e-9397-5b4a89aba034",
   "metadata": {
    "tiedown.cell_index": "cid22"
   },
   "source": [
    "<a name=\"cid22\"></a>\n",
    "The `schedule` dataframe is in narrow format, with one team on each row and six rows per match."
   ]
  },
  {
   "cell_type": "code",
   "execution_count": null,
   "id": "ba0a75ff-f003-4f03-86b2-b8b504e8b8e3",
   "metadata": {},
   "outputs": [],
   "source": [
    "schedule.head()"
   ]
  },
  {
   "cell_type": "markdown",
   "id": "39668934-366c-45a2-b25e-1e423908cc5c",
   "metadata": {
    "tiedown.cell_index": "cid23"
   },
   "source": [
    "<a name=\"cid23\"></a>\n",
    "The `teams` dataframe is self explanatory."
   ]
  },
  {
   "cell_type": "code",
   "execution_count": null,
   "id": "6aacddec-b534-41c2-8a39-5f780cf2e890",
   "metadata": {},
   "outputs": [],
   "source": [
    "teams.head()"
   ]
  },
  {
   "cell_type": "markdown",
   "id": "f9506ab9-d472-4509-a897-3a56064922b4",
   "metadata": {
    "tiedown.cell_index": "cid24"
   },
   "source": [
    "<a name=\"cid24\"></a>\n",
    "The `event` and `season` variables contain simple, descriptive strings."
   ]
  },
  {
   "cell_type": "code",
   "execution_count": null,
   "id": "2cfad303-1541-4132-a4f7-3c8d864357e3",
   "metadata": {},
   "outputs": [],
   "source": [
    "print(\"event:\\t\", event)\n",
    "print(\"season:\\t\", season)"
   ]
  },
  {
   "cell_type": "markdown",
   "id": "d74c2a8f-30fb-4948-b337-9e2d5ba0244e",
   "metadata": {
    "tiedown.cell_index": "cid25"
   },
   "source": [
    "<a name=\"cid25\"></a>\n",
    "The `status` dataframe was used by the old scouting systems to contain it's current state. It's not needed for this exercise."
   ]
  },
  {
   "cell_type": "code",
   "execution_count": null,
   "id": "c99d6f15-c95e-4f8e-8822-35c9e351d44d",
   "metadata": {},
   "outputs": [],
   "source": [
    "status"
   ]
  },
  {
   "cell_type": "markdown",
   "id": "6ef17ae8-22fa-4042-99d4-bf5bb7adce96",
   "metadata": {
    "tiedown.cell_index": "cid26"
   },
   "source": [
    "<a name=\"cid26\"></a>\n",
    "### C. Project: Make Some Charts with Bokeh\n",
    "Do some more EDA and make some cool charts with Bokeh using the scouting data that we just loaded."
   ]
  },
  {
   "cell_type": "markdown",
   "id": "6d6e118c-eef8-4c5d-ae5f-482ab439dbc4",
   "metadata": {
    "tiedown.cell_index": "cid27"
   },
   "source": [
    "<a name=\"cid27\"></a>\n",
    "Prev: [Data Visualization with Pandas, Matplotlib, and Plotly](../09_visualization/visualization.ipynb) | [Table of Contents](../toc.ipynb) | Next: [Data Visualization with Plotly](numpy.ipynb)"
   ]
  }
 ],
 "metadata": {
  "kernelspec": {
   "display_name": "Python 3 (ipykernel)",
   "language": "python",
   "name": "python3"
  },
  "tiedown.toc_index": 9
 },
 "nbformat": 4,
 "nbformat_minor": 5
}
