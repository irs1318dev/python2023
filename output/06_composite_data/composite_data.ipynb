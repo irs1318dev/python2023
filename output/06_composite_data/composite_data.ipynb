{
 "cells": [
  {
   "cell_type": "markdown",
   "id": "1783cff3-7acc-4f5a-b85b-a0f26b1c5b0e",
   "metadata": {
    "tiedown.cell_index": "cid1"
   },
   "source": [
    "Next: [Functions<a id=\"cid2\"></a>](../05_functions/functions.ipynb) | [Table of Contents](../toc.ipynb) | Prev: [File Operations and Comprehensions<a id=\"cid2\"></a>](../07_files_and_comprehensions/files_and_comprehensions.ipynb)<a id=\"cid1\"></a>"
   ]
  },
  {
   "cell_type": "markdown",
   "id": "506b84ce",
   "metadata": {
    "tiedown.cell_index": "cid2"
   },
   "source": [
    "# Composite Data Types<a id=\"cid2\"></a>\n",
    "\n",
    "## I. Composite Types vs. Scalars\n",
    "This session will focus on composite data types. You have already been introduced to one composite data type, the list. Lists are composite data types because they can contain several different items. For example:\n",
    "```Python\n",
    "my_list = [1, 5, 9, 37]\n",
    "my_list[2]\n",
    "```\n",
    "In the example, `my_list` contains four different integers (*n = 4*). Each integer can be extracted from the list with the notation `my_list[x]`, where *x* is an integer ranging from 0 to *n-1*.\n",
    "\n",
    "Integers, floats, and Booleans are not composite types because they cannot be broken up into smaller parts. They are scalar data types. They are sometimes called primitive values.\n",
    "\n",
    "What about strings? Are they composite data types ore scalars? That is an interesting question and we'll return to it later."
   ]
  },
  {
   "cell_type": "markdown",
   "id": "d7f50641",
   "metadata": {
    "tiedown.cell_index": "cid3"
   },
   "source": [
    "## II. Dictionaries<a id=\"cid3\"></a>"
   ]
  },
  {
   "cell_type": "markdown",
   "id": "f6dc9b8a",
   "metadata": {
    "tiedown.cell_index": "cid4"
   },
   "source": [
    "### A. Introduction to Dictionaries<a id=\"cid4\"></a>\n",
    "Dictionaries are a composite data type in Python. Run the cell below to see a dictionary in action."
   ]
  },
  {
   "cell_type": "code",
   "execution_count": null,
   "id": "84914dc6",
   "metadata": {},
   "outputs": [],
   "source": [
    "# Dictionary Example\n",
    "points = {\"initiation_line\": 5,\n",
    "          \"pc_lower_auto\": 2, \"pc_outer_auto\": 4, \"pc_inner_auto\": 6,\n",
    "          \"pc_lower_tele\": 1, \"pc_outer_tele\": 2, \"pc_inner_tele\": 3,\n",
    "          \"cp_rotation\": 10, \"cp_position\": 20,\n",
    "          \"hang\": 20, \"park\": 5, \"level\": 15}\n",
    "\n",
    "msg = \"Points from 2 robots hanging off a level switch:\"\n",
    "print(msg, 2 * points[\"hang\"] + points[\"level\"])\n",
    "print(\"Data type is:\", type(points))"
   ]
  },
  {
   "cell_type": "markdown",
   "id": "5b64354b",
   "metadata": {
    "tiedown.cell_index": "cid5"
   },
   "source": [
    "Dictionaries are like lists because they can hold multiple values. But unlike lists, we can assign a name to each value. In the `points` dictionary above, the value *15* has been assigned the name `\"level\"`, and the value *20* has been assigned the name `\"hang\"`. We can access the individual values by placing the name in square brackets after the name of the dictionary.<a id=\"cid5\"></a>\n",
    "\n",
    "It's not entirely correct to use the term *name* in relation to dictionaries. The correct term is *key*. Dictionaries consist of one or more **key-value** pairs, with the *key* appearing before the colon,`:`, the *value* appearing after the colon, and commas separating the key-value pairs. The key-value pairs are enclosed in curly braces, (or just *braces*).\n",
    "\n",
    "Consider this simple dictionary:\n",
    "```Python\n",
    "dnary = {\"key1\": \"value1\", \"key2\": \"value2\"}\n",
    "```\n",
    "The strings \"key1\" and \"key2\" are the keys, and \"value1\" and \"value2\" are the values.\n",
    "\n",
    "### B. Data Types Allowed in Dictionaries\n",
    "Dictionaries are even more flexible than the previous examples suggest. Run the next cell."
   ]
  },
  {
   "cell_type": "code",
   "execution_count": null,
   "id": "c120e94e",
   "metadata": {},
   "outputs": [],
   "source": [
    "# Team Name Lookup Dictionary\n",
    "# Contains names of all PNW FRC teams with team numbers < 1000\n",
    "teams = {360: \"The Revolution\", 488: \"Team XBot\",\n",
    "         492: \"Titan Robotics Club\", 568: \"Nerds of the North\",\n",
    "         753: \"High Dessert Droids\", 847: \"PHRED\",\n",
    "         948: \"Newport Robotics Group\", 949: \"Wolvorine Robotics\",\n",
    "         955: \"CV Robotics\", 997: \"Spartan Robotics\"}\n",
    "\n",
    "teams[568]"
   ]
  },
  {
   "cell_type": "markdown",
   "id": "539f3ddf",
   "metadata": {
    "tiedown.cell_index": "cid6"
   },
   "source": [
    "The keys for the `teams` dictionary are integers and the values are strings! This is the exact opposite of the `points` dictionary.<a id=\"cid6\"></a>\n",
    "\n",
    "It just so happens that a dictionary value can be *any Python data type*, including other composite types. Different values within the same dictionary can be different data types.\n",
    "\n",
    "*But not all data types can be keys.* Dictionary keys must be an *immutable* data type. We'll explain what an immutable data type is later. For now, you just need to know that all of the data types we've covered so far, except for lists, can be used as dictionary keys.\n",
    "\n",
    "When we say that all data types except for lists can be used as keys, and all data types can be values, we mean it. Run the cell below."
   ]
  },
  {
   "cell_type": "code",
   "execution_count": null,
   "id": "3ad64f6e",
   "metadata": {},
   "outputs": [],
   "source": [
    "# Weird Dictionaries you should never use!\n",
    "\n",
    "boolnary = {True: False, False: True}\n",
    "print(\"boolnary[True]:\", boolnary[True])\n",
    "print(\"boolnary[False]:\", boolnary[False])\n",
    "\n",
    "print()\n",
    "none_nary = {None: \"Something\", \"Something\": None}\n",
    "print(\"nonenary[None]:\", none_nary[None])\n",
    "print('nonenary[\"Something\"]:', none_nary[\"Something\"])"
   ]
  },
  {
   "cell_type": "markdown",
   "id": "cdb2191f",
   "metadata": {
    "tiedown.cell_index": "cid7"
   },
   "source": [
    "Now that is interesting.<a id=\"cid7\"></a>"
   ]
  },
  {
   "cell_type": "markdown",
   "id": "dc7a00ad",
   "metadata": {
    "tiedown.cell_index": "cid8"
   },
   "source": [
    "### C. Differences Between Lists and Dictionaries<a id=\"cid8\"></a>\n",
    "\n",
    "It's not obvious how a dictionary with an integer key is different form a list. Consider the `teams` dictionary above. We could achieve the same effect with a list. Run the cell below:"
   ]
  },
  {
   "cell_type": "code",
   "execution_count": null,
   "id": "bcdc92af",
   "metadata": {},
   "outputs": [],
   "source": [
    "# Create an empty list\n",
    "teams_list = [None] * 1000\n",
    "\n",
    "# Assign team names\n",
    "teams_list[360] = \"The Revolution\"\n",
    "teams_list[488] = \"Team XBot\"\n",
    "teams_list[492] = \"Titan Robotics Club\"\n",
    "teams_list[568] = \"Nerds of the North\"\n",
    "teams_list[847] = \"PHRED\"\n",
    "teams_list[948] = \"Newport Robotics Group\"\n",
    "teams_list[949] = \"Wolvorine Robotics\"\n",
    "teams_list[955] = \"CV Robotics\"\n",
    "teams_list[997] = \"Spartan Robotics\"\n",
    "\n",
    "teams_list[568]"
   ]
  },
  {
   "cell_type": "markdown",
   "id": "ee8243c1",
   "metadata": {
    "tiedown.cell_index": "cid9"
   },
   "source": [
    "Symantically, the `teams_list` list object appears the same as the `teams` dictionary object. We can put a team number in square brackets and get the name. The `teams_list` object actually has an advantage. Run the next cell to see it:<a id=\"cid9\"></a>"
   ]
  },
  {
   "cell_type": "code",
   "execution_count": null,
   "id": "c1017a4b",
   "metadata": {},
   "outputs": [],
   "source": [
    "# Advantages of list\n",
    "print(\"PNW Team #9 is:\", teams_list[9])\n",
    "\n",
    "print(\"PNW Team #9 is:\", teams[9])"
   ]
  },
  {
   "cell_type": "markdown",
   "id": "fb828719",
   "metadata": {
    "tiedown.cell_index": "cid10"
   },
   "source": [
    "If we pass in a team number that does not exist in the PNW district, the list give us the `None` object, which makes sense. But if we pass a team number (i.e., key) that does not exist in the `teams` dictionary, Python throws a KeyError.<a id=\"cid10\"></a>\n",
    "\n",
    "So why not use a list? Here's why:"
   ]
  },
  {
   "cell_type": "code",
   "execution_count": null,
   "id": "617f95d5",
   "metadata": {},
   "outputs": [],
   "source": [
    "# Comparison of memory used by list and dictionary\n",
    "\n",
    "# The next line is needed to use the getsizeof() method.\n",
    "#   We will cover import statements later, so dont' worry\n",
    "#   if you don't understand this line.\n",
    "import sys\n",
    "\n",
    "print(\"Bytes of memory required to store teams dictionary:\",\n",
    "      sys.getsizeof(teams))\n",
    "print(\"Bytes of memory required to store teams_list:\",\n",
    "      sys.getsizeof(teams_list))"
   ]
  },
  {
   "cell_type": "markdown",
   "id": "166814f2",
   "metadata": {
    "tiedown.cell_index": "cid11"
   },
   "source": [
    "Holy Cra...ckers! The list takes 20 times more memory than the dictionary. Can you see why?<a id=\"cid11\"></a>\n",
    "\n",
    "The list is actually storing 9 strings and 991 references to the `None` object. The dictionary takes up less space because it doesn't store a bunch of references to the `None` object.\n",
    "\n",
    "We can get around the *KeyError* problem with the [dictionary's `get()` method](https://docs.python.org/3/library/stdtypes.html#mapping-types-dict)."
   ]
  },
  {
   "cell_type": "code",
   "execution_count": null,
   "id": "40082a21",
   "metadata": {},
   "outputs": [],
   "source": [
    "print(\"PNW Team # 9 is:\", teams.get(9))"
   ]
  },
  {
   "cell_type": "markdown",
   "id": "6379fe85",
   "metadata": {
    "tiedown.cell_index": "cid12"
   },
   "source": [
    "### D. The `dict()` Function<a id=\"cid12\"></a>\n",
    "Every Python built-in data type has it's own function and dictionaries are no execption. Using braces to create dictionaries is very common, but another option is to use the `dict()` function."
   ]
  },
  {
   "cell_type": "code",
   "execution_count": null,
   "id": "d46ed72e",
   "metadata": {},
   "outputs": [],
   "source": [
    "# Building dictionaries with the dict() function\n",
    "teams2 = dict([(360, \"The Revolution\"), (488, \"Team XBot\"),\n",
    "               (492, \"Titan Robotics Club\"),\n",
    "               (568, \"Nerds of the North\"), (753, \"Nerds of the North\"),\n",
    "               (847, \"PHRED\"), (948, \"Newport Robotics Group\"),\n",
    "               (949, \"Wolvorine Robotics\"), (955, \"CV Robotics\"),\n",
    "               (997, \"Spartan Robotics\")])\n",
    "teams2"
   ]
  },
  {
   "cell_type": "markdown",
   "id": "c0f7b246",
   "metadata": {
    "tiedown.cell_index": "cid13"
   },
   "source": [
    "The `dict()` function takes a list of key-value pairs. Enclosing each key and value in parentheses turns them into *tuples*, another Python composite data type, which we will cover later in this session.<a id=\"cid13\"></a>"
   ]
  },
  {
   "cell_type": "markdown",
   "id": "97e05167",
   "metadata": {
    "tiedown.cell_index": "cid14"
   },
   "source": [
    "### E. Looping With Dictionaries.<a id=\"cid14\"></a>\n",
    "It's easy to loop through all items in a dictionary. Run the following cell."
   ]
  },
  {
   "cell_type": "code",
   "execution_count": null,
   "id": "37d573ef",
   "metadata": {},
   "outputs": [],
   "source": [
    "# Loop through dictionary\n",
    "for team in teams:\n",
    "    print(team)"
   ]
  },
  {
   "cell_type": "markdown",
   "id": "a8c512f9",
   "metadata": {
    "tiedown.cell_index": "cid15"
   },
   "source": [
    "Using a plain dictionary with a *for* statement causes Python to loop over the dictionary keys. There is an easy solution if we want to loop over the values.<a id=\"cid15\"></a>"
   ]
  },
  {
   "cell_type": "code",
   "execution_count": null,
   "id": "f8208ae3",
   "metadata": {},
   "outputs": [],
   "source": [
    "# Looping over dictionary values\n",
    "for team in teams.values():\n",
    "    print(team)"
   ]
  },
  {
   "cell_type": "markdown",
   "id": "a3027ba2",
   "metadata": {
    "tiedown.cell_index": "cid16"
   },
   "source": [
    "The `.values()` method of the dictionary object causes the *for* loop to iterate (fancy word for *loop*) over the dictionary values instead of the keys. What if we wanted to loop over both keys *and* values?<a id=\"cid16\"></a>"
   ]
  },
  {
   "cell_type": "code",
   "execution_count": null,
   "id": "c151846a",
   "metadata": {},
   "outputs": [],
   "source": [
    "# Looping over keys AND values\n",
    "for key, value in teams.items():\n",
    "    print(value, \"'s team number is FRC \", key, sep=\"\")"
   ]
  },
  {
   "cell_type": "markdown",
   "id": "46e256d9",
   "metadata": {
    "tiedown.cell_index": "cid17"
   },
   "source": [
    "The dictionary object's `.items()` method allows us to iterate over both the key and value. Did you notice how we used the named argument `sep` to eliminate the spaces that are normally printed between arguments when using the `print()` function?<a id=\"cid17\"></a>\n",
    "\n",
    "Dictionaries also have a `.keys()` method for iterating over just the dictionary keys. It behaves the same as iterating over a plain dictionary. Some programmers (including the mentor) like to use the `.keys()` method because it makes it more obvious what is being iterated over. See the code cell below for an example."
   ]
  },
  {
   "cell_type": "code",
   "execution_count": null,
   "id": "17daacb5",
   "metadata": {},
   "outputs": [],
   "source": [
    "# Iterating with the .keys() method\n",
    "# Loop through dictionary\n",
    "for team in teams.keys():\n",
    "    print(team)"
   ]
  },
  {
   "cell_type": "markdown",
   "id": "3b0e2b5a",
   "metadata": {
    "tiedown.cell_index": "cid18"
   },
   "source": [
    "**Important Note:** There is no guarantee that the order of results will stay the same when looping over a dictionary. CPython, the version of Python that we are using, generally returns dictionary keys and values in the order in which they were originally defined. Programmers should not rely on this behavior if they need the keys or values to be returned in a specific order because it could change without warning at any time. Programmers should explicitly sort their results or use a different data type if order is important. This behavior is different than lists. Lists are guaranteed to preserve order within loops and other programming constructs.<a id=\"cid18\"></a>"
   ]
  },
  {
   "cell_type": "markdown",
   "id": "d50638db",
   "metadata": {
    "tiedown.cell_index": "cid19"
   },
   "source": [
    "### F. Python Tutorial on Dictionaries<a id=\"cid19\"></a>\n",
    "Now work through [section 5.5 of the Python Tutorial](https://docs.python.org/3/tutorial/datastructures.html#dictionaries). Practice some of the examples below."
   ]
  },
  {
   "cell_type": "code",
   "execution_count": null,
   "id": "d09059e4",
   "metadata": {},
   "outputs": [],
   "source": [
    "# Python Dictionary Tutorial Examples\n",
    "\n"
   ]
  },
  {
   "cell_type": "markdown",
   "id": "bab84c14",
   "metadata": {
    "tiedown.cell_index": "cid20"
   },
   "source": [
    "### G. Dictionary Exercises<a id=\"cid20\"></a>\n",
    "#### 1. Add Teams to a Dictionary\n",
    "Add three more PNW teams to the `teams` dictionary. Make sure you run the cell that defines the `teams` dictionary (see section II.B), or you will have trouble with this exercise."
   ]
  },
  {
   "cell_type": "code",
   "execution_count": null,
   "id": "dbd22ce6",
   "metadata": {},
   "outputs": [],
   "source": [
    "# Ex II.1:\n",
    "\n"
   ]
  },
  {
   "cell_type": "markdown",
   "id": "6c3f19ea",
   "metadata": {
    "tiedown.cell_index": "cid21"
   },
   "source": [
    "#### 2. Change a Dictionary Value<a id=\"cid21\"></a>\n",
    "Change the name of one of the teams in the `teams` dictionary. Make something up."
   ]
  },
  {
   "cell_type": "code",
   "execution_count": null,
   "id": "e1f1e558",
   "metadata": {},
   "outputs": [],
   "source": [
    "# Ex II.2:\n",
    "\n"
   ]
  },
  {
   "cell_type": "markdown",
   "id": "f4d169d0",
   "metadata": {
    "tiedown.cell_index": "cid22"
   },
   "source": [
    "#### 3. Remove an Item from a Dictionary<a id=\"cid22\"></a>\n",
    "Use the `del` keyword to remove one of the teams from the dictionary. Use the `len()` function to show that the team was removed. [See section 5.2 of the official Python tutorial if you need a refresher on the `del` statement](https://docs.python.org/3/tutorial/datastructures.html#the-del-statement)."
   ]
  },
  {
   "cell_type": "code",
   "execution_count": null,
   "id": "01b530fb",
   "metadata": {},
   "outputs": [],
   "source": [
    "# Ex II.3:\n",
    "\n"
   ]
  },
  {
   "cell_type": "markdown",
   "id": "a2776404",
   "metadata": {
    "tiedown.cell_index": "cid23"
   },
   "source": [
    "#### 4. Dictionary of Fictional Characters<a id=\"cid23\"></a>\n",
    "Create a dictionary of fictional characters from books, movies, or TV shows. The key will be the name of the character and the value will be the title of the book, movie, or TV show in which the character is featured."
   ]
  },
  {
   "cell_type": "code",
   "execution_count": null,
   "id": "8d0585d4",
   "metadata": {},
   "outputs": [],
   "source": [
    "# Ex II.4:\n",
    "\n"
   ]
  },
  {
   "cell_type": "markdown",
   "id": "6d68dec0",
   "metadata": {
    "tiedown.cell_index": "cid24"
   },
   "source": [
    "#### 5. Extracting Data from Dictionaries<a id=\"cid24\"></a>\n",
    "Pick one of the characters in your dictionary and print a sentence that includes the characters name and the title of the book, movie, or TV show in which they are featured. Use your dictionary to get the title (don't type it in manually)."
   ]
  },
  {
   "cell_type": "code",
   "execution_count": null,
   "id": "0d790938",
   "metadata": {},
   "outputs": [],
   "source": [
    "# Ex II.5:\n",
    "\n"
   ]
  },
  {
   "cell_type": "markdown",
   "id": "3827cf54",
   "metadata": {
    "tiedown.cell_index": "cid25"
   },
   "source": [
    "#### 6. For Loops and Dictionaries Part I<a id=\"cid25\"></a>\n",
    "Use a *for* loop to print a list of the character names."
   ]
  },
  {
   "cell_type": "code",
   "execution_count": null,
   "id": "7a88a168",
   "metadata": {},
   "outputs": [],
   "source": [
    "# Ex II.6:\n",
    "\n"
   ]
  },
  {
   "cell_type": "markdown",
   "id": "118c080c",
   "metadata": {
    "tiedown.cell_index": "cid26"
   },
   "source": [
    "#### 7. For Loops and Dictionaries Part II<a id=\"cid26\"></a>\n",
    "Use a *for* loop to print a list of the titles."
   ]
  },
  {
   "cell_type": "code",
   "execution_count": null,
   "id": "5673be32",
   "metadata": {},
   "outputs": [],
   "source": [
    "# Ex II.7:\n",
    "\n"
   ]
  },
  {
   "cell_type": "markdown",
   "id": "68e4bed3",
   "metadata": {
    "tiedown.cell_index": "cid27"
   },
   "source": [
    "#### 8. For Loops and Dictionaries Part III<a id=\"cid27\"></a>\n",
    "Use a *for* loop to print a sentence for each character. The sentence should include both the character's name and the title of the book, movie, or TV show in which they are featured."
   ]
  },
  {
   "cell_type": "code",
   "execution_count": null,
   "id": "990243eb",
   "metadata": {},
   "outputs": [],
   "source": [
    "# Ex II.8:\n",
    "\n"
   ]
  },
  {
   "cell_type": "markdown",
   "id": "00d1fd44",
   "metadata": {
    "tiedown.cell_index": "cid28"
   },
   "source": [
    "#### 9. Analyzing Dictionary Data<a id=\"cid28\"></a>\n",
    "Using the `teams` dictionary, find the FRC team name that comes last in alphabetical order.\n",
    "\n",
    "Hints:\n",
    "* Strings can be compared with `<`, `=`, and `>` operators to determine alphabetical order *if the characters are all the same case.* Consider using the string ojects `.uppper()` or `.lower()` methods."
   ]
  },
  {
   "cell_type": "code",
   "execution_count": null,
   "id": "efebfa6a",
   "metadata": {},
   "outputs": [],
   "source": [
    "# Ex II.9:\n",
    "\n"
   ]
  },
  {
   "cell_type": "markdown",
   "id": "626b9077",
   "metadata": {
    "tiedown.cell_index": "cid29"
   },
   "source": [
    "## III. Tuples<a id=\"cid29\"></a>\n",
    "### A. Introduction to Tuples\n",
    "A tuple (pronounced *too-pul*, not *tuh-pul*) is an ordered sequence of items, similar to a list. Tuples are written with parentheses instead of square brackets."
   ]
  },
  {
   "cell_type": "code",
   "execution_count": null,
   "id": "913a23e6",
   "metadata": {},
   "outputs": [],
   "source": [
    "# Our first tuple\n",
    "# The parenthesis tell Python that the sequence should be a\n",
    "#   tuple (instead of a list)\n",
    "tuple1 = (1, 2, 3, 4, 5)\n",
    "\n",
    "print(\"Data type:\", type(tuple1))\n",
    "print(\"Tuple data:\", tuple1)\n",
    "print(\"Tuple length:\", len(tuple1))\n",
    "print(\"First tuple element:\", tuple1[0])\n",
    "print(\"Last tuple element:\", tuple1[-1])\n",
    "print(\"Middle tuple elements:\", tuple1[1:4])"
   ]
  },
  {
   "cell_type": "markdown",
   "id": "afb3a75a",
   "metadata": {
    "tiedown.cell_index": "cid30"
   },
   "source": [
    "In many ways, we can use tuples just like we use lists. We can access individual tuple items with square brackets and integer indices, e.g., `tuple1[1]` gets the second element. We can also use the `len()` function to get the length of a tuple. Tuples and lists are both considered to be *sequence types*.<a id=\"cid30\"></a>"
   ]
  },
  {
   "cell_type": "markdown",
   "id": "ee1276da",
   "metadata": {
    "tiedown.cell_index": "cid31"
   },
   "source": [
    "### B. Immutability of Tuples<a id=\"cid31\"></a>\n",
    "You may be wondering why we have tuples if we already have lists. That's a good question. To understand the answer, we need to know a bit more about Python data types.\n",
    "\n",
    "The short answer to the question of why we need both tuples and lists is that tuples are immutable and lists are mutable. Immutable objects like tuples cannot be changed after they are created. Mutable objects like lists can be changed. Run both code cells below for a demonstration."
   ]
  },
  {
   "cell_type": "code",
   "execution_count": null,
   "id": "1bf2ac4f",
   "metadata": {},
   "outputs": [],
   "source": [
    "# Mutability Example\n",
    "list2 = [10, 9, 8, 7, 6]\n",
    "\n",
    "# We can change an item in the list\n",
    "# The ID value will stay the same, meaning the list2\n",
    "#   refers to the same object in memory before and after\n",
    "#   the change.\n",
    "print(\"list2's ID value:\", id(list2))\n",
    "list2[0] = \"new value\"\n",
    "print(\"list2 has been changed:\", list2)\n",
    "print(\"list2's ID value is still the same:\", id(list2))"
   ]
  },
  {
   "cell_type": "code",
   "execution_count": null,
   "id": "0e9d3ab0",
   "metadata": {},
   "outputs": [],
   "source": [
    "# Immutability Example\n",
    "tuple2 = (10, 9, 8, 7, 6)\n",
    "\n",
    "# Attempting to change a tuple element will cause an error!\n",
    "tuple2[0] = \"new value\""
   ]
  },
  {
   "cell_type": "code",
   "execution_count": null,
   "id": "071edee7",
   "metadata": {},
   "outputs": [],
   "source": [
    "# Attempting to append an item to a tuple will cause an error!\n",
    "tuple2.append(5)"
   ]
  },
  {
   "cell_type": "markdown",
   "id": "d76b9007",
   "metadata": {
    "tiedown.cell_index": "cid32"
   },
   "source": [
    "Now you are probably wondering why we need immutable objects. There are several advantages to having an immutable sequence data type (i.e., tuple) in the Python language.<a id=\"cid32\"></a>\n",
    "* If we know that a sequence should never change, then using a tuple instead of a list to represent the sequence guarantees it will never change. We won't have to write extra code to check that the sequence stayed the same.\n",
    "* Using a tuple instead of a list makes it clear to someone reading the code that the sequence will never change.\n",
    "* Immutable data types, like tuples, can be used as dictionary keys. Mutable data types like lists cannot be used as dictionary keys. We'll discuss why you might want to use a tuple as a dictionary key later on.\n",
    "\n",
    "There are some materials online suggesting that because tuples are immutable, they take less memory and can be manipulated faster. The memory and speed advantages of tuples over lists are small. The mentor suspects that unless you are creating a hundred-thousand sequences or more, you won't notice the memory or speed advantage.\n",
    "\n",
    "There are other materials online (including the official Python tutorial) suggesting that lists are intended for homogeneous sequences, where all list items are the same data type, and tuples are intended for heterogeneous sequences. See below for examples of heterogeneous and homogeneous sequences."
   ]
  },
  {
   "cell_type": "code",
   "execution_count": null,
   "id": "a913903b",
   "metadata": {},
   "outputs": [],
   "source": [
    "# Homogeneous and Heterogeneous Sequences\n",
    "\n",
    "# Homogeneous\n",
    "homogeneous_tuple = (1, 2, 3)\n",
    "homogeneous_list = (\"This\", \"list\", \"is\", \"homogeneous\")\n",
    "print(\"Homogeneous Sequences\")\n",
    "print(\"tuple:\", homogeneous_tuple)\n",
    "print(\"list:\", homogeneous_list)\n",
    "print()\n",
    "\n",
    "# Heterogeneous\n",
    "heterogeneous_tuple = (1, 3.14, \"five\")\n",
    "heterogeneous_list = [\"99\", None, False]\n",
    "print(\"Heterogeneous Sequences\")\n",
    "print(\"tuple:\", heterogeneous_tuple)\n",
    "print(\"list:\", heterogeneous_list)"
   ]
  },
  {
   "cell_type": "markdown",
   "id": "082e2a55",
   "metadata": {
    "tiedown.cell_index": "cid33"
   },
   "source": [
    "The mentor doesn't buy the argument that lists should be homogeneous and tuples are should be heterogeneous. The example above shows that both lists and tuples support heterogeneous sequences just fine. Furthermore, the mentor has used heterogeneous lists in his own projects and has never encountered any problem from doing so.<a id=\"cid33\"></a>"
   ]
  },
  {
   "cell_type": "markdown",
   "id": "e8bd6a34",
   "metadata": {
    "tiedown.cell_index": "cid34"
   },
   "source": [
    "### C. Tuple Packing and Unpacking<a id=\"cid34\"></a>\n",
    "Tuples are used frequently in Python. Sometimes you don't even notice them. Remember our program for calculating the terms of the Fibonacci sequence? The version in the Python tutorial is slightly different, as shown below."
   ]
  },
  {
   "cell_type": "code",
   "execution_count": null,
   "id": "e148fb2e",
   "metadata": {},
   "outputs": [],
   "source": [
    "# Fibonacci series:\n",
    "# the sum of two elements defines the next\n",
    "a, b = 0, 1\n",
    "while a < 10:\n",
    "    print(a)\n",
    "    a, b = b, a+b  # This statement uses tuples."
   ]
  },
  {
   "cell_type": "markdown",
   "id": "5b8d84b4",
   "metadata": {
    "tiedown.cell_index": "cid35"
   },
   "source": [
    "See the statement `a, b = 0, 1`? This single statement assigns two different values to two different variables. This is an example of two techniques: tuple packing and tuple unpacking.<a id=\"cid35\"></a>\n",
    "\n",
    "You don't always actually need parentheses to create a tuple, but you must have a comma. Run the next cell."
   ]
  },
  {
   "cell_type": "code",
   "execution_count": null,
   "id": "11efdb26",
   "metadata": {},
   "outputs": [],
   "source": [
    "# Creating Tuples\n",
    "\n",
    "# Placing a comma after a value creates a tuple of length 1\n",
    "print(\"Single element tuple\")\n",
    "tuple3 = 5,\n",
    "print(\"Data Type:\", type(tuple3))\n",
    "print(\"Value:\", tuple3[0])\n",
    "print()\n",
    "\n",
    "# Tuple packing: packing multiple values into a tuple.\n",
    "print(\"Tuple Packing\")\n",
    "tuple4 = \"this\", \"is\", \"tuple\", \"packing\"\n",
    "print(\"Data Type:\", type(tuple4))\n",
    "print(\"Data\", tuple4)\n",
    "print()\n",
    "\n",
    "# Tuple unpacking: extracting multiple values from a tuple.\n",
    "print(\"Tuple Unpacking\")\n",
    "wd1, wd2, wd3, wd4 = tuple4\n",
    "print(\"Data Type:\", type(wd1))\n",
    "print(\"Unpacked Tuple data:\", wd1, wd2, wd3, \"un-\", wd4)\n",
    "print()\n",
    "\n",
    "# Lists can be unpacked as well\n",
    "print(\"List Unpacking\")\n",
    "list3 = [1, 2]\n",
    "num1, num2 = list3\n",
    "print(\"Unpacked list data:\", num1, num2)"
   ]
  },
  {
   "cell_type": "markdown",
   "id": "4f63bfc1",
   "metadata": {
    "tiedown.cell_index": "cid36"
   },
   "source": [
    "Separating different values with commas causes Python to combine the items into a tuple. Using commas on the left side of an assignment statement to separate variables causes Python to extract the items from the tuple or list and assign them to the separate variables. The number of variables must match the length of the list or tuple, or else Python will throw an error.<a id=\"cid36\"></a>"
   ]
  },
  {
   "cell_type": "code",
   "execution_count": null,
   "id": "9e8f35d2",
   "metadata": {},
   "outputs": [],
   "source": [
    "# Error if number of variables does not match length of tuple\n",
    "#   or list during unpacking\n",
    "v1, v2 = (1, 2, 3)"
   ]
  },
  {
   "cell_type": "markdown",
   "id": "358f32b1",
   "metadata": {
    "tiedown.cell_index": "cid37"
   },
   "source": [
    "Tuple packing and unpacking is used frequently in Python and allows for compact code. Consider variable swapping. In many programming languages, three lines of code are required to swap the values in two variables.<a id=\"cid37\"></a>"
   ]
  },
  {
   "cell_type": "code",
   "execution_count": null,
   "id": "67f8365d",
   "metadata": {},
   "outputs": [],
   "source": [
    "# Variable Swapping Example\n",
    "# Setup\n",
    "v3 = 3\n",
    "v4 = 4\n",
    "\n",
    "# Traditional swapping\n",
    "swap = v3\n",
    "v3 = v4\n",
    "v4 = swap\n",
    "print(\"After first swap:\", v3, v4)\n",
    "\n",
    "# Swapping with tuple unpacking\n",
    "v3, v4 = v4, v3\n",
    "print(\"After second swap:\", v3, v4)"
   ]
  },
  {
   "cell_type": "markdown",
   "id": "d87a94fe",
   "metadata": {
    "tiedown.cell_index": "cid38"
   },
   "source": [
    "The traditional method for variable swapping requires using a third temporary variable (`swap` in our example) to hold one of the values during the swap. But in Python we can swap variables by packing both values into a tuple and then unpacking the tuple in reverse order.<a id=\"cid38\"></a>\n",
    "\n",
    "We can also use tuple packing and unpacking with the `return` statement."
   ]
  },
  {
   "cell_type": "code",
   "execution_count": null,
   "id": "502a2812",
   "metadata": {},
   "outputs": [],
   "source": [
    "# Packing and Unpacking with return statements.\n",
    "def return_two_things():\n",
    "    return \"thing1\", \"thing2\"\n",
    "\n",
    "print(type(return_two_things()))\n",
    "t1, t2 = return_two_things()\n",
    "print(\"Unpacked Return Values:\", t1, t2)"
   ]
  },
  {
   "cell_type": "markdown",
   "id": "c382c63d",
   "metadata": {
    "tiedown.cell_index": "cid39"
   },
   "source": [
    "### D. The `tuple()` Function<a id=\"cid39\"></a>\n",
    "Just like all other Python built-in data types, there is a `tuple()` function that will create a tuple from a list other iterable item."
   ]
  },
  {
   "cell_type": "code",
   "execution_count": null,
   "id": "df0adee8",
   "metadata": {},
   "outputs": [],
   "source": [
    "# tuple() function examples\n",
    "list5 = [1, 2, 3]\n",
    "print(\"List data type:\", type(list5))\n",
    "print(\"Data type after conversion with tuple():\", type(tuple(list5)))"
   ]
  },
  {
   "cell_type": "markdown",
   "id": "38348fd3",
   "metadata": {
    "tiedown.cell_index": "cid40"
   },
   "source": [
    "### E. Python Tutorial on Tuples<a id=\"cid40\"></a>\n",
    "Work through [section 5.3 of the official Python tutorial on tuples](https://docs.python.org/3/tutorial/datastructures.html#tuples-and-sequences). Practice the examples from the tutorial below."
   ]
  },
  {
   "cell_type": "code",
   "execution_count": null,
   "id": "62579654",
   "metadata": {},
   "outputs": [],
   "source": [
    "# Python Tutorial Tuple Examples\n",
    "\n"
   ]
  },
  {
   "cell_type": "markdown",
   "id": "d559fbcc",
   "metadata": {
    "tiedown.cell_index": "cid41"
   },
   "source": [
    "## IV. Nesting: Putting Composite Data Types in Other Composite Data Types<a id=\"cid41\"></a>\n",
    "One of the interesting things about composite data types is they can contain other composite data types. Dictionaries and lists are often combined to make very interesting and sophisticated data types.\n",
    "\n",
    "Let's look at an example. Run the cell below to load some data from a text file. This cell has some extra code that allows it to run on your local computer and on Google Colab."
   ]
  },
  {
   "cell_type": "code",
   "execution_count": null,
   "id": "6c0ed254",
   "metadata": {},
   "outputs": [],
   "source": [
    "# The code below loads data from a text file and converts the\n",
    "#   text data to a Python composite data structure. We will cover\n",
    "#   the techniques used here in detail later on in the course.\n",
    "import json\n",
    "import urllib.request\n",
    "\n",
    "try:\n",
    "    # This section works if running notebook on local computer\n",
    "    with open(\"wasno2020.json\", \"rt\") as sched_file:\n",
    "        sched = json.load(sched_file)\n",
    "except FileNotFoundError:\n",
    "    # This section takes over if using Google Colab\n",
    "    url = (\"https://raw.githubusercontent.com/irs1318dev/pyclass_frc/master/\"\n",
    "           \"sessions/s07_composite_data/wasno2020.json\")\n",
    "    with urllib.request.urlopen(url) as response:\n",
    "        sched = json.load(response)\n",
    "\n",
    "print(\"Data type of sched:\", type(sched))"
   ]
  },
  {
   "cell_type": "markdown",
   "id": "95d75355",
   "metadata": {
    "tiedown.cell_index": "cid42"
   },
   "source": [
    "We can see that the data from the text file has been converted into a Python dictionary. Run the next cell to see it's content.<a id=\"cid42\"></a>"
   ]
  },
  {
   "cell_type": "code",
   "execution_count": null,
   "id": "748b6f10",
   "metadata": {},
   "outputs": [],
   "source": [
    "# Viewing sched dictionary\n",
    "sched"
   ]
  },
  {
   "cell_type": "markdown",
   "id": "488b5927",
   "metadata": {
    "tiedown.cell_index": "cid43"
   },
   "source": [
    "Whoa. That's a lot of content.<a id=\"cid43\"></a>\n",
    "\n",
    "The `sched` dictionary contains the official match schedule from the 2020 FRC competition at Glacier Peak H.S. in Snohomish, WA, which occurred on 29 Feb and 1 Mar 2020. This data was downloaded from the FIRST API server, which is operated by FIRST headquarters in New Hampshire.\n",
    "\n",
    "A reasonable question to ask would be \"How many keys does the `sched` dictionary have? It's a pain to figure that out manually because there is so much data. Let's have Python figure it out for us."
   ]
  },
  {
   "cell_type": "code",
   "execution_count": null,
   "id": "a589e098",
   "metadata": {},
   "outputs": [],
   "source": [
    "# sched dictionary keys\n",
    "list(sched.keys())"
   ]
  },
  {
   "cell_type": "markdown",
   "id": "97e6271c",
   "metadata": {
    "tiedown.cell_index": "cid44"
   },
   "source": [
    "Interesting. There is only one key named *Schedule*. Let's see what that contains.<a id=\"cid44\"></a>"
   ]
  },
  {
   "cell_type": "code",
   "execution_count": null,
   "id": "789cb7d9",
   "metadata": {},
   "outputs": [],
   "source": [
    "# Exploring sched[\"Schedule\"]\n",
    "print(type(sched[\"Schedule\"]))"
   ]
  },
  {
   "cell_type": "markdown",
   "id": "7f3f5520",
   "metadata": {
    "tiedown.cell_index": "cid45"
   },
   "source": [
    "Cool. It's a list. How long is it?<a id=\"cid45\"></a>"
   ]
  },
  {
   "cell_type": "code",
   "execution_count": null,
   "id": "4fa95c70",
   "metadata": {},
   "outputs": [],
   "source": [
    "len(sched[\"Schedule\"])"
   ]
  },
  {
   "cell_type": "markdown",
   "id": "4f7fd1e6",
   "metadata": {
    "tiedown.cell_index": "cid46"
   },
   "source": [
    "The `sched` dictionary contains one item, which is itself a list of length 74. The list contains one item for each of the 74 qualification matches at the Glacier Peak competition. Let's look at the first match.<a id=\"cid46\"></a>"
   ]
  },
  {
   "cell_type": "code",
   "execution_count": null,
   "id": "203c99ee",
   "metadata": {},
   "outputs": [],
   "source": [
    "sched[\"Schedule\"][0]"
   ]
  },
  {
   "cell_type": "markdown",
   "id": "e700e6ea",
   "metadata": {
    "tiedown.cell_index": "cid47"
   },
   "source": [
    "The first item in the list is a dictionary. If you've been keeping track, then you've noticed that we have a dictionary stored within a list withing a dictionary. This is what we're talking about when we refer to placing composite data types within other composite data types. And we can drill down even further - the *teams* key refers to yet another list, which contains several dictionaries. <a id=\"cid47\"></a>"
   ]
  },
  {
   "cell_type": "markdown",
   "id": "804f7434",
   "metadata": {
    "tiedown.cell_index": "cid48"
   },
   "source": [
    "## V. Immutable Data Types<a id=\"cid48\"></a>\n",
    "We discussed earlier how lists and dictionaries are mutable and tuples are immutable. What about the scalar data types such as integers, floats, and strings? Run the following cells."
   ]
  },
  {
   "cell_type": "code",
   "execution_count": null,
   "id": "b6be55bd",
   "metadata": {},
   "outputs": [],
   "source": [
    "# Integer Example\n",
    "var1 = 999\n",
    "print(\"ID number of var1:\", id(var1))\n",
    "var1 += 1\n",
    "print(\"ID number of var1 after addition:\", id(var1))"
   ]
  },
  {
   "cell_type": "code",
   "execution_count": null,
   "id": "0b12fd5f",
   "metadata": {},
   "outputs": [],
   "source": [
    "# Float Example\n",
    "var2 = 999.0\n",
    "print(\"ID number of var1:\", id(var2))\n",
    "var2 += 1\n",
    "print(\"ID number of var1 after addition:\", id(var2))"
   ]
  },
  {
   "cell_type": "markdown",
   "id": "e9f9f5bf",
   "metadata": {
    "tiedown.cell_index": "cid49"
   },
   "source": [
    "See how the ID number of `var1` and `var2` changed when we added 1 to their values? This reveals some of Python's inner workings. The `var1` variable contains an integer object and `var2` contains a float. Both variables are initially set to the value 999. When we added one to this `var1` and `var2`, instead of modifying the value for the original integer or float object, Python created brand new objects with values of 1000 and assigned `var1` and `var2` to reference these new objects.<a id=\"cid49\"></a>\n",
    "\n",
    "Python integers and floats are immutable. Once created, Python cannot change the value of an integer or float object. We don't normally notice because Python is good at creating new integer and float objects on the fly and assigning the variable we're using to point to these objects.\n",
    "\n",
    "But what about strings? Run the following cell."
   ]
  },
  {
   "cell_type": "code",
   "execution_count": null,
   "id": "bb4bed56",
   "metadata": {},
   "outputs": [],
   "source": [
    "# String Example\n",
    "str1 = \"everyone can go pro\"\n",
    "str[0] = \"E\""
   ]
  },
  {
   "cell_type": "markdown",
   "id": "1a3d81fa",
   "metadata": {
    "tiedown.cell_index": "cid50"
   },
   "source": [
    "In the example above, we attempted to change the first character in the string, but Python wouldn't let us do it. Python strings are immutable, just like floats and integers. We can't alter a string object once created, but we can create a new string object by modifying the original string object.<a id=\"cid50\"></a>\n",
    "\n",
    "So are strings a composite or scalar data type? In some ways they behave like a scalar data type because we can use square bracket syntax, e.g., `str[0:5]` to extract individual characters. But on the other hand strings are immutable and they cannot contain other data types. The general consensus is that Python strings are a scalar data type."
   ]
  },
  {
   "cell_type": "markdown",
   "id": "7d1c6b6d",
   "metadata": {
    "tiedown.cell_index": "cid51"
   },
   "source": [
    "## VI. More Exercises<a id=\"cid51\"></a>\n",
    "### A. Find the Scheduled Start Time\n",
    "Using the `sched` variable, find the scheduled start time for match 49. (Remember, the first element in a Python list is at index 0.)"
   ]
  },
  {
   "cell_type": "code",
   "execution_count": null,
   "id": "9b280d31",
   "metadata": {},
   "outputs": [],
   "source": [
    "# Ex. VI.1:\n"
   ]
  },
  {
   "cell_type": "markdown",
   "id": "4abcdc14",
   "metadata": {
    "tiedown.cell_index": "cid52"
   },
   "source": [
    "### B. Who is at Blue 2?<a id=\"cid52\"></a>\n",
    "Find the team at station *Blue2* in qualification match 71."
   ]
  },
  {
   "cell_type": "code",
   "execution_count": null,
   "id": "c78f0135",
   "metadata": {},
   "outputs": [],
   "source": [
    "# Ex. VI.2:\n",
    "\n"
   ]
  },
  {
   "cell_type": "markdown",
   "id": "b659b71e",
   "metadata": {
    "tiedown.cell_index": "cid53"
   },
   "source": [
    "### C. Tuple Unpacking<a id=\"cid53\"></a>\n",
    "Unpack the tuple below into three variables."
   ]
  },
  {
   "cell_type": "code",
   "execution_count": null,
   "id": "66410edf",
   "metadata": {},
   "outputs": [],
   "source": [
    "# Ex. VI.3:\n",
    "up_tpl = (\"unpack\", \"this\", \"tuple\")\n"
   ]
  },
  {
   "cell_type": "markdown",
   "id": "acd2cfea",
   "metadata": {
    "tiedown.cell_index": "cid54"
   },
   "source": [
    "### D. Reverse It<a id=\"cid54\"></a>\n",
    "Reverse the tuple below. The result should be a tuple."
   ]
  },
  {
   "cell_type": "code",
   "execution_count": null,
   "id": "668a8c9b",
   "metadata": {},
   "outputs": [],
   "source": [
    "# Ex VI.4:\n",
    "rtuple = (1, 2)\n"
   ]
  },
  {
   "cell_type": "markdown",
   "id": "a2c90496",
   "metadata": {
    "tiedown.cell_index": "cid55"
   },
   "source": [
    "### E. To-Do List<a id=\"cid55\"></a>\n",
    "Create a to-do list program using a dictionary of lists.\n",
    "\n",
    "Write code that stores a to-do list for each day of the week (Sunday through Saturday). Your program needs to have the following elements:\n",
    "\n",
    "- An empty dictionary to store information\n",
    "- A key in the dictionary for each day of the week\n",
    "- Each key has a value of a list that stores the to-do list items\n",
    "\n",
    "- User can type \"add\" and the program will ask what day, then ask what item to add to that day. Ensure the user can add multiple items per day. (That is, ensure that this adds a new item, not replaces an existing item.)\n",
    "- User can type \"get\" and the program will ask for the day and print the values\n",
    "- The program will loop, using a while loop, until the user specifies \"quit\"\n",
    "\n",
    "- Some user error checking is required, specifically: upper/lowercase for the days of the week, incorrect day of the week, or an incorrect command\n",
    "- ** Hint: This task requires you to use tools you learned about in Unit 2 (\"if\" and \"loops\") along with dictionaries and lists.**\n",
    "\n",
    "Example:\n",
    "```\n",
    "Prompt: What would you like to do?\n",
    "> add\n",
    "\n",
    "Prompt: What day?\n",
    "> Friday\n",
    "\n",
    "Prompt: What would you like to add to Friday's to-do list?\n",
    "> practice clarinet\n",
    "\n",
    "Prompt: What would you like to do?\n",
    "> get\n",
    "\n",
    "Prompt: What day?\n",
    "> funday\n",
    "Invalid entry - please enter a correct day of the week (like Monday or monday).\n",
    "\n",
    "Prompt: What day?\n",
    "> friday\n",
    "\n",
    "Response: You have to practice clarinet.\n",
    "\n",
    "Prompt: What would you like to do?\n",
    "> quit\n",
    "\n",
    "Response: Ending program. Thank you for using the to-do list!\n",
    "```"
   ]
  },
  {
   "cell_type": "code",
   "execution_count": null,
   "id": "435682b0",
   "metadata": {},
   "outputs": [],
   "source": [
    "# Ex VI.5:\n",
    "\n",
    "\n",
    "\n",
    "\n",
    "\n",
    "\n"
   ]
  },
  {
   "cell_type": "markdown",
   "id": "f3c1d6c5",
   "metadata": {
    "tiedown.cell_index": "cid56"
   },
   "source": [
    "## VII. Quiz<a id=\"cid56\"></a>\n",
    "Answer the following questions by typing the answers as comments in the code block below each question."
   ]
  },
  {
   "cell_type": "markdown",
   "id": "5cac8d8e",
   "metadata": {
    "tiedown.cell_index": "cid57"
   },
   "source": [
    "**#1.** One of these lines of code will create an error. Which one? Why?<a id=\"cid57\"></a>\n",
    "```python\n",
    "dvar1 = {[1, 2]: \"three\"}\n",
    "dvar2 = {(1, 2): \"three\"}\n",
    "```"
   ]
  },
  {
   "cell_type": "code",
   "execution_count": null,
   "id": "610aaa85",
   "metadata": {},
   "outputs": [],
   "source": [
    "#\n",
    "#"
   ]
  },
  {
   "cell_type": "markdown",
   "id": "fe08139c",
   "metadata": {
    "tiedown.cell_index": "cid58"
   },
   "source": [
    "**#2.** Which of the data types listed below are mutable?<a id=\"cid58\"></a>\n",
    "* string \n",
    "* integer\n",
    "* float\n",
    "* list\n",
    "* tuple\n",
    "* dictionary\n",
    "* boolean"
   ]
  },
  {
   "cell_type": "code",
   "execution_count": null,
   "id": "b224b845",
   "metadata": {},
   "outputs": [],
   "source": [
    "#\n",
    "#"
   ]
  },
  {
   "cell_type": "markdown",
   "id": "0c98ac4c",
   "metadata": {
    "tiedown.cell_index": "cid59"
   },
   "source": [
    "**#3.** What method can be used to loop over a dictionaries keys *and* values?<a id=\"cid59\"></a>"
   ]
  },
  {
   "cell_type": "code",
   "execution_count": null,
   "id": "312c1b27",
   "metadata": {},
   "outputs": [],
   "source": [
    "#\n",
    "#"
   ]
  },
  {
   "cell_type": "markdown",
   "id": "54aaa081",
   "metadata": {
    "tiedown.cell_index": "cid60"
   },
   "source": [
    "## VIII. Save Your Work<a id=\"cid60\"></a>\n",
    "Save your completed notebook to your Google drive and share it with a mentor or another student for feedback. [See Lesson 1 for more guidance.](../01_intro_python/lesson01_intro_python.ipynb#cid70)"
   ]
  },
  {
   "cell_type": "markdown",
   "id": "e46cc85d",
   "metadata": {
    "tiedown.cell_index": "cid61"
   },
   "source": [
    "## IX. Concept and Terminology Review<a id=\"cid61\"></a>\n",
    "You should be able to define the following terms or describe the concept.\n",
    "* Composite data type\n",
    "* Immutable data Type\n",
    "* Mutable data type\n",
    "* Dictionary\n",
    "* Key\n",
    "* Value\n",
    "* `dict()` function\n",
    "* Looping with dictionaries\n",
    "* `.keys()` method\n",
    "* `.values()` method\n",
    "* `.items()` method\n",
    "* Tuples\n",
    "* Tuple packing\n",
    "* Tuple unpackign\n",
    "* `tuple()` function\n",
    "* Composite data types that contain other composite data types."
   ]
  },
  {
   "cell_type": "markdown",
   "id": "6d6e118c-eef8-4c5d-ae5f-482ab439dbc4",
   "metadata": {
    "tiedown.cell_index": "cid62"
   },
   "source": [
    "Next: [Functions<a id=\"cid2\"></a>](../05_functions/functions.ipynb) | [Table of Contents](../toc.ipynb) | Prev: [File Operations and Comprehensions<a id=\"cid2\"></a>](../07_files_and_comprehensions/files_and_comprehensions.ipynb)<a id=\"cid62\"></a>"
   ]
  }
 ],
 "metadata": {
  "kernelspec": {
   "display_name": "Python 3 (ipykernel)",
   "language": "python",
   "name": "python3"
  },
  "tiedown.toc_index": 5
 },
 "nbformat": 4,
 "nbformat_minor": 5
}
