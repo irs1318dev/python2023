{
 "cells": [
  {
   "cell_type": "markdown",
   "id": "1783cff3-7acc-4f5a-b85b-a0f26b1c5b0e",
   "metadata": {
    "tiedown.cell_index": "cid1"
   },
   "source": [
    "Next:  | [Table of Contents](toc.ipynb) | Prev: <a id=\"cid1\"></a>"
   ]
  },
  {
   "cell_type": "markdown",
   "id": "d6d26a52",
   "metadata": {
    "tiedown.cell_index": "cid2"
   },
   "source": [
    "# Index<a id=\"cid2\"></a>\n",
    "Key terms are listed below, with links to the portion of the FRC Python Tutorial that explains the term."
   ]
  },
  {
   "cell_type": "markdown",
   "id": "05976d6d",
   "metadata": {
    "tiedown.cell_index": "cid3"
   },
   "source": [
    "## Symbols<a id=\"cid3\"></a>\n",
    "| Term | Links | Term | Links |\n",
    "| --- | --- | --- | --- |\n",
    " | `%=` | [Loops<a id=\"cid2\"></a>](04_loops/loops.ipynb#cid7)<br/> | `//=` | [Loops<a id=\"cid2\"></a>](04_loops/loops.ipynb#cid7)<br/> |\n",
    " | `*` | [Introduction to Python<a id=\"cid2\"></a>](01_intro_python/lesson01_intro_python.ipynb#cid14)<br/> | `/=` | [Loops<a id=\"cid2\"></a>](04_loops/loops.ipynb#cid7)<br/> |\n",
    " | `**` | [Introduction to Python<a id=\"cid2\"></a>](01_intro_python/lesson01_intro_python.ipynb#cid14)<br/> | `:` | [Introduction to Python<a id=\"cid2\"></a>](01_intro_python/lesson01_intro_python.ipynb#cid45)<br/> |\n",
    " | `*=` | [Loops<a id=\"cid2\"></a>](04_loops/loops.ipynb#cid7)<br/> | `<` | [Conditional Statements<a id=\"cid2\"></a>](03_conditional_statements/s03_conditional_statements.ipynb#cid13)<br/> |\n",
    " | `+` | [Introduction to Python<a id=\"cid2\"></a>](01_intro_python/lesson01_intro_python.ipynb#cid14)<br/> | `<=` | [Conditional Statements<a id=\"cid2\"></a>](03_conditional_statements/s03_conditional_statements.ipynb#cid13)<br/> |\n",
    " | `+=` | [Loops<a id=\"cid2\"></a>](04_loops/loops.ipynb#cid6)<br/> | `==` | [Conditional Statements<a id=\"cid2\"></a>](03_conditional_statements/s03_conditional_statements.ipynb#cid6)<br/> |\n",
    " | `-` | [Introduction to Python<a id=\"cid2\"></a>](01_intro_python/lesson01_intro_python.ipynb#cid14)<br/> | `>` | [Conditional Statements<a id=\"cid2\"></a>](03_conditional_statements/s03_conditional_statements.ipynb#cid13)<br/> |\n",
    " | `-=` | [Loops<a id=\"cid2\"></a>](04_loops/loops.ipynb#cid6)<br/> | `>=` | [Conditional Statements<a id=\"cid2\"></a>](03_conditional_statements/s03_conditional_statements.ipynb#cid13)<br/> |\n",
    " | `/` | [Introduction to Python<a id=\"cid2\"></a>](01_intro_python/lesson01_intro_python.ipynb#cid14)<br/> | `\\n` | [Conditional Statements<a id=\"cid2\"></a>](03_conditional_statements/s03_conditional_statements.ipynb#cid23)<br/> [File Operations and Comprehensions<a id=\"cid2\"></a>](07_files_and_comprehensions/files_and_comprehensions.ipynb#cid22)<br/> |"
   ]
  },
  {
   "cell_type": "markdown",
   "id": "3fc650ed",
   "metadata": {
    "tiedown.cell_index": "cid4"
   },
   "source": [
    "## A - D<a id=\"cid4\"></a>\n",
    "| Term | Links | Term | Links |\n",
    "| --- | --- | --- | --- |\n",
    " | Addition | [Introduction to Python<a id=\"cid2\"></a>](01_intro_python/lesson01_intro_python.ipynb#cid14)<br/> | Code Blocks | [Functions<a id=\"cid2\"></a>](05_functions/functions.ipynb#cid12)<br/> |\n",
    " | Advice | [Data Types<a id=\"cid2\"></a>](02_data_types/data_types.ipynb#cid3)<br/> | Code Cells | [Introduction to Python<a id=\"cid2\"></a>](01_intro_python/lesson01_intro_python.ipynb#cid3)<br/> |\n",
    " | `and` | [Conditional Statements<a id=\"cid2\"></a>](03_conditional_statements/s03_conditional_statements.ipynb#cid18)<br/> | Command Line Interpreter | [File Operations and Comprehensions<a id=\"cid2\"></a>](07_files_and_comprehensions/files_and_comprehensions.ipynb#cid3)<br/> |\n",
    " | `append()` | [Data Types<a id=\"cid2\"></a>](02_data_types/data_types.ipynb#cid38)<br/> | Comments | [Introduction to Python<a id=\"cid2\"></a>](01_intro_python/lesson01_intro_python.ipynb#cid7)<br/> |\n",
    " | Arguments | [Introduction to Python<a id=\"cid2\"></a>](01_intro_python/lesson01_intro_python.ipynb#cid30)<br/> [Data Types<a id=\"cid2\"></a>](02_data_types/data_types.ipynb#cid4)<br/> [Functions<a id=\"cid2\"></a>](05_functions/functions.ipynb#cid19)<br/> | Comparison Operators | [Conditional Statements<a id=\"cid2\"></a>](03_conditional_statements/s03_conditional_statements.ipynb#cid6)<br/> [Conditional Statements<a id=\"cid2\"></a>](03_conditional_statements/s03_conditional_statements.ipynb#cid13)<br/> |\n",
    " | Arithmetic Mean | [Conditional Statements<a id=\"cid2\"></a>](03_conditional_statements/s03_conditional_statements.ipynb#cid34)<br/> | Composite Data Types | [Data Types<a id=\"cid2\"></a>](02_data_types/data_types.ipynb#cid32)<br/> |\n",
    " | `as_integer_ratio()` | [Data Types<a id=\"cid2\"></a>](02_data_types/data_types.ipynb#cid28)<br/> | Composite Types | [Composite Data Types<a id=\"cid2\"></a>](06_composite_data/composite_data.ipynb#cid2)<br/> |\n",
    " | Assignment Statement | [Conditional Statements<a id=\"cid2\"></a>](03_conditional_statements/s03_conditional_statements.ipynb#cid2)<br/> | Conditional Statements | [Conditional Statements<a id=\"cid2\"></a>](03_conditional_statements/s03_conditional_statements.ipynb#cid5)<br/> |\n",
    " | Assignment Statements | [Loops<a id=\"cid2\"></a>](04_loops/loops.ipynb#cid4)<br/> | `continue` | [Loops<a id=\"cid2\"></a>](04_loops/loops.ipynb#cid31)<br/> |\n",
    " | Atomic | [Data Types<a id=\"cid2\"></a>](02_data_types/data_types.ipynb#cid32)<br/> | Control Characters | [File Operations and Comprehensions<a id=\"cid2\"></a>](07_files_and_comprehensions/files_and_comprehensions.ipynb#cid25)<br/> |\n",
    " | Backwards Slash | [Introduction to Python<a id=\"cid2\"></a>](01_intro_python/lesson01_intro_python.ipynb#cid39)<br/> | `def` | [Functions<a id=\"cid2\"></a>](05_functions/functions.ipynb#cid16)<br/> |\n",
    " | Binary Operators | [Introduction to Python<a id=\"cid2\"></a>](01_intro_python/lesson01_intro_python.ipynb#cid14)<br/> | Default Argument Values | [Functions<a id=\"cid2\"></a>](05_functions/functions.ipynb#cid38)<br/> |\n",
    " | `bit_length()` | [Data Types<a id=\"cid2\"></a>](02_data_types/data_types.ipynb#cid29)<br/> | `del` | [Data Types<a id=\"cid2\"></a>](02_data_types/data_types.ipynb#cid44)<br/> |\n",
    " | `bool()` | [Conditional Statements<a id=\"cid2\"></a>](03_conditional_statements/s03_conditional_statements.ipynb#cid9)<br/> | `dict()` | [Composite Data Types<a id=\"cid2\"></a>](06_composite_data/composite_data.ipynb#cid13)<br/> |\n",
    " | Boole, George | [Conditional Statements<a id=\"cid2\"></a>](03_conditional_statements/s03_conditional_statements.ipynb#cid8)<br/> | `dict.items()` | [Composite Data Types<a id=\"cid2\"></a>](06_composite_data/composite_data.ipynb#cid17)<br/> |\n",
    " | Boolean Expressions | [Conditional Statements<a id=\"cid2\"></a>](03_conditional_statements/s03_conditional_statements.ipynb#cid20)<br/> | `dict.keys()` | [Composite Data Types<a id=\"cid2\"></a>](06_composite_data/composite_data.ipynb#cid17)<br/> |\n",
    " | Booleans | [Conditional Statements<a id=\"cid2\"></a>](03_conditional_statements/s03_conditional_statements.ipynb#cid8)<br/> | `dict.values()` | [Composite Data Types<a id=\"cid2\"></a>](06_composite_data/composite_data.ipynb#cid17)<br/> |\n",
    " | `break` | [Loops<a id=\"cid2\"></a>](04_loops/loops.ipynb#cid29)<br/> | Dictionaries | [Composite Data Types<a id=\"cid2\"></a>](06_composite_data/composite_data.ipynb#cid4)<br/> |\n",
    " | Built-In Functions | [Functions<a id=\"cid2\"></a>](05_functions/functions.ipynb#cid44)<br/> | Dictionaries, Keys | [Composite Data Types<a id=\"cid2\"></a>](06_composite_data/composite_data.ipynb#cid6)<br/> |\n",
    " | Case Sensitive | [Introduction to Python<a id=\"cid2\"></a>](01_intro_python/lesson01_intro_python.ipynb#cid22)<br/> | Dictionaries, Values | [Composite Data Types<a id=\"cid2\"></a>](06_composite_data/composite_data.ipynb#cid6)<br/> |\n",
    " | Cli | [File Operations and Comprehensions<a id=\"cid2\"></a>](07_files_and_comprehensions/files_and_comprehensions.ipynb#cid3)<br/> | Dictionary Comprehensions | [File Operations and Comprehensions<a id=\"cid2\"></a>](07_files_and_comprehensions/files_and_comprehensions.ipynb#cid38)<br/> |\n",
    " | `close()` | [File Operations and Comprehensions<a id=\"cid2\"></a>](07_files_and_comprehensions/files_and_comprehensions.ipynb#cid19)<br/> | Division | [Introduction to Python<a id=\"cid2\"></a>](01_intro_python/lesson01_intro_python.ipynb#cid14)<br/> |"
   ]
  },
  {
   "cell_type": "markdown",
   "id": "5e067f37",
   "metadata": {
    "tiedown.cell_index": "cid5"
   },
   "source": [
    "## E - H<a id=\"cid5\"></a>\n",
    "| Term | Links | Term | Links |\n",
    "| --- | --- | --- | --- |\n",
    " | `elif` | [Conditional Statements<a id=\"cid2\"></a>](03_conditional_statements/s03_conditional_statements.ipynb#cid25)<br/> | FIRST Robotics Competitions (FRC) | [Introduction to Python<a id=\"cid2\"></a>](01_intro_python/lesson01_intro_python.ipynb#cid26)<br/> |\n",
    " | `else` | [Conditional Statements<a id=\"cid2\"></a>](03_conditional_statements/s03_conditional_statements.ipynb#cid22)<br/> | FIRST Tech Challenge | [Conditional Statements<a id=\"cid2\"></a>](03_conditional_statements/s03_conditional_statements.ipynb#cid26)<br/> |\n",
    " | Else If | [Conditional Statements<a id=\"cid2\"></a>](03_conditional_statements/s03_conditional_statements.ipynb#cid25)<br/> | `float()` | [Data Types<a id=\"cid2\"></a>](02_data_types/data_types.ipynb#cid16)<br/> |\n",
    " | End Of Line Character | [File Operations and Comprehensions<a id=\"cid2\"></a>](07_files_and_comprehensions/files_and_comprehensions.ipynb#cid22)<br/> | Floats | [Data Types<a id=\"cid2\"></a>](02_data_types/data_types.ipynb#cid8)<br/> |\n",
    " | Equality Operator | [Conditional Statements<a id=\"cid2\"></a>](03_conditional_statements/s03_conditional_statements.ipynb#cid6)<br/> | For Loops | [Loops<a id=\"cid2\"></a>](04_loops/loops.ipynb#cid17)<br/> |\n",
    " | Escape Sequences | [File Operations and Comprehensions<a id=\"cid2\"></a>](07_files_and_comprehensions/files_and_comprehensions.ipynb#cid25)<br/> | Forwards Slash | [Introduction to Python<a id=\"cid2\"></a>](01_intro_python/lesson01_intro_python.ipynb#cid39)<br/> |\n",
    " | Exponentiation | [Introduction to Python<a id=\"cid2\"></a>](01_intro_python/lesson01_intro_python.ipynb#cid14)<br/> | Functions | [Functions<a id=\"cid2\"></a>](05_functions/functions.ipynb#cid2)<br/> |\n",
    " | Expressions | [Functions<a id=\"cid2\"></a>](05_functions/functions.ipynb#cid3)<br/> | Geometric Mean | [Conditional Statements<a id=\"cid2\"></a>](03_conditional_statements/s03_conditional_statements.ipynb#cid34)<br/> |\n",
    " | Factorial | [Loops<a id=\"cid2\"></a>](04_loops/loops.ipynb#cid15)<br/> | Google Colab | [Introduction to Python<a id=\"cid2\"></a>](01_intro_python/lesson01_intro_python.ipynb#cid3)<br/> |\n",
    " | Fibonnaci Sequence | [Loops<a id=\"cid2\"></a>](04_loops/loops.ipynb#cid11)<br/> | Google Drive | [Introduction to Python<a id=\"cid2\"></a>](01_intro_python/lesson01_intro_python.ipynb#cid70)<br/> |\n",
    " | File Operations | [File Operations and Comprehensions<a id=\"cid2\"></a>](07_files_and_comprehensions/files_and_comprehensions.ipynb#cid6)<br/> | Greater Than Operator | [Conditional Statements<a id=\"cid2\"></a>](03_conditional_statements/s03_conditional_statements.ipynb#cid13)<br/> |\n",
    " | FIRST Lego League | [Conditional Statements<a id=\"cid2\"></a>](03_conditional_statements/s03_conditional_statements.ipynb#cid26)<br/> | Greater Than Or Equal Operator | [Conditional Statements<a id=\"cid2\"></a>](03_conditional_statements/s03_conditional_statements.ipynb#cid13)<br/> |\n",
    " | FIRST Robotics Competition | [Conditional Statements<a id=\"cid2\"></a>](03_conditional_statements/s03_conditional_statements.ipynb#cid26)<br/> | Guido van Rossum | [Introduction to Python<a id=\"cid2\"></a>](01_intro_python/lesson01_intro_python.ipynb#cid2)<br/> |"
   ]
  },
  {
   "cell_type": "markdown",
   "id": "905e8961",
   "metadata": {
    "tiedown.cell_index": "cid6"
   },
   "source": [
    "## I - L<a id=\"cid6\"></a>\n",
    "| Term | Links | Term | Links |\n",
    "| --- | --- | --- | --- |\n",
    " | `id()` | [Data Types<a id=\"cid2\"></a>](02_data_types/data_types.ipynb#cid27)<br/> | Keyword | [Data Types<a id=\"cid2\"></a>](02_data_types/data_types.ipynb#cid44)<br/> [Data Types<a id=\"cid2\"></a>](02_data_types/data_types.ipynb#cid44)<br/> |\n",
    " | `if` | [Conditional Statements<a id=\"cid2\"></a>](03_conditional_statements/s03_conditional_statements.ipynb#cid5)<br/> [Conditional Statements<a id=\"cid2\"></a>](03_conditional_statements/s03_conditional_statements.ipynb#cid22)<br/> | Keyword Arguments | [Functions<a id=\"cid2\"></a>](05_functions/functions.ipynb#cid35)<br/> |\n",
    " | if Statement | [Conditional Statements<a id=\"cid2\"></a>](03_conditional_statements/s03_conditional_statements.ipynb#cid5)<br/> | `len()` | [Introduction to Python<a id=\"cid2\"></a>](01_intro_python/lesson01_intro_python.ipynb#cid42)<br/> |\n",
    " | If Statement | [Conditional Statements<a id=\"cid2\"></a>](03_conditional_statements/s03_conditional_statements.ipynb#cid22)<br/> | Less Than Operator | [Conditional Statements<a id=\"cid2\"></a>](03_conditional_statements/s03_conditional_statements.ipynb#cid13)<br/> |\n",
    " | Immutable | [Composite Data Types<a id=\"cid2\"></a>](06_composite_data/composite_data.ipynb#cid31)<br/> | Less Than Or Equal Operator | [Conditional Statements<a id=\"cid2\"></a>](03_conditional_statements/s03_conditional_statements.ipynb#cid13)<br/> |\n",
    " | `input()` | [Data Types<a id=\"cid2\"></a>](02_data_types/data_types.ipynb#cid54)<br/> | Line Continuation | [Conditional Statements<a id=\"cid2\"></a>](03_conditional_statements/s03_conditional_statements.ipynb#cid3)<br/> |\n",
    " | `int()` | [Data Types<a id=\"cid2\"></a>](02_data_types/data_types.ipynb#cid16)<br/> | List Comprehensions | [File Operations and Comprehensions<a id=\"cid2\"></a>](07_files_and_comprehensions/files_and_comprehensions.ipynb#cid35)<br/> |\n",
    " | Integers | [Data Types<a id=\"cid2\"></a>](02_data_types/data_types.ipynb#cid7)<br/> | Lists | [Data Types<a id=\"cid2\"></a>](02_data_types/data_types.ipynb#cid32)<br/> |\n",
    " | `isdigit()` | [Data Types<a id=\"cid2\"></a>](02_data_types/data_types.ipynb#cid28)<br/> | Literals | [Data Types<a id=\"cid2\"></a>](02_data_types/data_types.ipynb#cid4)<br/> [Functions<a id=\"cid2\"></a>](05_functions/functions.ipynb#cid4)<br/> |\n",
    " | `isupper()` | [Data Types<a id=\"cid2\"></a>](02_data_types/data_types.ipynb#cid28)<br/> | Logical Operators | [Conditional Statements<a id=\"cid2\"></a>](03_conditional_statements/s03_conditional_statements.ipynb#cid17)<br/> |\n",
    " | Json | [File Operations and Comprehensions<a id=\"cid2\"></a>](07_files_and_comprehensions/files_and_comprehensions.ipynb#cid31)<br/> | Loops | [Loops<a id=\"cid2\"></a>](04_loops/loops.ipynb#cid3)<br/> |\n",
    " | `json.dump()` | [File Operations and Comprehensions<a id=\"cid2\"></a>](07_files_and_comprehensions/files_and_comprehensions.ipynb#cid33)<br/> | `lower()` | [Data Types<a id=\"cid2\"></a>](02_data_types/data_types.ipynb#cid28)<br/> |\n",
    " | `json.load()` | [File Operations and Comprehensions<a id=\"cid2\"></a>](07_files_and_comprehensions/files_and_comprehensions.ipynb#cid33)<br/> |  |  |"
   ]
  },
  {
   "cell_type": "markdown",
   "id": "84b21333",
   "metadata": {
    "tiedown.cell_index": "cid7"
   },
   "source": [
    "## M - P<a id=\"cid7\"></a>\n",
    "| Term | Links | Term | Links |\n",
    "| --- | --- | --- | --- |\n",
    " | `max()` | [File Operations and Comprehensions<a id=\"cid2\"></a>](07_files_and_comprehensions/files_and_comprehensions.ipynb#cid57)<br/> | Opening a Saved Notebook | [Introduction to Python<a id=\"cid2\"></a>](01_intro_python/lesson01_intro_python.ipynb#cid70)<br/> |\n",
    " | Methods | [Data Types<a id=\"cid2\"></a>](02_data_types/data_types.ipynb#cid26)<br/> | Operands | [Conditional Statements<a id=\"cid2\"></a>](03_conditional_statements/s03_conditional_statements.ipynb#cid7)<br/> |\n",
    " | `min()` | [File Operations and Comprehensions<a id=\"cid2\"></a>](07_files_and_comprehensions/files_and_comprehensions.ipynb#cid57)<br/> | Operators | [Introduction to Python<a id=\"cid2\"></a>](01_intro_python/lesson01_intro_python.ipynb#cid14)<br/> |\n",
    " | Monty Python | [Introduction to Python<a id=\"cid2\"></a>](01_intro_python/lesson01_intro_python.ipynb#cid2)<br/> | `or` | [Conditional Statements<a id=\"cid2\"></a>](03_conditional_statements/s03_conditional_statements.ipynb#cid18)<br/> |\n",
    " | Multiplication | [Introduction to Python<a id=\"cid2\"></a>](01_intro_python/lesson01_intro_python.ipynb#cid14)<br/> | `ord()` | [File Operations and Comprehensions<a id=\"cid2\"></a>](07_files_and_comprehensions/files_and_comprehensions.ipynb#cid24)<br/> |\n",
    " | Mutable | [Composite Data Types<a id=\"cid2\"></a>](06_composite_data/composite_data.ipynb#cid31)<br/> | `os.chdir` | [File Operations and Comprehensions<a id=\"cid2\"></a>](07_files_and_comprehensions/files_and_comprehensions.ipynb#cid9)<br/> |\n",
    " | Named Arguments | [Functions<a id=\"cid2\"></a>](05_functions/functions.ipynb#cid35)<br/> | `os.getcwd()` | [File Operations and Comprehensions<a id=\"cid2\"></a>](07_files_and_comprehensions/files_and_comprehensions.ipynb#cid9)<br/> |\n",
    " | Nested Data | [Composite Data Types<a id=\"cid2\"></a>](06_composite_data/composite_data.ipynb#cid41)<br/> | Parentheses | [Introduction to Python<a id=\"cid2\"></a>](01_intro_python/lesson01_intro_python.ipynb#cid16)<br/> |\n",
    " | `None` | [Functions<a id=\"cid2\"></a>](05_functions/functions.ipynb#cid33)<br/> | `pass` | [Loops<a id=\"cid2\"></a>](04_loops/loops.ipynb#cid40)<br/> |\n",
    " | `not` | [Conditional Statements<a id=\"cid2\"></a>](03_conditional_statements/s03_conditional_statements.ipynb#cid18)<br/> | `pop()` | [Data Types<a id=\"cid2\"></a>](02_data_types/data_types.ipynb#cid42)<br/> |\n",
    " | Notebooks | [Introduction to Python<a id=\"cid2\"></a>](01_intro_python/lesson01_intro_python.ipynb#cid3)<br/> | Primitive Values | [Composite Data Types<a id=\"cid2\"></a>](06_composite_data/composite_data.ipynb#cid2)<br/> |\n",
    " | `open()` | [File Operations and Comprehensions<a id=\"cid2\"></a>](07_files_and_comprehensions/files_and_comprehensions.ipynb#cid6)<br/> | `print()` | [Introduction to Python<a id=\"cid2\"></a>](01_intro_python/lesson01_intro_python.ipynb#cid12)<br/> [Loops<a id=\"cid2\"></a>](04_loops/loops.ipynb#cid20)<br/> |"
   ]
  },
  {
   "cell_type": "markdown",
   "id": "f4841eb5",
   "metadata": {
    "tiedown.cell_index": "cid8"
   },
   "source": [
    "## Q - S<a id=\"cid8\"></a>\n",
    "| Term | Links | Term | Links |\n",
    "| --- | --- | --- | --- |\n",
    " | Quotes | [Introduction to Python<a id=\"cid2\"></a>](01_intro_python/lesson01_intro_python.ipynb#cid37)<br/> | Slashes | [Introduction to Python<a id=\"cid2\"></a>](01_intro_python/lesson01_intro_python.ipynb#cid39)<br/> |\n",
    " | `range()` | [Loops<a id=\"cid2\"></a>](04_loops/loops.ipynb#cid19)<br/> | Slicing | [Introduction to Python<a id=\"cid2\"></a>](01_intro_python/lesson01_intro_python.ipynb#cid43)<br/> |\n",
    " | `readlines()` | [File Operations and Comprehensions<a id=\"cid2\"></a>](07_files_and_comprehensions/files_and_comprehensions.ipynb#cid17)<br/> | Statement | [Conditional Statements<a id=\"cid2\"></a>](03_conditional_statements/s03_conditional_statements.ipynb#cid2)<br/> |\n",
    " | `return` | [Functions<a id=\"cid2\"></a>](05_functions/functions.ipynb#cid31)<br/> | Statements | [Functions<a id=\"cid2\"></a>](05_functions/functions.ipynb#cid9)<br/> |\n",
    " | Return Statement | [Functions<a id=\"cid2\"></a>](05_functions/functions.ipynb#cid31)<br/> | `str()` | [Data Types<a id=\"cid2\"></a>](02_data_types/data_types.ipynb#cid16)<br/> |\n",
    " | Return Values | [Data Types<a id=\"cid2\"></a>](02_data_types/data_types.ipynb#cid5)<br/> [Functions<a id=\"cid2\"></a>](05_functions/functions.ipynb#cid19)<br/> | String Concatenation (Joining) | [Introduction to Python<a id=\"cid2\"></a>](01_intro_python/lesson01_intro_python.ipynb#cid41)<br/> |\n",
    " | Root Mean Square | [Conditional Statements<a id=\"cid2\"></a>](03_conditional_statements/s03_conditional_statements.ipynb#cid34)<br/> | String Indexing | [Introduction to Python<a id=\"cid2\"></a>](01_intro_python/lesson01_intro_python.ipynb#cid43)<br/> |\n",
    " | `round()` | [Introduction to Python<a id=\"cid2\"></a>](01_intro_python/lesson01_intro_python.ipynb#cid29)<br/> | String Length | [Introduction to Python<a id=\"cid2\"></a>](01_intro_python/lesson01_intro_python.ipynb#cid42)<br/> |\n",
    " | Saving a Notebook | [Introduction to Python<a id=\"cid2\"></a>](01_intro_python/lesson01_intro_python.ipynb#cid70)<br/> | Strings | [Introduction to Python<a id=\"cid2\"></a>](01_intro_python/lesson01_intro_python.ipynb#cid37)<br/> [Data Types<a id=\"cid2\"></a>](02_data_types/data_types.ipynb#cid13)<br/> |\n",
    " | Scalars | [Composite Data Types<a id=\"cid2\"></a>](06_composite_data/composite_data.ipynb#cid2)<br/> | Style Guides | [Conditional Statements<a id=\"cid2\"></a>](03_conditional_statements/s03_conditional_statements.ipynb#cid4)<br/> |\n",
    " | `set()` | [File Operations and Comprehensions<a id=\"cid2\"></a>](07_files_and_comprehensions/files_and_comprehensions.ipynb#cid43)<br/> | Subtraction | [Introduction to Python<a id=\"cid2\"></a>](01_intro_python/lesson01_intro_python.ipynb#cid14)<br/> |"
   ]
  },
  {
   "cell_type": "markdown",
   "id": "30da20b2",
   "metadata": {
    "tiedown.cell_index": "cid9"
   },
   "source": [
    "## T - V<a id=\"cid9\"></a>\n",
    "| Term | Links | Term | Links |\n",
    "| --- | --- | --- | --- |\n",
    " | Text Cells | [Introduction to Python<a id=\"cid2\"></a>](01_intro_python/lesson01_intro_python.ipynb#cid3)<br/> | Type Conversions | [Data Types<a id=\"cid2\"></a>](02_data_types/data_types.ipynb#cid16)<br/> |\n",
    " | `title()` | [Data Types<a id=\"cid2\"></a>](02_data_types/data_types.ipynb#cid31)<br/> | `type()` | [Data Types<a id=\"cid2\"></a>](02_data_types/data_types.ipynb#cid6)<br/> [Data Types<a id=\"cid2\"></a>](02_data_types/data_types.ipynb#cid7)<br/> |\n",
    " | `tuple()` | [Composite Data Types<a id=\"cid2\"></a>](06_composite_data/composite_data.ipynb#cid39)<br/> | Unary Operators | [Introduction to Python<a id=\"cid2\"></a>](01_intro_python/lesson01_intro_python.ipynb#cid14)<br/> |\n",
    " | Tuples | [Composite Data Types<a id=\"cid2\"></a>](06_composite_data/composite_data.ipynb#cid30)<br/> | `upper()` | [Data Types<a id=\"cid2\"></a>](02_data_types/data_types.ipynb#cid25)<br/> |\n",
    " | Tuples, Packaing | [Composite Data Types<a id=\"cid2\"></a>](06_composite_data/composite_data.ipynb#cid34)<br/> | Variable Names | [Introduction to Python<a id=\"cid2\"></a>](01_intro_python/lesson01_intro_python.ipynb#cid25)<br/> |\n",
    " | Tuples, Unpacking | [Composite Data Types<a id=\"cid2\"></a>](06_composite_data/composite_data.ipynb#cid34)<br/> | Variables | [Introduction to Python<a id=\"cid2\"></a>](01_intro_python/lesson01_intro_python.ipynb#cid20)<br/> |"
   ]
  },
  {
   "cell_type": "markdown",
   "id": "99f0543b",
   "metadata": {
    "tiedown.cell_index": "cid10"
   },
   "source": [
    "## X - Z<a id=\"cid10\"></a>\n",
    "| Term | Links | Term | Links |\n",
    "| --- | --- | --- | --- |"
   ]
  },
  {
   "cell_type": "markdown",
   "id": "6d6e118c-eef8-4c5d-ae5f-482ab439dbc4",
   "metadata": {
    "tiedown.cell_index": "cid11"
   },
   "source": [
    "Next:  | [Table of Contents](toc.ipynb) | Prev: <a id=\"cid11\"></a>"
   ]
  }
 ],
 "metadata": {
  "kernelspec": {
   "display_name": "Python 3 (ipykernel)",
   "language": "python",
   "name": "python3"
  }
 },
 "nbformat": 4,
 "nbformat_minor": 5
}
