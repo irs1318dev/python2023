{
 "cells": [
  {
   "cell_type": "markdown",
   "id": "1783cff3-7acc-4f5a-b85b-a0f26b1c5b0e",
   "metadata": {
    "tiedown.cell_index": "cid1"
   },
   "source": [
    "<a name=\"cid1\"></a>\n",
    "Prev:  | [Table of Contents](toc.ipynb) | Next:"
   ]
  },
  {
   "cell_type": "markdown",
   "id": "2347e40c",
   "metadata": {
    "tiedown.cell_index": "cid2"
   },
   "source": [
    "<a name=\"cid2\"></a>\n",
    "# Index\n",
    "Key terms are listed below, with links to the portion of the FRC Python Tutorial that explains the term."
   ]
  },
  {
   "cell_type": "markdown",
   "id": "7fc0a09c",
   "metadata": {
    "tiedown.cell_index": "cid3"
   },
   "source": [
    "<a name=\"cid3\"></a>\n",
    "## Symbols\n",
    "| Term | Links | Term | Links |\n",
    "| --- | --- | --- | --- |\n",
    " | `%=` | [Loops](04_loops/loops.ipynb#cid7)<br/> | `//=` | [Loops](04_loops/loops.ipynb#cid7)<br/> |\n",
    " | `*` | [Introduction to Python](01_intro_python/intro_python.ipynb#cid14)<br/> | `/=` | [Loops](04_loops/loops.ipynb#cid7)<br/> |\n",
    " | `**` | [Introduction to Python](01_intro_python/intro_python.ipynb#cid14)<br/> | `:` | [Introduction to Python](01_intro_python/intro_python.ipynb#cid45)<br/> |\n",
    " | `*=` | [Loops](04_loops/loops.ipynb#cid7)<br/> | `<` | [Conditional Statements](03_conditional_statements/s03_conditional_statements.ipynb#cid13)<br/> |\n",
    " | `+` | [Introduction to Python](01_intro_python/intro_python.ipynb#cid14)<br/> | `<=` | [Conditional Statements](03_conditional_statements/s03_conditional_statements.ipynb#cid13)<br/> |\n",
    " | `+=` | [Loops](04_loops/loops.ipynb#cid6)<br/> | `==` | [Conditional Statements](03_conditional_statements/s03_conditional_statements.ipynb#cid6)<br/> |\n",
    " | `-` | [Introduction to Python](01_intro_python/intro_python.ipynb#cid14)<br/> | `>` | [Conditional Statements](03_conditional_statements/s03_conditional_statements.ipynb#cid13)<br/> |\n",
    " | `-=` | [Loops](04_loops/loops.ipynb#cid6)<br/> | `>=` | [Conditional Statements](03_conditional_statements/s03_conditional_statements.ipynb#cid13)<br/> |\n",
    " | `/` | [Introduction to Python](01_intro_python/intro_python.ipynb#cid14)<br/> | `\\n` | [Conditional Statements](03_conditional_statements/s03_conditional_statements.ipynb#cid23)<br/> [File Operations and Comprehensions](07_files_and_comprehensions/files_and_comprehensions.ipynb#cid22)<br/> |"
   ]
  },
  {
   "cell_type": "markdown",
   "id": "7ef12fe8",
   "metadata": {
    "tiedown.cell_index": "cid4"
   },
   "source": [
    "<a name=\"cid4\"></a>\n",
    "## A - D\n",
    "| Term | Links | Term | Links |\n",
    "| --- | --- | --- | --- |\n",
    " | Addition | [Introduction to Python](01_intro_python/intro_python.ipynb#cid14)<br/> | `close()` | [File Operations and Comprehensions](07_files_and_comprehensions/files_and_comprehensions.ipynb#cid19)<br/> |\n",
    " | Advice | [Data Types](02_data_types/data_types.ipynb#cid3)<br/> | Code Blocks | [Functions](05_functions/functions.ipynb#cid12)<br/> |\n",
    " | `and` | [Conditional Statements](03_conditional_statements/s03_conditional_statements.ipynb#cid18)<br/> | Code Cells | [Introduction to Python](01_intro_python/intro_python.ipynb#cid3)<br/> |\n",
    " | `append()` | [Data Types](02_data_types/data_types.ipynb#cid38)<br/> | Command Line Interpreter | [File Operations and Comprehensions](07_files_and_comprehensions/files_and_comprehensions.ipynb#cid3)<br/> |\n",
    " | Arguments | [Introduction to Python](01_intro_python/intro_python.ipynb#cid30)<br/> [Data Types](02_data_types/data_types.ipynb#cid4)<br/> [Functions](05_functions/functions.ipynb#cid19)<br/> | Comments | [Introduction to Python](01_intro_python/intro_python.ipynb#cid7)<br/> |\n",
    " | Arithmetic Mean | [Conditional Statements](03_conditional_statements/s03_conditional_statements.ipynb#cid34)<br/> | Comparison Operators | [Conditional Statements](03_conditional_statements/s03_conditional_statements.ipynb#cid6)<br/> [Conditional Statements](03_conditional_statements/s03_conditional_statements.ipynb#cid13)<br/> |\n",
    " | `as_integer_ratio()` | [Data Types](02_data_types/data_types.ipynb#cid28)<br/> | Composite Data Types | [Data Types](02_data_types/data_types.ipynb#cid32)<br/> |\n",
    " | Assignment Statement | [Conditional Statements](03_conditional_statements/s03_conditional_statements.ipynb#cid2)<br/> | Composite Types | [Composite Data Types](06_composite_data/composite_data.ipynb#cid2)<br/> |\n",
    " | Assignment Statements | [Loops](04_loops/loops.ipynb#cid4)<br/> | Conditional Statements | [Conditional Statements](03_conditional_statements/s03_conditional_statements.ipynb#cid5)<br/> |\n",
    " | Atomic | [Data Types](02_data_types/data_types.ipynb#cid32)<br/> | `continue` | [Loops](04_loops/loops.ipynb#cid31)<br/> |\n",
    " | Backwards Slash | [Introduction to Python](01_intro_python/intro_python.ipynb#cid39)<br/> | Control Characters | [File Operations and Comprehensions](07_files_and_comprehensions/files_and_comprehensions.ipynb#cid25)<br/> |\n",
    " | Binary Operators | [Introduction to Python](01_intro_python/intro_python.ipynb#cid14)<br/> | Csv Files | [Tabular Data](08_tabular_data/tabular_data.ipynb#cid6)<br/> |\n",
    " | `bit_length()` | [Data Types](02_data_types/data_types.ipynb#cid29)<br/> | Csv Module | [Tabular Data](08_tabular_data/tabular_data.ipynb#cid8)<br/> |\n",
    " | Bokeh | [Data Visualization with Bokeh](10_visualization_bokeh/bokeh.ipynb#cid2)<br/> | Data Vizualization | [Data Visualization with MatPlotlib](09_visualization_matplotlib/matplotlib.ipynb#cid2)<br/> |\n",
    " | Bokeh Examples | [Data Visualization with Bokeh](10_visualization_bokeh/bokeh.ipynb#cid16)<br/> | Dataframe | [Tabular Data](08_tabular_data/tabular_data.ipynb#cid13)<br/> |\n",
    " | Bokeh Figure Objects | [Data Visualization with Bokeh](10_visualization_bokeh/bokeh.ipynb#cid11)<br/> | `DataFrame.loc` | [Tabular Data](08_tabular_data/tabular_data.ipynb#cid28)<br/> |\n",
    " | `bokeh.io.output_notebook` | [Data Visualization with Bokeh](10_visualization_bokeh/bokeh.ipynb#cid5)<br/> | `def` | [Functions](05_functions/functions.ipynb#cid16)<br/> |\n",
    " | `bokeh.plotting.figure` | [Data Visualization with Bokeh](10_visualization_bokeh/bokeh.ipynb#cid10)<br/> | Default Argument Values | [Functions](05_functions/functions.ipynb#cid38)<br/> |\n",
    " | `bokeh.plotting.figure.scatter` | [Data Visualization with Bokeh](10_visualization_bokeh/bokeh.ipynb#cid10)<br/> | `del` | [Data Types](02_data_types/data_types.ipynb#cid44)<br/> |\n",
    " | `bokeh.plotting.show` | [Data Visualization with Bokeh](10_visualization_bokeh/bokeh.ipynb#cid10)<br/> | `dict()` | [Composite Data Types](06_composite_data/composite_data.ipynb#cid13)<br/> |\n",
    " | `bokeh.plotting.yaxis` | [Data Visualization with Bokeh](10_visualization_bokeh/bokeh.ipynb#cid10)<br/> | `dict.items()` | [Composite Data Types](06_composite_data/composite_data.ipynb#cid17)<br/> |\n",
    " | `bool()` | [Conditional Statements](03_conditional_statements/s03_conditional_statements.ipynb#cid9)<br/> | `dict.keys()` | [Composite Data Types](06_composite_data/composite_data.ipynb#cid17)<br/> |\n",
    " | Boole, George | [Conditional Statements](03_conditional_statements/s03_conditional_statements.ipynb#cid8)<br/> | `dict.values()` | [Composite Data Types](06_composite_data/composite_data.ipynb#cid17)<br/> |\n",
    " | Boolean Expressions | [Conditional Statements](03_conditional_statements/s03_conditional_statements.ipynb#cid20)<br/> | Dictionaries | [Composite Data Types](06_composite_data/composite_data.ipynb#cid4)<br/> |\n",
    " | Booleans | [Conditional Statements](03_conditional_statements/s03_conditional_statements.ipynb#cid8)<br/> | Dictionaries, Keys | [Composite Data Types](06_composite_data/composite_data.ipynb#cid6)<br/> |\n",
    " | `break` | [Loops](04_loops/loops.ipynb#cid29)<br/> | Dictionaries, Values | [Composite Data Types](06_composite_data/composite_data.ipynb#cid6)<br/> |\n",
    " | Built-In Functions | [Functions](05_functions/functions.ipynb#cid44)<br/> | Dictionary Comprehensions | [File Operations and Comprehensions](07_files_and_comprehensions/files_and_comprehensions.ipynb#cid38)<br/> |\n",
    " | Case Sensitive | [Introduction to Python](01_intro_python/intro_python.ipynb#cid22)<br/> | Division | [Introduction to Python](01_intro_python/intro_python.ipynb#cid14)<br/> |\n",
    " | Cli | [File Operations and Comprehensions](07_files_and_comprehensions/files_and_comprehensions.ipynb#cid3)<br/> |  |  |"
   ]
  },
  {
   "cell_type": "markdown",
   "id": "a09e17c2",
   "metadata": {
    "tiedown.cell_index": "cid5"
   },
   "source": [
    "<a name=\"cid5\"></a>\n",
    "## E - H\n",
    "| Term | Links | Term | Links |\n",
    "| --- | --- | --- | --- |\n",
    " | `elif` | [Conditional Statements](03_conditional_statements/s03_conditional_statements.ipynb#cid25)<br/> | FIRST Robotics Competitions (FRC) | [Introduction to Python](01_intro_python/intro_python.ipynb#cid26)<br/> |\n",
    " | `else` | [Conditional Statements](03_conditional_statements/s03_conditional_statements.ipynb#cid22)<br/> | FIRST Tech Challenge | [Conditional Statements](03_conditional_statements/s03_conditional_statements.ipynb#cid26)<br/> |\n",
    " | Else If | [Conditional Statements](03_conditional_statements/s03_conditional_statements.ipynb#cid25)<br/> | `float()` | [Data Types](02_data_types/data_types.ipynb#cid16)<br/> |\n",
    " | End Of Line Character | [File Operations and Comprehensions](07_files_and_comprehensions/files_and_comprehensions.ipynb#cid22)<br/> | Floats | [Data Types](02_data_types/data_types.ipynb#cid8)<br/> |\n",
    " | Equality Operator | [Conditional Statements](03_conditional_statements/s03_conditional_statements.ipynb#cid6)<br/> | For Loops | [Loops](04_loops/loops.ipynb#cid17)<br/> |\n",
    " | Escape Sequences | [File Operations and Comprehensions](07_files_and_comprehensions/files_and_comprehensions.ipynb#cid25)<br/> | Forwards Slash | [Introduction to Python](01_intro_python/intro_python.ipynb#cid39)<br/> |\n",
    " | Exponentiation | [Introduction to Python](01_intro_python/intro_python.ipynb#cid14)<br/> | Functions | [Functions](05_functions/functions.ipynb#cid2)<br/> |\n",
    " | Expressions | [Functions](05_functions/functions.ipynb#cid3)<br/> | Geometric Mean | [Conditional Statements](03_conditional_statements/s03_conditional_statements.ipynb#cid34)<br/> |\n",
    " | Factorial | [Loops](04_loops/loops.ipynb#cid15)<br/> | Google Colab | [Introduction to Python](01_intro_python/intro_python.ipynb#cid3)<br/> |\n",
    " | Fibonnaci Sequence | [Loops](04_loops/loops.ipynb#cid11)<br/> | Google Drive | [Introduction to Python](01_intro_python/intro_python.ipynb#cid70)<br/> |\n",
    " | File Operations | [File Operations and Comprehensions](07_files_and_comprehensions/files_and_comprehensions.ipynb#cid6)<br/> | Greater Than Operator | [Conditional Statements](03_conditional_statements/s03_conditional_statements.ipynb#cid13)<br/> |\n",
    " | FIRST Lego League | [Conditional Statements](03_conditional_statements/s03_conditional_statements.ipynb#cid26)<br/> | Greater Than Or Equal Operator | [Conditional Statements](03_conditional_statements/s03_conditional_statements.ipynb#cid13)<br/> |\n",
    " | FIRST Robotics Competition | [Conditional Statements](03_conditional_statements/s03_conditional_statements.ipynb#cid26)<br/> | Guido van Rossum | [Introduction to Python](01_intro_python/intro_python.ipynb#cid2)<br/> |"
   ]
  },
  {
   "cell_type": "markdown",
   "id": "8d8e1c6a",
   "metadata": {
    "tiedown.cell_index": "cid6"
   },
   "source": [
    "<a name=\"cid6\"></a>\n",
    "## I - L\n",
    "| Term | Links | Term | Links |\n",
    "| --- | --- | --- | --- |\n",
    " | `id()` | [Data Types](02_data_types/data_types.ipynb#cid27)<br/> | Keyword | [Data Types](02_data_types/data_types.ipynb#cid44)<br/> [Data Types](02_data_types/data_types.ipynb#cid44)<br/> |\n",
    " | `if` | [Conditional Statements](03_conditional_statements/s03_conditional_statements.ipynb#cid5)<br/> [Conditional Statements](03_conditional_statements/s03_conditional_statements.ipynb#cid22)<br/> | Keyword Arguments | [Functions](05_functions/functions.ipynb#cid35)<br/> |\n",
    " | if Statement | [Conditional Statements](03_conditional_statements/s03_conditional_statements.ipynb#cid5)<br/> | `len()` | [Introduction to Python](01_intro_python/intro_python.ipynb#cid42)<br/> |\n",
    " | If Statement | [Conditional Statements](03_conditional_statements/s03_conditional_statements.ipynb#cid22)<br/> | Less Than Operator | [Conditional Statements](03_conditional_statements/s03_conditional_statements.ipynb#cid13)<br/> |\n",
    " | Immutable | [Composite Data Types](06_composite_data/composite_data.ipynb#cid31)<br/> | Less Than Or Equal Operator | [Conditional Statements](03_conditional_statements/s03_conditional_statements.ipynb#cid13)<br/> |\n",
    " | `input()` | [Data Types](02_data_types/data_types.ipynb#cid54)<br/> | Line Continuation | [Conditional Statements](03_conditional_statements/s03_conditional_statements.ipynb#cid3)<br/> |\n",
    " | `int()` | [Data Types](02_data_types/data_types.ipynb#cid16)<br/> | List Comprehensions | [File Operations and Comprehensions](07_files_and_comprehensions/files_and_comprehensions.ipynb#cid35)<br/> |\n",
    " | Integers | [Data Types](02_data_types/data_types.ipynb#cid7)<br/> | Lists | [Data Types](02_data_types/data_types.ipynb#cid32)<br/> |\n",
    " | `isdigit()` | [Data Types](02_data_types/data_types.ipynb#cid28)<br/> | Literals | [Data Types](02_data_types/data_types.ipynb#cid4)<br/> [Functions](05_functions/functions.ipynb#cid4)<br/> |\n",
    " | `isupper()` | [Data Types](02_data_types/data_types.ipynb#cid28)<br/> | Logical Operators | [Conditional Statements](03_conditional_statements/s03_conditional_statements.ipynb#cid17)<br/> |\n",
    " | Json | [File Operations and Comprehensions](07_files_and_comprehensions/files_and_comprehensions.ipynb#cid31)<br/> | Loops | [Loops](04_loops/loops.ipynb#cid3)<br/> |\n",
    " | `json.dump()` | [File Operations and Comprehensions](07_files_and_comprehensions/files_and_comprehensions.ipynb#cid33)<br/> | `lower()` | [Data Types](02_data_types/data_types.ipynb#cid28)<br/> |\n",
    " | `json.load()` | [File Operations and Comprehensions](07_files_and_comprehensions/files_and_comprehensions.ipynb#cid33)<br/> |  |  |"
   ]
  },
  {
   "cell_type": "markdown",
   "id": "6b59d0a1",
   "metadata": {
    "tiedown.cell_index": "cid7"
   },
   "source": [
    "<a name=\"cid7\"></a>\n",
    "## M - P\n",
    "| Term | Links | Term | Links |\n",
    "| --- | --- | --- | --- |\n",
    " | Matplotlib | [Data Visualization with MatPlotlib](09_visualization_matplotlib/matplotlib.ipynb#cid2)<br/> | Multiplication | [Introduction to Python](01_intro_python/intro_python.ipynb#cid14)<br/> |\n",
    " | Matplotlib Bar Charts | [Data Visualization with MatPlotlib](09_visualization_matplotlib/matplotlib.ipynb#cid46)<br/> | Mutable | [Composite Data Types](06_composite_data/composite_data.ipynb#cid31)<br/> |\n",
    " | Matplotlib Box Plots | [Data Visualization with MatPlotlib](09_visualization_matplotlib/matplotlib.ipynb#cid56)<br/> | Named Arguments | [Functions](05_functions/functions.ipynb#cid35)<br/> |\n",
    " | Matplotlib Categorical Variables | [Data Visualization with MatPlotlib](09_visualization_matplotlib/matplotlib.ipynb#cid35)<br/> | Nested Data | [Composite Data Types](06_composite_data/composite_data.ipynb#cid41)<br/> |\n",
    " | Matplotlib Grouped Bar Chart | [Data Visualization with MatPlotlib](09_visualization_matplotlib/matplotlib.ipynb#cid48)<br/> | `None` | [Functions](05_functions/functions.ipynb#cid33)<br/> |\n",
    " | Matplotlib Hexbin Charts | [Data Visualization with MatPlotlib](09_visualization_matplotlib/matplotlib.ipynb#cid55)<br/> | `not` | [Conditional Statements](03_conditional_statements/s03_conditional_statements.ipynb#cid18)<br/> |\n",
    " | Matplotlib Interactive Charts | [Data Visualization with MatPlotlib](09_visualization_matplotlib/matplotlib.ipynb#cid63)<br/> | Notebooks | [Introduction to Python](01_intro_python/intro_python.ipynb#cid3)<br/> |\n",
    " | Matplotlib Keyword Strings | [Data Visualization with MatPlotlib](09_visualization_matplotlib/matplotlib.ipynb#cid35)<br/> | Numpy | [Data Visualization with MatPlotlib](09_visualization_matplotlib/matplotlib.ipynb#cid8)<br/> |\n",
    " | Matplotlib Layering Charts | [Data Visualization with MatPlotlib](09_visualization_matplotlib/matplotlib.ipynb#cid59)<br/> | Numpy Math Functions | [Data Visualization with MatPlotlib](09_visualization_matplotlib/matplotlib.ipynb#cid18)<br/> |\n",
    " | Matplotlib Line Properties | [Data Visualization with MatPlotlib](09_visualization_matplotlib/matplotlib.ipynb#cid35)<br/> | `numpy.arange` | [Data Visualization with MatPlotlib](09_visualization_matplotlib/matplotlib.ipynb#cid16)<br/> |\n",
    " | Matplotlib Object Oriented Interface | [Data Visualization with MatPlotlib](09_visualization_matplotlib/matplotlib.ipynb#cid43)<br/> | `numpy.linspace` | [Data Visualization with MatPlotlib](09_visualization_matplotlib/matplotlib.ipynb#cid17)<br/> |\n",
    " | Matplotlib, Adding Text | [Data Visualization with MatPlotlib](09_visualization_matplotlib/matplotlib.ipynb#cid39)<br/> | `open()` | [File Operations and Comprehensions](07_files_and_comprehensions/files_and_comprehensions.ipynb#cid6)<br/> |\n",
    " | `matplotlib.axis.Axis.grid` | [Data Visualization with MatPlotlib](09_visualization_matplotlib/matplotlib.ipynb#cid48)<br/> | Opening a Saved Notebook | [Introduction to Python](01_intro_python/intro_python.ipynb#cid70)<br/> |\n",
    " | `matplotlib.axis.Axis.set_facecolor()` | [Data Visualization with MatPlotlib](09_visualization_matplotlib/matplotlib.ipynb#cid43)<br/> | Operands | [Conditional Statements](03_conditional_statements/s03_conditional_statements.ipynb#cid7)<br/> |\n",
    " | `matplotlib.axis.Axis.set_title()` | [Data Visualization with MatPlotlib](09_visualization_matplotlib/matplotlib.ipynb#cid43)<br/> | Operators | [Introduction to Python](01_intro_python/intro_python.ipynb#cid14)<br/> |\n",
    " | `matplotlib.axis.Axis.set_xlabel()` | [Data Visualization with MatPlotlib](09_visualization_matplotlib/matplotlib.ipynb#cid43)<br/> | `or` | [Conditional Statements](03_conditional_statements/s03_conditional_statements.ipynb#cid18)<br/> |\n",
    " | `matplotlib.axis.Axis.set_yticklabels` | [Data Visualization with MatPlotlib](09_visualization_matplotlib/matplotlib.ipynb#cid48)<br/> | `ord()` | [File Operations and Comprehensions](07_files_and_comprehensions/files_and_comprehensions.ipynb#cid24)<br/> |\n",
    " | `matplotlib.axis.Axis.set_yticks` | [Data Visualization with MatPlotlib](09_visualization_matplotlib/matplotlib.ipynb#cid48)<br/> | `os.chdir` | [File Operations and Comprehensions](07_files_and_comprehensions/files_and_comprehensions.ipynb#cid9)<br/> |\n",
    " | `matplotlib.axis.legend` | [Data Visualization with MatPlotlib](09_visualization_matplotlib/matplotlib.ipynb#cid48)<br/> | `os.getcwd()` | [File Operations and Comprehensions](07_files_and_comprehensions/files_and_comprehensions.ipynb#cid9)<br/> |\n",
    " | `matplotlib.firgure.Figure.set_size_inches` | [Data Visualization with MatPlotlib](09_visualization_matplotlib/matplotlib.ipynb#cid48)<br/> | Pandas Bar Charts | [Data Visualization with MatPlotlib](09_visualization_matplotlib/matplotlib.ipynb#cid50)<br/> |\n",
    " | `matplotlib.pyplot` | [Data Visualization with MatPlotlib](09_visualization_matplotlib/matplotlib.ipynb#cid7)<br/> | Pandas Method Chaining | [Data Visualization with MatPlotlib](09_visualization_matplotlib/matplotlib.ipynb#cid23)<br/> |\n",
    " | `matplotlib.pyplot.barh` | [Data Visualization with MatPlotlib](09_visualization_matplotlib/matplotlib.ipynb#cid35)<br/> [Data Visualization with MatPlotlib](09_visualization_matplotlib/matplotlib.ipynb#cid46)<br/> | Pandas Package | [Tabular Data](08_tabular_data/tabular_data.ipynb#cid11)<br/> |\n",
    " | `matplotlib.pyplot.grid` | [Data Visualization with MatPlotlib](09_visualization_matplotlib/matplotlib.ipynb#cid28)<br/> | Pandas, Boolean Indexing | [Tabular Data](08_tabular_data/tabular_data.ipynb#cid36)<br/> |\n",
    " | `matplotlib.pyplot.scatter` | [Data Visualization with MatPlotlib](09_visualization_matplotlib/matplotlib.ipynb#cid26)<br/> | Pandas, Indexing | [Tabular Data](08_tabular_data/tabular_data.ipynb#cid23)<br/> |\n",
    " | `matplotlib.pyplot.show` | [Data Visualization with MatPlotlib](09_visualization_matplotlib/matplotlib.ipynb#cid26)<br/> | `pandas.DataFrame` | [Tabular Data](08_tabular_data/tabular_data.ipynb#cid21)<br/> |\n",
    " | `matplotlib.pyplot.subplots` | [Data Visualization with MatPlotlib](09_visualization_matplotlib/matplotlib.ipynb#cid48)<br/> | `pandas.DataFrame.plot.barh` | [Data Visualization with MatPlotlib](09_visualization_matplotlib/matplotlib.ipynb#cid50)<br/> |\n",
    " | `matplotlib.pyplot.title` | [Data Visualization with MatPlotlib](09_visualization_matplotlib/matplotlib.ipynb#cid28)<br/> | `pandas.DataFrame.sample` | [Data Visualization with MatPlotlib](09_visualization_matplotlib/matplotlib.ipynb#cid25)<br/> |\n",
    " | `matplotlib.pyplot.xlabel` | [Data Visualization with MatPlotlib](09_visualization_matplotlib/matplotlib.ipynb#cid28)<br/> | `pandas.Series` | [Tabular Data](08_tabular_data/tabular_data.ipynb#cid21)<br/> |\n",
    " | `matplotlib.pyplot.ylabel` | [Data Visualization with MatPlotlib](09_visualization_matplotlib/matplotlib.ipynb#cid28)<br/> | Parentheses | [Introduction to Python](01_intro_python/intro_python.ipynb#cid16)<br/> |\n",
    " | `max()` | [File Operations and Comprehensions](07_files_and_comprehensions/files_and_comprehensions.ipynb#cid57)<br/> | `pass` | [Loops](04_loops/loops.ipynb#cid40)<br/> |\n",
    " | Methods | [Data Types](02_data_types/data_types.ipynb#cid26)<br/> | `pop()` | [Data Types](02_data_types/data_types.ipynb#cid42)<br/> |\n",
    " | `min()` | [File Operations and Comprehensions](07_files_and_comprehensions/files_and_comprehensions.ipynb#cid57)<br/> | Primitive Values | [Composite Data Types](06_composite_data/composite_data.ipynb#cid2)<br/> |\n",
    " | Monty Python | [Introduction to Python](01_intro_python/intro_python.ipynb#cid2)<br/> | `print()` | [Introduction to Python](01_intro_python/intro_python.ipynb#cid12)<br/> [Loops](04_loops/loops.ipynb#cid20)<br/> |"
   ]
  },
  {
   "cell_type": "markdown",
   "id": "14eac008",
   "metadata": {
    "tiedown.cell_index": "cid8"
   },
   "source": [
    "<a name=\"cid8\"></a>\n",
    "## Q - S\n",
    "| Term | Links | Term | Links |\n",
    "| --- | --- | --- | --- |\n",
    " | Quotes | [Introduction to Python](01_intro_python/intro_python.ipynb#cid37)<br/> | Slashes | [Introduction to Python](01_intro_python/intro_python.ipynb#cid39)<br/> |\n",
    " | `range()` | [Loops](04_loops/loops.ipynb#cid19)<br/> | Slicing | [Introduction to Python](01_intro_python/intro_python.ipynb#cid43)<br/> |\n",
    " | `readlines()` | [File Operations and Comprehensions](07_files_and_comprehensions/files_and_comprehensions.ipynb#cid17)<br/> | Statement | [Conditional Statements](03_conditional_statements/s03_conditional_statements.ipynb#cid2)<br/> |\n",
    " | `return` | [Functions](05_functions/functions.ipynb#cid31)<br/> | Statements | [Functions](05_functions/functions.ipynb#cid9)<br/> |\n",
    " | Return Statement | [Functions](05_functions/functions.ipynb#cid31)<br/> | `str()` | [Data Types](02_data_types/data_types.ipynb#cid16)<br/> |\n",
    " | Return Values | [Data Types](02_data_types/data_types.ipynb#cid5)<br/> [Functions](05_functions/functions.ipynb#cid19)<br/> | String Concatenation (Joining) | [Introduction to Python](01_intro_python/intro_python.ipynb#cid41)<br/> |\n",
    " | Root Mean Square | [Conditional Statements](03_conditional_statements/s03_conditional_statements.ipynb#cid34)<br/> | String Indexing | [Introduction to Python](01_intro_python/intro_python.ipynb#cid43)<br/> |\n",
    " | `round()` | [Introduction to Python](01_intro_python/intro_python.ipynb#cid29)<br/> | String Length | [Introduction to Python](01_intro_python/intro_python.ipynb#cid42)<br/> |\n",
    " | Saving a Notebook | [Introduction to Python](01_intro_python/intro_python.ipynb#cid70)<br/> | Strings | [Introduction to Python](01_intro_python/intro_python.ipynb#cid37)<br/> [Data Types](02_data_types/data_types.ipynb#cid13)<br/> |\n",
    " | Scalars | [Composite Data Types](06_composite_data/composite_data.ipynb#cid2)<br/> | Style Guides | [Conditional Statements](03_conditional_statements/s03_conditional_statements.ipynb#cid4)<br/> |\n",
    " | `set()` | [File Operations and Comprehensions](07_files_and_comprehensions/files_and_comprehensions.ipynb#cid43)<br/> | Subtraction | [Introduction to Python](01_intro_python/intro_python.ipynb#cid14)<br/> |"
   ]
  },
  {
   "cell_type": "markdown",
   "id": "acf97076",
   "metadata": {
    "tiedown.cell_index": "cid9"
   },
   "source": [
    "<a name=\"cid9\"></a>\n",
    "## T - V\n",
    "| Term | Links | Term | Links |\n",
    "| --- | --- | --- | --- |\n",
    " | Text Cells | [Introduction to Python](01_intro_python/intro_python.ipynb#cid3)<br/> | Type Conversions | [Data Types](02_data_types/data_types.ipynb#cid16)<br/> |\n",
    " | `title()` | [Data Types](02_data_types/data_types.ipynb#cid31)<br/> | `type()` | [Data Types](02_data_types/data_types.ipynb#cid6)<br/> [Data Types](02_data_types/data_types.ipynb#cid7)<br/> |\n",
    " | `tuple()` | [Composite Data Types](06_composite_data/composite_data.ipynb#cid39)<br/> | Unary Operators | [Introduction to Python](01_intro_python/intro_python.ipynb#cid14)<br/> |\n",
    " | Tuples | [Composite Data Types](06_composite_data/composite_data.ipynb#cid30)<br/> | `upper()` | [Data Types](02_data_types/data_types.ipynb#cid25)<br/> |\n",
    " | Tuples, Packaing | [Composite Data Types](06_composite_data/composite_data.ipynb#cid34)<br/> | Variable Names | [Introduction to Python](01_intro_python/intro_python.ipynb#cid25)<br/> |\n",
    " | Tuples, Unpacking | [Composite Data Types](06_composite_data/composite_data.ipynb#cid34)<br/> | Variables | [Introduction to Python](01_intro_python/intro_python.ipynb#cid20)<br/> |"
   ]
  },
  {
   "cell_type": "markdown",
   "id": "771fadd5",
   "metadata": {
    "tiedown.cell_index": "cid10"
   },
   "source": [
    "<a name=\"cid10\"></a>\n",
    "## X - Z\n",
    "| Term | Links | Term | Links |\n",
    "| --- | --- | --- | --- |"
   ]
  },
  {
   "cell_type": "markdown",
   "id": "6d6e118c-eef8-4c5d-ae5f-482ab439dbc4",
   "metadata": {
    "tiedown.cell_index": "cid11"
   },
   "source": [
    "<a name=\"cid11\"></a>\n",
    "Prev:  | [Table of Contents](toc.ipynb) | Next:"
   ]
  }
 ],
 "metadata": {
  "kernelspec": {
   "display_name": "Python 3 (ipykernel)",
   "language": "python",
   "name": "python3"
  }
 },
 "nbformat": 4,
 "nbformat_minor": 5
}
