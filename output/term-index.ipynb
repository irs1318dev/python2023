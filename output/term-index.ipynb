{
 "cells": [
  {
   "cell_type": "markdown",
   "id": "1783cff3-7acc-4f5a-b85b-a0f26b1c5b0e",
   "metadata": {
    "tiedown.cell_index": "cid1"
   },
   "source": [
    "<a name=\"cid1\"></a>\n",
    "Prev:  | [Table of Contents](toc.ipynb) | Next:"
   ]
  },
  {
   "cell_type": "markdown",
   "id": "41a27796",
   "metadata": {
    "tiedown.cell_index": "cid2"
   },
   "source": [
    "<a name=\"cid2\"></a>\n",
    "# Index\n",
    "Key terms are listed below, with links to the portion of the FRC Python Tutorial that explains the term."
   ]
  },
  {
   "cell_type": "markdown",
   "id": "6aa2d9ae",
   "metadata": {
    "tiedown.cell_index": "cid3"
   },
   "source": [
    "<a name=\"cid3\"></a>\n",
    "## Symbols\n",
    "| Term | Links | Term | Links |\n",
    "| --- | --- | --- | --- |\n",
    " | `%=` | [Loops](04_loops/loops.ipynb#cid7)<br/> | `/=` | [Loops](04_loops/loops.ipynb#cid7)<br/> |\n",
    " | `*` | [Introduction to Python](01_intro_python/intro_python.ipynb#cid14)<br/> | `:` | [Introduction to Python](01_intro_python/intro_python.ipynb#cid45)<br/> |\n",
    " | `**` | [Introduction to Python](01_intro_python/intro_python.ipynb#cid14)<br/> | `<` | [Conditional Statements](03_conditional_statements/s03_conditional_statements.ipynb#cid13)<br/> |\n",
    " | `*=` | [Loops](04_loops/loops.ipynb#cid7)<br/> | `<=` | [Conditional Statements](03_conditional_statements/s03_conditional_statements.ipynb#cid13)<br/> |\n",
    " | `+` | [Introduction to Python](01_intro_python/intro_python.ipynb#cid14)<br/> | `==` | [Conditional Statements](03_conditional_statements/s03_conditional_statements.ipynb#cid6)<br/> |\n",
    " | `+=` | [Loops](04_loops/loops.ipynb#cid6)<br/> | `>` | [Conditional Statements](03_conditional_statements/s03_conditional_statements.ipynb#cid13)<br/> |\n",
    " | `-` | [Introduction to Python](01_intro_python/intro_python.ipynb#cid14)<br/> | `>=` | [Conditional Statements](03_conditional_statements/s03_conditional_statements.ipynb#cid13)<br/> |\n",
    " | `-=` | [Loops](04_loops/loops.ipynb#cid6)<br/> | `\\n` | [Conditional Statements](03_conditional_statements/s03_conditional_statements.ipynb#cid23)<br/> [File Operations and Comprehensions](07_files_and_comprehensions/files_and_comprehensions.ipynb#cid22)<br/> |\n",
    " | .. | [Command Line Interfaces and Python Installation](12_python_setup/setup_python.ipynb#cid7)<br/> | `__init__()` | [Classes and Automated Testing](15_classes_1/classes_1.ipynb#cid7)<br/> |\n",
    " | `/` | [Introduction to Python](01_intro_python/intro_python.ipynb#cid14)<br/> | __Name__ | [Python Modules and Import Statments](13_modules/modules.ipynb#cid18)<br/> |\n",
    " | `//=` | [Loops](04_loops/loops.ipynb#cid7)<br/> |  |  |"
   ]
  },
  {
   "cell_type": "markdown",
   "id": "44e68325",
   "metadata": {
    "tiedown.cell_index": "cid4"
   },
   "source": [
    "<a name=\"cid4\"></a>\n",
    "## A - D\n",
    "| Term | Links | Term | Links |\n",
    "| --- | --- | --- | --- |\n",
    " | `add()` | [Classes and Automated Testing](15_classes_1/classes_1.ipynb#cid37)<br/> | Code Blocks | [Functions](05_functions/functions.ipynb#cid12)<br/> |\n",
    " | Addition | [Introduction to Python](01_intro_python/intro_python.ipynb#cid14)<br/> | Code Cells | [Introduction to Python](01_intro_python/intro_python.ipynb#cid3)<br/> |\n",
    " | Advice | [Data Types](02_data_types/data_types.ipynb#cid3)<br/> | Colors | [Data Visualization with Pandas, Matplotlib, and Plotly](09_visualization/visualization.ipynb#cid42)<br/> |\n",
    " | Anaconda Environments | [Command Line Interfaces and Python Installation](12_python_setup/setup_python.ipynb#cid19)<br/> | Colors, Continuous | [Data Visualization with Pandas, Matplotlib, and Plotly](09_visualization/visualization.ipynb#cid49)<br/> |\n",
    " | Anaconda Powershell Prompt | [Command Line Interfaces and Python Installation](12_python_setup/setup_python.ipynb#cid3)<br/> | Colors, Css Hex | [Data Visualization with Pandas, Matplotlib, and Plotly](09_visualization/visualization.ipynb#cid47)<br/> |\n",
    " | `and` | [Conditional Statements](03_conditional_statements/s03_conditional_statements.ipynb#cid18)<br/> | Colors, Html | [Data Visualization with Pandas, Matplotlib, and Plotly](09_visualization/visualization.ipynb#cid46)<br/> |\n",
    " | `append()` | [Data Types](02_data_types/data_types.ipynb#cid38)<br/> | Colors, Sequential | [Data Visualization with Pandas, Matplotlib, and Plotly](09_visualization/visualization.ipynb#cid49)<br/> |\n",
    " | Arguments | [Introduction to Python](01_intro_python/intro_python.ipynb#cid30)<br/> [Data Types](02_data_types/data_types.ipynb#cid4)<br/> [Functions](05_functions/functions.ipynb#cid19)<br/> | Command Line | [Python Modules and Import Statments](13_modules/modules.ipynb#cid9)<br/> |\n",
    " | Arithmetic Mean | [Conditional Statements](03_conditional_statements/s03_conditional_statements.ipynb#cid34)<br/> | Command Line Arguments | [Python Modules and Import Statments](13_modules/modules.ipynb#cid9)<br/> |\n",
    " | `as_integer_ratio()` | [Data Types](02_data_types/data_types.ipynb#cid28)<br/> | Command Line Interfaces | [Command Line Interfaces and Python Installation](12_python_setup/setup_python.ipynb#cid2)<br/> |\n",
    " | ASCII | [Working with Text, Part I](14_text_1/text_1.ipynb#cid55)<br/> | Command Line Interpreter | [File Operations and Comprehensions](07_files_and_comprehensions/files_and_comprehensions.ipynb#cid3)<br/> |\n",
    " | `assert` | [Classes and Automated Testing](15_classes_1/classes_1.ipynb#cid14)<br/> | Comments | [Introduction to Python](01_intro_python/intro_python.ipynb#cid7)<br/> |\n",
    " | Assert Statements | [Classes and Automated Testing](15_classes_1/classes_1.ipynb#cid14)<br/> | Comparison Operators | [Conditional Statements](03_conditional_statements/s03_conditional_statements.ipynb#cid6)<br/> [Conditional Statements](03_conditional_statements/s03_conditional_statements.ipynb#cid13)<br/> |\n",
    " | Assignment Statement | [Conditional Statements](03_conditional_statements/s03_conditional_statements.ipynb#cid2)<br/> | Composite Data Types | [Data Types](02_data_types/data_types.ipynb#cid32)<br/> |\n",
    " | Assignment Statements | [Loops](04_loops/loops.ipynb#cid4)<br/> | Composite Types | [Composite Data Types](06_composite_data/composite_data.ipynb#cid2)<br/> |\n",
    " | Atomic | [Data Types](02_data_types/data_types.ipynb#cid32)<br/> | Composition | [Object Oriented Programming](16_classes_2/classes_2.ipynb#cid34)<br/> |\n",
    " | Automated Testing | [Classes and Automated Testing](15_classes_1/classes_1.ipynb#cid13)<br/> | Concatenation | [Working with Text, Part I](14_text_1/text_1.ipynb#cid20)<br/> |\n",
    " | Backslash | [Working with Text, Part I](14_text_1/text_1.ipynb#cid17)<br/> | `conda activate` | [Command Line Interfaces and Python Installation](12_python_setup/setup_python.ipynb#cid22)<br/> |\n",
    " | Backwards Slash | [Introduction to Python](01_intro_python/intro_python.ipynb#cid39)<br/> | `conda create` | [Command Line Interfaces and Python Installation](12_python_setup/setup_python.ipynb#cid21)<br/> |\n",
    " | Binary Operators | [Introduction to Python](01_intro_python/intro_python.ipynb#cid14)<br/> | `conda deactivate` | [Command Line Interfaces and Python Installation](12_python_setup/setup_python.ipynb#cid22)<br/> |\n",
    " | `bit_length()` | [Data Types](02_data_types/data_types.ipynb#cid29)<br/> | Conditional Statements | [Conditional Statements](03_conditional_statements/s03_conditional_statements.ipynb#cid5)<br/> |\n",
    " | Bokeh | [Data Visualization with Bokeh](10_numpy/bokeh.ipynb#cid2)<br/> | `continue` | [Loops](04_loops/loops.ipynb#cid31)<br/> |\n",
    " | Bokeh Examples | [Data Visualization with Bokeh](10_numpy/bokeh.ipynb#cid16)<br/> | Control Characters | [File Operations and Comprehensions](07_files_and_comprehensions/files_and_comprehensions.ipynb#cid25)<br/> |\n",
    " | Bokeh Figure Objects | [Data Visualization with Bokeh](10_numpy/bokeh.ipynb#cid11)<br/> | `cp` | [Command Line Interfaces and Python Installation](12_python_setup/setup_python.ipynb#cid11)<br/> |\n",
    " | `bokeh.io.output_notebook` | [Data Visualization with Bokeh](10_numpy/bokeh.ipynb#cid5)<br/> | Csv Files | [Tabular Data](08_tabular_data/tabular_data.ipynb#cid6)<br/> |\n",
    " | `bokeh.plotting.figure` | [Data Visualization with Bokeh](10_numpy/bokeh.ipynb#cid10)<br/> | Csv Module | [Tabular Data](08_tabular_data/tabular_data.ipynb#cid8)<br/> |\n",
    " | `bokeh.plotting.figure.scatter` | [Data Visualization with Bokeh](10_numpy/bokeh.ipynb#cid10)<br/> | Current Working Directory | [Command Line Interfaces and Python Installation](12_python_setup/setup_python.ipynb#cid4)<br/> |\n",
    " | `bokeh.plotting.show` | [Data Visualization with Bokeh](10_numpy/bokeh.ipynb#cid10)<br/> | Dash | [Data Visualization with Pandas, Matplotlib, and Plotly](09_visualization/visualization.ipynb#cid27)<br/> |\n",
    " | `bokeh.plotting.yaxis` | [Data Visualization with Bokeh](10_numpy/bokeh.ipynb#cid10)<br/> | Data Analysis | [Data Analysis Project](11_data_project/data-project.ipynb#cid2)<br/> |\n",
    " | `bool()` | [Conditional Statements](03_conditional_statements/s03_conditional_statements.ipynb#cid9)<br/> | Data Vizualization | [Data Visualization with Pandas, Matplotlib, and Plotly](09_visualization/visualization.ipynb#cid2)<br/> [Data Visualization with Plotly](10_numpy/numpy.ipynb#cid2)<br/> |\n",
    " | Boole, George | [Conditional Statements](03_conditional_statements/s03_conditional_statements.ipynb#cid8)<br/> | Data.Gov | [Data Analysis Project](11_data_project/data-project.ipynb#cid5)<br/> |\n",
    " | Boolean Expressions | [Conditional Statements](03_conditional_statements/s03_conditional_statements.ipynb#cid20)<br/> | Dataframe | [Tabular Data](08_tabular_data/tabular_data.ipynb#cid13)<br/> |\n",
    " | Booleans | [Conditional Statements](03_conditional_statements/s03_conditional_statements.ipynb#cid8)<br/> | `DataFrame.loc` | [Tabular Data](08_tabular_data/tabular_data.ipynb#cid28)<br/> |\n",
    " | Box Plots | [Data Visualization with Pandas, Matplotlib, and Plotly](09_visualization/visualization.ipynb#cid57)<br/> | Datasets | [Data Analysis Project](11_data_project/data-project.ipynb#cid4)<br/> |\n",
    " | `break` | [Loops](04_loops/loops.ipynb#cid29)<br/> | Dates And Times | [Data Visualization with Pandas, Matplotlib, and Plotly](09_visualization/visualization.ipynb#cid34)<br/> |\n",
    " | Built-In Functions | [Functions](05_functions/functions.ipynb#cid44)<br/> | `def` | [Functions](05_functions/functions.ipynb#cid16)<br/> |\n",
    " | Case Sensitive | [Introduction to Python](01_intro_python/intro_python.ipynb#cid22)<br/> | Default Argument Values | [Functions](05_functions/functions.ipynb#cid38)<br/> |\n",
    " | `cd` | [Command Line Interfaces and Python Installation](12_python_setup/setup_python.ipynb#cid6)<br/> | `del` | [Data Types](02_data_types/data_types.ipynb#cid44)<br/> [Command Line Interfaces and Python Installation](12_python_setup/setup_python.ipynb#cid11)<br/> |\n",
    " | `char()` | [Working with Text, Part I](14_text_1/text_1.ipynb#cid55)<br/> | `dict()` | [Composite Data Types](06_composite_data/composite_data.ipynb#cid13)<br/> |\n",
    " | `class` | [Classes and Automated Testing](15_classes_1/classes_1.ipynb#cid6)<br/> | `dict.items()` | [Composite Data Types](06_composite_data/composite_data.ipynb#cid17)<br/> |\n",
    " | Class Methods | [Classes and Automated Testing](15_classes_1/classes_1.ipynb#cid11)<br/> | `dict.keys()` | [Composite Data Types](06_composite_data/composite_data.ipynb#cid17)<br/> |\n",
    " | Class Properties | [Classes and Automated Testing](15_classes_1/classes_1.ipynb#cid7)<br/> | `dict.values()` | [Composite Data Types](06_composite_data/composite_data.ipynb#cid17)<br/> |\n",
    " | Class Property | [Classes and Automated Testing](15_classes_1/classes_1.ipynb#cid20)<br/> | Dictionaries | [Composite Data Types](06_composite_data/composite_data.ipynb#cid4)<br/> |\n",
    " | Classes | [Classes and Automated Testing](15_classes_1/classes_1.ipynb#cid6)<br/> | Dictionaries, Keys | [Composite Data Types](06_composite_data/composite_data.ipynb#cid6)<br/> |\n",
    " | Clear | [Command Line Interfaces and Python Installation](12_python_setup/setup_python.ipynb#cid10)<br/> | Dictionaries, Values | [Composite Data Types](06_composite_data/composite_data.ipynb#cid6)<br/> |\n",
    " | Cli | [File Operations and Comprehensions](07_files_and_comprehensions/files_and_comprehensions.ipynb#cid3)<br/> | Dictionary Comprehensions | [File Operations and Comprehensions](07_files_and_comprehensions/files_and_comprehensions.ipynb#cid38)<br/> |\n",
    " | clis | [Command Line Interfaces and Python Installation](12_python_setup/setup_python.ipynb#cid3)<br/> | Division | [Introduction to Python](01_intro_python/intro_python.ipynb#cid14)<br/> |\n",
    " | `close()` | [File Operations and Comprehensions](07_files_and_comprehensions/files_and_comprehensions.ipynb#cid19)<br/> | Download Python Class | [Command Line Interfaces and Python Installation](12_python_setup/setup_python.ipynb#cid30)<br/> |\n",
    " | Cls | [Command Line Interfaces and Python Installation](12_python_setup/setup_python.ipynb#cid10)<br/> |  |  |"
   ]
  },
  {
   "cell_type": "markdown",
   "id": "6f89616a",
   "metadata": {
    "tiedown.cell_index": "cid5"
   },
   "source": [
    "<a name=\"cid5\"></a>\n",
    "## E - H\n",
    "| Term | Links | Term | Links |\n",
    "| --- | --- | --- | --- |\n",
    " | `elif` | [Conditional Statements](03_conditional_statements/s03_conditional_statements.ipynb#cid25)<br/> | `float()` | [Data Types](02_data_types/data_types.ipynb#cid16)<br/> |\n",
    " | `else` | [Conditional Statements](03_conditional_statements/s03_conditional_statements.ipynb#cid22)<br/> | Floats | [Data Types](02_data_types/data_types.ipynb#cid8)<br/> |\n",
    " | Else If | [Conditional Statements](03_conditional_statements/s03_conditional_statements.ipynb#cid25)<br/> | For Loops | [Loops](04_loops/loops.ipynb#cid17)<br/> |\n",
    " | Encapsulation | [Object Oriented Programming](16_classes_2/classes_2.ipynb#cid28)<br/> | Format Strings | [Working with Text, Part I](14_text_1/text_1.ipynb#cid31)<br/> |\n",
    " | `encode()` | [Working with Text, Part I](14_text_1/text_1.ipynb#cid62)<br/> | `format()` | [Working with Text, Part I](14_text_1/text_1.ipynb#cid31)<br/> |\n",
    " | Encoding | [Working with Text, Part I](14_text_1/text_1.ipynb#cid46)<br/> | Forwards Slash | [Introduction to Python](01_intro_python/intro_python.ipynb#cid39)<br/> |\n",
    " | End Of Line Character | [File Operations and Comprehensions](07_files_and_comprehensions/files_and_comprehensions.ipynb#cid22)<br/> | Functions | [Functions](05_functions/functions.ipynb#cid2)<br/> |\n",
    " | End-To-End Test | [Classes and Automated Testing](15_classes_1/classes_1.ipynb#cid19)<br/> | Geometric Mean | [Conditional Statements](03_conditional_statements/s03_conditional_statements.ipynb#cid34)<br/> |\n",
    " | Equality Operator | [Conditional Statements](03_conditional_statements/s03_conditional_statements.ipynb#cid6)<br/> | Geoplotlib | [Data Visualization with Pandas, Matplotlib, and Plotly](09_visualization/visualization.ipynb#cid20)<br/> |\n",
    " | Errors | [Classes and Automated Testing](15_classes_1/classes_1.ipynb#cid23)<br/> | `Get-Help` | [Command Line Interfaces and Python Installation](12_python_setup/setup_python.ipynb#cid9)<br/> |\n",
    " | Escape Sequences | [File Operations and Comprehensions](07_files_and_comprehensions/files_and_comprehensions.ipynb#cid25)<br/> [Working with Text, Part I](14_text_1/text_1.ipynb#cid8)<br/> | Git | [Command Line Interfaces and Python Installation](12_python_setup/setup_python.ipynb#cid29)<br/> |\n",
    " | Exploratory Data Analysis (EDA) | [Data Analysis Project](11_data_project/data-project.ipynb#cid7)<br/> | `git clone` | [Command Line Interfaces and Python Installation](12_python_setup/setup_python.ipynb#cid30)<br/> |\n",
    " | Exponentiation | [Introduction to Python](01_intro_python/intro_python.ipynb#cid14)<br/> | Google Colab | [Introduction to Python](01_intro_python/intro_python.ipynb#cid3)<br/> |\n",
    " | Expressions | [Functions](05_functions/functions.ipynb#cid3)<br/> | Google Drive | [Introduction to Python](01_intro_python/intro_python.ipynb#cid70)<br/> |\n",
    " | Factorial | [Loops](04_loops/loops.ipynb#cid15)<br/> | Greater Than Operator | [Conditional Statements](03_conditional_statements/s03_conditional_statements.ipynb#cid13)<br/> |\n",
    " | Fibonnaci Sequence | [Loops](04_loops/loops.ipynb#cid11)<br/> | Greater Than Or Equal Operator | [Conditional Statements](03_conditional_statements/s03_conditional_statements.ipynb#cid13)<br/> |\n",
    " | File Operations | [File Operations and Comprehensions](07_files_and_comprehensions/files_and_comprehensions.ipynb#cid6)<br/> | Guido van Rossum | [Introduction to Python](01_intro_python/intro_python.ipynb#cid2)<br/> |\n",
    " | FIRST Lego League | [Conditional Statements](03_conditional_statements/s03_conditional_statements.ipynb#cid26)<br/> | Heat Maps | [Data Visualization with Pandas, Matplotlib, and Plotly](09_visualization/visualization.ipynb#cid59)<br/> |\n",
    " | FIRST Robotics Competition | [Conditional Statements](03_conditional_statements/s03_conditional_statements.ipynb#cid26)<br/> | `help` | [Command Line Interfaces and Python Installation](12_python_setup/setup_python.ipynb#cid9)<br/> |\n",
    " | FIRST Robotics Competitions (FRC) | [Introduction to Python](01_intro_python/intro_python.ipynb#cid26)<br/> | Horizontal Tab | [Working with Text, Part I](14_text_1/text_1.ipynb#cid15)<br/> |\n",
    " | FIRST Tech Challenge | [Conditional Statements](03_conditional_statements/s03_conditional_statements.ipynb#cid26)<br/> | Hypothesis | [Data Analysis Project](11_data_project/data-project.ipynb#cid7)<br/> |\n",
    " | Fivethirtyeight | [Data Analysis Project](11_data_project/data-project.ipynb#cid5)<br/> |  |  |"
   ]
  },
  {
   "cell_type": "markdown",
   "id": "c21110a9",
   "metadata": {
    "tiedown.cell_index": "cid6"
   },
   "source": [
    "<a name=\"cid6\"></a>\n",
    "## I - L\n",
    "| Term | Links | Term | Links |\n",
    "| --- | --- | --- | --- |\n",
    " | `id()` | [Data Types](02_data_types/data_types.ipynb#cid27)<br/> | `json` | [Data Visualization with Pandas, Matplotlib, and Plotly](09_visualization/visualization.ipynb#cid51)<br/> |\n",
    " | `if` | [Conditional Statements](03_conditional_statements/s03_conditional_statements.ipynb#cid5)<br/> [Conditional Statements](03_conditional_statements/s03_conditional_statements.ipynb#cid22)<br/> | `json.dump()` | [File Operations and Comprehensions](07_files_and_comprehensions/files_and_comprehensions.ipynb#cid33)<br/> |\n",
    " | if Statement | [Conditional Statements](03_conditional_statements/s03_conditional_statements.ipynb#cid5)<br/> | `json.load()` | [File Operations and Comprehensions](07_files_and_comprehensions/files_and_comprehensions.ipynb#cid33)<br/> |\n",
    " | If Statement | [Conditional Statements](03_conditional_statements/s03_conditional_statements.ipynb#cid22)<br/> | Jupyterlab | [Command Line Interfaces and Python Installation](12_python_setup/setup_python.ipynb#cid25)<br/> |\n",
    " | Immutable | [Composite Data Types](06_composite_data/composite_data.ipynb#cid31)<br/> | Kaggle | [Data Analysis Project](11_data_project/data-project.ipynb#cid4)<br/> |\n",
    " | `import` | [Python Modules and Import Statments](13_modules/modules.ipynb#cid13)<br/> | Keyword | [Data Types](02_data_types/data_types.ipynb#cid44)<br/> [Data Types](02_data_types/data_types.ipynb#cid44)<br/> |\n",
    " | Inheritance | [Object Oriented Programming](16_classes_2/classes_2.ipynb#cid41)<br/> | Keyword Arguments | [Functions](05_functions/functions.ipynb#cid35)<br/> |\n",
    " | `input()` | [Data Types](02_data_types/data_types.ipynb#cid54)<br/> | `len()` | [Introduction to Python](01_intro_python/intro_python.ipynb#cid42)<br/> |\n",
    " | Installing Python | [Command Line Interfaces and Python Installation](12_python_setup/setup_python.ipynb#cid13)<br/> | Less Than Operator | [Conditional Statements](03_conditional_statements/s03_conditional_statements.ipynb#cid13)<br/> |\n",
    " | Instance Property | [Classes and Automated Testing](15_classes_1/classes_1.ipynb#cid20)<br/> | Less Than Or Equal Operator | [Conditional Statements](03_conditional_statements/s03_conditional_statements.ipynb#cid13)<br/> |\n",
    " | `int()` | [Data Types](02_data_types/data_types.ipynb#cid16)<br/> | Line Continuation | [Conditional Statements](03_conditional_statements/s03_conditional_statements.ipynb#cid3)<br/> |\n",
    " | Integers | [Data Types](02_data_types/data_types.ipynb#cid7)<br/> | List Comprehensions | [File Operations and Comprehensions](07_files_and_comprehensions/files_and_comprehensions.ipynb#cid35)<br/> |\n",
    " | Integration Test | [Classes and Automated Testing](15_classes_1/classes_1.ipynb#cid19)<br/> | Lists | [Data Types](02_data_types/data_types.ipynb#cid32)<br/> |\n",
    " | `isdigit()` | [Data Types](02_data_types/data_types.ipynb#cid28)<br/> | Literals | [Data Types](02_data_types/data_types.ipynb#cid4)<br/> [Functions](05_functions/functions.ipynb#cid4)<br/> |\n",
    " | `isinstance()` | [Object Oriented Programming](16_classes_2/classes_2.ipynb#cid49)<br/> | Logical Operators | [Conditional Statements](03_conditional_statements/s03_conditional_statements.ipynb#cid17)<br/> |\n",
    " | `isupper()` | [Data Types](02_data_types/data_types.ipynb#cid28)<br/> | Loops | [Loops](04_loops/loops.ipynb#cid3)<br/> |\n",
    " | `join()` | [Working with Text, Part I](14_text_1/text_1.ipynb#cid37)<br/> | `lower()` | [Data Types](02_data_types/data_types.ipynb#cid28)<br/> |\n",
    " | Json | [File Operations and Comprehensions](07_files_and_comprehensions/files_and_comprehensions.ipynb#cid31)<br/> | `ls` | [Command Line Interfaces and Python Installation](12_python_setup/setup_python.ipynb#cid5)<br/> |"
   ]
  },
  {
   "cell_type": "markdown",
   "id": "f6dff425",
   "metadata": {
    "tiedown.cell_index": "cid7"
   },
   "source": [
    "<a name=\"cid7\"></a>\n",
    "## M - P\n",
    "| Term | Links | Term | Links |\n",
    "| --- | --- | --- | --- |\n",
    " | Matplotlib | [Data Visualization with Pandas, Matplotlib, and Plotly](09_visualization/visualization.ipynb#cid20)<br/> | Octal | [Working with Text, Part I](14_text_1/text_1.ipynb#cid48)<br/> |\n",
    " | Matplotlib Bar Charts | [Data Visualization with Plotly](10_numpy/numpy.ipynb#cid45)<br/> | `open()` | [File Operations and Comprehensions](07_files_and_comprehensions/files_and_comprehensions.ipynb#cid6)<br/> |\n",
    " | Matplotlib Box Plots | [Data Visualization with Plotly](10_numpy/numpy.ipynb#cid55)<br/> | Opening a Saved Notebook | [Introduction to Python](01_intro_python/intro_python.ipynb#cid70)<br/> |\n",
    " | Matplotlib Categorical Variables | [Data Visualization with Plotly](10_numpy/numpy.ipynb#cid34)<br/> | Operands | [Conditional Statements](03_conditional_statements/s03_conditional_statements.ipynb#cid7)<br/> |\n",
    " | Matplotlib Grouped Bar Chart | [Data Visualization with Plotly](10_numpy/numpy.ipynb#cid47)<br/> | Operators | [Introduction to Python](01_intro_python/intro_python.ipynb#cid14)<br/> |\n",
    " | Matplotlib Hexbin Charts | [Data Visualization with Plotly](10_numpy/numpy.ipynb#cid54)<br/> | `or` | [Conditional Statements](03_conditional_statements/s03_conditional_statements.ipynb#cid18)<br/> |\n",
    " | Matplotlib Interactive Charts | [Data Visualization with Plotly](10_numpy/numpy.ipynb#cid62)<br/> | `ord()` | [File Operations and Comprehensions](07_files_and_comprehensions/files_and_comprehensions.ipynb#cid24)<br/> [Working with Text, Part I](14_text_1/text_1.ipynb#cid55)<br/> |\n",
    " | Matplotlib Keyword Strings | [Data Visualization with Plotly](10_numpy/numpy.ipynb#cid34)<br/> | `os.chdir` | [File Operations and Comprehensions](07_files_and_comprehensions/files_and_comprehensions.ipynb#cid9)<br/> |\n",
    " | Matplotlib Layering Charts | [Data Visualization with Plotly](10_numpy/numpy.ipynb#cid58)<br/> | `os.getcwd()` | [File Operations and Comprehensions](07_files_and_comprehensions/files_and_comprehensions.ipynb#cid9)<br/> |\n",
    " | Matplotlib Line Properties | [Data Visualization with Plotly](10_numpy/numpy.ipynb#cid34)<br/> | Pandas Bar Charts | [Data Visualization with Plotly](10_numpy/numpy.ipynb#cid49)<br/> |\n",
    " | Matplotlib Object Oriented Interface | [Data Visualization with Plotly](10_numpy/numpy.ipynb#cid42)<br/> | Pandas Method Chaining | [Data Visualization with Pandas, Matplotlib, and Plotly](09_visualization/visualization.ipynb#cid12)<br/> [Data Visualization with Plotly](10_numpy/numpy.ipynb#cid23)<br/> |\n",
    " | Matplotlib, Adding Text | [Data Visualization with Plotly](10_numpy/numpy.ipynb#cid38)<br/> | Pandas Package | [Tabular Data](08_tabular_data/tabular_data.ipynb#cid11)<br/> [Data Visualization with Pandas, Matplotlib, and Plotly](09_visualization/visualization.ipynb#cid6)<br/> |\n",
    " | `matplotlib.axis.Axis.grid` | [Data Visualization with Plotly](10_numpy/numpy.ipynb#cid47)<br/> | Pandas, Boolean Indexing | [Tabular Data](08_tabular_data/tabular_data.ipynb#cid36)<br/> |\n",
    " | `matplotlib.axis.Axis.set_facecolor()` | [Data Visualization with Plotly](10_numpy/numpy.ipynb#cid42)<br/> | Pandas, Indexing | [Tabular Data](08_tabular_data/tabular_data.ipynb#cid23)<br/> |\n",
    " | `matplotlib.axis.Axis.set_title()` | [Data Visualization with Plotly](10_numpy/numpy.ipynb#cid42)<br/> | `pandas.DataFrame` | [Tabular Data](08_tabular_data/tabular_data.ipynb#cid21)<br/> |\n",
    " | `matplotlib.axis.Axis.set_xlabel()` | [Data Visualization with Plotly](10_numpy/numpy.ipynb#cid42)<br/> | `pandas.DataFrame.plot` | [Data Visualization with Pandas, Matplotlib, and Plotly](09_visualization/visualization.ipynb#cid10)<br/> |\n",
    " | `matplotlib.axis.Axis.set_yticklabels` | [Data Visualization with Plotly](10_numpy/numpy.ipynb#cid47)<br/> | `pandas.DataFrame.plot.barh` | [Data Visualization with Plotly](10_numpy/numpy.ipynb#cid49)<br/> |\n",
    " | `matplotlib.axis.Axis.set_yticks` | [Data Visualization with Plotly](10_numpy/numpy.ipynb#cid47)<br/> | `pandas.DataFrame.plot.scatter` | [Data Visualization with Pandas, Matplotlib, and Plotly](09_visualization/visualization.ipynb#cid8)<br/> |\n",
    " | `matplotlib.axis.legend` | [Data Visualization with Plotly](10_numpy/numpy.ipynb#cid47)<br/> | `pandas.DataFrame.sample` | [Data Visualization with Plotly](10_numpy/numpy.ipynb#cid25)<br/> |\n",
    " | `matplotlib.firgure.Figure.set_size_inches` | [Data Visualization with Plotly](10_numpy/numpy.ipynb#cid47)<br/> | `pandas.Series` | [Tabular Data](08_tabular_data/tabular_data.ipynb#cid21)<br/> |\n",
    " | `matplotlib.pyplot` | [Data Visualization with Pandas, Matplotlib, and Plotly](09_visualization/visualization.ipynb#cid20)<br/> | `pandas.to_datetime` | [Data Visualization with Pandas, Matplotlib, and Plotly](09_visualization/visualization.ipynb#cid35)<br/> |\n",
    " | `matplotlib.pyplot.barh` | [Data Visualization with Plotly](10_numpy/numpy.ipynb#cid34)<br/> [Data Visualization with Plotly](10_numpy/numpy.ipynb#cid45)<br/> | `pandas.to_datetime()` | [Data Visualization with Pandas, Matplotlib, and Plotly](09_visualization/visualization.ipynb#cid14)<br/> |\n",
    " | `matplotlib.pyplot.subplots` | [Data Visualization with Plotly](10_numpy/numpy.ipynb#cid47)<br/> | Parentheses | [Introduction to Python](01_intro_python/intro_python.ipynb#cid16)<br/> |\n",
    " | `max()` | [File Operations and Comprehensions](07_files_and_comprehensions/files_and_comprehensions.ipynb#cid57)<br/> | `pass` | [Loops](04_loops/loops.ipynb#cid40)<br/> |\n",
    " | Methods | [Data Types](02_data_types/data_types.ipynb#cid26)<br/> | `pathlib` | [Object Oriented Programming](16_classes_2/classes_2.ipynb#cid5)<br/> |\n",
    " | `min()` | [File Operations and Comprehensions](07_files_and_comprehensions/files_and_comprehensions.ipynb#cid57)<br/> | Percent Sign | [Working with Text, Part I](14_text_1/text_1.ipynb#cid40)<br/> |\n",
    " | Miniconda | [Command Line Interfaces and Python Installation](12_python_setup/setup_python.ipynb#cid16)<br/> | Plotly Axes Labels | [Data Visualization with Plotly](10_numpy/numpy.ipynb#cid28)<br/> |\n",
    " | `mkdir` | [Command Line Interfaces and Python Installation](12_python_setup/setup_python.ipynb#cid11)<br/> | Plotly Graph Objects | [Data Visualization with Pandas, Matplotlib, and Plotly](09_visualization/visualization.ipynb#cid25)<br/> |\n",
    " | Modules | [Python Modules and Import Statments](13_modules/modules.ipynb#cid10)<br/> | Plotly Title | [Data Visualization with Plotly](10_numpy/numpy.ipynb#cid28)<br/> |\n",
    " | Monty Python | [Introduction to Python](01_intro_python/intro_python.ipynb#cid2)<br/> | `plotly.express` | [Data Visualization with Plotly](10_numpy/numpy.ipynb#cid7)<br/> |\n",
    " | Multi-Line Strings | [Working with Text, Part I](14_text_1/text_1.ipynb#cid4)<br/> | `plotly.express.bar` | [Data Visualization with Pandas, Matplotlib, and Plotly](09_visualization/visualization.ipynb#cid31)<br/> |\n",
    " | Multiple Inheritance | [Object Oriented Programming](16_classes_2/classes_2.ipynb#cid52)<br/> | `plotly.express.colors` | [Data Visualization with Pandas, Matplotlib, and Plotly](09_visualization/visualization.ipynb#cid43)<br/> |\n",
    " | Multiplication | [Introduction to Python](01_intro_python/intro_python.ipynb#cid14)<br/> | `plotly.express.imshow` | [Data Visualization with Pandas, Matplotlib, and Plotly](09_visualization/visualization.ipynb#cid59)<br/> |\n",
    " | Mutable | [Composite Data Types](06_composite_data/composite_data.ipynb#cid31)<br/> | `plotly.express.scatter` | [Data Visualization with Pandas, Matplotlib, and Plotly](09_visualization/visualization.ipynb#cid23)<br/> [Data Visualization with Plotly](10_numpy/numpy.ipynb#cid26)<br/> |\n",
    " | `mv` | [Command Line Interfaces and Python Installation](12_python_setup/setup_python.ipynb#cid11)<br/> | `plotly.graph_objects` | [Data Visualization with Plotly](10_numpy/numpy.ipynb#cid7)<br/> |\n",
    " | Name Mangling | [Object Oriented Programming](16_classes_2/classes_2.ipynb#cid28)<br/> | `plotly.graph_objects.Figure.show` | [Data Visualization with Plotly](10_numpy/numpy.ipynb#cid26)<br/> |\n",
    " | Named Arguments | [Functions](05_functions/functions.ipynb#cid35)<br/> | Polymorphism | [Object Oriented Programming](16_classes_2/classes_2.ipynb#cid57)<br/> |\n",
    " | Namespaces | [Python Modules and Import Statments](13_modules/modules.ipynb#cid12)<br/> | `pop()` | [Data Types](02_data_types/data_types.ipynb#cid42)<br/> |\n",
    " | Nested Data | [Composite Data Types](06_composite_data/composite_data.ipynb#cid41)<br/> | Powershell | [Command Line Interfaces and Python Installation](12_python_setup/setup_python.ipynb#cid3)<br/> |\n",
    " | Newline Escape Sequence | [Working with Text, Part I](14_text_1/text_1.ipynb#cid11)<br/> | Primitive Values | [Composite Data Types](06_composite_data/composite_data.ipynb#cid2)<br/> |\n",
    " | `None` | [Functions](05_functions/functions.ipynb#cid33)<br/> | `print()` | [Introduction to Python](01_intro_python/intro_python.ipynb#cid12)<br/> [Loops](04_loops/loops.ipynb#cid20)<br/> [Working with Text, Part I](14_text_1/text_1.ipynb#cid21)<br/> |\n",
    " | `not` | [Conditional Statements](03_conditional_statements/s03_conditional_statements.ipynb#cid18)<br/> | Property Decorator | [Object Oriented Programming](16_classes_2/classes_2.ipynb#cid17)<br/> |\n",
    " | Notebooks | [Introduction to Python](01_intro_python/intro_python.ipynb#cid3)<br/> | Property Setter Decorator | [Object Oriented Programming](16_classes_2/classes_2.ipynb#cid21)<br/> |\n",
    " | Numpy | [Data Visualization with Plotly](10_numpy/numpy.ipynb#cid2)<br/> [Data Visualization with Plotly](10_numpy/numpy.ipynb#cid8)<br/> | Pytest | [Classes and Automated Testing](15_classes_1/classes_1.ipynb#cid17)<br/> |\n",
    " | Numpy Math Functions | [Data Visualization with Plotly](10_numpy/numpy.ipynb#cid18)<br/> | Pytest.Raises() | [Classes and Automated Testing](15_classes_1/classes_1.ipynb#cid29)<br/> |\n",
    " | `numpy.arange` | [Data Visualization with Plotly](10_numpy/numpy.ipynb#cid16)<br/> | Python Distributions | [Command Line Interfaces and Python Installation](12_python_setup/setup_python.ipynb#cid13)<br/> |\n",
    " | `numpy.linspace` | [Data Visualization with Plotly](10_numpy/numpy.ipynb#cid17)<br/> | Python Packages | [Command Line Interfaces and Python Installation](12_python_setup/setup_python.ipynb#cid19)<br/> |\n",
    " | Object Oriented Programming | [Object Oriented Programming](16_classes_2/classes_2.ipynb#cid2)<br/> | Python Standard Library | [Python Modules and Import Statments](13_modules/modules.ipynb#cid9)<br/> |"
   ]
  },
  {
   "cell_type": "markdown",
   "id": "d6c0284f",
   "metadata": {
    "tiedown.cell_index": "cid8"
   },
   "source": [
    "<a name=\"cid8\"></a>\n",
    "## Q - S\n",
    "| Term | Links | Term | Links |\n",
    "| --- | --- | --- | --- |\n",
    " | Quotation Marks | [Working with Text, Part I](14_text_1/text_1.ipynb#cid9)<br/> | Slashes | [Introduction to Python](01_intro_python/intro_python.ipynb#cid39)<br/> |\n",
    " | Quotes | [Introduction to Python](01_intro_python/intro_python.ipynb#cid37)<br/> | Slicing | [Introduction to Python](01_intro_python/intro_python.ipynb#cid43)<br/> |\n",
    " | `radd()` | [Classes and Automated Testing](15_classes_1/classes_1.ipynb#cid37)<br/> | Source Code Editor | [Python Modules and Import Statments](13_modules/modules.ipynb#cid3)<br/> |\n",
    " | `raise` | [Classes and Automated Testing](15_classes_1/classes_1.ipynb#cid23)<br/> | Special Methods | [Classes and Automated Testing](15_classes_1/classes_1.ipynb#cid30)<br/> [Object Oriented Programming](16_classes_2/classes_2.ipynb#cid15)<br/> |\n",
    " | `range()` | [Loops](04_loops/loops.ipynb#cid19)<br/> | Statement | [Conditional Statements](03_conditional_statements/s03_conditional_statements.ipynb#cid2)<br/> |\n",
    " | Raw String | [Working with Text, Part I](14_text_1/text_1.ipynb#cid18)<br/> | Statements | [Functions](05_functions/functions.ipynb#cid9)<br/> |\n",
    " | `rd` | [Command Line Interfaces and Python Installation](12_python_setup/setup_python.ipynb#cid11)<br/> | `str()` | [Data Types](02_data_types/data_types.ipynb#cid16)<br/> [Classes and Automated Testing](15_classes_1/classes_1.ipynb#cid34)<br/> |\n",
    " | `readlines()` | [File Operations and Comprehensions](07_files_and_comprehensions/files_and_comprehensions.ipynb#cid17)<br/> | String Concatenation (Joining) | [Introduction to Python](01_intro_python/intro_python.ipynb#cid41)<br/> |\n",
    " | `return` | [Functions](05_functions/functions.ipynb#cid31)<br/> | String Indexing | [Introduction to Python](01_intro_python/intro_python.ipynb#cid43)<br/> |\n",
    " | Return Statement | [Functions](05_functions/functions.ipynb#cid31)<br/> | String Length | [Introduction to Python](01_intro_python/intro_python.ipynb#cid42)<br/> |\n",
    " | Return Values | [Data Types](02_data_types/data_types.ipynb#cid5)<br/> [Functions](05_functions/functions.ipynb#cid19)<br/> | String Literals | [Working with Text, Part I](14_text_1/text_1.ipynb#cid3)<br/> |\n",
    " | Root Mean Square | [Conditional Statements](03_conditional_statements/s03_conditional_statements.ipynb#cid34)<br/> | Strings | [Introduction to Python](01_intro_python/intro_python.ipynb#cid37)<br/> [Data Types](02_data_types/data_types.ipynb#cid13)<br/> |\n",
    " | `round()` | [Introduction to Python](01_intro_python/intro_python.ipynb#cid29)<br/> | Style Guides | [Conditional Statements](03_conditional_statements/s03_conditional_statements.ipynb#cid4)<br/> |\n",
    " | Saving a Notebook | [Introduction to Python](01_intro_python/intro_python.ipynb#cid70)<br/> | Subtraction | [Introduction to Python](01_intro_python/intro_python.ipynb#cid14)<br/> |\n",
    " | Scalars | [Composite Data Types](06_composite_data/composite_data.ipynb#cid2)<br/> | `super()` | [Object Oriented Programming](16_classes_2/classes_2.ipynb#cid44)<br/> |\n",
    " | Seaborn | [Data Visualization with Pandas, Matplotlib, and Plotly](09_visualization/visualization.ipynb#cid20)<br/> | `sys` | [Python Modules and Import Statments](13_modules/modules.ipynb#cid9)<br/> |\n",
    " | Self | [Classes and Automated Testing](15_classes_1/classes_1.ipynb#cid8)<br/> | `sys.argv` | [Python Modules and Import Statments](13_modules/modules.ipynb#cid9)<br/> |\n",
    " | `set()` | [File Operations and Comprehensions](07_files_and_comprehensions/files_and_comprehensions.ipynb#cid43)<br/> | `sys.path` | [Object Oriented Programming](16_classes_2/classes_2.ipynb#cid5)<br/> |\n",
    " | Shells | [Command Line Interfaces and Python Installation](12_python_setup/setup_python.ipynb#cid3)<br/> |  |  |"
   ]
  },
  {
   "cell_type": "markdown",
   "id": "9066bff7",
   "metadata": {
    "tiedown.cell_index": "cid9"
   },
   "source": [
    "<a name=\"cid9\"></a>\n",
    "## T - V\n",
    "| Term | Links | Term | Links |\n",
    "| --- | --- | --- | --- |\n",
    " | Terminals | [Command Line Interfaces and Python Installation](12_python_setup/setup_python.ipynb#cid3)<br/> | UCI Machine Learning Repository | [Data Analysis Project](11_data_project/data-project.ipynb#cid5)<br/> |\n",
    " | Test Driven Development | [Classes and Automated Testing](15_classes_1/classes_1.ipynb#cid58)<br/> | Unary Operators | [Introduction to Python](01_intro_python/intro_python.ipynb#cid14)<br/> |\n",
    " | Text Cells | [Introduction to Python](01_intro_python/intro_python.ipynb#cid3)<br/> | Unicode | [Working with Text, Part I](14_text_1/text_1.ipynb#cid60)<br/> |\n",
    " | `title()` | [Data Types](02_data_types/data_types.ipynb#cid31)<br/> | Unit Test | [Classes and Automated Testing](15_classes_1/classes_1.ipynb#cid19)<br/> |\n",
    " | `tuple()` | [Composite Data Types](06_composite_data/composite_data.ipynb#cid39)<br/> | `upper()` | [Data Types](02_data_types/data_types.ipynb#cid25)<br/> |\n",
    " | Tuples | [Composite Data Types](06_composite_data/composite_data.ipynb#cid30)<br/> | Variable Names | [Introduction to Python](01_intro_python/intro_python.ipynb#cid25)<br/> |\n",
    " | Tuples, Packaing | [Composite Data Types](06_composite_data/composite_data.ipynb#cid34)<br/> | Variables | [Introduction to Python](01_intro_python/intro_python.ipynb#cid20)<br/> |\n",
    " | Tuples, Unpacking | [Composite Data Types](06_composite_data/composite_data.ipynb#cid34)<br/> | Visualization, Theory | [Data Visualization with Pandas, Matplotlib, and Plotly](09_visualization/visualization.ipynb#cid56)<br/> |\n",
    " | Type Conversions | [Data Types](02_data_types/data_types.ipynb#cid16)<br/> | VS Code | [Command Line Interfaces and Python Installation](12_python_setup/setup_python.ipynb#cid28)<br/> |\n",
    " | `type()` | [Data Types](02_data_types/data_types.ipynb#cid6)<br/> [Data Types](02_data_types/data_types.ipynb#cid7)<br/> | Vs Code | [Python Modules and Import Statments](13_modules/modules.ipynb#cid4)<br/> |"
   ]
  },
  {
   "cell_type": "markdown",
   "id": "175037e5",
   "metadata": {
    "tiedown.cell_index": "cid10"
   },
   "source": [
    "<a name=\"cid10\"></a>\n",
    "## X - Z\n",
    "| Term | Links | Term | Links |\n",
    "| --- | --- | --- | --- |"
   ]
  },
  {
   "cell_type": "markdown",
   "id": "6d6e118c-eef8-4c5d-ae5f-482ab439dbc4",
   "metadata": {
    "tiedown.cell_index": "cid11"
   },
   "source": [
    "<a name=\"cid11\"></a>\n",
    "Prev:  | [Table of Contents](toc.ipynb) | Next:"
   ]
  }
 ],
 "metadata": {
  "kernelspec": {
   "display_name": "Python 3 (ipykernel)",
   "language": "python",
   "name": "python3"
  },
  "language_info": {
   "codemirror_mode": {
    "name": "ipython",
    "version": 3
   },
   "file_extension": ".py",
   "mimetype": "text/x-python",
   "name": "python",
   "nbconvert_exporter": "python",
   "pygments_lexer": "ipython3",
   "version": "3.11.5"
  }
 },
 "nbformat": 4,
 "nbformat_minor": 5
}
