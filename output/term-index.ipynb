{
 "cells": [
  {
   "cell_type": "markdown",
   "id": "1783cff3-7acc-4f5a-b85b-a0f26b1c5b0e",
   "metadata": {
    "tiedown.cell_index": "cid1"
   },
   "source": [
    "<a name=\"cid1\"></a>\n",
    "Prev:  | [Table of Contents](toc.ipynb) | Next:"
   ]
  },
  {
   "cell_type": "markdown",
   "id": "e519faea",
   "metadata": {
    "tiedown.cell_index": "cid2"
   },
   "source": [
    "<a name=\"cid2\"></a>\n",
    "# Index\n",
    "Key terms are listed below, with links to the portion of the FRC Python Tutorial that explains the term."
   ]
  },
  {
   "cell_type": "markdown",
   "id": "d139988a",
   "metadata": {
    "tiedown.cell_index": "cid3"
   },
   "source": [
    "<a name=\"cid3\"></a>\n",
    "## Symbols\n",
    "| Term | Links | Term | Links |\n",
    "| --- | --- | --- | --- |\n",
    " | `%=` | [Loops](04_loops/loops.ipynb#cid7)<br/> | `/=` | [Loops](04_loops/loops.ipynb#cid7)<br/> |\n",
    " | `*` | [Introduction to Python](01_intro_python/intro_python.ipynb#cid14)<br/> | `:` | [Introduction to Python](01_intro_python/intro_python.ipynb#cid45)<br/> |\n",
    " | `**` | [Introduction to Python](01_intro_python/intro_python.ipynb#cid14)<br/> | `<` | [Conditional Statements](03_conditional_statements/s03_conditional_statements.ipynb#cid13)<br/> |\n",
    " | `*=` | [Loops](04_loops/loops.ipynb#cid7)<br/> | `<=` | [Conditional Statements](03_conditional_statements/s03_conditional_statements.ipynb#cid13)<br/> |\n",
    " | `+` | [Introduction to Python](01_intro_python/intro_python.ipynb#cid14)<br/> | `==` | [Conditional Statements](03_conditional_statements/s03_conditional_statements.ipynb#cid6)<br/> |\n",
    " | `+=` | [Loops](04_loops/loops.ipynb#cid6)<br/> | `>` | [Conditional Statements](03_conditional_statements/s03_conditional_statements.ipynb#cid13)<br/> |\n",
    " | `-` | [Introduction to Python](01_intro_python/intro_python.ipynb#cid14)<br/> | `>=` | [Conditional Statements](03_conditional_statements/s03_conditional_statements.ipynb#cid13)<br/> |\n",
    " | `-=` | [Loops](04_loops/loops.ipynb#cid6)<br/> | `\\n` | [Conditional Statements](03_conditional_statements/s03_conditional_statements.ipynb#cid23)<br/> [File Operations and Comprehensions](07_files_and_comprehensions/files_and_comprehensions.ipynb#cid22)<br/> |\n",
    " | .. | [Command Line Interfaces and Python Installation](12_python_setup/setup_python.ipynb#cid7)<br/> | `__init__()` | [Classes and Automated Testing](15_classes_1/classes_1.ipynb#cid7)<br/> |\n",
    " | `/` | [Introduction to Python](01_intro_python/intro_python.ipynb#cid14)<br/> | __Name__ | [Python Modules and Import Statments](13_modules/modules.ipynb#cid18)<br/> |\n",
    " | `//=` | [Loops](04_loops/loops.ipynb#cid7)<br/> |  |  |"
   ]
  },
  {
   "cell_type": "markdown",
   "id": "8d74ac6c",
   "metadata": {
    "tiedown.cell_index": "cid4"
   },
   "source": [
    "<a name=\"cid4\"></a>\n",
    "## A - D\n",
    "| Term | Links | Term | Links |\n",
    "| --- | --- | --- | --- |\n",
    " | `add()` | [Classes and Automated Testing](15_classes_1/classes_1.ipynb#cid37)<br/> | clis | [Command Line Interfaces and Python Installation](12_python_setup/setup_python.ipynb#cid3)<br/> |\n",
    " | Addition | [Introduction to Python](01_intro_python/intro_python.ipynb#cid14)<br/> | `close()` | [File Operations and Comprehensions](07_files_and_comprehensions/files_and_comprehensions.ipynb#cid19)<br/> |\n",
    " | Advice | [Data Types](02_data_types/data_types.ipynb#cid3)<br/> | Cls | [Command Line Interfaces and Python Installation](12_python_setup/setup_python.ipynb#cid10)<br/> |\n",
    " | Anaconda Environments | [Command Line Interfaces and Python Installation](12_python_setup/setup_python.ipynb#cid19)<br/> | Code Blocks | [Functions](05_functions/functions.ipynb#cid12)<br/> |\n",
    " | Anaconda Powershell Prompt | [Command Line Interfaces and Python Installation](12_python_setup/setup_python.ipynb#cid3)<br/> | Code Cells | [Introduction to Python](01_intro_python/intro_python.ipynb#cid3)<br/> |\n",
    " | `and` | [Conditional Statements](03_conditional_statements/s03_conditional_statements.ipynb#cid18)<br/> | Command Line | [Python Modules and Import Statments](13_modules/modules.ipynb#cid9)<br/> |\n",
    " | `append()` | [Data Types](02_data_types/data_types.ipynb#cid38)<br/> | Command Line Arguments | [Python Modules and Import Statments](13_modules/modules.ipynb#cid9)<br/> |\n",
    " | Arguments | [Introduction to Python](01_intro_python/intro_python.ipynb#cid30)<br/> [Data Types](02_data_types/data_types.ipynb#cid4)<br/> [Functions](05_functions/functions.ipynb#cid19)<br/> | Command Line Interfaces | [Command Line Interfaces and Python Installation](12_python_setup/setup_python.ipynb#cid2)<br/> |\n",
    " | Arithmetic Mean | [Conditional Statements](03_conditional_statements/s03_conditional_statements.ipynb#cid34)<br/> | Command Line Interpreter | [File Operations and Comprehensions](07_files_and_comprehensions/files_and_comprehensions.ipynb#cid3)<br/> |\n",
    " | `as_integer_ratio()` | [Data Types](02_data_types/data_types.ipynb#cid28)<br/> | Comments | [Introduction to Python](01_intro_python/intro_python.ipynb#cid7)<br/> |\n",
    " | ASCII | [Working with Text, Part I](14_text_1/text_1.ipynb#cid55)<br/> | Comparison Operators | [Conditional Statements](03_conditional_statements/s03_conditional_statements.ipynb#cid6)<br/> [Conditional Statements](03_conditional_statements/s03_conditional_statements.ipynb#cid13)<br/> |\n",
    " | `assert` | [Classes and Automated Testing](15_classes_1/classes_1.ipynb#cid14)<br/> | Composite Data Types | [Data Types](02_data_types/data_types.ipynb#cid32)<br/> |\n",
    " | Assert Statements | [Classes and Automated Testing](15_classes_1/classes_1.ipynb#cid14)<br/> | Composite Types | [Composite Data Types](06_composite_data/composite_data.ipynb#cid2)<br/> |\n",
    " | Assignment Statement | [Conditional Statements](03_conditional_statements/s03_conditional_statements.ipynb#cid2)<br/> | Composition | [Object Oriented Programming](16_classes_2/classes_2.ipynb#cid34)<br/> |\n",
    " | Assignment Statements | [Loops](04_loops/loops.ipynb#cid4)<br/> | Concatenation | [Working with Text, Part I](14_text_1/text_1.ipynb#cid20)<br/> |\n",
    " | Atomic | [Data Types](02_data_types/data_types.ipynb#cid32)<br/> | `conda activate` | [Command Line Interfaces and Python Installation](12_python_setup/setup_python.ipynb#cid22)<br/> |\n",
    " | Automated Testing | [Classes and Automated Testing](15_classes_1/classes_1.ipynb#cid13)<br/> | `conda create` | [Command Line Interfaces and Python Installation](12_python_setup/setup_python.ipynb#cid21)<br/> |\n",
    " | Backslash | [Working with Text, Part I](14_text_1/text_1.ipynb#cid17)<br/> | `conda deactivate` | [Command Line Interfaces and Python Installation](12_python_setup/setup_python.ipynb#cid22)<br/> |\n",
    " | Backwards Slash | [Introduction to Python](01_intro_python/intro_python.ipynb#cid39)<br/> | Conditional Statements | [Conditional Statements](03_conditional_statements/s03_conditional_statements.ipynb#cid5)<br/> |\n",
    " | Binary Operators | [Introduction to Python](01_intro_python/intro_python.ipynb#cid14)<br/> | `continue` | [Loops](04_loops/loops.ipynb#cid31)<br/> |\n",
    " | `bit_length()` | [Data Types](02_data_types/data_types.ipynb#cid29)<br/> | Control Characters | [File Operations and Comprehensions](07_files_and_comprehensions/files_and_comprehensions.ipynb#cid25)<br/> |\n",
    " | Bokeh | [Data Visualization with Bokeh](10_visualization_bokeh/bokeh.ipynb#cid2)<br/> | `cp` | [Command Line Interfaces and Python Installation](12_python_setup/setup_python.ipynb#cid11)<br/> |\n",
    " | Bokeh Examples | [Data Visualization with Bokeh](10_visualization_bokeh/bokeh.ipynb#cid16)<br/> | Csv Files | [Tabular Data](08_tabular_data/tabular_data.ipynb#cid6)<br/> |\n",
    " | Bokeh Figure Objects | [Data Visualization with Bokeh](10_visualization_bokeh/bokeh.ipynb#cid11)<br/> | Csv Module | [Tabular Data](08_tabular_data/tabular_data.ipynb#cid8)<br/> |\n",
    " | `bokeh.io.output_notebook` | [Data Visualization with Bokeh](10_visualization_bokeh/bokeh.ipynb#cid5)<br/> | Current Working Directory | [Command Line Interfaces and Python Installation](12_python_setup/setup_python.ipynb#cid4)<br/> |\n",
    " | `bokeh.plotting.figure` | [Data Visualization with Bokeh](10_visualization_bokeh/bokeh.ipynb#cid10)<br/> | Data Analysis | [Data Analysis Project](11_data_project/data-project.ipynb#cid2)<br/> |\n",
    " | `bokeh.plotting.figure.scatter` | [Data Visualization with Bokeh](10_visualization_bokeh/bokeh.ipynb#cid10)<br/> | Data Vizualization | [Data Visualization with MatPlotlib](09_visualization_matplotlib/matplotlib.ipynb#cid2)<br/> |\n",
    " | `bokeh.plotting.show` | [Data Visualization with Bokeh](10_visualization_bokeh/bokeh.ipynb#cid10)<br/> | Data.Gov | [Data Analysis Project](11_data_project/data-project.ipynb#cid5)<br/> |\n",
    " | `bokeh.plotting.yaxis` | [Data Visualization with Bokeh](10_visualization_bokeh/bokeh.ipynb#cid10)<br/> | Dataframe | [Tabular Data](08_tabular_data/tabular_data.ipynb#cid13)<br/> |\n",
    " | `bool()` | [Conditional Statements](03_conditional_statements/s03_conditional_statements.ipynb#cid9)<br/> | `DataFrame.loc` | [Tabular Data](08_tabular_data/tabular_data.ipynb#cid28)<br/> |\n",
    " | Boole, George | [Conditional Statements](03_conditional_statements/s03_conditional_statements.ipynb#cid8)<br/> | Datasets | [Data Analysis Project](11_data_project/data-project.ipynb#cid4)<br/> |\n",
    " | Boolean Expressions | [Conditional Statements](03_conditional_statements/s03_conditional_statements.ipynb#cid20)<br/> | `def` | [Functions](05_functions/functions.ipynb#cid16)<br/> |\n",
    " | Booleans | [Conditional Statements](03_conditional_statements/s03_conditional_statements.ipynb#cid8)<br/> | Default Argument Values | [Functions](05_functions/functions.ipynb#cid38)<br/> |\n",
    " | `break` | [Loops](04_loops/loops.ipynb#cid29)<br/> | `del` | [Data Types](02_data_types/data_types.ipynb#cid44)<br/> [Command Line Interfaces and Python Installation](12_python_setup/setup_python.ipynb#cid11)<br/> |\n",
    " | Built-In Functions | [Functions](05_functions/functions.ipynb#cid44)<br/> | `dict()` | [Composite Data Types](06_composite_data/composite_data.ipynb#cid13)<br/> |\n",
    " | Case Sensitive | [Introduction to Python](01_intro_python/intro_python.ipynb#cid22)<br/> | `dict.items()` | [Composite Data Types](06_composite_data/composite_data.ipynb#cid17)<br/> |\n",
    " | `cd` | [Command Line Interfaces and Python Installation](12_python_setup/setup_python.ipynb#cid6)<br/> | `dict.keys()` | [Composite Data Types](06_composite_data/composite_data.ipynb#cid17)<br/> |\n",
    " | `char()` | [Working with Text, Part I](14_text_1/text_1.ipynb#cid55)<br/> | `dict.values()` | [Composite Data Types](06_composite_data/composite_data.ipynb#cid17)<br/> |\n",
    " | `class` | [Classes and Automated Testing](15_classes_1/classes_1.ipynb#cid6)<br/> | Dictionaries | [Composite Data Types](06_composite_data/composite_data.ipynb#cid4)<br/> |\n",
    " | Class Methods | [Classes and Automated Testing](15_classes_1/classes_1.ipynb#cid11)<br/> | Dictionaries, Keys | [Composite Data Types](06_composite_data/composite_data.ipynb#cid6)<br/> |\n",
    " | Class Properties | [Classes and Automated Testing](15_classes_1/classes_1.ipynb#cid7)<br/> | Dictionaries, Values | [Composite Data Types](06_composite_data/composite_data.ipynb#cid6)<br/> |\n",
    " | Class Property | [Classes and Automated Testing](15_classes_1/classes_1.ipynb#cid20)<br/> | Dictionary Comprehensions | [File Operations and Comprehensions](07_files_and_comprehensions/files_and_comprehensions.ipynb#cid38)<br/> |\n",
    " | Classes | [Classes and Automated Testing](15_classes_1/classes_1.ipynb#cid6)<br/> | Division | [Introduction to Python](01_intro_python/intro_python.ipynb#cid14)<br/> |\n",
    " | Clear | [Command Line Interfaces and Python Installation](12_python_setup/setup_python.ipynb#cid10)<br/> | Download Python Class | [Command Line Interfaces and Python Installation](12_python_setup/setup_python.ipynb#cid30)<br/> |\n",
    " | Cli | [File Operations and Comprehensions](07_files_and_comprehensions/files_and_comprehensions.ipynb#cid3)<br/> |  |  |"
   ]
  },
  {
   "cell_type": "markdown",
   "id": "b2f8f894",
   "metadata": {
    "tiedown.cell_index": "cid5"
   },
   "source": [
    "<a name=\"cid5\"></a>\n",
    "## E - H\n",
    "| Term | Links | Term | Links |\n",
    "| --- | --- | --- | --- |\n",
    " | `elif` | [Conditional Statements](03_conditional_statements/s03_conditional_statements.ipynb#cid25)<br/> | Fivethirtyeight | [Data Analysis Project](11_data_project/data-project.ipynb#cid5)<br/> |\n",
    " | `else` | [Conditional Statements](03_conditional_statements/s03_conditional_statements.ipynb#cid22)<br/> | `float()` | [Data Types](02_data_types/data_types.ipynb#cid16)<br/> |\n",
    " | Else If | [Conditional Statements](03_conditional_statements/s03_conditional_statements.ipynb#cid25)<br/> | Floats | [Data Types](02_data_types/data_types.ipynb#cid8)<br/> |\n",
    " | Encapsulation | [Object Oriented Programming](16_classes_2/classes_2.ipynb#cid28)<br/> | For Loops | [Loops](04_loops/loops.ipynb#cid17)<br/> |\n",
    " | `encode()` | [Working with Text, Part I](14_text_1/text_1.ipynb#cid62)<br/> | Format Strings | [Working with Text, Part I](14_text_1/text_1.ipynb#cid31)<br/> |\n",
    " | Encoding | [Working with Text, Part I](14_text_1/text_1.ipynb#cid46)<br/> | `format()` | [Working with Text, Part I](14_text_1/text_1.ipynb#cid31)<br/> |\n",
    " | End Of Line Character | [File Operations and Comprehensions](07_files_and_comprehensions/files_and_comprehensions.ipynb#cid22)<br/> | Forwards Slash | [Introduction to Python](01_intro_python/intro_python.ipynb#cid39)<br/> |\n",
    " | End-To-End Test | [Classes and Automated Testing](15_classes_1/classes_1.ipynb#cid19)<br/> | Functions | [Functions](05_functions/functions.ipynb#cid2)<br/> |\n",
    " | Equality Operator | [Conditional Statements](03_conditional_statements/s03_conditional_statements.ipynb#cid6)<br/> | Geometric Mean | [Conditional Statements](03_conditional_statements/s03_conditional_statements.ipynb#cid34)<br/> |\n",
    " | Errors | [Classes and Automated Testing](15_classes_1/classes_1.ipynb#cid23)<br/> | `Get-Help` | [Command Line Interfaces and Python Installation](12_python_setup/setup_python.ipynb#cid9)<br/> |\n",
    " | Escape Sequences | [File Operations and Comprehensions](07_files_and_comprehensions/files_and_comprehensions.ipynb#cid25)<br/> [Working with Text, Part I](14_text_1/text_1.ipynb#cid8)<br/> | Git | [Command Line Interfaces and Python Installation](12_python_setup/setup_python.ipynb#cid29)<br/> |\n",
    " | Exploratory Data Analysis (EDA) | [Data Analysis Project](11_data_project/data-project.ipynb#cid7)<br/> | `git clone` | [Command Line Interfaces and Python Installation](12_python_setup/setup_python.ipynb#cid30)<br/> |\n",
    " | Exponentiation | [Introduction to Python](01_intro_python/intro_python.ipynb#cid14)<br/> | Google Colab | [Introduction to Python](01_intro_python/intro_python.ipynb#cid3)<br/> |\n",
    " | Expressions | [Functions](05_functions/functions.ipynb#cid3)<br/> | Google Drive | [Introduction to Python](01_intro_python/intro_python.ipynb#cid70)<br/> |\n",
    " | Factorial | [Loops](04_loops/loops.ipynb#cid15)<br/> | Greater Than Operator | [Conditional Statements](03_conditional_statements/s03_conditional_statements.ipynb#cid13)<br/> |\n",
    " | Fibonnaci Sequence | [Loops](04_loops/loops.ipynb#cid11)<br/> | Greater Than Or Equal Operator | [Conditional Statements](03_conditional_statements/s03_conditional_statements.ipynb#cid13)<br/> |\n",
    " | File Operations | [File Operations and Comprehensions](07_files_and_comprehensions/files_and_comprehensions.ipynb#cid6)<br/> | Guido van Rossum | [Introduction to Python](01_intro_python/intro_python.ipynb#cid2)<br/> |\n",
    " | FIRST Lego League | [Conditional Statements](03_conditional_statements/s03_conditional_statements.ipynb#cid26)<br/> | `help` | [Command Line Interfaces and Python Installation](12_python_setup/setup_python.ipynb#cid9)<br/> |\n",
    " | FIRST Robotics Competition | [Conditional Statements](03_conditional_statements/s03_conditional_statements.ipynb#cid26)<br/> | Horizontal Tab | [Working with Text, Part I](14_text_1/text_1.ipynb#cid15)<br/> |\n",
    " | FIRST Robotics Competitions (FRC) | [Introduction to Python](01_intro_python/intro_python.ipynb#cid26)<br/> | Hypothesis | [Data Analysis Project](11_data_project/data-project.ipynb#cid7)<br/> |\n",
    " | FIRST Tech Challenge | [Conditional Statements](03_conditional_statements/s03_conditional_statements.ipynb#cid26)<br/> |  |  |"
   ]
  },
  {
   "cell_type": "markdown",
   "id": "f33470bf",
   "metadata": {
    "tiedown.cell_index": "cid6"
   },
   "source": [
    "<a name=\"cid6\"></a>\n",
    "## I - L\n",
    "| Term | Links | Term | Links |\n",
    "| --- | --- | --- | --- |\n",
    " | `id()` | [Data Types](02_data_types/data_types.ipynb#cid27)<br/> | `json.dump()` | [File Operations and Comprehensions](07_files_and_comprehensions/files_and_comprehensions.ipynb#cid33)<br/> |\n",
    " | `if` | [Conditional Statements](03_conditional_statements/s03_conditional_statements.ipynb#cid5)<br/> [Conditional Statements](03_conditional_statements/s03_conditional_statements.ipynb#cid22)<br/> | `json.load()` | [File Operations and Comprehensions](07_files_and_comprehensions/files_and_comprehensions.ipynb#cid33)<br/> |\n",
    " | if Statement | [Conditional Statements](03_conditional_statements/s03_conditional_statements.ipynb#cid5)<br/> | Jupyterlab | [Command Line Interfaces and Python Installation](12_python_setup/setup_python.ipynb#cid25)<br/> |\n",
    " | If Statement | [Conditional Statements](03_conditional_statements/s03_conditional_statements.ipynb#cid22)<br/> | Kaggle | [Data Analysis Project](11_data_project/data-project.ipynb#cid4)<br/> |\n",
    " | Immutable | [Composite Data Types](06_composite_data/composite_data.ipynb#cid31)<br/> | Keyword | [Data Types](02_data_types/data_types.ipynb#cid44)<br/> [Data Types](02_data_types/data_types.ipynb#cid44)<br/> |\n",
    " | `import` | [Python Modules and Import Statments](13_modules/modules.ipynb#cid13)<br/> | Keyword Arguments | [Functions](05_functions/functions.ipynb#cid35)<br/> |\n",
    " | Inheritance | [Object Oriented Programming](16_classes_2/classes_2.ipynb#cid41)<br/> | `len()` | [Introduction to Python](01_intro_python/intro_python.ipynb#cid42)<br/> |\n",
    " | `input()` | [Data Types](02_data_types/data_types.ipynb#cid54)<br/> | Less Than Operator | [Conditional Statements](03_conditional_statements/s03_conditional_statements.ipynb#cid13)<br/> |\n",
    " | Installing Python | [Command Line Interfaces and Python Installation](12_python_setup/setup_python.ipynb#cid13)<br/> | Less Than Or Equal Operator | [Conditional Statements](03_conditional_statements/s03_conditional_statements.ipynb#cid13)<br/> |\n",
    " | Instance Property | [Classes and Automated Testing](15_classes_1/classes_1.ipynb#cid20)<br/> | Line Continuation | [Conditional Statements](03_conditional_statements/s03_conditional_statements.ipynb#cid3)<br/> |\n",
    " | `int()` | [Data Types](02_data_types/data_types.ipynb#cid16)<br/> | List Comprehensions | [File Operations and Comprehensions](07_files_and_comprehensions/files_and_comprehensions.ipynb#cid35)<br/> |\n",
    " | Integers | [Data Types](02_data_types/data_types.ipynb#cid7)<br/> | Lists | [Data Types](02_data_types/data_types.ipynb#cid32)<br/> |\n",
    " | Integration Test | [Classes and Automated Testing](15_classes_1/classes_1.ipynb#cid19)<br/> | Literals | [Data Types](02_data_types/data_types.ipynb#cid4)<br/> [Functions](05_functions/functions.ipynb#cid4)<br/> |\n",
    " | `isdigit()` | [Data Types](02_data_types/data_types.ipynb#cid28)<br/> | Logical Operators | [Conditional Statements](03_conditional_statements/s03_conditional_statements.ipynb#cid17)<br/> |\n",
    " | `isinstance()` | [Object Oriented Programming](16_classes_2/classes_2.ipynb#cid49)<br/> | Loops | [Loops](04_loops/loops.ipynb#cid3)<br/> |\n",
    " | `isupper()` | [Data Types](02_data_types/data_types.ipynb#cid28)<br/> | `lower()` | [Data Types](02_data_types/data_types.ipynb#cid28)<br/> |\n",
    " | `join()` | [Working with Text, Part I](14_text_1/text_1.ipynb#cid37)<br/> | `ls` | [Command Line Interfaces and Python Installation](12_python_setup/setup_python.ipynb#cid5)<br/> |\n",
    " | Json | [File Operations and Comprehensions](07_files_and_comprehensions/files_and_comprehensions.ipynb#cid31)<br/> |  |  |"
   ]
  },
  {
   "cell_type": "markdown",
   "id": "54a9e8b8",
   "metadata": {
    "tiedown.cell_index": "cid7"
   },
   "source": [
    "<a name=\"cid7\"></a>\n",
    "## M - P\n",
    "| Term | Links | Term | Links |\n",
    "| --- | --- | --- | --- |\n",
    " | Matplotlib | [Data Visualization with MatPlotlib](09_visualization_matplotlib/matplotlib.ipynb#cid2)<br/> | Nested Data | [Composite Data Types](06_composite_data/composite_data.ipynb#cid41)<br/> |\n",
    " | Matplotlib Bar Charts | [Data Visualization with MatPlotlib](09_visualization_matplotlib/matplotlib.ipynb#cid46)<br/> | Newline Escape Sequence | [Working with Text, Part I](14_text_1/text_1.ipynb#cid11)<br/> |\n",
    " | Matplotlib Box Plots | [Data Visualization with MatPlotlib](09_visualization_matplotlib/matplotlib.ipynb#cid56)<br/> | `None` | [Functions](05_functions/functions.ipynb#cid33)<br/> |\n",
    " | Matplotlib Categorical Variables | [Data Visualization with MatPlotlib](09_visualization_matplotlib/matplotlib.ipynb#cid35)<br/> | `not` | [Conditional Statements](03_conditional_statements/s03_conditional_statements.ipynb#cid18)<br/> |\n",
    " | Matplotlib Grouped Bar Chart | [Data Visualization with MatPlotlib](09_visualization_matplotlib/matplotlib.ipynb#cid48)<br/> | Notebooks | [Introduction to Python](01_intro_python/intro_python.ipynb#cid3)<br/> |\n",
    " | Matplotlib Hexbin Charts | [Data Visualization with MatPlotlib](09_visualization_matplotlib/matplotlib.ipynb#cid55)<br/> | Numpy | [Data Visualization with MatPlotlib](09_visualization_matplotlib/matplotlib.ipynb#cid8)<br/> |\n",
    " | Matplotlib Interactive Charts | [Data Visualization with MatPlotlib](09_visualization_matplotlib/matplotlib.ipynb#cid63)<br/> | Numpy Math Functions | [Data Visualization with MatPlotlib](09_visualization_matplotlib/matplotlib.ipynb#cid18)<br/> |\n",
    " | Matplotlib Keyword Strings | [Data Visualization with MatPlotlib](09_visualization_matplotlib/matplotlib.ipynb#cid35)<br/> | `numpy.arange` | [Data Visualization with MatPlotlib](09_visualization_matplotlib/matplotlib.ipynb#cid16)<br/> |\n",
    " | Matplotlib Layering Charts | [Data Visualization with MatPlotlib](09_visualization_matplotlib/matplotlib.ipynb#cid59)<br/> | `numpy.linspace` | [Data Visualization with MatPlotlib](09_visualization_matplotlib/matplotlib.ipynb#cid17)<br/> |\n",
    " | Matplotlib Line Properties | [Data Visualization with MatPlotlib](09_visualization_matplotlib/matplotlib.ipynb#cid35)<br/> | Object Oriented Programming | [Object Oriented Programming](16_classes_2/classes_2.ipynb#cid2)<br/> |\n",
    " | Matplotlib Object Oriented Interface | [Data Visualization with MatPlotlib](09_visualization_matplotlib/matplotlib.ipynb#cid43)<br/> | Octal | [Working with Text, Part I](14_text_1/text_1.ipynb#cid48)<br/> |\n",
    " | Matplotlib, Adding Text | [Data Visualization with MatPlotlib](09_visualization_matplotlib/matplotlib.ipynb#cid39)<br/> | `open()` | [File Operations and Comprehensions](07_files_and_comprehensions/files_and_comprehensions.ipynb#cid6)<br/> |\n",
    " | `matplotlib.axis.Axis.grid` | [Data Visualization with MatPlotlib](09_visualization_matplotlib/matplotlib.ipynb#cid48)<br/> | Opening a Saved Notebook | [Introduction to Python](01_intro_python/intro_python.ipynb#cid70)<br/> |\n",
    " | `matplotlib.axis.Axis.set_facecolor()` | [Data Visualization with MatPlotlib](09_visualization_matplotlib/matplotlib.ipynb#cid43)<br/> | Operands | [Conditional Statements](03_conditional_statements/s03_conditional_statements.ipynb#cid7)<br/> |\n",
    " | `matplotlib.axis.Axis.set_title()` | [Data Visualization with MatPlotlib](09_visualization_matplotlib/matplotlib.ipynb#cid43)<br/> | Operators | [Introduction to Python](01_intro_python/intro_python.ipynb#cid14)<br/> |\n",
    " | `matplotlib.axis.Axis.set_xlabel()` | [Data Visualization with MatPlotlib](09_visualization_matplotlib/matplotlib.ipynb#cid43)<br/> | `or` | [Conditional Statements](03_conditional_statements/s03_conditional_statements.ipynb#cid18)<br/> |\n",
    " | `matplotlib.axis.Axis.set_yticklabels` | [Data Visualization with MatPlotlib](09_visualization_matplotlib/matplotlib.ipynb#cid48)<br/> | `ord()` | [File Operations and Comprehensions](07_files_and_comprehensions/files_and_comprehensions.ipynb#cid24)<br/> [Working with Text, Part I](14_text_1/text_1.ipynb#cid55)<br/> |\n",
    " | `matplotlib.axis.Axis.set_yticks` | [Data Visualization with MatPlotlib](09_visualization_matplotlib/matplotlib.ipynb#cid48)<br/> | `os.chdir` | [File Operations and Comprehensions](07_files_and_comprehensions/files_and_comprehensions.ipynb#cid9)<br/> |\n",
    " | `matplotlib.axis.legend` | [Data Visualization with MatPlotlib](09_visualization_matplotlib/matplotlib.ipynb#cid48)<br/> | `os.getcwd()` | [File Operations and Comprehensions](07_files_and_comprehensions/files_and_comprehensions.ipynb#cid9)<br/> |\n",
    " | `matplotlib.firgure.Figure.set_size_inches` | [Data Visualization with MatPlotlib](09_visualization_matplotlib/matplotlib.ipynb#cid48)<br/> | Pandas Bar Charts | [Data Visualization with MatPlotlib](09_visualization_matplotlib/matplotlib.ipynb#cid50)<br/> |\n",
    " | `matplotlib.pyplot` | [Data Visualization with MatPlotlib](09_visualization_matplotlib/matplotlib.ipynb#cid7)<br/> | Pandas Method Chaining | [Data Visualization with MatPlotlib](09_visualization_matplotlib/matplotlib.ipynb#cid23)<br/> |\n",
    " | `matplotlib.pyplot.barh` | [Data Visualization with MatPlotlib](09_visualization_matplotlib/matplotlib.ipynb#cid35)<br/> [Data Visualization with MatPlotlib](09_visualization_matplotlib/matplotlib.ipynb#cid46)<br/> | Pandas Package | [Tabular Data](08_tabular_data/tabular_data.ipynb#cid11)<br/> |\n",
    " | `matplotlib.pyplot.grid` | [Data Visualization with MatPlotlib](09_visualization_matplotlib/matplotlib.ipynb#cid28)<br/> | Pandas, Boolean Indexing | [Tabular Data](08_tabular_data/tabular_data.ipynb#cid36)<br/> |\n",
    " | `matplotlib.pyplot.scatter` | [Data Visualization with MatPlotlib](09_visualization_matplotlib/matplotlib.ipynb#cid26)<br/> | Pandas, Indexing | [Tabular Data](08_tabular_data/tabular_data.ipynb#cid23)<br/> |\n",
    " | `matplotlib.pyplot.show` | [Data Visualization with MatPlotlib](09_visualization_matplotlib/matplotlib.ipynb#cid26)<br/> | `pandas.DataFrame` | [Tabular Data](08_tabular_data/tabular_data.ipynb#cid21)<br/> |\n",
    " | `matplotlib.pyplot.subplots` | [Data Visualization with MatPlotlib](09_visualization_matplotlib/matplotlib.ipynb#cid48)<br/> | `pandas.DataFrame.plot.barh` | [Data Visualization with MatPlotlib](09_visualization_matplotlib/matplotlib.ipynb#cid50)<br/> |\n",
    " | `matplotlib.pyplot.title` | [Data Visualization with MatPlotlib](09_visualization_matplotlib/matplotlib.ipynb#cid28)<br/> | `pandas.DataFrame.sample` | [Data Visualization with MatPlotlib](09_visualization_matplotlib/matplotlib.ipynb#cid25)<br/> |\n",
    " | `matplotlib.pyplot.xlabel` | [Data Visualization with MatPlotlib](09_visualization_matplotlib/matplotlib.ipynb#cid28)<br/> | `pandas.Series` | [Tabular Data](08_tabular_data/tabular_data.ipynb#cid21)<br/> |\n",
    " | `matplotlib.pyplot.ylabel` | [Data Visualization with MatPlotlib](09_visualization_matplotlib/matplotlib.ipynb#cid28)<br/> | Parentheses | [Introduction to Python](01_intro_python/intro_python.ipynb#cid16)<br/> |\n",
    " | `max()` | [File Operations and Comprehensions](07_files_and_comprehensions/files_and_comprehensions.ipynb#cid57)<br/> | `pass` | [Loops](04_loops/loops.ipynb#cid40)<br/> |\n",
    " | Methods | [Data Types](02_data_types/data_types.ipynb#cid26)<br/> | `pathlib` | [Object Oriented Programming](16_classes_2/classes_2.ipynb#cid5)<br/> |\n",
    " | `min()` | [File Operations and Comprehensions](07_files_and_comprehensions/files_and_comprehensions.ipynb#cid57)<br/> | Percent Sign | [Working with Text, Part I](14_text_1/text_1.ipynb#cid40)<br/> |\n",
    " | Miniconda | [Command Line Interfaces and Python Installation](12_python_setup/setup_python.ipynb#cid16)<br/> | Polymorphism | [Object Oriented Programming](16_classes_2/classes_2.ipynb#cid57)<br/> |\n",
    " | `mkdir` | [Command Line Interfaces and Python Installation](12_python_setup/setup_python.ipynb#cid11)<br/> | `pop()` | [Data Types](02_data_types/data_types.ipynb#cid42)<br/> |\n",
    " | Modules | [Python Modules and Import Statments](13_modules/modules.ipynb#cid10)<br/> | Powershell | [Command Line Interfaces and Python Installation](12_python_setup/setup_python.ipynb#cid3)<br/> |\n",
    " | Monty Python | [Introduction to Python](01_intro_python/intro_python.ipynb#cid2)<br/> | Primitive Values | [Composite Data Types](06_composite_data/composite_data.ipynb#cid2)<br/> |\n",
    " | Multi-Line Strings | [Working with Text, Part I](14_text_1/text_1.ipynb#cid4)<br/> | `print()` | [Introduction to Python](01_intro_python/intro_python.ipynb#cid12)<br/> [Loops](04_loops/loops.ipynb#cid20)<br/> [Working with Text, Part I](14_text_1/text_1.ipynb#cid21)<br/> |\n",
    " | Multiple Inheritance | [Object Oriented Programming](16_classes_2/classes_2.ipynb#cid52)<br/> | Property Decorator | [Object Oriented Programming](16_classes_2/classes_2.ipynb#cid17)<br/> |\n",
    " | Multiplication | [Introduction to Python](01_intro_python/intro_python.ipynb#cid14)<br/> | Property Setter Decorator | [Object Oriented Programming](16_classes_2/classes_2.ipynb#cid21)<br/> |\n",
    " | Mutable | [Composite Data Types](06_composite_data/composite_data.ipynb#cid31)<br/> | Pytest | [Classes and Automated Testing](15_classes_1/classes_1.ipynb#cid17)<br/> |\n",
    " | `mv` | [Command Line Interfaces and Python Installation](12_python_setup/setup_python.ipynb#cid11)<br/> | Pytest.Raises() | [Classes and Automated Testing](15_classes_1/classes_1.ipynb#cid29)<br/> |\n",
    " | Name Mangling | [Object Oriented Programming](16_classes_2/classes_2.ipynb#cid28)<br/> | Python Distributions | [Command Line Interfaces and Python Installation](12_python_setup/setup_python.ipynb#cid13)<br/> |\n",
    " | Named Arguments | [Functions](05_functions/functions.ipynb#cid35)<br/> | Python Packages | [Command Line Interfaces and Python Installation](12_python_setup/setup_python.ipynb#cid19)<br/> |\n",
    " | Namespaces | [Python Modules and Import Statments](13_modules/modules.ipynb#cid12)<br/> | Python Standard Library | [Python Modules and Import Statments](13_modules/modules.ipynb#cid9)<br/> |"
   ]
  },
  {
   "cell_type": "markdown",
   "id": "b3470d33",
   "metadata": {
    "tiedown.cell_index": "cid8"
   },
   "source": [
    "<a name=\"cid8\"></a>\n",
    "## Q - S\n",
    "| Term | Links | Term | Links |\n",
    "| --- | --- | --- | --- |\n",
    " | Quotation Marks | [Working with Text, Part I](14_text_1/text_1.ipynb#cid9)<br/> | Slashes | [Introduction to Python](01_intro_python/intro_python.ipynb#cid39)<br/> |\n",
    " | Quotes | [Introduction to Python](01_intro_python/intro_python.ipynb#cid37)<br/> | Slicing | [Introduction to Python](01_intro_python/intro_python.ipynb#cid43)<br/> |\n",
    " | `radd()` | [Classes and Automated Testing](15_classes_1/classes_1.ipynb#cid37)<br/> | Source Code Editor | [Python Modules and Import Statments](13_modules/modules.ipynb#cid3)<br/> |\n",
    " | `raise` | [Classes and Automated Testing](15_classes_1/classes_1.ipynb#cid23)<br/> | Special Methods | [Classes and Automated Testing](15_classes_1/classes_1.ipynb#cid30)<br/> [Object Oriented Programming](16_classes_2/classes_2.ipynb#cid15)<br/> |\n",
    " | `range()` | [Loops](04_loops/loops.ipynb#cid19)<br/> | Statement | [Conditional Statements](03_conditional_statements/s03_conditional_statements.ipynb#cid2)<br/> |\n",
    " | Raw String | [Working with Text, Part I](14_text_1/text_1.ipynb#cid18)<br/> | Statements | [Functions](05_functions/functions.ipynb#cid9)<br/> |\n",
    " | `rd` | [Command Line Interfaces and Python Installation](12_python_setup/setup_python.ipynb#cid11)<br/> | `str()` | [Data Types](02_data_types/data_types.ipynb#cid16)<br/> [Classes and Automated Testing](15_classes_1/classes_1.ipynb#cid34)<br/> |\n",
    " | `readlines()` | [File Operations and Comprehensions](07_files_and_comprehensions/files_and_comprehensions.ipynb#cid17)<br/> | String Concatenation (Joining) | [Introduction to Python](01_intro_python/intro_python.ipynb#cid41)<br/> |\n",
    " | `return` | [Functions](05_functions/functions.ipynb#cid31)<br/> | String Indexing | [Introduction to Python](01_intro_python/intro_python.ipynb#cid43)<br/> |\n",
    " | Return Statement | [Functions](05_functions/functions.ipynb#cid31)<br/> | String Length | [Introduction to Python](01_intro_python/intro_python.ipynb#cid42)<br/> |\n",
    " | Return Values | [Data Types](02_data_types/data_types.ipynb#cid5)<br/> [Functions](05_functions/functions.ipynb#cid19)<br/> | String Literals | [Working with Text, Part I](14_text_1/text_1.ipynb#cid3)<br/> |\n",
    " | Root Mean Square | [Conditional Statements](03_conditional_statements/s03_conditional_statements.ipynb#cid34)<br/> | Strings | [Introduction to Python](01_intro_python/intro_python.ipynb#cid37)<br/> [Data Types](02_data_types/data_types.ipynb#cid13)<br/> |\n",
    " | `round()` | [Introduction to Python](01_intro_python/intro_python.ipynb#cid29)<br/> | Style Guides | [Conditional Statements](03_conditional_statements/s03_conditional_statements.ipynb#cid4)<br/> |\n",
    " | Saving a Notebook | [Introduction to Python](01_intro_python/intro_python.ipynb#cid70)<br/> | Subtraction | [Introduction to Python](01_intro_python/intro_python.ipynb#cid14)<br/> |\n",
    " | Scalars | [Composite Data Types](06_composite_data/composite_data.ipynb#cid2)<br/> | `super()` | [Object Oriented Programming](16_classes_2/classes_2.ipynb#cid44)<br/> |\n",
    " | Self | [Classes and Automated Testing](15_classes_1/classes_1.ipynb#cid8)<br/> | `sys` | [Python Modules and Import Statments](13_modules/modules.ipynb#cid9)<br/> |\n",
    " | `set()` | [File Operations and Comprehensions](07_files_and_comprehensions/files_and_comprehensions.ipynb#cid43)<br/> | `sys.argv` | [Python Modules and Import Statments](13_modules/modules.ipynb#cid9)<br/> |\n",
    " | Shells | [Command Line Interfaces and Python Installation](12_python_setup/setup_python.ipynb#cid3)<br/> | `sys.path` | [Object Oriented Programming](16_classes_2/classes_2.ipynb#cid5)<br/> |"
   ]
  },
  {
   "cell_type": "markdown",
   "id": "82602ec8",
   "metadata": {
    "tiedown.cell_index": "cid9"
   },
   "source": [
    "<a name=\"cid9\"></a>\n",
    "## T - V\n",
    "| Term | Links | Term | Links |\n",
    "| --- | --- | --- | --- |\n",
    " | Terminals | [Command Line Interfaces and Python Installation](12_python_setup/setup_python.ipynb#cid3)<br/> | UCI Machine Learning Repository | [Data Analysis Project](11_data_project/data-project.ipynb#cid5)<br/> |\n",
    " | Test Driven Development | [Classes and Automated Testing](15_classes_1/classes_1.ipynb#cid58)<br/> | Unary Operators | [Introduction to Python](01_intro_python/intro_python.ipynb#cid14)<br/> |\n",
    " | Text Cells | [Introduction to Python](01_intro_python/intro_python.ipynb#cid3)<br/> | Unicode | [Working with Text, Part I](14_text_1/text_1.ipynb#cid60)<br/> |\n",
    " | `title()` | [Data Types](02_data_types/data_types.ipynb#cid31)<br/> | Unit Test | [Classes and Automated Testing](15_classes_1/classes_1.ipynb#cid19)<br/> |\n",
    " | `tuple()` | [Composite Data Types](06_composite_data/composite_data.ipynb#cid39)<br/> | `upper()` | [Data Types](02_data_types/data_types.ipynb#cid25)<br/> |\n",
    " | Tuples | [Composite Data Types](06_composite_data/composite_data.ipynb#cid30)<br/> | Variable Names | [Introduction to Python](01_intro_python/intro_python.ipynb#cid25)<br/> |\n",
    " | Tuples, Packaing | [Composite Data Types](06_composite_data/composite_data.ipynb#cid34)<br/> | Variables | [Introduction to Python](01_intro_python/intro_python.ipynb#cid20)<br/> |\n",
    " | Tuples, Unpacking | [Composite Data Types](06_composite_data/composite_data.ipynb#cid34)<br/> | VS Code | [Command Line Interfaces and Python Installation](12_python_setup/setup_python.ipynb#cid28)<br/> |\n",
    " | Type Conversions | [Data Types](02_data_types/data_types.ipynb#cid16)<br/> | Vs Code | [Python Modules and Import Statments](13_modules/modules.ipynb#cid4)<br/> |\n",
    " | `type()` | [Data Types](02_data_types/data_types.ipynb#cid6)<br/> [Data Types](02_data_types/data_types.ipynb#cid7)<br/> |  |  |"
   ]
  },
  {
   "cell_type": "markdown",
   "id": "43d19bc2",
   "metadata": {
    "tiedown.cell_index": "cid10"
   },
   "source": [
    "<a name=\"cid10\"></a>\n",
    "## X - Z\n",
    "| Term | Links | Term | Links |\n",
    "| --- | --- | --- | --- |"
   ]
  },
  {
   "cell_type": "markdown",
   "id": "6d6e118c-eef8-4c5d-ae5f-482ab439dbc4",
   "metadata": {
    "tiedown.cell_index": "cid11"
   },
   "source": [
    "<a name=\"cid11\"></a>\n",
    "Prev:  | [Table of Contents](toc.ipynb) | Next:"
   ]
  }
 ],
 "metadata": {
  "kernelspec": {
   "display_name": "Python 3 (ipykernel)",
   "language": "python",
   "name": "python3"
  }
 },
 "nbformat": 4,
 "nbformat_minor": 5
}
