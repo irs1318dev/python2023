{
 "cells": [
  {
   "cell_type": "markdown",
   "id": "1783cff3-7acc-4f5a-b85b-a0f26b1c5b0e",
   "metadata": {
    "tiedown.cell_index": "cid1"
   },
   "source": [
    "<a id=\"cid1\"></a>Next:  | [Table of Contents](toc.ipynb) | Prev:"
   ]
  },
  {
   "cell_type": "markdown",
   "id": "8a61b71e",
   "metadata": {
    "tiedown.cell_index": "cid2"
   },
   "source": [
    "<a id=\"cid2\"></a># Index\n",
    "Key terms are listed below, with links to the portion of the FRC Python Tutorial that explains the term."
   ]
  },
  {
   "cell_type": "markdown",
   "id": "51f154a8",
   "metadata": {
    "tiedown.cell_index": "cid3"
   },
   "source": [
    "<a id=\"cid3\"></a>## Symbols\n",
    "| Term | Links | Term | Links |\n",
    "| --- | --- | --- | --- |\n",
    " | `%=` | [Code Bloc #1](04_loops/loops.ipynb#cid7)<br/> | `//=` | [Code Bloc #1](04_loops/loops.ipynb#cid7)<br/> |\n",
    " | `*` | [lesson01_intro_python.ipynb](01_intro_python/lesson01_intro_python.ipynb#cid14)<br/> | `/=` | [Code Bloc #1](04_loops/loops.ipynb#cid7)<br/> |\n",
    " | `**` | [lesson01_intro_python.ipynb](01_intro_python/lesson01_intro_python.ipynb#cid14)<br/> | `:` | [lesson01_intro_python.ipynb](01_intro_python/lesson01_intro_python.ipynb#cid45)<br/> |\n",
    " | `*=` | [Code Bloc #1](04_loops/loops.ipynb#cid7)<br/> | `<` | [s03_conditional_statements.ipynb](03_conditional_statements/s03_conditional_statements.ipynb#cid13)<br/> |\n",
    " | `+` | [lesson01_intro_python.ipynb](01_intro_python/lesson01_intro_python.ipynb#cid14)<br/> | `<=` | [s03_conditional_statements.ipynb](03_conditional_statements/s03_conditional_statements.ipynb#cid13)<br/> |\n",
    " | `+=` | [Code Bloc #1](04_loops/loops.ipynb#cid6)<br/> | `==` | [s03_conditional_statements.ipynb](03_conditional_statements/s03_conditional_statements.ipynb#cid6)<br/> |\n",
    " | `-` | [lesson01_intro_python.ipynb](01_intro_python/lesson01_intro_python.ipynb#cid14)<br/> | `>` | [s03_conditional_statements.ipynb](03_conditional_statements/s03_conditional_statements.ipynb#cid13)<br/> |\n",
    " | `-=` | [Code Bloc #1](04_loops/loops.ipynb#cid6)<br/> | `>=` | [s03_conditional_statements.ipynb](03_conditional_statements/s03_conditional_statements.ipynb#cid13)<br/> |\n",
    " | `/` | [lesson01_intro_python.ipynb](01_intro_python/lesson01_intro_python.ipynb#cid14)<br/> | `\\n` | [s03_conditional_statements.ipynb](03_conditional_statements/s03_conditional_statements.ipynb#cid23)<br/> [files_and_comprehensions.ipynb](07_files_and_comprehensions/files_and_comprehensions.ipynb#cid22)<br/> |"
   ]
  },
  {
   "cell_type": "markdown",
   "id": "5e5a7fce",
   "metadata": {
    "tiedown.cell_index": "cid4"
   },
   "source": [
    "<a id=\"cid4\"></a>## A - D\n",
    "| Term | Links | Term | Links |\n",
    "| --- | --- | --- | --- |\n",
    " | Addition | [lesson01_intro_python.ipynb](01_intro_python/lesson01_intro_python.ipynb#cid14)<br/> | Code Blocks | [functions.ipynb](05_functions/functions.ipynb#cid12)<br/> |\n",
    " | Advice | [A couple literals](02_data_types/data_types.ipynb#cid3)<br/> | Code Cells | [lesson01_intro_python.ipynb](01_intro_python/lesson01_intro_python.ipynb#cid3)<br/> |\n",
    " | `and` | [s03_conditional_statements.ipynb](03_conditional_statements/s03_conditional_statements.ipynb#cid18)<br/> | Command Line Interpreter | [files_and_comprehensions.ipynb](07_files_and_comprehensions/files_and_comprehensions.ipynb#cid3)<br/> |\n",
    " | `append()` | [A couple literals](02_data_types/data_types.ipynb#cid38)<br/> | Comments | [lesson01_intro_python.ipynb](01_intro_python/lesson01_intro_python.ipynb#cid7)<br/> |\n",
    " | Arguments | [lesson01_intro_python.ipynb](01_intro_python/lesson01_intro_python.ipynb#cid30)<br/> [A couple literals](02_data_types/data_types.ipynb#cid4)<br/> [functions.ipynb](05_functions/functions.ipynb#cid19)<br/> | Comparison Operators | [s03_conditional_statements.ipynb](03_conditional_statements/s03_conditional_statements.ipynb#cid6)<br/> [s03_conditional_statements.ipynb](03_conditional_statements/s03_conditional_statements.ipynb#cid13)<br/> |\n",
    " | Arithmetic Mean | [s03_conditional_statements.ipynb](03_conditional_statements/s03_conditional_statements.ipynb#cid34)<br/> | Composite Data Types | [A couple literals](02_data_types/data_types.ipynb#cid32)<br/> |\n",
    " | `as_integer_ratio()` | [A couple literals](02_data_types/data_types.ipynb#cid28)<br/> | Composite Types | [composite_data.ipynb](06_composite_data/composite_data.ipynb#cid2)<br/> |\n",
    " | Assignment Statement | [s03_conditional_statements.ipynb](03_conditional_statements/s03_conditional_statements.ipynb#cid2)<br/> | Conditional Statements | [s03_conditional_statements.ipynb](03_conditional_statements/s03_conditional_statements.ipynb#cid5)<br/> |\n",
    " | Assignment Statements | [Code Bloc #1](04_loops/loops.ipynb#cid4)<br/> | `continue` | [Code Bloc #1](04_loops/loops.ipynb#cid31)<br/> |\n",
    " | Atomic | [A couple literals](02_data_types/data_types.ipynb#cid32)<br/> | Control Characters | [files_and_comprehensions.ipynb](07_files_and_comprehensions/files_and_comprehensions.ipynb#cid25)<br/> |\n",
    " | Backwards Slash | [lesson01_intro_python.ipynb](01_intro_python/lesson01_intro_python.ipynb#cid39)<br/> | `def` | [functions.ipynb](05_functions/functions.ipynb#cid16)<br/> |\n",
    " | Binary Operators | [lesson01_intro_python.ipynb](01_intro_python/lesson01_intro_python.ipynb#cid14)<br/> | Default Argument Values | [functions.ipynb](05_functions/functions.ipynb#cid38)<br/> |\n",
    " | `bit_length()` | [A couple literals](02_data_types/data_types.ipynb#cid29)<br/> | `del` | [A couple literals](02_data_types/data_types.ipynb#cid44)<br/> |\n",
    " | `bool()` | [s03_conditional_statements.ipynb](03_conditional_statements/s03_conditional_statements.ipynb#cid9)<br/> | `dict()` | [composite_data.ipynb](06_composite_data/composite_data.ipynb#cid13)<br/> |\n",
    " | Boole, George | [s03_conditional_statements.ipynb](03_conditional_statements/s03_conditional_statements.ipynb#cid8)<br/> | `dict.items()` | [composite_data.ipynb](06_composite_data/composite_data.ipynb#cid17)<br/> |\n",
    " | Boolean Expressions | [s03_conditional_statements.ipynb](03_conditional_statements/s03_conditional_statements.ipynb#cid20)<br/> | `dict.keys()` | [composite_data.ipynb](06_composite_data/composite_data.ipynb#cid17)<br/> |\n",
    " | Booleans | [s03_conditional_statements.ipynb](03_conditional_statements/s03_conditional_statements.ipynb#cid8)<br/> | `dict.values()` | [composite_data.ipynb](06_composite_data/composite_data.ipynb#cid17)<br/> |\n",
    " | `break` | [Code Bloc #1](04_loops/loops.ipynb#cid29)<br/> | Dictionaries | [composite_data.ipynb](06_composite_data/composite_data.ipynb#cid4)<br/> |\n",
    " | Built-In Functions | [functions.ipynb](05_functions/functions.ipynb#cid44)<br/> | Dictionaries, Keys | [composite_data.ipynb](06_composite_data/composite_data.ipynb#cid6)<br/> |\n",
    " | Case Sensitive | [lesson01_intro_python.ipynb](01_intro_python/lesson01_intro_python.ipynb#cid22)<br/> | Dictionaries, Values | [composite_data.ipynb](06_composite_data/composite_data.ipynb#cid6)<br/> |\n",
    " | Cli | [files_and_comprehensions.ipynb](07_files_and_comprehensions/files_and_comprehensions.ipynb#cid3)<br/> | Dictionary Comprehensions | [files_and_comprehensions.ipynb](07_files_and_comprehensions/files_and_comprehensions.ipynb#cid38)<br/> |\n",
    " | `close()` | [files_and_comprehensions.ipynb](07_files_and_comprehensions/files_and_comprehensions.ipynb#cid19)<br/> | Division | [lesson01_intro_python.ipynb](01_intro_python/lesson01_intro_python.ipynb#cid14)<br/> |"
   ]
  },
  {
   "cell_type": "markdown",
   "id": "d10dd9d3",
   "metadata": {
    "tiedown.cell_index": "cid5"
   },
   "source": [
    "<a id=\"cid5\"></a>## E - H\n",
    "| Term | Links | Term | Links |\n",
    "| --- | --- | --- | --- |\n",
    " | `elif` | [s03_conditional_statements.ipynb](03_conditional_statements/s03_conditional_statements.ipynb#cid25)<br/> | FIRST Robotics Competitions (FRC) | [lesson01_intro_python.ipynb](01_intro_python/lesson01_intro_python.ipynb#cid26)<br/> |\n",
    " | `else` | [s03_conditional_statements.ipynb](03_conditional_statements/s03_conditional_statements.ipynb#cid22)<br/> | FIRST Tech Challenge | [s03_conditional_statements.ipynb](03_conditional_statements/s03_conditional_statements.ipynb#cid26)<br/> |\n",
    " | Else If | [s03_conditional_statements.ipynb](03_conditional_statements/s03_conditional_statements.ipynb#cid25)<br/> | `float()` | [A couple literals](02_data_types/data_types.ipynb#cid16)<br/> |\n",
    " | End Of Line Character | [files_and_comprehensions.ipynb](07_files_and_comprehensions/files_and_comprehensions.ipynb#cid22)<br/> | Floats | [A couple literals](02_data_types/data_types.ipynb#cid8)<br/> |\n",
    " | Equality Operator | [s03_conditional_statements.ipynb](03_conditional_statements/s03_conditional_statements.ipynb#cid6)<br/> | For Loops | [Code Bloc #1](04_loops/loops.ipynb#cid17)<br/> |\n",
    " | Escape Sequences | [files_and_comprehensions.ipynb](07_files_and_comprehensions/files_and_comprehensions.ipynb#cid25)<br/> | Forwards Slash | [lesson01_intro_python.ipynb](01_intro_python/lesson01_intro_python.ipynb#cid39)<br/> |\n",
    " | Exponentiation | [lesson01_intro_python.ipynb](01_intro_python/lesson01_intro_python.ipynb#cid14)<br/> | Functions | [functions.ipynb](05_functions/functions.ipynb#cid2)<br/> |\n",
    " | Expressions | [functions.ipynb](05_functions/functions.ipynb#cid3)<br/> | Geometric Mean | [s03_conditional_statements.ipynb](03_conditional_statements/s03_conditional_statements.ipynb#cid34)<br/> |\n",
    " | Factorial | [Code Bloc #1](04_loops/loops.ipynb#cid15)<br/> | Google Colab | [lesson01_intro_python.ipynb](01_intro_python/lesson01_intro_python.ipynb#cid3)<br/> |\n",
    " | Fibonnaci Sequence | [Code Bloc #1](04_loops/loops.ipynb#cid11)<br/> | Google Drive | [lesson01_intro_python.ipynb](01_intro_python/lesson01_intro_python.ipynb#cid70)<br/> |\n",
    " | File Operations | [files_and_comprehensions.ipynb](07_files_and_comprehensions/files_and_comprehensions.ipynb#cid6)<br/> | Greater Than Operator | [s03_conditional_statements.ipynb](03_conditional_statements/s03_conditional_statements.ipynb#cid13)<br/> |\n",
    " | FIRST Lego League | [s03_conditional_statements.ipynb](03_conditional_statements/s03_conditional_statements.ipynb#cid26)<br/> | Greater Than Or Equal Operator | [s03_conditional_statements.ipynb](03_conditional_statements/s03_conditional_statements.ipynb#cid13)<br/> |\n",
    " | FIRST Robotics Competition | [s03_conditional_statements.ipynb](03_conditional_statements/s03_conditional_statements.ipynb#cid26)<br/> | Guido van Rossum | [lesson01_intro_python.ipynb](01_intro_python/lesson01_intro_python.ipynb#cid2)<br/> |"
   ]
  },
  {
   "cell_type": "markdown",
   "id": "6550044a",
   "metadata": {
    "tiedown.cell_index": "cid6"
   },
   "source": [
    "<a id=\"cid6\"></a>## I - L\n",
    "| Term | Links | Term | Links |\n",
    "| --- | --- | --- | --- |\n",
    " | `id()` | [A couple literals](02_data_types/data_types.ipynb#cid27)<br/> | Keyword | [A couple literals](02_data_types/data_types.ipynb#cid44)<br/> [A couple literals](02_data_types/data_types.ipynb#cid44)<br/> |\n",
    " | `if` | [s03_conditional_statements.ipynb](03_conditional_statements/s03_conditional_statements.ipynb#cid5)<br/> [s03_conditional_statements.ipynb](03_conditional_statements/s03_conditional_statements.ipynb#cid22)<br/> | Keyword Arguments | [functions.ipynb](05_functions/functions.ipynb#cid35)<br/> |\n",
    " | if Statement | [s03_conditional_statements.ipynb](03_conditional_statements/s03_conditional_statements.ipynb#cid5)<br/> | `len()` | [lesson01_intro_python.ipynb](01_intro_python/lesson01_intro_python.ipynb#cid42)<br/> |\n",
    " | If Statement | [s03_conditional_statements.ipynb](03_conditional_statements/s03_conditional_statements.ipynb#cid22)<br/> | Less Than Operator | [s03_conditional_statements.ipynb](03_conditional_statements/s03_conditional_statements.ipynb#cid13)<br/> |\n",
    " | Immutable | [composite_data.ipynb](06_composite_data/composite_data.ipynb#cid31)<br/> | Less Than Or Equal Operator | [s03_conditional_statements.ipynb](03_conditional_statements/s03_conditional_statements.ipynb#cid13)<br/> |\n",
    " | `input()` | [A couple literals](02_data_types/data_types.ipynb#cid54)<br/> | Line Continuation | [s03_conditional_statements.ipynb](03_conditional_statements/s03_conditional_statements.ipynb#cid3)<br/> |\n",
    " | `int()` | [A couple literals](02_data_types/data_types.ipynb#cid16)<br/> | List Comprehensions | [files_and_comprehensions.ipynb](07_files_and_comprehensions/files_and_comprehensions.ipynb#cid35)<br/> |\n",
    " | Integers | [A couple literals](02_data_types/data_types.ipynb#cid7)<br/> | Lists | [A couple literals](02_data_types/data_types.ipynb#cid32)<br/> |\n",
    " | `isdigit()` | [A couple literals](02_data_types/data_types.ipynb#cid28)<br/> | Literals | [A couple literals](02_data_types/data_types.ipynb#cid4)<br/> [functions.ipynb](05_functions/functions.ipynb#cid4)<br/> |\n",
    " | `isupper()` | [A couple literals](02_data_types/data_types.ipynb#cid28)<br/> | Logical Operators | [s03_conditional_statements.ipynb](03_conditional_statements/s03_conditional_statements.ipynb#cid17)<br/> |\n",
    " | Json | [files_and_comprehensions.ipynb](07_files_and_comprehensions/files_and_comprehensions.ipynb#cid31)<br/> | Loops | [Code Bloc #1](04_loops/loops.ipynb#cid3)<br/> |\n",
    " | `json.dump()` | [files_and_comprehensions.ipynb](07_files_and_comprehensions/files_and_comprehensions.ipynb#cid33)<br/> | `lower()` | [A couple literals](02_data_types/data_types.ipynb#cid28)<br/> |\n",
    " | `json.load()` | [files_and_comprehensions.ipynb](07_files_and_comprehensions/files_and_comprehensions.ipynb#cid33)<br/> |  |  |"
   ]
  },
  {
   "cell_type": "markdown",
   "id": "b1569bb3",
   "metadata": {
    "tiedown.cell_index": "cid7"
   },
   "source": [
    "<a id=\"cid7\"></a>## M - P\n",
    "| Term | Links | Term | Links |\n",
    "| --- | --- | --- | --- |\n",
    " | `max()` | [files_and_comprehensions.ipynb](07_files_and_comprehensions/files_and_comprehensions.ipynb#cid57)<br/> | Opening a Saved Notebook | [lesson01_intro_python.ipynb](01_intro_python/lesson01_intro_python.ipynb#cid70)<br/> |\n",
    " | Methods | [A couple literals](02_data_types/data_types.ipynb#cid26)<br/> | Operands | [s03_conditional_statements.ipynb](03_conditional_statements/s03_conditional_statements.ipynb#cid7)<br/> |\n",
    " | `min()` | [files_and_comprehensions.ipynb](07_files_and_comprehensions/files_and_comprehensions.ipynb#cid57)<br/> | Operators | [lesson01_intro_python.ipynb](01_intro_python/lesson01_intro_python.ipynb#cid14)<br/> |\n",
    " | Monty Python | [lesson01_intro_python.ipynb](01_intro_python/lesson01_intro_python.ipynb#cid2)<br/> | `or` | [s03_conditional_statements.ipynb](03_conditional_statements/s03_conditional_statements.ipynb#cid18)<br/> |\n",
    " | Multiplication | [lesson01_intro_python.ipynb](01_intro_python/lesson01_intro_python.ipynb#cid14)<br/> | `ord()` | [files_and_comprehensions.ipynb](07_files_and_comprehensions/files_and_comprehensions.ipynb#cid24)<br/> |\n",
    " | Mutable | [composite_data.ipynb](06_composite_data/composite_data.ipynb#cid31)<br/> | `os.chdir` | [files_and_comprehensions.ipynb](07_files_and_comprehensions/files_and_comprehensions.ipynb#cid9)<br/> |\n",
    " | Named Arguments | [functions.ipynb](05_functions/functions.ipynb#cid35)<br/> | `os.getcwd()` | [files_and_comprehensions.ipynb](07_files_and_comprehensions/files_and_comprehensions.ipynb#cid9)<br/> |\n",
    " | Nested Data | [composite_data.ipynb](06_composite_data/composite_data.ipynb#cid41)<br/> | Parentheses | [lesson01_intro_python.ipynb](01_intro_python/lesson01_intro_python.ipynb#cid16)<br/> |\n",
    " | `None` | [functions.ipynb](05_functions/functions.ipynb#cid33)<br/> | `pass` | [Code Bloc #1](04_loops/loops.ipynb#cid40)<br/> |\n",
    " | `not` | [s03_conditional_statements.ipynb](03_conditional_statements/s03_conditional_statements.ipynb#cid18)<br/> | `pop()` | [A couple literals](02_data_types/data_types.ipynb#cid42)<br/> |\n",
    " | Notebooks | [lesson01_intro_python.ipynb](01_intro_python/lesson01_intro_python.ipynb#cid3)<br/> | Primitive Values | [composite_data.ipynb](06_composite_data/composite_data.ipynb#cid2)<br/> |\n",
    " | `open()` | [files_and_comprehensions.ipynb](07_files_and_comprehensions/files_and_comprehensions.ipynb#cid6)<br/> | `print()` | [lesson01_intro_python.ipynb](01_intro_python/lesson01_intro_python.ipynb#cid12)<br/> [Code Bloc #1](04_loops/loops.ipynb#cid20)<br/> |"
   ]
  },
  {
   "cell_type": "markdown",
   "id": "ef504cc5",
   "metadata": {
    "tiedown.cell_index": "cid8"
   },
   "source": [
    "<a id=\"cid8\"></a>## Q - S\n",
    "| Term | Links | Term | Links |\n",
    "| --- | --- | --- | --- |\n",
    " | Quotes | [lesson01_intro_python.ipynb](01_intro_python/lesson01_intro_python.ipynb#cid37)<br/> | Slashes | [lesson01_intro_python.ipynb](01_intro_python/lesson01_intro_python.ipynb#cid39)<br/> |\n",
    " | `range()` | [Code Bloc #1](04_loops/loops.ipynb#cid19)<br/> | Slicing | [lesson01_intro_python.ipynb](01_intro_python/lesson01_intro_python.ipynb#cid43)<br/> |\n",
    " | `readlines()` | [files_and_comprehensions.ipynb](07_files_and_comprehensions/files_and_comprehensions.ipynb#cid17)<br/> | Statement | [s03_conditional_statements.ipynb](03_conditional_statements/s03_conditional_statements.ipynb#cid2)<br/> |\n",
    " | `return` | [functions.ipynb](05_functions/functions.ipynb#cid31)<br/> | Statements | [functions.ipynb](05_functions/functions.ipynb#cid9)<br/> |\n",
    " | Return Statement | [functions.ipynb](05_functions/functions.ipynb#cid31)<br/> | `str()` | [A couple literals](02_data_types/data_types.ipynb#cid16)<br/> |\n",
    " | Return Values | [A couple literals](02_data_types/data_types.ipynb#cid5)<br/> [functions.ipynb](05_functions/functions.ipynb#cid19)<br/> | String Concatenation (Joining) | [lesson01_intro_python.ipynb](01_intro_python/lesson01_intro_python.ipynb#cid41)<br/> |\n",
    " | Root Mean Square | [s03_conditional_statements.ipynb](03_conditional_statements/s03_conditional_statements.ipynb#cid34)<br/> | String Indexing | [lesson01_intro_python.ipynb](01_intro_python/lesson01_intro_python.ipynb#cid43)<br/> |\n",
    " | `round()` | [lesson01_intro_python.ipynb](01_intro_python/lesson01_intro_python.ipynb#cid29)<br/> | String Length | [lesson01_intro_python.ipynb](01_intro_python/lesson01_intro_python.ipynb#cid42)<br/> |\n",
    " | Saving a Notebook | [lesson01_intro_python.ipynb](01_intro_python/lesson01_intro_python.ipynb#cid70)<br/> | Strings | [lesson01_intro_python.ipynb](01_intro_python/lesson01_intro_python.ipynb#cid37)<br/> [A couple literals](02_data_types/data_types.ipynb#cid13)<br/> |\n",
    " | Scalars | [composite_data.ipynb](06_composite_data/composite_data.ipynb#cid2)<br/> | Style Guides | [s03_conditional_statements.ipynb](03_conditional_statements/s03_conditional_statements.ipynb#cid4)<br/> |\n",
    " | `set()` | [files_and_comprehensions.ipynb](07_files_and_comprehensions/files_and_comprehensions.ipynb#cid43)<br/> | Subtraction | [lesson01_intro_python.ipynb](01_intro_python/lesson01_intro_python.ipynb#cid14)<br/> |"
   ]
  },
  {
   "cell_type": "markdown",
   "id": "1739ad7f",
   "metadata": {
    "tiedown.cell_index": "cid9"
   },
   "source": [
    "<a id=\"cid9\"></a>## T - V\n",
    "| Term | Links | Term | Links |\n",
    "| --- | --- | --- | --- |\n",
    " | Text Cells | [lesson01_intro_python.ipynb](01_intro_python/lesson01_intro_python.ipynb#cid3)<br/> | Type Conversions | [A couple literals](02_data_types/data_types.ipynb#cid16)<br/> |\n",
    " | `title()` | [A couple literals](02_data_types/data_types.ipynb#cid31)<br/> | `type()` | [A couple literals](02_data_types/data_types.ipynb#cid6)<br/> [A couple literals](02_data_types/data_types.ipynb#cid7)<br/> |\n",
    " | `tuple()` | [composite_data.ipynb](06_composite_data/composite_data.ipynb#cid39)<br/> | Unary Operators | [lesson01_intro_python.ipynb](01_intro_python/lesson01_intro_python.ipynb#cid14)<br/> |\n",
    " | Tuples | [composite_data.ipynb](06_composite_data/composite_data.ipynb#cid30)<br/> | `upper()` | [A couple literals](02_data_types/data_types.ipynb#cid25)<br/> |\n",
    " | Tuples, Packaing | [composite_data.ipynb](06_composite_data/composite_data.ipynb#cid34)<br/> | Variable Names | [lesson01_intro_python.ipynb](01_intro_python/lesson01_intro_python.ipynb#cid25)<br/> |\n",
    " | Tuples, Unpacking | [composite_data.ipynb](06_composite_data/composite_data.ipynb#cid34)<br/> | Variables | [lesson01_intro_python.ipynb](01_intro_python/lesson01_intro_python.ipynb#cid20)<br/> |"
   ]
  },
  {
   "cell_type": "markdown",
   "id": "0bfec96e",
   "metadata": {
    "tiedown.cell_index": "cid10"
   },
   "source": [
    "<a id=\"cid10\"></a>## X - Z\n",
    "| Term | Links | Term | Links |\n",
    "| --- | --- | --- | --- |"
   ]
  },
  {
   "cell_type": "markdown",
   "id": "6d6e118c-eef8-4c5d-ae5f-482ab439dbc4",
   "metadata": {
    "tiedown.cell_index": "cid11"
   },
   "source": [
    "<a id=\"cid11\"></a>Next:  | [Table of Contents](toc.ipynb) | Prev:"
   ]
  }
 ],
 "metadata": {
  "kernelspec": {
   "display_name": "Python 3 (ipykernel)",
   "language": "python",
   "name": "python3"
  }
 },
 "nbformat": 4,
 "nbformat_minor": 5
}
