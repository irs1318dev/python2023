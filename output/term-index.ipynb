{
 "cells": [
  {
   "cell_type": "markdown",
   "id": "1783cff3-7acc-4f5a-b85b-a0f26b1c5b0e",
   "metadata": {
    "tiedown.cell_index": "cid1"
   },
   "source": [
    "[Table of Contents](toc.ipynb)<span id=\"cid1\"/>"
   ]
  },
  {
   "cell_type": "markdown",
   "id": "b792aa88",
   "metadata": {
    "tiedown.cell_index": "cid2"
   },
   "source": [
    "# Index<span id=\"cid2\"/>\n",
    "Key terms are listed below, with links to the portion of the FRC Python Tutorial that explains the term."
   ]
  },
  {
   "cell_type": "markdown",
   "id": "7c147918",
   "metadata": {
    "tiedown.cell_index": "cid3"
   },
   "source": [
    "## Symbols<span id=\"cid3\"/>\n",
    "| Term | Links | Term | Links |\n",
    "| --- | --- | --- | --- |\n",
    " | `%=` | [Loops<span id=\"cid2\"/>](04_loops/loops.ipynb#cid7)<br/> | `//=` | [Loops<span id=\"cid2\"/>](04_loops/loops.ipynb#cid7)<br/> |\n",
    " | `*` | [Introduction to Python<span id=\"cid2\"/>](01_intro_python/lesson01_intro_python.ipynb#cid14)<br/> | `/=` | [Loops<span id=\"cid2\"/>](04_loops/loops.ipynb#cid7)<br/> |\n",
    " | `**` | [Introduction to Python<span id=\"cid2\"/>](01_intro_python/lesson01_intro_python.ipynb#cid14)<br/> | `:` | [Introduction to Python<span id=\"cid2\"/>](01_intro_python/lesson01_intro_python.ipynb#cid45)<br/> |\n",
    " | `*=` | [Loops<span id=\"cid2\"/>](04_loops/loops.ipynb#cid7)<br/> | `<` | [Conditional Statements<span id=\"cid2\"/>](03_conditional_statements/s03_conditional_statements.ipynb#cid13)<br/> |\n",
    " | `+` | [Introduction to Python<span id=\"cid2\"/>](01_intro_python/lesson01_intro_python.ipynb#cid14)<br/> | `<=` | [Conditional Statements<span id=\"cid2\"/>](03_conditional_statements/s03_conditional_statements.ipynb#cid13)<br/> |\n",
    " | `+=` | [Loops<span id=\"cid2\"/>](04_loops/loops.ipynb#cid6)<br/> | `==` | [Conditional Statements<span id=\"cid2\"/>](03_conditional_statements/s03_conditional_statements.ipynb#cid6)<br/> |\n",
    " | `-` | [Introduction to Python<span id=\"cid2\"/>](01_intro_python/lesson01_intro_python.ipynb#cid14)<br/> | `>` | [Conditional Statements<span id=\"cid2\"/>](03_conditional_statements/s03_conditional_statements.ipynb#cid13)<br/> |\n",
    " | `-=` | [Loops<span id=\"cid2\"/>](04_loops/loops.ipynb#cid6)<br/> | `>=` | [Conditional Statements<span id=\"cid2\"/>](03_conditional_statements/s03_conditional_statements.ipynb#cid13)<br/> |\n",
    " | `/` | [Introduction to Python<span id=\"cid2\"/>](01_intro_python/lesson01_intro_python.ipynb#cid14)<br/> | `\\n` | [Conditional Statements<span id=\"cid2\"/>](03_conditional_statements/s03_conditional_statements.ipynb#cid23)<br/> |"
   ]
  },
  {
   "cell_type": "markdown",
   "id": "0216cc99",
   "metadata": {
    "tiedown.cell_index": "cid4"
   },
   "source": [
    "## A - D<span id=\"cid4\"/>\n",
    "| Term | Links | Term | Links |\n",
    "| --- | --- | --- | --- |\n",
    " | Addition | [Introduction to Python<span id=\"cid2\"/>](01_intro_python/lesson01_intro_python.ipynb#cid14)<br/> | Code Blocks | [Functions<span id=\"cid2\"/>](05_functions/functions.ipynb#cid12)<br/> |\n",
    " | Advice | [Data Types<span id=\"cid2\"/>](02_data_types/data_types.ipynb#cid3)<br/> | Code Cells | [Introduction to Python<span id=\"cid2\"/>](01_intro_python/lesson01_intro_python.ipynb#cid3)<br/> |\n",
    " | `and` | [Conditional Statements<span id=\"cid2\"/>](03_conditional_statements/s03_conditional_statements.ipynb#cid18)<br/> | Comments | [Introduction to Python<span id=\"cid2\"/>](01_intro_python/lesson01_intro_python.ipynb#cid7)<br/> |\n",
    " | `append()` | [Data Types<span id=\"cid2\"/>](02_data_types/data_types.ipynb#cid38)<br/> | Comparison Operators | [Conditional Statements<span id=\"cid2\"/>](03_conditional_statements/s03_conditional_statements.ipynb#cid6)<br/> [Conditional Statements<span id=\"cid2\"/>](03_conditional_statements/s03_conditional_statements.ipynb#cid13)<br/> |\n",
    " | Arguments | [Introduction to Python<span id=\"cid2\"/>](01_intro_python/lesson01_intro_python.ipynb#cid30)<br/> [Data Types<span id=\"cid2\"/>](02_data_types/data_types.ipynb#cid4)<br/> [Functions<span id=\"cid2\"/>](05_functions/functions.ipynb#cid19)<br/> | Composite Data Types | [Data Types<span id=\"cid2\"/>](02_data_types/data_types.ipynb#cid32)<br/> |\n",
    " | Arithmetic Mean | [Conditional Statements<span id=\"cid2\"/>](03_conditional_statements/s03_conditional_statements.ipynb#cid34)<br/> | Composite Types | [Composite Data Types<span id=\"cid2\"/>](06_composite_data/composite_data.ipynb#cid2)<br/> |\n",
    " | `as_integer_ratio()` | [Data Types<span id=\"cid2\"/>](02_data_types/data_types.ipynb#cid28)<br/> | Conditional Statements | [Conditional Statements<span id=\"cid2\"/>](03_conditional_statements/s03_conditional_statements.ipynb#cid5)<br/> |\n",
    " | Assignment Statement | [Conditional Statements<span id=\"cid2\"/>](03_conditional_statements/s03_conditional_statements.ipynb#cid2)<br/> | `continue` | [Loops<span id=\"cid2\"/>](04_loops/loops.ipynb#cid31)<br/> |\n",
    " | Assignment Statements | [Loops<span id=\"cid2\"/>](04_loops/loops.ipynb#cid4)<br/> | `def` | [Functions<span id=\"cid2\"/>](05_functions/functions.ipynb#cid16)<br/> |\n",
    " | Atomic | [Data Types<span id=\"cid2\"/>](02_data_types/data_types.ipynb#cid32)<br/> | Default Argument Values | [Functions<span id=\"cid2\"/>](05_functions/functions.ipynb#cid38)<br/> |\n",
    " | Backwards Slash | [Introduction to Python<span id=\"cid2\"/>](01_intro_python/lesson01_intro_python.ipynb#cid39)<br/> | `del` | [Data Types<span id=\"cid2\"/>](02_data_types/data_types.ipynb#cid44)<br/> |\n",
    " | Binary Operators | [Introduction to Python<span id=\"cid2\"/>](01_intro_python/lesson01_intro_python.ipynb#cid14)<br/> | `dict()` | [Composite Data Types<span id=\"cid2\"/>](06_composite_data/composite_data.ipynb#cid13)<br/> |\n",
    " | `bit_length()` | [Data Types<span id=\"cid2\"/>](02_data_types/data_types.ipynb#cid29)<br/> | `dict.items()` | [Composite Data Types<span id=\"cid2\"/>](06_composite_data/composite_data.ipynb#cid17)<br/> |\n",
    " | `bool()` | [Conditional Statements<span id=\"cid2\"/>](03_conditional_statements/s03_conditional_statements.ipynb#cid9)<br/> | `dict.keys()` | [Composite Data Types<span id=\"cid2\"/>](06_composite_data/composite_data.ipynb#cid17)<br/> |\n",
    " | Boole, George | [Conditional Statements<span id=\"cid2\"/>](03_conditional_statements/s03_conditional_statements.ipynb#cid8)<br/> | `dict.values()` | [Composite Data Types<span id=\"cid2\"/>](06_composite_data/composite_data.ipynb#cid17)<br/> |\n",
    " | Boolean Expressions | [Conditional Statements<span id=\"cid2\"/>](03_conditional_statements/s03_conditional_statements.ipynb#cid20)<br/> | Dictionaries | [Composite Data Types<span id=\"cid2\"/>](06_composite_data/composite_data.ipynb#cid4)<br/> |\n",
    " | Booleans | [Conditional Statements<span id=\"cid2\"/>](03_conditional_statements/s03_conditional_statements.ipynb#cid8)<br/> | Dictionaries, Keys | [Composite Data Types<span id=\"cid2\"/>](06_composite_data/composite_data.ipynb#cid6)<br/> |\n",
    " | `break` | [Loops<span id=\"cid2\"/>](04_loops/loops.ipynb#cid29)<br/> | Dictionaries, Values | [Composite Data Types<span id=\"cid2\"/>](06_composite_data/composite_data.ipynb#cid6)<br/> |\n",
    " | Built-In Functions | [Functions<span id=\"cid2\"/>](05_functions/functions.ipynb#cid44)<br/> | Division | [Introduction to Python<span id=\"cid2\"/>](01_intro_python/lesson01_intro_python.ipynb#cid14)<br/> |\n",
    " | Case Sensitive | [Introduction to Python<span id=\"cid2\"/>](01_intro_python/lesson01_intro_python.ipynb#cid22)<br/> |  |  |"
   ]
  },
  {
   "cell_type": "markdown",
   "id": "586a0094",
   "metadata": {
    "tiedown.cell_index": "cid5"
   },
   "source": [
    "## E - H<span id=\"cid5\"/>\n",
    "| Term | Links | Term | Links |\n",
    "| --- | --- | --- | --- |\n",
    " | `elif` | [Conditional Statements<span id=\"cid2\"/>](03_conditional_statements/s03_conditional_statements.ipynb#cid25)<br/> | `float()` | [Data Types<span id=\"cid2\"/>](02_data_types/data_types.ipynb#cid16)<br/> |\n",
    " | `else` | [Conditional Statements<span id=\"cid2\"/>](03_conditional_statements/s03_conditional_statements.ipynb#cid22)<br/> | Floats | [Data Types<span id=\"cid2\"/>](02_data_types/data_types.ipynb#cid8)<br/> |\n",
    " | Else If | [Conditional Statements<span id=\"cid2\"/>](03_conditional_statements/s03_conditional_statements.ipynb#cid25)<br/> | For Loops | [Loops<span id=\"cid2\"/>](04_loops/loops.ipynb#cid17)<br/> |\n",
    " | Equality Operator | [Conditional Statements<span id=\"cid2\"/>](03_conditional_statements/s03_conditional_statements.ipynb#cid6)<br/> | Forwards Slash | [Introduction to Python<span id=\"cid2\"/>](01_intro_python/lesson01_intro_python.ipynb#cid39)<br/> |\n",
    " | Exponentiation | [Introduction to Python<span id=\"cid2\"/>](01_intro_python/lesson01_intro_python.ipynb#cid14)<br/> | Functions | [Functions<span id=\"cid2\"/>](05_functions/functions.ipynb#cid2)<br/> |\n",
    " | Expressions | [Functions<span id=\"cid2\"/>](05_functions/functions.ipynb#cid3)<br/> | Geometric Mean | [Conditional Statements<span id=\"cid2\"/>](03_conditional_statements/s03_conditional_statements.ipynb#cid34)<br/> |\n",
    " | Factorial | [Loops<span id=\"cid2\"/>](04_loops/loops.ipynb#cid15)<br/> | Google Colab | [Introduction to Python<span id=\"cid2\"/>](01_intro_python/lesson01_intro_python.ipynb#cid3)<br/> |\n",
    " | Fibonnaci Sequence | [Loops<span id=\"cid2\"/>](04_loops/loops.ipynb#cid11)<br/> | Google Drive | [Introduction to Python<span id=\"cid2\"/>](01_intro_python/lesson01_intro_python.ipynb#cid70)<br/> |\n",
    " | FIRST Lego League | [Conditional Statements<span id=\"cid2\"/>](03_conditional_statements/s03_conditional_statements.ipynb#cid26)<br/> | Greater Than Operator | [Conditional Statements<span id=\"cid2\"/>](03_conditional_statements/s03_conditional_statements.ipynb#cid13)<br/> |\n",
    " | FIRST Robotics Competition | [Conditional Statements<span id=\"cid2\"/>](03_conditional_statements/s03_conditional_statements.ipynb#cid26)<br/> | Greater Than Or Equal Operator | [Conditional Statements<span id=\"cid2\"/>](03_conditional_statements/s03_conditional_statements.ipynb#cid13)<br/> |\n",
    " | FIRST Robotics Competitions (FRC) | [Introduction to Python<span id=\"cid2\"/>](01_intro_python/lesson01_intro_python.ipynb#cid26)<br/> | Guido van Rossum | [Introduction to Python<span id=\"cid2\"/>](01_intro_python/lesson01_intro_python.ipynb#cid2)<br/> |\n",
    " | FIRST Tech Challenge | [Conditional Statements<span id=\"cid2\"/>](03_conditional_statements/s03_conditional_statements.ipynb#cid26)<br/> |  |  |"
   ]
  },
  {
   "cell_type": "markdown",
   "id": "3756240c",
   "metadata": {
    "tiedown.cell_index": "cid6"
   },
   "source": [
    "## I - L<span id=\"cid6\"/>\n",
    "| Term | Links | Term | Links |\n",
    "| --- | --- | --- | --- |\n",
    " | `id()` | [Data Types<span id=\"cid2\"/>](02_data_types/data_types.ipynb#cid27)<br/> | Keyword Arguments | [Functions<span id=\"cid2\"/>](05_functions/functions.ipynb#cid35)<br/> |\n",
    " | `if` | [Conditional Statements<span id=\"cid2\"/>](03_conditional_statements/s03_conditional_statements.ipynb#cid5)<br/> [Conditional Statements<span id=\"cid2\"/>](03_conditional_statements/s03_conditional_statements.ipynb#cid22)<br/> | `len()` | [Introduction to Python<span id=\"cid2\"/>](01_intro_python/lesson01_intro_python.ipynb#cid42)<br/> |\n",
    " | if Statement | [Conditional Statements<span id=\"cid2\"/>](03_conditional_statements/s03_conditional_statements.ipynb#cid5)<br/> | Less Than Operator | [Conditional Statements<span id=\"cid2\"/>](03_conditional_statements/s03_conditional_statements.ipynb#cid13)<br/> |\n",
    " | If Statement | [Conditional Statements<span id=\"cid2\"/>](03_conditional_statements/s03_conditional_statements.ipynb#cid22)<br/> | Less Than Or Equal Operator | [Conditional Statements<span id=\"cid2\"/>](03_conditional_statements/s03_conditional_statements.ipynb#cid13)<br/> |\n",
    " | Immutable | [Composite Data Types<span id=\"cid2\"/>](06_composite_data/composite_data.ipynb#cid31)<br/> | Line Continuation | [Conditional Statements<span id=\"cid2\"/>](03_conditional_statements/s03_conditional_statements.ipynb#cid3)<br/> |\n",
    " | `input()` | [Data Types<span id=\"cid2\"/>](02_data_types/data_types.ipynb#cid54)<br/> | Lists | [Data Types<span id=\"cid2\"/>](02_data_types/data_types.ipynb#cid32)<br/> |\n",
    " | `int()` | [Data Types<span id=\"cid2\"/>](02_data_types/data_types.ipynb#cid16)<br/> | Literals | [Data Types<span id=\"cid2\"/>](02_data_types/data_types.ipynb#cid4)<br/> [Functions<span id=\"cid2\"/>](05_functions/functions.ipynb#cid4)<br/> |\n",
    " | Integers | [Data Types<span id=\"cid2\"/>](02_data_types/data_types.ipynb#cid7)<br/> | Logical Operators | [Conditional Statements<span id=\"cid2\"/>](03_conditional_statements/s03_conditional_statements.ipynb#cid17)<br/> |\n",
    " | `isdigit()` | [Data Types<span id=\"cid2\"/>](02_data_types/data_types.ipynb#cid28)<br/> | Loops | [Loops<span id=\"cid2\"/>](04_loops/loops.ipynb#cid3)<br/> |\n",
    " | `isupper()` | [Data Types<span id=\"cid2\"/>](02_data_types/data_types.ipynb#cid28)<br/> | `lower()` | [Data Types<span id=\"cid2\"/>](02_data_types/data_types.ipynb#cid28)<br/> |\n",
    " | Keyword | [Data Types<span id=\"cid2\"/>](02_data_types/data_types.ipynb#cid44)<br/> [Data Types<span id=\"cid2\"/>](02_data_types/data_types.ipynb#cid44)<br/> |  |  |"
   ]
  },
  {
   "cell_type": "markdown",
   "id": "7fea6c92",
   "metadata": {
    "tiedown.cell_index": "cid7"
   },
   "source": [
    "## M - P<span id=\"cid7\"/>\n",
    "| Term | Links | Term | Links |\n",
    "| --- | --- | --- | --- |\n",
    " | Methods | [Data Types<span id=\"cid2\"/>](02_data_types/data_types.ipynb#cid26)<br/> | Opening a Saved Notebook | [Introduction to Python<span id=\"cid2\"/>](01_intro_python/lesson01_intro_python.ipynb#cid70)<br/> |\n",
    " | Monty Python | [Introduction to Python<span id=\"cid2\"/>](01_intro_python/lesson01_intro_python.ipynb#cid2)<br/> | Operands | [Conditional Statements<span id=\"cid2\"/>](03_conditional_statements/s03_conditional_statements.ipynb#cid7)<br/> |\n",
    " | Multiplication | [Introduction to Python<span id=\"cid2\"/>](01_intro_python/lesson01_intro_python.ipynb#cid14)<br/> | Operators | [Introduction to Python<span id=\"cid2\"/>](01_intro_python/lesson01_intro_python.ipynb#cid14)<br/> |\n",
    " | Mutable | [Composite Data Types<span id=\"cid2\"/>](06_composite_data/composite_data.ipynb#cid31)<br/> | `or` | [Conditional Statements<span id=\"cid2\"/>](03_conditional_statements/s03_conditional_statements.ipynb#cid18)<br/> |\n",
    " | Named Arguments | [Functions<span id=\"cid2\"/>](05_functions/functions.ipynb#cid35)<br/> | Parentheses | [Introduction to Python<span id=\"cid2\"/>](01_intro_python/lesson01_intro_python.ipynb#cid16)<br/> |\n",
    " | Nested Data | [Composite Data Types<span id=\"cid2\"/>](06_composite_data/composite_data.ipynb#cid41)<br/> | `pass` | [Loops<span id=\"cid2\"/>](04_loops/loops.ipynb#cid40)<br/> |\n",
    " | `None` | [Functions<span id=\"cid2\"/>](05_functions/functions.ipynb#cid33)<br/> | `pop()` | [Data Types<span id=\"cid2\"/>](02_data_types/data_types.ipynb#cid42)<br/> |\n",
    " | `not` | [Conditional Statements<span id=\"cid2\"/>](03_conditional_statements/s03_conditional_statements.ipynb#cid18)<br/> | Primitive Values | [Composite Data Types<span id=\"cid2\"/>](06_composite_data/composite_data.ipynb#cid2)<br/> |\n",
    " | Notebooks | [Introduction to Python<span id=\"cid2\"/>](01_intro_python/lesson01_intro_python.ipynb#cid3)<br/> | `print()` | [Introduction to Python<span id=\"cid2\"/>](01_intro_python/lesson01_intro_python.ipynb#cid12)<br/> [Loops<span id=\"cid2\"/>](04_loops/loops.ipynb#cid20)<br/> |"
   ]
  },
  {
   "cell_type": "markdown",
   "id": "1f61cccb",
   "metadata": {
    "tiedown.cell_index": "cid8"
   },
   "source": [
    "## Q - S<span id=\"cid8\"/>\n",
    "| Term | Links | Term | Links |\n",
    "| --- | --- | --- | --- |\n",
    " | Quotes | [Introduction to Python<span id=\"cid2\"/>](01_intro_python/lesson01_intro_python.ipynb#cid37)<br/> | Slicing | [Introduction to Python<span id=\"cid2\"/>](01_intro_python/lesson01_intro_python.ipynb#cid43)<br/> |\n",
    " | `range()` | [Loops<span id=\"cid2\"/>](04_loops/loops.ipynb#cid19)<br/> | Statement | [Conditional Statements<span id=\"cid2\"/>](03_conditional_statements/s03_conditional_statements.ipynb#cid2)<br/> |\n",
    " | `return` | [Functions<span id=\"cid2\"/>](05_functions/functions.ipynb#cid31)<br/> | Statements | [Functions<span id=\"cid2\"/>](05_functions/functions.ipynb#cid9)<br/> |\n",
    " | Return Statement | [Functions<span id=\"cid2\"/>](05_functions/functions.ipynb#cid31)<br/> | `str()` | [Data Types<span id=\"cid2\"/>](02_data_types/data_types.ipynb#cid16)<br/> |\n",
    " | Return Values | [Data Types<span id=\"cid2\"/>](02_data_types/data_types.ipynb#cid5)<br/> [Functions<span id=\"cid2\"/>](05_functions/functions.ipynb#cid19)<br/> | String Concatenation (Joining) | [Introduction to Python<span id=\"cid2\"/>](01_intro_python/lesson01_intro_python.ipynb#cid41)<br/> |\n",
    " | Root Mean Square | [Conditional Statements<span id=\"cid2\"/>](03_conditional_statements/s03_conditional_statements.ipynb#cid34)<br/> | String Indexing | [Introduction to Python<span id=\"cid2\"/>](01_intro_python/lesson01_intro_python.ipynb#cid43)<br/> |\n",
    " | `round()` | [Introduction to Python<span id=\"cid2\"/>](01_intro_python/lesson01_intro_python.ipynb#cid29)<br/> | String Length | [Introduction to Python<span id=\"cid2\"/>](01_intro_python/lesson01_intro_python.ipynb#cid42)<br/> |\n",
    " | Saving a Notebook | [Introduction to Python<span id=\"cid2\"/>](01_intro_python/lesson01_intro_python.ipynb#cid70)<br/> | Strings | [Introduction to Python<span id=\"cid2\"/>](01_intro_python/lesson01_intro_python.ipynb#cid37)<br/> [Data Types<span id=\"cid2\"/>](02_data_types/data_types.ipynb#cid13)<br/> |\n",
    " | Scalars | [Composite Data Types<span id=\"cid2\"/>](06_composite_data/composite_data.ipynb#cid2)<br/> | Style Guides | [Conditional Statements<span id=\"cid2\"/>](03_conditional_statements/s03_conditional_statements.ipynb#cid4)<br/> |\n",
    " | Slashes | [Introduction to Python<span id=\"cid2\"/>](01_intro_python/lesson01_intro_python.ipynb#cid39)<br/> | Subtraction | [Introduction to Python<span id=\"cid2\"/>](01_intro_python/lesson01_intro_python.ipynb#cid14)<br/> |"
   ]
  },
  {
   "cell_type": "markdown",
   "id": "afd386dc",
   "metadata": {
    "tiedown.cell_index": "cid9"
   },
   "source": [
    "## T - V<span id=\"cid9\"/>\n",
    "| Term | Links | Term | Links |\n",
    "| --- | --- | --- | --- |\n",
    " | Text Cells | [Introduction to Python<span id=\"cid2\"/>](01_intro_python/lesson01_intro_python.ipynb#cid3)<br/> | Type Conversions | [Data Types<span id=\"cid2\"/>](02_data_types/data_types.ipynb#cid16)<br/> |\n",
    " | `title()` | [Data Types<span id=\"cid2\"/>](02_data_types/data_types.ipynb#cid31)<br/> | `type()` | [Data Types<span id=\"cid2\"/>](02_data_types/data_types.ipynb#cid6)<br/> [Data Types<span id=\"cid2\"/>](02_data_types/data_types.ipynb#cid7)<br/> |\n",
    " | `tuple()` | [Composite Data Types<span id=\"cid2\"/>](06_composite_data/composite_data.ipynb#cid39)<br/> | Unary Operators | [Introduction to Python<span id=\"cid2\"/>](01_intro_python/lesson01_intro_python.ipynb#cid14)<br/> |\n",
    " | Tuples | [Composite Data Types<span id=\"cid2\"/>](06_composite_data/composite_data.ipynb#cid30)<br/> | `upper()` | [Data Types<span id=\"cid2\"/>](02_data_types/data_types.ipynb#cid25)<br/> |\n",
    " | Tuples, Packaing | [Composite Data Types<span id=\"cid2\"/>](06_composite_data/composite_data.ipynb#cid34)<br/> | Variable Names | [Introduction to Python<span id=\"cid2\"/>](01_intro_python/lesson01_intro_python.ipynb#cid25)<br/> |\n",
    " | Tuples, Unpacking | [Composite Data Types<span id=\"cid2\"/>](06_composite_data/composite_data.ipynb#cid34)<br/> | Variables | [Introduction to Python<span id=\"cid2\"/>](01_intro_python/lesson01_intro_python.ipynb#cid20)<br/> |"
   ]
  },
  {
   "cell_type": "markdown",
   "id": "e4554d59",
   "metadata": {
    "tiedown.cell_index": "cid10"
   },
   "source": [
    "## X - Z<span id=\"cid10\"/>\n",
    "| Term | Links | Term | Links |\n",
    "| --- | --- | --- | --- |"
   ]
  },
  {
   "cell_type": "markdown",
   "id": "6d6e118c-eef8-4c5d-ae5f-482ab439dbc4",
   "metadata": {
    "tiedown.cell_index": "cid11"
   },
   "source": [
    "[Table of Contents](toc.ipynb)<span id=\"cid11\"/>"
   ]
  },
  {
   "cell_type": "code",
   "execution_count": null,
   "id": "68a722af-b8bc-48f0-aed2-14ba2741428a",
   "metadata": {},
   "outputs": [],
   "source": []
  }
 ],
 "metadata": {
  "kernelspec": {
   "display_name": "Python 3 (ipykernel)",
   "language": "python",
   "name": "python3"
  }
 },
 "nbformat": 4,
 "nbformat_minor": 5
}
