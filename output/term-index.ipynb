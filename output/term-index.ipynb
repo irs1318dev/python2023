{
 "cells": [
  {
   "cell_type": "markdown",
   "id": "1783cff3-7acc-4f5a-b85b-a0f26b1c5b0e",
   "metadata": {
    "tiedown.cell_index": "cid1"
   },
   "source": [
    "<a name=\"cid1\"></a>\n",
    "Prev:  | [Table of Contents](toc.ipynb) | Next:"
   ]
  },
  {
   "cell_type": "markdown",
   "id": "48242178",
   "metadata": {
    "tiedown.cell_index": "cid2"
   },
   "source": [
    "<a name=\"cid2\"></a>\n",
    "# Index\n",
    "Key terms are listed below, with links to the portion of the FRC Python Tutorial that explains the term."
   ]
  },
  {
   "cell_type": "markdown",
   "id": "df62144e",
   "metadata": {
    "tiedown.cell_index": "cid3"
   },
   "source": [
    "<a name=\"cid3\"></a>\n",
    "## Symbols\n",
    "| Term | Links | Term | Links |\n",
    "| --- | --- | --- | --- |\n",
    " | `%=` | [Loops](04_loops/loops.ipynb#cid7)<br/> | `//=` | [Loops](04_loops/loops.ipynb#cid7)<br/> |\n",
    " | `*` | [Introduction to Python](01_intro_python/intro_python.ipynb#cid14)<br/> | `/=` | [Loops](04_loops/loops.ipynb#cid7)<br/> |\n",
    " | `**` | [Introduction to Python](01_intro_python/intro_python.ipynb#cid14)<br/> | `:` | [Introduction to Python](01_intro_python/intro_python.ipynb#cid45)<br/> |\n",
    " | `*=` | [Loops](04_loops/loops.ipynb#cid7)<br/> | `<` | [Conditional Statements](03_conditional_statements/s03_conditional_statements.ipynb#cid13)<br/> |\n",
    " | `+` | [Introduction to Python](01_intro_python/intro_python.ipynb#cid14)<br/> | `<=` | [Conditional Statements](03_conditional_statements/s03_conditional_statements.ipynb#cid13)<br/> |\n",
    " | `+=` | [Loops](04_loops/loops.ipynb#cid6)<br/> | `==` | [Conditional Statements](03_conditional_statements/s03_conditional_statements.ipynb#cid6)<br/> |\n",
    " | `-` | [Introduction to Python](01_intro_python/intro_python.ipynb#cid14)<br/> | `>` | [Conditional Statements](03_conditional_statements/s03_conditional_statements.ipynb#cid13)<br/> |\n",
    " | `-=` | [Loops](04_loops/loops.ipynb#cid6)<br/> | `>=` | [Conditional Statements](03_conditional_statements/s03_conditional_statements.ipynb#cid13)<br/> |\n",
    " | `/` | [Introduction to Python](01_intro_python/intro_python.ipynb#cid14)<br/> | `\\n` | [Conditional Statements](03_conditional_statements/s03_conditional_statements.ipynb#cid23)<br/> [File Operations and Comprehensions](07_files_and_comprehensions/files_and_comprehensions.ipynb#cid22)<br/> |"
   ]
  },
  {
   "cell_type": "markdown",
   "id": "0250caa7",
   "metadata": {
    "tiedown.cell_index": "cid4"
   },
   "source": [
    "<a name=\"cid4\"></a>\n",
    "## A - D\n",
    "| Term | Links | Term | Links |\n",
    "| --- | --- | --- | --- |\n",
    " | Addition | [Introduction to Python](01_intro_python/intro_python.ipynb#cid14)<br/> | Command Line Interpreter | [File Operations and Comprehensions](07_files_and_comprehensions/files_and_comprehensions.ipynb#cid3)<br/> |\n",
    " | Advice | [Data Types](02_data_types/data_types.ipynb#cid3)<br/> | Comments | [Introduction to Python](01_intro_python/intro_python.ipynb#cid7)<br/> |\n",
    " | `and` | [Conditional Statements](03_conditional_statements/s03_conditional_statements.ipynb#cid18)<br/> | Comparison Operators | [Conditional Statements](03_conditional_statements/s03_conditional_statements.ipynb#cid6)<br/> [Conditional Statements](03_conditional_statements/s03_conditional_statements.ipynb#cid13)<br/> |\n",
    " | `append()` | [Data Types](02_data_types/data_types.ipynb#cid38)<br/> | Composite Data Types | [Data Types](02_data_types/data_types.ipynb#cid32)<br/> |\n",
    " | Arguments | [Introduction to Python](01_intro_python/intro_python.ipynb#cid30)<br/> [Data Types](02_data_types/data_types.ipynb#cid4)<br/> [Functions](05_functions/functions.ipynb#cid19)<br/> | Composite Types | [Composite Data Types](06_composite_data/composite_data.ipynb#cid2)<br/> |\n",
    " | Arithmetic Mean | [Conditional Statements](03_conditional_statements/s03_conditional_statements.ipynb#cid34)<br/> | Conditional Statements | [Conditional Statements](03_conditional_statements/s03_conditional_statements.ipynb#cid5)<br/> |\n",
    " | `as_integer_ratio()` | [Data Types](02_data_types/data_types.ipynb#cid28)<br/> | `continue` | [Loops](04_loops/loops.ipynb#cid31)<br/> |\n",
    " | Assignment Statement | [Conditional Statements](03_conditional_statements/s03_conditional_statements.ipynb#cid2)<br/> | Control Characters | [File Operations and Comprehensions](07_files_and_comprehensions/files_and_comprehensions.ipynb#cid25)<br/> |\n",
    " | Assignment Statements | [Loops](04_loops/loops.ipynb#cid4)<br/> | Csv Files | [Tabular Data](08_tabular_data/tabular_data.ipynb#cid6)<br/> |\n",
    " | Atomic | [Data Types](02_data_types/data_types.ipynb#cid32)<br/> | Csv Module | [Tabular Data](08_tabular_data/tabular_data.ipynb#cid8)<br/> |\n",
    " | Backwards Slash | [Introduction to Python](01_intro_python/intro_python.ipynb#cid39)<br/> | Dataframe | [Tabular Data](08_tabular_data/tabular_data.ipynb#cid13)<br/> |\n",
    " | Binary Operators | [Introduction to Python](01_intro_python/intro_python.ipynb#cid14)<br/> | `DataFrame.loc` | [Tabular Data](08_tabular_data/tabular_data.ipynb#cid28)<br/> |\n",
    " | `bit_length()` | [Data Types](02_data_types/data_types.ipynb#cid29)<br/> | `def` | [Functions](05_functions/functions.ipynb#cid16)<br/> |\n",
    " | `bool()` | [Conditional Statements](03_conditional_statements/s03_conditional_statements.ipynb#cid9)<br/> | Default Argument Values | [Functions](05_functions/functions.ipynb#cid38)<br/> |\n",
    " | Boole, George | [Conditional Statements](03_conditional_statements/s03_conditional_statements.ipynb#cid8)<br/> | `del` | [Data Types](02_data_types/data_types.ipynb#cid44)<br/> |\n",
    " | Boolean Expressions | [Conditional Statements](03_conditional_statements/s03_conditional_statements.ipynb#cid20)<br/> | `dict()` | [Composite Data Types](06_composite_data/composite_data.ipynb#cid13)<br/> |\n",
    " | Booleans | [Conditional Statements](03_conditional_statements/s03_conditional_statements.ipynb#cid8)<br/> | `dict.items()` | [Composite Data Types](06_composite_data/composite_data.ipynb#cid17)<br/> |\n",
    " | `break` | [Loops](04_loops/loops.ipynb#cid29)<br/> | `dict.keys()` | [Composite Data Types](06_composite_data/composite_data.ipynb#cid17)<br/> |\n",
    " | Built-In Functions | [Functions](05_functions/functions.ipynb#cid44)<br/> | `dict.values()` | [Composite Data Types](06_composite_data/composite_data.ipynb#cid17)<br/> |\n",
    " | Case Sensitive | [Introduction to Python](01_intro_python/intro_python.ipynb#cid22)<br/> | Dictionaries | [Composite Data Types](06_composite_data/composite_data.ipynb#cid4)<br/> |\n",
    " | Cli | [File Operations and Comprehensions](07_files_and_comprehensions/files_and_comprehensions.ipynb#cid3)<br/> | Dictionaries, Keys | [Composite Data Types](06_composite_data/composite_data.ipynb#cid6)<br/> |\n",
    " | `close()` | [File Operations and Comprehensions](07_files_and_comprehensions/files_and_comprehensions.ipynb#cid19)<br/> | Dictionaries, Values | [Composite Data Types](06_composite_data/composite_data.ipynb#cid6)<br/> |\n",
    " | Code Blocks | [Functions](05_functions/functions.ipynb#cid12)<br/> | Dictionary Comprehensions | [File Operations and Comprehensions](07_files_and_comprehensions/files_and_comprehensions.ipynb#cid38)<br/> |\n",
    " | Code Cells | [Introduction to Python](01_intro_python/intro_python.ipynb#cid3)<br/> | Division | [Introduction to Python](01_intro_python/intro_python.ipynb#cid14)<br/> |"
   ]
  },
  {
   "cell_type": "markdown",
   "id": "77cec63f",
   "metadata": {
    "tiedown.cell_index": "cid5"
   },
   "source": [
    "<a name=\"cid5\"></a>\n",
    "## E - H\n",
    "| Term | Links | Term | Links |\n",
    "| --- | --- | --- | --- |\n",
    " | `elif` | [Conditional Statements](03_conditional_statements/s03_conditional_statements.ipynb#cid25)<br/> | FIRST Robotics Competitions (FRC) | [Introduction to Python](01_intro_python/intro_python.ipynb#cid26)<br/> |\n",
    " | `else` | [Conditional Statements](03_conditional_statements/s03_conditional_statements.ipynb#cid22)<br/> | FIRST Tech Challenge | [Conditional Statements](03_conditional_statements/s03_conditional_statements.ipynb#cid26)<br/> |\n",
    " | Else If | [Conditional Statements](03_conditional_statements/s03_conditional_statements.ipynb#cid25)<br/> | `float()` | [Data Types](02_data_types/data_types.ipynb#cid16)<br/> |\n",
    " | End Of Line Character | [File Operations and Comprehensions](07_files_and_comprehensions/files_and_comprehensions.ipynb#cid22)<br/> | Floats | [Data Types](02_data_types/data_types.ipynb#cid8)<br/> |\n",
    " | Equality Operator | [Conditional Statements](03_conditional_statements/s03_conditional_statements.ipynb#cid6)<br/> | For Loops | [Loops](04_loops/loops.ipynb#cid17)<br/> |\n",
    " | Escape Sequences | [File Operations and Comprehensions](07_files_and_comprehensions/files_and_comprehensions.ipynb#cid25)<br/> | Forwards Slash | [Introduction to Python](01_intro_python/intro_python.ipynb#cid39)<br/> |\n",
    " | Exponentiation | [Introduction to Python](01_intro_python/intro_python.ipynb#cid14)<br/> | Functions | [Functions](05_functions/functions.ipynb#cid2)<br/> |\n",
    " | Expressions | [Functions](05_functions/functions.ipynb#cid3)<br/> | Geometric Mean | [Conditional Statements](03_conditional_statements/s03_conditional_statements.ipynb#cid34)<br/> |\n",
    " | Factorial | [Loops](04_loops/loops.ipynb#cid15)<br/> | Google Colab | [Introduction to Python](01_intro_python/intro_python.ipynb#cid3)<br/> |\n",
    " | Fibonnaci Sequence | [Loops](04_loops/loops.ipynb#cid11)<br/> | Google Drive | [Introduction to Python](01_intro_python/intro_python.ipynb#cid70)<br/> |\n",
    " | File Operations | [File Operations and Comprehensions](07_files_and_comprehensions/files_and_comprehensions.ipynb#cid6)<br/> | Greater Than Operator | [Conditional Statements](03_conditional_statements/s03_conditional_statements.ipynb#cid13)<br/> |\n",
    " | FIRST Lego League | [Conditional Statements](03_conditional_statements/s03_conditional_statements.ipynb#cid26)<br/> | Greater Than Or Equal Operator | [Conditional Statements](03_conditional_statements/s03_conditional_statements.ipynb#cid13)<br/> |\n",
    " | FIRST Robotics Competition | [Conditional Statements](03_conditional_statements/s03_conditional_statements.ipynb#cid26)<br/> | Guido van Rossum | [Introduction to Python](01_intro_python/intro_python.ipynb#cid2)<br/> |"
   ]
  },
  {
   "cell_type": "markdown",
   "id": "102932ad",
   "metadata": {
    "tiedown.cell_index": "cid6"
   },
   "source": [
    "<a name=\"cid6\"></a>\n",
    "## I - L\n",
    "| Term | Links | Term | Links |\n",
    "| --- | --- | --- | --- |\n",
    " | `id()` | [Data Types](02_data_types/data_types.ipynb#cid27)<br/> | Keyword | [Data Types](02_data_types/data_types.ipynb#cid44)<br/> [Data Types](02_data_types/data_types.ipynb#cid44)<br/> |\n",
    " | `if` | [Conditional Statements](03_conditional_statements/s03_conditional_statements.ipynb#cid5)<br/> [Conditional Statements](03_conditional_statements/s03_conditional_statements.ipynb#cid22)<br/> | Keyword Arguments | [Functions](05_functions/functions.ipynb#cid35)<br/> |\n",
    " | if Statement | [Conditional Statements](03_conditional_statements/s03_conditional_statements.ipynb#cid5)<br/> | `len()` | [Introduction to Python](01_intro_python/intro_python.ipynb#cid42)<br/> |\n",
    " | If Statement | [Conditional Statements](03_conditional_statements/s03_conditional_statements.ipynb#cid22)<br/> | Less Than Operator | [Conditional Statements](03_conditional_statements/s03_conditional_statements.ipynb#cid13)<br/> |\n",
    " | Immutable | [Composite Data Types](06_composite_data/composite_data.ipynb#cid31)<br/> | Less Than Or Equal Operator | [Conditional Statements](03_conditional_statements/s03_conditional_statements.ipynb#cid13)<br/> |\n",
    " | `input()` | [Data Types](02_data_types/data_types.ipynb#cid54)<br/> | Line Continuation | [Conditional Statements](03_conditional_statements/s03_conditional_statements.ipynb#cid3)<br/> |\n",
    " | `int()` | [Data Types](02_data_types/data_types.ipynb#cid16)<br/> | List Comprehensions | [File Operations and Comprehensions](07_files_and_comprehensions/files_and_comprehensions.ipynb#cid35)<br/> |\n",
    " | Integers | [Data Types](02_data_types/data_types.ipynb#cid7)<br/> | Lists | [Data Types](02_data_types/data_types.ipynb#cid32)<br/> |\n",
    " | `isdigit()` | [Data Types](02_data_types/data_types.ipynb#cid28)<br/> | Literals | [Data Types](02_data_types/data_types.ipynb#cid4)<br/> [Functions](05_functions/functions.ipynb#cid4)<br/> |\n",
    " | `isupper()` | [Data Types](02_data_types/data_types.ipynb#cid28)<br/> | Logical Operators | [Conditional Statements](03_conditional_statements/s03_conditional_statements.ipynb#cid17)<br/> |\n",
    " | Json | [File Operations and Comprehensions](07_files_and_comprehensions/files_and_comprehensions.ipynb#cid31)<br/> | Loops | [Loops](04_loops/loops.ipynb#cid3)<br/> |\n",
    " | `json.dump()` | [File Operations and Comprehensions](07_files_and_comprehensions/files_and_comprehensions.ipynb#cid33)<br/> | `lower()` | [Data Types](02_data_types/data_types.ipynb#cid28)<br/> |\n",
    " | `json.load()` | [File Operations and Comprehensions](07_files_and_comprehensions/files_and_comprehensions.ipynb#cid33)<br/> |  |  |"
   ]
  },
  {
   "cell_type": "markdown",
   "id": "95c176ec",
   "metadata": {
    "tiedown.cell_index": "cid7"
   },
   "source": [
    "<a name=\"cid7\"></a>\n",
    "## M - P\n",
    "| Term | Links | Term | Links |\n",
    "| --- | --- | --- | --- |\n",
    " | Magic Commands | [Data Visualization with MatPlotlib](09_visualization_matplotlib/matplotlib.ipynb#cid7)<br/> | Operands | [Conditional Statements](03_conditional_statements/s03_conditional_statements.ipynb#cid7)<br/> |\n",
    " | Matplotlib | [Data Visualization with MatPlotlib](09_visualization_matplotlib/matplotlib.ipynb#cid7)<br/> | Operators | [Introduction to Python](01_intro_python/intro_python.ipynb#cid14)<br/> |\n",
    " | `max()` | [File Operations and Comprehensions](07_files_and_comprehensions/files_and_comprehensions.ipynb#cid57)<br/> | `or` | [Conditional Statements](03_conditional_statements/s03_conditional_statements.ipynb#cid18)<br/> |\n",
    " | Methods | [Data Types](02_data_types/data_types.ipynb#cid26)<br/> | `ord()` | [File Operations and Comprehensions](07_files_and_comprehensions/files_and_comprehensions.ipynb#cid24)<br/> |\n",
    " | `min()` | [File Operations and Comprehensions](07_files_and_comprehensions/files_and_comprehensions.ipynb#cid57)<br/> | `os.chdir` | [File Operations and Comprehensions](07_files_and_comprehensions/files_and_comprehensions.ipynb#cid9)<br/> |\n",
    " | Monty Python | [Introduction to Python](01_intro_python/intro_python.ipynb#cid2)<br/> | `os.getcwd()` | [File Operations and Comprehensions](07_files_and_comprehensions/files_and_comprehensions.ipynb#cid9)<br/> |\n",
    " | Multiplication | [Introduction to Python](01_intro_python/intro_python.ipynb#cid14)<br/> | Pandas Package | [Tabular Data](08_tabular_data/tabular_data.ipynb#cid11)<br/> |\n",
    " | Mutable | [Composite Data Types](06_composite_data/composite_data.ipynb#cid31)<br/> | Pandas, Boolean Indexing | [Tabular Data](08_tabular_data/tabular_data.ipynb#cid36)<br/> |\n",
    " | Named Arguments | [Functions](05_functions/functions.ipynb#cid35)<br/> | Pandas, Indexing | [Tabular Data](08_tabular_data/tabular_data.ipynb#cid23)<br/> |\n",
    " | Nested Data | [Composite Data Types](06_composite_data/composite_data.ipynb#cid41)<br/> | `pandas.DataFrame` | [Tabular Data](08_tabular_data/tabular_data.ipynb#cid21)<br/> |\n",
    " | `None` | [Functions](05_functions/functions.ipynb#cid33)<br/> | `pandas.Series` | [Tabular Data](08_tabular_data/tabular_data.ipynb#cid21)<br/> |\n",
    " | `not` | [Conditional Statements](03_conditional_statements/s03_conditional_statements.ipynb#cid18)<br/> | Parentheses | [Introduction to Python](01_intro_python/intro_python.ipynb#cid16)<br/> |\n",
    " | Notebooks | [Introduction to Python](01_intro_python/intro_python.ipynb#cid3)<br/> | `pass` | [Loops](04_loops/loops.ipynb#cid40)<br/> |\n",
    " | Numpy | [Data Visualization with MatPlotlib](09_visualization_matplotlib/matplotlib.ipynb#cid8)<br/> | `pop()` | [Data Types](02_data_types/data_types.ipynb#cid42)<br/> |\n",
    " | `open()` | [File Operations and Comprehensions](07_files_and_comprehensions/files_and_comprehensions.ipynb#cid6)<br/> | Primitive Values | [Composite Data Types](06_composite_data/composite_data.ipynb#cid2)<br/> |\n",
    " | Opening a Saved Notebook | [Introduction to Python](01_intro_python/intro_python.ipynb#cid70)<br/> | `print()` | [Introduction to Python](01_intro_python/intro_python.ipynb#cid12)<br/> [Loops](04_loops/loops.ipynb#cid20)<br/> |"
   ]
  },
  {
   "cell_type": "markdown",
   "id": "49a13e6a",
   "metadata": {
    "tiedown.cell_index": "cid8"
   },
   "source": [
    "<a name=\"cid8\"></a>\n",
    "## Q - S\n",
    "| Term | Links | Term | Links |\n",
    "| --- | --- | --- | --- |\n",
    " | Quotes | [Introduction to Python](01_intro_python/intro_python.ipynb#cid37)<br/> | Slashes | [Introduction to Python](01_intro_python/intro_python.ipynb#cid39)<br/> |\n",
    " | `range()` | [Loops](04_loops/loops.ipynb#cid19)<br/> | Slicing | [Introduction to Python](01_intro_python/intro_python.ipynb#cid43)<br/> |\n",
    " | `readlines()` | [File Operations and Comprehensions](07_files_and_comprehensions/files_and_comprehensions.ipynb#cid17)<br/> | Statement | [Conditional Statements](03_conditional_statements/s03_conditional_statements.ipynb#cid2)<br/> |\n",
    " | `return` | [Functions](05_functions/functions.ipynb#cid31)<br/> | Statements | [Functions](05_functions/functions.ipynb#cid9)<br/> |\n",
    " | Return Statement | [Functions](05_functions/functions.ipynb#cid31)<br/> | `str()` | [Data Types](02_data_types/data_types.ipynb#cid16)<br/> |\n",
    " | Return Values | [Data Types](02_data_types/data_types.ipynb#cid5)<br/> [Functions](05_functions/functions.ipynb#cid19)<br/> | String Concatenation (Joining) | [Introduction to Python](01_intro_python/intro_python.ipynb#cid41)<br/> |\n",
    " | Root Mean Square | [Conditional Statements](03_conditional_statements/s03_conditional_statements.ipynb#cid34)<br/> | String Indexing | [Introduction to Python](01_intro_python/intro_python.ipynb#cid43)<br/> |\n",
    " | `round()` | [Introduction to Python](01_intro_python/intro_python.ipynb#cid29)<br/> | String Length | [Introduction to Python](01_intro_python/intro_python.ipynb#cid42)<br/> |\n",
    " | Saving a Notebook | [Introduction to Python](01_intro_python/intro_python.ipynb#cid70)<br/> | Strings | [Introduction to Python](01_intro_python/intro_python.ipynb#cid37)<br/> [Data Types](02_data_types/data_types.ipynb#cid13)<br/> |\n",
    " | Scalars | [Composite Data Types](06_composite_data/composite_data.ipynb#cid2)<br/> | Style Guides | [Conditional Statements](03_conditional_statements/s03_conditional_statements.ipynb#cid4)<br/> |\n",
    " | `set()` | [File Operations and Comprehensions](07_files_and_comprehensions/files_and_comprehensions.ipynb#cid43)<br/> | Subtraction | [Introduction to Python](01_intro_python/intro_python.ipynb#cid14)<br/> |"
   ]
  },
  {
   "cell_type": "markdown",
   "id": "e3dcda20",
   "metadata": {
    "tiedown.cell_index": "cid9"
   },
   "source": [
    "<a name=\"cid9\"></a>\n",
    "## T - V\n",
    "| Term | Links | Term | Links |\n",
    "| --- | --- | --- | --- |\n",
    " | Text Cells | [Introduction to Python](01_intro_python/intro_python.ipynb#cid3)<br/> | Type Conversions | [Data Types](02_data_types/data_types.ipynb#cid16)<br/> |\n",
    " | `title()` | [Data Types](02_data_types/data_types.ipynb#cid31)<br/> | `type()` | [Data Types](02_data_types/data_types.ipynb#cid6)<br/> [Data Types](02_data_types/data_types.ipynb#cid7)<br/> |\n",
    " | `tuple()` | [Composite Data Types](06_composite_data/composite_data.ipynb#cid39)<br/> | Unary Operators | [Introduction to Python](01_intro_python/intro_python.ipynb#cid14)<br/> |\n",
    " | Tuples | [Composite Data Types](06_composite_data/composite_data.ipynb#cid30)<br/> | `upper()` | [Data Types](02_data_types/data_types.ipynb#cid25)<br/> |\n",
    " | Tuples, Packaing | [Composite Data Types](06_composite_data/composite_data.ipynb#cid34)<br/> | Variable Names | [Introduction to Python](01_intro_python/intro_python.ipynb#cid25)<br/> |\n",
    " | Tuples, Unpacking | [Composite Data Types](06_composite_data/composite_data.ipynb#cid34)<br/> | Variables | [Introduction to Python](01_intro_python/intro_python.ipynb#cid20)<br/> |"
   ]
  },
  {
   "cell_type": "markdown",
   "id": "7cfb773c",
   "metadata": {
    "tiedown.cell_index": "cid10"
   },
   "source": [
    "<a name=\"cid10\"></a>\n",
    "## X - Z\n",
    "| Term | Links | Term | Links |\n",
    "| --- | --- | --- | --- |"
   ]
  },
  {
   "cell_type": "markdown",
   "id": "6d6e118c-eef8-4c5d-ae5f-482ab439dbc4",
   "metadata": {
    "tiedown.cell_index": "cid11"
   },
   "source": [
    "<a name=\"cid11\"></a>\n",
    "Prev:  | [Table of Contents](toc.ipynb) | Next:"
   ]
  }
 ],
 "metadata": {
  "kernelspec": {
   "display_name": "Python 3 (ipykernel)",
   "language": "python",
   "name": "python3"
  }
 },
 "nbformat": 4,
 "nbformat_minor": 5
}
