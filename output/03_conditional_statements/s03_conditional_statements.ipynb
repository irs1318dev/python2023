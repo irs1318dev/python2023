{
 "cells": [
  {
   "cell_type": "markdown",
   "id": "1783cff3-7acc-4f5a-b85b-a0f26b1c5b0e",
   "metadata": {
    "tiedown.cell_index": "cid1"
   },
   "source": [
    "<a id=\"cid1\"></a>Next:  | [Table of Contents](../toc.ipynb) | Prev:"
   ]
  },
  {
   "cell_type": "markdown",
   "id": "5871be3a",
   "metadata": {
    "tiedown.cell_index": "cid2"
   },
   "source": [
    "<a id=\"cid2\"></a># Conditional Statements\n",
    "## I. Statements\n",
    "Before we discuss conditional statements, we should discuss what a statement is. In any programming language, a *statement* is an instruction to the computer, telling it to take some action. A simple example of a statement is the assignment statement. See below."
   ]
  },
  {
   "cell_type": "code",
   "execution_count": null,
   "id": "8aaca321",
   "metadata": {},
   "outputs": [],
   "source": [
    "# Assignment Statement\n",
    "match_score = 128"
   ]
  },
  {
   "cell_type": "markdown",
   "id": "08c20587",
   "metadata": {
    "tiedown.cell_index": "cid3"
   },
   "source": [
    "<a id=\"cid3\"></a>The statement above instructs the Python interpreter (the program that reads and executes the Python code) to create an integer object with a value of 128, and assign the variable `match_score` to reference that object.\n",
    "\n",
    "In Python, statements end at the end of the line, unless we explicitly tell Python to include the next line in the statement. See below for examples of how to continue statements to the following line."
   ]
  },
  {
   "cell_type": "code",
   "execution_count": null,
   "id": "9d8e7a64",
   "metadata": {},
   "outputs": [],
   "source": [
    "# Statements can be split between lines within function argument lists.\n",
    "# The new line must start after one of the commas that separates the arguments.\n",
    "# This is helpful if a function has many arguments.\n",
    "print(\"Competition not for the sake not of destroying\",\n",
    "     \"one another, but for the sake of bettering and\",\n",
    "     \"improving both competitors as a result of the\",\n",
    "     \"competition.\", \" - Woodie Flowers - \")"
   ]
  },
  {
   "cell_type": "code",
   "execution_count": null,
   "id": "0092caf6",
   "metadata": {},
   "outputs": [],
   "source": [
    "# List literals can be split after a comma.\n",
    "events = ['Glacier Peak', 'Auburn Mountainview', 'Yakima Sundome',\n",
    "         'Oregon State Fair', 'Wisonville', 'West Valley']\n",
    "events"
   ]
  },
  {
   "cell_type": "code",
   "execution_count": null,
   "id": "6d763553",
   "metadata": {},
   "outputs": [],
   "source": [
    "# Lines can be split by ending the first line with a backslash (\\)\n",
    "# This technique is considered to reflect poor style (yes, coding\n",
    "# can have style!), so only use it if you have no other options.\n",
    "grade_points = 4.0 + 3.7 + 4.0 + 3.3 \\\n",
    "               + 3.0 + 4.0\n",
    "grade_points"
   ]
  },
  {
   "cell_type": "code",
   "execution_count": null,
   "id": "3a28a046",
   "metadata": {},
   "outputs": [],
   "source": [
    "# Lines can also be split by enclosing a portion within parenthesis.\n",
    "# Most prefer this technique to the backslash used in the previous\n",
    "# code block.\n",
    "grade_points = (4.0 + 3.7 + 4.0 + 3.3\n",
    "               + 3.0 + 4.0)\n",
    "grade_points"
   ]
  },
  {
   "cell_type": "markdown",
   "id": "623c13cf",
   "metadata": {
    "tiedown.cell_index": "cid4"
   },
   "source": [
    "<a id=\"cid4\"></a>Knowing how to continue long statements to the next line is important. The style guidlines for Python and many other programming languages recommend limiting all lines to 79 characters or less. This practice makes it easier to view two code files side by side on one screen. Also, the mentor gets grouchy if he has to scroll horizontally to read your code.\n",
    "\n",
    "For this course we will follow the [official Python style guide](https://www.python.org/dev/peps/pep-0008/) and the [Google Python Style Guide](http://google.github.io/styleguide/pyguide.html). The links are included here in case you are curious. We will cover style rules later in the course. Progammers actually get into arguments over details of style."
   ]
  },
  {
   "cell_type": "markdown",
   "id": "58309b7a",
   "metadata": {
    "tiedown.cell_index": "cid5"
   },
   "source": [
    "<a id=\"cid5\"></a>## What are Conditional Statements? \n",
    "Completing numerical calculations and extracting characters from text strings is all well and good. But programs that merely execute the same sequence of statements over and over are boring. For a program to do something interesting, it needs to make decisions and execute different statements based on the situation. We need conditional statements for this.\n",
    "\n",
    "Python has one conditional statement, the `if` statement. Even if you've never heard of an `if` statement before, you'll probably understand the following chunk of code:\n",
    "```Python\n",
    "if num_cheetos_left == 0:\n",
    "    print('We need to buy more Cheetos!')\n",
    "```"
   ]
  },
  {
   "cell_type": "markdown",
   "id": "51e692ed",
   "metadata": {
    "tiedown.cell_index": "cid6"
   },
   "source": [
    "<a id=\"cid6\"></a>## Comparison Operators and Booleans\n",
    "To understand and use the `if` statement, we first need to understand comparison operators and the Boolean data type. We'll also discuss logical operators.\n",
    "\n",
    "### A. Testing for Equality and Boolean Data Types\n",
    "In computer programming we often need to determine if a variable is equal to a specific number. We can do that with the equality operator, `==`. It looks like the assignment statement, but it uses two equals signs instead of one."
   ]
  },
  {
   "cell_type": "code",
   "execution_count": null,
   "id": "bc5532db",
   "metadata": {},
   "outputs": [],
   "source": [
    "# Equality Operator - evaluates to True\n",
    "var1 = 2 + 2\n",
    "var1 == 4"
   ]
  },
  {
   "cell_type": "code",
   "execution_count": null,
   "id": "aa939411",
   "metadata": {},
   "outputs": [],
   "source": [
    "# Equality Operator - evaluates to False\n",
    "var1 == 5"
   ]
  },
  {
   "cell_type": "markdown",
   "id": "32762ba5",
   "metadata": {
    "tiedown.cell_index": "cid7"
   },
   "source": [
    "<a id=\"cid7\"></a>The equality operator doesn't make any changes to the values on either side. (By the way, values that are used with operators are called *operands*.) It basically asks a question: *Are these two values equal to each other?*\n",
    "\n",
    "But what are these words *True* and *False* that are being displayed? Running the next cell will provide a hint."
   ]
  },
  {
   "cell_type": "code",
   "execution_count": null,
   "id": "153cea8e",
   "metadata": {},
   "outputs": [],
   "source": [
    "# What do True and False mean?\n",
    "type(var1 == 4)"
   ]
  },
  {
   "cell_type": "markdown",
   "id": "afabae9f",
   "metadata": {
    "tiedown.cell_index": "cid8"
   },
   "source": [
    "<a id=\"cid8\"></a>Aha! We have discovered a new data type. The word *bool* is short for Boolean. The *Boolean* data type has only two values, `True` and `False`. Like integers, floats, and string, Boolean data types can be assigned to variables. The word *Boolean* is typically capitalized because Booleans were named after [George Boole](https://en.wikipedia.org/wiki/George_Boole), an English mathematician from the 19th century."
   ]
  },
  {
   "cell_type": "code",
   "execution_count": null,
   "id": "1546006a",
   "metadata": {},
   "outputs": [],
   "source": [
    "bool_val = True\n",
    "type(bool_val)"
   ]
  },
  {
   "cell_type": "code",
   "execution_count": null,
   "id": "66af1a0d",
   "metadata": {},
   "outputs": [],
   "source": [
    "bool_val = False\n",
    "type(bool_val)"
   ]
  },
  {
   "cell_type": "markdown",
   "id": "bf252ebd",
   "metadata": {
    "tiedown.cell_index": "cid9"
   },
   "source": [
    "<a id=\"cid9\"></a>Remember, Python is case sensitive. The values `True` and `False` must always have the first letter capitalized, with the remaining letters lower case.\n",
    "\n",
    "Boolean values have their own built-in function, <index>`bool()`</index>, just like integers, strings, and floats do."
   ]
  },
  {
   "cell_type": "code",
   "execution_count": null,
   "id": "ac840c03",
   "metadata": {},
   "outputs": [],
   "source": [
    "# Convert an integer to Boolean - 0 converts to False\n",
    "bvar = bool(0)\n",
    "bvar"
   ]
  },
  {
   "cell_type": "code",
   "execution_count": null,
   "id": "cc9264a3",
   "metadata": {},
   "outputs": [],
   "source": [
    "# Convert an integer to Boolean - All values other than 0 convert to True\n",
    "bvar = bool(37)\n",
    "bvar"
   ]
  },
  {
   "cell_type": "code",
   "execution_count": null,
   "id": "b3bdc4b7",
   "metadata": {},
   "outputs": [],
   "source": [
    "# Empty string converts to False\n",
    "bool(\"\")"
   ]
  },
  {
   "cell_type": "code",
   "execution_count": null,
   "id": "527886ca",
   "metadata": {},
   "outputs": [],
   "source": [
    "# All other strings convert to True\n",
    "bool(\"False\")"
   ]
  },
  {
   "cell_type": "code",
   "execution_count": null,
   "id": "b75ad7ff",
   "metadata": {},
   "outputs": [],
   "source": [
    "# An empty list converts to False\n",
    "bool([])"
   ]
  },
  {
   "cell_type": "code",
   "execution_count": null,
   "id": "10b301ce",
   "metadata": {},
   "outputs": [],
   "source": [
    "# All other lists convert to True\n",
    "bool([1, 2, 3])"
   ]
  },
  {
   "cell_type": "code",
   "execution_count": null,
   "id": "1635d212",
   "metadata": {},
   "outputs": [],
   "source": [
    "# Floats convert to Booleans in a similar fashion as integers\n",
    "print(bool(0.0))\n",
    "print(bool(0.1))"
   ]
  },
  {
   "cell_type": "markdown",
   "id": "9e215716",
   "metadata": {
    "tiedown.cell_index": "cid10"
   },
   "source": [
    "<a id=\"cid10\"></a>These rules for converting other data types to Booleans probably seem arbitrary and confusing. Don't worry too much about that now. Just remember that these rules exist -- they come in handy sometimes."
   ]
  },
  {
   "cell_type": "markdown",
   "id": "5a507a9b",
   "metadata": {
    "tiedown.cell_index": "cid11"
   },
   "source": [
    "<a id=\"cid11\"></a>### Equality Versus Variable Assignment - IMPORTANT DISTINCTION\n",
    "What is the difference between the following two statements?\n",
    "1. `my_var = 0`\n",
    "2. `my_var == 0`?\n",
    "\n",
    "In statement #1, with just one equals sign, we are assigning the value of 0 to the variable `my_var`. Perhaps `my_var` was equal to some other number before this statement, like 432. But after the statement, `print(my_var)` will display 0.\n",
    "\n",
    "#### 1. Displaying Booleans Exercise\n",
    "In statement #2, we are checking to see if `my_var` is equal to 0. So if `my_var` is actually equal to 432, what will `print(my_var == 0)` display? Run the cell below to find out."
   ]
  },
  {
   "cell_type": "code",
   "execution_count": null,
   "id": "4004b5b5",
   "metadata": {},
   "outputs": [],
   "source": [
    "# Exercse: Run this cell to see difference between variable assignment and conditional equality\n",
    "my_var = 432\n",
    "print(my_var == 0)"
   ]
  },
  {
   "cell_type": "markdown",
   "id": "98251022",
   "metadata": {
    "tiedown.cell_index": "cid12"
   },
   "source": [
    "<a id=\"cid12\"></a>Change the code above to make the `print` function display `True`.\n",
    "\n",
    "**Bottom line:** One equals sign and two equals signs are two completely different things. One equals sign is called the *assignment operator* and two equals signs are called the *equality* operator. Try not to mix these up."
   ]
  },
  {
   "cell_type": "markdown",
   "id": "c1cc207f",
   "metadata": {
    "tiedown.cell_index": "cid13"
   },
   "source": [
    "<a id=\"cid13\"></a>### More Comparison Operators\n",
    "Now back to comparison operators. Determining equality is all good, but what if we want to see if a number is *not* equal to another number? Python has an operator for that."
   ]
  },
  {
   "cell_type": "code",
   "execution_count": null,
   "id": "8a40cc80",
   "metadata": {},
   "outputs": [],
   "source": [
    "# Inequality Operator\n",
    "print(4 != 4)\n",
    "print(4 != 3)"
   ]
  },
  {
   "cell_type": "markdown",
   "id": "238aa008",
   "metadata": {
    "tiedown.cell_index": "cid14"
   },
   "source": [
    "<a id=\"cid14\"></a>Python also has operators to determine if values are less or greater than each other."
   ]
  },
  {
   "cell_type": "code",
   "execution_count": null,
   "id": "f0cbed02",
   "metadata": {},
   "outputs": [],
   "source": [
    "# Less than and greater than operators\n",
    "print(4 < 5)\n",
    "print(4 > 5)"
   ]
  },
  {
   "cell_type": "markdown",
   "id": "5939a579",
   "metadata": {
    "tiedown.cell_index": "cid15"
   },
   "source": [
    "<a id=\"cid15\"></a>Both the *less than* and *greater than* operators will return False if the two operands are equal."
   ]
  },
  {
   "cell_type": "code",
   "execution_count": null,
   "id": "bae5b71d",
   "metadata": {},
   "outputs": [],
   "source": [
    "# Returns False if operands are equal\n",
    "print(4 < 4)\n",
    "print(4 > 4)"
   ]
  },
  {
   "cell_type": "markdown",
   "id": "922f4714",
   "metadata": {
    "tiedown.cell_index": "cid16"
   },
   "source": [
    "<a id=\"cid16\"></a>Python does have *or equal to* versions of both the *less than* and *greater than* operator."
   ]
  },
  {
   "cell_type": "code",
   "execution_count": null,
   "id": "00211bd0",
   "metadata": {},
   "outputs": [],
   "source": [
    "# Less than or equal to\n",
    "print(4 <= 4)\n",
    "print(3 <= 4)\n",
    "print(4 >= 4)\n",
    "print(2 >= 4)"
   ]
  },
  {
   "cell_type": "markdown",
   "id": "2f7c9b86",
   "metadata": {
    "tiedown.cell_index": "cid17"
   },
   "source": [
    "<a id=\"cid17\"></a>### Adding Logical Operators\n",
    "What if we wanted to determine whether a number is between two other numbers? Check out the example below."
   ]
  },
  {
   "cell_type": "code",
   "execution_count": null,
   "id": "87e90b5e",
   "metadata": {},
   "outputs": [],
   "source": [
    "# Checking if a number is between two other numbers\n",
    "num = 50\n",
    "num > 10 and num < 20"
   ]
  },
  {
   "cell_type": "markdown",
   "id": "4e452d97",
   "metadata": {
    "tiedown.cell_index": "cid18"
   },
   "source": [
    "<a id=\"cid18\"></a>Python has an `and` operator which returns `True` if the operands on either side are true. In the preceding example, `num` is greater than 10, but it is not less than 20. Python also has an `or` and a `not` operator. These three operators are called **logical operators** because they operate on logical `True` and `False` values."
   ]
  },
  {
   "cell_type": "code",
   "execution_count": null,
   "id": "19eeaded",
   "metadata": {},
   "outputs": [],
   "source": [
    "# More examples of logcial operators\n",
    "print(\"True and False:\", True and False)\n",
    "print(\"True and not False;\", True and not False)\n",
    "print(\"True or False:\", True or False)\n",
    "print(\"False or not False:\", False and not False)"
   ]
  },
  {
   "cell_type": "markdown",
   "id": "f8724007",
   "metadata": {
    "tiedown.cell_index": "cid19"
   },
   "source": [
    "<a id=\"cid19\"></a>Both the `and` and `not` operators require two operands. The `and` operator returns the Boolean value `True` if both operands are `True` and returns `False` otherwise. The `or` operator returns `True` if one or more of its operands is `True` and returns `False` otherwise. Finally, the `not` operator, which only requires a single operand, returns the negation of it's operand's Boolean value. Check this explanation against the preceding example and make sure you understand it.\n",
    "\n",
    "With logical operators we can make more sophisticated comparisons."
   ]
  },
  {
   "cell_type": "code",
   "execution_count": null,
   "id": "570a88d0",
   "metadata": {},
   "outputs": [],
   "source": [
    "# Determine if a number is less than 100 and a multiple of 3\n",
    "num = int(input(\"Enter a number: \"))\n",
    "num < 100 and num % 3 == 0"
   ]
  },
  {
   "cell_type": "code",
   "execution_count": null,
   "id": "892bd6be",
   "metadata": {},
   "outputs": [],
   "source": [
    "# Determine if a number is between 20 and 30, or if it is not a multiple of 5\n",
    "num = int(input(\"Enter a number: \"))\n",
    "(num <= 30 and num >= 20) or not num % 5 == 0"
   ]
  },
  {
   "cell_type": "markdown",
   "id": "5283d461",
   "metadata": {
    "tiedown.cell_index": "cid20"
   },
   "source": [
    "<a id=\"cid20\"></a>The preceding example uses parentheses to clarify which operation is completed first. Python first determines whether the number is between 20 and 30 (the operation within parentheses), and then it checks to see if the number is divisible by 5. Next it negates the result of the divisibility check and then finally it completes the *or* comparison. In this example the parentheses are not necessary because the `and` operation would be completed first anyway, both because it has higher precedence than `or` and because it occurs to the left of `or`. (When there are multiple operations with the same precedence they are completed left to right.) It doesn't hurt to use parentheses even if they are are not needed. They often make the expression easier to understand.\n",
    "\n",
    "Comparisons that evaluate to true or false are often called *Boolean expressions*."
   ]
  },
  {
   "cell_type": "markdown",
   "id": "7b5026c4",
   "metadata": {
    "tiedown.cell_index": "cid21"
   },
   "source": [
    "<a id=\"cid21\"></a>Now we are ready to move on to control statements."
   ]
  },
  {
   "cell_type": "markdown",
   "id": "dd41351a",
   "metadata": {
    "tiedown.cell_index": "cid22"
   },
   "source": [
    "<a id=\"cid22\"></a>## If Statements\n",
    "### B. If and Else\n",
    "The first control statement we'll discuss is the *if* statement. The *if* statement is one of the most foundational elements of computer programming. Perhaps there is an obscure programming language without an *if* statement or equivalent feature, but the mentor just spent ten minutes looking for such a language on Google and didn't find one."
   ]
  },
  {
   "cell_type": "code",
   "execution_count": null,
   "id": "54acfe97",
   "metadata": {},
   "outputs": [],
   "source": [
    "# Our first `if` statement.\n",
    "date = int(input(\"What is the day of the month today? Please enter an integer.\\n\"))\n",
    "if date > 31:\n",
    "    print(\"I think you are mistaken.\")"
   ]
  },
  {
   "cell_type": "markdown",
   "id": "b43e79b5",
   "metadata": {
    "tiedown.cell_index": "cid23"
   },
   "source": [
    "<a id=\"cid23\"></a>The program asked for the user to enter today's date as an integer. The `if` statement checks if the date is greater than 31. If the comparison evaluates to `True`, then the program prints a message indicating a mistake has been made. If the date entered is 31 or less, the comparison evaluates to `False` and nothing happens.\n",
    "\n",
    "By the way, the `\"\\n\"` tells Python to enter a carriage return and for all subsequent output to appear on the next line. Try removing the `\"\\n\"` and see what happens.\n",
    "\n",
    "It would be nice if the program responded in some way when a correct date is entered. Good news, Python has a feature for that -- the `else` clause."
   ]
  },
  {
   "cell_type": "code",
   "execution_count": null,
   "id": "341bd1ae",
   "metadata": {},
   "outputs": [],
   "source": [
    "# Our first 'else' statement\n",
    "date = int(input(\"What is the date today? Please enter an integer.\\n\"))\n",
    "if date > 31:\n",
    "    print(\"I think you are mistaken.\")\n",
    "else:\n",
    "    print(\"Thank you\")"
   ]
  },
  {
   "cell_type": "markdown",
   "id": "a54326a0",
   "metadata": {
    "tiedown.cell_index": "cid24"
   },
   "source": [
    "<a id=\"cid24\"></a>The statement after the <index>`else`</index> clause will be executed only if the expression `date > 31` evaluates to `False`. *Else* clauses cannot exist by themselves. They must always follow an `if` statement (or they can follow a `try` statement, but we'll discuss that later).\n",
    "\n",
    "Run the date program and enter a negative integer less than 31. Our program doesn't recognize that dates can't be negative. We can fix that with an `elif` clause."
   ]
  },
  {
   "cell_type": "code",
   "execution_count": null,
   "id": "1f8b5550",
   "metadata": {},
   "outputs": [],
   "source": [
    "# Our first 'elif' statement\n",
    "date = int(input(\"What is the date today? Please enter an integer.\\n\"))\n",
    "if date > 31:\n",
    "    print(\"I think you are mistaken - There aren't any months with more than 31 days.\")\n",
    "elif date < 0:\n",
    "    print(\"Dates cannot be negative. Try again.\")\n",
    "else:\n",
    "    print(\"Thank you\")"
   ]
  },
  {
   "cell_type": "markdown",
   "id": "55efa62e",
   "metadata": {
    "tiedown.cell_index": "cid25"
   },
   "source": [
    "<a id=\"cid25\"></a>The `elif` keyword allows us to do another comparison when the first comparison (`date > 31`) evaluates to false. We can have as many `elif` clauses as we want."
   ]
  },
  {
   "cell_type": "code",
   "execution_count": null,
   "id": "7dece38f",
   "metadata": {},
   "outputs": [],
   "source": [
    "age = int(input(\"How old are you? \"))\n",
    "if age <= 0:\n",
    "    print(\"I guess you haven't been born yet?\")\n",
    "elif age <= 3:\n",
    "    print(\"How are you even reading this right now?\")\n",
    "elif age <= 11:\n",
    "    print(\"You should join a FIRST Lego League team!\")\n",
    "elif age <= 13:\n",
    "    print(\"You can be on a FIRST Lego League or a FIRST Tech Challenge team!\")\n",
    "elif age <= 16:\n",
    "    print(\"You can be on a FIRST Lego League, FIRST Tech Challenge, or a FIRST Robotics Competition Team!\")\n",
    "elif age <= 18:\n",
    "    print(\"You can join either a FIRST Tech Challenge or a FIRST Robotics Competition team!\")\n",
    "else:\n",
    "    print(\"Have you considered mentoring?\")"
   ]
  },
  {
   "cell_type": "markdown",
   "id": "0087bfd3",
   "metadata": {
    "tiedown.cell_index": "cid26"
   },
   "source": [
    "<a id=\"cid26\"></a>While we can have as many `elif` clauses as we want, there can't be more than one `else` clause (although you can omit the `else` clause if you want). The statements that are indented under the `else` clause will be executed if all of the comparisons in the `if` and `elif` clauses evaluate to false.\n",
    "\n",
    "Once a comparison evaluates to true, none of the subsequent comparisons in the `elif` statements will be checked. For example, `age` is equal to 10, then several of the `elif` comparisons would evaluate to true, since 10 is less than 11, less than 13, less than 16, etc. But once the first `elif` comparison evaluates to true (`elif age <= 11`), all of the following `elif` clauses are skipped.\n",
    "\n",
    "**Side note:** If you are new to FIRST, then you might not know that there are three different levels of robotics competitions and activities.\n",
    "  * [FIRST Lego League Video](https://youtu.be/FZsvSVz673g)\n",
    "  * [FIRST Tech Challenge Video](https://youtu.be/y5NPp_5KHuk)\n",
    "  * [FIRST Robotics Competition Video](https://youtu.be/wSA6InzFAZE)\n",
    "  * [FIRST Website](https://www.firstinspires.org/)"
   ]
  },
  {
   "cell_type": "markdown",
   "id": "1828b76a",
   "metadata": {
    "tiedown.cell_index": "cid27"
   },
   "source": [
    "<a id=\"cid27\"></a>### Simple If Statement Exercise\n",
    "Now write an `if` statement with `else` and `elif` clauses that takes a numeric grade from 0 to 100 and determines if the grade is an *A*, *B*, *C*, *D*, or *F*. A 90 or above is an *A*, 80 - 89 is a *B*, 70 - 79 is a *C*, 60 - 69 is a *D*, and below a 60 is an *F*.\n",
    "* Use the `print()` function to display the grade.\n",
    "* Hint: start with checking that the grade is an *A*, then check for a *B*, and so forth."
   ]
  },
  {
   "cell_type": "code",
   "execution_count": null,
   "id": "4c0d8321",
   "metadata": {},
   "outputs": [],
   "source": [
    "# Exercse\n",
    "\n"
   ]
  },
  {
   "cell_type": "markdown",
   "id": "0b904c5e",
   "metadata": {
    "tiedown.cell_index": "cid28"
   },
   "source": [
    "<a id=\"cid28\"></a>### More on If Statements\n",
    "So far, only one programming statement has followed each of our `if` and `else` clauses. But we can include as many statements as we want after `if`, `else` or `elif`. We can also put `if` statements inside of other `if` statements use more sophisticated comparisons."
   ]
  },
  {
   "cell_type": "code",
   "execution_count": null,
   "id": "63fd3931",
   "metadata": {},
   "outputs": [],
   "source": [
    "# More `if` statements\n",
    "# Temperature-check program\n",
    "temp = float(input(\"What is the temperature outside right now? It's OK to guess.\\n\"))\n",
    "units_input= input(\"Did you enter the temperature in farenheit or celsius? Enter either 'f' or 'c'.\\n\")\n",
    "units = units_input.lower()[0]\n",
    "if units == 'c' or units == 'f':  # if-statement #1\n",
    "    \n",
    "    if units == 'f':                  # if-statement #2\n",
    "        print(\"I will convert the temperature you entered to celsius.\")\n",
    "        temp_f = temp\n",
    "        temp = round((temp - 32) * 5 / 9, 1)\n",
    "        print(temp_f, \"F\", \"is equal to \", temp, \"C.\")\n",
    "    else:                                            # else for if-statement #2\n",
    "        print(\"Thank you for using celsius.\")\n",
    "        \n",
    "    if temp < -10:                                   # if-statement #3\n",
    "        print(\"Dress warm. Don't get frostbite.\")\n",
    "    elif temp < 5:\n",
    "        print(\"Be careful, it might be slippery outside.\")\n",
    "    elif temp < 15:\n",
    "        print(\"Make sure you where a jacket!\")\n",
    "    elif temp < 20:\n",
    "        print(\"It looks nice outside. Be sure to put on sunscreen.\")\n",
    "    else:                                                             # else for if-statement #3\n",
    "        print(\"It's pretty warm out. Be sure to stay hydrated!\")\n",
    "        \n",
    "else:                                                                 # else for if-statement #1\n",
    "    print(\"I do not understand your input.\")"
   ]
  },
  {
   "cell_type": "markdown",
   "id": "1e3abd5d",
   "metadata": {
    "tiedown.cell_index": "cid29"
   },
   "source": [
    "<a id=\"cid29\"></a>Our temperature-check program introduces some new techniques.\n",
    "  1. We used the logical operator `or` in `if` statement #1.\n",
    "  2. We nested two `if` statements inside `if` statement #1.\n",
    "  3. There is a block of four statements indented under `if` statement #2.\n",
    "\n",
    "It can be tricky figuring out which `else` goes with which `if`. Keep in mind that the `else` is always indented the same amount as its matching `if` statement. The final `else` is indented the same amount as and goes with `if` statement #1."
   ]
  },
  {
   "cell_type": "markdown",
   "id": "e76058ff",
   "metadata": {
    "tiedown.cell_index": "cid30"
   },
   "source": [
    "<a id=\"cid30\"></a>### More `if` Statement Exercises\n",
    "#### 1. Using If with Input\n",
    "Use the `input()` function to ask the user to enter a word. Print a different message to the user depending on whether the word starts and ends with the same letter. The program should ignore case. This is usually done by converting the user's input to all upper or all lower case."
   ]
  },
  {
   "cell_type": "code",
   "execution_count": null,
   "id": "2fa84de7",
   "metadata": {},
   "outputs": [],
   "source": [
    "# Exercse\n",
    "\n"
   ]
  },
  {
   "cell_type": "markdown",
   "id": "96e65b7f",
   "metadata": {
    "tiedown.cell_index": "cid31"
   },
   "source": [
    "<a id=\"cid31\"></a>#### Activity Suggester Exercise\n",
    "Write a program that will suggest an activity to someone who is bored. The program should ask the user at least three yes/no questions before suggesting an activity. The program should ask different questions depending on the answer to the previous question (requires nested `if` statements). The program could ask questions like \"Is it nice outside?\" or \"Are you hungry right now?\""
   ]
  },
  {
   "cell_type": "code",
   "execution_count": null,
   "id": "56cd4cda",
   "metadata": {},
   "outputs": [],
   "source": [
    "# Exercse\n",
    "\n"
   ]
  },
  {
   "cell_type": "markdown",
   "id": "06665164",
   "metadata": {
    "tiedown.cell_index": "cid32"
   },
   "source": [
    "<a id=\"cid32\"></a>## Python Tutorial Review\n",
    "The topics covered in this section are also covered in the official *Python Tutorial*. Read through the following section of the tutorial to review the concepts we just covered.\n",
    "* [Section 4.1](https://docs.python.org/3/tutorial/controlflow.html#if-statements) covers *if* statements.\n",
    "Try out some examples from the *Python Tutorial* below:"
   ]
  },
  {
   "cell_type": "code",
   "execution_count": null,
   "id": "0f5be3f4",
   "metadata": {},
   "outputs": [],
   "source": [
    "# Examples from Python Tutorial\n",
    "\n",
    "\n"
   ]
  },
  {
   "cell_type": "markdown",
   "id": "80729a75",
   "metadata": {
    "tiedown.cell_index": "cid33"
   },
   "source": [
    "<a id=\"cid33\"></a>## Harder Exercises"
   ]
  },
  {
   "cell_type": "markdown",
   "id": "097fd8f3",
   "metadata": {
    "tiedown.cell_index": "cid34"
   },
   "source": [
    "<a id=\"cid34\"></a>#### Number Averager\n",
    "Write a script that prompts (use `input()`) the user for **two numbers**, a and b. Then, prompt the user to enter a type of average out of the three options below. Make it so the user would just type in a **number** 1, 2 or 3 for the average (i.e. 1 for arithmetic mean, 2 for geometric mean, or 3 for root-mean-square). This numerical selection is an example of how to give the user a simple response that will get around potential spelling errors and head off user frustration. This design decision makes the user interaction more robust. Output the correct average, based on what the user selected.\n",
    "1. The arithmetic mean:  $(a + b) / 2 $\n",
    "2. The geometric mean:  $\\sqrt{ab}$\n",
    "3. The root-mean-square: $\\sqrt{\\frac{a^2 + b^2}{2}}$\n",
    "\n",
    "**Note:** You can calculate a square root by taking a number to the power of 0.5: `9**0.5`."
   ]
  },
  {
   "cell_type": "code",
   "execution_count": null,
   "id": "387eb524",
   "metadata": {},
   "outputs": [],
   "source": [
    "# Exercse\n",
    "\n"
   ]
  },
  {
   "cell_type": "markdown",
   "id": "455dc8bf",
   "metadata": {
    "tiedown.cell_index": "cid35"
   },
   "source": [
    "<a id=\"cid35\"></a>#### Income Tax Exercise\n",
    "The mythical island nation of Laskoatu has a rather simple tax code.  The first 1000 dollars of income is taxed at 5%.  The next 1000 dollars is taxed at 10%.  Any income beyond the first 2000 dollars is taxed at 15%.  Complete the following script so that it asks the user for his or her income (a **number**) and outputs the amount of tax owed. \n",
    "\n",
    "Example:\n",
    "```\n",
    "Please enter your income: 1500\n",
    "\n",
    "The tax owed is: $100 \n",
    "```"
   ]
  },
  {
   "cell_type": "code",
   "execution_count": null,
   "id": "4d304d21",
   "metadata": {},
   "outputs": [],
   "source": [
    "# Exercse\n",
    "\n"
   ]
  },
  {
   "cell_type": "markdown",
   "id": "2a9e63bf",
   "metadata": {
    "tiedown.cell_index": "cid36"
   },
   "source": [
    "<a id=\"cid36\"></a>## Quiz\n",
    "Write your answers as Python comments in the code cells provided."
   ]
  },
  {
   "cell_type": "markdown",
   "id": "f1c92d78",
   "metadata": {
    "tiedown.cell_index": "cid37"
   },
   "source": [
    "<a id=\"cid37\"></a>**#1.** Explain the difference between the operators `=` and `==`."
   ]
  },
  {
   "cell_type": "code",
   "execution_count": null,
   "id": "1795bdf5",
   "metadata": {},
   "outputs": [],
   "source": [
    "# Quiz-1\n"
   ]
  },
  {
   "cell_type": "markdown",
   "id": "74886731",
   "metadata": {
    "tiedown.cell_index": "cid38"
   },
   "source": [
    "<a id=\"cid38\"></a>**#2.** Inspect the code snippet below. What will the output of the code be? In other words, which items will evaluate to `True` and which will evaluate to `False`?\n",
    "\n",
    "```python\n",
    "for item in [1, 0, [], [0], \"False\", \"\", -1]:\n",
    "    if item:\n",
    "        print(True)\n",
    "    else:\n",
    "        print(False)\n",
    "```"
   ]
  },
  {
   "cell_type": "code",
   "execution_count": null,
   "id": "a9294d4f",
   "metadata": {},
   "outputs": [],
   "source": [
    "# Quiz-2\n"
   ]
  },
  {
   "cell_type": "markdown",
   "id": "45887ecb",
   "metadata": {
    "tiedown.cell_index": "cid39"
   },
   "source": [
    "<a id=\"cid39\"></a>**#3.** Will the following code generate an error? Why or why not?\n",
    "```python\n",
    "x = 1\n",
    "y = 0\n",
    "if not y:\n",
    "    result = x * y\n",
    "else:\n",
    "    result = x / y\n",
    "print(result)\n",
    "```"
   ]
  },
  {
   "cell_type": "code",
   "execution_count": null,
   "id": "b659671c",
   "metadata": {},
   "outputs": [],
   "source": [
    "# Quiz-3\n"
   ]
  },
  {
   "cell_type": "markdown",
   "id": "b1c1bd55",
   "metadata": {
    "tiedown.cell_index": "cid40"
   },
   "source": [
    "<a id=\"cid40\"></a>## Save Your Work\n",
    "Save your completed notebook to your Google drive and share it with a mentor or another student for feedback. [See Lesson 1 for more guidance.](../01_intro_python/lesson01_intro_python.ipynb#cid70)"
   ]
  },
  {
   "cell_type": "markdown",
   "id": "b95fb047",
   "metadata": {
    "tiedown.cell_index": "cid41"
   },
   "source": [
    "<a id=\"cid41\"></a>## Concept and Terminology Review\n",
    "You should be able to define the following terms or describe the concept. Re-review this and prior sessions if any of the terms are unfamiliar.\n",
    "* Statement\n",
    "* Splitting statements between multiple lines\n",
    "* Variable assignment with `=`\n",
    "* Comparison operators: `==`, `<`, `>`, `<=`, `>=`\n",
    "* Boolean data type\n",
    "* Logical operators: `and`, `or`, `not`\n",
    "* `if` statement\n",
    "* Difference between `else` and `elif`"
   ]
  },
  {
   "cell_type": "markdown",
   "id": "6d6e118c-eef8-4c5d-ae5f-482ab439dbc4",
   "metadata": {
    "tiedown.cell_index": "cid42"
   },
   "source": [
    "<a id=\"cid42\"></a>Next:  | [Table of Contents](../toc.ipynb) | Prev:"
   ]
  }
 ],
 "metadata": {
  "kernelspec": {
   "display_name": "Python 3 (ipykernel)",
   "language": "python",
   "name": "python3"
  }
 },
 "nbformat": 4,
 "nbformat_minor": 5
}
