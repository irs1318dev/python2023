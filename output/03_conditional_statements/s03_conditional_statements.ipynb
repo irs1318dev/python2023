{
 "cells": [
  {
   "cell_type": "markdown",
   "id": "1783cff3-7acc-4f5a-b85b-a0f26b1c5b0e",
   "metadata": {
    "tiedown.cell_index": "cid1"
   },
   "source": [
    "Next: [Data Types<a id=\"cid2\"></a>](../02_data_types/data_types.ipynb) | [Table of Contents](../toc.ipynb) | Prev: [Loops<a id=\"cid2\"></a>](../04_loops/loops.ipynb)<a id=\"cid1\"></a>"
   ]
  },
  {
   "cell_type": "markdown",
   "id": "189ac75e",
   "metadata": {
    "tiedown.cell_index": "cid2"
   },
   "source": [
    "# Conditional Statements<a id=\"cid2\"></a>\n",
    "## I. Statements\n",
    "Before we discuss conditional statements, we should discuss what a statement is. In any programming language, a *statement* is an instruction to the computer, telling it to take some action. A simple example of a statement is the assignment statement. See below."
   ]
  },
  {
   "cell_type": "code",
   "execution_count": null,
   "id": "5958c1df",
   "metadata": {},
   "outputs": [],
   "source": [
    "# Assignment Statement\n",
    "match_score = 128"
   ]
  },
  {
   "cell_type": "markdown",
   "id": "08d6b2de",
   "metadata": {
    "tiedown.cell_index": "cid3"
   },
   "source": [
    "The statement above instructs the Python interpreter (the program that reads and executes the Python code) to create an integer object with a value of 128, and assign the variable `match_score` to reference that object.<a id=\"cid3\"></a>\n",
    "\n",
    "In Python, statements end at the end of the line, unless we explicitly tell Python to include the next line in the statement. See below for examples of how to continue statements to the following line."
   ]
  },
  {
   "cell_type": "code",
   "execution_count": null,
   "id": "b8db209e",
   "metadata": {},
   "outputs": [],
   "source": [
    "# Statements can be split between lines within function argument lists.\n",
    "# The new line must start after one of the commas that separates the arguments.\n",
    "# This is helpful if a function has many arguments.\n",
    "print(\"Competition not for the sake not of destroying\",\n",
    "     \"one another, but for the sake of bettering and\",\n",
    "     \"improving both competitors as a result of the\",\n",
    "     \"competition.\", \" - Woodie Flowers - \")"
   ]
  },
  {
   "cell_type": "code",
   "execution_count": null,
   "id": "9751f97b",
   "metadata": {},
   "outputs": [],
   "source": [
    "# List literals can be split after a comma.\n",
    "events = ['Glacier Peak', 'Auburn Mountainview', 'Yakima Sundome',\n",
    "         'Oregon State Fair', 'Wisonville', 'West Valley']\n",
    "events"
   ]
  },
  {
   "cell_type": "code",
   "execution_count": null,
   "id": "3652273d",
   "metadata": {},
   "outputs": [],
   "source": [
    "# Lines can be split by ending the first line with a backslash (\\)\n",
    "# This technique is considered to reflect poor style (yes, coding\n",
    "# can have style!), so only use it if you have no other options.\n",
    "grade_points = 4.0 + 3.7 + 4.0 + 3.3 \\\n",
    "               + 3.0 + 4.0\n",
    "grade_points"
   ]
  },
  {
   "cell_type": "code",
   "execution_count": null,
   "id": "10b30c21",
   "metadata": {},
   "outputs": [],
   "source": [
    "# Lines can also be split by enclosing a portion within parenthesis.\n",
    "# Most prefer this technique to the backslash used in the previous\n",
    "# code block.\n",
    "grade_points = (4.0 + 3.7 + 4.0 + 3.3\n",
    "               + 3.0 + 4.0)\n",
    "grade_points"
   ]
  },
  {
   "cell_type": "markdown",
   "id": "42607be7",
   "metadata": {
    "tiedown.cell_index": "cid4"
   },
   "source": [
    "Knowing how to continue long statements to the next line is important. The style guidlines for Python and many other programming languages recommend limiting all lines to 79 characters or less. This practice makes it easier to view two code files side by side on one screen. Also, the mentor gets grouchy if he has to scroll horizontally to read your code.<a id=\"cid4\"></a>\n",
    "\n",
    "For this course we will follow the [official Python style guide](https://www.python.org/dev/peps/pep-0008/) and the [Google Python Style Guide](http://google.github.io/styleguide/pyguide.html). The links are included here in case you are curious. We will cover style rules later in the course. Progammers actually get into arguments over details of style."
   ]
  },
  {
   "cell_type": "markdown",
   "id": "3172b232",
   "metadata": {
    "tiedown.cell_index": "cid5"
   },
   "source": [
    "## II. What are Conditional Statements? <a id=\"cid5\"></a>\n",
    "Completing numerical calculations and extracting characters from text strings is all well and good. But programs that merely execute the same sequence of statements over and over are boring. For a program to do something interesting, it needs to make decisions and execute different statements based on the situation. We need conditional statements for this.\n",
    "\n",
    "Python has one conditional statement, the `if` statement. Even if you've never heard of an `if` statement before, you'll probably understand the following chunk of code:\n",
    "```Python\n",
    "if num_cheetos_left == 0:\n",
    "    print('We need to buy more Cheetos!')\n",
    "```"
   ]
  },
  {
   "cell_type": "markdown",
   "id": "b330d53a",
   "metadata": {
    "tiedown.cell_index": "cid6"
   },
   "source": [
    "## III. Comparison Operators and Booleans<a id=\"cid6\"></a>\n",
    "To understand and use the `if` statement, we first need to understand comparison operators and the Boolean data type. We'll also discuss logical operators.\n",
    "\n",
    "### A. Testing for Equality and Boolean Data Types\n",
    "In computer programming we often need to determine if a variable is equal to a specific number. We can do that with the equality operator, `==`. It looks like the assignment statement, but it uses two equals signs instead of one."
   ]
  },
  {
   "cell_type": "code",
   "execution_count": null,
   "id": "337b3959",
   "metadata": {},
   "outputs": [],
   "source": [
    "# Equality Operator - evaluates to True\n",
    "var1 = 2 + 2\n",
    "var1 == 4"
   ]
  },
  {
   "cell_type": "code",
   "execution_count": null,
   "id": "cd12b7ef",
   "metadata": {},
   "outputs": [],
   "source": [
    "# Equality Operator - evaluates to False\n",
    "var1 == 5"
   ]
  },
  {
   "cell_type": "markdown",
   "id": "bdd4fce8",
   "metadata": {
    "tiedown.cell_index": "cid7"
   },
   "source": [
    "The equality operator doesn't make any changes to the values on either side. (By the way, values that are used with operators are called *operands*.) It basically asks a question: *Are these two values equal to each other?*<a id=\"cid7\"></a>\n",
    "\n",
    "But what are these words *True* and *False* that are being displayed? Running the next cell will provide a hint."
   ]
  },
  {
   "cell_type": "code",
   "execution_count": null,
   "id": "88b96769",
   "metadata": {},
   "outputs": [],
   "source": [
    "# What do True and False mean?\n",
    "type(var1 == 4)"
   ]
  },
  {
   "cell_type": "markdown",
   "id": "8b479377",
   "metadata": {
    "tiedown.cell_index": "cid8"
   },
   "source": [
    "Aha! We have discovered a new data type. The word *bool* is short for Boolean. The *Boolean* data type has only two values, `True` and `False`. Like integers, floats, and string, Boolean data types can be assigned to variables. The word *Boolean* is typically capitalized because Booleans were named after [George Boole](https://en.wikipedia.org/wiki/George_Boole), an English mathematician from the 19th century.<a id=\"cid8\"></a>"
   ]
  },
  {
   "cell_type": "code",
   "execution_count": null,
   "id": "1f9351f1",
   "metadata": {},
   "outputs": [],
   "source": [
    "bool_val = True\n",
    "type(bool_val)"
   ]
  },
  {
   "cell_type": "code",
   "execution_count": null,
   "id": "2c599554",
   "metadata": {},
   "outputs": [],
   "source": [
    "bool_val = False\n",
    "type(bool_val)"
   ]
  },
  {
   "cell_type": "markdown",
   "id": "b5cc4e25",
   "metadata": {
    "tiedown.cell_index": "cid9"
   },
   "source": [
    "Remember, Python is case sensitive. The values `True` and `False` must always have the first letter capitalized, with the remaining letters lower case.<a id=\"cid9\"></a>\n",
    "\n",
    "Boolean values have their own built-in function, <index>`bool()`</index>, just like integers, strings, and floats do."
   ]
  },
  {
   "cell_type": "code",
   "execution_count": null,
   "id": "f0d1540a",
   "metadata": {},
   "outputs": [],
   "source": [
    "# Convert an integer to Boolean - 0 converts to False\n",
    "bvar = bool(0)\n",
    "bvar"
   ]
  },
  {
   "cell_type": "code",
   "execution_count": null,
   "id": "3e8f22b4",
   "metadata": {},
   "outputs": [],
   "source": [
    "# Convert an integer to Boolean - All values other than 0 convert to True\n",
    "bvar = bool(37)\n",
    "bvar"
   ]
  },
  {
   "cell_type": "code",
   "execution_count": null,
   "id": "ba645efe",
   "metadata": {},
   "outputs": [],
   "source": [
    "# Empty string converts to False\n",
    "bool(\"\")"
   ]
  },
  {
   "cell_type": "code",
   "execution_count": null,
   "id": "e640c0e9",
   "metadata": {},
   "outputs": [],
   "source": [
    "# All other strings convert to True\n",
    "bool(\"False\")"
   ]
  },
  {
   "cell_type": "code",
   "execution_count": null,
   "id": "f2001697",
   "metadata": {},
   "outputs": [],
   "source": [
    "# An empty list converts to False\n",
    "bool([])"
   ]
  },
  {
   "cell_type": "code",
   "execution_count": null,
   "id": "ffa4a9f5",
   "metadata": {},
   "outputs": [],
   "source": [
    "# All other lists convert to True\n",
    "bool([1, 2, 3])"
   ]
  },
  {
   "cell_type": "code",
   "execution_count": null,
   "id": "68107b1a",
   "metadata": {},
   "outputs": [],
   "source": [
    "# Floats convert to Booleans in a similar fashion as integers\n",
    "print(bool(0.0))\n",
    "print(bool(0.1))"
   ]
  },
  {
   "cell_type": "markdown",
   "id": "ec5d1554",
   "metadata": {
    "tiedown.cell_index": "cid10"
   },
   "source": [
    "These rules for converting other data types to Booleans probably seem arbitrary and confusing. Don't worry too much about that now. Just remember that these rules exist -- they come in handy sometimes.<a id=\"cid10\"></a>"
   ]
  },
  {
   "cell_type": "markdown",
   "id": "eb567b6d",
   "metadata": {
    "tiedown.cell_index": "cid11"
   },
   "source": [
    "### B. Equality Versus Variable Assignment - IMPORTANT DISTINCTION<a id=\"cid11\"></a>\n",
    "What is the difference between the following two statements?\n",
    "1. `my_var = 0`\n",
    "2. `my_var == 0`?\n",
    "\n",
    "In statement #1, with just one equals sign, we are assigning the value of 0 to the variable `my_var`. Perhaps `my_var` was equal to some other number before this statement, like 432. But after the statement, `print(my_var)` will display 0.\n",
    "\n",
    "#### 1. Displaying Booleans Exercise\n",
    "In statement #2, we are checking to see if `my_var` is equal to 0. So if `my_var` is actually equal to 432, what will `print(my_var == 0)` display? Run the cell below to find out."
   ]
  },
  {
   "cell_type": "code",
   "execution_count": null,
   "id": "06469a76",
   "metadata": {},
   "outputs": [],
   "source": [
    "# Exercse: Run this cell to see difference between variable assignment and conditional equality\n",
    "my_var = 432\n",
    "print(my_var == 0)"
   ]
  },
  {
   "cell_type": "markdown",
   "id": "ec14e599",
   "metadata": {
    "tiedown.cell_index": "cid12"
   },
   "source": [
    "Change the code above to make the `print` function display `True`.<a id=\"cid12\"></a>\n",
    "\n",
    "**Bottom line:** One equals sign and two equals signs are two completely different things. One equals sign is called the *assignment operator* and two equals signs are called the *equality* operator. Try not to mix these up."
   ]
  },
  {
   "cell_type": "markdown",
   "id": "83c37eae",
   "metadata": {
    "tiedown.cell_index": "cid13"
   },
   "source": [
    "### C. More Comparison Operators<a id=\"cid13\"></a>\n",
    "Now back to comparison operators. Determining equality is all good, but what if we want to see if a number is *not* equal to another number? Python has an operator for that."
   ]
  },
  {
   "cell_type": "code",
   "execution_count": null,
   "id": "b76cbf90",
   "metadata": {},
   "outputs": [],
   "source": [
    "# Inequality Operator\n",
    "print(4 != 4)\n",
    "print(4 != 3)"
   ]
  },
  {
   "cell_type": "markdown",
   "id": "aefd4454",
   "metadata": {
    "tiedown.cell_index": "cid14"
   },
   "source": [
    "Python also has operators to determine if values are less or greater than each other.<a id=\"cid14\"></a>"
   ]
  },
  {
   "cell_type": "code",
   "execution_count": null,
   "id": "abbdfb13",
   "metadata": {},
   "outputs": [],
   "source": [
    "# Less than and greater than operators\n",
    "print(4 < 5)\n",
    "print(4 > 5)"
   ]
  },
  {
   "cell_type": "markdown",
   "id": "148319e0",
   "metadata": {
    "tiedown.cell_index": "cid15"
   },
   "source": [
    "Both the *less than* and *greater than* operators will return False if the two operands are equal.<a id=\"cid15\"></a>"
   ]
  },
  {
   "cell_type": "code",
   "execution_count": null,
   "id": "672a7bd0",
   "metadata": {},
   "outputs": [],
   "source": [
    "# Returns False if operands are equal\n",
    "print(4 < 4)\n",
    "print(4 > 4)"
   ]
  },
  {
   "cell_type": "markdown",
   "id": "aa0a0578",
   "metadata": {
    "tiedown.cell_index": "cid16"
   },
   "source": [
    "Python does have *or equal to* versions of both the *less than* and *greater than* operator.<a id=\"cid16\"></a>"
   ]
  },
  {
   "cell_type": "code",
   "execution_count": null,
   "id": "ec64a019",
   "metadata": {},
   "outputs": [],
   "source": [
    "# Less than or equal to\n",
    "print(4 <= 4)\n",
    "print(3 <= 4)\n",
    "print(4 >= 4)\n",
    "print(2 >= 4)"
   ]
  },
  {
   "cell_type": "markdown",
   "id": "cbffbd2c",
   "metadata": {
    "tiedown.cell_index": "cid17"
   },
   "source": [
    "### D. Adding Logical Operators<a id=\"cid17\"></a>\n",
    "What if we wanted to determine whether a number is between two other numbers? Check out the example below."
   ]
  },
  {
   "cell_type": "code",
   "execution_count": null,
   "id": "567c17d3",
   "metadata": {},
   "outputs": [],
   "source": [
    "# Checking if a number is between two other numbers\n",
    "num = 50\n",
    "num > 10 and num < 20"
   ]
  },
  {
   "cell_type": "markdown",
   "id": "cd719c56",
   "metadata": {
    "tiedown.cell_index": "cid18"
   },
   "source": [
    "Python has an `and` operator which returns `True` if the operands on either side are true. In the preceding example, `num` is greater than 10, but it is not less than 20. Python also has an `or` and a `not` operator. These three operators are called **logical operators** because they operate on logical `True` and `False` values.<a id=\"cid18\"></a>"
   ]
  },
  {
   "cell_type": "code",
   "execution_count": null,
   "id": "47bb2ea8",
   "metadata": {},
   "outputs": [],
   "source": [
    "# More examples of logcial operators\n",
    "print(\"True and False:\", True and False)\n",
    "print(\"True and not False;\", True and not False)\n",
    "print(\"True or False:\", True or False)\n",
    "print(\"False or not False:\", False and not False)"
   ]
  },
  {
   "cell_type": "markdown",
   "id": "2799af79",
   "metadata": {
    "tiedown.cell_index": "cid19"
   },
   "source": [
    "Both the `and` and `not` operators require two operands. The `and` operator returns the Boolean value `True` if both operands are `True` and returns `False` otherwise. The `or` operator returns `True` if one or more of its operands is `True` and returns `False` otherwise. Finally, the `not` operator, which only requires a single operand, returns the negation of it's operand's Boolean value. Check this explanation against the preceding example and make sure you understand it.<a id=\"cid19\"></a>\n",
    "\n",
    "With logical operators we can make more sophisticated comparisons."
   ]
  },
  {
   "cell_type": "code",
   "execution_count": null,
   "id": "95b1a83d",
   "metadata": {},
   "outputs": [],
   "source": [
    "# Determine if a number is less than 100 and a multiple of 3\n",
    "num = int(input(\"Enter a number: \"))\n",
    "num < 100 and num % 3 == 0"
   ]
  },
  {
   "cell_type": "code",
   "execution_count": null,
   "id": "7343bad7",
   "metadata": {},
   "outputs": [],
   "source": [
    "# Determine if a number is between 20 and 30, or if it is not a multiple of 5\n",
    "num = int(input(\"Enter a number: \"))\n",
    "(num <= 30 and num >= 20) or not num % 5 == 0"
   ]
  },
  {
   "cell_type": "markdown",
   "id": "29343aa2",
   "metadata": {
    "tiedown.cell_index": "cid20"
   },
   "source": [
    "The preceding example uses parentheses to clarify which operation is completed first. Python first determines whether the number is between 20 and 30 (the operation within parentheses), and then it checks to see if the number is divisible by 5. Next it negates the result of the divisibility check and then finally it completes the *or* comparison. In this example the parentheses are not necessary because the `and` operation would be completed first anyway, both because it has higher precedence than `or` and because it occurs to the left of `or`. (When there are multiple operations with the same precedence they are completed left to right.) It doesn't hurt to use parentheses even if they are are not needed. They often make the expression easier to understand.<a id=\"cid20\"></a>\n",
    "\n",
    "Comparisons that evaluate to true or false are often called *Boolean expressions*."
   ]
  },
  {
   "cell_type": "markdown",
   "id": "5c335fb1",
   "metadata": {
    "tiedown.cell_index": "cid21"
   },
   "source": [
    "Now we are ready to move on to control statements.<a id=\"cid21\"></a>"
   ]
  },
  {
   "cell_type": "markdown",
   "id": "e0d43a09",
   "metadata": {
    "tiedown.cell_index": "cid22"
   },
   "source": [
    "## IV. If Statements<a id=\"cid22\"></a>\n",
    "### A. If and Else\n",
    "The first control statement we'll discuss is the *if* statement. The *if* statement is one of the most foundational elements of computer programming. Perhaps there is an obscure programming language without an *if* statement or equivalent feature, but the mentor just spent ten minutes looking for such a language on Google and didn't find one."
   ]
  },
  {
   "cell_type": "code",
   "execution_count": null,
   "id": "cbe19706",
   "metadata": {},
   "outputs": [],
   "source": [
    "# Our first `if` statement.\n",
    "date = int(input(\"What is the day of the month today? Please enter an integer.\\n\"))\n",
    "if date > 31:\n",
    "    print(\"I think you are mistaken.\")"
   ]
  },
  {
   "cell_type": "markdown",
   "id": "8034c15c",
   "metadata": {
    "tiedown.cell_index": "cid23"
   },
   "source": [
    "The program asked for the user to enter today's date as an integer. The `if` statement checks if the date is greater than 31. If the comparison evaluates to `True`, then the program prints a message indicating a mistake has been made. If the date entered is 31 or less, the comparison evaluates to `False` and nothing happens.<a id=\"cid23\"></a>\n",
    "\n",
    "By the way, the `\"\\n\"` tells Python to enter a carriage return and for all subsequent output to appear on the next line. Try removing the `\"\\n\"` and see what happens.\n",
    "\n",
    "It would be nice if the program responded in some way when a correct date is entered. Good news, Python has a feature for that -- the `else` clause."
   ]
  },
  {
   "cell_type": "code",
   "execution_count": null,
   "id": "0d8c80e1",
   "metadata": {},
   "outputs": [],
   "source": [
    "# Our first 'else' statement\n",
    "date = int(input(\"What is the date today? Please enter an integer.\\n\"))\n",
    "if date > 31:\n",
    "    print(\"I think you are mistaken.\")\n",
    "else:\n",
    "    print(\"Thank you\")"
   ]
  },
  {
   "cell_type": "markdown",
   "id": "37554448",
   "metadata": {
    "tiedown.cell_index": "cid24"
   },
   "source": [
    "The statement after the <index>`else`</index> clause will be executed only if the expression `date > 31` evaluates to `False`. *Else* clauses cannot exist by themselves. They must always follow an `if` statement (or they can follow a `try` statement, but we'll discuss that later).<a id=\"cid24\"></a>\n",
    "\n",
    "Run the date program and enter a negative integer less than 31. Our program doesn't recognize that dates can't be negative. We can fix that with an `elif` clause."
   ]
  },
  {
   "cell_type": "code",
   "execution_count": null,
   "id": "ff6bc19d",
   "metadata": {},
   "outputs": [],
   "source": [
    "# Our first 'elif' statement\n",
    "date = int(input(\"What is the date today? Please enter an integer.\\n\"))\n",
    "if date > 31:\n",
    "    print(\"I think you are mistaken - There aren't any months with more than 31 days.\")\n",
    "elif date < 0:\n",
    "    print(\"Dates cannot be negative. Try again.\")\n",
    "else:\n",
    "    print(\"Thank you\")"
   ]
  },
  {
   "cell_type": "markdown",
   "id": "8073b0ac",
   "metadata": {
    "tiedown.cell_index": "cid25"
   },
   "source": [
    "The `elif` keyword allows us to do another comparison when the first comparison (`date > 31`) evaluates to false. We can have as many `elif` clauses as we want.<a id=\"cid25\"></a>"
   ]
  },
  {
   "cell_type": "code",
   "execution_count": null,
   "id": "0cd3ff2f",
   "metadata": {},
   "outputs": [],
   "source": [
    "age = int(input(\"How old are you? \"))\n",
    "if age <= 0:\n",
    "    print(\"I guess you haven't been born yet?\")\n",
    "elif age <= 3:\n",
    "    print(\"How are you even reading this right now?\")\n",
    "elif age <= 11:\n",
    "    print(\"You should join a FIRST Lego League team!\")\n",
    "elif age <= 13:\n",
    "    print(\"You can be on a FIRST Lego League or a FIRST Tech Challenge team!\")\n",
    "elif age <= 16:\n",
    "    print(\"You can be on a FIRST Lego League, FIRST Tech Challenge, or a FIRST Robotics Competition Team!\")\n",
    "elif age <= 18:\n",
    "    print(\"You can join either a FIRST Tech Challenge or a FIRST Robotics Competition team!\")\n",
    "else:\n",
    "    print(\"Have you considered mentoring?\")"
   ]
  },
  {
   "cell_type": "markdown",
   "id": "76134ab6",
   "metadata": {
    "tiedown.cell_index": "cid26"
   },
   "source": [
    "While we can have as many `elif` clauses as we want, there can't be more than one `else` clause (although you can omit the `else` clause if you want). The statements that are indented under the `else` clause will be executed if all of the comparisons in the `if` and `elif` clauses evaluate to false.<a id=\"cid26\"></a>\n",
    "\n",
    "Once a comparison evaluates to true, none of the subsequent comparisons in the `elif` statements will be checked. For example, `age` is equal to 10, then several of the `elif` comparisons would evaluate to true, since 10 is less than 11, less than 13, less than 16, etc. But once the first `elif` comparison evaluates to true (`elif age <= 11`), all of the following `elif` clauses are skipped.\n",
    "\n",
    "**Side note:** If you are new to FIRST, then you might not know that there are three different levels of robotics competitions and activities.\n",
    "  * [FIRST Lego League Video](https://youtu.be/FZsvSVz673g)\n",
    "  * [FIRST Tech Challenge Video](https://youtu.be/y5NPp_5KHuk)\n",
    "  * [FIRST Robotics Competition Video](https://youtu.be/wSA6InzFAZE)\n",
    "  * [FIRST Website](https://www.firstinspires.org/)"
   ]
  },
  {
   "cell_type": "markdown",
   "id": "8e6b89d7",
   "metadata": {
    "tiedown.cell_index": "cid27"
   },
   "source": [
    "### B. Simple If Statement Exercise<a id=\"cid27\"></a>\n",
    "Now write an `if` statement with `else` and `elif` clauses that takes a numeric grade from 0 to 100 and determines if the grade is an *A*, *B*, *C*, *D*, or *F*. A 90 or above is an *A*, 80 - 89 is a *B*, 70 - 79 is a *C*, 60 - 69 is a *D*, and below a 60 is an *F*.\n",
    "* Use the `print()` function to display the grade.\n",
    "* Hint: start with checking that the grade is an *A*, then check for a *B*, and so forth."
   ]
  },
  {
   "cell_type": "code",
   "execution_count": null,
   "id": "5fef4c01",
   "metadata": {},
   "outputs": [],
   "source": [
    "# Exercse\n",
    "\n"
   ]
  },
  {
   "cell_type": "markdown",
   "id": "447c0961",
   "metadata": {
    "tiedown.cell_index": "cid28"
   },
   "source": [
    "### C. More on If Statements<a id=\"cid28\"></a>\n",
    "So far, only one programming statement has followed each of our `if` and `else` clauses. But we can include as many statements as we want after `if`, `else` or `elif`. We can also put `if` statements inside of other `if` statements use more sophisticated comparisons."
   ]
  },
  {
   "cell_type": "code",
   "execution_count": null,
   "id": "de0602b6",
   "metadata": {},
   "outputs": [],
   "source": [
    "# More `if` statements\n",
    "# Temperature-check program\n",
    "temp = float(input(\"What is the temperature outside right now? It's OK to guess.\\n\"))\n",
    "units_input= input(\"Did you enter the temperature in farenheit or celsius? Enter either 'f' or 'c'.\\n\")\n",
    "units = units_input.lower()[0]\n",
    "if units == 'c' or units == 'f':  # if-statement #1\n",
    "    \n",
    "    if units == 'f':                  # if-statement #2\n",
    "        print(\"I will convert the temperature you entered to celsius.\")\n",
    "        temp_f = temp\n",
    "        temp = round((temp - 32) * 5 / 9, 1)\n",
    "        print(temp_f, \"F\", \"is equal to \", temp, \"C.\")\n",
    "    else:                                            # else for if-statement #2\n",
    "        print(\"Thank you for using celsius.\")\n",
    "        \n",
    "    if temp < -10:                                   # if-statement #3\n",
    "        print(\"Dress warm. Don't get frostbite.\")\n",
    "    elif temp < 5:\n",
    "        print(\"Be careful, it might be slippery outside.\")\n",
    "    elif temp < 15:\n",
    "        print(\"Make sure you where a jacket!\")\n",
    "    elif temp < 20:\n",
    "        print(\"It looks nice outside. Be sure to put on sunscreen.\")\n",
    "    else:                                                             # else for if-statement #3\n",
    "        print(\"It's pretty warm out. Be sure to stay hydrated!\")\n",
    "        \n",
    "else:                                                                 # else for if-statement #1\n",
    "    print(\"I do not understand your input.\")"
   ]
  },
  {
   "cell_type": "markdown",
   "id": "00f307ad",
   "metadata": {
    "tiedown.cell_index": "cid29"
   },
   "source": [
    "Our temperature-check program introduces some new techniques.<a id=\"cid29\"></a>\n",
    "  1. We used the logical operator `or` in `if` statement #1.\n",
    "  2. We nested two `if` statements inside `if` statement #1.\n",
    "  3. There is a block of four statements indented under `if` statement #2.\n",
    "\n",
    "It can be tricky figuring out which `else` goes with which `if`. Keep in mind that the `else` is always indented the same amount as its matching `if` statement. The final `else` is indented the same amount as and goes with `if` statement #1."
   ]
  },
  {
   "cell_type": "markdown",
   "id": "b2258e2b",
   "metadata": {
    "tiedown.cell_index": "cid30"
   },
   "source": [
    "### D. More `if` Statement Exercises<a id=\"cid30\"></a>\n",
    "#### 1. Using If with Input\n",
    "Use the `input()` function to ask the user to enter a word. Print a different message to the user depending on whether the word starts and ends with the same letter. The program should ignore case. This is usually done by converting the user's input to all upper or all lower case."
   ]
  },
  {
   "cell_type": "code",
   "execution_count": null,
   "id": "2f4de306",
   "metadata": {},
   "outputs": [],
   "source": [
    "# Exercse\n",
    "\n"
   ]
  },
  {
   "cell_type": "markdown",
   "id": "93a9ec10",
   "metadata": {
    "tiedown.cell_index": "cid31"
   },
   "source": [
    "#### 2. Activity Suggester Exercise<a id=\"cid31\"></a>\n",
    "Write a program that will suggest an activity to someone who is bored. The program should ask the user at least three yes/no questions before suggesting an activity. The program should ask different questions depending on the answer to the previous question (requires nested `if` statements). The program could ask questions like \"Is it nice outside?\" or \"Are you hungry right now?\""
   ]
  },
  {
   "cell_type": "code",
   "execution_count": null,
   "id": "aec10b1e",
   "metadata": {},
   "outputs": [],
   "source": [
    "# Exercse\n",
    "\n"
   ]
  },
  {
   "cell_type": "markdown",
   "id": "cf12654c",
   "metadata": {
    "tiedown.cell_index": "cid32"
   },
   "source": [
    "## V. Python Tutorial Review<a id=\"cid32\"></a>\n",
    "The topics covered in this section are also covered in the official *Python Tutorial*. Read through the following section of the tutorial to review the concepts we just covered.\n",
    "* [Section 4.1](https://docs.python.org/3/tutorial/controlflow.html#if-statements) covers *if* statements.\n",
    "Try out some examples from the *Python Tutorial* below:"
   ]
  },
  {
   "cell_type": "code",
   "execution_count": null,
   "id": "1050907c",
   "metadata": {},
   "outputs": [],
   "source": [
    "# Examples from Python Tutorial\n",
    "\n",
    "\n"
   ]
  },
  {
   "cell_type": "markdown",
   "id": "7c87675a",
   "metadata": {
    "tiedown.cell_index": "cid33"
   },
   "source": [
    "## VI. Harder Exercises<a id=\"cid33\"></a>"
   ]
  },
  {
   "cell_type": "markdown",
   "id": "b7500e67",
   "metadata": {
    "tiedown.cell_index": "cid34"
   },
   "source": [
    "#### 1. Number Averager<a id=\"cid34\"></a>\n",
    "Write a script that prompts (use `input()`) the user for **two numbers**, a and b. Then, prompt the user to enter a type of average out of the three options below. Make it so the user would just type in a **number** 1, 2 or 3 for the average (i.e. 1 for arithmetic mean, 2 for geometric mean, or 3 for root-mean-square). This numerical selection is an example of how to give the user a simple response that will get around potential spelling errors and head off user frustration. This design decision makes the user interaction more robust. Output the correct average, based on what the user selected.\n",
    "1. The arithmetic mean:  $(a + b) / 2 $\n",
    "2. The geometric mean:  $\\sqrt{ab}$\n",
    "3. The root-mean-square: $\\sqrt{\\frac{a^2 + b^2}{2}}$\n",
    "\n",
    "**Note:** You can calculate a square root by taking a number to the power of 0.5: `9**0.5`."
   ]
  },
  {
   "cell_type": "code",
   "execution_count": null,
   "id": "d771c870",
   "metadata": {},
   "outputs": [],
   "source": [
    "# Exercse\n",
    "\n"
   ]
  },
  {
   "cell_type": "markdown",
   "id": "9b73d389",
   "metadata": {
    "tiedown.cell_index": "cid35"
   },
   "source": [
    "#### 2. Income Tax Exercise<a id=\"cid35\"></a>\n",
    "The mythical island nation of Laskoatu has a rather simple tax code.  The first 1000 dollars of income is taxed at 5%.  The next 1000 dollars is taxed at 10%.  Any income beyond the first 2000 dollars is taxed at 15%.  Complete the following script so that it asks the user for his or her income (a **number**) and outputs the amount of tax owed. \n",
    "\n",
    "Example:\n",
    "```\n",
    "Please enter your income: 1500\n",
    "\n",
    "The tax owed is: $100 \n",
    "```"
   ]
  },
  {
   "cell_type": "code",
   "execution_count": null,
   "id": "36dda237",
   "metadata": {},
   "outputs": [],
   "source": [
    "# Exercse\n",
    "\n"
   ]
  },
  {
   "cell_type": "markdown",
   "id": "fc6740ca",
   "metadata": {
    "tiedown.cell_index": "cid36"
   },
   "source": [
    "## VII. Quiz<a id=\"cid36\"></a>\n",
    "Write your answers as Python comments in the code cells provided."
   ]
  },
  {
   "cell_type": "markdown",
   "id": "506f42e8",
   "metadata": {
    "tiedown.cell_index": "cid37"
   },
   "source": [
    "**#1.** Explain the difference between the operators `=` and `==`.<a id=\"cid37\"></a>"
   ]
  },
  {
   "cell_type": "code",
   "execution_count": null,
   "id": "cf0728dd",
   "metadata": {},
   "outputs": [],
   "source": [
    "# Quiz-1\n"
   ]
  },
  {
   "cell_type": "markdown",
   "id": "ec0d4f62",
   "metadata": {
    "tiedown.cell_index": "cid38"
   },
   "source": [
    "**#2.** Inspect the code snippet below. What will the output of the code be? In other words, which items will evaluate to `True` and which will evaluate to `False`?<a id=\"cid38\"></a>\n",
    "\n",
    "```python\n",
    "for item in [1, 0, [], [0], \"False\", \"\", -1]:\n",
    "    if item:\n",
    "        print(True)\n",
    "    else:\n",
    "        print(False)\n",
    "```"
   ]
  },
  {
   "cell_type": "code",
   "execution_count": null,
   "id": "9dfbd689",
   "metadata": {},
   "outputs": [],
   "source": [
    "# Quiz-2\n"
   ]
  },
  {
   "cell_type": "markdown",
   "id": "ad8f4376",
   "metadata": {
    "tiedown.cell_index": "cid39"
   },
   "source": [
    "**#3.** Will the following code generate an error? Why or why not?<a id=\"cid39\"></a>\n",
    "```python\n",
    "x = 1\n",
    "y = 0\n",
    "if not y:\n",
    "    result = x * y\n",
    "else:\n",
    "    result = x / y\n",
    "print(result)\n",
    "```"
   ]
  },
  {
   "cell_type": "code",
   "execution_count": null,
   "id": "04f7e5bf",
   "metadata": {},
   "outputs": [],
   "source": [
    "# Quiz-3\n"
   ]
  },
  {
   "cell_type": "markdown",
   "id": "3705b645",
   "metadata": {
    "tiedown.cell_index": "cid40"
   },
   "source": [
    "## VIII. Save Your Work<a id=\"cid40\"></a>\n",
    "Save your completed notebook to your Google drive and share it with a mentor or another student for feedback. [See Lesson 1 for more guidance.](../01_intro_python/lesson01_intro_python.ipynb#cid70)"
   ]
  },
  {
   "cell_type": "markdown",
   "id": "5dc15a9a",
   "metadata": {
    "tiedown.cell_index": "cid41"
   },
   "source": [
    "## IX. Concept and Terminology Review<a id=\"cid41\"></a>\n",
    "You should be able to define the following terms or describe the concept. Re-review this and prior sessions if any of the terms are unfamiliar.\n",
    "* Statement\n",
    "* Splitting statements between multiple lines\n",
    "* Variable assignment with `=`\n",
    "* Comparison operators: `==`, `<`, `>`, `<=`, `>=`\n",
    "* Boolean data type\n",
    "* Logical operators: `and`, `or`, `not`\n",
    "* `if` statement\n",
    "* Difference between `else` and `elif`"
   ]
  },
  {
   "cell_type": "markdown",
   "id": "6d6e118c-eef8-4c5d-ae5f-482ab439dbc4",
   "metadata": {
    "tiedown.cell_index": "cid42"
   },
   "source": [
    "Next: [Data Types<a id=\"cid2\"></a>](../02_data_types/data_types.ipynb) | [Table of Contents](../toc.ipynb) | Prev: [Loops<a id=\"cid2\"></a>](../04_loops/loops.ipynb)<a id=\"cid42\"></a>"
   ]
  }
 ],
 "metadata": {
  "kernelspec": {
   "display_name": "Python 3 (ipykernel)",
   "language": "python",
   "name": "python3"
  },
  "tiedown.toc_index": 2
 },
 "nbformat": 4,
 "nbformat_minor": 5
}
