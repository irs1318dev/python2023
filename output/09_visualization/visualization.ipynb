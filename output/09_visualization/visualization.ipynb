{
 "cells": [
  {
   "cell_type": "markdown",
   "id": "1783cff3-7acc-4f5a-b85b-a0f26b1c5b0e",
   "metadata": {
    "tiedown.cell_index": "cid1"
   },
   "source": [
    "<a name=\"cid1\"></a>\n",
    "Prev: [Tabular Data](../08_tabular_data/tabular_data.ipynb) | [Table of Contents](../toc.ipynb) | Next: [Managing Big Arrays with Numpy](../10_numpy/numpy.ipynb)"
   ]
  },
  {
   "cell_type": "markdown",
   "id": "ffab315d",
   "metadata": {
    "tiedown.cell_index": "cid2"
   },
   "source": [
    "<a name=\"cid2\"></a>\n",
    "# Data Visualization\n",
    "\n",
    "## I. Introduction\n",
    "Data visualization refers presenting information by physically arranging textual and graphic elements. Charts, graphs, plots, tables, and maps are all examples of data visualization. Visualization is an integral part of analytics and data science because it allows people to more easily and efficiently interpret large amounts of data. It's an important skill that is used widely in the professional world. In FRC, we analyze team performance by graphing scouting data, which helps us evaluate the strengths and weaknesses of all robots at the competition!\n",
    "\n",
    "There are many styles of data visualizations, both static and interactive. Here are some fun examples on the web:\n",
    "* [Every Satellite Orbiting Earth](https://qz.com/296941/interactive-graphic-every-active-satellite-orbiting-earth/)\n",
    "* [Music Timeline](https://thenextweb.com/wp-content/blogs.dir/1/files/2014/01/music_timeline_genres.png)\n",
    "* [NYC Trees](https://www.cloudred.com/labprojects/nyctrees/#about)\n",
    "* [Matplotlib Examples](https://matplotlib.org/gallery/index.html#showcase)\n",
    "\n",
    "Python has numerous packages for creating visualizations. We will start by creating visualizations with the [Pandas](https://pandas.pydata.org/pandas-docs/stable/) package. That will be followed by a short review of the [Matplotlib](https://matplotlib.org/stable/users/index.html) package. Finally, we'll explore the [Plotly](https://plotly.com/python/) package."
   ]
  },
  {
   "cell_type": "markdown",
   "id": "c9088cf7",
   "metadata": {
    "tags": [],
    "tiedown.cell_index": "cid3"
   },
   "source": [
    "<a name=\"cid3\"></a>\n",
    "## II. Notebook Setup\n",
    "### A. If Running this Notebook on Google Colab\n",
    "Run the next cell to download data files into the local folder on Google Colab."
   ]
  },
  {
   "cell_type": "code",
   "execution_count": null,
   "id": "327f675e",
   "metadata": {
    "tags": []
   },
   "outputs": [],
   "source": [
    "# !wget -nv https://raw.githubusercontent.com/irs1318dev/python2023/main/output/09_visualization/get_files.sh\n",
    "# !bash get_files.sh"
   ]
  },
  {
   "cell_type": "markdown",
   "id": "679ca5c9",
   "metadata": {
    "tags": [],
    "tiedown.cell_index": "cid4"
   },
   "source": [
    "<a name=\"cid4\"></a>\n",
    "### B. If Running Notebook Locally in Jupyter\n",
    "This notebook uses several external packages that must be installed before the code in this notebook will run.\n",
    "\n",
    "If you are using the Anaconda or Miniconda flavors of Python, run the following command in Mac Terminal or Windows Powershell:\n",
    "```bash\n",
    "conda install pandas plotly dash jupyter-dash\n",
    "```\n",
    "If you are using pip, run the following:\n",
    "```bash\n",
    "pip install install pandas plotly dash jupyter-dash\n",
    "```\n",
    "You don't need to run these commands if you are using Google Colab because the packages are already installed."
   ]
  },
  {
   "cell_type": "markdown",
   "id": "a062c1e1",
   "metadata": {
    "tiedown.cell_index": "cid5"
   },
   "source": [
    "<a name=\"cid5\"></a>\n",
    "### C. Warnings\n",
    "The Plotly package is issuing future warnings when datetmes are used. The next cell turns off future warnings."
   ]
  },
  {
   "cell_type": "code",
   "execution_count": null,
   "id": "c8fff993",
   "metadata": {},
   "outputs": [],
   "source": [
    "import warnings\n",
    "\n",
    "warnings.filterwarnings(\"ignore\", category=FutureWarning) "
   ]
  },
  {
   "cell_type": "markdown",
   "id": "e75eddd7",
   "metadata": {
    "tags": [],
    "tiedown.cell_index": "cid6"
   },
   "source": [
    "<a name=\"cid6\"></a>\n",
    "## III. Using Pandas to Create Charts\n",
    "We learned to use the *Pandas* package to analyze tabular data in the previous notebook. Pandas has methods for generating charts."
   ]
  },
  {
   "cell_type": "code",
   "execution_count": null,
   "id": "cc648c1d",
   "metadata": {
    "tags": []
   },
   "outputs": [],
   "source": [
    "import pandas as pd"
   ]
  },
  {
   "cell_type": "markdown",
   "id": "055ca654",
   "metadata": {
    "tiedown.cell_index": "cid7"
   },
   "source": [
    "<a name=\"cid7\"></a>\n",
    "### A. Scatter and Bar Charts\n",
    "Our first few charts will use the *recent-grads.csv* file, which contains employment, demographic, and salary information for 173 different majors."
   ]
  },
  {
   "cell_type": "code",
   "execution_count": null,
   "id": "38f38e27",
   "metadata": {
    "tags": []
   },
   "outputs": [],
   "source": [
    "grads = pd.read_csv(\"recent-grads.csv\")\n",
    "grads.head()"
   ]
  },
  {
   "cell_type": "markdown",
   "id": "4bfda4e6",
   "metadata": {
    "tiedown.cell_index": "cid8"
   },
   "source": [
    "<a name=\"cid8\"></a>\n",
    "For our first graph, let's plot the median salary vs. the fraction of women graduates for each major."
   ]
  },
  {
   "cell_type": "code",
   "execution_count": null,
   "id": "8d89e2b1",
   "metadata": {
    "tags": []
   },
   "outputs": [],
   "source": [
    "grads.plot.scatter(x=\"ShareWomen\", y=\"Median\")"
   ]
  },
  {
   "cell_type": "markdown",
   "id": "edf8dacc",
   "metadata": {
    "tiedown.cell_index": "cid9"
   },
   "source": [
    "<a name=\"cid9\"></a>\n",
    "Unfortunately, the plot shows that median salary tends to be lower for majors with higher percentages of female graduates. That's definitely worth discussing, but for now we're going to focus on visualization details.\n",
    "\n",
    "Creating charts in Pandas is easy -- we just call one of Pandas's charting methods and pass the names of the columns that contain the data to be plotted. In this chart, we plotted the fraction of women on the x axis and the median income on the y axis. \n",
    "\n",
    "The chart looks OK, but it's missing a title and the axis labels are confusing. Let's fix that."
   ]
  },
  {
   "cell_type": "code",
   "execution_count": null,
   "id": "422172f0",
   "metadata": {
    "tags": []
   },
   "outputs": [],
   "source": [
    "grads.plot.scatter(\n",
    "    x=\"ShareWomen\", y=\"Median\", grid=True,\n",
    "    title=\"Median Income vs. Fraction Women Graduates\",\n",
    "    xlabel=\"Fraction Female Graduates\", ylabel=\"US $\")"
   ]
  },
  {
   "cell_type": "markdown",
   "id": "84a9dc08",
   "metadata": {
    "tiedown.cell_index": "cid10"
   },
   "source": [
    "<a name=\"cid10\"></a>\n",
    "Pandas's plotting methods accept numerous arguments for customizing plots. See the documentation for [Pandas `plot` method](https://pandas.pydata.org/pandas-docs/stable/reference/api/pandas.DataFrame.plot.html#pandas.DataFrame.plot) to see more.\n",
    "\n",
    "Next, let's make a bar chart showing the median incomes for the top 10 highest paying majors."
   ]
  },
  {
   "cell_type": "code",
   "execution_count": null,
   "id": "3ac68519",
   "metadata": {
    "tags": []
   },
   "outputs": [],
   "source": [
    "top10 = (\n",
    "    grads\n",
    "    .sort_values(\"Median\", ascending=False)\n",
    "    .iloc[:10, :]\n",
    ")\n",
    "top10"
   ]
  },
  {
   "cell_type": "code",
   "execution_count": null,
   "id": "5b9d7c6c",
   "metadata": {
    "tags": []
   },
   "outputs": [],
   "source": [
    "top10.plot(kind=\"barh\", x=\"Major\", y=\"Median\")"
   ]
  },
  {
   "cell_type": "markdown",
   "id": "053c2f89",
   "metadata": {
    "tiedown.cell_index": "cid11"
   },
   "source": [
    "<a name=\"cid11\"></a>\n",
    "Hmmm, computer engineering salaries look lower than what I expected. But honestly, I don't know how old this dataset is.\n",
    "\n",
    "Nevertheless, did you notice that it took more lines of code to prepare the data for plotting than it took to do the actual plotting? That's typical.\n",
    "* We used `DataFrame.sort_values()` to sort the data by income.\n",
    "* We used `DataFrame.iloc[]` to select the top 10 majors.\n",
    "* Finally, we sent our data to the plotting function (`DataFrame.plot()`).\n",
    "\n",
    "For the bar chart, we called the `DataFrame.plot()` method and used the `kind` argument to specify the type of chart. We could also have used the `Dataframe.plot.barh()` method."
   ]
  },
  {
   "cell_type": "markdown",
   "id": "6a0b6c3b",
   "metadata": {
    "tiedown.cell_index": "cid12"
   },
   "source": [
    "<a name=\"cid12\"></a>\n",
    "### B. Method Chaining\n",
    "The code statements to make the bar chart were arranged using a technique called [method chaining](https://medium.com/@ulriktpedersen/modern-pandas-streamlining-your-workflow-with-method-chaining-f65e75deb193), which improves the readability of the code.\n",
    "\n",
    "Here is a more traditional way to write the code:\n",
    "```python\n",
    "# Using intermediate variables to save results of DataFrame operations\n",
    "sorted_grads = grads.sort_values(\"Median\", ascending=False)\n",
    "filtered_grads = sorted_grads.iloc[:10, :]\n",
    "filtered_grads.plot(kind=\"barh\", x=\"Major\", y=\"Median\")\n",
    "```\n",
    "We assigned the results of each operation to a new variable. It works fine, but it takes effort to think of descriptive variable names and the extra variables clutter up the code. We can use the fact that the `.sort_values`, and `.iloc` methods both return Pandas `DataFrame` objects to eliminate the `sorted_grads` and `filtered_grads` variables.\n",
    "\n",
    "```python\n",
    "# Chaining DataFrame operations together.\n",
    "grads.sort_values(\"Median\", ascending=False).iloc[:10, :].plot(kind=\"barh\", x=\"Major\", y=\"Median\")\n",
    "```\n",
    "Chaining the dataframe operations together creates a long, complicated line of code that is hard to read. Fortunately we can use parentheses to split the operations into several lines.\n",
    "```python\n",
    "(\n",
    "    grads\n",
    "    .sort_values(\"Median\", ascending=False)\n",
    "    .iloc[:10, :]\n",
    "    .plot(kind=\"barh\", x=\"Major\", y=\"Median\")\n",
    ")\n",
    "```\n",
    "\n",
    "Voila! The dataframe operations are easy to understand because each operation is on its own line and there are no intermediate variables cluttering up the code.\n",
    "\n",
    "Any method that returns a `DataFrame` can be used in a method-chaining context. These Pandas functions are especially useful for method chaining. \n",
    "\n",
    "* [assign](https://pandas.pydata.org/pandas-docs/stable/reference/api/pandas.DataFrame.assign.html#pandas.DataFrame.assign): Creates new dataframe columns.\n",
    "* [set_axis](https://pandas.pydata.org/pandas-docs/stable/reference/api/pandas.DataFrame.set_axis.html#pandas.DataFrame.set_axis): Assign new index or column labels to the dataframe.\n",
    "* [pipe](https://pandas.pydata.org/pandas-docs/stable/reference/api/pandas.DataFrame.pipe.html#pandas.DataFrame.pipe): Run an arbitrary function in a method-chaining context.\n",
    "\n",
    "[Read this article](https://medium.com/@ulriktpedersen/modern-pandas-streamlining-your-workflow-with-method-chaining-f65e75deb193) to learn more about method chaining."
   ]
  },
  {
   "cell_type": "markdown",
   "id": "ce40b489",
   "metadata": {
    "tiedown.cell_index": "cid13"
   },
   "source": [
    "<a name=\"cid13\"></a>\n",
    "### C. Time Series Plot\n",
    "Next we'll make a time series plot. We'll use a dataset that contains atmospheric carbon dioxide (CO2) concentrations that were recorded at the Mauna Loa Observatory in Hawaii. [Click here to learn more abou the dataset.](https://www.kaggle.com/datasets/ucsandiego/carbon-dioxide/)"
   ]
  },
  {
   "cell_type": "code",
   "execution_count": null,
   "id": "03eb2661",
   "metadata": {},
   "outputs": [],
   "source": [
    "co2_raw = pd.read_csv(\"co2.csv\")\n",
    "co2_raw"
   ]
  },
  {
   "cell_type": "markdown",
   "id": "f9aaa293",
   "metadata": {
    "tiedown.cell_index": "cid14"
   },
   "source": [
    "<a name=\"cid14\"></a>\n",
    "The dataset contains monthly measurements from 1958 to 2017. Each measurement was taken at midnight on the 15th day of the month. The units are parts per million by volume (ppmv). A ppmv of 300 indicates that 300 of every 1,000,000 molecules in the measurement sample was CO2. If the sample were entirely carbon dioxide, the ppmv would be 1,000,000.\n",
    "\n",
    "The dataset needs some work before we can plot it. It's using non-standard date formats and the column labels are awkward to type because they contain spaces, mixed case, and parentheses.\n",
    "\n",
    "First, let's create a date column that uses a date format that Pandas recognizes. We'll use the [DataFrame.to_datetime()](https://pandas.pydata.org/pandas-docs/stable/reference/api/pandas.to_datetime.html#pandas-to-datetime) method, which accepts a dataframe with year, month, and day colums."
   ]
  },
  {
   "cell_type": "code",
   "execution_count": null,
   "id": "ceb36208",
   "metadata": {
    "tags": []
   },
   "outputs": [],
   "source": [
    "co2_dates = (\n",
    "    # Extract the year and month columns.\n",
    "    co2_raw[[\"Year\", \"Month\"]]\n",
    "    # Add a day column, with every measuremnet taken on the 15th.\n",
    "    .assign(Day=15)\n",
    "    # Create a date column.\n",
    "    .assign(date=lambda df: pd.to_datetime(df))\n",
    "    # Discard all columns except for date.\n",
    "    .loc[:, \"date\"]\n",
    ")\n",
    "co2_dates"
   ]
  },
  {
   "cell_type": "markdown",
   "id": "d37b19e3",
   "metadata": {
    "tiedown.cell_index": "cid15"
   },
   "source": [
    "<a name=\"cid15\"></a>\n",
    "Next, let's set the index to the date column, discard the nonstandard date columns, and rename the remaining columns."
   ]
  },
  {
   "cell_type": "code",
   "execution_count": null,
   "id": "64b5b10d",
   "metadata": {
    "tags": []
   },
   "outputs": [],
   "source": [
    "co2 = (\n",
    "    co2_raw\n",
    "    .set_index(co2_dates)\n",
    "    .iloc[:, 3:]\n",
    "    .set_axis([\"co2\", \"seasonally_adjusted_co2\",\n",
    "               \"fitted_co2\", \"fitted_seasonally_adjusted_co2\"],\n",
    "              axis=1)\n",
    ")\n",
    "co2"
   ]
  },
  {
   "cell_type": "code",
   "execution_count": null,
   "id": "9daff9b9",
   "metadata": {
    "tags": []
   },
   "outputs": [],
   "source": [
    "co2.plot(y='co2')"
   ]
  },
  {
   "cell_type": "markdown",
   "id": "b016dc1f",
   "metadata": {
    "tiedown.cell_index": "cid16"
   },
   "source": [
    "<a name=\"cid16\"></a>\n",
    "Wow, that is quite a trend! CO2 rises and falls annually because there is more landmass in the northern hemisphere. Plants absorb enough CO2 during the northern hemisphere's summer to cause CO2 concentrations to decrease, but then CO2 increases during the winter months. There is an unmistakable increasing trend over the long term.\n",
    "\n",
    "Did you notice that we did not provide an `x` parameter to the `plot()` method? Pandas assumes that we want to plot the index on the x-axis if we omit the `x` parameter."
   ]
  },
  {
   "cell_type": "markdown",
   "id": "c7fc9a73",
   "metadata": {
    "tiedown.cell_index": "cid17"
   },
   "source": [
    "<a name=\"cid17\"></a>\n",
    "### D. Pandas Plotting Exercises\n",
    "\n",
    "#### 1. Using Pandas Documentation\n",
    "Review the [visualization section of the Pandas user's guide](https://pandas.pydata.org/pandas-docs/stable/user_guide/visualization.html) and the API documentation for the [DataFrame.plot()](https://pandas.pydata.org/pandas-docs/stable/reference/api/pandas.DataFrame.plot.html#pandas.DataFrame.plot) method.\n",
    "\n",
    "In your own words, explain what the `xlim`, `ylim`, and `figsize` parameters do."
   ]
  },
  {
   "cell_type": "markdown",
   "id": "307d64e1",
   "metadata": {
    "tiedown.cell_index": "cid18"
   },
   "source": [
    "<a name=\"cid18\"></a>\n",
    "#### 2. Experiment with Plotting Parameters\n",
    "Change the size of the CO2 plot and modify the x-axis limits.\n",
    "\n",
    "HINT: Specify the dates as string years, e.g., \"1960\"."
   ]
  },
  {
   "cell_type": "code",
   "execution_count": null,
   "id": "a674680f",
   "metadata": {
    "tags": []
   },
   "outputs": [],
   "source": [
    "# Plotting Parameters Exercise\n",
    "\n"
   ]
  },
  {
   "cell_type": "markdown",
   "id": "aa2f4f1e",
   "metadata": {
    "tiedown.cell_index": "cid19"
   },
   "source": [
    "<a name=\"cid19\"></a>\n",
    "#### 3. Titles and Labels\n",
    "Add a title and suitable x and y axis labels to the CO2 plot."
   ]
  },
  {
   "cell_type": "code",
   "execution_count": null,
   "id": "b26705cc",
   "metadata": {
    "tags": []
   },
   "outputs": [],
   "source": [
    "# Titles and Labels Exercise\n",
    "\n",
    "\n"
   ]
  },
  {
   "cell_type": "markdown",
   "id": "ceea82a0",
   "metadata": {
    "tiedown.cell_index": "cid20"
   },
   "source": [
    "<a name=\"cid20\"></a>\n",
    "## IV. Matplotlib\n",
    "Matplotlib is one of the oldest Python packages for visualization. Pandas uses the [Matplotlib package](https://matplotlib.org/stable/users/index.html) to draw plots. This means we can use Matplotlib to customize the charts that we create with Pandas plotting functions.\n",
    "\n",
    "Pandas is not the only package that uses Matplotlib. [Seaborn](https://seaborn.pydata.org/index.html), [Geoplotlib](https://github.com/andrea-cuttone/geoplotlib), and probably a few other packages use Matplotlib to draw some or all of their plots. It's good to be familiar with Matplotlib if you plan to use Python for data analysis.\n",
    "\n",
    "\n",
    "\n",
    "### A. Understanding Matplotlib and Pyplot\n",
    "Matplotlib has a submodule called *pyplot* that emulates a software package called [Matlab](https://www.mathworks.com/products/matlab.html). Matlab is a commercial (and pricey) software package for scientific analysis and visualization. Users of Matplotlib typically import both Matplotlib and its pyplot module, as demonstrated in the next cell."
   ]
  },
  {
   "cell_type": "code",
   "execution_count": null,
   "id": "08bb86a7",
   "metadata": {},
   "outputs": [],
   "source": [
    "import matplotlib\n",
    "import matplotlib.pyplot as plt"
   ]
  },
  {
   "cell_type": "markdown",
   "id": "dfdf7527",
   "metadata": {
    "tiedown.cell_index": "cid21"
   },
   "source": [
    "<a name=\"cid21\"></a>\n",
    "Read through [Matplotlib's Pyplot tutorial](https://matplotlib.org/stable/tutorials/pyplot.html#sphx-glr-tutorials-pyplot-py). Refer to the tutorial while completing the Matplotlib exercises.\n",
    "\n",
    "### B. Matplotlib Exercises\n",
    "#### 1. Income verses Gender Plot\n",
    "Recreate the income vs. gender plot using only Matplotlib Pyplot functions. In other words, don't use any Pandas plotting functions. Set the title and axis labels to appropriate values.\n",
    "\n",
    "HINT: What is the `data` parameter to the `pyplot.plot()` function used for?"
   ]
  },
  {
   "cell_type": "code",
   "execution_count": null,
   "id": "401a060d",
   "metadata": {
    "tags": []
   },
   "outputs": [],
   "source": [
    "# Recreate Income vs Fraction Female Plot\n",
    "\n",
    "\n"
   ]
  },
  {
   "cell_type": "markdown",
   "id": "e7fd7bdd",
   "metadata": {
    "tiedown.cell_index": "cid22"
   },
   "source": [
    "<a name=\"cid22\"></a>\n",
    "#### 2. Top 10 Majors by Income\n",
    "Recreate the bar chart showing the top 10 majors by income using Matplotlib Pyplot functions.\n",
    "\n",
    "HINT: There is a `pyplot.barh()` method."
   ]
  },
  {
   "cell_type": "code",
   "execution_count": null,
   "id": "06bb4d5d",
   "metadata": {},
   "outputs": [],
   "source": [
    "# Plot top 10 majors by income\n",
    "\n",
    "\n"
   ]
  },
  {
   "cell_type": "markdown",
   "id": "70993cd0",
   "metadata": {
    "tiedown.cell_index": "cid23"
   },
   "source": [
    "<a name=\"cid23\"></a>\n",
    "## V. Plotly\n",
    "### A. Getting Started\n",
    "The Issaquah Robotics Society is increasingly using a package called [Plotly](https://plotly.com/python/) for making visualizations. Plotly has features that make it suitable for building interactive web applications. Consider income the chart in Plotly:"
   ]
  },
  {
   "cell_type": "code",
   "execution_count": null,
   "id": "e795c9fd",
   "metadata": {
    "tags": []
   },
   "outputs": [],
   "source": [
    "# Income by Major and Gender in Plotly\n",
    "import plotly.express as px\n",
    "\n",
    "grads_fig = px.scatter(\n",
    "    grads,\n",
    "    x=\"ShareWomen\", y=\"Median\",\n",
    "    color=\"Major_category\", symbol=\"Major_category\",\n",
    "    title=\"Median Income by Major\",\n",
    "    labels={\n",
    "        \"Median\": \"Median Income in US $\",\n",
    "        \"ShareWomen\": \"Fraction Female Graduates\",\n",
    "        \"Major_category\": \"Category\"},\n",
    "    hover_name=\"Major\",\n",
    "    hover_data={\"ShareWomen\": \":.2f\"},\n",
    "    width=900, height=750\n",
    ")\n",
    "grads_fig.show()"
   ]
  },
  {
   "cell_type": "markdown",
   "id": "f08b9c43",
   "metadata": {
    "tiedown.cell_index": "cid24"
   },
   "source": [
    "<a name=\"cid24\"></a>\n",
    "Now the chart is color-coded by category and you can see the major when you hover over the data points. We have a legend, and there is a cool toolbar in the upper right corner with panning, zoom, and other features.\n",
    "\n",
    "To be fair, we could have constructed some of these features with Matplotlib, but it would have been more work.\n",
    "\n",
    "Plotly allowed us to construct most of the plot with a single call to the `plotly.express.scatter()` function, which returned a `Figure` object. We then displayed the figure with the `show()` method.\n",
    "\n",
    "The comments in the code snippet below explain the `.scatter()` function's parameters.\n",
    "\n",
    "```python\n",
    "import plotly.express as px\n",
    "\n",
    "grads_fig = px.scatter(\n",
    "    #  Dataframe with the data we want to plot.\n",
    "    grads,\n",
    "    \n",
    "    # Names of columns to be plotted on x and y axes.\n",
    "    x=\"ShareWomen\", y=\"Median\",\n",
    "    \n",
    "    # Assign colors and symbols based on value in \"Major_cateogry\n",
    "    #   column of dataframe.\n",
    "    color=\"Major_category\", symbol=\"Major_category\",\n",
    "    \n",
    "    # The plot title\n",
    "    title=\"Median Income by Major\",\n",
    "    \n",
    "    # Used to set text in legend and axis labels.\n",
    "    # The key is the dataframe column name and the value is the\n",
    "    #   text that should replace the column name.\n",
    "    labels={\n",
    "        \"Median\": \"Median Income in US $\",\n",
    "        \"ShareWomen\": \"Fraction Female Graduates\",\n",
    "        \"Major_category\": \"Category\"},\n",
    "    \n",
    "    # Customizes the hover tooltip, which is the box that appears\n",
    "    #   when a viewer hovers over a mark on the plot.\n",
    "    # Bold title text of tooltip comes from \"Major\" column.\n",
    "    hover_name=\"Major\",\n",
    "    # Displays ShareWomen value with two decimal places.\n",
    "    hover_data={\"ShareWomen\": \":.2f\"},\n",
    "    \n",
    "    # Sets width and height of plot.\n",
    "    width=1000, height=750\n",
    ")\n",
    "grads_fig.show()\n",
    "\n",
    "```"
   ]
  },
  {
   "cell_type": "markdown",
   "id": "34c5af53",
   "metadata": {
    "tiedown.cell_index": "cid25"
   },
   "source": [
    "<a name=\"cid25\"></a>\n",
    "### B. Plotly Express Verses Graph Objects\n",
    "There are two ways to make charts with the Plotly package. The income chart used\n",
    "`plotly.express`, which is how Ploty recommends making charts. The `plotly.express`\n",
    "package, which is typically imported as `px`, provides easy-to-use functions\n",
    "for constructing many different kinds of charts.\n",
    "\n",
    "The other technique for making charts in Plotly uses `plotly.graph_objects`,\n",
    "typically imported as `go`. the `graph_objects` module provides a higher\n",
    "level of control over the plot, and is the only technique that works for some of\n",
    "the more complex charts.\n",
    "\n",
    "The next cell re-creates the CO2 plot using Plotly's `graph_objects` syntax."
   ]
  },
  {
   "cell_type": "code",
   "execution_count": null,
   "id": "50f585b7",
   "metadata": {},
   "outputs": [],
   "source": [
    "# CO2 Plot using Plotly's graph objects.\n",
    "import plotly.graph_objects as go\n",
    "\n",
    "co2_fig = go.Figure(\n",
    "    data=go.Scatter(x=co2.index, y=co2.co2)\n",
    ")\n",
    "co2_fig.update_layout(\n",
    "    title_text=\"CO2 Concentration by Month and Year\",\n",
    "    width=750, height=400\n",
    ")\n",
    "co2_fig.update_yaxes(title_text=\"PPM by Volume\")\n",
    "co2_fig.show()"
   ]
  },
  {
   "cell_type": "markdown",
   "id": "e8c1471b",
   "metadata": {
    "tiedown.cell_index": "cid26"
   },
   "source": [
    "<a name=\"cid26\"></a>\n",
    "We'll use the Plotly.express technique in this lesson. I mentioned the\n",
    "graph objects technique because you will see it mentioned in\n",
    "[Plotly's documentation](https://plotly.com/python/)."
   ]
  },
  {
   "cell_type": "markdown",
   "id": "8b0e39e4",
   "metadata": {
    "tiedown.cell_index": "cid27"
   },
   "source": [
    "<a name=\"cid27\"></a>\n",
    "### C. The Plotly-Dash Framework\n",
    "The Python Plotly package is just one part of a larger system for building\n",
    "web-based analytic applications. It is designed to work with a\n",
    "[web framework called Dash](https://dash.plotly.com). You will see numerous\n",
    "references to Dash within Plotly's\n",
    "documentation. You can ignore those references for now."
   ]
  },
  {
   "cell_type": "markdown",
   "id": "e8daa89c",
   "metadata": {
    "tiedown.cell_index": "cid28"
   },
   "source": [
    "<a name=\"cid28\"></a>\n",
    "### D. How Plotly Works\n",
    "When you use Python to create a chart with Plotly, Plotly first builds a `Figure` object that contains all the information needed to construct the chart and is easily converted to JSON. Plotly then passes the data as JSON to Javascript functions that are running in the web browser. The Javascript functions draw the chart in the browser and manage all user interactions.\n",
    "\n",
    "Plotly's `show()` method can be used to display the JSON object from which the chart is constructed. Here is the JSON object for the CO2 chart. Click on the triangles to expand each section. You can learn more about the [structure of the `Figure` object in Plotly's documentation](https://plotly.com/python/figure-structure/), but that knowledge is not required to complete this notebook."
   ]
  },
  {
   "cell_type": "code",
   "execution_count": null,
   "id": "c65df3a5",
   "metadata": {},
   "outputs": [],
   "source": [
    "co2_fig.show(\"json\")"
   ]
  },
  {
   "cell_type": "markdown",
   "id": "9f53a5e5",
   "metadata": {
    "tiedown.cell_index": "cid29"
   },
   "source": [
    "<a name=\"cid29\"></a>\n",
    "Plotly provides visualization packages for several other programming languages, including [R](https://www.r-project.org/about.html), [Julia](https://julialang.org/), [Javascript](https://developer.mozilla.org/en-US/docs/Web/JavaScript), and [F#](https://learn.microsoft.com/en-us/dotnet/fsharp/what-is-fsharp). All of these packages work the same way in that they create a `Figure` object that is drawn by Javascript functions."
   ]
  },
  {
   "cell_type": "markdown",
   "id": "66fed5ed",
   "metadata": {
    "tiedown.cell_index": "cid30"
   },
   "source": [
    "<a name=\"cid30\"></a>\n",
    "### E. The Supermarket Dataset\n",
    "Let's add a new dataset. The supermarket_sales.csv file contains information on 1,000 transactions at supermarkets in Myanmar."
   ]
  },
  {
   "cell_type": "code",
   "execution_count": null,
   "id": "a76c0944",
   "metadata": {},
   "outputs": [],
   "source": [
    "# Loading supermarket\n",
    "sales = pd.read_csv(\"supermarket_sales.csv\")\n",
    "sales.head()"
   ]
  },
  {
   "cell_type": "markdown",
   "id": "392f789c",
   "metadata": {
    "tiedown.cell_index": "cid31"
   },
   "source": [
    "<a name=\"cid31\"></a>\n",
    "Let's look at average sale amount by payment type. First, we need to prepare the data. We'll use the aggregation techniques we learned when we were studying tabular data."
   ]
  },
  {
   "cell_type": "code",
   "execution_count": null,
   "id": "03127065",
   "metadata": {
    "tags": []
   },
   "outputs": [],
   "source": [
    "by_payment = (\n",
    "    sales\n",
    "    .groupby(\"Payment\")\n",
    "    .agg(\n",
    "        average_sales=(\"cogs\", \"mean\"),\n",
    "        count_of_sales=(\"cogs\", \"count\"))\n",
    "    .reset_index()\n",
    ")\n",
    "by_payment.head()"
   ]
  },
  {
   "cell_type": "code",
   "execution_count": null,
   "id": "f5603945",
   "metadata": {
    "tags": []
   },
   "outputs": [],
   "source": [
    "payment_fig = px.bar(\n",
    "    by_payment,\n",
    "    x=\"average_sales\",\n",
    "    y=\"Payment\",\n",
    "    orientation=\"h\",\n",
    "    title=\"Transaction Amount by Payment Type\",\n",
    "    hover_name=\"Payment\",\n",
    "    hover_data={\n",
    "        \"average_sales\": \":.2f\",\n",
    "        \"Payment\": False},\n",
    "    labels={\"average_sales\": \"Average Transaction Amount\"}\n",
    ")\n",
    "payment_fig.show()\n"
   ]
  },
  {
   "cell_type": "markdown",
   "id": "85f65f57",
   "metadata": {
    "tiedown.cell_index": "cid32"
   },
   "source": [
    "<a name=\"cid32\"></a>\n",
    "Maps in Plotly are tricky and we won't be using them much. [The Plotly documentation has several articles on maps.](https://plotly.com/python/maps/). The article on bubble maps is useful for understanding this example."
   ]
  },
  {
   "cell_type": "markdown",
   "id": "a41053d8",
   "metadata": {
    "tags": [],
    "tiedown.cell_index": "cid33"
   },
   "source": [
    "<a name=\"cid33\"></a>\n",
    "#### 1. Plotly Barchart Exercise\n",
    "Create a *vertical* bar chart showing the average transaction amount, grouped by product line."
   ]
  },
  {
   "cell_type": "code",
   "execution_count": null,
   "id": "525af6bf",
   "metadata": {
    "tags": []
   },
   "outputs": [],
   "source": [
    "# Average Transaction Amount by Product Line\n"
   ]
  },
  {
   "cell_type": "markdown",
   "id": "f2b174cc",
   "metadata": {
    "tiedown.cell_index": "cid34"
   },
   "source": [
    "<a name=\"cid34\"></a>\n",
    "### F. Plotting Dates and Times\n",
    "Plotting data with dates and times can be tricky. Before we can plot the data, we need to determine how the dates and times are represented in the dataframe. The `.dtypes` property can help with that."
   ]
  },
  {
   "cell_type": "code",
   "execution_count": null,
   "id": "34ecd9ee",
   "metadata": {
    "tags": []
   },
   "outputs": [],
   "source": [
    "sales.dtypes"
   ]
  },
  {
   "cell_type": "markdown",
   "id": "64ffb42c",
   "metadata": {
    "tiedown.cell_index": "cid35"
   },
   "source": [
    "<a name=\"cid35\"></a>\n",
    "It would be nice to have a column with a datetime object type. We'll use the Pandas `to_datetime` method again to convert the columns. Review these articles if you have not already done so.\n",
    "* [Pandas `to_datetime` Method](https://pandas.pydata.org/pandas-docs/stable/reference/api/pandas.to_datetime.html#pandas-to-datetime)\n",
    "* [Format Codes](https://docs.python.org/3/library/datetime.html#strftime-and-strptime-format-codes)"
   ]
  },
  {
   "cell_type": "markdown",
   "id": "ae37a4da",
   "metadata": {
    "tiedown.cell_index": "cid36"
   },
   "source": [
    "<a name=\"cid36\"></a>\n",
    "Every column that's listed as an *object* contains string values. We need to convert the date and time columns to a date-time data type before we can use the column in a plot.\n",
    "\n",
    "> The term *object* comes from [Numpy](https://numpy.org/doc/stable/index.html), which is a Python package that is used to efficiently work with arrays. We will cover Numpy in the next noteook.\n",
    "\n",
    "Writing code that accurately reflects dates and times is surprisingly difficult and a frequent target of programmer complaints. Fortunately, [Pandas `to_datetime` method](https://pandas.pydata.org/pandas-docs/stable/reference/api/pandas.to_datetime.html#pandas-to-datetime) will work in this case.\n",
    "\n",
    "The first thing we need to do is combine the separate date and time columns into a single column:"
   ]
  },
  {
   "cell_type": "code",
   "execution_count": null,
   "id": "27961637",
   "metadata": {
    "tags": []
   },
   "outputs": [],
   "source": [
    "# Combining Date and Time columns, using a space as a separator\n",
    "datetime_string_column = sales.Date + \" \" + sales.Time\n",
    "datetime_string_column"
   ]
  },
  {
   "cell_type": "markdown",
   "id": "3379c356",
   "metadata": {
    "tiedown.cell_index": "cid37"
   },
   "source": [
    "<a name=\"cid37\"></a>\n",
    "Next we'll use `to_datetime` to convert the datetime column from strings to a datetime object. Because there are so many ways to represent dates and times in strings, we have to tell `to_datetime` how to do the conversion. Here are some examples.\n",
    "* Date of first Moon landing in North America: 7/20/1969\n",
    "* In Europe: 20/7/1969\n",
    "* Before we started worrying about Y2K: 7/20/69\n",
    "* With leading zeros: 07/20/69\n",
    "* Spelled out: July 20th, 1969\n",
    "* Really spelled out: Sunday, July 20th, 1969\n",
    "* Time of Moon Landing: 4:17 EDT (Eastern Daylight Time)\n",
    "* Military Style: 1617\n",
    "* Universal Coordinated Time: 20:17 UTC\n",
    "* [ISO 8601 Style](https://en.wikipedia.org/wiki/ISO_8601) in UTC: 1969-07-17T20:17:39Z\n",
    "* ISO 8601 style in local time with timezone offset: 1969-07-17T16:17:-04:00\n",
    "\n",
    "We can use a `format` parameter to tell `to_datetime` how the string are formatted. The format string will contain codes that represent the different parts of a date and time. Each code starts with a percentage signe, \"%\".\n",
    "* `%m`: Month as a zero-padded decimal number.\n",
    "* `%d`: Day of the month as a zero-padded decimal number.\n",
    "* `%Y`: Year with century as a decimal number.\n",
    "* `%H`: Hour (24-hour clock) as a zero-padded decimal number.\n",
    "* `%M`: Minute as a zero-padded decimal number.\n",
    "\n",
    "Characters that are not part of a format code are interpreted literally. There are several more format codes. [The full list is here.](https://docs.python.org/3/library/datetime.html#strftime-and-strptime-format-codes). The `to_datetime` function uses the same format codes as the [datetime module from Python's Standard Library.](https://docs.python.org/3/library/datetime.html)"
   ]
  },
  {
   "cell_type": "code",
   "execution_count": null,
   "id": "aeb0fe5c",
   "metadata": {
    "tags": []
   },
   "outputs": [],
   "source": [
    "datetime_column = pd.to_datetime(\n",
    "    datetime_string_column,\n",
    "    format=\"%m/%d/%Y %H:%M\")\n",
    "datetime_column"
   ]
  },
  {
   "cell_type": "markdown",
   "id": "9b3e2e35",
   "metadata": {
    "tiedown.cell_index": "cid38"
   },
   "source": [
    "<a name=\"cid38\"></a>\n",
    "The cell output indicates that the column has been converted from object to datetime64[ns].\n",
    "\n",
    "Finally, we'll add the datetime column to the sales dataframe and drop the individual *Date* and *Time* columns. There are a lot of columns, so you might have to scroll right to see the datetime column."
   ]
  },
  {
   "cell_type": "code",
   "execution_count": null,
   "id": "226f9af2",
   "metadata": {
    "tags": []
   },
   "outputs": [],
   "source": [
    "sales = (\n",
    "    sales\n",
    "    .assign(datetime=datetime_column)\n",
    "    .drop([\"Date\", \"Time\"], axis=1)\n",
    ")\n",
    "sales.head()   "
   ]
  },
  {
   "cell_type": "markdown",
   "id": "551d9fae",
   "metadata": {
    "tiedown.cell_index": "cid39"
   },
   "source": [
    "<a name=\"cid39\"></a>\n",
    "### G. Plotly Documentation\n",
    "This notebook covers only a small fraction of the charts that can be built with Plotly It would take a thick book to cover them all. Becoming a Plotly expert requires becoming familiar with [Plotly's Official Documentation](https://plotly.com/python/). Take a look at the main documenation page to see what topics are available. [Plotly's Basic Charts page](https://plotly.com/python/basic-charts/). Find at least one code example for a scatter plot, line plot, and bar chart."
   ]
  },
  {
   "cell_type": "markdown",
   "id": "25b5ecf7",
   "metadata": {
    "tags": [],
    "tiedown.cell_index": "cid40"
   },
   "source": [
    "<a name=\"cid40\"></a>\n",
    "#### 1. Scatter Plot Exercise\n",
    "Create a scatter plot with *datetime* on the x axis and *Total* on the y axis. Color-code the plot by *City*.\n",
    "\n",
    "HINT: [Plotly's article on scatter plots](https://plotly.com/python/line-and-scatter/) has examples that show how to color-code a plot.\n",
    "\n",
    "The code for your plot might generate a warning. Don't worry about that."
   ]
  },
  {
   "cell_type": "code",
   "execution_count": null,
   "id": "52016df1",
   "metadata": {
    "tags": []
   },
   "outputs": [],
   "source": [
    "# Total by Date Exercise\n",
    "\n"
   ]
  },
  {
   "cell_type": "markdown",
   "id": "b92c8c05",
   "metadata": {
    "tiedown.cell_index": "cid41"
   },
   "source": [
    "<a name=\"cid41\"></a>\n",
    "#### 2. Line Plot Exercise\n",
    "Construct a line chart of total transaction amount (y) by datetime (x) for the city of Yangon. Add a title and a nicely formatted x-axis label.\n",
    "\n",
    "HINT: Sort the dataframe before plotting it."
   ]
  },
  {
   "cell_type": "code",
   "execution_count": null,
   "id": "20def5fb",
   "metadata": {
    "tags": []
   },
   "outputs": [],
   "source": [
    "# Line Plot Exercise\n",
    "\n",
    "\n"
   ]
  },
  {
   "cell_type": "markdown",
   "id": "0cf9f94e",
   "metadata": {
    "tiedown.cell_index": "cid42"
   },
   "source": [
    "<a name=\"cid42\"></a>\n",
    "### H. Colors\n",
    "Color choices have a big impact on the effectiveness of a data visualization. Plotly provides several methods for fine tuning color choices. Consider this bar chart of supermarket sales data."
   ]
  },
  {
   "cell_type": "code",
   "execution_count": null,
   "id": "2c9dbbbf",
   "metadata": {
    "tags": []
   },
   "outputs": [],
   "source": [
    "# Sum sales totals by payment type and product line.\n",
    "summed_sales = (\n",
    "    sales\n",
    "    .groupby([\"Payment\", \"Product line\"])\n",
    "    .agg({\"Total\": \"sum\"})\n",
    "    .reset_index()\n",
    ")\n",
    "summed_sales.head()"
   ]
  },
  {
   "cell_type": "code",
   "execution_count": null,
   "id": "7753c601",
   "metadata": {
    "tags": []
   },
   "outputs": [],
   "source": [
    "# Create a stacked bar chart\n",
    "gfig = px.bar(\n",
    "    summed_sales,\n",
    "    x=\"Product line\", y=\"Total\",\n",
    "    color=\"Payment\",\n",
    "    title=\"Total Sales\",\n",
    "    labels={\"Product line\": \"Product Line\", \"Total\": \"Myanmar Kyat\"})\n",
    "gfig.show()"
   ]
  },
  {
   "cell_type": "markdown",
   "id": "b48fc698",
   "metadata": {
    "tiedown.cell_index": "cid43"
   },
   "source": [
    "<a name=\"cid43\"></a>\n",
    "The `px.bar` function, like many of the Plotly Express functions, has a `color` parameter. But instead of passing a color like `Red` or `LightSeaGreen`, we passed in the name of a column. The `color` parameter tells Plotly to assign different colors to the sales totals for each payment type. That's very helpful, but what if we wanted to change the colors?\n",
    "\n",
    "To change colors we can use the `discrete_color_sequence` parameter, which accepts the name of a Plotly color sequence. You can see the different color sequences in [Plotly's documentation, ](https://plotly.com/python/discrete-color/#color-sequences-in-plotly-express), or you can run the following cell."
   ]
  },
  {
   "cell_type": "code",
   "execution_count": null,
   "id": "36d2cbb1",
   "metadata": {
    "tags": []
   },
   "outputs": [],
   "source": [
    "# Plotly color sequences\n",
    "color_fig = px.colors.qualitative.swatches()\n",
    "color_fig.show()"
   ]
  },
  {
   "cell_type": "markdown",
   "id": "68ea99bd",
   "metadata": {
    "tiedown.cell_index": "cid44"
   },
   "source": [
    "<a name=\"cid44\"></a>\n",
    "Plotly uses the *Plotly* color sequence by default. Lets try the *Antique* color sequence."
   ]
  },
  {
   "cell_type": "code",
   "execution_count": null,
   "id": "b8509453",
   "metadata": {
    "tags": []
   },
   "outputs": [],
   "source": [
    "# Create a stacked bar chart\n",
    "gfig = px.bar(\n",
    "    summed_sales,\n",
    "    x=\"Product line\", y=\"Total\",\n",
    "    color=\"Payment\",\n",
    "    color_discrete_sequence=px.colors.qualitative.Antique,\n",
    "    title=\"Total Sales\",\n",
    "    labels={\"Product line\": \"Product Line\", \"Total\": \"Myanmar Kyat\"})\n",
    "gfig.show()"
   ]
  },
  {
   "cell_type": "markdown",
   "id": "930429fe",
   "metadata": {
    "tiedown.cell_index": "cid45"
   },
   "source": [
    "<a name=\"cid45\"></a>\n",
    "#### 1. Custom Color Sequence\n",
    "Plotly's built-in color sequences will work for most charts. But what if we wanted to define our own color sequence? See the next cell."
   ]
  },
  {
   "cell_type": "code",
   "execution_count": null,
   "id": "3e1cc67d",
   "metadata": {
    "tags": []
   },
   "outputs": [],
   "source": [
    "# Create a stacked bar chart\n",
    "gfig = px.bar(\n",
    "    summed_sales,\n",
    "    x=\"Product line\", y=\"Total\",\n",
    "    color=\"Payment\",\n",
    "    color_discrete_sequence=[\"Indigo\", \"GoldenRod\", \"Grey\"],\n",
    "    title=\"Total Sales\",\n",
    "    labels={\"Product line\": \"Product Line\", \"Total\": \"Myanmar Kyat\"})\n",
    "gfig.show()"
   ]
  },
  {
   "cell_type": "markdown",
   "id": "3328acca",
   "metadata": {
    "tags": [],
    "tiedown.cell_index": "cid46"
   },
   "source": [
    "<a name=\"cid46\"></a>\n",
    "That seems to work fine, but *Goldenrod*? Really? Can we use any color name we can think of? The answer to that question is obviously no. All modern browsers support [this set of 140 named colors](https://www.w3schools.com/colors/colors_names.asp), and most plotting packages will accept these color names as well.\n",
    "\n",
    "\n",
    "\n",
    "One hundred and forty colors is plenty for most situations. But suppose you wanted to humor a mentor who went to college in a town called Pullman and decided you just had to use [Washington State University's official colors](https://brand.wsu.edu/colors/)? See the next cell."
   ]
  },
  {
   "cell_type": "code",
   "execution_count": null,
   "id": "3bae2cec",
   "metadata": {
    "tags": []
   },
   "outputs": [],
   "source": [
    "# Go Cougs Chart\n",
    "gfig = px.bar(\n",
    "    summed_sales,\n",
    "    x=\"Product line\", y=\"Total\",\n",
    "    color=\"Payment\",\n",
    "    color_discrete_sequence=[\"#888888\", \"#A60F2D\", \"#4D4D4D\"],\n",
    "    title=\"Total Sales\",\n",
    "    labels={\"Product line\": \"Product Line\", \"Total\": \"Myanmar Kyat\"})\n",
    "gfig.show()"
   ]
  },
  {
   "cell_type": "markdown",
   "id": "852c2c25",
   "metadata": {
    "tiedown.cell_index": "cid47"
   },
   "source": [
    "<a name=\"cid47\"></a>\n",
    "The color codes that start with a hash character (#) are [CSS Hex Colors](https://www.w3schools.com/css/css_colors_hex.asp). They use the format `#rrggbb` where *rr*, *gg*, and *bb* are two-digit [hexadecimal numbers](https://en.wikipedia.org/wiki/Hexadecimal) that specify the intensity of the color's red, green, and blue components. Hexadecimal numbers use base 16 and range from 0 to F, which is 15 in base 10. Each color component can be assigned a number ranging from 00 to FF (255). The color `#000000` is black and `#FFFFFF` is white. `#FF0000` would be bright red."
   ]
  },
  {
   "cell_type": "code",
   "execution_count": null,
   "id": "40626f08",
   "metadata": {},
   "outputs": [],
   "source": [
    "co2_fig = px.line(\n",
    "    co2, x=co2.index, y=\"co2\",\n",
    "    color_discrete_sequence=[\"GoldenRod\"],\n",
    "    title=\"Atmospheric Carbon Dioxide Concentration\",\n",
    "    labels={\"co2\": \"PPM by Volume\", \"date\": \"\"}\n",
    ")\n",
    "co2_fig.show()"
   ]
  },
  {
   "cell_type": "markdown",
   "id": "6b4e04d5",
   "metadata": {
    "tiedown.cell_index": "cid48"
   },
   "source": [
    "<a name=\"cid48\"></a>\n",
    "#### 2. Color Code Exercise\n",
    "Go to https://www.w3schools.com/colors/colors_picker.asp and play with the color code selecter. Choose at least three colors and make a color sequence. Add a [named HTML color](https://www.w3schools.com/colors/colors_names.asp) and Run the plotting cell to display the colors."
   ]
  },
  {
   "cell_type": "code",
   "execution_count": null,
   "id": "56c23571",
   "metadata": {
    "tags": []
   },
   "outputs": [],
   "source": [
    "# Add your colors to the list as strings, e.g., \"#FFFFFF\".\n",
    "my_color_sequence = []"
   ]
  },
  {
   "cell_type": "code",
   "execution_count": null,
   "id": "42313ea9",
   "metadata": {},
   "outputs": [],
   "source": [
    "# Plotting Cell. Run this cell to display your color sequence.\n",
    "def plot_color_sequence(colors):\n",
    "    cfig = px.pie(\n",
    "        values=[1 for _ in colors],\n",
    "        names=colors,\n",
    "        color_discrete_sequence=colors,\n",
    "        title=\"My Color Sequence\",\n",
    "        height=500)\n",
    "    cfig.update_traces(textinfo=\"label\")\n",
    "    cfig.update_layout(showlegend=False)\n",
    "    cfig.show()\n",
    "    \n",
    "plot_color_sequence(my_color_sequence)"
   ]
  },
  {
   "cell_type": "markdown",
   "id": "f6b35db6",
   "metadata": {
    "tiedown.cell_index": "cid49"
   },
   "source": [
    "<a name=\"cid49\"></a>\n",
    "### I. Continuous Colors\n",
    "So far, we've been using colors on categorical columns in our Pandas dataframes. Categorical columns have a finite number of non-numeric values, like \"Cash\", \"Credit card\" and \"Ewallet\" for the *Payment type* column. Plotly calls this type of data *qualitative*, which is why we used color sequences from the `plotly.express.colors.qualitative` subpackage.\n",
    "\n",
    "Colors can also be used to highlight continuous numeric data. Plotly provides sequential color sequences for this purpose. Run the next cell to see th sequential color sequences."
   ]
  },
  {
   "cell_type": "code",
   "execution_count": null,
   "id": "dbdda8d6",
   "metadata": {
    "tags": []
   },
   "outputs": [],
   "source": [
    "# Plotly color sequences\n",
    "color_fig = px.colors.sequential.swatches()\n",
    "color_fig.show()"
   ]
  },
  {
   "cell_type": "markdown",
   "id": "3a19668c",
   "metadata": {
    "tiedown.cell_index": "cid50"
   },
   "source": [
    "<a name=\"cid50\"></a>\n",
    "#### 1. Continous Color Exercise\n",
    "Create a scatter plot of Median salary vs Unemployment rate for graduation data. Color-code the chart by the *Total* column. Choose and assign a sequential color sequence to the plot.\n",
    "\n",
    "HINT: Review [Plotly's Continuous Color Scales Article](https://plotly.com/python/colorscales/)"
   ]
  },
  {
   "cell_type": "code",
   "execution_count": null,
   "id": "ec3df557",
   "metadata": {},
   "outputs": [],
   "source": [
    "# Continuous Color Exercise\n",
    "\n"
   ]
  },
  {
   "cell_type": "markdown",
   "id": "618cb9b6",
   "metadata": {
    "tiedown.cell_index": "cid51"
   },
   "source": [
    "<a name=\"cid51\"></a>\n",
    "## VI. Plotting Scouting Data\n",
    "For the final set of exercises, We'll plot actual IRS scouting data. Our dataset consists of scouting data from the first 85 matches of the 2023 district district championships at Eastern Washington University.\n",
    "\n",
    "It will help if you are familiar with the 2023 game rules. [Watch this short video](https://youtu.be/0zpflsYc4PA?si=OPl6Cpo_MipOmsn-) for an overview if you are unfamiliar with the game.\n",
    "\n",
    "The next cell loads scouting data from a JSON file and constructs a dataframe."
   ]
  },
  {
   "cell_type": "code",
   "execution_count": null,
   "id": "bbd5f207",
   "metadata": {
    "tags": []
   },
   "outputs": [],
   "source": [
    "import json\n",
    "\n",
    "with open(\"pncmp2023.json\") as jfile:\n",
    "    pncmp = json.load(jfile)\n",
    "measures = pd.DataFrame.from_dict(pncmp[\"measures\"])\n",
    "\n",
    "measures"
   ]
  },
  {
   "cell_type": "markdown",
   "id": "c7314443",
   "metadata": {
    "tiedown.cell_index": "cid52"
   },
   "source": [
    "<a name=\"cid52\"></a>\n",
    "In data visualization, the term *measure* is often used to describe the quantities that will be visualized, which is why the main data table in the IRS scouting system is called the *measures* table. Our measures table has over 10,000 rows of data!\n",
    "\n",
    "Let's take a look all the measures for team 3218 in match 38."
   ]
  },
  {
   "cell_type": "code",
   "execution_count": null,
   "id": "a1601363",
   "metadata": {
    "tags": []
   },
   "outputs": [],
   "source": [
    "(\n",
    "    measures\n",
    "    .query(\"team == 3218 and match == 38\")\n",
    "    .sort_values([\"phase\", \"task\"])\n",
    "    .loc[:, [\"match\", \"team\", \"phase\",\n",
    "             \"task\", \"measure_type\", \"hit\", \"cat\", \"miss\"]]\n",
    ")"
   ]
  },
  {
   "cell_type": "markdown",
   "id": "cdc01203",
   "metadata": {
    "tags": [],
    "tiedown.cell_index": "cid53"
   },
   "source": [
    "<a name=\"cid53\"></a>\n",
    "There are 21 different measures for one robot in one match. There are six robots in each match and there are 85 matches in the dataset. So we would expect about 21 * 6 * 85 = 10,710 rows in the measures table. We actually have 10,584, which is close enough.\n",
    "\n",
    "Let's take a closer look at the data for match 38. The task column lists all of the actions a robot can complete in a match. Some tasks can be completed both during autonomous and teleop. Look at the *phase* column to tell which is which.\n",
    "\n",
    "There are three columns that contain the measured data: *hit*, *miss*, and *cat*. Their interpretation depends on the value in the *measure_type* column.\n",
    "* For columns with a *measure_type* of *count*, the *hit* column will contain the number of times that the robot successfully completed that action. If used, the *miss* column will contain the number of unsuccessful attempts. If not used, *miss* will contain -1. The *cat* column is not used.\n",
    "* For boolean columns, *hit* will contain a 1 if the task was completed and zero if not. The *miss* and *cat* columns are not used.\n",
    "* For categorical columns the *cat* column will describe how the robot completed the task. The *hit* and *miss* columns are not used.\n",
    "* Finally, for rating columns, the *hit* column contains the number of stars awarded out of *miss* stars. The *cat* column is not used.\n",
    "\n",
    "If we wanted to know how many cones that team 2046 placed in the upper level during autonomous phase during all matches:"
   ]
  },
  {
   "cell_type": "markdown",
   "id": "006f40fe",
   "metadata": {
    "tiedown.cell_index": "cid54"
   },
   "source": [
    "<a name=\"cid54\"></a>\n",
    "### A. Cone Bar Chart Exercise\n",
    "Create a bar chart showing the number of cones placed in the upper level by team 1318 during the teleop phase of each match.\n",
    "\n",
    "**HINTS:**\n",
    "1. First, filter the measures dataframe to only team 1318, the *tele* phase, and the *cone_up* task.\n",
    "2. Sort the dataframe by match.\n",
    "3. Force the x axis to be categorical with `fig.update_xaxes(type=\"category\")`. Replace *fig* with whatever you named your figure object."
   ]
  },
  {
   "cell_type": "code",
   "execution_count": null,
   "id": "44888798",
   "metadata": {},
   "outputs": [],
   "source": [
    "# Cone Bar Chart\n",
    "\n",
    "\n"
   ]
  },
  {
   "cell_type": "markdown",
   "id": "11e754d1",
   "metadata": {
    "tiedown.cell_index": "cid55"
   },
   "source": [
    "<a name=\"cid55\"></a>\n",
    "### B. Average Cubes Bar Chart Exercise\n",
    "Create a horizontal bar chart showing the total number of cubes and cones placed on the grid across all matches for all teams, in both autonomous and teleop.\n",
    "\n",
    "**HINTS:**\n",
    "1. Filter the *measures* dataframe to contain only the *cone_low* task.\n",
    "2. Group the *measures* dataframe by team and aggregate it with a mean function. See the grouping and aggregaton section from the notebook on tabular data if you need a refresher.\n",
    "3. Don't forget to make the team axis a categorical axis.\n",
    "4. Play with the height and width parameters to make all the team numbers visible.\n",
    "5. Experiment with the nbins parameter."
   ]
  },
  {
   "cell_type": "code",
   "execution_count": null,
   "id": "5873030e",
   "metadata": {},
   "outputs": [],
   "source": [
    "# Average Cubes Exercise\n",
    "\n",
    "\n"
   ]
  },
  {
   "cell_type": "markdown",
   "id": "49609868",
   "metadata": {
    "tiedown.cell_index": "cid56"
   },
   "source": [
    "<a name=\"cid56\"></a>\n",
    "## VII. Visualization Theory\n",
    "Finally, let's review some visualizaton theory.\n",
    "\n",
    "1. Read [this article on types of data](https://www.mygreatlearning.com/blog/types-of-data/). After reading the article you should be able to define the terms *qualitative*, *quantitative*, *nominal*, *ordinal*, *continuous*, and *discrete*. Note that in the IRS, we often use the term *categorical* to mean *qualitative*. The terms *objective* and *subjective* are also useful when thinkng about data. If something is *subjective*, two different people might disagree on the value. *Objective* data is less susceptible to disagreement.\n",
    "2. Scan [this article on use of color in visualizations](https://www.y42.com/blog/color-rules-data-visualization).\n",
    "3. If visualization theory is interesting to you, [check out this article on the Gestalt principles of visual perception](https://bootcamp.uxdesign.cc/to-understand-what-makes-good-design-work-you-need-to-understand-the-psychology-of-human-bdff3cf20425). This article is optional."
   ]
  },
  {
   "cell_type": "markdown",
   "id": "45df1e00",
   "metadata": {
    "tiedown.cell_index": "cid57"
   },
   "source": [
    "<a name=\"cid57\"></a>\n",
    "## VIII. More Types of Plots\n",
    "### A. Boxplots\n",
    "Plotting averages for each team is useful. But it's also useful to understand how consistent each team was at placing game pieces. Boxplots are a great tool for this. Here is a boxplot of total game pieces placed per match for each team. You might need to increase the size of your browser window to see all team labels in the boxplot."
   ]
  },
  {
   "cell_type": "code",
   "execution_count": null,
   "id": "33c22dc4",
   "metadata": {
    "tags": []
   },
   "outputs": [],
   "source": [
    "# Constructing Box Plots\n",
    "tasks = [task for task in pd.unique(measures.task)\n",
    "         if task.startswith(\"cone\") or task.startswith(\"cube\")]\n",
    "pieces = (\n",
    "    measures\n",
    "    .query(\"task in @tasks\")\n",
    "    .groupby([\"match\", \"team\"])\n",
    "    .agg({\"hit\": \"sum\"})\n",
    "    .reset_index()\n",
    "    .sort_values(\"team\")\n",
    ")\n",
    "pieces.head()"
   ]
  },
  {
   "cell_type": "code",
   "execution_count": null,
   "id": "b5640f1b",
   "metadata": {
    "tags": []
   },
   "outputs": [],
   "source": [
    "boxfig = px.box(\n",
    "    pieces, x=\"team\", y=\"hit\",\n",
    "    title=\"Game Pieces Place per Match\",\n",
    "    labels={\"hit\": \"Cones + Cubes\", \"team\": \"Team\"}\n",
    ")                \n",
    "boxfig.update_xaxes(type=\"category\")\n",
    "boxfig.show()"
   ]
  },
  {
   "cell_type": "markdown",
   "id": "2120b375",
   "metadata": {
    "tiedown.cell_index": "cid58"
   },
   "source": [
    "<a name=\"cid58\"></a>\n",
    "### B. Interpreting Boxplots\n",
    "Each team has a glyph that shows the total number of cones and cubes placed on the grid during each match. Each box has three parts: the thick \"box\" part, the vertical line, and the dots.\n",
    "* Every box has a horizontal line in the middle of the box. This line is drawn at the median number of game pieces placed. For example, team 360's median is at 7 pieces, which means they placed more than 7 pieces in half of their matches and fewer than 7 in the other half of their matches.\n",
    "* The top of the box is drawn at the upper quartile, wich means the team scored more than this value in 25% of their matches.\n",
    "* The bottom of the box is drawn at the lower quartile, which means the team scored fewer pieces that this value in 25% of their matches.\n",
    "* The vertical lines extend from the minimum to maximum values. They usually show the total range of game pieces placed during matches for each team. There is an exception to this rule which is explained in the next bullet.\n",
    "* For most boxplots, the vertical lines are not allowed to extend more than 1.5 times the interquartile range. The interquartile range is the distance from the bottom quartile to the top quartile (the length of the box). If there are values outside this range, they are considered to be outlierss and are plotted as dots."
   ]
  },
  {
   "cell_type": "markdown",
   "id": "f757b795",
   "metadata": {
    "tiedown.cell_index": "cid59"
   },
   "source": [
    "<a name=\"cid59\"></a>\n",
    "### C. Heat Maps\n",
    "Heat maps are another great way to visualize a dataset."
   ]
  },
  {
   "cell_type": "code",
   "execution_count": null,
   "id": "2eeabc09",
   "metadata": {
    "tags": []
   },
   "outputs": [],
   "source": [
    "tasks = [task for task in pd.unique(measures.task)\n",
    "         if task.startswith(\"cone\") or task.startswith(\"cube\")]\n",
    "grid = (\n",
    "    measures\n",
    "    .query(\"task in @tasks and phase == 'tele'\")\n",
    "    .groupby([\"team\", \"task\"])\n",
    "    .agg({\"hit\": \"mean\"})\n",
    "    .unstack(level=1)\n",
    "    .T\n",
    "    .droplevel(0)\n",
    "    .loc[::-1, :]\n",
    ")\n",
    "grid.head()"
   ]
  },
  {
   "cell_type": "code",
   "execution_count": null,
   "id": "8aedfc96",
   "metadata": {
    "tags": []
   },
   "outputs": [],
   "source": [
    "gridfig = px.imshow(\n",
    "    grid,\n",
    "    title=\"Average Pieces Placed by Type and Level\",\n",
    "    aspect=\"auto\",\n",
    "    text_auto=\".1f\",\n",
    "    labels={\"x\": \"Team\", \"y\": \"\"})\n",
    "gridfig.update_xaxes(type=\"category\")\n",
    "gridfig.show()"
   ]
  },
  {
   "cell_type": "markdown",
   "id": "858fc435",
   "metadata": {
    "tiedown.cell_index": "cid60"
   },
   "source": [
    "<a name=\"cid60\"></a>\n",
    "## IX. Quiz"
   ]
  },
  {
   "cell_type": "markdown",
   "id": "ce456bf4",
   "metadata": {
    "tiedown.cell_index": "cid61"
   },
   "source": [
    "<a name=\"cid61\"></a>\n",
    "#### 1. Question #1\n",
    "What's a good type of chart for plotting two numeric variables? (See the articles in the *Visualization Theory* section.)"
   ]
  },
  {
   "cell_type": "code",
   "execution_count": null,
   "id": "f4bbf33f",
   "metadata": {},
   "outputs": [],
   "source": [
    "#1\n"
   ]
  },
  {
   "cell_type": "markdown",
   "id": "3e72006b",
   "metadata": {
    "tiedown.cell_index": "cid62"
   },
   "source": [
    "<a name=\"cid62\"></a>\n",
    "#### 2. Question #2\n",
    "What's a good type of chart for comparing numeric and categorical (i.e., qualitative) variables?"
   ]
  },
  {
   "cell_type": "code",
   "execution_count": null,
   "id": "90fcd253",
   "metadata": {},
   "outputs": [],
   "source": [
    "#2\n"
   ]
  },
  {
   "cell_type": "markdown",
   "id": "08f25b51",
   "metadata": {
    "tiedown.cell_index": "cid63"
   },
   "source": [
    "<a name=\"cid63\"></a>\n",
    "#### 3. Question #3\n",
    "How would you visualize two nominal or ordinal variables? For example, robotics team vs. match starting position? Feel free to [scan Plotly's documentation](https://plotly.com/python/) for ideas."
   ]
  },
  {
   "cell_type": "code",
   "execution_count": null,
   "id": "208f946b",
   "metadata": {},
   "outputs": [],
   "source": [
    "#3\n"
   ]
  },
  {
   "cell_type": "markdown",
   "id": "8e31cda6",
   "metadata": {
    "tiedown.cell_index": "cid64"
   },
   "source": [
    "<a name=\"cid64\"></a>\n",
    "#### 4. Question #4\n",
    "What is the difference between a diverging and sequential color palette?"
   ]
  },
  {
   "cell_type": "code",
   "execution_count": null,
   "id": "84ffd459",
   "metadata": {},
   "outputs": [],
   "source": [
    "#4\n"
   ]
  },
  {
   "cell_type": "markdown",
   "id": "4644c047",
   "metadata": {
    "tiedown.cell_index": "cid65"
   },
   "source": [
    "<a name=\"cid65\"></a>\n",
    "#### 5. Question #5\n",
    "Review the boxplot. What teams are the most consistent. What teams have a large amount of variation in the number of game pieces placed?"
   ]
  },
  {
   "cell_type": "code",
   "execution_count": null,
   "id": "8a56a62f",
   "metadata": {},
   "outputs": [],
   "source": [
    "#5\n"
   ]
  },
  {
   "cell_type": "markdown",
   "id": "23c2c874",
   "metadata": {
    "tiedown.cell_index": "cid66"
   },
   "source": [
    "<a name=\"cid66\"></a>\n",
    "## X. Save Your Work\n",
    "Once you have completed the exercises, save a copy of the notebook outside of the git repository (outside of the *pyclass_frc* folder). Include your name in the file name. Follow instructions from your instructor to get feedback on your work."
   ]
  },
  {
   "cell_type": "markdown",
   "id": "7a4590e1",
   "metadata": {
    "tiedown.cell_index": "cid67"
   },
   "source": [
    "<a name=\"cid67\"></a>\n",
    "## XI. Concept and Terminology Review\n",
    "You should be able to define the following terms or describe the concept.\n",
    "* Scatter plots\n",
    "* Bar charts\n",
    "* Line plots\n",
    "* Heat maps\n",
    "* Box plots\n",
    "* Method chaining\n",
    "* `pandas.plot`\n",
    "* Matplotlib\n",
    "* `Plotly`\n",
    "* `pandas.to_datetime`\n",
    "* Plotly color sequences\n",
    "* HTML colors\n",
    "* CSS hex color codes\n",
    "* Numeric data\n",
    "* Categorical data"
   ]
  },
  {
   "cell_type": "markdown",
   "id": "c5a25536",
   "metadata": {
    "tiedown.cell_index": "cid68"
   },
   "source": [
    "<a name=\"cid68\"></a>\n",
    "[Table of Contents](../../index.ipynb)"
   ]
  },
  {
   "cell_type": "markdown",
   "id": "6d6e118c-eef8-4c5d-ae5f-482ab439dbc4",
   "metadata": {
    "tiedown.cell_index": "cid69"
   },
   "source": [
    "<a name=\"cid69\"></a>\n",
    "Prev: [Tabular Data](../08_tabular_data/tabular_data.ipynb) | [Table of Contents](../toc.ipynb) | Next: [Managing Big Arrays with Numpy](../10_numpy/numpy.ipynb)"
   ]
  }
 ],
 "metadata": {
  "kernelspec": {
   "display_name": "Python 3 (ipykernel)",
   "language": "python",
   "name": "python3"
  },
  "tiedown.toc_index": 8
 },
 "nbformat": 4,
 "nbformat_minor": 5
}
