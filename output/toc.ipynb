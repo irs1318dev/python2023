{
 "cells": [
  {
   "cell_type": "markdown",
   "metadata": {
    "tiedown.cell_index": "cid1"
   },
   "source": [
    "<a name=\"cid1\"></a>\n",
    "# Programming for FRC Data Analysis\n",
    "\n",
    "## Introduction\n",
    "This is an introductory course in programming that focuses on data analysis and visualization. The course was developed to help members of a FIRST Robotics Competition (FRC) team analyze data at robotics competitions.\n",
    "\n",
    "Go to [Lesson 1, Introduction to Python](01_intro_python/intro_python.ipynb) to get started."
   ]
  },
  {
   "cell_type": "markdown",
   "metadata": {
    "tiedown.cell_index": "cid2"
   },
   "source": [
    "<a name=\"cid2\"></a>\n",
    "## Contents\n",
    "1. [Introduction to Python](01_intro_python/intro_python.ipynb)\n",
    "2. [Data Types](02_data_types/data_types.ipynb)\n",
    "3. [Conditional Statements](03_conditional_statements/s03_conditional_statements.ipynb)\n",
    "4. [Loops](04_loops/loops.ipynb)\n",
    "5. [Functions](05_functions/functions.ipynb)\n",
    "6. [Composite Data Types](06_composite_data/composite_data.ipynb)\n",
    "7. [File Operations and Comprehensions](07_files_and_comprehensions/files_and_comprehensions.ipynb)\n",
    "8. [Tabular Data](08_tabular_data/tabular_data.ipynb)\n",
    "9. [Data Visualization with MatPlotlib](09_visualization_matplotlib/matplotlib.ipynb)\n",
    "10. [Data Visualization with Bokeh](10_visualization_bokeh/bokeh.ipynb)\n",
    "11. [Data Analysis Project](11_data_project/data-project.ipynb)\n",
    "12. [Command Line Interfaces and Python Installation](12_python_setup/setup_python.ipynb)\n",
    "13. [Python Modules and Import Statments](13_modules/modules.ipynb)\n",
    "14. [Working with Text, Part I](14_text_1/text_1.ipynb)"
   ]
  },
  {
   "cell_type": "markdown",
   "metadata": {
    "tiedown.cell_index": "cid3"
   },
   "source": [
    "<a name=\"cid3\"></a>\n",
    "## Index\n",
    "[Term Index](term-index.ipynb)"
   ]
  },
  {
   "cell_type": "markdown",
   "metadata": {
    "tiedown.cell_index": "cid4"
   },
   "source": [
    "<a name=\"cid4\"></a>\n",
    "## About This Course\n",
    "This course assumes no prior programming knowledge. Students who complete this course will be able to:\n",
    "* Analyze data and create interactive visualizations.\n",
    "* Connect to databases and other data sources.\n",
    "* Create interactive computer programs.\n",
    "* Create web applications.\n",
    "* Use common programming tools like Git, Github, and terminals.\n",
    "\n",
    "This course focuses primarily on Python, but Structured Query Language (SQL), Javascript, Hypertext Markup Language (HTML), and Cascading Stylesheets (CSS) are also covered."
   ]
  },
  {
   "cell_type": "markdown",
   "metadata": {
    "tiedown.cell_index": "cid5"
   },
   "source": [
    "<a name=\"cid5\"></a>\n",
    "## What You Need to Get Started\n",
    "1. **Access to a web browser.** Most of the lessons can be completed right here in Google Colab. You don't need to install any software and you can work from different computers.\n",
    "2. **A Google Gmail account.** You need a Gmail account to be able to save your work to your Google Drive, and to share your code and get feedback.\n",
    "\n",
    "## What You Will Need Later (for the Advanced Assignments)\n",
    "1. **A Windows, Mac, or Linux Computer.** Eventually you will need to run Python and other software on a local computer. All the necessary software can be downloaded for free.\n",
    "3. **A Github Account.** Github is a website that allows people to share code with each other and collaborate on programming projects. We'll use it for a few projects. Github accounts are free."
   ]
  }
 ],
 "metadata": {
  "kernelspec": {
   "display_name": "Python 3 (ipykernel)",
   "language": "python",
   "name": "python3"
  },
  "language_info": {
   "codemirror_mode": {
    "name": "ipython",
    "version": 3
   },
   "file_extension": ".py",
   "mimetype": "text/x-python",
   "name": "python",
   "nbconvert_exporter": "python",
   "pygments_lexer": "ipython3",
   "version": "3.9.7"
  }
 },
 "nbformat": 4,
 "nbformat_minor": 4
}
