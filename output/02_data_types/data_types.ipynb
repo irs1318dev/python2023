{
 "cells": [
  {
   "cell_type": "markdown",
   "id": "1783cff3-7acc-4f5a-b85b-a0f26b1c5b0e",
   "metadata": {
    "tiedown.cell_index": "cid1"
   },
   "source": [
    "<a name=\"cid1\"></a>\n",
    "Prev: [Introduction to Python](../01_intro_python/intro_python.ipynb) | [Table of Contents](../toc.ipynb) | Next: [Conditional Statements](../03_conditional_statements/s03_conditional_statements.ipynb)"
   ]
  },
  {
   "cell_type": "markdown",
   "id": "a3c25b03",
   "metadata": {
    "tiedown.cell_index": "cid2"
   },
   "source": [
    "<a name=\"cid2\"></a>\n",
    "# Data Types\n",
    "\n",
    "This lesson starts with some advice on learning to program and then focuses on *data types*. Data types are an important concept in programming (not just in Python)."
   ]
  },
  {
   "cell_type": "markdown",
   "id": "052b304e",
   "metadata": {
    "tiedown.cell_index": "cid3"
   },
   "source": [
    "<a name=\"cid3\"></a>\n",
    "## I. Some Advice\n",
    "Before we dive into data types, the mentor would like to give you some advice on learning to program.\n",
    "\n",
    "Some concepts can be best explained by flipping the logic. What if you didn't care about learning to do useful stuff with Python? Then here is the mentor's top ten list on ensuring this course is a waste of your time.\n",
    "\n",
    "1. Don't establish a routine for learning Python. Make sure at least two weeks elapse between sessions, so you can forget all of the old material before attempting anything new.\n",
    "2. Assume comprehension is overrated - go ahead and speed-read the explanations and documentation.\n",
    "3. If the code works, don't ask yourself why it worked this time and didn't work last time. Just move on.\n",
    "4. Use copy and paste as much as you can. Don't practice the details of syntax by typing out code by hand.\n",
    "5. Minimize mental effort. Immediately look up the answer to an exercise if the solution is not obvious.\n",
    "6. Avoid reading official documentation like the plague.\n",
    "7. Don't ever look at anyone else's code to see how they approached a problem.\n",
    "8. Don't talk about concepts or exercises with other students or mentors. Assume you are on your own if you get stuck.\n",
    "9. Don't try anything that's not mentioned in this course. Assume your computer will burst into flames if you do.\n",
    "10. Don't be curious and never ask why."
   ]
  },
  {
   "cell_type": "markdown",
   "id": "aee9cb4e",
   "metadata": {
    "tiedown.cell_index": "cid4"
   },
   "source": [
    "<a name=\"cid4\"></a>\n",
    "## II. Some Prework\n",
    "We need to review a few concepts before we dive into data types.\n",
    "### A. Literals\n",
    "We used a lot of literals in lesson 1. A literal is a number or string that appears in code. For example:\n",
    "```python\n",
    "# A couple literals\n",
    "3                  # This is an integer literal\n",
    "\"Hey there!\"        # This is a string literal.\n",
    "print(my_variable)  # my_variable is not a literal (it's a variable).\n",
    "```\n",
    "### B. Function Arguments and Return Values\n",
    "Remember how in lesson1 we used `print()` to make Python display things? Or how we used `round()` to round numbers to an integer? How about `len()` for finding out how many characters are in a string? `print()`, `round()`, and `len()`, are functions. We pass data to the function by placing literals or variables inside the parentheses that follow the function's name. The values that we pass to functions are called ***arguments***. \n",
    "\n",
    "```python\n",
    "# An example function that takes two arguments\n",
    "my_function(\"argument1\", \"argument2\")\n",
    "```\n",
    "\n",
    "In addition to sending data to functions as arguments, we can also get data *from* functions. Check out the example below."
   ]
  },
  {
   "cell_type": "code",
   "execution_count": null,
   "id": "5b4ca349",
   "metadata": {},
   "outputs": [],
   "source": [
    "# Returning a value from a function\n",
    "title = \"Farenheit 451\"\n",
    "num_chars = len(title)\n",
    "num_chars"
   ]
  },
  {
   "cell_type": "markdown",
   "id": "ba9b65df",
   "metadata": {
    "tiedown.cell_index": "cid5"
   },
   "source": [
    "<a name=\"cid5\"></a>\n",
    "The `len()` function gave us a value, which we assigned to a variable. In programming we generally say that a function *returns* a value. The value that is returned is often called the *return value*. Not all functions have  return values."
   ]
  },
  {
   "cell_type": "markdown",
   "id": "5d10b554",
   "metadata": {
    "tiedown.cell_index": "cid6"
   },
   "source": [
    "<a name=\"cid6\"></a>\n",
    "## III. Basic Data Types and the `type()` Function\n",
    "There is one more thing we need to do before we can start exploring data types. We need to add a new function to our repertoire: `type()`."
   ]
  },
  {
   "cell_type": "code",
   "execution_count": null,
   "id": "74bc5489",
   "metadata": {},
   "outputs": [],
   "source": [
    "# What happens if we pass an interger to type()?\n",
    "type(5)"
   ]
  },
  {
   "cell_type": "code",
   "execution_count": null,
   "id": "e41f26c0",
   "metadata": {},
   "outputs": [],
   "source": [
    "# What if we pass a different integer?\n",
    "type(-247)"
   ]
  },
  {
   "cell_type": "markdown",
   "id": "36ad7fe3",
   "metadata": {
    "tiedown.cell_index": "cid7"
   },
   "source": [
    "<a name=\"cid7\"></a>\n",
    "### A. Integers\n",
    "The `type()`function determines the data type of whatever value is placed in the parenthesis. For integers like 5 or -247, `type()` tells us that the value's data type is *int*, which is short for integer. Python integers can be positive or negative, and one of the great things about Python is that integers can be arbitrarily large. Their size is limited only by the amount of memory in your computer. I'll prove it. Run the next cell."
   ]
  },
  {
   "cell_type": "code",
   "execution_count": null,
   "id": "fec32290",
   "metadata": {},
   "outputs": [],
   "source": [
    "365**365"
   ]
  },
  {
   "cell_type": "markdown",
   "id": "ebe063c2",
   "metadata": {
    "tiedown.cell_index": "cid8"
   },
   "source": [
    "<a name=\"cid8\"></a>\n",
    "Ha! Try that in *Excel*! Unless the answer to the problem you are trying to solve is *#NUM!*, you will be disappointed.\n",
    "\n",
    "### B. Floats\n",
    "What happens if we pass a real number, with digits to the right of the decimal point, to `type()`?"
   ]
  },
  {
   "cell_type": "code",
   "execution_count": null,
   "id": "f8ff865c",
   "metadata": {},
   "outputs": [],
   "source": [
    "# How about a number with digits to the right of the decimal point?\n",
    "type(6.0221409)"
   ]
  },
  {
   "cell_type": "markdown",
   "id": "11e4db53",
   "metadata": {
    "tiedown.cell_index": "cid9"
   },
   "source": [
    "<a name=\"cid9\"></a>\n",
    "The data type *float* refers to *floating point arithmetic*, which is the mechanism computers use to store non-integer numbers."
   ]
  },
  {
   "cell_type": "code",
   "execution_count": null,
   "id": "f4dbc00c",
   "metadata": {},
   "outputs": [],
   "source": [
    "# What data type is this?\n",
    "type(5.0)"
   ]
  },
  {
   "cell_type": "markdown",
   "id": "0da32315",
   "metadata": {
    "tiedown.cell_index": "cid10"
   },
   "source": [
    "<a name=\"cid10\"></a>\n",
    "Python assumes that the `5.0` should be a float, even though it's equivalent to an integer from a mathematical perspective.\n",
    "\n",
    "Floats can be written in scientific notation>"
   ]
  },
  {
   "cell_type": "code",
   "execution_count": null,
   "id": "998b0b26",
   "metadata": {},
   "outputs": [],
   "source": [
    "G = 6.67408e-11\n",
    "h = 6.62607004E-34\n",
    "print(\"Gravity constant:\", G)\n",
    "print(\"Planck's constant:\", h)"
   ]
  },
  {
   "cell_type": "markdown",
   "id": "f44a9c57",
   "metadata": {
    "tiedown.cell_index": "cid11"
   },
   "source": [
    "<a name=\"cid11\"></a>\n",
    "What happens if we mix data types in an equation?"
   ]
  },
  {
   "cell_type": "code",
   "execution_count": null,
   "id": "8fb97ef7",
   "metadata": {},
   "outputs": [],
   "source": [
    "# Add integer to a float\n",
    "int_5 = 5\n",
    "float_5 = 5.0\n",
    "\n",
    "print(int_5 + float_5)\n",
    "type(int_5 + float_5)"
   ]
  },
  {
   "cell_type": "markdown",
   "id": "9f772f81",
   "metadata": {
    "tiedown.cell_index": "cid12"
   },
   "source": [
    "<a name=\"cid12\"></a>\n",
    "Python has no trouble adding a float to an integer, but the result is a float. It makes sense if you think about it. The float could have a fractional part. If we added such a float to an integer and then converted the result to an integer, we would lose the fractional part of the sum. In general, Python will choose the data type that has greater precision. A float has more precision than an integer because it includes fractional values."
   ]
  },
  {
   "cell_type": "markdown",
   "id": "38fab8a8",
   "metadata": {
    "tiedown.cell_index": "cid13"
   },
   "source": [
    "<a name=\"cid13\"></a>\n",
    "### C. Strings\n",
    "By now, you can likely guess what will happen if we pass a string to `type()`."
   ]
  },
  {
   "cell_type": "code",
   "execution_count": null,
   "id": "cab172de",
   "metadata": {},
   "outputs": [],
   "source": [
    "# Sending text to type()\n",
    "type('Water Game')"
   ]
  },
  {
   "cell_type": "markdown",
   "id": "63d456d0",
   "metadata": {
    "tiedown.cell_index": "cid14"
   },
   "source": [
    "<a name=\"cid14\"></a>\n",
    "No big surprise - the data type for strings is *str*.\n",
    "\n",
    "What happens if we try to use a string in an equation?"
   ]
  },
  {
   "cell_type": "code",
   "execution_count": null,
   "id": "505d2d7a",
   "metadata": {},
   "outputs": [],
   "source": [
    "# Add integer to a string\n",
    "int_6 = 6\n",
    "str_6 = '6'\n",
    "\n",
    "print(int_6 + str_6)\n",
    "type(int_y + str_6)"
   ]
  },
  {
   "cell_type": "markdown",
   "id": "35544fc0",
   "metadata": {
    "tiedown.cell_index": "cid15"
   },
   "source": [
    "<a name=\"cid15\"></a>\n",
    "Whoa. Python didn't like that at all. The `+` operation doesn't work with an integer and a string. There is a good reason. In this example our string represents a number. But a string could also be a word. What does `6 + robot` even mean?\n",
    "\n",
    "It's for the best if Python just throws a type error. If you are trying to add 6 and '6', you are probably doing something you shouldn't be doing."
   ]
  },
  {
   "cell_type": "markdown",
   "id": "2fa88b0a",
   "metadata": {
    "tiedown.cell_index": "cid16"
   },
   "source": [
    "<a name=\"cid16\"></a>\n",
    "## IV. Type Conversions \n",
    "Each of these data types has its own built in function.\n",
    "* `int()`\n",
    "* `float()`\n",
    "* `str()`\n",
    "\n",
    "We will start with `int()`."
   ]
  },
  {
   "cell_type": "code",
   "execution_count": null,
   "id": "0a6864a6",
   "metadata": {},
   "outputs": [],
   "source": [
    "# Converting a float to an integer\n",
    "floatvar = 7.5\n",
    "print(floatvar, ':', type(floatvar))\n",
    "newvar = int(floatvar)\n",
    "print(newvar, ':', type(newvar))"
   ]
  },
  {
   "cell_type": "markdown",
   "id": "b195334f",
   "metadata": {
    "tiedown.cell_index": "cid17"
   },
   "source": [
    "<a name=\"cid17\"></a>\n",
    "The `int()` function converts it's argument to an integer. Remember when we caused an error in the last session by trying to add an integer and a string? The `int()` function will let us do that, but with some limitations."
   ]
  },
  {
   "cell_type": "code",
   "execution_count": null,
   "id": "13e6bfc9",
   "metadata": {},
   "outputs": [],
   "source": [
    "# Adding an integer and a string.\n",
    "13 + int('18')"
   ]
  },
  {
   "cell_type": "markdown",
   "id": "3a6704f2",
   "metadata": {
    "tiedown.cell_index": "cid18"
   },
   "source": [
    "<a name=\"cid18\"></a>\n",
    "If we pass the string `'18'` to `int()` then the addition proceeds just fine. The caveat is the string has to represent an integer, otherwise `int()` will throw an error."
   ]
  },
  {
   "cell_type": "code",
   "execution_count": null,
   "id": "1200f2e7",
   "metadata": {},
   "outputs": [],
   "source": [
    "# Attempting to convert a string with non-digit characters causes a Value Error\n",
    "int('18b')"
   ]
  },
  {
   "cell_type": "code",
   "execution_count": null,
   "id": "8fefbb62",
   "metadata": {},
   "outputs": [],
   "source": [
    "# Attempting to convert a number that is not an integer causes a Value Error\n",
    "int('3.14')"
   ]
  },
  {
   "cell_type": "code",
   "execution_count": null,
   "id": "929f53fd",
   "metadata": {},
   "outputs": [],
   "source": [
    "# Use float to convert non-integer numbers\n",
    "5.5 + float('7.5')"
   ]
  },
  {
   "cell_type": "markdown",
   "id": "43d1628c",
   "metadata": {
    "tiedown.cell_index": "cid19"
   },
   "source": [
    "<a name=\"cid19\"></a>\n",
    "Read the following line of code before you run it. What will it do? Then run the code to find out."
   ]
  },
  {
   "cell_type": "code",
   "execution_count": null,
   "id": "9649fc00",
   "metadata": {},
   "outputs": [],
   "source": [
    "# Read this and predict the result before you run it.\n",
    "str(13) + \"18\""
   ]
  },
  {
   "cell_type": "markdown",
   "id": "52ab8814",
   "metadata": {
    "tiedown.cell_index": "cid20"
   },
   "source": [
    "<a name=\"cid20\"></a>\n",
    "1. The `str()` function converted the integer `13` to a string.\n",
    "2. The `+` operator works just fine on two strings. But instead of performing mathematical addition, it performs *string concatenation*, which is a fancy way of saying it joins the two strings together."
   ]
  },
  {
   "cell_type": "markdown",
   "id": "f16cf413",
   "metadata": {
    "tiedown.cell_index": "cid21"
   },
   "source": [
    "<a name=\"cid21\"></a>\n",
    "### A. Exercises\n",
    "\n",
    "#### 1. Teleop Power Cell Points\n",
    "Check out the [quarterfinals match results](https://www.thebluealliance.com/match/2020wasno_qf2m1) from the 2020 Pacific Northwest district competition at Glacier Peak H.S. Snohomish, WA. In this game, which is called *Infinite Recharge*, teams score points by shooting power cells (i.e., yellow balls) into either the lower port, the outer port, or the small inner port. [Watch the match video](https://youtu.be/J3XYsLmXf0I) to see for yourself. Watch [this video for an overview of game rules.](https://youtu.be/gmiYWTmFRVE)\n",
    "\n",
    "The game has two phases. During the first 15 seconds the robots are autonomous, meaning they are under computer control and humans are not allowed to touch the robot controls. The remainder of the match is the teleop period -- humans are allowed to control the robots during this period.\n",
    "\n",
    "Inspect the [match results table.](https://www.thebluealliance.com/match/2020wasno_qf2m1) Figure out how many power cells were scored in the  lower, inner, and outer goals during the teleop phase for both the red and blue alliances. To find this, look for the *Teleop Power Cells* row in the table. Lower-port goals are marked by a rectangle, outer-port goals are marked by a hexagon, and inner-port goals are marked by a circle. Calculate the total number of teleop power cell points for each alliance using data you found in the match results table and the three variables below. You will have to convert the data types to complete the calculation. Save the results for each alliance to a variable."
   ]
  },
  {
   "cell_type": "code",
   "execution_count": null,
   "id": "38ead895",
   "metadata": {},
   "outputs": [],
   "source": [
    "# Points for scoring power cells in teleop phase.\n",
    "inner_port_points_tele = \"3\"\n",
    "outer_port_points_tele = \"2\"\n",
    "lower_port_points_tele = \"1\"\n",
    "\n",
    "# Exercise Answer:"
   ]
  },
  {
   "cell_type": "markdown",
   "id": "1ad6ff45",
   "metadata": {
    "tiedown.cell_index": "cid22"
   },
   "source": [
    "<a name=\"cid22\"></a>\n",
    "#### 2. Autonomous Power Cell Points\n",
    "The rules for power cell points in the autonomous phase are the same as in teleop, except that the points are doubled. From the match results table, determine how many lower-port, outer-port, and inner-port goals were scored by both the red and blue alliance during the autonomous phase. Save the results for each alliance to a variable."
   ]
  },
  {
   "cell_type": "code",
   "execution_count": null,
   "id": "3e873f9e",
   "metadata": {},
   "outputs": [],
   "source": [
    "# Exercise Answer:\n",
    "\n"
   ]
  },
  {
   "cell_type": "markdown",
   "id": "eeea6b27",
   "metadata": {
    "tiedown.cell_index": "cid23"
   },
   "source": [
    "<a name=\"cid23\"></a>\n",
    "#### 3. Displaying Results\n",
    "Using the variables you created in the previous two exercises, concatenate strings and use print statements to generate the following output in Python, where u, v, x, and y are the point values calculated previously. There should be three `print()` statements, one for each row of output. Concatenate strings to generate each row. You will need to convert the integer point values to strings.\n",
    "\n",
    "```bash\n",
    "                Autonomous     Teleop\n",
    "Blue Alliance:  u              v\n",
    "Red Alliance:   x              y\n",
    "```"
   ]
  },
  {
   "cell_type": "code",
   "execution_count": null,
   "id": "ec96853c",
   "metadata": {},
   "outputs": [],
   "source": [
    "# Exercise Answer:\n",
    "\n"
   ]
  },
  {
   "cell_type": "markdown",
   "id": "18a0b2c8",
   "metadata": {
    "tiedown.cell_index": "cid24"
   },
   "source": [
    "<a name=\"cid24\"></a>\n",
    "## V. Objects and Methods\n",
    "Consider the following code cell."
   ]
  },
  {
   "cell_type": "code",
   "execution_count": null,
   "id": "f47f5b66",
   "metadata": {},
   "outputs": [],
   "source": [
    "# Method Example\n",
    "str1 = 'this text is upper case.'\n",
    "str1.upper()"
   ]
  },
  {
   "cell_type": "markdown",
   "id": "e4fadc80",
   "metadata": {
    "tiedown.cell_index": "cid25"
   },
   "source": [
    "<a name=\"cid25\"></a>\n",
    "We appear to have converted the text in the `str1` variable to upper case. We used something that looks like a function `upper()` to do the conversion, but we used it differently than we use other functions. For example, if we want to know the length of a string, we just type the function name `len`, add some parentheses to it, and put the string variable inside the parenthesis, like so:"
   ]
  },
  {
   "cell_type": "code",
   "execution_count": null,
   "id": "e8187c39",
   "metadata": {},
   "outputs": [],
   "source": [
    "# Get the length of a sting\n",
    "len(str1)"
   ]
  },
  {
   "cell_type": "markdown",
   "id": "c39295b0",
   "metadata": {
    "tiedown.cell_index": "cid26"
   },
   "source": [
    "<a name=\"cid26\"></a>\n",
    "So why don't we convert `str1` to upper case like this?\n",
    "```Python\n",
    "upper(str1)\n",
    "```\n",
    "\n",
    "First of all, trying to convert an integer or float to upper case makes no sense. Converting a variable to upper case only makes sense if the variable is a string. The designers of Python wanted `upper()` to only apply to strings, so they designed `upper()` as a **method**, not a function. Methods are different because they must be called on objects. In the case of the `upper()` method, we must have a string object before we can call it.\n",
    "\n",
    " \n",
    "\n",
    "We will now take a short break from discussing methods so we can discuss objects. What's an object? Everything! Integers are objects. Strings are objects. Everything that can be assigned to a variable is an object. The concept of an object is different than the concept of a data type. Consider the following code cell:"
   ]
  },
  {
   "cell_type": "code",
   "execution_count": null,
   "id": "7841162a",
   "metadata": {},
   "outputs": [],
   "source": [
    "# Objects have unique IDs\n",
    "var1 = 1318\n",
    "var2 = 1318\n",
    "print(type(var1))\n",
    "print(type(var2))\n",
    "print(id(var1))\n",
    "print(id(var2))"
   ]
  },
  {
   "cell_type": "markdown",
   "id": "50dd30ce",
   "metadata": {
    "tiedown.cell_index": "cid27"
   },
   "source": [
    "<a name=\"cid27\"></a>\n",
    "Every object in Python is assigned a unique identification (ID) number. As an analyst, you will rarely, if ever, need to work with object ID numbers. Nevertheless, Python provides a built-in `id()` function that will return the ID number. Now consider the code above. We created two variables, each holding the same integer value. But we got two different ID values when we passed them to `id()`. This means Python created two different copies of *1318* in memory. \n",
    "* `var1` and `var2` are the same data type: int\n",
    "* `var1` and `var2` have the same value: 1318\n",
    "* But `var1` and `var2` are different objects, as indicated by the two different ID values.\n",
    "\n",
    "Now back to methods. They key point is that we can't call a method without an object. We can call a function like `print()` all day long without an object (calling `print()` without parameters displays a blank line). But methods are different.\n",
    "\n",
    "When we called `upper()`, we called it on a string object. In terms of syntax, we typed the string variable name, `str1`, typed a period, and then typed `upper()`. The `upper()` method converted it's object, `str1`, to upper case.\n",
    "\n",
    "Methods can have return values just like functions do. The return value of the `.upper()` method is a string object that has been converted to upper case.\n",
    "\n",
    "We can call methods on strings even if we haven't assigned them to a variable. See the next cell."
   ]
  },
  {
   "cell_type": "code",
   "execution_count": null,
   "id": "26f20479",
   "metadata": {},
   "outputs": [],
   "source": [
    "# Calling methods on literal values\n",
    "\"robot\".upper()"
   ]
  },
  {
   "cell_type": "markdown",
   "id": "84e9535e",
   "metadata": {
    "tiedown.cell_index": "cid28"
   },
   "source": [
    "<a name=\"cid28\"></a>\n",
    "See below for more methods that can be called on strings. [The full list of string methods is in the Python documentation.](https://docs.python.org/3/library/stdtypes.html#text-sequence-type-str)\n",
    "* `lower()`\n",
    "* `isdigit()`\n",
    "* `isupper()`\n",
    "* `as_integer_ratio()`"
   ]
  },
  {
   "cell_type": "code",
   "execution_count": null,
   "id": "ab692798",
   "metadata": {},
   "outputs": [],
   "source": [
    "# Convert to lower case\n",
    "\"DON'T SHOUT\".lower()"
   ]
  },
  {
   "cell_type": "code",
   "execution_count": null,
   "id": "6ec0ae97",
   "metadata": {},
   "outputs": [],
   "source": [
    "# Check that string only contains digits\n",
    "\"2003\".isdigit()"
   ]
  },
  {
   "cell_type": "code",
   "execution_count": null,
   "id": "389e0c1d",
   "metadata": {},
   "outputs": [],
   "source": [
    "# Check that string is upper case\n",
    "str2 = \"DOH!\"\n",
    "str2.isupper()"
   ]
  },
  {
   "cell_type": "code",
   "execution_count": null,
   "id": "25f74870",
   "metadata": {},
   "outputs": [],
   "source": [
    "five = 5.5\n",
    "five.as_integer_ratio()"
   ]
  },
  {
   "cell_type": "markdown",
   "id": "07c302d8",
   "metadata": {
    "tiedown.cell_index": "cid29"
   },
   "source": [
    "<a name=\"cid29\"></a>\n",
    "### A. Method Exercises\n",
    "\n",
    "#### 1. Binary Storage\n",
    "Internally, computers store numbers as binary values. One is 0001, two is 0010, three is 0011, four is 0100, five is 0101, and so on ([note 1](data_types.ipynb#cid78).Each digit in binary requires one bit of storage. A bit is the lowest level of computer memory -- it can represent a value of 0 or 1. But that's it. With two bits, we can represent the integers 0 through 3. A fourth bit is required if we want to represent the numbers 4 through 7.\n",
    "\n",
    "The integer data type has a method called [`bit_length()`](https://docs.python.org/3/library/stdtypes.html#numeric-types-int-float-complex) (scroll down a bit to find the documentation), which returns the number of bits required to represent a number. Use the method to determine how many bits are required to store the number 1318. (Forget about negative numbers for now.) Hint: first assign the number 1318 to a variable."
   ]
  },
  {
   "cell_type": "code",
   "execution_count": null,
   "id": "b81f6974",
   "metadata": {},
   "outputs": [],
   "source": [
    "# Exercise Answer:\n"
   ]
  },
  {
   "cell_type": "markdown",
   "id": "7e398684",
   "metadata": {
    "tiedown.cell_index": "cid30"
   },
   "source": [
    "<a name=\"cid30\"></a>\n",
    "#### 2. Eight Bits\n",
    "Use the `bit_length()` method to determine the largest number that can be represented with eight bits. Again, assume that we only have to represent positive integers. You will have to do some guessing, or you could use the formula:\n",
    "$$\\textrm{bits} = \\lfloor\\log_2{(\\textrm{integer})}\\rfloor + 1$$\n",
    "\n",
    "The $\\lfloor \\: \\rfloor$ notation stands for *floor* and means to round down to the nearest integer. Don't worry if you are not familiar with logarithms. Guessing should work fine."
   ]
  },
  {
   "cell_type": "code",
   "execution_count": null,
   "id": "073f36cf",
   "metadata": {},
   "outputs": [],
   "source": [
    "# Exercise Answer:\n",
    "2**16 - 1"
   ]
  },
  {
   "cell_type": "markdown",
   "id": "48f2c732",
   "metadata": {
    "tiedown.cell_index": "cid31"
   },
   "source": [
    "<a name=\"cid31\"></a>\n",
    "#### 3. Title Case\n",
    "Use the `.title()` method of the *str* data type to convert the following book titles to title case (first letter of each word capitalized). Print each title in title case using the `print()` function."
   ]
  },
  {
   "cell_type": "code",
   "execution_count": null,
   "id": "57904ce9",
   "metadata": {},
   "outputs": [],
   "source": [
    "# Exercise Data:\n",
    "title1 = \"the sirens of titen\"\n",
    "title2 = \"THE HITCHHIKERS GUIDE TO THE GALAXY\"\n",
    "title3 = \"tHE lEFTHAND oF dArKnEsS\"\n",
    "\n",
    "# Exercise Answer:\n",
    "\n"
   ]
  },
  {
   "cell_type": "markdown",
   "id": "c8478be8",
   "metadata": {
    "tiedown.cell_index": "cid32"
   },
   "source": [
    "<a name=\"cid32\"></a>\n",
    "## VI. Lists - Our First Composite Data Type \n",
    "So far we've experimented with three data types: integers, floating point values, and strings. Integers and floats are *scalar* data types. Objects of these types consist of only a single number that cannot be broken down into smaller values (which is why they are sometimes called *atomic*). Strings, which consist of a sequence of characters, are not exactly scalar. We saw in the last session how we can use slicing to break strings up into smaller sequences of characters. Python strings are usually described as a sequence data type.\n",
    "\n",
    "Doing calculations with individual strings and numbers is fine, but we need composite data types for more powerful calculations and analysis. A *composite data type* is a type whose objects can contain other objects. The first composite data type we'll study is the Python list."
   ]
  },
  {
   "cell_type": "code",
   "execution_count": null,
   "id": "9e5f28f4",
   "metadata": {},
   "outputs": [],
   "source": [
    "# A Python list\n",
    "list1 = [1, 2, 3, 4, 5]\n",
    "print(\"Length of list1:\", len(list1))\n",
    "print(\"First element of list1:\", list1[0])"
   ]
  },
  {
   "cell_type": "markdown",
   "id": "63d4a718",
   "metadata": {
    "tiedown.cell_index": "cid33"
   },
   "source": [
    "<a name=\"cid33\"></a>\n",
    "In the code block above, we created a list and assigned it to the `list1` variable. The list contains five integers. We can use the `len()` function to get the length of the list, and we can use the same indexing and slicing techniques that we used on strings to extract individual elements or subsets of the list. If it's been a while since you've worked through session 01, you might want to go back and review it."
   ]
  },
  {
   "cell_type": "code",
   "execution_count": null,
   "id": "efea2399",
   "metadata": {},
   "outputs": [],
   "source": [
    "# List indexing and slicing techniques\n",
    "print(\"Last element of list1:\", list1[-1])\n",
    "print(\"Middle three elements of list1:\", list1[1:4])\n",
    "print(\"List1 in reverse order:\", list1[::-1])"
   ]
  },
  {
   "cell_type": "markdown",
   "id": "222f0b4c",
   "metadata": {
    "tiedown.cell_index": "cid34"
   },
   "source": [
    "<a name=\"cid34\"></a>\n",
    "What is the data type of list1?"
   ]
  },
  {
   "cell_type": "code",
   "execution_count": null,
   "id": "335ebff4",
   "metadata": {},
   "outputs": [],
   "source": [
    "# Data Type of list1\n",
    "print(\"list1 data type:\", type(list1))\n",
    "# Data type of an element of list1\n",
    "print(\"Data type of list1 element:\", type(list1[0]))"
   ]
  },
  {
   "cell_type": "markdown",
   "id": "ea4cedac",
   "metadata": {
    "tiedown.cell_index": "cid35"
   },
   "source": [
    "<a name=\"cid35\"></a>\n",
    "By using the `type()` function, we can see that the individual elements within the list retain their original data type, but the list object has a data type of list.\n",
    "\n",
    "By the way, did you notice that we're using the `print()` function a bit differently? We're passing two arguments instead of one. The `print()` statement displays both arguments on the same line of output, separated by a space. We can pass as many arguments to `print()` as we want and it will display them all.\n",
    "\n",
    "In our first example, every element in the list had the same data type. But that's not a requirement. A single list can contain many different data types."
   ]
  },
  {
   "cell_type": "code",
   "execution_count": null,
   "id": "7a44db02",
   "metadata": {},
   "outputs": [],
   "source": [
    "list2 = [1, \"2\", 3.0, \"four\", [5, \"6\"]]\n",
    "list2"
   ]
  },
  {
   "cell_type": "markdown",
   "id": "775d818c",
   "metadata": {
    "tiedown.cell_index": "cid36"
   },
   "source": [
    "<a name=\"cid36\"></a>\n",
    "The `list2` object contains an integer, a couple strings, a float, and *another list*. Yes, lists can contain lists. A list contained within another list is called a nested list. It's not hard to access elements of the nested list:"
   ]
  },
  {
   "cell_type": "code",
   "execution_count": null,
   "id": "1ceb8045",
   "metadata": {},
   "outputs": [],
   "source": [
    "# First element of nested list\n",
    "list2[4][0]"
   ]
  },
  {
   "cell_type": "markdown",
   "id": "787ef18d",
   "metadata": {
    "tiedown.cell_index": "cid37"
   },
   "source": [
    "<a name=\"cid37\"></a>\n",
    "The `[-1]` after `list2` extracts the final element of `list2`, which is itself a list. The `[0]` extracts the first element of this nested list."
   ]
  },
  {
   "cell_type": "code",
   "execution_count": null,
   "id": "b6802a01",
   "metadata": {},
   "outputs": [],
   "source": [
    "list1.append(6)\n",
    "list1"
   ]
  },
  {
   "cell_type": "markdown",
   "id": "6fb3f60e",
   "metadata": {
    "tiedown.cell_index": "cid38"
   },
   "source": [
    "<a name=\"cid38\"></a>\n",
    "What happens if we append a list?"
   ]
  },
  {
   "cell_type": "code",
   "execution_count": null,
   "id": "1710b65a",
   "metadata": {},
   "outputs": [],
   "source": [
    "# Passing a list to the append method\n",
    "list3 = [\"I\", \"ultimately\", \"got\", \"into\", \"robotics\", \"because\", \"for\", \"me\", \",\"]\n",
    "list4 = [\"it\", \"was\", \"the\", \"best\", \"way\", \"to\", \"study\", \"intelligence\", \".\"]\n",
    "list3.append(list4)\n",
    "list3"
   ]
  },
  {
   "cell_type": "markdown",
   "id": "0f9eb9a9",
   "metadata": {
    "tiedown.cell_index": "cid39"
   },
   "source": [
    "<a name=\"cid39\"></a>\n",
    "The `append()` method nested `list3` inside `list4`. That may or may not have been what we wanted. If we want to create a longer list with no nesting, we can just use the `+` operator."
   ]
  },
  {
   "cell_type": "code",
   "execution_count": null,
   "id": "936f20af",
   "metadata": {},
   "outputs": [],
   "source": [
    "# Joining two lists with `+`\n",
    "list3 = [\"I\", \"ultimately\", \"got\", \"into\", \"robotics\", \"because\", \"for\", \"me\", \",\"]\n",
    "list4 = [\"it\", \"was\", \"the\", \"best\", \"way\", \"to\", \"study\", \"intelligence\", \".\"]\n",
    "list3 + list4"
   ]
  },
  {
   "cell_type": "markdown",
   "id": "6d7f0890",
   "metadata": {
    "tiedown.cell_index": "cid40"
   },
   "source": [
    "<a name=\"cid40\"></a>\n",
    "By the way, the quote is by [Sebastian Thrun](https://en.wikipedia.org/wiki/Sebastian_Thrun), who is one of the founders of Google X and led Google's self-driving car project."
   ]
  },
  {
   "cell_type": "markdown",
   "id": "af4048ac",
   "metadata": {
    "tiedown.cell_index": "cid41"
   },
   "source": [
    "<a name=\"cid41\"></a>\n",
    "Another very useful method for lists is the `.pop()` method."
   ]
  },
  {
   "cell_type": "code",
   "execution_count": null,
   "id": "b0dffaee",
   "metadata": {},
   "outputs": [],
   "source": [
    "# The .pop() method\n",
    "print(list4.pop())\n",
    "print(list4.pop())\n",
    "print(list4.pop(0))"
   ]
  },
  {
   "cell_type": "markdown",
   "id": "e89ef853",
   "metadata": {
    "tiedown.cell_index": "cid42"
   },
   "source": [
    "<a name=\"cid42\"></a>\n",
    "If called with no arguments, the `.pop()` method removed the last item from the list and returns it. Or we can pass an index value -- `.pop()` will remove and return the list element at that position."
   ]
  },
  {
   "cell_type": "markdown",
   "id": "6db47818",
   "metadata": {
    "tiedown.cell_index": "cid43"
   },
   "source": [
    "<a name=\"cid43\"></a>\n",
    "Finally, an element can also be removed (i.e., deleted) from a list with the `del` keyword."
   ]
  },
  {
   "cell_type": "code",
   "execution_count": null,
   "id": "f508ca7a",
   "metadata": {},
   "outputs": [],
   "source": [
    "del list1[0]\n",
    "list1"
   ]
  },
  {
   "cell_type": "markdown",
   "id": "318389ef",
   "metadata": {
    "tiedown.cell_index": "cid44"
   },
   "source": [
    "<a name=\"cid44\"></a>\n",
    "A keyword  is a term that has special meaning in a programming language. Keywords cannot be used as variable names. In addition to deleting items from a list, `del` can delete entire variables."
   ]
  },
  {
   "cell_type": "code",
   "execution_count": null,
   "id": "1b4e3314",
   "metadata": {},
   "outputs": [],
   "source": [
    "# Run this cell to delete the list1 variable.\n",
    "del list1"
   ]
  },
  {
   "cell_type": "code",
   "execution_count": null,
   "id": "e2b549ac",
   "metadata": {},
   "outputs": [],
   "source": [
    "# Running this cell after deleting list 1 should cause an error.\n",
    "list1"
   ]
  },
  {
   "cell_type": "markdown",
   "id": "d48a6a85",
   "metadata": {
    "tiedown.cell_index": "cid45"
   },
   "source": [
    "<a name=\"cid45\"></a>\n",
    "### A. List Exercises\n",
    "Here are some list exercises.\n",
    "\n",
    "Run the cell below to define the list `seasons`. Use `seasons` for the next two exercises."
   ]
  },
  {
   "cell_type": "code",
   "execution_count": null,
   "id": "7cebbadf",
   "metadata": {},
   "outputs": [],
   "source": [
    "# Game names for FRC seasons 2011 through 2020\n",
    "seasons = [\"Logo Motion\", \"Rebound Rumble\", \"Ultimate Ascent\", \"Aerial Assist\", \"Recycle Rush\",\n",
    "\"FIRST Stronghold\", \"FIRST Steamworks\", \"FIRST Power Up\", \"Destination: Deep Space\",\n",
    "\"Infinite Recharge\"]"
   ]
  },
  {
   "cell_type": "markdown",
   "id": "354d48e5",
   "metadata": {
    "tiedown.cell_index": "cid46"
   },
   "source": [
    "<a name=\"cid46\"></a>\n",
    "#### 1. List Indexing\n",
    "Use list indexing to display the four most recent seasons."
   ]
  },
  {
   "cell_type": "code",
   "execution_count": null,
   "id": "e6ad921f",
   "metadata": {},
   "outputs": [],
   "source": [
    "# Exercise Answer:\n"
   ]
  },
  {
   "cell_type": "markdown",
   "id": "f0a55775",
   "metadata": {
    "tiedown.cell_index": "cid47"
   },
   "source": [
    "<a name=\"cid47\"></a>\n",
    "#### 2. Skipping List Entries\n",
    "Use list indexing to display every other season, starting with \"Rebound Rumble\"."
   ]
  },
  {
   "cell_type": "code",
   "execution_count": null,
   "id": "8e23c346",
   "metadata": {},
   "outputs": [],
   "source": [
    "# Exercise Answer:\n"
   ]
  },
  {
   "cell_type": "markdown",
   "id": "6f001614",
   "metadata": {
    "tiedown.cell_index": "cid48"
   },
   "source": [
    "<a name=\"cid48\"></a>\n",
    "Run the cell below to define the nested list. Used `nested` for the next two exercises."
   ]
  },
  {
   "cell_type": "code",
   "execution_count": null,
   "id": "3b90b7df",
   "metadata": {},
   "outputs": [],
   "source": [
    "nested = [[1, 2, 3], [4, 5, 6], ['a', 'b', 'c']]"
   ]
  },
  {
   "cell_type": "markdown",
   "id": "45ed614d",
   "metadata": {
    "tiedown.cell_index": "cid49"
   },
   "source": [
    "<a name=\"cid49\"></a>\n",
    "#### 3. Multi-Dimensional Lists\n",
    "Use indexing to access the 1st element of the third list (the 'a')."
   ]
  },
  {
   "cell_type": "code",
   "execution_count": null,
   "id": "5c80bc7d",
   "metadata": {},
   "outputs": [],
   "source": [
    "# Exercise Answer:\n"
   ]
  },
  {
   "cell_type": "markdown",
   "id": "d6df1870",
   "metadata": {
    "tiedown.cell_index": "cid50"
   },
   "source": [
    "<a name=\"cid50\"></a>\n",
    "#### 4. List Length\n",
    "Use the `len()` function to determine the length of `nested`. What value is returned? Does it make sense? Why? (Write your answers to the questions as a comment.)"
   ]
  },
  {
   "cell_type": "code",
   "execution_count": null,
   "id": "fea699a0",
   "metadata": {},
   "outputs": [],
   "source": [
    "# Exercise Answer:"
   ]
  },
  {
   "cell_type": "markdown",
   "id": "32d96d15",
   "metadata": {
    "tiedown.cell_index": "cid51"
   },
   "source": [
    "<a name=\"cid51\"></a>\n",
    "#### 5. List Concatenation\n",
    "What happens if you add the two lists (`seasons` and `nested`) together?"
   ]
  },
  {
   "cell_type": "code",
   "execution_count": null,
   "id": "651e3bbb",
   "metadata": {},
   "outputs": [],
   "source": [
    "# Exercise Answer: What does seasons + nested return?"
   ]
  },
  {
   "cell_type": "markdown",
   "id": "cd9a4d0f",
   "metadata": {
    "tiedown.cell_index": "cid52"
   },
   "source": [
    "<a name=\"cid52\"></a>\n",
    "#### 6. Appending to a List\n",
    "Use the `.append()` method to add the next number in the series to the list."
   ]
  },
  {
   "cell_type": "code",
   "execution_count": null,
   "id": "5b15cb0e",
   "metadata": {},
   "outputs": [],
   "source": [
    "series = [1, 4, 27, 256]"
   ]
  },
  {
   "cell_type": "code",
   "execution_count": null,
   "id": "27f2a593",
   "metadata": {},
   "outputs": [],
   "source": [
    "# Exercise Answer: Use append() method in this cell to add an element to series.\n"
   ]
  },
  {
   "cell_type": "markdown",
   "id": "f9c6d784",
   "metadata": {
    "tiedown.cell_index": "cid53"
   },
   "source": [
    "<a name=\"cid53\"></a>\n",
    "#### 7. Popping from a List\n",
    "Use the `.pop()` method to extract the third element of the `seasons` list."
   ]
  },
  {
   "cell_type": "code",
   "execution_count": null,
   "id": "1501d2d8",
   "metadata": {},
   "outputs": [],
   "source": [
    "# Exercise Answer:"
   ]
  },
  {
   "cell_type": "markdown",
   "id": "36411ae2",
   "metadata": {
    "tiedown.cell_index": "cid54"
   },
   "source": [
    "<a name=\"cid54\"></a>\n",
    "## VII. The `input()` Function\n",
    "Now that we know a bit about data types, we're ready to learn about the input function. Run the next cell."
   ]
  },
  {
   "cell_type": "code",
   "execution_count": null,
   "id": "02d74c68",
   "metadata": {},
   "outputs": [],
   "source": [
    "# Run this cell to learn about the input function\n",
    "\n",
    "name = input(\"What is your name? \")\n",
    "print(\"Hello \", name, \". It's nice to meet you!\", sep=\"\")"
   ]
  },
  {
   "cell_type": "markdown",
   "id": "0fb896d8",
   "metadata": {
    "tiedown.cell_index": "cid55"
   },
   "source": [
    "<a name=\"cid55\"></a>\n",
    "Similar to the `print()` function, the `input()` function displays whatever text is passed to it on the screen. It also displays a prompt and allows the user to type characters. As soon as the user presses ENTER, whatever text the user typed will be saved to the variable on the left side of the assignment statement (the equals sign).\n",
    "\n",
    "Now look at the code in the next cell but don't run it yet. Will the code work? Why or why not? Check your answer by running the code."
   ]
  },
  {
   "cell_type": "code",
   "execution_count": null,
   "id": "ef7fcc2d",
   "metadata": {},
   "outputs": [],
   "source": [
    "# Will this work?\n",
    "num = input(\"Enter a number: \")\n",
    "print(\"The square of\", num, \"is\", num**2, \"!\")"
   ]
  },
  {
   "cell_type": "markdown",
   "id": "e954e1f7",
   "metadata": {
    "tiedown.cell_index": "cid56"
   },
   "source": [
    "<a name=\"cid56\"></a>\n",
    "The code didn't work because `input()` always returns a string and Python doesn't know how to square a string (I don't either). We can make this code better with the `int()` function."
   ]
  },
  {
   "cell_type": "code",
   "execution_count": null,
   "id": "d22332c7",
   "metadata": {},
   "outputs": [],
   "source": [
    "# This should work.\n",
    "num = input(\"Enter a number: \")\n",
    "num = int(num)\n",
    "print(\"The square of\", num, \"is\", num**2, \"!\")"
   ]
  },
  {
   "cell_type": "markdown",
   "id": "ae4268b2",
   "metadata": {
    "tiedown.cell_index": "cid57"
   },
   "source": [
    "<a name=\"cid57\"></a>\n",
    "Even this code will throw an error if the user enters text that is not an integer. We will learn how to check user input later on."
   ]
  },
  {
   "cell_type": "markdown",
   "id": "3bfc8db6",
   "metadata": {
    "tiedown.cell_index": "cid58"
   },
   "source": [
    "<a name=\"cid58\"></a>\n",
    "### A. Exercises with `input()`\n",
    "#### 1. Get String Input\n",
    "Use the `input()` function to ask the user for their name, and then display their name in reverse order."
   ]
  },
  {
   "cell_type": "code",
   "execution_count": null,
   "id": "3ddfb40e",
   "metadata": {},
   "outputs": [],
   "source": [
    "# Exercise Answer:\n"
   ]
  },
  {
   "cell_type": "markdown",
   "id": "ff1a623e",
   "metadata": {
    "tiedown.cell_index": "cid59"
   },
   "source": [
    "<a name=\"cid59\"></a>\n",
    "#### 2. Get Numeric Input\n",
    "Use the `input()` function to ask the user for an integer and then print a message stating whether the number is even or odd. Don't forget to convert the input to an integer!"
   ]
  },
  {
   "cell_type": "code",
   "execution_count": null,
   "id": "27efe45f",
   "metadata": {},
   "outputs": [],
   "source": [
    "# Exercise Answer:"
   ]
  },
  {
   "cell_type": "markdown",
   "id": "68979d50",
   "metadata": {
    "tiedown.cell_index": "cid60"
   },
   "source": [
    "<a name=\"cid60\"></a>\n",
    "#### 3. Apply the `input()` Function\n",
    "The official documentation for `input()` [is here.](https://docs.python.org/3/library/functions.html#input) Make up your own exercise with the `input()` function. Ask the user for some information, do something with the information, and display the results to the user."
   ]
  },
  {
   "cell_type": "code",
   "execution_count": null,
   "id": "e4c36969",
   "metadata": {},
   "outputs": [],
   "source": [
    "# Exercise Answer:\n"
   ]
  },
  {
   "cell_type": "markdown",
   "id": "0c3becc2",
   "metadata": {
    "tiedown.cell_index": "cid61"
   },
   "source": [
    "<a name=\"cid61\"></a>\n",
    "## VIII. Python Tutorial\n",
    "For some extra practice, try some of the examples from the *Python Tutorial*.\n",
    "\n",
    "[Section 3.1.3](https://docs.python.org/3/tutorial/introduction.html#lists) covers lists."
   ]
  },
  {
   "cell_type": "code",
   "execution_count": null,
   "id": "eef1841b",
   "metadata": {},
   "outputs": [],
   "source": [
    "# Examples from Python Tutorial Section 3.1.3 on lists\n",
    "\n"
   ]
  },
  {
   "cell_type": "markdown",
   "id": "de5ff989",
   "metadata": {
    "tiedown.cell_index": "cid62"
   },
   "source": [
    "<a name=\"cid62\"></a>\n",
    "[Section 5.2](https://docs.python.org/3/tutorial/datastructures.html#the-del-statement) covers the `del` keyword."
   ]
  },
  {
   "cell_type": "code",
   "execution_count": null,
   "id": "9a88199c",
   "metadata": {},
   "outputs": [],
   "source": [
    "# Practice with del keyword\n",
    "\n"
   ]
  },
  {
   "cell_type": "markdown",
   "id": "7f00be42",
   "metadata": {
    "tiedown.cell_index": "cid63"
   },
   "source": [
    "<a name=\"cid63\"></a>\n",
    "## IX. More Exercises"
   ]
  },
  {
   "cell_type": "markdown",
   "id": "bdb8add8",
   "metadata": {
    "tiedown.cell_index": "cid64"
   },
   "source": [
    "<a name=\"cid64\"></a>\n",
    "#### 1. Tip Calculator\n",
    "\n",
    "Below, you can see the script we wrote to compute the tip for a meal.  Fix it so that it works correctly. Expect the input to be a number. Please format the output to 2 decimal places. [For a hint on rounding, check here.](https://docs.python.org/3/library/functions.html#round)"
   ]
  },
  {
   "cell_type": "code",
   "execution_count": null,
   "id": "b3410cb6",
   "metadata": {},
   "outputs": [],
   "source": [
    "# Leave this cell alone.\n",
    "price = input(\"Enter the price of a meal: \")\n",
    "\n",
    "tip = price * 0.16\n",
    "total = price + tip\n",
    "\n",
    "print(\"A 16% tip would be:\", tip)\n",
    "print(\"The total including tip would be:\", total)"
   ]
  },
  {
   "cell_type": "code",
   "execution_count": null,
   "id": "1504283d",
   "metadata": {},
   "outputs": [],
   "source": [
    "# Exercise Answer - Put the corrected code here:\n",
    "\n",
    "\n"
   ]
  },
  {
   "cell_type": "markdown",
   "id": "3d70414e",
   "metadata": {
    "tiedown.cell_index": "cid65"
   },
   "source": [
    "<a name=\"cid65\"></a>\n",
    "#### 2. Upgraded Tip Calculator\n",
    "Upgraded Tip Calculator: Modify the tip calculator program above so that it asks the user for the tip percentage after asking for the meal price. Use the tip percentage provided by the user to calculate the tip."
   ]
  },
  {
   "cell_type": "code",
   "execution_count": null,
   "id": "7609a47d",
   "metadata": {},
   "outputs": [],
   "source": [
    "# Exercise Answer:\n"
   ]
  },
  {
   "cell_type": "markdown",
   "id": "f5637236",
   "metadata": {
    "tiedown.cell_index": "cid66"
   },
   "source": [
    "<a name=\"cid66\"></a>\n",
    "#### 3. Gas Pump Informer\n",
    "Write a script that prompts the user for a number of gallons of gasoline. Reprint that value, along with its conversion to other measurements:\n",
    "\n",
    "- Equivalent number of liters (format to 4 decimals)\n",
    "- Number of barrels of oil required to produce it (format to 3 decimals)\n",
    "- Price in U.S. dollars (format to 2 decimals)\n",
    "\n",
    "Use the conversions list to convert the values. For clarity, the conversion factors are listed below.\n",
    "\n",
    "- 1 gallon is equivalent to 3.7854 liters.\n",
    "- 1 barrel of oil produces 19.5 gallons of gas.\n",
    "- The average price of gas is approximately $3.65 per gallon."
   ]
  },
  {
   "cell_type": "code",
   "execution_count": null,
   "id": "4bb6687e",
   "metadata": {},
   "outputs": [],
   "source": [
    "conversions = [3.7854, 19.5, 3.65]\n",
    "# Exercise Answer:\n",
    "\n",
    "\n"
   ]
  },
  {
   "cell_type": "markdown",
   "id": "83683156",
   "metadata": {
    "tiedown.cell_index": "cid67"
   },
   "source": [
    "<a name=\"cid67\"></a>\n",
    "## X. Quiz to Check Your Knowledge\n",
    "Write the answers as Python comments in the code cell below each question.\n",
    "\n",
    "**#1.** What data type would be used for an object that stores the number 2.71828?"
   ]
  },
  {
   "cell_type": "code",
   "execution_count": null,
   "id": "90333540",
   "metadata": {},
   "outputs": [],
   "source": []
  },
  {
   "cell_type": "markdown",
   "id": "cabd2e24",
   "metadata": {
    "tiedown.cell_index": "cid68"
   },
   "source": [
    "<a name=\"cid68\"></a>\n",
    "**#2.** What is the difference between a function and a method?"
   ]
  },
  {
   "cell_type": "code",
   "execution_count": null,
   "id": "dc45c030",
   "metadata": {},
   "outputs": [],
   "source": []
  },
  {
   "cell_type": "markdown",
   "id": "92de047c",
   "metadata": {
    "tiedown.cell_index": "cid69"
   },
   "source": [
    "<a name=\"cid69\"></a>\n",
    "**#3.** What data type will result from the statement `2 + 2.0`?"
   ]
  },
  {
   "cell_type": "code",
   "execution_count": null,
   "id": "0cfa38b0",
   "metadata": {},
   "outputs": [],
   "source": []
  },
  {
   "cell_type": "markdown",
   "id": "aa9bd3c6",
   "metadata": {
    "tiedown.cell_index": "cid70"
   },
   "source": [
    "<a name=\"cid70\"></a>\n",
    "**#4.** What index number is used to extract the first element from a list? The last element?"
   ]
  },
  {
   "cell_type": "code",
   "execution_count": null,
   "id": "f62a619f",
   "metadata": {},
   "outputs": [],
   "source": []
  },
  {
   "cell_type": "markdown",
   "id": "6f833ef0",
   "metadata": {
    "tiedown.cell_index": "cid71"
   },
   "source": [
    "<a name=\"cid71\"></a>\n",
    "**#5.** What will the output be from the following code? Try to figure out the answer without running the code.\n",
    "```Python\n",
    "ex5_list = [11, 12, 13, 14, 15, 16, 17, 18, 19, 20]\n",
    "print(ex5_list[2:6]\n",
    "```"
   ]
  },
  {
   "cell_type": "code",
   "execution_count": null,
   "id": "3d6d360b",
   "metadata": {},
   "outputs": [],
   "source": []
  },
  {
   "cell_type": "markdown",
   "id": "6c89bc28",
   "metadata": {
    "tiedown.cell_index": "cid72"
   },
   "source": [
    "<a name=\"cid72\"></a>\n",
    "**#6.** What is the difference between the `.pop()` method and the `del` keyword?"
   ]
  },
  {
   "cell_type": "code",
   "execution_count": null,
   "id": "2f29d0e7",
   "metadata": {},
   "outputs": [],
   "source": []
  },
  {
   "cell_type": "markdown",
   "id": "928b1113",
   "metadata": {
    "tiedown.cell_index": "cid73"
   },
   "source": [
    "<a name=\"cid73\"></a>\n",
    "**#7.** What function will get an object's unique identifier code?"
   ]
  },
  {
   "cell_type": "code",
   "execution_count": null,
   "id": "a297a55e",
   "metadata": {},
   "outputs": [],
   "source": []
  },
  {
   "cell_type": "markdown",
   "id": "4614f29d",
   "metadata": {
    "tiedown.cell_index": "cid74"
   },
   "source": [
    "<a name=\"cid74\"></a>\n",
    "**#8.** Name at least two methods that can be used on a string object."
   ]
  },
  {
   "cell_type": "code",
   "execution_count": null,
   "id": "1451bbd4",
   "metadata": {},
   "outputs": [],
   "source": []
  },
  {
   "cell_type": "markdown",
   "id": "a04e7240",
   "metadata": {
    "tiedown.cell_index": "cid75"
   },
   "source": [
    "<a name=\"cid75\"></a>\n",
    "## XI. Save Your Work\n",
    "Save your completed notebook to your Google drive and share it with a mentor or another student for feedback. [See Lesson 1 for more guidance.](../01_intro_python/intro_python.ipynb#cid70)"
   ]
  },
  {
   "cell_type": "markdown",
   "id": "f43206e0",
   "metadata": {
    "tiedown.cell_index": "cid76"
   },
   "source": [
    "<a name=\"cid76\"></a>\n",
    "## XII. Concept and Terminology Review\n",
    "You should be able to define the following terms or drescribe the concept. Re-review this session if any of these are unfamiliar.\n",
    "* Return values\n",
    "* Data types\n",
    "* `type()` function\n",
    "* Integers\n",
    "* Floats\n",
    "* Strings\n",
    "* `int()` function\n",
    "* `float()` function\n",
    "* `str()` function\n",
    "* Object\n",
    "* Method\n",
    "* `id()` function\n",
    "* `.upper()` string method\n",
    "* `.lower()` string method\n",
    "* `.title()` string method\n",
    "* Lists\n",
    "* List indexing\n",
    "* List slicing\n",
    "* `append()` list method\n",
    "* `.pop()` list method\n",
    "* `del` keyword\n",
    "* `len()` function\n",
    "* `input()` function"
   ]
  },
  {
   "cell_type": "markdown",
   "id": "f571a077",
   "metadata": {
    "tiedown.cell_index": "cid77"
   },
   "source": [
    "<a name=\"cid77\"></a>\n",
    "## XIII. Data Type Humor\n",
    "\n",
    "###  An integer walks up to a string and asks for its number.\n",
    "The string replies, \"Sorry, you're not my type.\"\n",
    "\n",
    "###  Why can't integers swim?\n",
    "Because they can't float.\n",
    "\n",
    "###  I tried to explain what integers are...\n",
    "It was pointless."
   ]
  },
  {
   "cell_type": "markdown",
   "id": "20278a03",
   "metadata": {
    "tiedown.cell_index": "cid78"
   },
   "source": [
    "<a name=\"cid78\"></a>\n",
    "## XIV. Footnotes\n",
    "\n",
    "#### 1. [Binary Storage Exercise](data_types.ipynb#cid29)\n",
    "The descripton of binary numbers is a simplification of what's really going on, but it will do for now. For integer data types that can be both positive and negative, computers use a binary format called [two's complement.](https://en.wikipedia.org/wiki/Two%27s_complement) It's usually not necessary to understand this, but I included the link in case you are curious."
   ]
  },
  {
   "cell_type": "markdown",
   "id": "6d6e118c-eef8-4c5d-ae5f-482ab439dbc4",
   "metadata": {
    "tiedown.cell_index": "cid79"
   },
   "source": [
    "<a name=\"cid79\"></a>\n",
    "Prev: [Introduction to Python](../01_intro_python/intro_python.ipynb) | [Table of Contents](../toc.ipynb) | Next: [Conditional Statements](../03_conditional_statements/s03_conditional_statements.ipynb)"
   ]
  }
 ],
 "metadata": {
  "kernelspec": {
   "display_name": "Python 3 (ipykernel)",
   "language": "python",
   "name": "python3"
  },
  "tiedown.toc_index": 1
 },
 "nbformat": 4,
 "nbformat_minor": 5
}
