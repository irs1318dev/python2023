{
 "cells": [
  {
   "cell_type": "markdown",
   "id": "1783cff3-7acc-4f5a-b85b-a0f26b1c5b0e",
   "metadata": {
    "tiedown.cell_index": "cid1"
   },
   "source": [
    "<a name=\"cid1\"></a>\n",
    "Prev: [Tabular Data](../08_tabular_data/tabular_data.ipynb) | [Table of Contents](../toc.ipynb) | Next: [Data Visualization with Bokeh](../10_visualization_bokeh/bokeh.ipynb)"
   ]
  },
  {
   "cell_type": "markdown",
   "id": "6aaad414",
   "metadata": {
    "tiedown.cell_index": "cid2"
   },
   "source": [
    "<a name=\"cid2\"></a>\n",
    "# Data Visualization with MatPlotlib\n",
    "\n",
    "## I. Introduction\n",
    "Data visualization refers to using diagrams that present information via the arrangement of graphic elements. Charts, graphs, plots, tables, and maps are all examples of data visualization. Visualization is an integral part of analytics and data science. It allows people to more easily and efficiently interpret large amounts of data. Data visualization is an important skill that is used widely in the professional world. In FRC, we analyze team performance by graphing scouting data, which helps us evaluate the strengths and weaknesses of all robots at the competition!\n",
    "\n",
    "There are many different kinds of data visualizations, both static and interactive. Here are some fun examples on the web:\n",
    "* [Every Satellite Orbiting Earth](https://qz.com/296941/interactive-graphic-every-active-satellite-orbiting-earth/)\n",
    "* [Music Timeline](https://thenextweb.com/wp-content/blogs.dir/1/files/2014/01/music_timeline_genres.png)\n",
    "* [NYC Trees](https://www.cloudred.com/labprojects/nyctrees/#about)\n",
    "* [Matplotlib Examples](https://matplotlib.org/gallery/index.html#showcase)\n",
    "\n",
    "There are many packages for creating visualizations in Python. We will start with one of the oldest packages, Matplotlib, which was initially developed in 2002. There are several  popular plotting packages that are built on top of Matplotlib, which means you need to be familiar with Matplotlib to use them effectively. \n",
    "\n",
    "We will start with a short introduction to another Python package, Numpy. Numpy provides fast operations on array objects. Many of the examples in the official Matplotlib documentation use Numpy objects."
   ]
  },
  {
   "cell_type": "markdown",
   "id": "83ff33b0",
   "metadata": {
    "tiedown.cell_index": "cid3"
   },
   "source": [
    "<a name=\"cid3\"></a>\n",
    "## II. Notebook Setup\n",
    "### A. If Running this Notebook on Google Colab\n",
    "Run the next cell to download data files into the local folder on Google Colab."
   ]
  },
  {
   "cell_type": "code",
   "execution_count": null,
   "id": "58f36cfa",
   "metadata": {},
   "outputs": [],
   "source": [
    "!wget -nv https://raw.githubusercontent.com/irs1318dev/python2023/main/output/09_visualization_matplotlib/get_files.sh\n",
    "!bash get_files.sh"
   ]
  },
  {
   "cell_type": "markdown",
   "id": "df258ac3",
   "metadata": {
    "tiedown.cell_index": "cid4"
   },
   "source": [
    "<a name=\"cid4\"></a>\n",
    "### B. If Running Notebook Locally in Jupyter\n",
    "This notebook uses an external package called matplotlib. This package must be installed before the code in this notebook will run.\n",
    "\n",
    "If you are using the Anaconda or Minconda flavors of Python, run the following command in Mac Terminal or Windows Powershell:\n",
    "```bash\n",
    "conda install matplotlib\n",
    "```\n",
    "If you are using pip, run the following:\n",
    "```bash\n",
    "pip install matplotlib\n",
    "```\n",
    "You don't need to run these commands if you are using Google Colab because the Matplotlib package is already installed."
   ]
  },
  {
   "cell_type": "markdown",
   "id": "750b9793",
   "metadata": {
    "tiedown.cell_index": "cid5"
   },
   "source": [
    "<a name=\"cid5\"></a>\n",
    "### C. If Running Notebook in Jupyter on a Windows Operating System\n",
    "Uncomment and run the next cell to change the default CLI to PowerShell."
   ]
  },
  {
   "cell_type": "code",
   "execution_count": null,
   "id": "efd4b498",
   "metadata": {},
   "outputs": [],
   "source": [
    "# import os\n",
    "# os.environ.update(comspec=\"powershell.exe\")"
   ]
  },
  {
   "cell_type": "markdown",
   "id": "be026743",
   "metadata": {
    "tiedown.cell_index": "cid6"
   },
   "source": [
    "<a name=\"cid6\"></a>\n",
    "### D. Importing\n",
    "The following cell imports the packages required for this session."
   ]
  },
  {
   "cell_type": "code",
   "execution_count": null,
   "id": "02237270",
   "metadata": {},
   "outputs": [],
   "source": [
    "# Importing Matplotlib\n",
    "import matplotlib.pyplot as plt   # line 1\n",
    "import matplotlib                 # line 2\n",
    "\n",
    "# Other packages used in this session\n",
    "import numpy as np\n",
    "import pandas as pd\n",
    "\n",
    "# Configure Notebook to Display Charts\n",
    "%matplotlib inline"
   ]
  },
  {
   "cell_type": "markdown",
   "id": "94424698",
   "metadata": {
    "tiedown.cell_index": "cid7"
   },
   "source": [
    "<a name=\"cid7\"></a>\n",
    "Matplotlib provides a `pyplot` object, which is used continually when creating graphs. To cut down on typing, we import the `plplot` object as `plt` in line 1. We will need to occasionally use Matplotlib features that are not part of the `pyplot` object, which is why we also import `matplotlib` in line 2.\n",
    "\n",
    "We'll also use the Numpy and Pandas packages in this session. Numpy is a Python package that provides multi-dimensional arrays for fast mathematical calculations\n",
    "\n",
    "The last line of the preceding code cell contains that statement `%matplotlib inline`. The percentage sign at the beginning of the statement indicates this line is a *magic* command, not a Python statement. It configures the notebook to display Matplotlib charts. [Click here to see more Jupyter *magic* commands](https://ipython.readthedocs.io/en/stable/interactive/magics.html)."
   ]
  },
  {
   "cell_type": "markdown",
   "id": "b21be0d2",
   "metadata": {
    "tiedown.cell_index": "cid8"
   },
   "source": [
    "<a name=\"cid8\"></a>\n",
    "## III. Numpy\n",
    "We'll start our discussion of Numpy (prounounced num-pie, not num-pee) with a short example. First we'll use the [random module](https://docs.python.org/3/library/random.html) from the *Python Standard Library* to create a Python list with 100 randomly generated numbers."
   ]
  },
  {
   "cell_type": "markdown",
   "id": "8a47a024",
   "metadata": {
    "tiedown.cell_index": "cid9"
   },
   "source": [
    "<a name=\"cid9\"></a>\n",
    "### A. Our First Numpy Array"
   ]
  },
  {
   "cell_type": "code",
   "execution_count": null,
   "id": "c81a25dd",
   "metadata": {},
   "outputs": [],
   "source": [
    "import random\n",
    "num_list = [random.uniform(0, 100) for idx in range(10)]\n",
    "print(num_list)"
   ]
  },
  {
   "cell_type": "markdown",
   "id": "a5671e58",
   "metadata": {
    "tiedown.cell_index": "cid10"
   },
   "source": [
    "<a name=\"cid10\"></a>\n",
    "Now we'll use Numpy's `.array()` method to convert the Python list to a Numpy array."
   ]
  },
  {
   "cell_type": "code",
   "execution_count": null,
   "id": "610dd258",
   "metadata": {},
   "outputs": [],
   "source": [
    "num_array = np.array(num_list)\n",
    "num_array"
   ]
  },
  {
   "cell_type": "markdown",
   "id": "5f148815",
   "metadata": {
    "tiedown.cell_index": "cid11"
   },
   "source": [
    "<a name=\"cid11\"></a>\n",
    "Individual elements of Numpy arrays can be accessed the same way we access elements of lists."
   ]
  },
  {
   "cell_type": "code",
   "execution_count": null,
   "id": "b770038b",
   "metadata": {},
   "outputs": [],
   "source": [
    "# Extract every other element, starting with the third and ending\n",
    "#   with the eighth\n",
    "num_array[2:8:2]"
   ]
  },
  {
   "cell_type": "markdown",
   "id": "0965ad4e",
   "metadata": {
    "tiedown.cell_index": "cid12"
   },
   "source": [
    "<a name=\"cid12\"></a>\n",
    "Unlike lists, every element of a Numpy array must be the same data type. Use the dtype attribute to see the data type."
   ]
  },
  {
   "cell_type": "code",
   "execution_count": null,
   "id": "73517b89",
   "metadata": {},
   "outputs": [],
   "source": [
    "num_array.dtype"
   ]
  },
  {
   "cell_type": "markdown",
   "id": "52e1eb6d",
   "metadata": {
    "tiedown.cell_index": "cid13"
   },
   "source": [
    "<a name=\"cid13\"></a>\n",
    "Also unlike lists, operations on Numpy arrays are element-wise. For example, the following line multiplies every element of the numpy array by ten, creating a new numpy array that is the same length."
   ]
  },
  {
   "cell_type": "code",
   "execution_count": null,
   "id": "b0a8b28b",
   "metadata": {},
   "outputs": [],
   "source": [
    "10 * num_array"
   ]
  },
  {
   "cell_type": "markdown",
   "id": "7bb4adb5",
   "metadata": {
    "tiedown.cell_index": "cid14"
   },
   "source": [
    "<a name=\"cid14\"></a>\n",
    "### B. Why Numpy?\n",
    "You may be wondering why we need Numpy arrays when Python lists are so flexible and easy to use. The reason is that the flexibility of Python lists comes at a cost. Calculations on Python lists are not nearly as fast as calculations on Numpy arrays. Restricting Numpy arrays to contain only a single datatype allows Numpy methods to use fast, low-level machine code to a greater extent than Python lists. The reason that Numpy is automatically installed when you install Pandas is that Pandas `DataFrame` and `Series` objects store data in Numpy arrays.\n",
    "\n",
    "Keep in mind that Numpy arrays are not better for everything. For example, if you are creating a list with a *for* loop, appending a single element to the list at a time, a Python list will work better. Python lists use a data structure called a [dynamic array](https://en.wikipedia.org/wiki/Dynamic_array), which is slower for mathematical calculations, but much faster for appending items to the end of the list than a Numpy array.\n",
    "\n",
    "Refer to the [Complete Numpy Manual](https://numpy.org/doc/stable/) or the [Numpy Abosolute Beginners Tutorial](https://numpy.org/doc/stable/user/absolute_beginners.html) to learn more about Numpy."
   ]
  },
  {
   "cell_type": "markdown",
   "id": "9be5723a",
   "metadata": {
    "tiedown.cell_index": "cid15"
   },
   "source": [
    "<a name=\"cid15\"></a>\n",
    "### C. Common Numpy Functions\n",
    "Later in this session you will be encouraged to read portions of Matplotlib's official documentation. You will come across several common Numpy functions as you read the documentation."
   ]
  },
  {
   "cell_type": "markdown",
   "id": "1079198f",
   "metadata": {
    "tiedown.cell_index": "cid16"
   },
   "source": [
    "<a name=\"cid16\"></a>\n",
    "#### 1. `numpy.arange()` and `numpy.linspace()`\n",
    "The `numpy.arange()` method is similar to Python's built-in `range()` function. The following example creates a numpy array of 16-bit integers. See the [Numpy API documentation](https://numpy.org/doc/stable/reference/generated/numpy.arange.html?highlight=arange#numpy.arange) for details."
   ]
  },
  {
   "cell_type": "code",
   "execution_count": null,
   "id": "05c1902b",
   "metadata": {},
   "outputs": [],
   "source": [
    "# numpy.arange\n",
    "np.arange(100, 50, -5, np.int16)"
   ]
  },
  {
   "cell_type": "markdown",
   "id": "a1105589",
   "metadata": {
    "tiedown.cell_index": "cid17"
   },
   "source": [
    "<a name=\"cid17\"></a>\n",
    "Numpy also provides a `.linspace()` function that works similarly to `numpy.arange()`. The first two arguments are the same as `np.arange()`: *start* and *stop*. The third function is the number of values to generate, which will be equally spaced between *start* and *stop*."
   ]
  },
  {
   "cell_type": "code",
   "execution_count": null,
   "id": "bf6680d3",
   "metadata": {},
   "outputs": [],
   "source": [
    "# numpy.linspace\n",
    "np.linspace(5, 10, 17)"
   ]
  },
  {
   "cell_type": "markdown",
   "id": "065d71df",
   "metadata": {
    "tiedown.cell_index": "cid18"
   },
   "source": [
    "<a name=\"cid18\"></a>\n",
    "#### 2. Numpy Mathematical functions\n",
    "Numpy has its own versions of common mathematical functions, which operate element-wise on numpy arrays. Here are a couple examples:"
   ]
  },
  {
   "cell_type": "code",
   "execution_count": null,
   "id": "1daf9630",
   "metadata": {},
   "outputs": [],
   "source": [
    "# Calculate cosines of various angles\n",
    "angles = np.arange(0, 2*np.pi, np.pi/4, np.float32)  # Angles must be in radians\n",
    "cosines = np.cos(angles)\n",
    "np.round(cosines, 4)"
   ]
  },
  {
   "cell_type": "code",
   "execution_count": null,
   "id": "84086cab",
   "metadata": {},
   "outputs": [],
   "source": [
    "# Working with Euler's number\n",
    "vals = np.arange(0, 3.1, 0.5)\n",
    "np.exp(vals)"
   ]
  },
  {
   "cell_type": "markdown",
   "id": "3cdfe3c6",
   "metadata": {
    "tiedown.cell_index": "cid19"
   },
   "source": [
    "<a name=\"cid19\"></a>\n",
    "## IV. Our First Chart\n",
    "We will construct our first Matplotlib chart from California housing data that was gathered during the 1990 census."
   ]
  },
  {
   "cell_type": "markdown",
   "id": "683e51e1",
   "metadata": {
    "tiedown.cell_index": "cid20"
   },
   "source": [
    "<a name=\"cid20\"></a>\n",
    "### A. The Data\n",
    "We will load the data into a Pandas dataframe from the *housing.csv* file."
   ]
  },
  {
   "cell_type": "code",
   "execution_count": null,
   "id": "f0ad5645",
   "metadata": {},
   "outputs": [],
   "source": [
    "# Loading housing data\n",
    "house = pd.read_csv(\"housing.csv\")\n",
    "house.head()"
   ]
  },
  {
   "cell_type": "markdown",
   "id": "7be570a6",
   "metadata": {
    "tiedown.cell_index": "cid21"
   },
   "source": [
    "<a name=\"cid21\"></a>\n",
    "Pandas dataframes have a handy `.describe()` method. We'll use it below to see summary statistics for each numeric column. We're not interested in statistics on latitudes and longitudes, so we'll use the `.drop()` method to leave out those columns."
   ]
  },
  {
   "cell_type": "code",
   "execution_count": null,
   "id": "4ce93836",
   "metadata": {},
   "outputs": [],
   "source": [
    "house.drop(columns =['longitude', 'latitude']).describe()"
   ]
  },
  {
   "cell_type": "markdown",
   "id": "c70c858d",
   "metadata": {
    "tiedown.cell_index": "cid22"
   },
   "source": [
    "<a name=\"cid22\"></a>\n",
    "Do you see how we called a method (`describe()`) on the output from another method (`drop()`)? Linking methods like this occurs frequently when analyzing data -- it's called *method chaining*. Chaining two methods isn't bad, but it can be cumbersome to read and understand longer method chains. It's easier to understand the method chains if every method is written on it's own line. We can put each method on it's own line if we enclose them in parentheses:"
   ]
  },
  {
   "cell_type": "code",
   "execution_count": null,
   "id": "e77404aa",
   "metadata": {},
   "outputs": [],
   "source": [
    "(house\n",
    "  .drop(columns =['longitude', 'latitude'])\n",
    "  .describe()\n",
    "  .head(3)\n",
    ")"
   ]
  },
  {
   "cell_type": "markdown",
   "id": "174aeb17",
   "metadata": {
    "tiedown.cell_index": "cid23"
   },
   "source": [
    "<a name=\"cid23\"></a>\n",
    "Method chaining in Python can also be accomplished by appending a backslash (`\\`) to the end of each line. The backslash tells Python that the statement is continuing on the next line."
   ]
  },
  {
   "cell_type": "code",
   "execution_count": null,
   "id": "484e5310",
   "metadata": {},
   "outputs": [],
   "source": [
    "house \\\n",
    "  .drop(columns =['longitude', 'latitude']) \\\n",
    "  .describe() \\\n",
    "  .head(3)"
   ]
  },
  {
   "cell_type": "markdown",
   "id": "6e7810e0",
   "metadata": {
    "tiedown.cell_index": "cid24"
   },
   "source": [
    "<a name=\"cid24\"></a>\n",
    "One can find examples online of both the backslash and parentheses techniques, but the parenthesis technique is preferred according to the *[Google Python Style Guide](https://google.github.io/styleguide/pyguide.html)*.\n",
    "\n",
    "Let's check the size of the dataframe."
   ]
  },
  {
   "cell_type": "code",
   "execution_count": null,
   "id": "4a6bbe75",
   "metadata": {},
   "outputs": [],
   "source": [
    "# Number of dataframe rows\n",
    "print(\"Number of rows in dataframe:\", house.shape[0])"
   ]
  },
  {
   "cell_type": "markdown",
   "id": "d01cc4a7",
   "metadata": {
    "tiedown.cell_index": "cid25"
   },
   "source": [
    "<a name=\"cid25\"></a>\n",
    "Twenty-thousand rows is a lot of data to cram into a single chart. We'll use Panda's `.sample()` method to create a smaller dataframe with a random selection of rows."
   ]
  },
  {
   "cell_type": "code",
   "execution_count": null,
   "id": "94564fd8",
   "metadata": {},
   "outputs": [],
   "source": [
    "house_100 = house.sample(100)\n",
    "print(\"Number of rows in house_100 dataframe:\", house_100.shape[0])"
   ]
  },
  {
   "cell_type": "markdown",
   "id": "3e482cd9",
   "metadata": {
    "tiedown.cell_index": "cid26"
   },
   "source": [
    "<a name=\"cid26\"></a>\n",
    "### B. A Simple Chart\n",
    "Our first chart, which will be created in just two lines, is a scatter plot of median home value verses median income for each location in the dataset."
   ]
  },
  {
   "cell_type": "code",
   "execution_count": null,
   "id": "460ed852",
   "metadata": {},
   "outputs": [],
   "source": [
    "# Create scatter plot\n",
    "plt.scatter(\"median_income\", \"median_house_value\", data=house_100)\n",
    "plt.show()"
   ]
  },
  {
   "cell_type": "markdown",
   "id": "e12669bd",
   "metadata": {
    "tiedown.cell_index": "cid27"
   },
   "source": [
    "<a name=\"cid27\"></a>\n",
    "Here's a description of the statements that created the plot.\n",
    "* We called the `matplotlib.pyplot.scatter()` method to create the scatter plot. Remember, we imported `matplotlib.pyplot` as `plt`.\n",
    "* We passed the entire dataframe to the method via the *data* keyword argument.\n",
    "* The first positional argument tells matplotlib which data to use for the x-coordinate, and the second positional argument specifies what data should be used for the y-coordinate.\n",
    "* Since we are passing a Pandas dataframe using the `data` argument, we can pass the names of the columns that contain the x and y coordinates as the first two positional arguments.\n",
    "* The `plt.show()` method tells Matplotlib to display the chart.\n",
    "\n",
    "It's great that we can create a chart with just a couple lines of code. However our chart is missing a few elements, such as a title and axis labels. These elements are easy to add:"
   ]
  },
  {
   "cell_type": "code",
   "execution_count": null,
   "id": "bcab3c4d",
   "metadata": {},
   "outputs": [],
   "source": [
    "# An enhanced scatter plot\n",
    "plt.scatter(house_100.median_income, house_100.median_house_value)\n",
    "plt.xlabel(\"Median Income (10,000$)\")\n",
    "plt.ylabel(\"Median House Value ($)\")\n",
    "plt.title(\"Median Income vs. Home Value\")\n",
    "plt.grid()\n",
    "plt.show()"
   ]
  },
  {
   "cell_type": "markdown",
   "id": "7250f62f",
   "metadata": {
    "tiedown.cell_index": "cid28"
   },
   "source": [
    "<a name=\"cid28\"></a>\n",
    "The `matplotlib.pyplot` object, which we are referring to as `plt`, was designed to make Matplotlib work similar to Matlab. Matlab is a proprietary programming language and numeric computing software application that is used by many engineers, scientists, and analysts. The `plt` object maintains a current figure, which can include one or more charts. Any method that is run on the `plt`; like `.scatter()`, `title()`, or `show()`; will always be directed to the current figure. Here are descriptions of the `pyplot` methods that we used to generate the preceding plot:\n",
    "* The `.xlabel()` and `.ylabel()` methods add x and y labels to the plot.\n",
    "* The `.title()` method adds a title.\n",
    "* The `.grid()` method adds a grid.\n",
    "\n",
    "Because `pyplot` methods are always directed towards the current figure, we don't have to specify the chart that we want to modify when we call a `plyplot` method. We can call `plt.figure()` to start a new chart.\n",
    "\n",
    "You may have noticed that the arguments to the `.scatter()` method have changed. For the sake of demonstration, we used a different technique to pass our data into the `.scatter()` method. We passed individual columns of data as `pandas.Series()` objects to the x and y positional arguments. Matplotlib will accept most common array-like objects, including Python lists, Pandas Series, and Numpy arrays."
   ]
  },
  {
   "cell_type": "markdown",
   "id": "04afadb8",
   "metadata": {
    "tiedown.cell_index": "cid29"
   },
   "source": [
    "<a name=\"cid29\"></a>\n",
    "### C. First Chart Exercise"
   ]
  },
  {
   "cell_type": "markdown",
   "id": "330c178f",
   "metadata": {
    "tiedown.cell_index": "cid30"
   },
   "source": [
    "<a name=\"cid30\"></a>\n",
    "##### a. Population vs. Income\n",
    "Create a scatter plot of population verses income. Give the plot a title and label both the x and y axes. Does the plot suggest there is a strong relationship between population and income?"
   ]
  },
  {
   "cell_type": "code",
   "execution_count": null,
   "id": "0b4f9ac7",
   "metadata": {},
   "outputs": [],
   "source": [
    "# Population vs. Income\n"
   ]
  },
  {
   "cell_type": "markdown",
   "id": "a23dc2b3",
   "metadata": {
    "tiedown.cell_index": "cid31"
   },
   "source": [
    "<a name=\"cid31\"></a>\n",
    "## V. PyPlot Tutorial\n",
    "Now that we've finished our introduction to making charts with Matplotlib, we'll start digging into the official [MatplotLib Pyplot Tutorial](https://matplotlib.org/3.3.3/tutorials/introductory/pyplot.html#sphx-glr-tutorials-introductory-pyplot-py). In this section, you will alternate between reading sections of the tutorial and completing some exercises."
   ]
  },
  {
   "cell_type": "markdown",
   "id": "503d3a53",
   "metadata": {
    "tiedown.cell_index": "cid32"
   },
   "source": [
    "<a name=\"cid32\"></a>\n",
    "### A. Introduction\n",
    "Read the first section of the PyPlot Tutorial, [Intro to PyPlot](https://matplotlib.org/3.3.3/tutorials/introductory/pyplot.html#intro-to-pyplot), including the section on *Formatting the Style of Your Plot*."
   ]
  },
  {
   "cell_type": "markdown",
   "id": "159ad272",
   "metadata": {
    "tiedown.cell_index": "cid33"
   },
   "source": [
    "<a name=\"cid33\"></a>\n",
    "##### a. Integer Plot\n",
    "Use the `range()` function and list comprehensions to create three different lists.\n",
    "* The first list should contain the integers 1 through 10.\n",
    "* The second list should contain the squares of the numbers 1 through 10.\n",
    "* The third list should contain the cubes of the numbers 1 through 10.\n",
    "\n",
    "Next, convert the lists to Numpy arrays. Finally, plot all three lists on the same plot using the `pyplot.plot()` method. Use the numbers 1 through 10 for the x-coordinates and the three lists that we created as the y coordinates.\n",
    "* Plot the values from the first list using black squares.\n",
    "* Plot the squared values in the second list using magenta diamonds.\n",
    "* Plot the cubed values using red triangles that point to the right. The triangles should be connected by a dotted line.\n",
    "\n",
    "You will need to refer to the *Format Strings* section of the [API documentation on the pyplot.plot method](https://matplotlib.org/3.3.3/api/_as_gen/matplotlib.pyplot.plot.html#) for guidance. The *Format Strings* section is near the bottom of the page."
   ]
  },
  {
   "cell_type": "code",
   "execution_count": null,
   "id": "6f4edbac",
   "metadata": {},
   "outputs": [],
   "source": [
    "# Integer Plot\n"
   ]
  },
  {
   "cell_type": "markdown",
   "id": "97677a3a",
   "metadata": {
    "tiedown.cell_index": "cid34"
   },
   "source": [
    "<a name=\"cid34\"></a>\n",
    "### B. Plotting with Keyword Strings and Categorical Variables\n",
    "Read the next three sections of the *Pyplot Tutorial*:\n",
    "* [Plotting with Keyword Strings](https://matplotlib.org/tutorials/introductory/pyplot.html#plotting-with-keyword-strings)\n",
    "* [Plotting with Categorical Variables](https://matplotlib.org/tutorials/introductory/pyplot.html#plotting-with-categorical-variables)\n",
    "* [Controlling line Properties](https://matplotlib.org/tutorials/introductory/pyplot.html#controlling-line-properties)\n",
    "\n",
    "The *Plotting with Keyword Strings* section is a review of material covered earlier in this session."
   ]
  },
  {
   "cell_type": "markdown",
   "id": "1445abf3",
   "metadata": {
    "tiedown.cell_index": "cid35"
   },
   "source": [
    "<a name=\"cid35\"></a>\n",
    "##### a. Top 10 Majors\n",
    "Read the contents of the *recent-grads.csv* file into a Pandas dataframe. Sort the dataframe by the *Sample_size* column in descending order. Plot a bar chart showing the sample size for the top 10 majors (by sample size).\n",
    "\n",
    "If you plot a vertical bar chart, then most likely the names of the majors will be plotted over each other below the x axis and they'll be indecipherable. The easiest way to fix this is to plot a horizontal bar chart with the `pyplot.barh()` method. Horizontal bar charts are underrated!"
   ]
  },
  {
   "cell_type": "code",
   "execution_count": null,
   "id": "3aededfc",
   "metadata": {},
   "outputs": [],
   "source": [
    "# Top 10 Majors\n"
   ]
  },
  {
   "cell_type": "markdown",
   "id": "617dfded",
   "metadata": {
    "tiedown.cell_index": "cid36"
   },
   "source": [
    "<a name=\"cid36\"></a>\n",
    "### C. Working with Multiple Figures and Axes\n",
    "Read the next section of the Pyplot tutorial, [Working with Multiple Figures and Axes](https://matplotlib.org/3.3.3/tutorials/introductory/pyplot.html#working-with-multiple-figures-and-axes)."
   ]
  },
  {
   "cell_type": "markdown",
   "id": "12aa1ded",
   "metadata": {
    "tiedown.cell_index": "cid37"
   },
   "source": [
    "<a name=\"cid37\"></a>\n",
    "#### 1. Trig plots\n",
    "Create a figure with two plots, one above the other, similar to the example in the *Pyplot Tutorial* that you just read. The top plot should plot the value of the sine function (`np.sin`), from 0 to $2\\pi$ (i.e., 0 to 360 degrees, but use radians in your code), and the bottom chart should plot the value of the cosine function (`np.cos`) over the same range. Use a black line for the sine plot, and a green line for the cosine plot.\n",
    "* Use the `np.arange()` method to generate lists of x and y coordinates for both plots"
   ]
  },
  {
   "cell_type": "code",
   "execution_count": null,
   "id": "3c361f4a",
   "metadata": {},
   "outputs": [],
   "source": [
    "# Double Plots\n",
    "\n"
   ]
  },
  {
   "cell_type": "markdown",
   "id": "4d8d57a6",
   "metadata": {
    "tiedown.cell_index": "cid38"
   },
   "source": [
    "<a name=\"cid38\"></a>\n",
    "### D. Working with Text\n",
    "Read the next section of the Pyplot tutorial, [Working with Text](https://matplotlib.org/3.3.3/tutorials/introductory/pyplot.html#working-with-text)."
   ]
  },
  {
   "cell_type": "markdown",
   "id": "3c3c3109",
   "metadata": {
    "tiedown.cell_index": "cid39"
   },
   "source": [
    "<a name=\"cid39\"></a>\n",
    "#### 1. Adding Text\n",
    "Go back and modify the plots you generated for the *Trig Plots* exercise. Add a text label to each plot that states the values at which each function equals zero."
   ]
  },
  {
   "cell_type": "markdown",
   "id": "08d962d8",
   "metadata": {
    "tiedown.cell_index": "cid40"
   },
   "source": [
    "<a name=\"cid40\"></a>\n",
    "## VI. Matplotlib Usage Guide Tutorial"
   ]
  },
  {
   "cell_type": "markdown",
   "id": "136d1ea6",
   "metadata": {
    "tiedown.cell_index": "cid41"
   },
   "source": [
    "<a name=\"cid41\"></a>\n",
    "### A. The Parts of a Figure\n",
    "Read the first two sections of the [Matplotlib Usage Guide](https://matplotlib.org/tutorials/introductory/usage.html#sphx-glr-tutorials-introductory-usage-py):\n",
    "* A Simple Example\n",
    "* Parts of a Figure\n",
    "\n",
    "This material is mostly conceptual. It will be covered in the quiz."
   ]
  },
  {
   "cell_type": "markdown",
   "id": "cabf5215",
   "metadata": {
    "tiedown.cell_index": "cid42"
   },
   "source": [
    "<a name=\"cid42\"></a>\n",
    "### B. Object Oriented Interface to MatPlotLib\n",
    "So far, we've used the `.pyplot` object to creat charts. Matplotlib also provides an object oriented interface that can be used for chart creation. \n",
    "\n",
    "Read the third section of the *Matplotlib Usage Guide*, [The Object-Oriented Interface and the Pyplot Interface](https://matplotlib.org/tutorials/introductory/usage.html#sphx-glr-tutorials-introductory-usage-py).\n",
    "\n",
    "Here is an example of a plot that uses the object oriented interface."
   ]
  },
  {
   "cell_type": "code",
   "execution_count": null,
   "id": "7825c21b",
   "metadata": {},
   "outputs": [],
   "source": [
    "fig, ax = plt.subplots()                         # line 1\n",
    "ax.hist(\"median_house_value\", bins=5,            # line 2\n",
    "        color='#ff9d00', edgecolor='w',\n",
    "        data=house)\n",
    "ax.set_title(\"Histogram of Median House Values\") # line 3\n",
    "ax.set_xlabel(\"Median House Value\")              # line 4\n",
    "ax.set_facecolor('#000000')                      # line 5"
   ]
  },
  {
   "cell_type": "markdown",
   "id": "768d17c7",
   "metadata": {
    "tiedown.cell_index": "cid43"
   },
   "source": [
    "<a name=\"cid43\"></a>\n",
    "1. In line 1, the `pyplot.subplots()` method returns a tuple containing a `Figure` object and an `Axes` object. We use tuple unpacking to assign the objects to two different variables.\n",
    "2. In line 2 we call a plotting method, `hist()` on the `Axes` object that was returned from the `pyplot.subplots()` method.\n",
    "3. Lines 3 through 5 modify the appearance of the plot by modifying the `Axes` object."
   ]
  },
  {
   "cell_type": "markdown",
   "id": "67c70c8b",
   "metadata": {
    "tiedown.cell_index": "cid44"
   },
   "source": [
    "<a name=\"cid44\"></a>\n",
    "#### 1. Object Oriented Income\n",
    "Use object oriented syntax to recreate the earlier scatter plot of income verses house value."
   ]
  },
  {
   "cell_type": "code",
   "execution_count": null,
   "id": "5fd41c35",
   "metadata": {},
   "outputs": [],
   "source": [
    "# Object Oriented Income\n"
   ]
  },
  {
   "cell_type": "markdown",
   "id": "754d923d",
   "metadata": {
    "tiedown.cell_index": "cid45"
   },
   "source": [
    "<a name=\"cid45\"></a>\n",
    "## VII. Bar Charts\n",
    "We frequently use bar charts to visualize scouting data. There are several reasons for this:\n",
    "* We are frequently comparing data from different categories. For example, how many points did various FRC teams score by launching PowerCells into the outer port (*Infinite Recharge*, 2020)? Bar charts are well suited for comparing different categories.\n",
    "* Bar charts are easier to interpret than pie charts, especially if there are more than two or three categories. Small differences in magnitude are readily apparent.\n",
    "* By using grouping or stacking, bar charts can show multiple categories of information on the same plot."
   ]
  },
  {
   "cell_type": "markdown",
   "id": "74f39626",
   "metadata": {
    "tiedown.cell_index": "cid46"
   },
   "source": [
    "<a name=\"cid46\"></a>\n",
    "### A. A Simple Bar Chart\n",
    "The *recent_grads.csv* file contains data on college majors from a survey conducted from 2010 to 2012. [The full dataset is available on Kaggle](https://www.kaggle.com/fivethirtyeight/fivethirtyeight-college-majors-dataset). The following code shows the ten majors with the highest number of survey respondents."
   ]
  },
  {
   "cell_type": "code",
   "execution_count": null,
   "id": "94d1b935",
   "metadata": {},
   "outputs": [],
   "source": [
    "# Majors with most survey respondents\n",
    "grads = pd.read_csv(\"recent-grads.csv\")\n",
    "plt.barh(\"Major\", \"Total\", data=grads.sort_values(\"Total\").tail(10))\n",
    "plt.title(\"Top 10 Majors by Number of Respondents\")\n",
    "plt.xlabel(\"Number of Survey Respondents\")\n",
    "plt.show()"
   ]
  },
  {
   "cell_type": "markdown",
   "id": "238d6a92",
   "metadata": {
    "tiedown.cell_index": "cid47"
   },
   "source": [
    "<a name=\"cid47\"></a>\n",
    "Simple bar charts are not difficult. The most complicated part of the code was the expression to sort the dataframe and extract the final ten rows. It's very common to need more lines of code to prepare data for plotting than are needed to create the plot."
   ]
  },
  {
   "cell_type": "markdown",
   "id": "d64b24f4",
   "metadata": {
    "tiedown.cell_index": "cid48"
   },
   "source": [
    "<a name=\"cid48\"></a>\n",
    "### B. A Grouped Bar Chart\n",
    "Let's try a more complex example. The following cell generates a grouped horizontal bar chart showing the red and blue alliance scores for playoff matches."
   ]
  },
  {
   "cell_type": "code",
   "execution_count": null,
   "id": "c121dc9e",
   "metadata": {},
   "outputs": [],
   "source": [
    "# Load matches dataframe\n",
    "import pickle\n",
    "with open(\"matches.pickle\", \"rb\") as pfile:\n",
    "    matches = pickle.load(pfile)\n",
    "\n",
    "# Filter dataframe to only contain playoff matches\n",
    "playoffs = matches[matches.comp_level!=\"qm\"]\n",
    "\n",
    "# Create Plot\n",
    "fig, ax = plt.subplots()\n",
    "fig.set_size_inches(12, 6)\n",
    "\n",
    "y_pos = np.arange(len(playoffs))  # Calculating the positions of each bar\n",
    "barheight = 0.4\n",
    "\n",
    "ax.barh(y=y_pos - barheight/2, width=\"red_score\", data=playoffs,\n",
    "        color=\"crimson\", height=barheight)\n",
    "ax.barh(y=y_pos + barheight/2, width=\"blue_score\", data=playoffs,\n",
    "        color=\"blue\", height=barheight)\n",
    "ax.set_title(\"Playoff Match Alliance Scores\")\n",
    "ax.set_yticks(y_pos)\n",
    "ax.set_yticklabels(playoffs.index.values)\n",
    "ax.grid()\n",
    "ax.legend([\"red_score\", \"blue_score\"])\n",
    "plt.show()"
   ]
  },
  {
   "cell_type": "markdown",
   "id": "b99f4ebf",
   "metadata": {
    "tiedown.cell_index": "cid49"
   },
   "source": [
    "<a name=\"cid49\"></a>\n",
    "The chart is called a *grouped* bar chart because of how the red and blue bars are grouped together for each match. There is a lot going on in this chart:\n",
    "* We loaded the matches dataframe from a pickle file.\n",
    "* We created a second dataframe that contained only the playoff matches.\n",
    "* We used the object oriented syntax to create `Figure` and `Axes` objects.\n",
    "* We called `Figure.set_size_inches()` to make the plot larger.\n",
    "* Because we are plotting categorical data, e.g., *finals match 2*, *semi-finals2-match1*, we need to specify the locations on the y axis for each bar. We calculate the positions using the `np.arange()` function and save the positions in the `y_pos` variable.\n",
    "* Each adjacent position in `y_pos` is one unit apart. Since we want to plot two bars for each position, we set the bar height (actually the width of the bar) to 0.4. There will be two bars, so 80% of the vertical axis will contain a bar.\n",
    "* We call `Axes.barh()` twice, once to plot the red alliance scores, and once to pass the blue alliance scores. We don't want the red and blue bars to plot on top of each other, so we nudge the blue bars up by half the bar height, and we nudge the red bars down by the same distance. This is done in the `barh()` methods *y* argument.\n",
    "* We add at title and turn display a grid.\n",
    "* We also set the positions of the y ticks and tell Matplotlib to use the values form the dataframe's index as the labels for the y tick marks."
   ]
  },
  {
   "cell_type": "markdown",
   "id": "2104b0ae",
   "metadata": {
    "tiedown.cell_index": "cid50"
   },
   "source": [
    "<a name=\"cid50\"></a>\n",
    "## VIII. Pandas Plotting Functions\n",
    "In my opinion, creating grouped bar charts in Matplotlib is more difficult than it should be. Fortunately, Pandas provides a bar chart plotting method that makes creation of grouped bar charts much easier. Here is the same grouped bar chart that is created with the Pandas method."
   ]
  },
  {
   "cell_type": "code",
   "execution_count": null,
   "id": "4cc5afd4",
   "metadata": {},
   "outputs": [],
   "source": [
    "# Grouped bar chart with Pandas Plotting Function\n",
    "ax = (playoffs[[\"red_score\", \"blue_score\"]]\n",
    "      .plot.barh(color=[\"crimson\", \"blue\"], figsize=(12, 6)))\n",
    "ax.set_title(\"Playoff Match Alliance Scores\")\n",
    "ax.grid()\n",
    "plt.show()"
   ]
  },
  {
   "cell_type": "markdown",
   "id": "1f9628ad",
   "metadata": {
    "tiedown.cell_index": "cid51"
   },
   "source": [
    "<a name=\"cid51\"></a>\n",
    "We were able to construct almost exactly the same chart with much less code.\n",
    "* Pandas displayed multiple columns of data with just a single call to the `.barh()` method.\n",
    "* By default, Pandas plots the index values on the y axis.\n",
    "* Pandas automatically grouped the bars such that they don't plot over each other.\n",
    "* Because the `.barh()` method returns an `Axes` object, we can call Pandas methods to further customize the chart. For example we were able to add a title and a grid.\n",
    "\n",
    "We can also make a stacked version of the same bar chart by setting the *stacked* argument to True."
   ]
  },
  {
   "cell_type": "code",
   "execution_count": null,
   "id": "b068b548",
   "metadata": {},
   "outputs": [],
   "source": [
    "# Stacked bar chart with Pandas Plotting Function\n",
    "ax = (playoffs[[\"red_score\", \"blue_score\"]]\n",
    "      .plot.barh(color=[\"crimson\", \"blue\"], figsize=(12, 6),\n",
    "                stacked=True))\n",
    "ax.set_title(\"Playoff Match Alliance Scores\")\n",
    "ax.grid()\n",
    "plt.show()"
   ]
  },
  {
   "cell_type": "markdown",
   "id": "4ade83c3",
   "metadata": {
    "tiedown.cell_index": "cid52"
   },
   "source": [
    "<a name=\"cid52\"></a>\n",
    "Pandas provides several functions for plotting data in dataframes, as described in the [visualiazation section of the *Pandas User Guide*](https://pandas.pydata.org/pandas-docs/stable/user_guide/visualization.html). Pandas plotting functions, which use the Matplotlib package, can be more convenient than native Matplotlib functions."
   ]
  },
  {
   "cell_type": "markdown",
   "id": "3962a438",
   "metadata": {
    "tiedown.cell_index": "cid53"
   },
   "source": [
    "<a name=\"cid53\"></a>\n",
    "#### 1. Majors with Lowest Unemployment\n",
    "Using the `grads` dataframe, create a bar chart showing the ten majors with the lowest unemployment rate. Only include majors with at least 2000 respondents."
   ]
  },
  {
   "cell_type": "code",
   "execution_count": null,
   "id": "5ec12718",
   "metadata": {},
   "outputs": [],
   "source": [
    "# Majors with Lowest Unemployment\n"
   ]
  },
  {
   "cell_type": "markdown",
   "id": "c38f8838",
   "metadata": {
    "tiedown.cell_index": "cid54"
   },
   "source": [
    "<a name=\"cid54\"></a>\n",
    "## IX. More Chart Types\n",
    "Pandas and Matplotlib can construct many different types of charts."
   ]
  },
  {
   "cell_type": "markdown",
   "id": "d7f144b8",
   "metadata": {
    "tiedown.cell_index": "cid55"
   },
   "source": [
    "<a name=\"cid55\"></a>\n",
    "### A. Hexbin Chart\n",
    "The following example is a hexbin chart of income verses home value, which is similar to the scatter chart we plotted earlier in this session. For the scatter plot, we only plotted 100 randomly selected data points, even though the dataframe has over 20,000 rows. We did this because plotting too many points would result in points being plotted over each other and result in a messy-looking chart. The hexbin chart shows how many data points are within each hexagon, with darker colors indicating more points. With a hexbin chart there is no need to take a randoms sample of the data -- we can see all of it."
   ]
  },
  {
   "cell_type": "code",
   "execution_count": null,
   "id": "3d75dcab",
   "metadata": {},
   "outputs": [],
   "source": [
    "house.plot.hexbin(x=\"median_income\", y=\"median_house_value\",\n",
    "                       figsize=(8, 6), gridsize=50, sharex=False)\n",
    "plt.title(\"Median Income vs. Home Value\")\n",
    "plt.xlabel(\"Median Income\\n(Units of $10,000)\")\n",
    "plt.ylabel(\"Median Home Value ($)\")\n",
    "plt.show()"
   ]
  },
  {
   "cell_type": "markdown",
   "id": "3aeef5f1",
   "metadata": {
    "tiedown.cell_index": "cid56"
   },
   "source": [
    "<a name=\"cid56\"></a>\n",
    "### B. Boxplot Charts\n",
    "Boxplots are an excellent way to show how the range of values of a metric. In the next cell we'll use Pandas's `.boxplot()` method to show how home values vary by proximity to the ocean."
   ]
  },
  {
   "cell_type": "code",
   "execution_count": null,
   "id": "8afbdb5c",
   "metadata": {},
   "outputs": [],
   "source": [
    "house.boxplot(column=\"median_house_value\", by=\"ocean_proximity\", figsize=(8, 6),\n",
    "             sym=\".\")\n",
    "plt.ylabel(\"Median Home Value ($)\")\n",
    "plt.show()"
   ]
  },
  {
   "cell_type": "markdown",
   "id": "2df7a650",
   "metadata": {
    "tiedown.cell_index": "cid57"
   },
   "source": [
    "<a name=\"cid57\"></a>\n",
    "* The central line within each box represents the median home value.\n",
    "* The top and bottom lines in each box represent the third quartile (25% of values are larger than the third quartile) and first quartile (25% of values are smaller than the first quartile).\n",
    "* The distance between the top and bottom of the box is called the inter-quartile range.\n",
    "* Values that are greater than 1.5 times the inter-quartile range above the third quartile, or 1.5 times the inter-quartile range below the first quartile, are outliers.\n",
    "* The vertical lines show the values that are below the first quartile or above the third quartile that are not considered outliers.\n",
    "* Outliers are individually plotted with small black circles."
   ]
  },
  {
   "cell_type": "markdown",
   "id": "33e16adc",
   "metadata": {
    "tiedown.cell_index": "cid58"
   },
   "source": [
    "<a name=\"cid58\"></a>\n",
    "#### 1. Robotics Histogram\n",
    "Using the `matches` dataframe, Create a histogram of red and blue alliance scores."
   ]
  },
  {
   "cell_type": "code",
   "execution_count": null,
   "id": "831e0b65",
   "metadata": {},
   "outputs": [],
   "source": [
    "# Robotics Histogram\n"
   ]
  },
  {
   "cell_type": "markdown",
   "id": "1fc9c697",
   "metadata": {
    "tiedown.cell_index": "cid59"
   },
   "source": [
    "<a name=\"cid59\"></a>\n",
    "## X. Layering Charts\n",
    "Charts can become very informative when we add different layers of data to the same plot. For example, suppose we were interested in the relationship btween median income and home value."
   ]
  },
  {
   "cell_type": "code",
   "execution_count": null,
   "id": "7de6176c",
   "metadata": {},
   "outputs": [],
   "source": [
    "# Get the intercept and slope of the line that best fits the data\n",
    "intercept, slope = np.polynomial.polynomial.polyfit(\n",
    "    house.median_income,\n",
    "    house.median_house_value,\n",
    "    1)\n",
    "\n",
    "# Calculate the lines endpoints\n",
    "incomes = np.array([min(house.median_income), max(house.median_income)])\n",
    "values = intercept + slope * incomes"
   ]
  },
  {
   "cell_type": "markdown",
   "id": "88593154",
   "metadata": {
    "tiedown.cell_index": "cid60"
   },
   "source": [
    "<a name=\"cid60\"></a>\n",
    "The preceding cell calculated the line that best fits all of the data (minizes the square of the errors)."
   ]
  },
  {
   "cell_type": "code",
   "execution_count": null,
   "id": "e688f6a3",
   "metadata": {},
   "outputs": [],
   "source": [
    "house.plot.hexbin(x=\"median_income\", y=\"median_house_value\",\n",
    "                       figsize=(8, 6), gridsize=50, sharex=False)\n",
    "# Add the best fit line\n",
    "plt.plot(incomes, values, color=\"magenta\")\n",
    "plt.title(\"Median Income vs. Home Value\")\n",
    "plt.xlabel(\"Median Income\\n(Units of $10,000)\")\n",
    "plt.ylabel(\"Median Home Value ($)\")\n",
    "plt.show()"
   ]
  },
  {
   "cell_type": "markdown",
   "id": "fcdc6bd7",
   "metadata": {
    "tiedown.cell_index": "cid61"
   },
   "source": [
    "<a name=\"cid61\"></a>\n",
    "Now we can see both the distribution of the data and the trend line on the same plot. But we are not limited to just two items on the plot, we could add additional lines and points if desired."
   ]
  },
  {
   "cell_type": "markdown",
   "id": "4cf46cf9",
   "metadata": {
    "tiedown.cell_index": "cid62"
   },
   "source": [
    "<a name=\"cid62\"></a>\n",
    "#### 1. Best Fit Line\n",
    "Add a best fit line to the the scatter-plot version of the income-home-value chart in section IV.B."
   ]
  },
  {
   "cell_type": "code",
   "execution_count": null,
   "id": "82280be6",
   "metadata": {},
   "outputs": [],
   "source": [
    "# Best Fit Line\n"
   ]
  },
  {
   "cell_type": "markdown",
   "id": "e87c9593",
   "metadata": {
    "tiedown.cell_index": "cid63"
   },
   "source": [
    "<a name=\"cid63\"></a>\n",
    "## XI. Interactive Charts\n",
    "All of our charts so far have been static. No manipulation or interaction is possible once the chart is displayed. Using static charts is a good choice when exploring a new dataset because the code for the charts is simpler and less temperamental.\n",
    "\n",
    "On the other hand, interactive charts can be fun and useful. Matplotlib can display interactive charts. This session contains two additional notebooks that provide examples of interactive charts. We're using separate notebooks for for these demonstrations because static and interactive charts do not play well together in the same notebook.\n",
    "* [Embedding Interactive Charts in a Notebook](interactive_matplotlib_jupyter.ipynb)\n",
    "* [Displaying Interactive Charts in Separate Windows](interactive_matplotlib_qt.ipynb)"
   ]
  },
  {
   "cell_type": "markdown",
   "id": "dbb59824",
   "metadata": {
    "tiedown.cell_index": "cid64"
   },
   "source": [
    "<a name=\"cid64\"></a>\n",
    "## XII. Other Plotting Packages\n",
    "There are numerous Python data visualization packages. Here are two that are worth checking out."
   ]
  },
  {
   "cell_type": "markdown",
   "id": "462b1533",
   "metadata": {
    "tiedown.cell_index": "cid65"
   },
   "source": [
    "<a name=\"cid65\"></a>\n",
    "### A. Seaborn\n",
    "[Seaborn](https://seaborn.pydata.org/examples/index.html) is a Python plotting package built on top of Matplotlib. It allows users to create good-looking plots with fewer lines of code. Matplotlib commands are required to customize Seaborn plots."
   ]
  },
  {
   "cell_type": "markdown",
   "id": "c1aa604c",
   "metadata": {
    "tiedown.cell_index": "cid66"
   },
   "source": [
    "<a name=\"cid66\"></a>\n",
    "### B. Bokeh\n",
    "[Bokeh](https://docs.bokeh.org/en/latest/docs/gallery.html) is a Python plotting package that excels in creating interactive plots. Bokeh does *not* use Matplotlib. The FRC 1318 scouting system uses Bokeh to provide visualizations because of its interactive capabilities. [Bokeh will be convered in the next lesson.]"
   ]
  },
  {
   "cell_type": "markdown",
   "id": "6a3332c6",
   "metadata": {
    "tiedown.cell_index": "cid67"
   },
   "source": [
    "<a name=\"cid67\"></a>\n",
    "## XIII. Quiz"
   ]
  },
  {
   "cell_type": "markdown",
   "id": "a59ddce2",
   "metadata": {
    "tiedown.cell_index": "cid68"
   },
   "source": [
    "<a name=\"cid68\"></a>\n",
    "#### 1. Question #1\n",
    "Which of the following is a Matplotlib object that represents a single chart, for example, a scatter plot with both an x and y axis?\n",
    "\n",
    "    A. Figure\n",
    "    B. Axis\n",
    "    C. Axes\n",
    "    D. Tick\n",
    "    E. Border"
   ]
  },
  {
   "cell_type": "code",
   "execution_count": null,
   "id": "e3915cba",
   "metadata": {},
   "outputs": [],
   "source": [
    "#1"
   ]
  },
  {
   "cell_type": "markdown",
   "id": "65f0c92d",
   "metadata": {
    "tiedown.cell_index": "cid69"
   },
   "source": [
    "<a name=\"cid69\"></a>\n",
    "#### 2. Question #2\n",
    "Which of the following is a Matplotlib object that would be used to represent a chart's x or y axis?\n",
    "\n",
    "    A. Figure\n",
    "    B. Axis\n",
    "    C. Axes\n",
    "    D. Tick\n",
    "    E. Border"
   ]
  },
  {
   "cell_type": "code",
   "execution_count": null,
   "id": "4f3088f8",
   "metadata": {},
   "outputs": [],
   "source": [
    "#2\n"
   ]
  },
  {
   "cell_type": "markdown",
   "id": "883375a0",
   "metadata": {
    "tiedown.cell_index": "cid70"
   },
   "source": [
    "<a name=\"cid70\"></a>\n",
    "#### 3. Question #3\n",
    "Which of the following is a Matplotlib object that would be used to represent the entire plot object, which could consist of one or more charts?\n",
    "\n",
    "    A. Figure\n",
    "    B. Axis\n",
    "    C. Axes\n",
    "    D. Tick\n",
    "    E. Border"
   ]
  },
  {
   "cell_type": "code",
   "execution_count": null,
   "id": "b7440484",
   "metadata": {},
   "outputs": [],
   "source": [
    "#3\n"
   ]
  },
  {
   "cell_type": "markdown",
   "id": "a6b6cd0b",
   "metadata": {
    "tiedown.cell_index": "cid71"
   },
   "source": [
    "<a name=\"cid71\"></a>\n",
    "#### 4. Question #4\n",
    "Section VII included examples of both grouped and stacked bar charts. Which chart to you prefer and why? In what situations is the stacked chart preferred? In what situations is the grouped chart preferred?"
   ]
  },
  {
   "cell_type": "code",
   "execution_count": null,
   "id": "87c14aac",
   "metadata": {},
   "outputs": [],
   "source": [
    "#4\n"
   ]
  },
  {
   "cell_type": "markdown",
   "id": "856d9a24",
   "metadata": {
    "tiedown.cell_index": "cid72"
   },
   "source": [
    "<a name=\"cid72\"></a>\n",
    "#### 5. Question #5\n",
    "In the box plot in section VIII.B, which group of homes had the highest minimum value? Which group had the smallest inter-quartile range?"
   ]
  },
  {
   "cell_type": "code",
   "execution_count": null,
   "id": "ee9e5c83",
   "metadata": {},
   "outputs": [],
   "source": [
    "#5\n"
   ]
  },
  {
   "cell_type": "markdown",
   "id": "2475a498",
   "metadata": {
    "tiedown.cell_index": "cid73"
   },
   "source": [
    "<a name=\"cid73\"></a>\n",
    "#### 6. Question #6\n",
    "In section IX we saw this line of code:\n",
    "```python\n",
    "values = intercept + slope * incomes\n",
    "```\n",
    "\n",
    "The variable `values` has type `numpy.ndarray`. Why? What data types are `intercept`, `slope`, and `incomes`?"
   ]
  },
  {
   "cell_type": "code",
   "execution_count": null,
   "id": "46fb4492",
   "metadata": {},
   "outputs": [],
   "source": [
    "#6\n"
   ]
  },
  {
   "cell_type": "markdown",
   "id": "e3a23dc3",
   "metadata": {
    "tiedown.cell_index": "cid74"
   },
   "source": [
    "<a name=\"cid74\"></a>\n",
    "## XIV. Save Your Work\n",
    "Once you have completed the exercises, save a copy of the notebook outside of the git repository (outside of the *pyclass_frc* folder). Include your name in the file name. Follow instructions from your instructor to get feedback on your work."
   ]
  },
  {
   "cell_type": "markdown",
   "id": "9994e1c0",
   "metadata": {
    "tiedown.cell_index": "cid75"
   },
   "source": [
    "<a name=\"cid75\"></a>\n",
    "## XV. Concept and Terminology Review\n",
    "You should be able to define the following terms or describe the concept.\n",
    "* Scatter plots\n",
    "* Bar charts\n",
    "* Grouped bar charts\n",
    "* Stacked bar charts\n",
    "* Histograms\n",
    "* Box plots\n",
    "* Hexbin charts\n",
    "* `numpy.arange()`\n",
    "* `numpy.linspace()`\n",
    "* Method chaining\n",
    "* `matplotlib.pyplot` syntax\n",
    "* Matplotlib object-oriented syntax\n",
    "* Matplotlib magic commands (inline, widget, qt5)"
   ]
  },
  {
   "cell_type": "markdown",
   "id": "ba2f1f27",
   "metadata": {
    "tiedown.cell_index": "cid76"
   },
   "source": [
    "<a name=\"cid76\"></a>\n",
    "[Table of Contents](../../index.ipynb)"
   ]
  },
  {
   "cell_type": "markdown",
   "id": "6d6e118c-eef8-4c5d-ae5f-482ab439dbc4",
   "metadata": {
    "tiedown.cell_index": "cid77"
   },
   "source": [
    "<a name=\"cid77\"></a>\n",
    "Prev: [Tabular Data](../08_tabular_data/tabular_data.ipynb) | [Table of Contents](../toc.ipynb) | Next: [Data Visualization with Bokeh](../10_visualization_bokeh/bokeh.ipynb)"
   ]
  }
 ],
 "metadata": {
  "kernelspec": {
   "display_name": "Python 3 (ipykernel)",
   "language": "python",
   "name": "python3"
  },
  "tiedown.toc_index": 8
 },
 "nbformat": 4,
 "nbformat_minor": 5
}
