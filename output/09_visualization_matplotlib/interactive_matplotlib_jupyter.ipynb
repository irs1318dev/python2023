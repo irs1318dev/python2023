{
 "cells": [
  {
   "cell_type": "markdown",
   "id": "1783cff3-7acc-4f5a-b85b-a0f26b1c5b0e",
   "metadata": {
    "tiedown.cell_index": "cid1"
   },
   "source": [
    "<a name=\"cid1\"></a>\n",
    "Prev:  | [Table of Contents](../toc.ipynb) | Next:"
   ]
  },
  {
   "cell_type": "markdown",
   "id": "1ef9e0a0",
   "metadata": {
    "tiedown.cell_index": "cid2"
   },
   "source": [
    "<a name=\"cid2\"></a>\n",
    "# Interactive Charts with Matplotlib\n",
    "The previous notebook included the magic command `%matplotlib inline`, which caused the Matplotlib charts to be displayed as static images, with no interactive features. This notebook demonstrates how to embed interactive plots in a jupyter notebook.\n",
    "\n",
    "**The code in this notebook works only in Jupyter *Lab*. The charts will not display if running the notebook Google Colab or Jupyter *Notebook*.**"
   ]
  },
  {
   "cell_type": "markdown",
   "id": "9e8ca0cd",
   "metadata": {
    "tiedown.cell_index": "cid3"
   },
   "source": [
    "<a name=\"cid3\"></a>\n",
    "## I. Notebook Setup\n",
    "### A. If Running this Notebook on Google Colab\n",
    "Run the next two cells to download data files and confgure output behavior on Google Colab."
   ]
  },
  {
   "cell_type": "code",
   "execution_count": null,
   "id": "cbe314b9",
   "metadata": {},
   "outputs": [],
   "source": [
    "!wget -nv https://raw.githubusercontent.com/irs1318dev/python2023/main/output/09_visualization_matplotlib/get_files.sh\n",
    "!bash get_files.sh"
   ]
  },
  {
   "cell_type": "code",
   "execution_count": null,
   "id": "d9c0944f",
   "metadata": {},
   "outputs": [],
   "source": [
    "from google.colab import output\n",
    "output.enable_custom_widget_manager()"
   ]
  },
  {
   "cell_type": "markdown",
   "id": "a6b5fc71",
   "metadata": {
    "tiedown.cell_index": "cid4"
   },
   "source": [
    "<a name=\"cid4\"></a>\n",
    "## II. Setting Interactive Mode\n",
    "Matplotlib can create charts with some interactive features if we use the `%matplotlib widget` magic command. The following cell includes the necessary imports. It is identical to the imports in the session 11 notebook, except for the `%matplotlib widget` magic command."
   ]
  },
  {
   "cell_type": "code",
   "execution_count": null,
   "id": "bb0211f0",
   "metadata": {},
   "outputs": [],
   "source": [
    "# Importing Matplotlib\n",
    "import matplotlib.pyplot as plt   # line 1\n",
    "import matplotlib                 # line 2\n",
    "\n",
    "# Other packages used in this session\n",
    "import numpy as np\n",
    "import pandas as pd\n",
    "\n",
    "%matplotlib widget"
   ]
  },
  {
   "cell_type": "markdown",
   "id": "0158792c",
   "metadata": {
    "tiedown.cell_index": "cid5"
   },
   "source": [
    "<a name=\"cid5\"></a>\n",
    "## III. An Interactive Chart\n",
    "The following code recreates the hexbin chart of housing value vs. income in interactive mode."
   ]
  },
  {
   "cell_type": "code",
   "execution_count": null,
   "id": "222e0a8b",
   "metadata": {},
   "outputs": [],
   "source": [
    "house = pd.read_csv(\"housing.csv\")\n",
    "house.plot.hexbin(x=\"median_income\", y=\"median_house_value\",\n",
    "                       figsize=(8, 6), gridsize=50, sharex=False)\n",
    "plt.title(\"Median Income vs. Home Value\")\n",
    "plt.xlabel(\"Median Income\\n(Units of $10,000)\")\n",
    "plt.ylabel(\"Median Home Value ($)\")\n",
    "plt.show()"
   ]
  },
  {
   "cell_type": "markdown",
   "id": "cfcb46a0",
   "metadata": {
    "tiedown.cell_index": "cid6"
   },
   "source": [
    "<a name=\"cid6\"></a>\n",
    "### A. The Interactive Toolbar\n",
    "Click on the buttons in the toolbar on the upper left to experiment with the interactive features.\n",
    "* **Hamburger Buttom:** The top toolbar button collapses or expands the menu.\n",
    "* **Home Button:** Returns the plot to the initial view\n",
    "* **Arrow Buttons:** Moves to previous or subsequent chart views. Works like forward and back buttons on a browser.\n",
    "* **Pan Button:** Activates the panning tool\n",
    "* **Zoom In Button:** Activates the Zoom Tool. Click and drag a box on the chart to zoom into that box.\n",
    "* **Save Button:** Downloads the current view of the chart as a *.png* file.\n",
    "\n",
    "There is yet another cool feature: the x and y coordinates of the mouse cursor are displayed when the cursor is inside the chart boundaries."
   ]
  },
  {
   "cell_type": "markdown",
   "id": "151130e6",
   "metadata": {
    "tiedown.cell_index": "cid7"
   },
   "source": [
    "<a name=\"cid7\"></a>\n",
    "### B. The Code\n",
    "We used a couple tricks to make the Pandas plotting functions work with interactive charts.\n",
    "* We're using the object-oriented plotting syntax, which starts with using `pyplot.subplots()` to get a `Figure` and `Axes` object.\n",
    "* We passed the `Axes` object that was returned by `pyplot.subplots()` (stored in the `axes` variable) to Pandas's `.hexbin()` method via the `ax` parameter. This tells Pandas to plot the data on the existing `Axes` object and figure instead of creating it's own `Axes` object.\n",
    "* The `fig.tightlayout()` method call has nothing to do with interactivity -- it keeps our axis labels from getting clipped by the edges of the plot."
   ]
  },
  {
   "cell_type": "markdown",
   "id": "6d6e118c-eef8-4c5d-ae5f-482ab439dbc4",
   "metadata": {
    "tiedown.cell_index": "cid8"
   },
   "source": [
    "<a name=\"cid8\"></a>\n",
    "Prev:  | [Table of Contents](../toc.ipynb) | Next:"
   ]
  }
 ],
 "metadata": {
  "kernelspec": {
   "display_name": "Python 3 (ipykernel)",
   "language": "python",
   "name": "python3"
  }
 },
 "nbformat": 4,
 "nbformat_minor": 5
}
