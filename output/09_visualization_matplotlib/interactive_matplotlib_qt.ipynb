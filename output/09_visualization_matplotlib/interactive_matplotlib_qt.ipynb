{
 "cells": [
  {
   "cell_type": "markdown",
   "id": "1783cff3-7acc-4f5a-b85b-a0f26b1c5b0e",
   "metadata": {
    "tiedown.cell_index": "cid1"
   },
   "source": [
    "<a name=\"cid1\"></a>\n",
    "Prev: [Interactive Charts with Matplotlib](interactive_matplotlib_jupyter.ipynb) | [Table of Contents](../toc.ipynb) | Next: [Data Visualization with MatPlotlib](matplotlib.ipynb)"
   ]
  },
  {
   "cell_type": "markdown",
   "id": "c3647a8c",
   "metadata": {
    "tiedown.cell_index": "cid2"
   },
   "source": [
    "<a name=\"cid2\"></a>\n",
    "# Interactive Charts with Matplotlib and the QT5 Backend\n",
    "There are many ways to display charts with Matplotlib. Session 11.1 demonstrated how to display non-interactive charts in a notebook. Session 11.2 demonstrated how to display interactive charts within Jupyter Lab. This notebook demonstrates how to display charts in pop-up windows. This technique will work both in *Jupyter Lab* and in *Jupyter Notebook*."
   ]
  },
  {
   "cell_type": "markdown",
   "id": "b4a27745",
   "metadata": {
    "tiedown.cell_index": "cid3"
   },
   "source": [
    "<a name=\"cid3\"></a>\n",
    "## I. Setting the Display Mode\n",
    "Use the `%matplotlib qt5` magic command."
   ]
  },
  {
   "cell_type": "code",
   "execution_count": null,
   "id": "5ef76dce",
   "metadata": {},
   "outputs": [],
   "source": [
    "# Importing Matplotlib\n",
    "import matplotlib.pyplot as plt   # line 1\n",
    "import matplotlib                 # line 2\n",
    "\n",
    "# Other packages used in this session\n",
    "import numpy as np\n",
    "import pandas as pd\n",
    "\n",
    "# Display interactive charts in popup windows\n",
    "%matplotlib qt5  "
   ]
  },
  {
   "cell_type": "markdown",
   "id": "537108f6",
   "metadata": {
    "tiedown.cell_index": "cid4"
   },
   "source": [
    "<a name=\"cid4\"></a>\n",
    "## II. An Interactive Chart\n",
    "The following code cell, which is identical to the code in notebook 11.2, should cause a new window to pop up on your computer. The chart will be displayed in this new window."
   ]
  },
  {
   "cell_type": "code",
   "execution_count": null,
   "id": "5313273a",
   "metadata": {},
   "outputs": [],
   "source": [
    "house = pd.read_csv(\"housing.csv\")\n",
    "\n",
    "fig, axes = plt.subplots()\n",
    "fig.set_size_inches(6, 4.5)\n",
    "house.plot.hexbin(x=\"median_income\", y=\"median_house_value\", ax=axes)\n",
    "axes.set_title(\"Median Income vs. Home Value\")\n",
    "axes.set_xlabel(\"Median Income\\n(Units of $10,000)\")\n",
    "axes.set_ylabel(\"Median Home Value ($)\")\n",
    "fig.tight_layout()\n",
    "plt.show()"
   ]
  },
  {
   "cell_type": "markdown",
   "id": "5c4fda4b",
   "metadata": {
    "tiedown.cell_index": "cid5"
   },
   "source": [
    "<a name=\"cid5\"></a>\n",
    "The new window should look like this:  \n",
    "![QT Popup Chart Window](qt_chart_example.png)"
   ]
  },
  {
   "cell_type": "markdown",
   "id": "5f7a8cdd",
   "metadata": {
    "tiedown.cell_index": "cid6"
   },
   "source": [
    "<a name=\"cid6\"></a>\n",
    "Try out the toolbar buttons to see what they do (in the popup window, not the static screencaptue in this notebook). The toolbar provides many different options for customizing the chart."
   ]
  },
  {
   "cell_type": "markdown",
   "id": "6d6e118c-eef8-4c5d-ae5f-482ab439dbc4",
   "metadata": {
    "tiedown.cell_index": "cid7"
   },
   "source": [
    "<a name=\"cid7\"></a>\n",
    "Prev: [Interactive Charts with Matplotlib](interactive_matplotlib_jupyter.ipynb) | [Table of Contents](../toc.ipynb) | Next: [Data Visualization with MatPlotlib](matplotlib.ipynb)"
   ]
  }
 ],
 "metadata": {
  "kernelspec": {
   "display_name": "Python 3 (ipykernel)",
   "language": "python",
   "name": "python3"
  },
  "tiedown.toc_index": 9
 },
 "nbformat": 4,
 "nbformat_minor": 5
}
