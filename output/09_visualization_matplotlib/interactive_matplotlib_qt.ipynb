{
 "cells": [
  {
   "cell_type": "markdown",
   "id": "1783cff3-7acc-4f5a-b85b-a0f26b1c5b0e",
   "metadata": {
    "tiedown.cell_index": "cid1"
   },
   "source": [
    "<a name=\"cid1\"></a>\n",
    "Prev:  | [Table of Contents](../toc.ipynb) | Next:"
   ]
  },
  {
   "cell_type": "markdown",
   "id": "2a4d83f5",
   "metadata": {
    "tiedown.cell_index": "cid2"
   },
   "source": [
    "<a name=\"cid2\"></a>\n",
    "# Interactive Charts with Matplotlib and the QT5 Backend\n",
    "TThis notebook demonstrates how to display interactive Matplotlib charts in pop-up windows using Matplotlib's *qt5* backend. The *qt5* backend works in Jupyter notebooks, but **it will not work on Google Colab.**"
   ]
  },
  {
   "cell_type": "markdown",
   "id": "a6778b02",
   "metadata": {
    "tiedown.cell_index": "cid3"
   },
   "source": [
    "<a name=\"cid3\"></a>\n",
    "## I. Notebook Setup\n",
    "Run appropriate cell below to download the *housing.csv* file, which is required to create our chart."
   ]
  },
  {
   "cell_type": "code",
   "execution_count": null,
   "id": "dd1766e9",
   "metadata": {},
   "outputs": [],
   "source": [
    "# Run this cell for Linux and MacOS\n",
    "! wget -nv https://raw.githubusercontent.com/irs1318dev/python2023/main/output/09_visualization_matplotlib/housing.csv"
   ]
  },
  {
   "cell_type": "code",
   "execution_count": null,
   "id": "4131b39e",
   "metadata": {},
   "outputs": [],
   "source": [
    "# Run this cell for Windows\n",
    "!powershell wget -Uri https://raw.githubusercontent.com/irs1318dev/python2023/main/output/09_visualization_matplotlib/housing.csv -Outfile housing.csv"
   ]
  },
  {
   "cell_type": "markdown",
   "id": "f86d963d",
   "metadata": {
    "tiedown.cell_index": "cid4"
   },
   "source": [
    "<a name=\"cid4\"></a>\n",
    "## II. Setting the Display Mode\n",
    "Use the `%matplotlib qt5` magic command to set the QT backend."
   ]
  },
  {
   "cell_type": "code",
   "execution_count": null,
   "id": "10988714",
   "metadata": {},
   "outputs": [],
   "source": [
    "# Importing Matplotlib\n",
    "import matplotlib.pyplot as plt   # line 1\n",
    "import matplotlib                 # line 2\n",
    "\n",
    "# Other packages used in this session\n",
    "import numpy as np\n",
    "import pandas as pd\n",
    "\n",
    "# Display interactive charts in popup windows\n",
    "%matplotlib qt"
   ]
  },
  {
   "cell_type": "markdown",
   "id": "cac3de2d",
   "metadata": {
    "tiedown.cell_index": "cid5"
   },
   "source": [
    "<a name=\"cid5\"></a>\n",
    "## III. An Interactive Chart\n",
    "The following code cell, which is identical to the code in notebook 11.2, should cause a new window to pop up on your computer. The chart will be displayed in this new window."
   ]
  },
  {
   "cell_type": "code",
   "execution_count": null,
   "id": "cacd7089",
   "metadata": {},
   "outputs": [],
   "source": [
    "house = pd.read_csv(\"housing.csv\")\n",
    "\n",
    "fig, axes = plt.subplots()\n",
    "fig.set_size_inches(6, 4.5)\n",
    "house.plot.hexbin(x=\"median_income\", y=\"median_house_value\", ax=axes)\n",
    "axes.set_title(\"Median Income vs. Home Value\")\n",
    "axes.set_xlabel(\"Median Income\\n(Units of $10,000)\")\n",
    "axes.set_ylabel(\"Median Home Value ($)\")\n",
    "fig.tight_layout()\n",
    "plt.show()"
   ]
  },
  {
   "cell_type": "markdown",
   "id": "ad3af3ab",
   "metadata": {
    "tiedown.cell_index": "cid6"
   },
   "source": [
    "<a name=\"cid6\"></a>\n",
    "The new window should look like this:  \n",
    "![QT Popup Chart Window](qt_chart_example.png)"
   ]
  },
  {
   "cell_type": "markdown",
   "id": "91e7af79",
   "metadata": {
    "tiedown.cell_index": "cid7"
   },
   "source": [
    "<a name=\"cid7\"></a>\n",
    "Try out the toolbar buttons to see what they do (in the popup window, not the static screencaptue in this notebook). The toolbar provides many different options for customizing the chart."
   ]
  },
  {
   "cell_type": "markdown",
   "id": "6d6e118c-eef8-4c5d-ae5f-482ab439dbc4",
   "metadata": {
    "tiedown.cell_index": "cid8"
   },
   "source": [
    "<a name=\"cid8\"></a>\n",
    "Prev:  | [Table of Contents](../toc.ipynb) | Next:"
   ]
  }
 ],
 "metadata": {
  "kernelspec": {
   "display_name": "Python 3 (ipykernel)",
   "language": "python",
   "name": "python3"
  }
 },
 "nbformat": 4,
 "nbformat_minor": 5
}
