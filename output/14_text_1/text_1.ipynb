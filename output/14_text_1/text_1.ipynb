{
 "cells": [
  {
   "cell_type": "markdown",
   "id": "1783cff3-7acc-4f5a-b85b-a0f26b1c5b0e",
   "metadata": {
    "tiedown.cell_index": "cid1"
   },
   "source": [
    "<a name=\"cid1\"></a>\n",
    "Prev: [Python Modules and Import Statments](../13_modules/modules.ipynb) | [Table of Contents](../toc.ipynb) | Next:"
   ]
  },
  {
   "cell_type": "markdown",
   "id": "1f0d0313",
   "metadata": {
    "tiedown.cell_index": "cid2"
   },
   "source": [
    "<a name=\"cid2\"></a>\n",
    "# Working with Text, Part I\n",
    "\n",
    "## I. Introduction\n",
    "Modern programming languages have many tools and techniques for working with textual data. That's a good thing, because textual data is everywhere. We'll cover string literals, concatenation, formatting, text encoding, and string methods in this session. In the next session (Part II), we'll cover regular expressions and tools for manipulating text in Pandas dataframes."
   ]
  },
  {
   "cell_type": "markdown",
   "id": "47aa07f2",
   "metadata": {
    "tiedown.cell_index": "cid3"
   },
   "source": [
    "<a name=\"cid3\"></a>\n",
    "## II. String Literals\n",
    "\n",
    "### A. This is Literally a Review of Literal Strings\n",
    "By now, you should be proficient with using single or double quotation marks to create a string literal."
   ]
  },
  {
   "cell_type": "code",
   "execution_count": null,
   "id": "87c0b204",
   "metadata": {},
   "outputs": [],
   "source": [
    "print(\"This string uses double quotes.\")\n",
    "print('And this string uses single quotes.')"
   ]
  },
  {
   "cell_type": "markdown",
   "id": "f54e4f59",
   "metadata": {
    "tiedown.cell_index": "cid4"
   },
   "source": [
    "<a name=\"cid4\"></a>\n",
    "Here is what the [Google Python Style Guide](https://google.github.io/styleguide/pyguide.html#s3.10-strings) says about using single or double quotes for stings:\n",
    "> Be consistent with your choice of string quote character within a file. Pick ' or \" and stick with it. It is okay to use the other quote character on a string to avoid the need to \\\\ escape within the string.\n",
    "\n",
    "Furthermore, if you are working on a group programming project, choose which style you will use as a group, and everyone should stick to it.\n",
    "\n",
    "### B. Multi-Line Strings\n",
    "There is a third type of literal string called a mult-line string. See the example below:"
   ]
  },
  {
   "cell_type": "code",
   "execution_count": null,
   "id": "00fdb962",
   "metadata": {},
   "outputs": [],
   "source": [
    "# Multi-line String cell #1\n",
    "print(\"\"\"\n",
    "  My brother built a robot \n",
    "that does not exactly work, \n",
    "as soon as it was finished, \n",
    "it began to go berserk, \n",
    "its eyes grew incandescent \n",
    "and its nose appeared to gleam, \n",
    "it bellowed unbenignly \n",
    "and its ears emitted steam. \n",
    "\"\"\")\n",
    "# First verse of the poem My Brother Built a Robot by Jack Prelutsky"
   ]
  },
  {
   "cell_type": "markdown",
   "id": "cf37ad20",
   "metadata": {
    "tiedown.cell_index": "cid5"
   },
   "source": [
    "<a name=\"cid5\"></a>\n",
    "The multi-line string preserves all spaces and line breaks. Multi-line strings can also be created with single quotes, but that practice is discouraged."
   ]
  },
  {
   "cell_type": "code",
   "execution_count": null,
   "id": "3b4b97bd",
   "metadata": {},
   "outputs": [],
   "source": [
    "# Multi-line String cell #2\n",
    "def single_quoted_multiline():\n",
    "    print('''\n",
    "      Please dont use\n",
    "          single quotes to\n",
    "              create a multi-line\n",
    "                  string.''')\n",
    "    \n",
    "single_quoted_multiline()"
   ]
  },
  {
   "cell_type": "markdown",
   "id": "c638d046",
   "metadata": {
    "tiedown.cell_index": "cid6"
   },
   "source": [
    "<a name=\"cid6\"></a>\n",
    "Look carefully at the horizontal alignment of the output for *Multi-line String cell #1* and *Multi-line String cell #2*. See how the output of cell #2 starts farther to the right than cell #1? This is becuase the multi-line string includes the spaces used for indentation within the function. If you don't want the lines to be indented, do this:"
   ]
  },
  {
   "cell_type": "code",
   "execution_count": null,
   "id": "f6473790",
   "metadata": {},
   "outputs": [],
   "source": [
    "def wrong_way():\n",
    "    print(\"\"\"This technique\n",
    "for avoiding leading spaces at\n",
    "the beginning of mult-line strings\n",
    "works, but it looks ugly because\n",
    "it does not comply with Python rules\n",
    "for indentation. Try not to do this.\"\"\")\n",
    "    \n",
    "import textwrap    \n",
    "\n",
    "def using_dedent():\n",
    "    long_string = textwrap.dedent(\"\"\"\\\n",
    "        The textwrap module contains\n",
    "        several useful functions for manipulating strings. Check\n",
    "        it out in the documentation for the Python Standard\n",
    "        Library!\"\"\")\n",
    "    return long_string\n",
    "    \n",
    "print(using_dedent())"
   ]
  },
  {
   "cell_type": "markdown",
   "id": "d857afe5",
   "metadata": {
    "tiedown.cell_index": "cid7"
   },
   "source": [
    "<a name=\"cid7\"></a>\n",
    "The `dedent()` function in the [Standard Library's *textwrap* module](https://docs.python.org/3/library/textwrap.html) removes common leading whitespace from the beginning of each line. By *common*, we mean that the function only works if each line has the exact same amount of leading whitespace. The backslash at the beginning of the string prevents a blank line from being printed."
   ]
  },
  {
   "cell_type": "markdown",
   "id": "e16c7711",
   "metadata": {
    "tiedown.cell_index": "cid8"
   },
   "source": [
    "<a name=\"cid8\"></a>\n",
    "## III. There's no Escaping Escape Sequences\n",
    "Strings can contain sequences of characters with special meaning, called escape sequences. We'll cover the following escape sequences:\n",
    "* Quotation Marks `\\'` and `\\\"`\n",
    "* Newline character: `\\n`\n",
    "* Horizontal tab character: `\\t`\n",
    "* Backslash: `\\\\`\n",
    "\n",
    "Escape sequences occur in several programming langauges, including Python, Java, and C++."
   ]
  },
  {
   "cell_type": "markdown",
   "id": "0c78d74b",
   "metadata": {
    "tiedown.cell_index": "cid9"
   },
   "source": [
    "<a name=\"cid9\"></a>\n",
    "### A. Escaping Quotation Marks\n",
    "We use single quotes (') and double quotes (\") to delimit literal strings. There are a couple techniques we can use if we want our string to include quotation marks."
   ]
  },
  {
   "cell_type": "code",
   "execution_count": null,
   "id": "128bc444",
   "metadata": {},
   "outputs": [],
   "source": [
    "# Option 1: Use double quotes for strings with single quotes and vice versa\n",
    "scott_adams_quote = [\n",
    "    \"Normal people believe that if it ain’t broke, don’t fix it.\",\n",
    "    \"Engineers believe that if it ain’t broke, it doesn’t have enough features yet.\"]\n",
    "\n",
    "radio_quote = 'Reginald went on to ask \"Is it snowing where you are, Mr. Thiessen?\"'"
   ]
  },
  {
   "cell_type": "markdown",
   "id": "cde7abb2",
   "metadata": {
    "tiedown.cell_index": "cid10"
   },
   "source": [
    "<a name=\"cid10\"></a>\n",
    "If your text includes both single or double quotes, use the corresponding escape seqence."
   ]
  },
  {
   "cell_type": "code",
   "execution_count": null,
   "id": "de5533e4",
   "metadata": {},
   "outputs": [],
   "source": [
    "# Example of an escape sequence for a single quote.\n",
    "print('Chief Brody said \"You\\'re going to need a bigger boat.\"')"
   ]
  },
  {
   "cell_type": "markdown",
   "id": "3b7e9c78",
   "metadata": {
    "tiedown.cell_index": "cid11"
   },
   "source": [
    "<a name=\"cid11\"></a>\n",
    "### B. Newline Sequence\n",
    "We can cause a string to print on more than one line by inserting a newline character. We insert a newline character with a newline escape sequence."
   ]
  },
  {
   "cell_type": "code",
   "execution_count": null,
   "id": "261138cb",
   "metadata": {},
   "outputs": [],
   "source": [
    "multi_line_string = \"This is line 1.\\nThis is line 2.\"\n",
    "multi_line_string"
   ]
  },
  {
   "cell_type": "markdown",
   "id": "5f8ef333",
   "metadata": {
    "tiedown.cell_index": "cid12"
   },
   "source": [
    "<a name=\"cid12\"></a>\n",
    "So far, the results are not very impressive. The notebook is just displaying the newline character in the string. The outcome is better if we pass the string to the `print()` function."
   ]
  },
  {
   "cell_type": "code",
   "execution_count": null,
   "id": "b3e66d3f",
   "metadata": {},
   "outputs": [],
   "source": [
    "print(multi_line_string)"
   ]
  },
  {
   "cell_type": "markdown",
   "id": "611a30ff",
   "metadata": {
    "tiedown.cell_index": "cid13"
   },
   "source": [
    "<a name=\"cid13\"></a>\n",
    "Here is another example of newline sequences. Do note that escape sequences use the *back* slash, which should be above your keyboard's ENTER key. The *forward* slash (below the question mark) won't work."
   ]
  },
  {
   "cell_type": "code",
   "execution_count": null,
   "id": "fb327b6b",
   "metadata": {},
   "outputs": [],
   "source": [
    "robot_poem_verse2 = (\n",
    "    \"My brother built that robot\\n\"\n",
    "    \"to help us clean our room,\\n\"\n",
    "    \"instead, it ate the dust pan\\n\"\n",
    "    \"and attacked us with the broom,\\n\"\n",
    "    \"it pulled apart our pillows,\\n\"\n",
    "    \"it disheveled both our beds,\\n\"\n",
    "    \"it took a box of crayons\\n\"\n",
    "    \"and it doodled on our heads.\\n\"\n",
    ")\n",
    "print(robot_poem_verse2)"
   ]
  },
  {
   "cell_type": "markdown",
   "id": "49447375",
   "metadata": {
    "tiedown.cell_index": "cid14"
   },
   "source": [
    "<a name=\"cid14\"></a>\n",
    "The example above demonstrates a couple other useful techniques:\n",
    "* Parentheses allow us to split long Python statements onto several lines. The result looks much nicer than long lines that require horizontal scrolling!\n",
    "* We can join string literals in Python into a longer string by just typing them next to each other, with whitespace in between. This only works with string *literals*. If you try to join a literal string and a variable containing a string using this syntax, you'll get an error."
   ]
  },
  {
   "cell_type": "code",
   "execution_count": null,
   "id": "03fb9874",
   "metadata": {},
   "outputs": [],
   "source": [
    "# Causes an error\n",
    "\n",
    "print(multi_line_string \"\\nThis is line 3.\")"
   ]
  },
  {
   "cell_type": "markdown",
   "id": "8d29c47d",
   "metadata": {
    "tiedown.cell_index": "cid15"
   },
   "source": [
    "<a name=\"cid15\"></a>\n",
    "### C. Horizontal Tab\n",
    "The horizontal tab sequence, `\\t`, helps us indent or align text."
   ]
  },
  {
   "cell_type": "code",
   "execution_count": null,
   "id": "b4b57326",
   "metadata": {},
   "outputs": [],
   "source": [
    "print(\"Team Number\\t\", \"Team Name\\t\\t\", \"Rookie Year\")\n",
    "print(\"360\\t\\t\", \"The Revolution\\t\\t\", \"2000\")\n",
    "print(\"488\\t\\t\", \"Team XBot\\t\\t\", \"2000\")\n",
    "print(\"492\\t\\t\", \"Titan Robotics Club\\t\", \"2001\")\n",
    "print(\"568\\t\\t\", \"Nerds of the North\\t\", \"2001\")"
   ]
  },
  {
   "cell_type": "markdown",
   "id": "543243fc",
   "metadata": {
    "tiedown.cell_index": "cid16"
   },
   "source": [
    "<a name=\"cid16\"></a>\n",
    "The first text to be displayed after a horizontal tab escape sequence (`\\t`) will be placed at the next tab stop. On most systems the tab stops are about eight characters apart.\n",
    "\n",
    "The concept of a tab stop comes from manual typewriters. If you wanted to type a document with data in columns, you would place metal clips onto a tab bar within the typewriter. The position of the clip corresponded to a horizontal position on the page. When you hit the tab key on the typewriter, the typewriter carriage would slide to the left until it hit the mechanical tab stop. The tab stops are visible in the image below - they are the dark grey rectangular clips.\n",
    "\n",
    "![Tab Stops2](images/tab_stops2.jpg)"
   ]
  },
  {
   "cell_type": "markdown",
   "id": "eb1e48c8",
   "metadata": {
    "tiedown.cell_index": "cid17"
   },
   "source": [
    "<a name=\"cid17\"></a>\n",
    "### D. Back Slash\n",
    "If you want your string to include a back slash, you need to escape it with a backslash."
   ]
  },
  {
   "cell_type": "code",
   "execution_count": null,
   "id": "8bbe8704",
   "metadata": {},
   "outputs": [],
   "source": [
    "print(\"This string contains a backslash: \\\\\")"
   ]
  },
  {
   "cell_type": "markdown",
   "id": "09afa787",
   "metadata": {
    "tiedown.cell_index": "cid18"
   },
   "source": [
    "<a name=\"cid18\"></a>\n",
    "### E. Raw Strings\n",
    "If you have a string that contains a lot of back slashes, it's often easier to use a raw string instead of escaping all of the back slashes. Raw strings are created by prepending a literal string with 'r'. The catch is that escape sequences don't work in a raw string."
   ]
  },
  {
   "cell_type": "code",
   "execution_count": null,
   "id": "4e3866ca",
   "metadata": {},
   "outputs": [],
   "source": [
    "# Raw Strings\n",
    "print(r\"This is a raw string. None of these escapse sequences work: \\n \\t \\\\\")"
   ]
  },
  {
   "cell_type": "markdown",
   "id": "a33486d3",
   "metadata": {
    "tiedown.cell_index": "cid19"
   },
   "source": [
    "<a name=\"cid19\"></a>\n",
    "### F. Exercises\n",
    "#### 1. Escape Sequences\n",
    "Use escape sequences to create a string that looks like this when it's printed:\n",
    "```\n",
    "/\\\n",
    "\\/  /\\\n",
    "\t\\/\n",
    "```\n",
    "Don't use a multi-line string. The string should only contain escape sequences and slashes (\"/\", \"\\\\\")."
   ]
  },
  {
   "cell_type": "code",
   "execution_count": null,
   "id": "41b1406a",
   "metadata": {},
   "outputs": [],
   "source": [
    "# Exercise III.1\n",
    "# Replace the empty string per the exercise instructions\n",
    "ex1_string = \"\" \n",
    "print(ex1_string)"
   ]
  },
  {
   "cell_type": "markdown",
   "id": "0d5e6cc9",
   "metadata": {
    "tiedown.cell_index": "cid20"
   },
   "source": [
    "<a name=\"cid20\"></a>\n",
    "## IV. Concatenating Strings and Variables\n",
    "Concatenating is a fancy word for sticking two things together, and it is often used in programming to refer to the act of making a larger string out of two or more smaller strings. There are several ways to assemble larger strings from smaller strings, including the plus (`+`) operator, the `print()` function, the `.join()` method"
   ]
  },
  {
   "cell_type": "markdown",
   "id": "2e50e1e3",
   "metadata": {
    "tiedown.cell_index": "cid21"
   },
   "source": [
    "<a name=\"cid21\"></a>\n",
    "### A. Concatenating with the `print()` Function\n",
    "The print function can be used to convert all of its arguments to strings and concatenate them. By default, each argument is separated by a space."
   ]
  },
  {
   "cell_type": "code",
   "execution_count": null,
   "id": "e1fb7f48",
   "metadata": {},
   "outputs": [],
   "source": [
    "# Joining strings with `+`\n",
    "name = \"George Washington Carver\"\n",
    "year = \"1864\"\n",
    "\n",
    "print(name, \"was born in\", year, \".\")"
   ]
  },
  {
   "cell_type": "markdown",
   "id": "b00f4a67",
   "metadata": {
    "tiedown.cell_index": "cid22"
   },
   "source": [
    "<a name=\"cid22\"></a>\n",
    "The `print()` function takes two named parameters `sep` and `end`. We can use these named parameters to change the `print()` function's behavior.\n",
    "\n",
    "The `sep` parameter specifies which character is used to separate the arguments that are passed to the `print()` function. For example, the following code separates items in the print statement with a hyphen:"
   ]
  },
  {
   "cell_type": "code",
   "execution_count": null,
   "id": "06f0c0fd",
   "metadata": {},
   "outputs": [],
   "source": [
    "# Specifying a different separator\n",
    "print(1, 2, 3, 4, 5, sep=\"-\")"
   ]
  },
  {
   "cell_type": "markdown",
   "id": "ac0d5d58",
   "metadata": {
    "tiedown.cell_index": "cid23"
   },
   "source": [
    "<a name=\"cid23\"></a>\n",
    "Or we could print each element on a separate line."
   ]
  },
  {
   "cell_type": "code",
   "execution_count": null,
   "id": "2309e242",
   "metadata": {},
   "outputs": [],
   "source": [
    "# Printing each argument on a different line\n",
    "print(1, 2, 3, 4, 5, sep=\"\\n\")"
   ]
  },
  {
   "cell_type": "markdown",
   "id": "65a344d4",
   "metadata": {
    "tiedown.cell_index": "cid24"
   },
   "source": [
    "<a name=\"cid24\"></a>\n",
    "The `end` parameter specifies what character is placed at the end of the `print()` function's output."
   ]
  },
  {
   "cell_type": "code",
   "execution_count": null,
   "id": "dbea23f5",
   "metadata": {},
   "outputs": [],
   "source": [
    "print(1, 2, 3, 4, 5, end=\": And that's all there is!\")"
   ]
  },
  {
   "cell_type": "markdown",
   "id": "2f97532e",
   "metadata": {
    "tiedown.cell_index": "cid25"
   },
   "source": [
    "<a name=\"cid25\"></a>\n",
    "Setting `end` to a space allows successive print statements to all print on the same line."
   ]
  },
  {
   "cell_type": "code",
   "execution_count": null,
   "id": "81fc3712",
   "metadata": {},
   "outputs": [],
   "source": [
    "print(1, end = \" \")\n",
    "print(2, end = \" \")\n",
    "print(3, end = \" \")\n",
    "print(4, end = \" \")\n",
    "print(5, end = \" \")"
   ]
  },
  {
   "cell_type": "markdown",
   "id": "694cad43",
   "metadata": {
    "tiedown.cell_index": "cid26"
   },
   "source": [
    "<a name=\"cid26\"></a>\n",
    "Using the `print()` function to join strings has a significant shortcoming. The strings can only be sent to standard output. They cannot be saved to a variable. Check out the code below."
   ]
  },
  {
   "cell_type": "code",
   "execution_count": null,
   "id": "d324e5e4",
   "metadata": {},
   "outputs": [],
   "source": [
    "string_var = print(name, \"was born in\", year, \".\")\n",
    "print(string_var)"
   ]
  },
  {
   "cell_type": "markdown",
   "id": "e51833a4",
   "metadata": {
    "tiedown.cell_index": "cid27"
   },
   "source": [
    "<a name=\"cid27\"></a>\n",
    "When we try to print `string_var`, all we see is the value `None`. This is because the `print()` function does not return the string that it creates. It returns the `None` value instead. We'll need to use other techniques if we want to save a concatenated string to a variable"
   ]
  },
  {
   "cell_type": "markdown",
   "id": "066117ad",
   "metadata": {
    "tiedown.cell_index": "cid28"
   },
   "source": [
    "<a name=\"cid28\"></a>\n",
    "### B. The `+` Operator\n",
    "First, we'll review how to use the plus (`+`) operator."
   ]
  },
  {
   "cell_type": "code",
   "execution_count": null,
   "id": "d9851e85",
   "metadata": {},
   "outputs": [],
   "source": [
    "# Joining strings with `+`\n",
    "name = \"Gladys West\"\n",
    "year = \"1930\"\n",
    "\n",
    "statement = name + \" was born in \" + year + \".\"\n",
    "print(statement)"
   ]
  },
  {
   "cell_type": "markdown",
   "id": "5953b98a",
   "metadata": {
    "tiedown.cell_index": "cid29"
   },
   "source": [
    "<a name=\"cid29\"></a>\n",
    "Note that the `+` operator only works if both of it's operands (i.e., the items on either side of the `+`) are strings. The following statement resuls in an error -- can you see why?"
   ]
  },
  {
   "cell_type": "code",
   "execution_count": null,
   "id": "0c74d09c",
   "metadata": {},
   "outputs": [],
   "source": [
    "# Joining strings with `+`\n",
    "name = \"Satyendra Nath Bose\"\n",
    "year = 1894\n",
    "\n",
    "statement = name + \" was born in \" + year + \".\"\n",
    "print(statement)"
   ]
  },
  {
   "cell_type": "markdown",
   "id": "adc15920",
   "metadata": {
    "tiedown.cell_index": "cid30"
   },
   "source": [
    "<a name=\"cid30\"></a>\n",
    "The `+` operator behaves differently depending on the data type of its operands. If both operands are numeric, it adds both operands and returns the sum. If both operands are stings, it creates a longer string by joining both strings. But if one operand is numeric and one is a string, the `+` operator doesn't know what you want to do, so it throws an error."
   ]
  },
  {
   "cell_type": "markdown",
   "id": "d9aa8d28",
   "metadata": {
    "tiedown.cell_index": "cid31"
   },
   "source": [
    "<a name=\"cid31\"></a>\n",
    "### C. F-Strings and the `.format()` Method\n",
    "Assembling strings from multiple substrings with the `+` operator can get tedious. For Python version 3.8 or later, F-strings can be used to concatenate multiple values into a string, with less hassle.\n",
    "\n",
    "Python 3.8 was released in October 2019. First, let's verify our Python version is at least 3.8."
   ]
  },
  {
   "cell_type": "code",
   "execution_count": null,
   "id": "f334ad9a",
   "metadata": {},
   "outputs": [],
   "source": [
    "import sys\n",
    "\n",
    "# Verify Python version \n",
    "print(sys.version)"
   ]
  },
  {
   "cell_type": "markdown",
   "id": "4df87e20",
   "metadata": {
    "tiedown.cell_index": "cid32"
   },
   "source": [
    "<a name=\"cid32\"></a>\n",
    "Now let's check out our first F-string."
   ]
  },
  {
   "cell_type": "code",
   "execution_count": null,
   "id": "8e73f0ed",
   "metadata": {},
   "outputs": [],
   "source": [
    "import math\n",
    "\n",
    "# F-String example\n",
    "num = 2\n",
    "f\"The square root of {num} is {math.sqrt(num)}.\""
   ]
  },
  {
   "cell_type": "markdown",
   "id": "ef123bce",
   "metadata": {
    "tiedown.cell_index": "cid33"
   },
   "source": [
    "<a name=\"cid33\"></a>\n",
    "F-strings are created by prepending a literal string with the letter `f`. The curly braces and everything inside them are called replacement fields. The text inside the replacement fields are interpreted as Python code. In the previous example, the value of the variable `num` was converted to a string and inserted into the string. In the second replacement field we calculated the square root of 2.\n",
    "\n",
    "F-strings work with double quotes, single quotes, and multi-line strings.\n",
    "\n",
    "But what if you are using an earlier version of Python? Or you just don't like adding an `f` to the front of your strings? In that case, use the string object's `.format()` method."
   ]
  },
  {
   "cell_type": "code",
   "execution_count": null,
   "id": "2c5e8610",
   "metadata": {},
   "outputs": [],
   "source": [
    "# .format() method\n",
    "\"The square root of {} is {}\".format(num, math.sqrt(num))"
   ]
  },
  {
   "cell_type": "markdown",
   "id": "cdea674b",
   "metadata": {
    "tiedown.cell_index": "cid34"
   },
   "source": [
    "<a name=\"cid34\"></a>\n",
    "When using the `.format()` method, you create replacement fields by entering pairs of curly braces in the string, and then call the `.format()` method on the string literal. The arguments that are passed to the `.format()` method are inserted into the replacement fields, with the first argument being placed in the first replacement field, the second argument in the second field, etc.\n",
    "\n",
    "The `.format()` method also supports named replacement fields, where the name within the curly braces corresponds to a named argument passed to the `.format()` method. When using named replacement fields, the order of arguments to the `.format()` method does not matter."
   ]
  },
  {
   "cell_type": "code",
   "execution_count": null,
   "id": "8b5a0083",
   "metadata": {},
   "outputs": [],
   "source": [
    "# Using .format() with named arguments\n",
    "\"The square root of {num} is {sqrt}\".format(sqrt=math.sqrt(3), num=3)"
   ]
  },
  {
   "cell_type": "markdown",
   "id": "3ba289e1",
   "metadata": {
    "tiedown.cell_index": "cid35"
   },
   "source": [
    "<a name=\"cid35\"></a>\n",
    "F-strings provide numerous formatting options. For example, suppose we only want four significant digits in the square root value, and we want the number 2 to be padded with zeros so it always fills three spaces:"
   ]
  },
  {
   "cell_type": "code",
   "execution_count": null,
   "id": "6cf50426",
   "metadata": {},
   "outputs": [],
   "source": [
    "f\"The square root of {num:03} is {math.sqrt(2):.3f}.\""
   ]
  },
  {
   "cell_type": "markdown",
   "id": "a6e1d52e",
   "metadata": {
    "tiedown.cell_index": "cid36"
   },
   "source": [
    "<a name=\"cid36\"></a>\n",
    "In the replacement fields, everything after the colon is part of the format specification, or format_spec for short. In the first field, the format_spec `03` specifies that the number should take up at least three characters and be padded with zeros if the number is less than three characters. The second format_spec `.3f` indicates that there should be three digits to the right of the decimal and that the number should be formatted as a fixed point value.\n",
    "\n",
    "There are numerous options for format_specs. The official reference is here: https://docs.python.org/3/library/string.html#formatspec. Additional guidance is avaialable at https://www.w3schools.com/python/ref_string_format.asp and https://realpython.com/python-formatted-output/#f-string-formatting.\n",
    "\n",
    "Here are some additional examples of format specifications."
   ]
  },
  {
   "cell_type": "code",
   "execution_count": null,
   "id": "f774dcb8",
   "metadata": {},
   "outputs": [],
   "source": [
    "# Scientific Notation: 'E' is for scientific notation\n",
    "team_num = 1318\n",
    "print(f\"{team_num} in scientific notation is {team_num:.3E}\")\n",
    "\n",
    "# Use a comma as a digits separator\n",
    "print()\n",
    "print(f\"Our team number squared is: {1318**2:,}\")\n",
    "\n",
    "# Display a number as binary, octal, or hexadecimal\n",
    "print(f\"\"\"\n",
    "Team number: \\t\\t\\t 1318\n",
    "Binary team number: \\t\\t {1318:b}\n",
    "Octal team number: \\t\\t {1318:o}\n",
    "Hexadecimal team number: \\t {1318:x}\n",
    "\"\"\")\n",
    "\n",
    "# Aligning and Padding Strings\n",
    "# '>' means right-align, '^' means center\n",
    "#   (and '<' means left align, but it's not used in this example)\n",
    "# The number to the right of '>' or '^' specifies the width of the field.\n",
    "# The character to the left of '^' specifies what character to use to pad\n",
    "#   the field. The default is a blank space.\n",
    "print()\n",
    "teams = [(\"Team #\", \"Team Name\"), (492, \"Nerds of the North\"), (1318, \"The Issaquah Robotics Society\"),\n",
    "         (2046, \"Bear Metal\"), (4131, \"Iron Patriouts\")]\n",
    "for team in teams:\n",
    "    print(f\"{team[0]:>6}\\t\\t{team[1]:_^32}\")"
   ]
  },
  {
   "cell_type": "markdown",
   "id": "909040ff",
   "metadata": {
    "tiedown.cell_index": "cid37"
   },
   "source": [
    "<a name=\"cid37\"></a>\n",
    "### D. The `.join()` Method\n",
    "\n",
    "Suppose you need to incrementally build a string in steps. You might be tempted to write code that looks like this:"
   ]
  },
  {
   "cell_type": "code",
   "execution_count": null,
   "id": "dea76dc0",
   "metadata": {},
   "outputs": [],
   "source": [
    "the_Count = \"\"\n",
    "for idx in range(1, 4):\n",
    "    the_Count = the_Count + str(idx) + \" cookies, ah ah ahhhhh!\\n\"\n",
    "\n",
    "print(the_Count)"
   ]
  },
  {
   "cell_type": "markdown",
   "id": "0772d702",
   "metadata": {
    "tiedown.cell_index": "cid38"
   },
   "source": [
    "<a name=\"cid38\"></a>\n",
    "Using a for loop to build a string like this works fine, a long as our strings are short and there are not a huge number of iterations in our loop. The problem with this approach is that strings are immutable. What's actually happeninig is that every time we go through the loop, Python has to throw away the string currently stored in `the_Count` and allocate memory for a completely new string. It's as if you are assigned to write a term paper. You won't be able to write it all in one sitting because it's a long paper. After you write the first few paragraphs, instead of saving the document, you print it out and then delete the document file. The next time you sit down to work on the term paper, you use the hardcopy to re-type everything you've written so far, and only after that do you start composing new paragraphs. As you can see, this is very inefficient. \n",
    "\n",
    "Even though a for loop will work fine for most of our robotics projects, knowledgeable programmers who review your code will notice, and we all want to make a good impression!\n",
    "\n",
    "The `.join()` method can help us out in this situation."
   ]
  },
  {
   "cell_type": "code",
   "execution_count": null,
   "id": "89d92bf3",
   "metadata": {},
   "outputs": [],
   "source": [
    "# Create list of strings\n",
    "str_list = [str(idx) + \" cookies, ah ah ahhhhh!\" for idx in range(1, 4)]\n",
    "print(\"List of Strings\")\n",
    "print(str_list)\n",
    "\n",
    "# Use .join() to create one string from entire list\n",
    "print()\n",
    "print(\"Joined Strings\")\n",
    "print(\"\\n\".join(str_list))"
   ]
  },
  {
   "cell_type": "markdown",
   "id": "f895c557",
   "metadata": {
    "tiedown.cell_index": "cid39"
   },
   "source": [
    "<a name=\"cid39\"></a>\n",
    "The `.join()` method takes a list of strings as an argument. You call the `.join()` method on the string that you will use to separate the individual substrings from the list. IN the previous example, we called the `.join()` method on a string containing the newline escape sequence, which caused each list element to be printed on a new line. This does some a bit backwards - calling `.join()` on the list and passing the separator string seems more natural, but would be problematic since lists can contain any type of object, not just strings.\n",
    "\n",
    "The `.join()` method is more efficient because it only creates a new string once. It's as if, for your term paper, you wrote and saved each section in it's own file, and then copied the contents of each file into the final document just once, after all sections were written.\n",
    "\n",
    "Here are examples of using `.join()` with different separators."
   ]
  },
  {
   "cell_type": "code",
   "execution_count": null,
   "id": "54ff67d9",
   "metadata": {},
   "outputs": [],
   "source": [
    "# No seperation between list elements\n",
    "print(\"\".join([str(i) for i in range(5)]))\n",
    "\n",
    "# Separate list elements with a space\n",
    "print(\" \".join([str(i) for i in range(5)]))\n",
    "\n",
    "# Separate list elements with a space\n",
    "print(\" and a \".join([str(i) for i in range(1, 5)]))"
   ]
  },
  {
   "cell_type": "markdown",
   "id": "99ad4d94",
   "metadata": {
    "tiedown.cell_index": "cid40"
   },
   "source": [
    "<a name=\"cid40\"></a>\n",
    "### E. The `%` Operator\n",
    "Python provides an older technique for string formatting that uses the `%` operator and is similar to what's used in the C language. The mentor thinks it's better to use F strings or the `.format()` method to format strings, but you might see the `%` operator technique if you are studying other people's code (which is a great way to learn!). We'll dicuss it briefly so you'll know what it is if you see it."
   ]
  },
  {
   "cell_type": "code",
   "execution_count": null,
   "id": "30f31b51",
   "metadata": {},
   "outputs": [],
   "source": [
    "ai_researcher = \"Cynthia Breazeal\"\n",
    "birth_year = 1967\n",
    "\n",
    "print(\"%s was born in %d.\" % (ai_researcher, birth_year))"
   ]
  },
  {
   "cell_type": "markdown",
   "id": "cc6dd345",
   "metadata": {
    "tiedown.cell_index": "cid41"
   },
   "source": [
    "<a name=\"cid41\"></a>\n",
    "In this type of string formatting, replacement fields are denoted by a percent sign followed by the letter s, d, f, or x.\n",
    "* `%s` is for string values\n",
    "* `%d` is for integers\n",
    "* `%f` is for floating point numbers\n",
    "* `%.<number of digits>f` is for floating point numbers with a fixed number of digits\n",
    "* `%x` and `%X` are for integers in hexadecimal representation\n",
    "\n",
    "The format string is followed by the `%` operator, which is followed by a tuple of values. The length, order, and datatypes of the tuple must match the replacement fields in the format string."
   ]
  },
  {
   "cell_type": "markdown",
   "id": "fa52a96f",
   "metadata": {
    "tiedown.cell_index": "cid42"
   },
   "source": [
    "<a name=\"cid42\"></a>\n",
    "### F. Exercises\n",
    "#### 1. Table of Integers\n",
    "Use a for-loop, F-strings, and a print statement to create a table of integers from 1 to 10 and their natural logarithms.\n",
    "* Use the format string and escape sequences to create the columns. Each call to `print()` should have only one argument.\n",
    "* The first column will contain the integers.\n",
    "* The second column will contain the square roots. \n",
    "* Each logarithm should have 3 digits to the right of the decimal place, even if it's an integer.\n",
    "* There is a function to calculate logarithms in the standard library's *math* module."
   ]
  },
  {
   "cell_type": "code",
   "execution_count": null,
   "id": "a9284a1d",
   "metadata": {},
   "outputs": [],
   "source": [
    "# Ex IV.1\n",
    "\n"
   ]
  },
  {
   "cell_type": "markdown",
   "id": "00a414bb",
   "metadata": {
    "tiedown.cell_index": "cid43"
   },
   "source": [
    "<a name=\"cid43\"></a>\n",
    "**Ex IV.2:** Repeat exercise IV.1, but use the `.format()` method instead of an F-string."
   ]
  },
  {
   "cell_type": "code",
   "execution_count": null,
   "id": "8fef3dd6",
   "metadata": {},
   "outputs": [],
   "source": [
    "# Ex IV.2\n",
    "\n"
   ]
  },
  {
   "cell_type": "markdown",
   "id": "599e6f1b",
   "metadata": {
    "tiedown.cell_index": "cid44"
   },
   "source": [
    "<a name=\"cid44\"></a>\n",
    "**Ex IV.3:** Use the `.join()` method and list comprehensions to convert the `teams` data to a comma separated value string.\n",
    "* First, call `.join()` within a list comprehension to create a list of strings, where each string consists of the items in the tuple joined with a comma.\n",
    "* Pass the list created with the list comprehension to `.join()` again to join the strings with newline characters.\n",
    "\n",
    "The result should look like this:\n",
    "`'Team #,Team Name\\n492,Nerds of the North\\n1318,The Issaquah Robotics Society\\n2046,Bear Metal\\n4131,Iron Patriots'`"
   ]
  },
  {
   "cell_type": "code",
   "execution_count": null,
   "id": "eeda6db6",
   "metadata": {},
   "outputs": [],
   "source": [
    "# Ex IV.3\n",
    "teams = [(\"Team #\", \"Team Name\"), (\"492\", \"Nerds of the North\"), (\"1318\", \"The Issaquah Robotics Society\"),\n",
    "         (\"2046\", \"Bear Metal\"), (\"4131\", \"Iron Patriots\")]\n",
    "\n"
   ]
  },
  {
   "cell_type": "markdown",
   "id": "3ca6c2ca",
   "metadata": {
    "tiedown.cell_index": "cid45"
   },
   "source": [
    "<a name=\"cid45\"></a>\n",
    "**Ex IV.4:** Use a for loop and F-strings to print the first 5 rows of star data in tabular format.\n",
    "* Pad each column with spaces so it's the same width.\n",
    "* Right justify all numeric columns.\n",
    "* Center all categorical columns.\n",
    "* Remember what the `<`, `^`, and `>` characters do in the format_spec. Here is a link to the documentation: https://docs.python.org/3/library/string.html#format-specification-mini-language"
   ]
  },
  {
   "cell_type": "code",
   "execution_count": null,
   "id": "b73e4e01",
   "metadata": {},
   "outputs": [],
   "source": [
    "# Ex IV.4, run cell to get star classification data\n",
    "import csv\n",
    "with open(\"data/stars.csv\", \"rt\") as sfile:\n",
    "    stars = list(csv.DictReader(sfile))\n",
    "\n",
    "print(\"Number of stars:\", len(stars))\n",
    "stars[:2]"
   ]
  },
  {
   "cell_type": "code",
   "execution_count": null,
   "id": "dfb42641",
   "metadata": {},
   "outputs": [],
   "source": [
    "# Ex IV.5 Place your code in this cell\n",
    "\n"
   ]
  },
  {
   "cell_type": "markdown",
   "id": "b25de971",
   "metadata": {
    "tiedown.cell_index": "cid46"
   },
   "source": [
    "<a name=\"cid46\"></a>\n",
    "## V. Text Encoding (Optional)\n",
    "This section is optional. It contains information that advanced programmers need to know.\n",
    "\n",
    "Let's take a break from Python (mostly) and discuss how textual information is stored on files and in computer memory. The act of converting text to a binary format that can be stored by a computer is called encoding, and decoding happens when you convert the binary information back into text. You don't have to think about encoding or decoding for most programming tasks. But problems with encoding do pop up ocassionally, so it's good to know at least a bit about this topic.\n",
    "\n",
    "But text encoding won't make sense until we understand how integers are stored in memory. We'll cover text encoding after we address integers."
   ]
  },
  {
   "cell_type": "markdown",
   "id": "624241bd",
   "metadata": {
    "tiedown.cell_index": "cid47"
   },
   "source": [
    "<a name=\"cid47\"></a>\n",
    "### A. Integer Representations: Binary to Hexadecimal\n",
    "The most common methods for expressing integers when programming are decimal, binary, octal, and hexadecimal.\n",
    "\n",
    "#### 1. Decimal\n",
    "Decimal is simply the base 10 numbering system that we've all been using since kindergarten. 0, 1, 2, 3, 4, 5, 6, 7, 8, 9, 10, 11, ... you get the idea.\n",
    "\n",
    "#### 2. Binary\n",
    "Understanding binary notation is useful because internally, all data in computer memory, and in the processor, and on the hard drive, etc., is represented in a binary format. A single digit in binary, either a 0 or a 1, is physically manifested in RAM with a transistor and a capacitor. When the capacitor is charged up, that means the memory cell is storing a 1. If the capacitor is discharged, that means the memory cell is storing a zero. This is an over-simplification, but it's still a useful mental model.\n",
    "\n",
    "If we were to count from zero to seven in binary, it would look like this: 000, 001, 010, 011, 100, 101, 110, 111. We don't generally write out binary numbers in our code because long binary numbers are difficult for us humans to interpret. Binary numbers are worthy of attention because they help us understand what's happening under the hood.\n",
    "\n",
    "If you must convert a decimal number to binary, Python can do that for you. You can use the built-in `bin()` function, or a format_spec ending in `b`."
   ]
  },
  {
   "cell_type": "code",
   "execution_count": null,
   "id": "4909c8af",
   "metadata": {},
   "outputs": [],
   "source": [
    "# Printing Binary Number with the bin() function\n",
    "print(\"Decimal 5 in binary:\\t\", bin(5))\n",
    "\n",
    "# Using a format specification\n",
    "print(f\"{5:b}\")\n",
    "\n",
    "# Binary int literals start with `0b`\n",
    "print(0b1001)\n",
    "\n",
    "# Convert binary string to decimal integer\n",
    "int('1001', 2)"
   ]
  },
  {
   "cell_type": "markdown",
   "id": "40e01d87",
   "metadata": {
    "tiedown.cell_index": "cid48"
   },
   "source": [
    "<a name=\"cid48\"></a>\n",
    "#### 3. Octal\n",
    "Octal refers to a numbering system that uses only the digits 0 through 7 (base 8). Counting to ten in octal looks like this: 0, 1, 2, 3, 4, 5, 6, 7, 10, 11, 12 (if you see an 8 or a 9 digit, you know it's not octal). Octal was commonly used in the 1960s because 6-bit, 12-bit, 24-bit, and 36-bit architectures were common. When we say a computer uses an n-bit architecture, we're saying that the computer's processor is able to store and manipulate n-bit numbers. So if we say a computer has a 12-bit architecture, we're saying that the processor can store, add, divide, and do other operations on 12-bit chunks of data. If the 12-bit chunk of data were to represent an integer, then the processor would be able to handle unsigned integers up to $2^{12} - 1$, or up to 4095. Octal numbers require three bits per digit, so octal representations worked well for these architectures, which all use multiples of three bits.\n",
    "\n",
    "Starting in the 1960s, architectures that use multiples of eight bits became commonplace. So octal numbers are not frequently used. Nevertheless, Python can work with octal numbers."
   ]
  },
  {
   "cell_type": "code",
   "execution_count": null,
   "id": "2e42ae33",
   "metadata": {},
   "outputs": [],
   "source": [
    "# Printing an octal number with the oct() function\n",
    "print(oct(9))\n",
    "\n",
    "# Using a format specification\n",
    "print(f\"{10:o}\")\n",
    "\n",
    "# Binary int literals start with `0o` (zero-Oh)\n",
    "print(0o20)\n",
    "\n",
    "# Convert octalstring to decimal integer\n",
    "int('20', 8)"
   ]
  },
  {
   "cell_type": "markdown",
   "id": "8f84e2ad",
   "metadata": {
    "tiedown.cell_index": "cid49"
   },
   "source": [
    "<a name=\"cid49\"></a>\n",
    "#### 4. Hexadecimal\n",
    "We discussed binary numbers because understanding binary representations of data is necessary to understand how computers work. We discussed octal numbers because references to octal numbers appear in documentation for programming languages. We've finally progressed to discussing hexadecimal numbers. Hexadecimal numbers are used frequently in computer programming, so being able to use and interpret hexadecimal numbers is useful.\n",
    "\n",
    "Hexadecimal numbers are base 16, meaning sixteen different symbols are used to represent an integer. Since we only have ten digits in our traditional number system, hexadecimal numbers use the letters A through F in addition to the digits zero through nine. Counting to twenty in hexadecimal looks like this: 1, 2, 3, 4, 5, 6, 7, 8, 9, A, B, C, D, E, F, 10, 11, 12, 13, 14. In hexadecimal, A is decimal 10, B is decimal 11, F is decimal 15, 10 is the decimal 16, and 100 is the $16^2$, or 256.\n",
    "\n",
    "Python supports hexadecimal similarly to how it supports octal and binary."
   ]
  },
  {
   "cell_type": "code",
   "execution_count": null,
   "id": "b306dfca",
   "metadata": {},
   "outputs": [],
   "source": [
    "# Printing a hexadecimal number with the hex() function\n",
    "print(hex(255))\n",
    "\n",
    "# Using a format specification\n",
    "print(f\"{255:x}\")\n",
    "\n",
    "# Hexadecimal int literals start with `0x` (zero-Oh)\n",
    "print(0xff)\n",
    "\n",
    "# Convert hex string to decimal integer\n",
    "int('ff', 16)"
   ]
  },
  {
   "cell_type": "markdown",
   "id": "fbdb88d7",
   "metadata": {
    "tiedown.cell_index": "cid50"
   },
   "source": [
    "<a name=\"cid50\"></a>\n",
    "There are good reasons why computer programmers use a wacky number system like hexadecimal. Modern computer systems process data in multiples of eight bits, or one byte. One byte can represent the numbers zero through $2^8 - 1 = 255$. The number 255 in hexadecimal is FF. Two hexadecimal digits can perfectly represent the contents of a byte in memory. Typical computers use a 64-bit architecture, which is eight bytes. The contents of an eight-byte value can be perfectly represented by sixteen hexadecimal digits.\n",
    "\n",
    "It's pretty easy to convert from binary to hexadecimal and back. Review the following example and see if you can guess how to convert between binary and hexadecimal."
   ]
  },
  {
   "cell_type": "code",
   "execution_count": null,
   "id": "4b87672a",
   "metadata": {},
   "outputs": [],
   "source": [
    "# Converting between hexadecimal and binary\n",
    "print(f\"Decimal 100 in hexadecimal notation:\\t\\t\\t{100:x}\")\n",
    "print()\n",
    "print(f\"Hexadecimal 6 in binary, padded to 4 digits:\\t\\t{0x6:04b}\")\n",
    "print(f\"Hexadecimal 4 in binary, padded to 4 digits:\\t\\t{0x4:04b}\")\n",
    "print()\n",
    "print(f\"Concatenated binary representations for 0x6 and 0x4:\\t{0x6:04b}{0x4:04b}\")\n",
    "print(f\"Decimal 100 in binary, padded to 8 digits:\\t\\t{100:08b}\")"
   ]
  },
  {
   "cell_type": "markdown",
   "id": "ea836455",
   "metadata": {
    "tiedown.cell_index": "cid51"
   },
   "source": [
    "<a name=\"cid51\"></a>\n",
    "As you may have guessed by reviewing the preceding example, to convert from binary to hexadecimal:\n",
    "1. Split the binary number into chunks of four bits, starting from the least significant bit on the right. Add 0s to the left side of the number as needed to get to a multiple of four bits.\n",
    "2. For each chunk of four bits, determine the numeric value of the 4-bit chunk, ignoring it's position within the overall binary number and ignoring all other 4-bit chunks. For example, the numeric value of 0001 is 1, 1000 is 8, 1110 is E and 1111 is F, regardless of where the 4-bit chunk occurs within the larger binary number.\n",
    "3. Replace the chunk with the single hexadecimal digit that corresponds to the value of the 4-bit chunk.\n",
    "\n",
    "To convert from hexadecimal to binary, just replace each hexadecimal digit with it's four-digit binary equivalent. For example, to convert hex 8A to binary, first consider that 8 in hex is 1000 in binary and A is 1010 in binary. Therefore 8A is 10001010 in binary.\n",
    "\n",
    "In the preceding example, we split the binary number 01100100 into two chunks of 0110 and 0100. The chunk 0100 is 6 in hexadecimal and 0100 is 4. Therefore 64 in hex = 01100100 in binary.\n",
    "\n",
    "To convert hexadecimal to decimal, determine the position p of each digit, with the rightmost digit starting at position 0. Multiply each digit by $16^p$ and sum the results. For example, to convert 64 in hex to decimal, multiply 6 times 16 and add 4: $6 \\times 16^1 + 4*16^0 = 96 + 4 = 100$"
   ]
  },
  {
   "cell_type": "markdown",
   "id": "1eb133e8",
   "metadata": {
    "tiedown.cell_index": "cid52"
   },
   "source": [
    "<a name=\"cid52\"></a>\n",
    "There are many situations where hexadecimal is useful. For example:\n",
    "* Hexadecimal codes are used to show extended characters and symbols that are not available on a typical keyboard. We'll cover this in more detail in the Unicode section of this notebook.\n",
    "* Colors are frequently specified using hexadecimal notation. <span style=\"color:#b7a57a;background-color:#4b2e83\">For example, the six-digit hex numbers b7a57a and 4b2e83 both represent colors that can be used on the web.</span>\n",
    "* If you were to inspect the raw contents of a binary file, like a JPEG image file, the contents would be displayed in a mixture of hexadecimal and printable ASCII characters. The example below displays the first 6 bytes of an image file."
   ]
  },
  {
   "cell_type": "code",
   "execution_count": null,
   "id": "996683e2",
   "metadata": {},
   "outputs": [],
   "source": [
    "with open(\"images/tab_stops1.jpg\", \"rb\") as binary_file:\n",
    "    jpg_bytes = binary_file.read(6)\n",
    "print(jpg_bytes)"
   ]
  },
  {
   "cell_type": "markdown",
   "id": "7433cb6e",
   "metadata": {
    "tiedown.cell_index": "cid53"
   },
   "source": [
    "<a name=\"cid53\"></a>\n",
    "Most of the bytes are displayed with two hexadecimal characters preceded by '\\x'. The sixth byte just happens to correspond to the ASCII code for the capital letter 'C'. In such cases Python will display the printable ASCII character instead of the hexadecimal number. This can be useful when a binary file contains segments of text data. Use the `.hex()` method to see all content in hexadecimal."
   ]
  },
  {
   "cell_type": "code",
   "execution_count": null,
   "id": "ba50ff6f",
   "metadata": {},
   "outputs": [],
   "source": [
    "jpg_bytes.hex()"
   ]
  },
  {
   "cell_type": "markdown",
   "id": "0ff8ed26",
   "metadata": {
    "tiedown.cell_index": "cid54"
   },
   "source": [
    "<a name=\"cid54\"></a>\n",
    "By the way, JPEG files always start with the bytes FF and D8."
   ]
  },
  {
   "cell_type": "markdown",
   "id": "25ccf24b",
   "metadata": {
    "tiedown.cell_index": "cid55"
   },
   "source": [
    "<a name=\"cid55\"></a>\n",
    "### B. ASCII\n",
    "\n",
    "#### 1. History and Overview\n",
    "Some form of text encoding has been around since the middle of the 19th century, due to Samuel Morse's invention of the telegraph. One of the first applications of electrical engineering was to build machines that could automate transmission of messages by Morse code, and these machines needed to convert text to and from binary formats. These machines evolved into teletypes (also called teleprinters), which are machines that can send textual information via a phone line or other electrical connections. An early teletype from 1855 is pictured below.\n",
    "\n",
    "![Hughes Teleprinter from 1855](images/1024px-Printing_Telegraph.jpg)\n",
    "\n",
    "Early computer scientists chose to convert encoding systems used for teletypes for use in early computer systems. ASCII, or *American Standard Code for Information Interchange* is an encoding system that was developed in the 1960's, gained widespread use, and was incorporated into many subsequent encoding schemes. ASCII encodes text into 7-bit binary integers and is capable of encoding $2^7$ or 128 different characters.\n",
    "\n",
    "Here is an ASCII chart:\n",
    "```\n",
    "Dec: Encoded character as a decimal (base 10) number\n",
    "Char: The encoded character.\n",
    "\n",
    "Dec  Char                           Dec  Char     Dec  Char     Dec  Char\n",
    "---------                           ---------     ---------     ----------\n",
    "  0  NUL (null)                      32  SPACE     64  @         96  `\n",
    "  1  SOH (start of heading)          33  !         65  A         97  a\n",
    "  2  STX (start of text)             34  \"         66  B         98  b\n",
    "  3  ETX (end of text)               35  #         67  C         99  c\n",
    "  4  EOT (end of transmission)       36  $         68  D        100  d\n",
    "  5  ENQ (enquiry)                   37  %         69  E        101  e\n",
    "  6  ACK (acknowledge)               38  &         70  F        102  f\n",
    "  7  BEL (bell)                      39  '         71  G        103  g\n",
    "  8  BS  (backspace)                 40  (         72  H        104  h\n",
    "  9  TAB (horizontal tab)            41  )         73  I        105  i\n",
    " 10  LF  (NL line feed, new line)    42  *         74  J        106  j\n",
    " 11  VT  (vertical tab)              43  +         75  K        107  k\n",
    " 12  FF  (NP form feed, new page)    44  ,         76  L        108  l\n",
    " 13  CR  (carriage return)           45  -         77  M        109  m\n",
    " 14  SO  (shift out)                 46  .         78  N        110  n\n",
    " 15  SI  (shift in)                  47  /         79  O        111  o\n",
    " 16  DLE (data link escape)          48  0         80  P        112  p\n",
    " 17  DC1 (device control 1)          49  1         81  Q        113  q\n",
    " 18  DC2 (device control 2)          50  2         82  R        114  r\n",
    " 19  DC3 (device control 3)          51  3         83  S        115  s\n",
    " 20  DC4 (device control 4)          52  4         84  T        116  t\n",
    " 21  NAK (negative acknowledge)      53  5         85  U        117  u\n",
    " 22  SYN (synchronous idle)          54  6         86  V        118  v\n",
    " 23  ETB (end of trans. block)       55  7         87  W        119  w\n",
    " 24  CAN (cancel)                    56  8         88  X        120  x\n",
    " 25  EM  (end of medium)             57  9         89  Y        121  y\n",
    " 26  SUB (substitute)                58  :         90  Z        122  z\n",
    " 27  ESC (escape)                    59  ;         91  [        123  {\n",
    " 28  FS  (file separator)            60  <         92  \\        124  |\n",
    " 29  GS  (group separator)           61  =         93  ]        125  }\n",
    " 30  RS  (record separator)          62  >         94  ^        126  ~\n",
    " 31  US  (unit separator)            63  ?         95  _        127  DEL\n",
    "```\n",
    "\n",
    "ASCII was originally designed not for computers but for teletypes, which is why the first 31 characters are control codes, most of which are no longer in common use, or are no longer used for their original purpose. Some of the escape sequences we used in section III correspond to these control codes, including \"\\t\" for the horizontal tab (9) and \"\\n\" for a new line (10). Upper case letters are encoded as the numbers 65 - 90, lowercase as 97 - 122, digits as 48 - 57, with numerous punctuation characters filling in the other spots. A numerical value that is used to represent a character are often called a *code point*.\n",
    "\n",
    "Python provides two built-in functions for extracting the ASCII code that corresponds to a specific character and vise versa: `char()` and `ord()`."
   ]
  },
  {
   "cell_type": "code",
   "execution_count": null,
   "id": "11db2cf2",
   "metadata": {},
   "outputs": [],
   "source": [
    "# Using chr() to convert from ASCII codes to characters\n",
    "for num in [73, 82, 83, 33]:\n",
    "    print(chr(num), sep=\"\", end=\"\")"
   ]
  },
  {
   "cell_type": "code",
   "execution_count": null,
   "id": "c70e6c7c",
   "metadata": {},
   "outputs": [],
   "source": [
    "# Use char to convert from characters to ASCII codes\n",
    "for char in \"!\\\"#\\n123\\tABC abc{}\":\n",
    "    print(char, ord(char))"
   ]
  },
  {
   "cell_type": "markdown",
   "id": "cb641e72",
   "metadata": {
    "tiedown.cell_index": "cid56"
   },
   "source": [
    "<a name=\"cid56\"></a>\n",
    "From the preceding printout, can you see which numbers correspond to the newline, tab, and space characters?"
   ]
  },
  {
   "cell_type": "markdown",
   "id": "d3480721",
   "metadata": {
    "tiedown.cell_index": "cid57"
   },
   "source": [
    "<a name=\"cid57\"></a>\n",
    "#### 2. Why Only 7 Bits?\n",
    "If you were reading closely, you might have noticed that ASCII encodes characters into 7-bit integers. But modern-day computers manage and address memory using bytes, which are eight bits. So why didn't the creators of ASCII just use eight bits for their encoding scheme? There are a couple likely reasons:\n",
    "* Back in the 1960s, communications bandwidth was a minuscule fraction of what it is now. Encoding characters in 8-bit integers would have required more time to send a message between two locations.\n",
    "* It was not obvious in the 1960s that computer systems would all converge on the 8-bit byte as the standard memory unit.\n",
    "\n",
    "Here are a few ASCII codes in displayed in binary. Count the number of digits -- you'll see that there are only seven."
   ]
  },
  {
   "cell_type": "code",
   "execution_count": null,
   "id": "dd1e1146",
   "metadata": {},
   "outputs": [],
   "source": [
    "for char in \"ABC\":\n",
    "    print(f\"{char}:\\t{ord(char):b}\")"
   ]
  },
  {
   "cell_type": "markdown",
   "id": "6603d0f7",
   "metadata": {
    "tiedown.cell_index": "cid58"
   },
   "source": [
    "<a name=\"cid58\"></a>\n",
    "### C. 8-Bit Encodings\n",
    "By the 1980s, even though ASCII required only 7-bits to encode a character, most computers used a full byte to store each character. Computer and software companies could have just set the first, most significant bit to 0, but instead they added another 128 characters and created an 8-bit encoding scheme. The first 128 characters were identical to ASCII, with a zero in the most significant bit, and the new characters all had a one in the most significant bit. The most common 8-bit encoding scheme is CP1252. Microsoft created the CP1252 encoding scheme for the first version of Microsoft Windows, which was released in 1985. CP1252 added additional characters for other Western European languages, like æ and ü. CP1252 can be used for Danish, Finnish, French, Norwegian, Portuguese, and many other languages. You might also come across an encoding called ISO 8859-1, which is almost identical to CP1252.\n",
    "\n",
    "If you are using a windows computer, it's likely that CP1252 is the default text encoding. Run the following code cell to see your system's preferred encoding."
   ]
  },
  {
   "cell_type": "code",
   "execution_count": null,
   "id": "f0abc234",
   "metadata": {},
   "outputs": [],
   "source": [
    "# Get the default encoding for your system\n",
    "import locale\n",
    "print(\"Default Text Encoding:\", locale.getpreferredencoding())"
   ]
  },
  {
   "cell_type": "markdown",
   "id": "f244a075",
   "metadata": {
    "tiedown.cell_index": "cid59"
   },
   "source": [
    "<a name=\"cid59\"></a>\n",
    "If you are running this notebook on a Linux or iOS operating system, then the default encoding should be UTF-8, which we will discuss momentarily."
   ]
  },
  {
   "cell_type": "markdown",
   "id": "21813f9b",
   "metadata": {
    "tiedown.cell_index": "cid60"
   },
   "source": [
    "<a name=\"cid60\"></a>\n",
    "### D. Unicode\n",
    "#### 1. The Unicode Standard\n",
    "There are a whole lot of people in the world that speak languages that cannot be represented with ASCII, CP1252, or ISO 8859-1. Wouldn't it be great if there was one text encoding scheme that could handle all of the world's languages? We're in luck! The Unicode standard, which was released in the early 1990s, allows up to 1,114,111 different characters and symbols to be encoded. That's enough to cover all of the European languages including Greek and Russian, Chinese, Japanese, Korean, Devanagari, and much more. Currently, only 143,696 of the possible characters and symbols have been defined. Each character has been mapped to a different code point (i.e., integer). Conveniently the characters corresponding to the code points 0 through 127 are the same for ASCII and Unicode, so ASCII text can be read as Unicode.\n",
    "\n",
    "Python 3 (but not Python 2) is fully compatible with Unicode. Use the `\"\\uxxxx\"` escape sequence in a literal string, where `xxxx` is the Unicode code point in hexadecimal notation that corresponds to the desired character. For code points with more than four hexadecimal digits, use the `\\Uxxxxxxxx` escape sequence. All four or all eight digits must be specified in the escape sequence, so add zeros to the front of the number as needed. All Unicode characters have string names, so you can also print the character with the escape sequence `\\N{character name}`. Here are some examples:"
   ]
  },
  {
   "cell_type": "code",
   "execution_count": null,
   "id": "15a7b953",
   "metadata": {},
   "outputs": [],
   "source": [
    "# Unicode examples\n",
    "print(\"Hello!:\", \"\\u3053\\u3093\\u306B\\u3061\\u306f\")\n",
    "print(\"Helpful for card games:\", \"\\u2666 \\u2663 \\u2665 \\u2660\")\n",
    "print(\"Chess anyone?\", \"\\u2654 \\u265F\")\n",
    "print(\"Unicode has emojis? Are you kidding me?\", \"\\N{smirking face} \\N{grinning face} \\U0001F44D\")\n",
    "print(\"Math Symbols: \\N{integral} \\N{partial differential}x\\\\\\N{partial differential}y, \\U0001D6BA\")\n",
    "print(\"STEM Stuff: \\N{rocket} \\N{microscope} \\N{robot face} \")"
   ]
  },
  {
   "cell_type": "markdown",
   "id": "d1c92183",
   "metadata": {
    "tiedown.cell_index": "cid61"
   },
   "source": [
    "<a name=\"cid61\"></a>\n",
    "There are several websites where you can look up the code for any Unicode character. http://unicode-table.com is one such site. Or you can download PDF Unicode charts from http://https://unicode.org/charts/."
   ]
  },
  {
   "cell_type": "markdown",
   "id": "552b9362",
   "metadata": {
    "tiedown.cell_index": "cid62"
   },
   "source": [
    "<a name=\"cid62\"></a>\n",
    "#### 2. Unicode Encodings: UTF-8, UTF-16, and UTF-32\n",
    "Technically Unicode is not an encoding, it's an abstract encoding standard. It maps characters to code points but it does not specify how the integers should be represented as bytes. UTF-8, UTF-16, and UTF-32 are encoding standards that specify a binary encoding for each Unicode code point. UTF-8 is by far the most frequently used and is a good encoding standard to use by default. It's a variable-length standard that generally uses one, two, three, or four bytes to represent a character (but uses more in some situations). UTF-16 is similar to UTF-8, but it uses between two and four bytes to encode a character. UTF-32 generally uses four bytes for each character.\n",
    "\n",
    "So if UTF-8 can use different numbers of bytes to represent a single character, how does Python or any other software know where one character stops and the next character begins within a stream of bytes? It's actually quite simple. The first few bits of the first byte specify how many bytes are used. The following table shows the number of bytes used for specific ranges of code points. The table also shows the bit-by-bit structure of each byte. Bits represented with a 1 or a 0 are always a 1 or a 0 respectively. Bits represented with an x can be either a 1 or a 0.\n",
    "\n",
    "| First code point | Last code point |   Byte 1 |   Byte 2 |   Byte 3 |   Byte 4 |\n",
    "|------------------|-----------------|----------|----------|----------|----------|\n",
    "|           U+0000 |          U+007F | 0xxxxxxx |    n/a   |    n/a   |   n/a    |\n",
    "|           U+0080 |          U+07FF | 110xxxxx | 10xxxxxx |    n/a   |   n/a    |\n",
    "|           U+0800 |          U+FFFF | 1110xxxx | 10xxxxxx | 10xxxxxx |   n/a    |\n",
    "|         U+100000 |        U+10FFFF | 11110xxx | 10xxxxxx | 10xxxxxx | 10xxxxxx |\n",
    "\n",
    "* A byte with a 0 for the most significant bit always specifies a single-byte character, with the code point contained in the following seven bits.\n",
    "* A byte that starts with 10 is never the first byte of a character -- it's always a continuation byte.\n",
    "* A byte that starts with 110 is always the first byte of a two-byte character, which leaves 11 bits to encode the code point (five in the first byte, and six in the second).\n",
    "* A byte that starts with 1110 is always the first byte of a three-byte character, which leaves 16 bits for the code point.\n",
    "* A byte that starts with 11110 is always the first byte of a four-byte character, which leaves 21 bits for the code point.\n",
    "\n",
    "A string object's `.encode()` method can be used to convert a string to a sequence of bytes. Different encodings for the letter 'A' are displayed below."
   ]
  },
  {
   "cell_type": "code",
   "execution_count": null,
   "id": "5e7baed3",
   "metadata": {},
   "outputs": [],
   "source": [
    "# Single Byte Encodings\n",
    "print(\"A in ASCII: \", \"A\".encode(\"ASCII\"))\n",
    "print(\"A in UTF-8: \", \"A\".encode(\"UTF8\"))\n",
    "print(\"A in CP1252:\", \"A\".encode(\"CP1252\"))\n",
    "\n",
    "# Multi Byte Encodings\n",
    "print(\"A in UTF-16:\", \"A\".encode(\"UTF-16-LE\"))\n",
    "print(\"A in UTF-32:\", \"A\".encode(\"UTF-32-LE\"))"
   ]
  },
  {
   "cell_type": "markdown",
   "id": "d277865a",
   "metadata": {
    "tiedown.cell_index": "cid63"
   },
   "source": [
    "<a name=\"cid63\"></a>\n",
    "### E. Exercises\n",
    "#### 1. Number Conversions\n",
    "Convert the numbers as specified. Do the conversions manually - don't use Python."
   ]
  },
  {
   "cell_type": "code",
   "execution_count": null,
   "id": "5e2b373e",
   "metadata": {},
   "outputs": [],
   "source": [
    "# Convert the following hexadecimal digits to four-digit binary numbers, i.e., 1 would be converted to 0001. \n",
    "  # 3: \n",
    "  # 4:\n",
    "  # 9:\n",
    "  # B:\n",
    "  # E:\n",
    "  # F:\n",
    "\n",
    "# Convert the following decimal numbers to hexadecimal:\n",
    "  # 12:\n",
    "  # 15:\n",
    "  # 16:\n",
    "  # 32:\n",
    "  # 99:\n",
    "  # 186\n",
    "  # 254\n",
    "    \n",
    "# Convert the following hexadecimal numbers to decimal\n",
    "  # 80\n",
    "  # AA\n",
    "  # DF\n",
    "  # BAD"
   ]
  },
  {
   "cell_type": "markdown",
   "id": "31259dc1",
   "metadata": {
    "tiedown.cell_index": "cid64"
   },
   "source": [
    "<a name=\"cid64\"></a>\n",
    "#### 2. The `chr()` Function \n",
    "1. Use a list comprehension, the built-in `chr()` function, and the `.join()` method to convert the list of integers into a readable string.\n",
    "* Hint: You can call `.join()` on an empty string, i.e., `\"\"`.\n",
    "2. Compare the first few characters of the output string to the ASCII chart above. Do the integers in the list match up with the ASCII chart?\n",
    "3. There is one non-ASCII character in the text. Can you find it? What is it?\n",
    "4. Convert the decimal code point from part 3 to Hexadecimal. Look up the code point online. What is the official Unicode name of the non-ASCII character.\n",
    "    Hint: It's easy to look up Unicode code points online. But remember, the code points below are all decimal. If you type a decimal code point into a search tool that expects hexadecimal numbers, you might get the wrong answer."
   ]
  },
  {
   "cell_type": "code",
   "execution_count": null,
   "id": "65c351d2",
   "metadata": {},
   "outputs": [],
   "source": [
    "int_list = [34, 65, 110, 121, 32, 102, 111, 111, 108, 32, 99, 97, 110, 32, 119, 114, 105, 116, 101, 32, 99, 111, 100,\n",
    "            101, 32, 116, 104, 97, 116, 32, 97, 32, 99, 111, 109, 112, 117, 116, 101, 114, 32, 99, 97, 110, 32, 117,\n",
    "            110, 100, 101, 114, 115, 116, 97, 110, 100, 46, 32, 71, 111, 111, 100, 32, 112, 114, 111, 103, 114, 97,\n",
    "            109, 109, 101, 114, 115, 32, 119, 114, 105, 116, 101, 32, 99, 111, 100, 101, 32, 116, 104, 97, 116, 32,\n",
    "            104, 117, 109, 97, 110, 115, 32, 99, 97, 110, 32, 117, 110, 100, 101, 114, 115, 116, 97, 110, 100, 46, 34,\n",
    "            32, 8211, 32, 77, 97, 114, 116, 105, 110, 32, 70, 111, 119, 108, 101, 114]\n",
    "\n"
   ]
  },
  {
   "cell_type": "markdown",
   "id": "c6c47551",
   "metadata": {
    "tiedown.cell_index": "cid65"
   },
   "source": [
    "<a name=\"cid65\"></a>\n",
    "#### 3. Look Up Code Points Online\n",
    "Use an online Unicode code point lookup tool to display the Unicode characters named below. Use the escape sequences for code points, either `\"\\Uxxxxxxx\"` or `\"\\uxxxx\"`."
   ]
  },
  {
   "cell_type": "code",
   "execution_count": null,
   "id": "ee3679ff",
   "metadata": {},
   "outputs": [],
   "source": [
    "  # A. Display symbols for DNA, a wrench, a roll of toilet paper, and a water pistol\n",
    "\n",
    "\n",
    "  # B. Display the following uppercase letters: Greek letter Sigma, the Russion letter Ya (the backwards R), and A in Devanagari script.\n",
    "\n"
   ]
  },
  {
   "cell_type": "markdown",
   "id": "42a6686c",
   "metadata": {
    "tiedown.cell_index": "cid66"
   },
   "source": [
    "<a name=\"cid66\"></a>\n",
    "#### 4. Music Symbols\n",
    "Display the UTF-8 byte sequence in binary and hexadecimal notation for the symbol named *MUSICAL SYMBOL QUARTER NOTE*. Refer to the UTF-8 encoding table above."
   ]
  },
  {
   "cell_type": "code",
   "execution_count": null,
   "id": "ba5324f8",
   "metadata": {},
   "outputs": [],
   "source": [
    "# Music Symbols Exercise\n",
    "\n"
   ]
  },
  {
   "cell_type": "markdown",
   "id": "49dc9a77",
   "metadata": {
    "tiedown.cell_index": "cid67"
   },
   "source": [
    "<a name=\"cid67\"></a>\n",
    "## VI. String Methods\n",
    "Python string objects provide several methods that are useful for manipulating text. The official documentation for Python's string methods is here: https://docs.python.org/3/library/stdtypes.html#text-sequence-type-str\n",
    " \n",
    "This section provides examples of many of Python's string methods, but not all. Check the documentation to see all available string methods.\n",
    "\n",
    "### A. String Slicing\n",
    "OK, string slicing doesn't use methods, but we'll review it in this section anyway. Unlike Python, it's typical in other programming languages, such as R, Java, Javascript, Swift, and C#, to use functions or methods to extract substrings. As we discussed way back in session 1, one can extract sub-strings using integer indexes, similar to how elements are extracted from lists. In Python, a set of start, stop and step indices that are joined with a colon (e.g., `27:20:-1`) is called a slice."
   ]
  },
  {
   "cell_type": "code",
   "execution_count": null,
   "id": "daa81aff",
   "metadata": {},
   "outputs": [],
   "source": [
    "phrase = \"The good thing about Science is that it's true whether or not you believe in it.\"\n",
    "\n",
    "print(\"First character:\\t\", phrase[0])\n",
    "print(\"Last character:\\t\\t\", phrase[-1])\n",
    "print(\"First 14 characters:\\t\", phrase[:14])\n",
    "print(\"Last 14 characters:\\t\", phrase[-14:])\n",
    "print(\"Word from the middle:\\t\", phrase[21:28])\n",
    "print(\"Backwords word:\\t\\t\", phrase[27:20:-1])\n",
    "print(\"Every third character:\", phrase[::3])\n",
    "print()\n",
    "print(\"Quotation by Neil deGrasse Tyson\")"
   ]
  },
  {
   "cell_type": "markdown",
   "id": "1e6d1246",
   "metadata": {
    "tiedown.cell_index": "cid68"
   },
   "source": [
    "<a name=\"cid68\"></a>\n",
    "### B. Case Methods\n",
    "There are several methods for converting between upper and lower case. The `.casefold()` method is similar to `.lower()` and is used to compare strings in such a way that two strings will be considered equal if they differ only by case. Some languages other than English have case distinctions that are not handled correctly by the `.lower(0` method."
   ]
  },
  {
   "cell_type": "code",
   "execution_count": null,
   "id": "d7db5dd6",
   "metadata": {},
   "outputs": [],
   "source": [
    "print(\"Original phrase:\\t\\t\", phrase)\n",
    "print(\"Swapped case:\\t\\t\\t\", phrase.swapcase())\n",
    "print(\"Upper case:\\t\\t\\t\", phrase.upper())\n",
    "print(\"Lower case:\\t\\t\\t\", phrase.lower())\n",
    "print(\"Casefold:\\t\\t\\t\", phrase.casefold())\n",
    "print(\"Title case:\\t\\t\\t\", phrase.title())\n",
    "print(\"Capitalize first letter:\\t\", \"capitalized phrase.\".capitalize())"
   ]
  },
  {
   "cell_type": "markdown",
   "id": "6349f7ce",
   "metadata": {
    "tiedown.cell_index": "cid69"
   },
   "source": [
    "<a name=\"cid69\"></a>\n",
    "### C. Alignment Methods\n",
    "The string methods `.ljust()`, `.center()`, and `.rjust()` can be used to pad strings with spaces on the left or right side, or both. The first parameter for these methods is the desired length of the padded string. We'll use these methods to format some data into a table with left justified, centered, and right justified columns."
   ]
  },
  {
   "cell_type": "code",
   "execution_count": null,
   "id": "903b92e4",
   "metadata": {},
   "outputs": [],
   "source": [
    "colors = [(\"lavender\", 0xE6E6FA, (230, 230, 250)),  (\"thistle\", 0xD8BFD8, (216, 191, 216)), (\"plum\", 0xDDA0DD, (221, 160, 22)),\n",
    "          (\"violet\", 0xEE82EE, (238, 130, 238)), (\"orchid\", 0xDA70D6, (218, 112, 214)), (\"fuchsia\", 0xFF00FF, (255, 0, 255)),\n",
    "          (\"magenta\", 0xFF00FF, (255, 0, 255)), (\"mediumorchid\", 0xBA55D3, (186, 85, 211)), (\"mediumpurple\", 0x9370DB, (147, 112, 219)),\n",
    "          (\"blueviolet\", 0x8A2BE2, (138, 43, 226)), (\"darkviolet\", 0x9400D3, (148, 0, 211)), (\"darkorchid\", 0x9932CC, (153, 50, 204)),\n",
    "          (\"darkmagenta\", 0x8B008B, (139, 0, 139)), (\"purple\", 0x800080, (128, 0, 128)), (\"indigo\", 0x4B0082, (75, 0, 130))]"
   ]
  },
  {
   "cell_type": "code",
   "execution_count": null,
   "id": "8ad5441e",
   "metadata": {},
   "outputs": [],
   "source": [
    "# Use .ljust(), .center(), and .rjust() string methods to display a table\n",
    "\n",
    "# Print Column Headers\n",
    "print(\"HTML / CSS Name\".rjust(15),\n",
    "      \"RGB Values\".center(20),\n",
    "      \"Hex Code\".ljust(12),\n",
    "      sep = \" | \")\n",
    "print(\"-\"*15, \"-\"*20, \"-\"*12, sep = \"-|-\")\n",
    "\n",
    "# Print Each Row\n",
    "for color in colors:\n",
    "    print(color[0].rjust(15),\n",
    "          str(color[2]).center(20),\n",
    "          f\"{color[1]:x}\".ljust(12),\n",
    "          sep = \" | \")"
   ]
  },
  {
   "cell_type": "markdown",
   "id": "b470b065",
   "metadata": {
    "tiedown.cell_index": "cid70"
   },
   "source": [
    "<a name=\"cid70\"></a>\n",
    "### D. Finding and Replacing Sub-strings\n",
    "The string methods `.find()`, `.rfind()`, `.startswith()`, `.endswith()`, and `.count()` can be used to check for occurrences of a substring within a larger string."
   ]
  },
  {
   "cell_type": "code",
   "execution_count": null,
   "id": "aca73b41",
   "metadata": {},
   "outputs": [],
   "source": [
    "verse3 = \"\"\"\n",
    "That robot seemed relentless \n",
    "as it tied our socks in knots, \n",
    "then clunked into the kitchen \n",
    "and dismantled pans and pots, \n",
    "the thing was not behaving \n",
    "in the fashion we had planned. \n",
    "it clanked into the bathroom \n",
    "and it filled the tub with sand.\"\"\"\n",
    "\n",
    "# Return the position of the first occurence of a substring\n",
    "#   within a larger string\n",
    "print(\"Position of 'robot':\", verse3.find(\"robot\"))\n",
    "print(\"First position of 'it':\", verse3.find(\"it\"))\n",
    "print(\"Last position of 'it':\", verse3.rfind(\"it\"))\n",
    "print()\n",
    "\n",
    "# Check start and end of string\n",
    "print(\"Does string start with \\\\n?:\", verse3.startswith(\"\\n\"))\n",
    "print(\"Does string end with 'Sand.'?:\", verse3.endswith(\"Sand.\"))\n",
    "print()\n",
    "\n",
    "# Count occurences of a substring\n",
    "print(\"Number of occurences of 'in':\", verse3.count(\"in\"))\n",
    "print(\"Number of occurences of 'Kraken':\", verse3.count(\"Kraken\"))"
   ]
  },
  {
   "cell_type": "markdown",
   "id": "ea74b1dd",
   "metadata": {
    "tiedown.cell_index": "cid71"
   },
   "source": [
    "<a name=\"cid71\"></a>\n",
    "The `.replace()` method replaces all occurrences of a substring with whatever string is specified."
   ]
  },
  {
   "cell_type": "code",
   "execution_count": null,
   "id": "0bc29815",
   "metadata": {},
   "outputs": [],
   "source": [
    "# Replacing substrings\n",
    "print(verse3.replace(\" it \", \" Ultron \"))"
   ]
  },
  {
   "cell_type": "markdown",
   "id": "d3c3f1c1",
   "metadata": {
    "tiedown.cell_index": "cid72"
   },
   "source": [
    "<a name=\"cid72\"></a>\n",
    "### E. Splitting and Joining Strings\n",
    "The `.split()` method splits a string into a list of substrings. In natural language processing, splitting a string into words is called tokenization. The `.join()` method joins all of the strings in a list into a single string, using a separator character specified by the user.f"
   ]
  },
  {
   "cell_type": "code",
   "execution_count": null,
   "id": "758add96",
   "metadata": {},
   "outputs": [],
   "source": [
    "# Split string into a list of individual words\n",
    "print(\"Words in verse 3 of 'My Brother Build a Robot'\")\n",
    "v3_words = verse3.split()\n",
    "print(v3_words)\n",
    "print()\n",
    "\n",
    "print(\"Number of words in verse 3:\", len(v3_words))\n",
    "print(\"Number of unique words:\", len(set(v3_words)))\n",
    "\n",
    "# Rejoin words with different puncuation\n",
    "\"...\".join(v3_words)"
   ]
  },
  {
   "cell_type": "markdown",
   "id": "ee15cb8a",
   "metadata": {
    "tiedown.cell_index": "cid73"
   },
   "source": [
    "<a name=\"cid73\"></a>\n",
    "The `.splitlines()` method splits a string into separate lines, breaking the string at the newline character, carriage return, and a few other characters. Check the documentation for the complete list."
   ]
  },
  {
   "cell_type": "code",
   "execution_count": null,
   "id": "7c3802ea",
   "metadata": {},
   "outputs": [],
   "source": [
    "# Splitting a character into lines\n",
    "verse3.splitlines()"
   ]
  },
  {
   "cell_type": "markdown",
   "id": "74bd6c7a",
   "metadata": {
    "tiedown.cell_index": "cid74"
   },
   "source": [
    "<a name=\"cid74\"></a>\n",
    "### F. F. Dealing with White Space\n",
    "The `.lstrip()` method removes whitespace or other characters from the beginning of a string. The `.rstrip()` method removes whitespace from the end, and `.strip()` removes whitespace from both ends."
   ]
  },
  {
   "cell_type": "code",
   "execution_count": null,
   "id": "d4562775",
   "metadata": {},
   "outputs": [],
   "source": [
    "# Stripping Whitespace\n",
    "\"\\t\\t  Stripping Whitespace! \\n  \\n\".strip()"
   ]
  },
  {
   "cell_type": "markdown",
   "id": "7eff064d",
   "metadata": {
    "tiedown.cell_index": "cid75"
   },
   "source": [
    "<a name=\"cid75\"></a>\n",
    "### G. Testing Strings\n",
    "Python provides several methods that will test if a string meets certain conditions, like if it contains only digits, alphanumeric characters, etc. The methods return either `True` or `False`."
   ]
  },
  {
   "cell_type": "code",
   "execution_count": null,
   "id": "9c3ed41a",
   "metadata": {},
   "outputs": [],
   "source": [
    "# Check if a string consists only of letters and numbers\n",
    "print(\"Is verse 3 completely alphanumeric?\".ljust(40), verse3.isalnum())\n",
    "print(\"Is 'verse3' alphanumeric:\".ljust(40), \"verse3\".isalnum())\n",
    "print()\n",
    "print(\"Does '3.14159' contain only digits?\".ljust(40), \"3.14159\".isdigit())\n",
    "print(\"Is '1318' numeric?\".ljust(40), \"1318\".isnumeric())\n",
    "print()\n",
    "print(\"IS THIS UPPERCASE?\".ljust(40), \"IS THIS UPPERCASE?\".isupper())"
   ]
  },
  {
   "cell_type": "markdown",
   "id": "5e5b63e8",
   "metadata": {
    "tiedown.cell_index": "cid76"
   },
   "source": [
    "<a name=\"cid76\"></a>\n",
    "### H. String Constants\n",
    "As documented in https://docs.python.org/3/library/string.html, the string class provides several constants that can come in handy. A few examples are shown below."
   ]
  },
  {
   "cell_type": "code",
   "execution_count": null,
   "id": "3d516e9c",
   "metadata": {},
   "outputs": [],
   "source": [
    "import string\n",
    "print(\"ASCII Letters:\", string.ascii_letters)\n",
    "print(\"ASCII Lowercase:\", string.ascii_lowercase)\n",
    "print(\"Hex Digits:\", string.hexdigits)\n",
    "print(\"Punctuation Symbols\", string.punctuation)"
   ]
  },
  {
   "cell_type": "markdown",
   "id": "60d3e6da",
   "metadata": {
    "tiedown.cell_index": "cid77"
   },
   "source": [
    "<a name=\"cid77\"></a>\n",
    "### I. Exercises"
   ]
  },
  {
   "cell_type": "markdown",
   "id": "ad6ad132",
   "metadata": {
    "tiedown.cell_index": "cid78"
   },
   "source": [
    "<a name=\"cid78\"></a>\n",
    "#### 1. Valid Passwords\n",
    "For security reasons, companies usually set minimum length and complexity requirements for passwords used to log into accounts. Write a function that uses string slicing and string methods, and checks whether a string meets the following password requirements:\n",
    "* At least two characters must be upper case\n",
    "* At least two characters must be lower case\n",
    "* At least two characters must be the punctuation symbols\n",
    "* At least two characters must be digits\n",
    "* The password must be between 8 and 20 characters long\n",
    "\n",
    "The function should return True or False."
   ]
  },
  {
   "cell_type": "code",
   "execution_count": null,
   "id": "31915673",
   "metadata": {},
   "outputs": [],
   "source": [
    "# Valid Passwords Exercise\n",
    "\n",
    "def check_pwd(pwd):\n",
    "    # Fill in the rest of the function here.\n",
    "    \n",
    "\n",
    "# Test the function by running this statement.\n",
    "# Results should be True True True False False False\n",
    "print(check_pwd(\"A\\u042Fbb99{}\"), check_pwd(\"ABcd56()\"), check_pwd(\"ABc\\u03C356!'\"),\n",
    "     check_pwd(\"ABcd56%&....................\"), check_pwd(\"ABc56()\"), check_pwd(\"ABcd56*\"))"
   ]
  },
  {
   "cell_type": "markdown",
   "id": "bbfd1408",
   "metadata": {
    "tiedown.cell_index": "cid79"
   },
   "source": [
    "<a name=\"cid79\"></a>\n",
    "#### 2. Print a Table\n",
    "There is a json file that contains a match schedule for a robotics competition at `data/wasno2020.json`.\n",
    "1. Use the `json` module to read the data from the file.\n",
    "2. Print a table with 3 columns, one for the match number, one for the red alliance teams, and one for the blue alliance teams.\n",
    "3. The table should have column labels.\n",
    "4. The data in each column should be padded to the same width and have consistent alignment (left, right, or center)."
   ]
  },
  {
   "cell_type": "code",
   "execution_count": null,
   "id": "d60beb88",
   "metadata": {},
   "outputs": [],
   "source": [
    "# Ex Print a Table Exercise\n",
    "\n"
   ]
  },
  {
   "cell_type": "markdown",
   "id": "1fa4a3aa",
   "metadata": {
    "tiedown.cell_index": "cid80"
   },
   "source": [
    "<a name=\"cid80\"></a>\n",
    "#### 3. Capitalize First Letters\n",
    "Capitalize the first letter of each line in the verse below.\n",
    "* Consider using the `.splitlines()` and `.join()` methods."
   ]
  },
  {
   "cell_type": "code",
   "execution_count": null,
   "id": "21b7edda",
   "metadata": {},
   "outputs": [],
   "source": [
    "# Capitalize First Letters\n",
    "v4 = \"\"\"\n",
    "We tried to disconnect it, \n",
    "but it was to no avail, \n",
    "it picked us up and dropped us \n",
    "in an empty garbage pail, \n",
    "we cannot stop that robot, \n",
    "for we’re stymied by one hitch…. \n",
    "my brother didn’t bother \n",
    "to equip it with a switch.\n",
    "\"\"\"\n"
   ]
  },
  {
   "cell_type": "markdown",
   "id": "9e54ca3e",
   "metadata": {
    "tiedown.cell_index": "cid81"
   },
   "source": [
    "<a name=\"cid81\"></a>\n",
    "#### 4. Replacing Text\n",
    "Replace the word \"robot\" in the verse from exercise VI.3 with \"machine\"."
   ]
  },
  {
   "cell_type": "code",
   "execution_count": null,
   "id": "1f171981",
   "metadata": {},
   "outputs": [],
   "source": [
    "# Exercise: Replacing Text\n",
    "\n"
   ]
  },
  {
   "cell_type": "markdown",
   "id": "4f8410cd",
   "metadata": {
    "tiedown.cell_index": "cid82"
   },
   "source": [
    "<a name=\"cid82\"></a>\n",
    "## VII. VII. Quiz\n",
    "Answer the following questions by typing the answers as comments in the code block below each question."
   ]
  },
  {
   "cell_type": "markdown",
   "id": "10d27433",
   "metadata": {
    "tiedown.cell_index": "cid83"
   },
   "source": [
    "<a name=\"cid83\"></a>\n",
    "**#1.** Why does the line below throw an error? How code it be fixed?  \n",
    "`print(\"The cube of 5 is \" + 5**3)`"
   ]
  },
  {
   "cell_type": "code",
   "execution_count": null,
   "id": "73cb52cf",
   "metadata": {},
   "outputs": [],
   "source": [
    "# Q.1\n",
    "\n"
   ]
  },
  {
   "cell_type": "markdown",
   "id": "ce351209",
   "metadata": {
    "tiedown.cell_index": "cid84"
   },
   "source": [
    "<a name=\"cid84\"></a>\n",
    "**#2.** Most of the world's languages can be represented with two-byte Unicode sequences. What is the maximum number of code points that could be encoded with a two byte sequence?"
   ]
  },
  {
   "cell_type": "code",
   "execution_count": null,
   "id": "8942b00f",
   "metadata": {},
   "outputs": [],
   "source": [
    "# Q.2\n",
    "\n"
   ]
  },
  {
   "cell_type": "markdown",
   "id": "a870021d",
   "metadata": {
    "tiedown.cell_index": "cid85"
   },
   "source": [
    "<a name=\"cid85\"></a>\n",
    "**#3.** What are some common whitespace characters? How can you remove whitespace characters from both ends of a string?"
   ]
  },
  {
   "cell_type": "code",
   "execution_count": null,
   "id": "113eb90d",
   "metadata": {},
   "outputs": [],
   "source": [
    "# Q.3\n",
    "\n"
   ]
  },
  {
   "cell_type": "markdown",
   "id": "c0a8ee58",
   "metadata": {
    "tiedown.cell_index": "cid86"
   },
   "source": [
    "<a name=\"cid86\"></a>\n",
    "**#4.** What do the following format strings print, exactly? Try to figure it out without running it.\n",
    "\n",
    "  A. `f\"{1/3:.3%}\"`  \n",
    "  B. `f\"{1000**2:.3E}\"`  \n",
    "  C. `f\"{1318:x}\"`\n",
    "  D. `f\"|{5**3:^7}|\"`"
   ]
  },
  {
   "cell_type": "code",
   "execution_count": null,
   "id": "1b99cb20",
   "metadata": {},
   "outputs": [],
   "source": [
    "# Q.4\n",
    "\n"
   ]
  },
  {
   "cell_type": "markdown",
   "id": "65f0a28a",
   "metadata": {
    "tiedown.cell_index": "cid87"
   },
   "source": [
    "<a name=\"cid87\"></a>\n",
    "**#5.** The `.center()`, `.ljust()`, and `.rjust()` string methods all take a second, optional parameter? What is this parameter for? Refer to the [Python Standard Library documentation](https://docs.python.org/3/library/index.html) to answer this question. Look in *Built-in Types->Text Sequence Type*."
   ]
  },
  {
   "cell_type": "code",
   "execution_count": null,
   "id": "14a8f443",
   "metadata": {},
   "outputs": [],
   "source": [
    "# Q.5\n",
    "\n"
   ]
  },
  {
   "cell_type": "markdown",
   "id": "e113a8e7",
   "metadata": {
    "tiedown.cell_index": "cid88"
   },
   "source": [
    "<a name=\"cid88\"></a>\n",
    "**#6.** The `.strip()` string method has two optional, named arguments. What are they named and what do they do? Refer to the [Python Standard Library documentation](https://docs.python.org/3/library/index.html) to answer this question."
   ]
  },
  {
   "cell_type": "code",
   "execution_count": null,
   "id": "c1a059ea",
   "metadata": {},
   "outputs": [],
   "source": [
    "# Q.6\n",
    "\n"
   ]
  },
  {
   "cell_type": "markdown",
   "id": "1e485208",
   "metadata": {
    "tiedown.cell_index": "cid89"
   },
   "source": [
    "<a name=\"cid89\"></a>\n",
    "**#7.** The `.find()` string method has two optional, named arguments. What are they named and what do they do? Refer to the Python Standard Library documentation to answer this question."
   ]
  },
  {
   "cell_type": "code",
   "execution_count": null,
   "id": "5b0044a3",
   "metadata": {},
   "outputs": [],
   "source": [
    "# Q.7\n",
    "\n"
   ]
  },
  {
   "cell_type": "markdown",
   "id": "c8528832",
   "metadata": {
    "tiedown.cell_index": "cid90"
   },
   "source": [
    "<a name=\"cid90\"></a>\n",
    "## VIII. Save Your Work\n",
    "Once you have completed the exercises, save a copy of the notebook outside of the git repository (outside of the *pyclass_frc* folder). Include your name in the file name. Send the notebook file to another student to check your answers."
   ]
  },
  {
   "cell_type": "markdown",
   "id": "caf48df5",
   "metadata": {
    "tiedown.cell_index": "cid91"
   },
   "source": [
    "<a name=\"cid91\"></a>\n",
    "## IX. Concept and Terminology Review\n",
    "You should be able to define the following terms or describe the concept.\n",
    "* Escape sequences\n",
    "* Multi-line strings\n",
    "* Raw strings\n",
    "* Newline character\n",
    "* Tab character\n",
    "* String concatenation\n",
    "* F-strings\n",
    "* `.format()` method\n",
    "* Format specifications\n",
    "* `.join()` method\n",
    "* Binary numbers\n",
    "* Octal numbers\n",
    "* Hexadecimal numbers\n",
    "* ASCII\n",
    "* Unicode\n",
    "* UTF-8, UTF-16, and UTF-32\n",
    "* String slicing\n",
    "* String methods\n",
    "* String constants"
   ]
  },
  {
   "cell_type": "markdown",
   "id": "6d6e118c-eef8-4c5d-ae5f-482ab439dbc4",
   "metadata": {
    "tiedown.cell_index": "cid92"
   },
   "source": [
    "<a name=\"cid92\"></a>\n",
    "Prev: [Python Modules and Import Statments](../13_modules/modules.ipynb) | [Table of Contents](../toc.ipynb) | Next:"
   ]
  }
 ],
 "metadata": {
  "kernelspec": {
   "display_name": "Python 3 (ipykernel)",
   "language": "python",
   "name": "python3"
  },
  "tiedown.toc_index": 13
 },
 "nbformat": 4,
 "nbformat_minor": 5
}
