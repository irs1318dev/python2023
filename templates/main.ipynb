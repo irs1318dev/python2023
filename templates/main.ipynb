{
 "cells": [
  {
   "cell_type": "raw",
   "id": "16092e0c-a666-49cd-9ca6-cfeaba2effe9",
   "metadata": {},
   "source": [
    "outline: .I.A.1.a"
   ]
  },
  {
   "cell_type": "markdown",
   "id": "1783cff3-7acc-4f5a-b85b-a0f26b1c5b0e",
   "metadata": {},
   "source": [
    "[Table of Contents]({{ rel_path: toc }})"
   ]
  },
  {
   "cell_type": "raw",
   "id": "eea7ab12-f56d-4044-b7b3-ebb6f6a2fa4a",
   "metadata": {},
   "source": [
    "insert: content"
   ]
  },
  {
   "cell_type": "markdown",
   "id": "6d6e118c-eef8-4c5d-ae5f-482ab439dbc4",
   "metadata": {},
   "source": [
    "[Table of Contents]({{ rel_path: toc }})"
   ]
  },
  {
   "cell_type": "code",
   "execution_count": null,
   "id": "68a722af-b8bc-48f0-aed2-14ba2741428a",
   "metadata": {},
   "outputs": [],
   "source": []
  }
 ],
 "metadata": {
  "kernelspec": {
   "display_name": "Python 3 (ipykernel)",
   "language": "python",
   "name": "python3"
  },
  "language_info": {
   "codemirror_mode": {
    "name": "ipython",
    "version": 3
   },
   "file_extension": ".py",
   "mimetype": "text/x-python",
   "name": "python",
   "nbconvert_exporter": "python",
   "pygments_lexer": "ipython3",
   "version": "3.9.7"
  }
 },
 "nbformat": 4,
 "nbformat_minor": 5
}
